{
 "cells": [
  {
   "cell_type": "markdown",
   "metadata": {},
   "source": [
    "# Necessary imports"
   ]
  },
  {
   "cell_type": "code",
   "execution_count": 1,
   "metadata": {},
   "outputs": [],
   "source": [
    "import pandas as pd\n",
    "import numpy as np\n",
    "import matplotlib.pyplot as plt\n",
    "import datetime\n",
    "import plotly.graph_objs as go\n",
    "from plotly.subplots import make_subplots\n",
    "import plotly.io as pio\n",
    "import warnings\n",
    "from sklearn.cluster import KMeans\n",
    "from sklearn.preprocessing import StandardScaler, OneHotEncoder\n",
    "from sklearn.compose import ColumnTransformer\n",
    "import plotly.express as px\n",
    "import folium\n",
    "\n",
    "warnings.filterwarnings(\"ignore\")"
   ]
  },
  {
   "cell_type": "markdown",
   "metadata": {},
   "source": [
    "# Importing data and adding features"
   ]
  },
  {
   "cell_type": "code",
   "execution_count": 2,
   "metadata": {},
   "outputs": [],
   "source": [
    "file_path = 'ChallengeXHEC23022024_v1.xlsx'\n",
    "excel_data = pd.read_excel(file_path, sheet_name=None)\n",
    "for sheet_name, df in excel_data.items():\n",
    "    \n",
    "    custom_name = f'{sheet_name}_df'\n",
    "    \n",
    "    globals()[custom_name] = df\n",
    "\n",
    "JAN24_df = JAN24_df[~JAN24_df['Prestation'].isin(['ADMINISTRATION', 'FORMATION', 'COORDINATION', \n",
    "                                                  'HOMMES TOUTES MAINS', 'VISITE MEDICALE'])]"
   ]
  },
  {
   "cell_type": "markdown",
   "metadata": {},
   "source": [
    "### Day type feature: week-day or week-end"
   ]
  },
  {
   "cell_type": "code",
   "execution_count": 3,
   "metadata": {},
   "outputs": [],
   "source": [
    "JAN24_df['Date'] = pd.to_datetime(JAN24_df['Date'])\n",
    "\n",
    "def get_day_type(date):\n",
    "    if date.weekday() < 5:  # Monday to Friday\n",
    "        return 'Week-day'\n",
    "    else:  # Saturday or Sunday\n",
    "        return 'Week-end'\n",
    "\n",
    "JAN24_df['Day type'] = JAN24_df['Date'].apply(get_day_type)"
   ]
  },
  {
   "cell_type": "markdown",
   "metadata": {},
   "source": [
    "### Day time feature : morning, afternoon, evening"
   ]
  },
  {
   "cell_type": "code",
   "execution_count": 4,
   "metadata": {},
   "outputs": [],
   "source": [
    "JAN24_df['Heure de début'] = pd.to_datetime(JAN24_df['Heure de début'], format='%H:%M:%S')\n",
    "\n",
    "def categorize_time(hour):\n",
    "    if hour < 12:\n",
    "        return \"Morning\"\n",
    "    elif 12 <= hour < 18:\n",
    "        return \"Afternoon\"\n",
    "    else:\n",
    "        return \"Evening\"\n",
    "\n",
    "JAN24_df['Hour'] = JAN24_df['Heure de début'].dt.hour\n",
    "JAN24_df['Day time'] = JAN24_df['Hour'].apply(categorize_time)\n",
    "\n",
    "JAN24_df.drop(columns=['Hour'], inplace=True)\n"
   ]
  },
  {
   "cell_type": "markdown",
   "metadata": {},
   "source": [
    "### Duration feature in minutes"
   ]
  },
  {
   "cell_type": "code",
   "execution_count": 5,
   "metadata": {},
   "outputs": [],
   "source": [
    "JAN24_df['Heure de début'] = pd.to_datetime(JAN24_df['Heure de début'], format='%H:%M:%S')\n",
    "JAN24_df['Heure de fin'] = pd.to_datetime(JAN24_df['Heure de fin'], format='%H:%M:%S')\n",
    "\n",
    "JAN24_df['Duration'] = (JAN24_df['Heure de fin'] - JAN24_df['Heure de début']).dt.total_seconds() / 60"
   ]
  },
  {
   "cell_type": "markdown",
   "metadata": {},
   "source": [
    "# First take on constraints"
   ]
  },
  {
   "cell_type": "markdown",
   "metadata": {},
   "source": [
    "### Beginning and end hours distribution"
   ]
  },
  {
   "cell_type": "code",
   "execution_count": 6,
   "metadata": {},
   "outputs": [
    {
     "data": {
      "application/vnd.plotly.v1+json": {
       "config": {
        "plotlyServerURL": "https://plot.ly"
       },
       "data": [
        {
         "marker": {
          "color": "orchid"
         },
         "opacity": 0.7,
         "showlegend": false,
         "type": "histogram",
         "x": [
          7,
          8,
          8,
          9,
          10,
          11,
          11,
          11,
          11,
          12,
          12,
          12,
          12,
          12,
          12,
          12,
          17,
          17,
          17,
          18,
          18,
          18,
          18,
          18,
          19,
          19,
          7,
          8,
          8,
          9,
          11,
          11,
          11,
          11,
          11,
          11,
          12,
          12,
          12,
          12,
          12,
          12,
          12,
          13,
          17,
          17,
          17,
          17,
          17,
          18,
          18,
          18,
          18,
          18,
          18,
          18,
          18,
          8,
          8,
          9,
          10,
          11,
          11,
          12,
          12,
          12,
          12,
          12,
          12,
          12,
          12,
          12,
          17,
          17,
          17,
          17,
          17,
          18,
          18,
          18,
          18,
          18,
          7,
          8,
          8,
          9,
          9,
          10,
          11,
          11,
          11,
          11,
          11,
          12,
          12,
          12,
          12,
          12,
          13,
          17,
          17,
          17,
          17,
          17,
          18,
          18,
          18,
          18,
          18,
          18,
          19,
          7,
          8,
          8,
          8,
          9,
          11,
          11,
          11,
          11,
          11,
          11,
          12,
          12,
          12,
          12,
          12,
          12,
          13,
          17,
          17,
          17,
          17,
          17,
          18,
          18,
          18,
          18,
          18,
          18,
          19,
          7,
          8,
          9,
          10,
          11,
          11,
          11,
          11,
          11,
          11,
          11,
          12,
          12,
          12,
          12,
          13,
          17,
          17,
          17,
          18,
          18,
          18,
          18,
          18,
          18,
          19,
          19,
          7,
          8,
          9,
          10,
          11,
          11,
          11,
          11,
          11,
          11,
          12,
          12,
          12,
          12,
          13,
          17,
          17,
          17,
          18,
          18,
          18,
          18,
          18,
          19,
          19,
          7,
          8,
          9,
          11,
          11,
          11,
          11,
          11,
          11,
          12,
          12,
          12,
          12,
          12,
          13,
          13,
          17,
          17,
          17,
          17,
          17,
          18,
          18,
          18,
          18,
          18,
          19,
          19,
          7,
          8,
          9,
          10,
          11,
          11,
          11,
          11,
          11,
          11,
          12,
          12,
          12,
          12,
          12,
          12,
          17,
          17,
          17,
          17,
          17,
          18,
          18,
          18,
          18,
          18,
          19,
          19,
          7,
          8,
          8,
          9,
          10,
          11,
          11,
          11,
          11,
          12,
          12,
          12,
          12,
          12,
          12,
          12,
          12,
          17,
          17,
          17,
          17,
          17,
          17,
          17,
          18,
          18,
          18,
          19,
          19,
          7,
          8,
          8,
          9,
          11,
          11,
          11,
          11,
          11,
          11,
          11,
          12,
          12,
          12,
          12,
          12,
          12,
          13,
          17,
          17,
          17,
          17,
          17,
          18,
          18,
          18,
          18,
          18,
          18,
          18,
          19,
          7,
          8,
          9,
          9,
          10,
          11,
          11,
          11,
          11,
          11,
          11,
          12,
          12,
          12,
          12,
          12,
          12,
          13,
          17,
          17,
          17,
          17,
          17,
          17,
          18,
          18,
          18,
          18,
          19,
          19,
          7,
          8,
          9,
          11,
          11,
          11,
          11,
          11,
          11,
          11,
          12,
          12,
          12,
          12,
          12,
          12,
          13,
          17,
          17,
          17,
          17,
          18,
          18,
          18,
          18,
          19,
          19,
          19,
          7,
          8,
          8,
          9,
          11,
          11,
          11,
          11,
          11,
          11,
          12,
          12,
          12,
          12,
          12,
          13,
          17,
          17,
          17,
          18,
          18,
          18,
          18,
          18,
          19,
          19,
          8,
          8,
          8,
          9,
          10,
          11,
          11,
          11,
          11,
          11,
          11,
          11,
          11,
          12,
          12,
          12,
          12,
          13,
          17,
          17,
          17,
          17,
          17,
          17,
          18,
          18,
          18,
          18,
          18,
          18,
          18,
          19,
          7,
          8,
          8,
          9,
          11,
          11,
          11,
          11,
          11,
          11,
          11,
          11,
          11,
          11,
          12,
          12,
          12,
          12,
          17,
          17,
          17,
          17,
          17,
          17,
          18,
          18,
          18,
          18,
          18,
          19,
          19,
          7,
          7,
          8,
          8,
          9,
          10,
          11,
          11,
          11,
          11,
          11,
          12,
          12,
          12,
          12,
          12,
          12,
          12,
          17,
          17,
          17,
          17,
          17,
          17,
          18,
          18,
          18,
          18,
          19,
          19,
          7,
          8,
          8,
          8,
          9,
          10,
          11,
          11,
          11,
          11,
          11,
          11,
          12,
          12,
          12,
          12,
          12,
          12,
          13,
          17,
          17,
          17,
          17,
          17,
          17,
          18,
          18,
          18,
          18,
          18,
          18,
          19,
          19,
          7,
          8,
          8,
          8,
          9,
          11,
          11,
          11,
          11,
          11,
          11,
          11,
          11,
          12,
          12,
          12,
          12,
          13,
          17,
          17,
          17,
          17,
          17,
          18,
          18,
          18,
          18,
          18,
          19,
          19,
          19,
          7,
          8,
          8,
          9,
          11,
          11,
          11,
          11,
          11,
          12,
          12,
          12,
          12,
          12,
          12,
          12,
          13,
          17,
          17,
          17,
          17,
          18,
          18,
          18,
          18,
          18,
          18,
          19,
          19,
          7,
          7,
          8,
          8,
          9,
          11,
          11,
          11,
          11,
          12,
          12,
          12,
          12,
          12,
          12,
          13,
          17,
          17,
          17,
          17,
          18,
          18,
          18,
          18,
          18,
          19,
          19,
          7,
          7,
          8,
          9,
          9,
          10,
          10,
          11,
          11,
          11,
          11,
          12,
          12,
          12,
          12,
          12,
          12,
          12,
          12,
          17,
          17,
          17,
          17,
          17,
          18,
          18,
          18,
          18,
          18,
          18,
          18,
          18,
          18,
          7,
          7,
          8,
          8,
          9,
          10,
          10,
          10,
          11,
          11,
          11,
          11,
          11,
          11,
          12,
          12,
          12,
          12,
          12,
          12,
          17,
          17,
          17,
          17,
          17,
          17,
          17,
          17,
          18,
          18,
          18,
          18,
          19,
          19,
          7,
          8,
          8,
          8,
          9,
          10,
          10,
          11,
          11,
          11,
          12,
          12,
          12,
          12,
          12,
          12,
          12,
          12,
          12,
          17,
          17,
          17,
          17,
          17,
          17,
          17,
          18,
          18,
          19,
          19,
          19,
          19,
          7,
          7,
          8,
          8,
          9,
          10,
          10,
          11,
          11,
          11,
          11,
          11,
          11,
          11,
          12,
          12,
          12,
          12,
          17,
          17,
          17,
          17,
          18,
          18,
          18,
          18,
          18,
          18,
          18,
          18,
          7,
          8,
          8,
          8,
          10,
          11,
          11,
          11,
          11,
          11,
          12,
          12,
          12,
          12,
          12,
          12,
          12,
          12,
          17,
          17,
          17,
          17,
          17,
          17,
          18,
          18,
          18,
          18,
          18,
          18,
          19,
          19,
          7,
          8,
          9,
          11,
          11,
          11,
          11,
          11,
          11,
          11,
          12,
          12,
          12,
          12,
          12,
          12,
          17,
          17,
          17,
          17,
          18,
          18,
          18,
          18,
          18,
          19,
          19,
          7,
          7,
          8,
          9,
          11,
          11,
          11,
          11,
          12,
          12,
          12,
          12,
          12,
          12,
          17,
          17,
          17,
          17,
          18,
          18,
          18,
          18,
          18,
          18,
          19,
          7,
          8,
          8,
          9,
          10,
          11,
          11,
          11,
          11,
          11,
          11,
          12,
          12,
          12,
          12,
          12,
          13,
          13,
          17,
          17,
          17,
          17,
          17,
          17,
          18,
          18,
          18,
          18,
          18,
          18,
          18,
          7,
          8,
          8,
          9,
          10,
          11,
          11,
          11,
          11,
          11,
          12,
          12,
          12,
          12,
          12,
          12,
          13,
          17,
          17,
          17,
          17,
          17,
          17,
          18,
          18,
          18,
          18,
          18,
          18,
          18,
          7,
          7,
          8,
          9,
          10,
          11,
          11,
          11,
          11,
          11,
          11,
          11,
          12,
          12,
          12,
          12,
          12,
          13,
          17,
          17,
          17,
          17,
          18,
          18,
          18,
          18,
          18,
          18,
          19,
          19
         ],
         "xaxis": "x",
         "yaxis": "y"
        },
        {
         "marker": {
          "color": "mediumorchid"
         },
         "opacity": 0.7,
         "showlegend": false,
         "type": "histogram",
         "x": [
          7,
          8,
          8,
          9,
          11,
          12,
          12,
          12,
          12,
          12,
          12,
          12,
          12,
          12,
          13,
          13,
          17,
          18,
          18,
          18,
          18,
          19,
          19,
          19,
          20,
          19,
          7,
          8,
          9,
          9,
          12,
          11,
          12,
          12,
          12,
          12,
          12,
          12,
          13,
          12,
          13,
          12,
          13,
          13,
          17,
          18,
          18,
          18,
          18,
          18,
          18,
          18,
          19,
          19,
          18,
          19,
          19,
          8,
          9,
          9,
          11,
          12,
          12,
          13,
          12,
          12,
          13,
          13,
          13,
          13,
          13,
          13,
          18,
          18,
          18,
          18,
          18,
          18,
          18,
          18,
          19,
          19,
          7,
          8,
          9,
          9,
          9,
          11,
          12,
          12,
          12,
          12,
          12,
          12,
          13,
          13,
          12,
          13,
          14,
          17,
          18,
          18,
          18,
          18,
          18,
          18,
          19,
          19,
          18,
          19,
          20,
          7,
          8,
          8,
          9,
          9,
          12,
          12,
          12,
          12,
          12,
          12,
          12,
          13,
          12,
          13,
          13,
          13,
          13,
          18,
          18,
          18,
          18,
          18,
          18,
          19,
          18,
          19,
          18,
          19,
          20,
          7,
          8,
          9,
          11,
          11,
          11,
          11,
          12,
          12,
          12,
          12,
          12,
          12,
          13,
          13,
          13,
          17,
          18,
          18,
          18,
          18,
          19,
          19,
          19,
          19,
          20,
          20,
          7,
          8,
          9,
          11,
          11,
          11,
          11,
          12,
          12,
          12,
          12,
          12,
          13,
          13,
          14,
          17,
          18,
          18,
          18,
          18,
          19,
          19,
          19,
          20,
          19,
          7,
          8,
          9,
          12,
          12,
          12,
          12,
          12,
          12,
          12,
          13,
          13,
          13,
          13,
          14,
          13,
          17,
          18,
          17,
          18,
          18,
          18,
          19,
          18,
          19,
          19,
          19,
          20,
          7,
          9,
          9,
          11,
          12,
          12,
          12,
          12,
          12,
          12,
          12,
          12,
          13,
          12,
          13,
          13,
          17,
          18,
          18,
          18,
          18,
          18,
          18,
          18,
          19,
          19,
          19,
          20,
          7,
          8,
          9,
          9,
          11,
          11,
          12,
          12,
          12,
          13,
          12,
          12,
          13,
          13,
          13,
          13,
          13,
          17,
          18,
          18,
          18,
          18,
          18,
          18,
          19,
          18,
          19,
          20,
          19,
          7,
          8,
          9,
          9,
          12,
          11,
          13,
          12,
          11,
          12,
          12,
          12,
          12,
          12,
          12,
          13,
          13,
          14,
          17,
          18,
          18,
          18,
          18,
          18,
          18,
          19,
          19,
          19,
          19,
          19,
          20,
          7,
          9,
          9,
          9,
          11,
          12,
          11,
          11,
          12,
          12,
          12,
          12,
          13,
          12,
          12,
          13,
          13,
          14,
          17,
          18,
          17,
          18,
          18,
          18,
          18,
          18,
          19,
          19,
          20,
          20,
          7,
          8,
          9,
          11,
          12,
          12,
          12,
          12,
          12,
          12,
          12,
          12,
          13,
          13,
          13,
          13,
          13,
          17,
          18,
          18,
          18,
          18,
          18,
          19,
          19,
          19,
          20,
          19,
          7,
          8,
          9,
          9,
          11,
          12,
          12,
          12,
          12,
          12,
          12,
          13,
          12,
          13,
          13,
          14,
          18,
          18,
          18,
          18,
          19,
          18,
          19,
          19,
          19,
          19,
          8,
          8,
          9,
          9,
          11,
          13,
          12,
          12,
          12,
          12,
          12,
          12,
          12,
          12,
          13,
          13,
          13,
          14,
          17,
          17,
          18,
          18,
          18,
          18,
          18,
          18,
          19,
          18,
          19,
          19,
          19,
          19,
          7,
          8,
          9,
          9,
          12,
          12,
          11,
          12,
          11,
          12,
          12,
          12,
          12,
          12,
          12,
          12,
          12,
          13,
          17,
          17,
          18,
          18,
          18,
          18,
          18,
          18,
          19,
          18,
          19,
          20,
          20,
          7,
          8,
          8,
          9,
          9,
          11,
          12,
          12,
          12,
          12,
          12,
          12,
          12,
          12,
          12,
          13,
          13,
          13,
          17,
          18,
          18,
          18,
          18,
          18,
          18,
          19,
          18,
          19,
          20,
          20,
          7,
          8,
          8,
          9,
          9,
          11,
          11,
          11,
          12,
          11,
          12,
          12,
          12,
          12,
          12,
          13,
          13,
          13,
          14,
          17,
          17,
          18,
          18,
          18,
          18,
          18,
          19,
          19,
          19,
          19,
          19,
          19,
          19,
          7,
          8,
          8,
          9,
          9,
          12,
          12,
          13,
          12,
          12,
          12,
          12,
          12,
          12,
          12,
          13,
          13,
          14,
          17,
          18,
          18,
          18,
          18,
          18,
          19,
          19,
          18,
          19,
          19,
          19,
          20,
          7,
          8,
          9,
          9,
          12,
          12,
          12,
          12,
          12,
          12,
          12,
          13,
          13,
          13,
          13,
          13,
          14,
          17,
          18,
          18,
          18,
          18,
          19,
          19,
          18,
          19,
          19,
          19,
          19,
          7,
          8,
          8,
          9,
          9,
          11,
          12,
          12,
          12,
          12,
          12,
          12,
          13,
          13,
          13,
          13,
          17,
          18,
          18,
          18,
          18,
          19,
          19,
          18,
          19,
          19,
          19,
          7,
          9,
          8,
          9,
          10,
          11,
          12,
          12,
          11,
          12,
          12,
          12,
          12,
          13,
          13,
          12,
          13,
          13,
          13,
          17,
          17,
          18,
          18,
          18,
          18,
          19,
          19,
          19,
          19,
          18,
          19,
          19,
          19,
          7,
          8,
          8,
          8,
          9,
          11,
          12,
          11,
          12,
          11,
          12,
          12,
          12,
          12,
          12,
          12,
          13,
          13,
          13,
          13,
          17,
          18,
          18,
          18,
          18,
          18,
          18,
          18,
          18,
          19,
          19,
          18,
          20,
          19,
          8,
          8,
          8,
          9,
          9,
          11,
          11,
          12,
          12,
          12,
          12,
          12,
          12,
          12,
          12,
          13,
          12,
          13,
          13,
          17,
          18,
          18,
          18,
          18,
          18,
          18,
          18,
          19,
          19,
          20,
          20,
          19,
          7,
          8,
          8,
          8,
          9,
          11,
          11,
          12,
          12,
          12,
          12,
          12,
          12,
          12,
          12,
          13,
          13,
          13,
          17,
          18,
          18,
          18,
          18,
          18,
          18,
          19,
          18,
          19,
          19,
          19,
          7,
          8,
          9,
          9,
          11,
          12,
          12,
          12,
          12,
          12,
          12,
          13,
          13,
          13,
          13,
          13,
          13,
          13,
          18,
          18,
          18,
          18,
          18,
          18,
          18,
          18,
          19,
          18,
          19,
          19,
          19,
          20,
          7,
          8,
          9,
          11,
          12,
          12,
          12,
          12,
          12,
          12,
          12,
          12,
          12,
          12,
          12,
          13,
          17,
          18,
          18,
          18,
          18,
          19,
          19,
          18,
          19,
          19,
          20,
          7,
          8,
          8,
          9,
          12,
          12,
          12,
          12,
          12,
          12,
          12,
          12,
          12,
          13,
          17,
          18,
          18,
          18,
          18,
          19,
          19,
          19,
          18,
          19,
          20,
          7,
          8,
          9,
          9,
          11,
          12,
          12,
          12,
          12,
          12,
          12,
          12,
          13,
          13,
          13,
          13,
          14,
          13,
          17,
          18,
          18,
          18,
          18,
          18,
          18,
          18,
          18,
          19,
          19,
          19,
          19,
          8,
          8,
          9,
          9,
          11,
          12,
          12,
          12,
          12,
          12,
          12,
          12,
          13,
          13,
          13,
          13,
          14,
          17,
          18,
          18,
          18,
          18,
          18,
          18,
          18,
          18,
          19,
          18,
          19,
          19,
          8,
          8,
          9,
          9,
          11,
          12,
          11,
          12,
          12,
          12,
          12,
          12,
          12,
          12,
          12,
          12,
          12,
          14,
          17,
          18,
          18,
          18,
          19,
          18,
          18,
          19,
          19,
          19,
          19,
          20
         ],
         "xaxis": "x2",
         "yaxis": "y2"
        }
       ],
       "layout": {
        "annotations": [
         {
          "font": {
           "size": 16
          },
          "showarrow": false,
          "text": "Heure de début",
          "x": 0.225,
          "xanchor": "center",
          "xref": "paper",
          "y": 1,
          "yanchor": "bottom",
          "yref": "paper"
         },
         {
          "font": {
           "size": 16
          },
          "showarrow": false,
          "text": "Heure de fin",
          "x": 0.775,
          "xanchor": "center",
          "xref": "paper",
          "y": 1,
          "yanchor": "bottom",
          "yref": "paper"
         }
        ],
        "bargap": 0.1,
        "template": {
         "data": {
          "bar": [
           {
            "error_x": {
             "color": "#2a3f5f"
            },
            "error_y": {
             "color": "#2a3f5f"
            },
            "marker": {
             "line": {
              "color": "#E5ECF6",
              "width": 0.5
             },
             "pattern": {
              "fillmode": "overlay",
              "size": 10,
              "solidity": 0.2
             }
            },
            "type": "bar"
           }
          ],
          "barpolar": [
           {
            "marker": {
             "line": {
              "color": "#E5ECF6",
              "width": 0.5
             },
             "pattern": {
              "fillmode": "overlay",
              "size": 10,
              "solidity": 0.2
             }
            },
            "type": "barpolar"
           }
          ],
          "carpet": [
           {
            "aaxis": {
             "endlinecolor": "#2a3f5f",
             "gridcolor": "white",
             "linecolor": "white",
             "minorgridcolor": "white",
             "startlinecolor": "#2a3f5f"
            },
            "baxis": {
             "endlinecolor": "#2a3f5f",
             "gridcolor": "white",
             "linecolor": "white",
             "minorgridcolor": "white",
             "startlinecolor": "#2a3f5f"
            },
            "type": "carpet"
           }
          ],
          "choropleth": [
           {
            "colorbar": {
             "outlinewidth": 0,
             "ticks": ""
            },
            "type": "choropleth"
           }
          ],
          "contour": [
           {
            "colorbar": {
             "outlinewidth": 0,
             "ticks": ""
            },
            "colorscale": [
             [
              0,
              "#0d0887"
             ],
             [
              0.1111111111111111,
              "#46039f"
             ],
             [
              0.2222222222222222,
              "#7201a8"
             ],
             [
              0.3333333333333333,
              "#9c179e"
             ],
             [
              0.4444444444444444,
              "#bd3786"
             ],
             [
              0.5555555555555556,
              "#d8576b"
             ],
             [
              0.6666666666666666,
              "#ed7953"
             ],
             [
              0.7777777777777778,
              "#fb9f3a"
             ],
             [
              0.8888888888888888,
              "#fdca26"
             ],
             [
              1,
              "#f0f921"
             ]
            ],
            "type": "contour"
           }
          ],
          "contourcarpet": [
           {
            "colorbar": {
             "outlinewidth": 0,
             "ticks": ""
            },
            "type": "contourcarpet"
           }
          ],
          "heatmap": [
           {
            "colorbar": {
             "outlinewidth": 0,
             "ticks": ""
            },
            "colorscale": [
             [
              0,
              "#0d0887"
             ],
             [
              0.1111111111111111,
              "#46039f"
             ],
             [
              0.2222222222222222,
              "#7201a8"
             ],
             [
              0.3333333333333333,
              "#9c179e"
             ],
             [
              0.4444444444444444,
              "#bd3786"
             ],
             [
              0.5555555555555556,
              "#d8576b"
             ],
             [
              0.6666666666666666,
              "#ed7953"
             ],
             [
              0.7777777777777778,
              "#fb9f3a"
             ],
             [
              0.8888888888888888,
              "#fdca26"
             ],
             [
              1,
              "#f0f921"
             ]
            ],
            "type": "heatmap"
           }
          ],
          "heatmapgl": [
           {
            "colorbar": {
             "outlinewidth": 0,
             "ticks": ""
            },
            "colorscale": [
             [
              0,
              "#0d0887"
             ],
             [
              0.1111111111111111,
              "#46039f"
             ],
             [
              0.2222222222222222,
              "#7201a8"
             ],
             [
              0.3333333333333333,
              "#9c179e"
             ],
             [
              0.4444444444444444,
              "#bd3786"
             ],
             [
              0.5555555555555556,
              "#d8576b"
             ],
             [
              0.6666666666666666,
              "#ed7953"
             ],
             [
              0.7777777777777778,
              "#fb9f3a"
             ],
             [
              0.8888888888888888,
              "#fdca26"
             ],
             [
              1,
              "#f0f921"
             ]
            ],
            "type": "heatmapgl"
           }
          ],
          "histogram": [
           {
            "marker": {
             "pattern": {
              "fillmode": "overlay",
              "size": 10,
              "solidity": 0.2
             }
            },
            "type": "histogram"
           }
          ],
          "histogram2d": [
           {
            "colorbar": {
             "outlinewidth": 0,
             "ticks": ""
            },
            "colorscale": [
             [
              0,
              "#0d0887"
             ],
             [
              0.1111111111111111,
              "#46039f"
             ],
             [
              0.2222222222222222,
              "#7201a8"
             ],
             [
              0.3333333333333333,
              "#9c179e"
             ],
             [
              0.4444444444444444,
              "#bd3786"
             ],
             [
              0.5555555555555556,
              "#d8576b"
             ],
             [
              0.6666666666666666,
              "#ed7953"
             ],
             [
              0.7777777777777778,
              "#fb9f3a"
             ],
             [
              0.8888888888888888,
              "#fdca26"
             ],
             [
              1,
              "#f0f921"
             ]
            ],
            "type": "histogram2d"
           }
          ],
          "histogram2dcontour": [
           {
            "colorbar": {
             "outlinewidth": 0,
             "ticks": ""
            },
            "colorscale": [
             [
              0,
              "#0d0887"
             ],
             [
              0.1111111111111111,
              "#46039f"
             ],
             [
              0.2222222222222222,
              "#7201a8"
             ],
             [
              0.3333333333333333,
              "#9c179e"
             ],
             [
              0.4444444444444444,
              "#bd3786"
             ],
             [
              0.5555555555555556,
              "#d8576b"
             ],
             [
              0.6666666666666666,
              "#ed7953"
             ],
             [
              0.7777777777777778,
              "#fb9f3a"
             ],
             [
              0.8888888888888888,
              "#fdca26"
             ],
             [
              1,
              "#f0f921"
             ]
            ],
            "type": "histogram2dcontour"
           }
          ],
          "mesh3d": [
           {
            "colorbar": {
             "outlinewidth": 0,
             "ticks": ""
            },
            "type": "mesh3d"
           }
          ],
          "parcoords": [
           {
            "line": {
             "colorbar": {
              "outlinewidth": 0,
              "ticks": ""
             }
            },
            "type": "parcoords"
           }
          ],
          "pie": [
           {
            "automargin": true,
            "type": "pie"
           }
          ],
          "scatter": [
           {
            "fillpattern": {
             "fillmode": "overlay",
             "size": 10,
             "solidity": 0.2
            },
            "type": "scatter"
           }
          ],
          "scatter3d": [
           {
            "line": {
             "colorbar": {
              "outlinewidth": 0,
              "ticks": ""
             }
            },
            "marker": {
             "colorbar": {
              "outlinewidth": 0,
              "ticks": ""
             }
            },
            "type": "scatter3d"
           }
          ],
          "scattercarpet": [
           {
            "marker": {
             "colorbar": {
              "outlinewidth": 0,
              "ticks": ""
             }
            },
            "type": "scattercarpet"
           }
          ],
          "scattergeo": [
           {
            "marker": {
             "colorbar": {
              "outlinewidth": 0,
              "ticks": ""
             }
            },
            "type": "scattergeo"
           }
          ],
          "scattergl": [
           {
            "marker": {
             "colorbar": {
              "outlinewidth": 0,
              "ticks": ""
             }
            },
            "type": "scattergl"
           }
          ],
          "scattermapbox": [
           {
            "marker": {
             "colorbar": {
              "outlinewidth": 0,
              "ticks": ""
             }
            },
            "type": "scattermapbox"
           }
          ],
          "scatterpolar": [
           {
            "marker": {
             "colorbar": {
              "outlinewidth": 0,
              "ticks": ""
             }
            },
            "type": "scatterpolar"
           }
          ],
          "scatterpolargl": [
           {
            "marker": {
             "colorbar": {
              "outlinewidth": 0,
              "ticks": ""
             }
            },
            "type": "scatterpolargl"
           }
          ],
          "scatterternary": [
           {
            "marker": {
             "colorbar": {
              "outlinewidth": 0,
              "ticks": ""
             }
            },
            "type": "scatterternary"
           }
          ],
          "surface": [
           {
            "colorbar": {
             "outlinewidth": 0,
             "ticks": ""
            },
            "colorscale": [
             [
              0,
              "#0d0887"
             ],
             [
              0.1111111111111111,
              "#46039f"
             ],
             [
              0.2222222222222222,
              "#7201a8"
             ],
             [
              0.3333333333333333,
              "#9c179e"
             ],
             [
              0.4444444444444444,
              "#bd3786"
             ],
             [
              0.5555555555555556,
              "#d8576b"
             ],
             [
              0.6666666666666666,
              "#ed7953"
             ],
             [
              0.7777777777777778,
              "#fb9f3a"
             ],
             [
              0.8888888888888888,
              "#fdca26"
             ],
             [
              1,
              "#f0f921"
             ]
            ],
            "type": "surface"
           }
          ],
          "table": [
           {
            "cells": {
             "fill": {
              "color": "#EBF0F8"
             },
             "line": {
              "color": "white"
             }
            },
            "header": {
             "fill": {
              "color": "#C8D4E3"
             },
             "line": {
              "color": "white"
             }
            },
            "type": "table"
           }
          ]
         },
         "layout": {
          "annotationdefaults": {
           "arrowcolor": "#2a3f5f",
           "arrowhead": 0,
           "arrowwidth": 1
          },
          "autotypenumbers": "strict",
          "coloraxis": {
           "colorbar": {
            "outlinewidth": 0,
            "ticks": ""
           }
          },
          "colorscale": {
           "diverging": [
            [
             0,
             "#8e0152"
            ],
            [
             0.1,
             "#c51b7d"
            ],
            [
             0.2,
             "#de77ae"
            ],
            [
             0.3,
             "#f1b6da"
            ],
            [
             0.4,
             "#fde0ef"
            ],
            [
             0.5,
             "#f7f7f7"
            ],
            [
             0.6,
             "#e6f5d0"
            ],
            [
             0.7,
             "#b8e186"
            ],
            [
             0.8,
             "#7fbc41"
            ],
            [
             0.9,
             "#4d9221"
            ],
            [
             1,
             "#276419"
            ]
           ],
           "sequential": [
            [
             0,
             "#0d0887"
            ],
            [
             0.1111111111111111,
             "#46039f"
            ],
            [
             0.2222222222222222,
             "#7201a8"
            ],
            [
             0.3333333333333333,
             "#9c179e"
            ],
            [
             0.4444444444444444,
             "#bd3786"
            ],
            [
             0.5555555555555556,
             "#d8576b"
            ],
            [
             0.6666666666666666,
             "#ed7953"
            ],
            [
             0.7777777777777778,
             "#fb9f3a"
            ],
            [
             0.8888888888888888,
             "#fdca26"
            ],
            [
             1,
             "#f0f921"
            ]
           ],
           "sequentialminus": [
            [
             0,
             "#0d0887"
            ],
            [
             0.1111111111111111,
             "#46039f"
            ],
            [
             0.2222222222222222,
             "#7201a8"
            ],
            [
             0.3333333333333333,
             "#9c179e"
            ],
            [
             0.4444444444444444,
             "#bd3786"
            ],
            [
             0.5555555555555556,
             "#d8576b"
            ],
            [
             0.6666666666666666,
             "#ed7953"
            ],
            [
             0.7777777777777778,
             "#fb9f3a"
            ],
            [
             0.8888888888888888,
             "#fdca26"
            ],
            [
             1,
             "#f0f921"
            ]
           ]
          },
          "colorway": [
           "#636efa",
           "#EF553B",
           "#00cc96",
           "#ab63fa",
           "#FFA15A",
           "#19d3f3",
           "#FF6692",
           "#B6E880",
           "#FF97FF",
           "#FECB52"
          ],
          "font": {
           "color": "#2a3f5f"
          },
          "geo": {
           "bgcolor": "white",
           "lakecolor": "white",
           "landcolor": "#E5ECF6",
           "showlakes": true,
           "showland": true,
           "subunitcolor": "white"
          },
          "hoverlabel": {
           "align": "left"
          },
          "hovermode": "closest",
          "mapbox": {
           "style": "light"
          },
          "paper_bgcolor": "white",
          "plot_bgcolor": "#E5ECF6",
          "polar": {
           "angularaxis": {
            "gridcolor": "white",
            "linecolor": "white",
            "ticks": ""
           },
           "bgcolor": "#E5ECF6",
           "radialaxis": {
            "gridcolor": "white",
            "linecolor": "white",
            "ticks": ""
           }
          },
          "scene": {
           "xaxis": {
            "backgroundcolor": "#E5ECF6",
            "gridcolor": "white",
            "gridwidth": 2,
            "linecolor": "white",
            "showbackground": true,
            "ticks": "",
            "zerolinecolor": "white"
           },
           "yaxis": {
            "backgroundcolor": "#E5ECF6",
            "gridcolor": "white",
            "gridwidth": 2,
            "linecolor": "white",
            "showbackground": true,
            "ticks": "",
            "zerolinecolor": "white"
           },
           "zaxis": {
            "backgroundcolor": "#E5ECF6",
            "gridcolor": "white",
            "gridwidth": 2,
            "linecolor": "white",
            "showbackground": true,
            "ticks": "",
            "zerolinecolor": "white"
           }
          },
          "shapedefaults": {
           "line": {
            "color": "#2a3f5f"
           }
          },
          "ternary": {
           "aaxis": {
            "gridcolor": "white",
            "linecolor": "white",
            "ticks": ""
           },
           "baxis": {
            "gridcolor": "white",
            "linecolor": "white",
            "ticks": ""
           },
           "bgcolor": "#E5ECF6",
           "caxis": {
            "gridcolor": "white",
            "linecolor": "white",
            "ticks": ""
           }
          },
          "title": {
           "x": 0.05
          },
          "xaxis": {
           "automargin": true,
           "gridcolor": "white",
           "linecolor": "white",
           "ticks": "",
           "title": {
            "standoff": 15
           },
           "zerolinecolor": "white",
           "zerolinewidth": 2
          },
          "yaxis": {
           "automargin": true,
           "gridcolor": "white",
           "linecolor": "white",
           "ticks": "",
           "title": {
            "standoff": 15
           },
           "zerolinecolor": "white",
           "zerolinewidth": 2
          }
         }
        },
        "title": {
         "text": "Distribution of Heure de début and Heure de fin for Prestation REPAS"
        },
        "xaxis": {
         "anchor": "y",
         "domain": [
          0,
          0.45
         ],
         "tickangle": -90,
         "ticktext": [
          "0:00",
          "1:00",
          "2:00",
          "3:00",
          "4:00",
          "5:00",
          "6:00",
          "7:00",
          "8:00",
          "9:00",
          "10:00",
          "11:00",
          "12:00",
          "13:00",
          "14:00",
          "15:00",
          "16:00",
          "17:00",
          "18:00",
          "19:00",
          "20:00",
          "21:00",
          "22:00",
          "23:00"
         ],
         "tickvals": [
          0,
          1,
          2,
          3,
          4,
          5,
          6,
          7,
          8,
          9,
          10,
          11,
          12,
          13,
          14,
          15,
          16,
          17,
          18,
          19,
          20,
          21,
          22,
          23
         ],
         "title": {
          "text": "Heure"
         }
        },
        "xaxis2": {
         "anchor": "y2",
         "domain": [
          0.55,
          1
         ],
         "tickangle": -90,
         "ticktext": [
          "0:00",
          "1:00",
          "2:00",
          "3:00",
          "4:00",
          "5:00",
          "6:00",
          "7:00",
          "8:00",
          "9:00",
          "10:00",
          "11:00",
          "12:00",
          "13:00",
          "14:00",
          "15:00",
          "16:00",
          "17:00",
          "18:00",
          "19:00",
          "20:00",
          "21:00",
          "22:00",
          "23:00"
         ],
         "tickvals": [
          0,
          1,
          2,
          3,
          4,
          5,
          6,
          7,
          8,
          9,
          10,
          11,
          12,
          13,
          14,
          15,
          16,
          17,
          18,
          19,
          20,
          21,
          22,
          23
         ],
         "title": {
          "text": "Heure"
         }
        },
        "yaxis": {
         "anchor": "x",
         "domain": [
          0,
          1
         ],
         "title": {
          "text": "Frequency"
         }
        },
        "yaxis2": {
         "anchor": "x2",
         "domain": [
          0,
          1
         ]
        }
       }
      }
     },
     "metadata": {},
     "output_type": "display_data"
    },
    {
     "data": {
      "application/vnd.plotly.v1+json": {
       "config": {
        "plotlyServerURL": "https://plot.ly"
       },
       "data": [
        {
         "marker": {
          "color": "orchid"
         },
         "opacity": 0.7,
         "showlegend": false,
         "type": "histogram",
         "x": [
          7,
          7,
          7,
          7,
          7,
          8,
          8,
          8,
          8,
          8,
          8,
          9,
          9,
          9,
          9,
          9,
          9,
          9,
          9,
          10,
          10,
          10,
          10,
          10,
          10,
          11,
          11,
          14,
          16,
          17,
          17,
          18,
          18,
          18,
          18,
          19,
          19,
          19,
          20,
          7,
          7,
          7,
          7,
          8,
          8,
          8,
          8,
          8,
          8,
          8,
          8,
          8,
          8,
          9,
          9,
          9,
          9,
          9,
          9,
          9,
          9,
          9,
          9,
          10,
          10,
          10,
          10,
          10,
          10,
          10,
          10,
          11,
          11,
          11,
          14,
          16,
          17,
          17,
          17,
          18,
          18,
          18,
          18,
          18,
          19,
          20,
          7,
          7,
          7,
          8,
          8,
          8,
          8,
          8,
          8,
          8,
          8,
          8,
          8,
          9,
          9,
          9,
          9,
          9,
          9,
          9,
          9,
          9,
          10,
          10,
          10,
          10,
          10,
          11,
          11,
          12,
          14,
          16,
          17,
          18,
          18,
          18,
          18,
          18,
          18,
          19,
          20,
          7,
          7,
          7,
          7,
          8,
          8,
          8,
          8,
          8,
          8,
          8,
          8,
          8,
          8,
          8,
          8,
          9,
          9,
          9,
          9,
          9,
          9,
          9,
          9,
          10,
          10,
          10,
          10,
          11,
          14,
          16,
          17,
          17,
          17,
          18,
          18,
          18,
          18,
          18,
          19,
          20,
          7,
          7,
          7,
          7,
          7,
          8,
          8,
          8,
          8,
          8,
          8,
          8,
          8,
          8,
          8,
          9,
          9,
          9,
          9,
          9,
          9,
          9,
          10,
          10,
          10,
          10,
          10,
          10,
          10,
          10,
          10,
          10,
          11,
          11,
          14,
          14,
          16,
          16,
          17,
          17,
          17,
          18,
          18,
          18,
          18,
          18,
          19,
          20,
          7,
          7,
          7,
          7,
          7,
          8,
          8,
          8,
          8,
          8,
          8,
          8,
          9,
          9,
          9,
          9,
          9,
          10,
          10,
          10,
          10,
          10,
          10,
          11,
          12,
          14,
          17,
          17,
          18,
          18,
          18,
          18,
          19,
          19,
          19,
          20,
          7,
          7,
          7,
          7,
          7,
          8,
          8,
          8,
          8,
          8,
          8,
          9,
          9,
          9,
          9,
          9,
          9,
          10,
          10,
          10,
          10,
          10,
          11,
          11,
          14,
          17,
          17,
          17,
          18,
          18,
          18,
          19,
          19,
          19,
          20,
          7,
          7,
          7,
          7,
          8,
          8,
          8,
          8,
          8,
          8,
          8,
          8,
          9,
          9,
          9,
          9,
          9,
          9,
          9,
          9,
          9,
          10,
          10,
          10,
          10,
          10,
          11,
          12,
          12,
          14,
          16,
          17,
          17,
          17,
          17,
          18,
          18,
          18,
          19,
          20,
          7,
          7,
          8,
          8,
          8,
          8,
          9,
          9,
          9,
          9,
          9,
          9,
          9,
          9,
          9,
          9,
          9,
          9,
          10,
          10,
          10,
          10,
          10,
          10,
          10,
          11,
          14,
          15,
          15,
          16,
          17,
          17,
          18,
          18,
          18,
          18,
          19,
          20,
          20,
          7,
          7,
          7,
          7,
          8,
          8,
          8,
          8,
          8,
          8,
          8,
          8,
          8,
          8,
          9,
          9,
          9,
          9,
          9,
          9,
          9,
          9,
          9,
          10,
          10,
          10,
          10,
          11,
          11,
          11,
          12,
          14,
          16,
          17,
          18,
          18,
          18,
          18,
          18,
          18,
          18,
          19,
          20,
          7,
          7,
          7,
          8,
          8,
          8,
          8,
          8,
          8,
          8,
          8,
          8,
          8,
          8,
          9,
          9,
          9,
          9,
          9,
          9,
          9,
          9,
          10,
          10,
          10,
          10,
          10,
          10,
          14,
          14,
          16,
          17,
          17,
          18,
          18,
          18,
          19,
          19,
          20,
          20,
          7,
          7,
          7,
          8,
          8,
          8,
          8,
          8,
          8,
          8,
          8,
          8,
          8,
          8,
          8,
          8,
          9,
          9,
          9,
          9,
          9,
          9,
          9,
          9,
          9,
          10,
          10,
          10,
          10,
          10,
          10,
          11,
          12,
          14,
          16,
          16,
          17,
          18,
          18,
          18,
          18,
          18,
          19,
          20,
          20,
          7,
          7,
          7,
          7,
          8,
          8,
          8,
          8,
          8,
          9,
          9,
          9,
          9,
          9,
          9,
          9,
          10,
          10,
          10,
          10,
          10,
          10,
          10,
          10,
          14,
          17,
          17,
          18,
          18,
          18,
          18,
          18,
          18,
          19,
          20,
          20,
          7,
          7,
          7,
          7,
          7,
          8,
          8,
          8,
          8,
          9,
          9,
          9,
          9,
          9,
          9,
          9,
          10,
          10,
          10,
          10,
          10,
          10,
          10,
          11,
          14,
          17,
          17,
          18,
          18,
          18,
          18,
          18,
          18,
          19,
          19,
          20,
          7,
          7,
          7,
          7,
          8,
          8,
          8,
          8,
          8,
          8,
          8,
          8,
          8,
          8,
          8,
          8,
          9,
          9,
          9,
          9,
          9,
          9,
          9,
          9,
          9,
          10,
          10,
          10,
          10,
          12,
          14,
          16,
          17,
          18,
          18,
          18,
          18,
          19,
          20,
          7,
          7,
          7,
          8,
          8,
          8,
          8,
          8,
          8,
          8,
          8,
          8,
          8,
          8,
          9,
          9,
          9,
          9,
          9,
          9,
          9,
          9,
          9,
          9,
          10,
          10,
          10,
          10,
          10,
          10,
          11,
          14,
          16,
          17,
          18,
          18,
          18,
          18,
          18,
          19,
          19,
          20,
          7,
          7,
          7,
          7,
          7,
          8,
          8,
          8,
          8,
          8,
          8,
          8,
          8,
          8,
          9,
          9,
          9,
          9,
          9,
          9,
          9,
          9,
          10,
          10,
          10,
          10,
          10,
          10,
          11,
          11,
          13,
          14,
          16,
          17,
          18,
          18,
          18,
          18,
          19,
          20,
          7,
          7,
          7,
          8,
          8,
          8,
          8,
          8,
          8,
          8,
          8,
          8,
          8,
          9,
          9,
          9,
          9,
          9,
          9,
          9,
          10,
          10,
          10,
          10,
          10,
          10,
          11,
          14,
          16,
          17,
          17,
          17,
          18,
          18,
          18,
          19,
          20,
          20,
          7,
          7,
          8,
          8,
          8,
          8,
          8,
          8,
          8,
          8,
          8,
          8,
          8,
          9,
          9,
          9,
          9,
          9,
          9,
          9,
          9,
          9,
          9,
          9,
          10,
          10,
          10,
          10,
          10,
          10,
          10,
          10,
          10,
          11,
          12,
          14,
          16,
          16,
          17,
          17,
          18,
          18,
          18,
          19,
          20,
          7,
          7,
          7,
          7,
          8,
          8,
          8,
          8,
          8,
          9,
          9,
          9,
          9,
          9,
          10,
          10,
          10,
          10,
          10,
          10,
          10,
          10,
          11,
          11,
          11,
          14,
          17,
          17,
          17,
          18,
          18,
          18,
          18,
          19,
          19,
          20,
          7,
          7,
          7,
          8,
          8,
          8,
          8,
          8,
          9,
          9,
          9,
          9,
          9,
          10,
          10,
          10,
          10,
          10,
          10,
          10,
          10,
          10,
          11,
          11,
          14,
          17,
          18,
          18,
          18,
          18,
          19,
          19,
          19,
          20,
          7,
          7,
          7,
          7,
          8,
          8,
          8,
          8,
          8,
          8,
          8,
          8,
          8,
          8,
          9,
          9,
          9,
          9,
          9,
          9,
          9,
          9,
          10,
          10,
          10,
          10,
          10,
          11,
          12,
          14,
          16,
          17,
          18,
          18,
          18,
          18,
          18,
          19,
          20,
          7,
          7,
          8,
          8,
          8,
          8,
          8,
          8,
          8,
          8,
          8,
          8,
          8,
          8,
          9,
          9,
          9,
          9,
          9,
          9,
          9,
          9,
          9,
          9,
          10,
          10,
          10,
          10,
          10,
          11,
          14,
          16,
          17,
          17,
          18,
          18,
          18,
          18,
          19,
          20,
          7,
          8,
          8,
          8,
          8,
          8,
          8,
          8,
          8,
          8,
          8,
          8,
          9,
          9,
          9,
          9,
          9,
          9,
          9,
          9,
          10,
          10,
          10,
          10,
          10,
          10,
          10,
          11,
          14,
          14,
          16,
          18,
          18,
          18,
          18,
          18,
          19,
          20,
          7,
          7,
          7,
          8,
          8,
          8,
          8,
          8,
          8,
          8,
          8,
          8,
          9,
          9,
          9,
          9,
          9,
          9,
          9,
          9,
          9,
          9,
          9,
          10,
          10,
          10,
          14,
          16,
          17,
          17,
          17,
          18,
          18,
          18,
          19,
          20,
          7,
          7,
          7,
          7,
          8,
          8,
          8,
          8,
          8,
          8,
          8,
          8,
          8,
          9,
          9,
          9,
          9,
          9,
          9,
          9,
          9,
          9,
          9,
          9,
          9,
          10,
          10,
          10,
          10,
          10,
          10,
          10,
          11,
          12,
          14,
          16,
          16,
          17,
          18,
          18,
          18,
          18,
          18,
          19,
          20,
          7,
          7,
          7,
          7,
          8,
          8,
          8,
          8,
          8,
          8,
          9,
          9,
          9,
          9,
          9,
          10,
          10,
          10,
          10,
          10,
          10,
          10,
          11,
          14,
          17,
          17,
          18,
          18,
          18,
          18,
          19,
          19,
          20,
          7,
          7,
          7,
          7,
          8,
          8,
          8,
          8,
          8,
          8,
          9,
          9,
          9,
          9,
          9,
          10,
          10,
          10,
          10,
          10,
          10,
          11,
          11,
          14,
          17,
          17,
          18,
          18,
          18,
          18,
          19,
          19,
          20,
          7,
          7,
          7,
          8,
          8,
          8,
          8,
          8,
          8,
          8,
          8,
          8,
          8,
          8,
          9,
          9,
          9,
          9,
          9,
          9,
          9,
          10,
          10,
          10,
          10,
          10,
          11,
          12,
          14,
          16,
          17,
          18,
          18,
          18,
          19,
          20,
          20,
          7,
          7,
          8,
          8,
          8,
          8,
          8,
          8,
          8,
          8,
          8,
          8,
          8,
          9,
          9,
          9,
          9,
          9,
          9,
          9,
          9,
          9,
          10,
          10,
          10,
          10,
          10,
          10,
          10,
          11,
          14,
          16,
          16,
          17,
          18,
          18,
          18,
          18,
          18,
          19,
          20,
          7,
          7,
          7,
          7,
          8,
          8,
          8,
          8,
          8,
          8,
          8,
          9,
          9,
          9,
          9,
          9,
          9,
          9,
          9,
          10,
          10,
          10,
          10,
          10,
          10,
          10,
          14,
          16,
          18,
          18,
          18,
          18,
          19,
          19,
          20
         ],
         "xaxis": "x",
         "yaxis": "y"
        },
        {
         "marker": {
          "color": "mediumorchid"
         },
         "opacity": 0.7,
         "showlegend": false,
         "type": "histogram",
         "x": [
          8,
          8,
          8,
          9,
          8,
          8,
          9,
          9,
          9,
          9,
          9,
          11,
          10,
          9,
          10,
          10,
          10,
          10,
          10,
          10,
          10,
          11,
          11,
          11,
          11,
          12,
          11,
          16,
          17,
          17,
          18,
          18,
          18,
          18,
          19,
          19,
          20,
          20,
          20,
          8,
          8,
          8,
          8,
          8,
          9,
          8,
          9,
          9,
          9,
          9,
          9,
          9,
          9,
          11,
          9,
          9,
          10,
          10,
          10,
          10,
          10,
          10,
          10,
          10,
          10,
          10,
          11,
          10,
          11,
          11,
          11,
          11,
          11,
          11,
          17,
          17,
          17,
          18,
          18,
          18,
          18,
          19,
          18,
          19,
          20,
          21,
          8,
          8,
          8,
          8,
          9,
          8,
          9,
          9,
          10,
          9,
          9,
          9,
          9,
          11,
          9,
          9,
          10,
          9,
          10,
          10,
          10,
          10,
          10,
          10,
          11,
          11,
          11,
          11,
          12,
          13,
          17,
          17,
          17,
          18,
          18,
          18,
          19,
          19,
          19,
          20,
          21,
          8,
          8,
          8,
          8,
          8,
          8,
          9,
          9,
          10,
          9,
          9,
          9,
          9,
          9,
          9,
          9,
          11,
          10,
          10,
          9,
          10,
          10,
          10,
          10,
          10,
          11,
          11,
          11,
          11,
          17,
          17,
          17,
          18,
          18,
          18,
          19,
          19,
          19,
          19,
          20,
          21,
          8,
          8,
          8,
          8,
          8,
          8,
          9,
          9,
          10,
          9,
          9,
          9,
          9,
          10,
          9,
          11,
          10,
          10,
          10,
          10,
          10,
          10,
          10,
          10,
          10,
          10,
          11,
          11,
          11,
          11,
          11,
          11,
          12,
          12,
          14,
          17,
          17,
          17,
          17,
          17,
          18,
          18,
          19,
          18,
          19,
          19,
          20,
          21,
          7,
          8,
          8,
          8,
          8,
          8,
          9,
          9,
          9,
          9,
          9,
          9,
          10,
          10,
          10,
          10,
          10,
          10,
          11,
          10,
          11,
          11,
          11,
          11,
          12,
          16,
          17,
          17,
          19,
          18,
          18,
          19,
          19,
          19,
          20,
          21,
          7,
          8,
          8,
          8,
          8,
          8,
          9,
          9,
          9,
          9,
          9,
          10,
          10,
          10,
          10,
          10,
          10,
          10,
          10,
          11,
          11,
          11,
          11,
          12,
          16,
          17,
          17,
          17,
          19,
          18,
          18,
          19,
          20,
          20,
          21,
          8,
          8,
          8,
          8,
          8,
          9,
          8,
          9,
          9,
          10,
          9,
          9,
          11,
          9,
          10,
          10,
          10,
          10,
          10,
          10,
          10,
          10,
          10,
          10,
          11,
          11,
          12,
          12,
          12,
          17,
          17,
          17,
          17,
          18,
          18,
          19,
          18,
          19,
          20,
          21,
          8,
          8,
          9,
          9,
          9,
          9,
          11,
          9,
          10,
          10,
          10,
          10,
          11,
          10,
          10,
          10,
          10,
          10,
          10,
          10,
          11,
          11,
          11,
          11,
          11,
          11,
          17,
          16,
          16,
          17,
          17,
          18,
          19,
          18,
          18,
          19,
          20,
          20,
          21,
          8,
          8,
          8,
          8,
          8,
          8,
          8,
          9,
          9,
          10,
          9,
          9,
          9,
          9,
          11,
          9,
          10,
          10,
          10,
          10,
          10,
          10,
          10,
          10,
          10,
          11,
          11,
          11,
          11,
          12,
          12,
          17,
          17,
          18,
          18,
          18,
          18,
          19,
          19,
          19,
          19,
          20,
          21,
          8,
          8,
          8,
          8,
          8,
          8,
          8,
          9,
          9,
          10,
          9,
          9,
          9,
          9,
          11,
          9,
          10,
          10,
          10,
          11,
          10,
          10,
          11,
          10,
          10,
          11,
          11,
          11,
          17,
          16,
          17,
          18,
          18,
          19,
          19,
          19,
          19,
          20,
          20,
          21,
          8,
          8,
          8,
          9,
          8,
          9,
          9,
          9,
          9,
          9,
          9,
          9,
          10,
          9,
          9,
          9,
          11,
          9,
          10,
          9,
          9,
          10,
          10,
          10,
          10,
          10,
          10,
          10,
          11,
          11,
          11,
          11,
          12,
          17,
          17,
          17,
          18,
          18,
          18,
          19,
          19,
          19,
          19,
          20,
          21,
          8,
          8,
          8,
          8,
          9,
          9,
          9,
          8,
          9,
          9,
          10,
          10,
          9,
          10,
          10,
          10,
          10,
          10,
          11,
          11,
          11,
          11,
          11,
          11,
          16,
          18,
          18,
          18,
          18,
          18,
          18,
          19,
          19,
          20,
          20,
          21,
          8,
          8,
          8,
          8,
          8,
          9,
          9,
          8,
          9,
          9,
          10,
          9,
          10,
          10,
          10,
          10,
          10,
          10,
          11,
          11,
          11,
          11,
          11,
          12,
          16,
          17,
          18,
          18,
          18,
          19,
          18,
          19,
          19,
          19,
          20,
          21,
          8,
          8,
          8,
          8,
          8,
          8,
          9,
          9,
          9,
          9,
          9,
          10,
          9,
          9,
          9,
          9,
          11,
          10,
          10,
          10,
          10,
          10,
          10,
          10,
          10,
          10,
          10,
          11,
          11,
          12,
          17,
          17,
          18,
          18,
          18,
          18,
          19,
          20,
          21,
          8,
          8,
          8,
          8,
          8,
          9,
          9,
          10,
          9,
          9,
          9,
          9,
          9,
          9,
          11,
          9,
          9,
          9,
          10,
          10,
          10,
          10,
          10,
          10,
          10,
          10,
          11,
          11,
          11,
          11,
          11,
          17,
          17,
          17,
          18,
          18,
          18,
          18,
          19,
          19,
          20,
          21,
          8,
          8,
          8,
          8,
          8,
          8,
          9,
          9,
          9,
          9,
          10,
          9,
          9,
          9,
          11,
          10,
          10,
          9,
          10,
          10,
          10,
          10,
          10,
          11,
          10,
          10,
          11,
          11,
          11,
          11,
          13,
          17,
          17,
          18,
          18,
          18,
          19,
          19,
          20,
          21,
          8,
          8,
          8,
          8,
          9,
          9,
          10,
          9,
          9,
          9,
          9,
          9,
          9,
          11,
          9,
          9,
          9,
          10,
          10,
          10,
          11,
          10,
          10,
          10,
          10,
          11,
          11,
          17,
          17,
          17,
          18,
          18,
          18,
          18,
          19,
          19,
          20,
          21,
          8,
          8,
          9,
          8,
          9,
          9,
          9,
          10,
          9,
          9,
          9,
          9,
          9,
          11,
          9,
          10,
          9,
          10,
          10,
          10,
          10,
          10,
          10,
          10,
          10,
          10,
          10,
          10,
          10,
          11,
          10,
          11,
          11,
          11,
          12,
          17,
          17,
          17,
          17,
          18,
          19,
          18,
          19,
          20,
          21,
          8,
          8,
          8,
          8,
          9,
          9,
          9,
          9,
          10,
          9,
          9,
          9,
          10,
          10,
          11,
          10,
          10,
          10,
          11,
          11,
          11,
          11,
          11,
          11,
          12,
          16,
          17,
          18,
          18,
          18,
          18,
          18,
          19,
          20,
          20,
          21,
          8,
          8,
          8,
          8,
          9,
          9,
          9,
          10,
          10,
          9,
          9,
          9,
          10,
          10,
          10,
          10,
          10,
          10,
          11,
          11,
          11,
          11,
          11,
          12,
          16,
          18,
          18,
          19,
          18,
          19,
          19,
          20,
          20,
          21,
          8,
          8,
          8,
          8,
          8,
          9,
          9,
          10,
          9,
          9,
          9,
          9,
          9,
          9,
          9,
          11,
          10,
          10,
          10,
          10,
          10,
          10,
          10,
          10,
          10,
          11,
          11,
          12,
          13,
          17,
          17,
          18,
          18,
          18,
          19,
          18,
          19,
          20,
          21,
          8,
          8,
          8,
          8,
          9,
          9,
          9,
          10,
          10,
          9,
          9,
          9,
          9,
          9,
          11,
          9,
          10,
          10,
          10,
          10,
          10,
          10,
          10,
          10,
          11,
          10,
          10,
          11,
          11,
          12,
          17,
          17,
          17,
          18,
          18,
          18,
          19,
          19,
          20,
          21,
          8,
          9,
          8,
          8,
          8,
          9,
          10,
          9,
          9,
          9,
          9,
          9,
          11,
          9,
          9,
          9,
          10,
          10,
          10,
          10,
          10,
          10,
          10,
          10,
          11,
          11,
          11,
          12,
          17,
          15,
          17,
          19,
          18,
          19,
          19,
          19,
          20,
          21,
          8,
          8,
          8,
          9,
          9,
          10,
          9,
          9,
          9,
          9,
          9,
          9,
          9,
          11,
          9,
          9,
          9,
          10,
          10,
          10,
          10,
          10,
          10,
          11,
          10,
          11,
          17,
          17,
          17,
          17,
          18,
          18,
          19,
          19,
          20,
          21,
          7,
          8,
          8,
          8,
          9,
          8,
          9,
          8,
          10,
          9,
          9,
          9,
          9,
          11,
          9,
          10,
          9,
          9,
          9,
          10,
          10,
          10,
          10,
          10,
          10,
          10,
          11,
          11,
          10,
          11,
          10,
          11,
          12,
          12,
          17,
          17,
          17,
          18,
          18,
          19,
          19,
          19,
          19,
          20,
          21,
          8,
          8,
          8,
          8,
          9,
          9,
          9,
          9,
          9,
          10,
          9,
          10,
          10,
          10,
          10,
          10,
          10,
          10,
          11,
          11,
          11,
          11,
          11,
          16,
          18,
          18,
          18,
          19,
          19,
          19,
          19,
          20,
          21,
          8,
          9,
          8,
          8,
          9,
          9,
          9,
          9,
          9,
          9,
          9,
          10,
          10,
          10,
          10,
          10,
          10,
          10,
          11,
          11,
          11,
          11,
          12,
          16,
          18,
          18,
          18,
          19,
          19,
          19,
          19,
          20,
          21,
          8,
          8,
          8,
          8,
          8,
          9,
          9,
          10,
          9,
          9,
          9,
          9,
          9,
          9,
          11,
          10,
          10,
          10,
          10,
          10,
          10,
          10,
          10,
          11,
          10,
          11,
          12,
          12,
          17,
          17,
          18,
          18,
          18,
          19,
          20,
          20,
          21,
          8,
          8,
          8,
          8,
          9,
          10,
          9,
          9,
          9,
          9,
          9,
          9,
          9,
          11,
          9,
          9,
          9,
          9,
          10,
          10,
          10,
          10,
          10,
          11,
          10,
          11,
          10,
          11,
          11,
          12,
          17,
          17,
          17,
          18,
          18,
          18,
          19,
          19,
          19,
          19,
          20,
          8,
          8,
          8,
          8,
          8,
          9,
          9,
          9,
          10,
          9,
          9,
          11,
          9,
          9,
          9,
          10,
          10,
          10,
          10,
          10,
          10,
          10,
          10,
          11,
          11,
          11,
          17,
          17,
          18,
          18,
          18,
          20,
          20,
          19,
          20
         ],
         "xaxis": "x2",
         "yaxis": "y2"
        }
       ],
       "layout": {
        "annotations": [
         {
          "font": {
           "size": 16
          },
          "showarrow": false,
          "text": "Heure de début",
          "x": 0.225,
          "xanchor": "center",
          "xref": "paper",
          "y": 1,
          "yanchor": "bottom",
          "yref": "paper"
         },
         {
          "font": {
           "size": 16
          },
          "showarrow": false,
          "text": "Heure de fin",
          "x": 0.775,
          "xanchor": "center",
          "xref": "paper",
          "y": 1,
          "yanchor": "bottom",
          "yref": "paper"
         }
        ],
        "bargap": 0.1,
        "template": {
         "data": {
          "bar": [
           {
            "error_x": {
             "color": "#2a3f5f"
            },
            "error_y": {
             "color": "#2a3f5f"
            },
            "marker": {
             "line": {
              "color": "#E5ECF6",
              "width": 0.5
             },
             "pattern": {
              "fillmode": "overlay",
              "size": 10,
              "solidity": 0.2
             }
            },
            "type": "bar"
           }
          ],
          "barpolar": [
           {
            "marker": {
             "line": {
              "color": "#E5ECF6",
              "width": 0.5
             },
             "pattern": {
              "fillmode": "overlay",
              "size": 10,
              "solidity": 0.2
             }
            },
            "type": "barpolar"
           }
          ],
          "carpet": [
           {
            "aaxis": {
             "endlinecolor": "#2a3f5f",
             "gridcolor": "white",
             "linecolor": "white",
             "minorgridcolor": "white",
             "startlinecolor": "#2a3f5f"
            },
            "baxis": {
             "endlinecolor": "#2a3f5f",
             "gridcolor": "white",
             "linecolor": "white",
             "minorgridcolor": "white",
             "startlinecolor": "#2a3f5f"
            },
            "type": "carpet"
           }
          ],
          "choropleth": [
           {
            "colorbar": {
             "outlinewidth": 0,
             "ticks": ""
            },
            "type": "choropleth"
           }
          ],
          "contour": [
           {
            "colorbar": {
             "outlinewidth": 0,
             "ticks": ""
            },
            "colorscale": [
             [
              0,
              "#0d0887"
             ],
             [
              0.1111111111111111,
              "#46039f"
             ],
             [
              0.2222222222222222,
              "#7201a8"
             ],
             [
              0.3333333333333333,
              "#9c179e"
             ],
             [
              0.4444444444444444,
              "#bd3786"
             ],
             [
              0.5555555555555556,
              "#d8576b"
             ],
             [
              0.6666666666666666,
              "#ed7953"
             ],
             [
              0.7777777777777778,
              "#fb9f3a"
             ],
             [
              0.8888888888888888,
              "#fdca26"
             ],
             [
              1,
              "#f0f921"
             ]
            ],
            "type": "contour"
           }
          ],
          "contourcarpet": [
           {
            "colorbar": {
             "outlinewidth": 0,
             "ticks": ""
            },
            "type": "contourcarpet"
           }
          ],
          "heatmap": [
           {
            "colorbar": {
             "outlinewidth": 0,
             "ticks": ""
            },
            "colorscale": [
             [
              0,
              "#0d0887"
             ],
             [
              0.1111111111111111,
              "#46039f"
             ],
             [
              0.2222222222222222,
              "#7201a8"
             ],
             [
              0.3333333333333333,
              "#9c179e"
             ],
             [
              0.4444444444444444,
              "#bd3786"
             ],
             [
              0.5555555555555556,
              "#d8576b"
             ],
             [
              0.6666666666666666,
              "#ed7953"
             ],
             [
              0.7777777777777778,
              "#fb9f3a"
             ],
             [
              0.8888888888888888,
              "#fdca26"
             ],
             [
              1,
              "#f0f921"
             ]
            ],
            "type": "heatmap"
           }
          ],
          "heatmapgl": [
           {
            "colorbar": {
             "outlinewidth": 0,
             "ticks": ""
            },
            "colorscale": [
             [
              0,
              "#0d0887"
             ],
             [
              0.1111111111111111,
              "#46039f"
             ],
             [
              0.2222222222222222,
              "#7201a8"
             ],
             [
              0.3333333333333333,
              "#9c179e"
             ],
             [
              0.4444444444444444,
              "#bd3786"
             ],
             [
              0.5555555555555556,
              "#d8576b"
             ],
             [
              0.6666666666666666,
              "#ed7953"
             ],
             [
              0.7777777777777778,
              "#fb9f3a"
             ],
             [
              0.8888888888888888,
              "#fdca26"
             ],
             [
              1,
              "#f0f921"
             ]
            ],
            "type": "heatmapgl"
           }
          ],
          "histogram": [
           {
            "marker": {
             "pattern": {
              "fillmode": "overlay",
              "size": 10,
              "solidity": 0.2
             }
            },
            "type": "histogram"
           }
          ],
          "histogram2d": [
           {
            "colorbar": {
             "outlinewidth": 0,
             "ticks": ""
            },
            "colorscale": [
             [
              0,
              "#0d0887"
             ],
             [
              0.1111111111111111,
              "#46039f"
             ],
             [
              0.2222222222222222,
              "#7201a8"
             ],
             [
              0.3333333333333333,
              "#9c179e"
             ],
             [
              0.4444444444444444,
              "#bd3786"
             ],
             [
              0.5555555555555556,
              "#d8576b"
             ],
             [
              0.6666666666666666,
              "#ed7953"
             ],
             [
              0.7777777777777778,
              "#fb9f3a"
             ],
             [
              0.8888888888888888,
              "#fdca26"
             ],
             [
              1,
              "#f0f921"
             ]
            ],
            "type": "histogram2d"
           }
          ],
          "histogram2dcontour": [
           {
            "colorbar": {
             "outlinewidth": 0,
             "ticks": ""
            },
            "colorscale": [
             [
              0,
              "#0d0887"
             ],
             [
              0.1111111111111111,
              "#46039f"
             ],
             [
              0.2222222222222222,
              "#7201a8"
             ],
             [
              0.3333333333333333,
              "#9c179e"
             ],
             [
              0.4444444444444444,
              "#bd3786"
             ],
             [
              0.5555555555555556,
              "#d8576b"
             ],
             [
              0.6666666666666666,
              "#ed7953"
             ],
             [
              0.7777777777777778,
              "#fb9f3a"
             ],
             [
              0.8888888888888888,
              "#fdca26"
             ],
             [
              1,
              "#f0f921"
             ]
            ],
            "type": "histogram2dcontour"
           }
          ],
          "mesh3d": [
           {
            "colorbar": {
             "outlinewidth": 0,
             "ticks": ""
            },
            "type": "mesh3d"
           }
          ],
          "parcoords": [
           {
            "line": {
             "colorbar": {
              "outlinewidth": 0,
              "ticks": ""
             }
            },
            "type": "parcoords"
           }
          ],
          "pie": [
           {
            "automargin": true,
            "type": "pie"
           }
          ],
          "scatter": [
           {
            "fillpattern": {
             "fillmode": "overlay",
             "size": 10,
             "solidity": 0.2
            },
            "type": "scatter"
           }
          ],
          "scatter3d": [
           {
            "line": {
             "colorbar": {
              "outlinewidth": 0,
              "ticks": ""
             }
            },
            "marker": {
             "colorbar": {
              "outlinewidth": 0,
              "ticks": ""
             }
            },
            "type": "scatter3d"
           }
          ],
          "scattercarpet": [
           {
            "marker": {
             "colorbar": {
              "outlinewidth": 0,
              "ticks": ""
             }
            },
            "type": "scattercarpet"
           }
          ],
          "scattergeo": [
           {
            "marker": {
             "colorbar": {
              "outlinewidth": 0,
              "ticks": ""
             }
            },
            "type": "scattergeo"
           }
          ],
          "scattergl": [
           {
            "marker": {
             "colorbar": {
              "outlinewidth": 0,
              "ticks": ""
             }
            },
            "type": "scattergl"
           }
          ],
          "scattermapbox": [
           {
            "marker": {
             "colorbar": {
              "outlinewidth": 0,
              "ticks": ""
             }
            },
            "type": "scattermapbox"
           }
          ],
          "scatterpolar": [
           {
            "marker": {
             "colorbar": {
              "outlinewidth": 0,
              "ticks": ""
             }
            },
            "type": "scatterpolar"
           }
          ],
          "scatterpolargl": [
           {
            "marker": {
             "colorbar": {
              "outlinewidth": 0,
              "ticks": ""
             }
            },
            "type": "scatterpolargl"
           }
          ],
          "scatterternary": [
           {
            "marker": {
             "colorbar": {
              "outlinewidth": 0,
              "ticks": ""
             }
            },
            "type": "scatterternary"
           }
          ],
          "surface": [
           {
            "colorbar": {
             "outlinewidth": 0,
             "ticks": ""
            },
            "colorscale": [
             [
              0,
              "#0d0887"
             ],
             [
              0.1111111111111111,
              "#46039f"
             ],
             [
              0.2222222222222222,
              "#7201a8"
             ],
             [
              0.3333333333333333,
              "#9c179e"
             ],
             [
              0.4444444444444444,
              "#bd3786"
             ],
             [
              0.5555555555555556,
              "#d8576b"
             ],
             [
              0.6666666666666666,
              "#ed7953"
             ],
             [
              0.7777777777777778,
              "#fb9f3a"
             ],
             [
              0.8888888888888888,
              "#fdca26"
             ],
             [
              1,
              "#f0f921"
             ]
            ],
            "type": "surface"
           }
          ],
          "table": [
           {
            "cells": {
             "fill": {
              "color": "#EBF0F8"
             },
             "line": {
              "color": "white"
             }
            },
            "header": {
             "fill": {
              "color": "#C8D4E3"
             },
             "line": {
              "color": "white"
             }
            },
            "type": "table"
           }
          ]
         },
         "layout": {
          "annotationdefaults": {
           "arrowcolor": "#2a3f5f",
           "arrowhead": 0,
           "arrowwidth": 1
          },
          "autotypenumbers": "strict",
          "coloraxis": {
           "colorbar": {
            "outlinewidth": 0,
            "ticks": ""
           }
          },
          "colorscale": {
           "diverging": [
            [
             0,
             "#8e0152"
            ],
            [
             0.1,
             "#c51b7d"
            ],
            [
             0.2,
             "#de77ae"
            ],
            [
             0.3,
             "#f1b6da"
            ],
            [
             0.4,
             "#fde0ef"
            ],
            [
             0.5,
             "#f7f7f7"
            ],
            [
             0.6,
             "#e6f5d0"
            ],
            [
             0.7,
             "#b8e186"
            ],
            [
             0.8,
             "#7fbc41"
            ],
            [
             0.9,
             "#4d9221"
            ],
            [
             1,
             "#276419"
            ]
           ],
           "sequential": [
            [
             0,
             "#0d0887"
            ],
            [
             0.1111111111111111,
             "#46039f"
            ],
            [
             0.2222222222222222,
             "#7201a8"
            ],
            [
             0.3333333333333333,
             "#9c179e"
            ],
            [
             0.4444444444444444,
             "#bd3786"
            ],
            [
             0.5555555555555556,
             "#d8576b"
            ],
            [
             0.6666666666666666,
             "#ed7953"
            ],
            [
             0.7777777777777778,
             "#fb9f3a"
            ],
            [
             0.8888888888888888,
             "#fdca26"
            ],
            [
             1,
             "#f0f921"
            ]
           ],
           "sequentialminus": [
            [
             0,
             "#0d0887"
            ],
            [
             0.1111111111111111,
             "#46039f"
            ],
            [
             0.2222222222222222,
             "#7201a8"
            ],
            [
             0.3333333333333333,
             "#9c179e"
            ],
            [
             0.4444444444444444,
             "#bd3786"
            ],
            [
             0.5555555555555556,
             "#d8576b"
            ],
            [
             0.6666666666666666,
             "#ed7953"
            ],
            [
             0.7777777777777778,
             "#fb9f3a"
            ],
            [
             0.8888888888888888,
             "#fdca26"
            ],
            [
             1,
             "#f0f921"
            ]
           ]
          },
          "colorway": [
           "#636efa",
           "#EF553B",
           "#00cc96",
           "#ab63fa",
           "#FFA15A",
           "#19d3f3",
           "#FF6692",
           "#B6E880",
           "#FF97FF",
           "#FECB52"
          ],
          "font": {
           "color": "#2a3f5f"
          },
          "geo": {
           "bgcolor": "white",
           "lakecolor": "white",
           "landcolor": "#E5ECF6",
           "showlakes": true,
           "showland": true,
           "subunitcolor": "white"
          },
          "hoverlabel": {
           "align": "left"
          },
          "hovermode": "closest",
          "mapbox": {
           "style": "light"
          },
          "paper_bgcolor": "white",
          "plot_bgcolor": "#E5ECF6",
          "polar": {
           "angularaxis": {
            "gridcolor": "white",
            "linecolor": "white",
            "ticks": ""
           },
           "bgcolor": "#E5ECF6",
           "radialaxis": {
            "gridcolor": "white",
            "linecolor": "white",
            "ticks": ""
           }
          },
          "scene": {
           "xaxis": {
            "backgroundcolor": "#E5ECF6",
            "gridcolor": "white",
            "gridwidth": 2,
            "linecolor": "white",
            "showbackground": true,
            "ticks": "",
            "zerolinecolor": "white"
           },
           "yaxis": {
            "backgroundcolor": "#E5ECF6",
            "gridcolor": "white",
            "gridwidth": 2,
            "linecolor": "white",
            "showbackground": true,
            "ticks": "",
            "zerolinecolor": "white"
           },
           "zaxis": {
            "backgroundcolor": "#E5ECF6",
            "gridcolor": "white",
            "gridwidth": 2,
            "linecolor": "white",
            "showbackground": true,
            "ticks": "",
            "zerolinecolor": "white"
           }
          },
          "shapedefaults": {
           "line": {
            "color": "#2a3f5f"
           }
          },
          "ternary": {
           "aaxis": {
            "gridcolor": "white",
            "linecolor": "white",
            "ticks": ""
           },
           "baxis": {
            "gridcolor": "white",
            "linecolor": "white",
            "ticks": ""
           },
           "bgcolor": "#E5ECF6",
           "caxis": {
            "gridcolor": "white",
            "linecolor": "white",
            "ticks": ""
           }
          },
          "title": {
           "x": 0.05
          },
          "xaxis": {
           "automargin": true,
           "gridcolor": "white",
           "linecolor": "white",
           "ticks": "",
           "title": {
            "standoff": 15
           },
           "zerolinecolor": "white",
           "zerolinewidth": 2
          },
          "yaxis": {
           "automargin": true,
           "gridcolor": "white",
           "linecolor": "white",
           "ticks": "",
           "title": {
            "standoff": 15
           },
           "zerolinecolor": "white",
           "zerolinewidth": 2
          }
         }
        },
        "title": {
         "text": "Distribution of Heure de début and Heure de fin for Prestation TOILETTE"
        },
        "xaxis": {
         "anchor": "y",
         "domain": [
          0,
          0.45
         ],
         "tickangle": -90,
         "ticktext": [
          "0:00",
          "1:00",
          "2:00",
          "3:00",
          "4:00",
          "5:00",
          "6:00",
          "7:00",
          "8:00",
          "9:00",
          "10:00",
          "11:00",
          "12:00",
          "13:00",
          "14:00",
          "15:00",
          "16:00",
          "17:00",
          "18:00",
          "19:00",
          "20:00",
          "21:00",
          "22:00",
          "23:00"
         ],
         "tickvals": [
          0,
          1,
          2,
          3,
          4,
          5,
          6,
          7,
          8,
          9,
          10,
          11,
          12,
          13,
          14,
          15,
          16,
          17,
          18,
          19,
          20,
          21,
          22,
          23
         ],
         "title": {
          "text": "Heure"
         }
        },
        "xaxis2": {
         "anchor": "y2",
         "domain": [
          0.55,
          1
         ],
         "tickangle": -90,
         "ticktext": [
          "0:00",
          "1:00",
          "2:00",
          "3:00",
          "4:00",
          "5:00",
          "6:00",
          "7:00",
          "8:00",
          "9:00",
          "10:00",
          "11:00",
          "12:00",
          "13:00",
          "14:00",
          "15:00",
          "16:00",
          "17:00",
          "18:00",
          "19:00",
          "20:00",
          "21:00",
          "22:00",
          "23:00"
         ],
         "tickvals": [
          0,
          1,
          2,
          3,
          4,
          5,
          6,
          7,
          8,
          9,
          10,
          11,
          12,
          13,
          14,
          15,
          16,
          17,
          18,
          19,
          20,
          21,
          22,
          23
         ],
         "title": {
          "text": "Heure"
         }
        },
        "yaxis": {
         "anchor": "x",
         "domain": [
          0,
          1
         ],
         "title": {
          "text": "Frequency"
         }
        },
        "yaxis2": {
         "anchor": "x2",
         "domain": [
          0,
          1
         ]
        }
       }
      }
     },
     "metadata": {},
     "output_type": "display_data"
    },
    {
     "data": {
      "application/vnd.plotly.v1+json": {
       "config": {
        "plotlyServerURL": "https://plot.ly"
       },
       "data": [
        {
         "marker": {
          "color": "orchid"
         },
         "opacity": 0.7,
         "showlegend": false,
         "type": "histogram",
         "x": [
          17,
          13,
          13,
          14,
          15,
          17,
          13,
          15,
          16,
          13,
          15,
          16,
          17,
          13,
          17,
          9,
          13,
          17,
          9,
          12,
          17,
          13,
          16,
          11,
          13,
          17,
          15,
          15,
          13,
          15,
          15,
          17,
          13,
          14,
          16,
          9,
          13,
          17,
          9,
          13,
          17,
          11,
          12,
          17,
          12,
          13,
          14,
          17,
          13,
          17,
          10,
          10,
          13,
          15,
          17,
          13,
          15,
          17,
          9,
          13,
          17,
          9,
          13,
          17,
          13,
          17,
          11,
          13,
          14,
          16,
          17,
          13,
          15,
          15,
          17,
          13,
          15,
          15,
          17,
          13,
          15,
          17,
          9,
          13,
          17,
          9,
          13,
          17,
          13,
          17,
          12,
          13,
          17,
          13,
          15,
          17
         ],
         "xaxis": "x",
         "yaxis": "y"
        },
        {
         "marker": {
          "color": "mediumorchid"
         },
         "opacity": 0.7,
         "showlegend": false,
         "type": "histogram",
         "x": [
          17,
          13,
          13,
          15,
          16,
          17,
          13,
          16,
          17,
          13,
          16,
          18,
          17,
          13,
          17,
          11,
          13,
          17,
          11,
          12,
          17,
          13,
          17,
          12,
          13,
          17,
          16,
          17,
          13,
          16,
          16,
          17,
          13,
          17,
          17,
          11,
          13,
          17,
          11,
          13,
          17,
          13,
          12,
          17,
          13,
          13,
          16,
          17,
          13,
          17,
          11,
          11,
          13,
          16,
          17,
          13,
          17,
          17,
          11,
          13,
          17,
          11,
          13,
          17,
          13,
          17,
          12,
          13,
          15,
          17,
          17,
          13,
          16,
          17,
          17,
          13,
          16,
          16,
          17,
          13,
          17,
          17,
          11,
          13,
          17,
          11,
          13,
          17,
          13,
          17,
          12,
          13,
          17,
          13,
          17,
          17
         ],
         "xaxis": "x2",
         "yaxis": "y2"
        }
       ],
       "layout": {
        "annotations": [
         {
          "font": {
           "size": 16
          },
          "showarrow": false,
          "text": "Heure de début",
          "x": 0.225,
          "xanchor": "center",
          "xref": "paper",
          "y": 1,
          "yanchor": "bottom",
          "yref": "paper"
         },
         {
          "font": {
           "size": 16
          },
          "showarrow": false,
          "text": "Heure de fin",
          "x": 0.775,
          "xanchor": "center",
          "xref": "paper",
          "y": 1,
          "yanchor": "bottom",
          "yref": "paper"
         }
        ],
        "bargap": 0.1,
        "template": {
         "data": {
          "bar": [
           {
            "error_x": {
             "color": "#2a3f5f"
            },
            "error_y": {
             "color": "#2a3f5f"
            },
            "marker": {
             "line": {
              "color": "#E5ECF6",
              "width": 0.5
             },
             "pattern": {
              "fillmode": "overlay",
              "size": 10,
              "solidity": 0.2
             }
            },
            "type": "bar"
           }
          ],
          "barpolar": [
           {
            "marker": {
             "line": {
              "color": "#E5ECF6",
              "width": 0.5
             },
             "pattern": {
              "fillmode": "overlay",
              "size": 10,
              "solidity": 0.2
             }
            },
            "type": "barpolar"
           }
          ],
          "carpet": [
           {
            "aaxis": {
             "endlinecolor": "#2a3f5f",
             "gridcolor": "white",
             "linecolor": "white",
             "minorgridcolor": "white",
             "startlinecolor": "#2a3f5f"
            },
            "baxis": {
             "endlinecolor": "#2a3f5f",
             "gridcolor": "white",
             "linecolor": "white",
             "minorgridcolor": "white",
             "startlinecolor": "#2a3f5f"
            },
            "type": "carpet"
           }
          ],
          "choropleth": [
           {
            "colorbar": {
             "outlinewidth": 0,
             "ticks": ""
            },
            "type": "choropleth"
           }
          ],
          "contour": [
           {
            "colorbar": {
             "outlinewidth": 0,
             "ticks": ""
            },
            "colorscale": [
             [
              0,
              "#0d0887"
             ],
             [
              0.1111111111111111,
              "#46039f"
             ],
             [
              0.2222222222222222,
              "#7201a8"
             ],
             [
              0.3333333333333333,
              "#9c179e"
             ],
             [
              0.4444444444444444,
              "#bd3786"
             ],
             [
              0.5555555555555556,
              "#d8576b"
             ],
             [
              0.6666666666666666,
              "#ed7953"
             ],
             [
              0.7777777777777778,
              "#fb9f3a"
             ],
             [
              0.8888888888888888,
              "#fdca26"
             ],
             [
              1,
              "#f0f921"
             ]
            ],
            "type": "contour"
           }
          ],
          "contourcarpet": [
           {
            "colorbar": {
             "outlinewidth": 0,
             "ticks": ""
            },
            "type": "contourcarpet"
           }
          ],
          "heatmap": [
           {
            "colorbar": {
             "outlinewidth": 0,
             "ticks": ""
            },
            "colorscale": [
             [
              0,
              "#0d0887"
             ],
             [
              0.1111111111111111,
              "#46039f"
             ],
             [
              0.2222222222222222,
              "#7201a8"
             ],
             [
              0.3333333333333333,
              "#9c179e"
             ],
             [
              0.4444444444444444,
              "#bd3786"
             ],
             [
              0.5555555555555556,
              "#d8576b"
             ],
             [
              0.6666666666666666,
              "#ed7953"
             ],
             [
              0.7777777777777778,
              "#fb9f3a"
             ],
             [
              0.8888888888888888,
              "#fdca26"
             ],
             [
              1,
              "#f0f921"
             ]
            ],
            "type": "heatmap"
           }
          ],
          "heatmapgl": [
           {
            "colorbar": {
             "outlinewidth": 0,
             "ticks": ""
            },
            "colorscale": [
             [
              0,
              "#0d0887"
             ],
             [
              0.1111111111111111,
              "#46039f"
             ],
             [
              0.2222222222222222,
              "#7201a8"
             ],
             [
              0.3333333333333333,
              "#9c179e"
             ],
             [
              0.4444444444444444,
              "#bd3786"
             ],
             [
              0.5555555555555556,
              "#d8576b"
             ],
             [
              0.6666666666666666,
              "#ed7953"
             ],
             [
              0.7777777777777778,
              "#fb9f3a"
             ],
             [
              0.8888888888888888,
              "#fdca26"
             ],
             [
              1,
              "#f0f921"
             ]
            ],
            "type": "heatmapgl"
           }
          ],
          "histogram": [
           {
            "marker": {
             "pattern": {
              "fillmode": "overlay",
              "size": 10,
              "solidity": 0.2
             }
            },
            "type": "histogram"
           }
          ],
          "histogram2d": [
           {
            "colorbar": {
             "outlinewidth": 0,
             "ticks": ""
            },
            "colorscale": [
             [
              0,
              "#0d0887"
             ],
             [
              0.1111111111111111,
              "#46039f"
             ],
             [
              0.2222222222222222,
              "#7201a8"
             ],
             [
              0.3333333333333333,
              "#9c179e"
             ],
             [
              0.4444444444444444,
              "#bd3786"
             ],
             [
              0.5555555555555556,
              "#d8576b"
             ],
             [
              0.6666666666666666,
              "#ed7953"
             ],
             [
              0.7777777777777778,
              "#fb9f3a"
             ],
             [
              0.8888888888888888,
              "#fdca26"
             ],
             [
              1,
              "#f0f921"
             ]
            ],
            "type": "histogram2d"
           }
          ],
          "histogram2dcontour": [
           {
            "colorbar": {
             "outlinewidth": 0,
             "ticks": ""
            },
            "colorscale": [
             [
              0,
              "#0d0887"
             ],
             [
              0.1111111111111111,
              "#46039f"
             ],
             [
              0.2222222222222222,
              "#7201a8"
             ],
             [
              0.3333333333333333,
              "#9c179e"
             ],
             [
              0.4444444444444444,
              "#bd3786"
             ],
             [
              0.5555555555555556,
              "#d8576b"
             ],
             [
              0.6666666666666666,
              "#ed7953"
             ],
             [
              0.7777777777777778,
              "#fb9f3a"
             ],
             [
              0.8888888888888888,
              "#fdca26"
             ],
             [
              1,
              "#f0f921"
             ]
            ],
            "type": "histogram2dcontour"
           }
          ],
          "mesh3d": [
           {
            "colorbar": {
             "outlinewidth": 0,
             "ticks": ""
            },
            "type": "mesh3d"
           }
          ],
          "parcoords": [
           {
            "line": {
             "colorbar": {
              "outlinewidth": 0,
              "ticks": ""
             }
            },
            "type": "parcoords"
           }
          ],
          "pie": [
           {
            "automargin": true,
            "type": "pie"
           }
          ],
          "scatter": [
           {
            "fillpattern": {
             "fillmode": "overlay",
             "size": 10,
             "solidity": 0.2
            },
            "type": "scatter"
           }
          ],
          "scatter3d": [
           {
            "line": {
             "colorbar": {
              "outlinewidth": 0,
              "ticks": ""
             }
            },
            "marker": {
             "colorbar": {
              "outlinewidth": 0,
              "ticks": ""
             }
            },
            "type": "scatter3d"
           }
          ],
          "scattercarpet": [
           {
            "marker": {
             "colorbar": {
              "outlinewidth": 0,
              "ticks": ""
             }
            },
            "type": "scattercarpet"
           }
          ],
          "scattergeo": [
           {
            "marker": {
             "colorbar": {
              "outlinewidth": 0,
              "ticks": ""
             }
            },
            "type": "scattergeo"
           }
          ],
          "scattergl": [
           {
            "marker": {
             "colorbar": {
              "outlinewidth": 0,
              "ticks": ""
             }
            },
            "type": "scattergl"
           }
          ],
          "scattermapbox": [
           {
            "marker": {
             "colorbar": {
              "outlinewidth": 0,
              "ticks": ""
             }
            },
            "type": "scattermapbox"
           }
          ],
          "scatterpolar": [
           {
            "marker": {
             "colorbar": {
              "outlinewidth": 0,
              "ticks": ""
             }
            },
            "type": "scatterpolar"
           }
          ],
          "scatterpolargl": [
           {
            "marker": {
             "colorbar": {
              "outlinewidth": 0,
              "ticks": ""
             }
            },
            "type": "scatterpolargl"
           }
          ],
          "scatterternary": [
           {
            "marker": {
             "colorbar": {
              "outlinewidth": 0,
              "ticks": ""
             }
            },
            "type": "scatterternary"
           }
          ],
          "surface": [
           {
            "colorbar": {
             "outlinewidth": 0,
             "ticks": ""
            },
            "colorscale": [
             [
              0,
              "#0d0887"
             ],
             [
              0.1111111111111111,
              "#46039f"
             ],
             [
              0.2222222222222222,
              "#7201a8"
             ],
             [
              0.3333333333333333,
              "#9c179e"
             ],
             [
              0.4444444444444444,
              "#bd3786"
             ],
             [
              0.5555555555555556,
              "#d8576b"
             ],
             [
              0.6666666666666666,
              "#ed7953"
             ],
             [
              0.7777777777777778,
              "#fb9f3a"
             ],
             [
              0.8888888888888888,
              "#fdca26"
             ],
             [
              1,
              "#f0f921"
             ]
            ],
            "type": "surface"
           }
          ],
          "table": [
           {
            "cells": {
             "fill": {
              "color": "#EBF0F8"
             },
             "line": {
              "color": "white"
             }
            },
            "header": {
             "fill": {
              "color": "#C8D4E3"
             },
             "line": {
              "color": "white"
             }
            },
            "type": "table"
           }
          ]
         },
         "layout": {
          "annotationdefaults": {
           "arrowcolor": "#2a3f5f",
           "arrowhead": 0,
           "arrowwidth": 1
          },
          "autotypenumbers": "strict",
          "coloraxis": {
           "colorbar": {
            "outlinewidth": 0,
            "ticks": ""
           }
          },
          "colorscale": {
           "diverging": [
            [
             0,
             "#8e0152"
            ],
            [
             0.1,
             "#c51b7d"
            ],
            [
             0.2,
             "#de77ae"
            ],
            [
             0.3,
             "#f1b6da"
            ],
            [
             0.4,
             "#fde0ef"
            ],
            [
             0.5,
             "#f7f7f7"
            ],
            [
             0.6,
             "#e6f5d0"
            ],
            [
             0.7,
             "#b8e186"
            ],
            [
             0.8,
             "#7fbc41"
            ],
            [
             0.9,
             "#4d9221"
            ],
            [
             1,
             "#276419"
            ]
           ],
           "sequential": [
            [
             0,
             "#0d0887"
            ],
            [
             0.1111111111111111,
             "#46039f"
            ],
            [
             0.2222222222222222,
             "#7201a8"
            ],
            [
             0.3333333333333333,
             "#9c179e"
            ],
            [
             0.4444444444444444,
             "#bd3786"
            ],
            [
             0.5555555555555556,
             "#d8576b"
            ],
            [
             0.6666666666666666,
             "#ed7953"
            ],
            [
             0.7777777777777778,
             "#fb9f3a"
            ],
            [
             0.8888888888888888,
             "#fdca26"
            ],
            [
             1,
             "#f0f921"
            ]
           ],
           "sequentialminus": [
            [
             0,
             "#0d0887"
            ],
            [
             0.1111111111111111,
             "#46039f"
            ],
            [
             0.2222222222222222,
             "#7201a8"
            ],
            [
             0.3333333333333333,
             "#9c179e"
            ],
            [
             0.4444444444444444,
             "#bd3786"
            ],
            [
             0.5555555555555556,
             "#d8576b"
            ],
            [
             0.6666666666666666,
             "#ed7953"
            ],
            [
             0.7777777777777778,
             "#fb9f3a"
            ],
            [
             0.8888888888888888,
             "#fdca26"
            ],
            [
             1,
             "#f0f921"
            ]
           ]
          },
          "colorway": [
           "#636efa",
           "#EF553B",
           "#00cc96",
           "#ab63fa",
           "#FFA15A",
           "#19d3f3",
           "#FF6692",
           "#B6E880",
           "#FF97FF",
           "#FECB52"
          ],
          "font": {
           "color": "#2a3f5f"
          },
          "geo": {
           "bgcolor": "white",
           "lakecolor": "white",
           "landcolor": "#E5ECF6",
           "showlakes": true,
           "showland": true,
           "subunitcolor": "white"
          },
          "hoverlabel": {
           "align": "left"
          },
          "hovermode": "closest",
          "mapbox": {
           "style": "light"
          },
          "paper_bgcolor": "white",
          "plot_bgcolor": "#E5ECF6",
          "polar": {
           "angularaxis": {
            "gridcolor": "white",
            "linecolor": "white",
            "ticks": ""
           },
           "bgcolor": "#E5ECF6",
           "radialaxis": {
            "gridcolor": "white",
            "linecolor": "white",
            "ticks": ""
           }
          },
          "scene": {
           "xaxis": {
            "backgroundcolor": "#E5ECF6",
            "gridcolor": "white",
            "gridwidth": 2,
            "linecolor": "white",
            "showbackground": true,
            "ticks": "",
            "zerolinecolor": "white"
           },
           "yaxis": {
            "backgroundcolor": "#E5ECF6",
            "gridcolor": "white",
            "gridwidth": 2,
            "linecolor": "white",
            "showbackground": true,
            "ticks": "",
            "zerolinecolor": "white"
           },
           "zaxis": {
            "backgroundcolor": "#E5ECF6",
            "gridcolor": "white",
            "gridwidth": 2,
            "linecolor": "white",
            "showbackground": true,
            "ticks": "",
            "zerolinecolor": "white"
           }
          },
          "shapedefaults": {
           "line": {
            "color": "#2a3f5f"
           }
          },
          "ternary": {
           "aaxis": {
            "gridcolor": "white",
            "linecolor": "white",
            "ticks": ""
           },
           "baxis": {
            "gridcolor": "white",
            "linecolor": "white",
            "ticks": ""
           },
           "bgcolor": "#E5ECF6",
           "caxis": {
            "gridcolor": "white",
            "linecolor": "white",
            "ticks": ""
           }
          },
          "title": {
           "x": 0.05
          },
          "xaxis": {
           "automargin": true,
           "gridcolor": "white",
           "linecolor": "white",
           "ticks": "",
           "title": {
            "standoff": 15
           },
           "zerolinecolor": "white",
           "zerolinewidth": 2
          },
          "yaxis": {
           "automargin": true,
           "gridcolor": "white",
           "linecolor": "white",
           "ticks": "",
           "title": {
            "standoff": 15
           },
           "zerolinecolor": "white",
           "zerolinewidth": 2
          }
         }
        },
        "title": {
         "text": "Distribution of Heure de début and Heure de fin for Prestation VIE SOCIALE"
        },
        "xaxis": {
         "anchor": "y",
         "domain": [
          0,
          0.45
         ],
         "tickangle": -90,
         "ticktext": [
          "0:00",
          "1:00",
          "2:00",
          "3:00",
          "4:00",
          "5:00",
          "6:00",
          "7:00",
          "8:00",
          "9:00",
          "10:00",
          "11:00",
          "12:00",
          "13:00",
          "14:00",
          "15:00",
          "16:00",
          "17:00",
          "18:00",
          "19:00",
          "20:00",
          "21:00",
          "22:00",
          "23:00"
         ],
         "tickvals": [
          0,
          1,
          2,
          3,
          4,
          5,
          6,
          7,
          8,
          9,
          10,
          11,
          12,
          13,
          14,
          15,
          16,
          17,
          18,
          19,
          20,
          21,
          22,
          23
         ],
         "title": {
          "text": "Heure"
         }
        },
        "xaxis2": {
         "anchor": "y2",
         "domain": [
          0.55,
          1
         ],
         "tickangle": -90,
         "ticktext": [
          "0:00",
          "1:00",
          "2:00",
          "3:00",
          "4:00",
          "5:00",
          "6:00",
          "7:00",
          "8:00",
          "9:00",
          "10:00",
          "11:00",
          "12:00",
          "13:00",
          "14:00",
          "15:00",
          "16:00",
          "17:00",
          "18:00",
          "19:00",
          "20:00",
          "21:00",
          "22:00",
          "23:00"
         ],
         "tickvals": [
          0,
          1,
          2,
          3,
          4,
          5,
          6,
          7,
          8,
          9,
          10,
          11,
          12,
          13,
          14,
          15,
          16,
          17,
          18,
          19,
          20,
          21,
          22,
          23
         ],
         "title": {
          "text": "Heure"
         }
        },
        "yaxis": {
         "anchor": "x",
         "domain": [
          0,
          1
         ],
         "title": {
          "text": "Frequency"
         }
        },
        "yaxis2": {
         "anchor": "x2",
         "domain": [
          0,
          1
         ]
        }
       }
      }
     },
     "metadata": {},
     "output_type": "display_data"
    },
    {
     "data": {
      "application/vnd.plotly.v1+json": {
       "config": {
        "plotlyServerURL": "https://plot.ly"
       },
       "data": [
        {
         "marker": {
          "color": "orchid"
         },
         "opacity": 0.7,
         "showlegend": false,
         "type": "histogram",
         "x": [
          9,
          9,
          10,
          10,
          10,
          11,
          11,
          12,
          13,
          13,
          14,
          14,
          14,
          14,
          14,
          14,
          14,
          15,
          15,
          15,
          15,
          16,
          16,
          17,
          8,
          9,
          10,
          11,
          11,
          11,
          11,
          13,
          13,
          14,
          15,
          15,
          16,
          16,
          8,
          9,
          9,
          9,
          9,
          10,
          10,
          10,
          10,
          10,
          10,
          11,
          11,
          13,
          13,
          13,
          14,
          14,
          14,
          14,
          14,
          15,
          15,
          15,
          15,
          15,
          16,
          16,
          16,
          13,
          13,
          14,
          14,
          14,
          15,
          15,
          15,
          15,
          16,
          16,
          16,
          16,
          8,
          8,
          10,
          10,
          10,
          10,
          10,
          10,
          13,
          13,
          13,
          14,
          14,
          14,
          15,
          15,
          15,
          15,
          15,
          15,
          16,
          17,
          8,
          9,
          9,
          10,
          10,
          11,
          11,
          11,
          13,
          13,
          14,
          14,
          14,
          14,
          14,
          14,
          15,
          15,
          15,
          15,
          15,
          16,
          16,
          17,
          18,
          9,
          9,
          10,
          10,
          10,
          11,
          11,
          11,
          14,
          14,
          14,
          14,
          15,
          16,
          8,
          8,
          9,
          9,
          9,
          10,
          11,
          11,
          11,
          12,
          13,
          13,
          13,
          13,
          13,
          13,
          14,
          14,
          14,
          15,
          15,
          15,
          15,
          15,
          16,
          16,
          16,
          10,
          10,
          11,
          11,
          13,
          14,
          14,
          14,
          15,
          15,
          16,
          16,
          16,
          16,
          8,
          9,
          9,
          10,
          10,
          10,
          10,
          10,
          10,
          10,
          12,
          14,
          14,
          14,
          14,
          15,
          15,
          15,
          15,
          15,
          15,
          15,
          16,
          17,
          17,
          8,
          9,
          10,
          10,
          10,
          10,
          10,
          11,
          11,
          13,
          13,
          13,
          14,
          14,
          14,
          14,
          14,
          14,
          14,
          15,
          15,
          15,
          15,
          15,
          15,
          15,
          16,
          16,
          17,
          8,
          8,
          10,
          10,
          10,
          11,
          11,
          14,
          14,
          14,
          14,
          14,
          15,
          16,
          16,
          8,
          9,
          9,
          10,
          10,
          11,
          11,
          11,
          13,
          13,
          13,
          14,
          14,
          14,
          14,
          14,
          14,
          15,
          15,
          15,
          15,
          16,
          16,
          16,
          10,
          10,
          12,
          13,
          13,
          13,
          14,
          14,
          15,
          16,
          16,
          16,
          16,
          16,
          16,
          8,
          9,
          10,
          10,
          10,
          11,
          11,
          13,
          13,
          14,
          14,
          14,
          14,
          14,
          15,
          15,
          15,
          15,
          15,
          15,
          15,
          16,
          18,
          8,
          9,
          9,
          10,
          10,
          10,
          10,
          10,
          10,
          11,
          13,
          13,
          14,
          14,
          14,
          14,
          14,
          15,
          15,
          15,
          16,
          16,
          16,
          17,
          9,
          9,
          10,
          10,
          11,
          14,
          14,
          15,
          15,
          8,
          9,
          9,
          9,
          10,
          10,
          10,
          10,
          10,
          10,
          11,
          13,
          13,
          13,
          14,
          14,
          14,
          15,
          15,
          15,
          15,
          15,
          15,
          15,
          16,
          16,
          17,
          10,
          10,
          13,
          14,
          14,
          14,
          15,
          15,
          15,
          16,
          16,
          16,
          16,
          8,
          8,
          9,
          10,
          10,
          10,
          10,
          11,
          11,
          12,
          13,
          14,
          14,
          14,
          14,
          15,
          15,
          16,
          16,
          16,
          16,
          17,
          8,
          9,
          9,
          9,
          10,
          10,
          10,
          11,
          13,
          13,
          13,
          14,
          14,
          14,
          14,
          14,
          15,
          15,
          15,
          15,
          15,
          16,
          17,
          8,
          9,
          10,
          11,
          14,
          14,
          14,
          15,
          16,
          16,
          16,
          16
         ],
         "xaxis": "x",
         "yaxis": "y"
        },
        {
         "marker": {
          "color": "mediumorchid"
         },
         "opacity": 0.7,
         "showlegend": false,
         "type": "histogram",
         "x": [
          10,
          10,
          11,
          11,
          11,
          11,
          12,
          13,
          14,
          15,
          15,
          15,
          15,
          15,
          15,
          16,
          16,
          17,
          16,
          17,
          17,
          19,
          18,
          18,
          10,
          10,
          12,
          12,
          11,
          12,
          12,
          15,
          15,
          16,
          17,
          16,
          18,
          17,
          10,
          10,
          10,
          10,
          10,
          11,
          11,
          12,
          12,
          11,
          11,
          12,
          13,
          15,
          15,
          15,
          15,
          15,
          16,
          16,
          15,
          17,
          16,
          17,
          17,
          17,
          18,
          17,
          18,
          14,
          15,
          16,
          16,
          15,
          17,
          17,
          17,
          16,
          16,
          18,
          17,
          17,
          10,
          10,
          11,
          12,
          11,
          12,
          11,
          11,
          15,
          15,
          14,
          15,
          15,
          15,
          17,
          17,
          17,
          16,
          17,
          16,
          17,
          19,
          9,
          11,
          11,
          11,
          11,
          12,
          11,
          13,
          14,
          15,
          16,
          15,
          15,
          15,
          15,
          16,
          17,
          16,
          17,
          16,
          17,
          19,
          17,
          18,
          19,
          11,
          11,
          11,
          11,
          11,
          12,
          12,
          12,
          16,
          15,
          15,
          16,
          17,
          18,
          10,
          10,
          11,
          11,
          10,
          12,
          12,
          12,
          12,
          13,
          14,
          14,
          15,
          14,
          15,
          15,
          15,
          15,
          15,
          16,
          17,
          17,
          17,
          17,
          17,
          17,
          17,
          11,
          11,
          12,
          11,
          15,
          16,
          16,
          16,
          16,
          17,
          18,
          17,
          17,
          17,
          10,
          10,
          11,
          11,
          12,
          11,
          11,
          11,
          11,
          12,
          14,
          15,
          15,
          15,
          15,
          17,
          16,
          17,
          16,
          17,
          17,
          16,
          17,
          18,
          19,
          9,
          11,
          11,
          11,
          11,
          11,
          11,
          12,
          12,
          15,
          15,
          15,
          15,
          14,
          15,
          15,
          15,
          15,
          15,
          17,
          17,
          17,
          16,
          17,
          17,
          16,
          19,
          17,
          18,
          10,
          10,
          11,
          12,
          11,
          12,
          12,
          16,
          15,
          14,
          16,
          17,
          16,
          18,
          17,
          10,
          11,
          11,
          11,
          12,
          12,
          12,
          12,
          14,
          15,
          15,
          15,
          15,
          16,
          16,
          15,
          16,
          17,
          17,
          17,
          17,
          17,
          16,
          17,
          11,
          11,
          13,
          14,
          15,
          15,
          16,
          15,
          17,
          17,
          18,
          18,
          17,
          17,
          17,
          10,
          11,
          12,
          10,
          11,
          12,
          12,
          15,
          15,
          15,
          15,
          15,
          15,
          15,
          16,
          17,
          17,
          17,
          17,
          17,
          16,
          17,
          19,
          9,
          10,
          10,
          11,
          10,
          11,
          11,
          11,
          11,
          13,
          14,
          15,
          15,
          15,
          16,
          16,
          16,
          17,
          17,
          17,
          19,
          17,
          17,
          18,
          10,
          11,
          11,
          12,
          12,
          16,
          15,
          17,
          17,
          10,
          10,
          11,
          11,
          10,
          11,
          12,
          12,
          12,
          11,
          12,
          15,
          15,
          15,
          16,
          15,
          15,
          17,
          16,
          17,
          17,
          17,
          17,
          17,
          17,
          18,
          18,
          11,
          11,
          15,
          16,
          16,
          15,
          17,
          17,
          17,
          18,
          18,
          17,
          17,
          10,
          10,
          10,
          11,
          12,
          11,
          11,
          12,
          11,
          14,
          15,
          15,
          15,
          14,
          16,
          17,
          17,
          17,
          18,
          17,
          17,
          19,
          9,
          11,
          11,
          10,
          11,
          11,
          11,
          12,
          14,
          15,
          14,
          15,
          15,
          15,
          16,
          16,
          16,
          16,
          17,
          17,
          17,
          19,
          18,
          10,
          11,
          12,
          12,
          16,
          16,
          16,
          15,
          17,
          17,
          17,
          17
         ],
         "xaxis": "x2",
         "yaxis": "y2"
        }
       ],
       "layout": {
        "annotations": [
         {
          "font": {
           "size": 16
          },
          "showarrow": false,
          "text": "Heure de début",
          "x": 0.225,
          "xanchor": "center",
          "xref": "paper",
          "y": 1,
          "yanchor": "bottom",
          "yref": "paper"
         },
         {
          "font": {
           "size": 16
          },
          "showarrow": false,
          "text": "Heure de fin",
          "x": 0.775,
          "xanchor": "center",
          "xref": "paper",
          "y": 1,
          "yanchor": "bottom",
          "yref": "paper"
         }
        ],
        "bargap": 0.1,
        "template": {
         "data": {
          "bar": [
           {
            "error_x": {
             "color": "#2a3f5f"
            },
            "error_y": {
             "color": "#2a3f5f"
            },
            "marker": {
             "line": {
              "color": "#E5ECF6",
              "width": 0.5
             },
             "pattern": {
              "fillmode": "overlay",
              "size": 10,
              "solidity": 0.2
             }
            },
            "type": "bar"
           }
          ],
          "barpolar": [
           {
            "marker": {
             "line": {
              "color": "#E5ECF6",
              "width": 0.5
             },
             "pattern": {
              "fillmode": "overlay",
              "size": 10,
              "solidity": 0.2
             }
            },
            "type": "barpolar"
           }
          ],
          "carpet": [
           {
            "aaxis": {
             "endlinecolor": "#2a3f5f",
             "gridcolor": "white",
             "linecolor": "white",
             "minorgridcolor": "white",
             "startlinecolor": "#2a3f5f"
            },
            "baxis": {
             "endlinecolor": "#2a3f5f",
             "gridcolor": "white",
             "linecolor": "white",
             "minorgridcolor": "white",
             "startlinecolor": "#2a3f5f"
            },
            "type": "carpet"
           }
          ],
          "choropleth": [
           {
            "colorbar": {
             "outlinewidth": 0,
             "ticks": ""
            },
            "type": "choropleth"
           }
          ],
          "contour": [
           {
            "colorbar": {
             "outlinewidth": 0,
             "ticks": ""
            },
            "colorscale": [
             [
              0,
              "#0d0887"
             ],
             [
              0.1111111111111111,
              "#46039f"
             ],
             [
              0.2222222222222222,
              "#7201a8"
             ],
             [
              0.3333333333333333,
              "#9c179e"
             ],
             [
              0.4444444444444444,
              "#bd3786"
             ],
             [
              0.5555555555555556,
              "#d8576b"
             ],
             [
              0.6666666666666666,
              "#ed7953"
             ],
             [
              0.7777777777777778,
              "#fb9f3a"
             ],
             [
              0.8888888888888888,
              "#fdca26"
             ],
             [
              1,
              "#f0f921"
             ]
            ],
            "type": "contour"
           }
          ],
          "contourcarpet": [
           {
            "colorbar": {
             "outlinewidth": 0,
             "ticks": ""
            },
            "type": "contourcarpet"
           }
          ],
          "heatmap": [
           {
            "colorbar": {
             "outlinewidth": 0,
             "ticks": ""
            },
            "colorscale": [
             [
              0,
              "#0d0887"
             ],
             [
              0.1111111111111111,
              "#46039f"
             ],
             [
              0.2222222222222222,
              "#7201a8"
             ],
             [
              0.3333333333333333,
              "#9c179e"
             ],
             [
              0.4444444444444444,
              "#bd3786"
             ],
             [
              0.5555555555555556,
              "#d8576b"
             ],
             [
              0.6666666666666666,
              "#ed7953"
             ],
             [
              0.7777777777777778,
              "#fb9f3a"
             ],
             [
              0.8888888888888888,
              "#fdca26"
             ],
             [
              1,
              "#f0f921"
             ]
            ],
            "type": "heatmap"
           }
          ],
          "heatmapgl": [
           {
            "colorbar": {
             "outlinewidth": 0,
             "ticks": ""
            },
            "colorscale": [
             [
              0,
              "#0d0887"
             ],
             [
              0.1111111111111111,
              "#46039f"
             ],
             [
              0.2222222222222222,
              "#7201a8"
             ],
             [
              0.3333333333333333,
              "#9c179e"
             ],
             [
              0.4444444444444444,
              "#bd3786"
             ],
             [
              0.5555555555555556,
              "#d8576b"
             ],
             [
              0.6666666666666666,
              "#ed7953"
             ],
             [
              0.7777777777777778,
              "#fb9f3a"
             ],
             [
              0.8888888888888888,
              "#fdca26"
             ],
             [
              1,
              "#f0f921"
             ]
            ],
            "type": "heatmapgl"
           }
          ],
          "histogram": [
           {
            "marker": {
             "pattern": {
              "fillmode": "overlay",
              "size": 10,
              "solidity": 0.2
             }
            },
            "type": "histogram"
           }
          ],
          "histogram2d": [
           {
            "colorbar": {
             "outlinewidth": 0,
             "ticks": ""
            },
            "colorscale": [
             [
              0,
              "#0d0887"
             ],
             [
              0.1111111111111111,
              "#46039f"
             ],
             [
              0.2222222222222222,
              "#7201a8"
             ],
             [
              0.3333333333333333,
              "#9c179e"
             ],
             [
              0.4444444444444444,
              "#bd3786"
             ],
             [
              0.5555555555555556,
              "#d8576b"
             ],
             [
              0.6666666666666666,
              "#ed7953"
             ],
             [
              0.7777777777777778,
              "#fb9f3a"
             ],
             [
              0.8888888888888888,
              "#fdca26"
             ],
             [
              1,
              "#f0f921"
             ]
            ],
            "type": "histogram2d"
           }
          ],
          "histogram2dcontour": [
           {
            "colorbar": {
             "outlinewidth": 0,
             "ticks": ""
            },
            "colorscale": [
             [
              0,
              "#0d0887"
             ],
             [
              0.1111111111111111,
              "#46039f"
             ],
             [
              0.2222222222222222,
              "#7201a8"
             ],
             [
              0.3333333333333333,
              "#9c179e"
             ],
             [
              0.4444444444444444,
              "#bd3786"
             ],
             [
              0.5555555555555556,
              "#d8576b"
             ],
             [
              0.6666666666666666,
              "#ed7953"
             ],
             [
              0.7777777777777778,
              "#fb9f3a"
             ],
             [
              0.8888888888888888,
              "#fdca26"
             ],
             [
              1,
              "#f0f921"
             ]
            ],
            "type": "histogram2dcontour"
           }
          ],
          "mesh3d": [
           {
            "colorbar": {
             "outlinewidth": 0,
             "ticks": ""
            },
            "type": "mesh3d"
           }
          ],
          "parcoords": [
           {
            "line": {
             "colorbar": {
              "outlinewidth": 0,
              "ticks": ""
             }
            },
            "type": "parcoords"
           }
          ],
          "pie": [
           {
            "automargin": true,
            "type": "pie"
           }
          ],
          "scatter": [
           {
            "fillpattern": {
             "fillmode": "overlay",
             "size": 10,
             "solidity": 0.2
            },
            "type": "scatter"
           }
          ],
          "scatter3d": [
           {
            "line": {
             "colorbar": {
              "outlinewidth": 0,
              "ticks": ""
             }
            },
            "marker": {
             "colorbar": {
              "outlinewidth": 0,
              "ticks": ""
             }
            },
            "type": "scatter3d"
           }
          ],
          "scattercarpet": [
           {
            "marker": {
             "colorbar": {
              "outlinewidth": 0,
              "ticks": ""
             }
            },
            "type": "scattercarpet"
           }
          ],
          "scattergeo": [
           {
            "marker": {
             "colorbar": {
              "outlinewidth": 0,
              "ticks": ""
             }
            },
            "type": "scattergeo"
           }
          ],
          "scattergl": [
           {
            "marker": {
             "colorbar": {
              "outlinewidth": 0,
              "ticks": ""
             }
            },
            "type": "scattergl"
           }
          ],
          "scattermapbox": [
           {
            "marker": {
             "colorbar": {
              "outlinewidth": 0,
              "ticks": ""
             }
            },
            "type": "scattermapbox"
           }
          ],
          "scatterpolar": [
           {
            "marker": {
             "colorbar": {
              "outlinewidth": 0,
              "ticks": ""
             }
            },
            "type": "scatterpolar"
           }
          ],
          "scatterpolargl": [
           {
            "marker": {
             "colorbar": {
              "outlinewidth": 0,
              "ticks": ""
             }
            },
            "type": "scatterpolargl"
           }
          ],
          "scatterternary": [
           {
            "marker": {
             "colorbar": {
              "outlinewidth": 0,
              "ticks": ""
             }
            },
            "type": "scatterternary"
           }
          ],
          "surface": [
           {
            "colorbar": {
             "outlinewidth": 0,
             "ticks": ""
            },
            "colorscale": [
             [
              0,
              "#0d0887"
             ],
             [
              0.1111111111111111,
              "#46039f"
             ],
             [
              0.2222222222222222,
              "#7201a8"
             ],
             [
              0.3333333333333333,
              "#9c179e"
             ],
             [
              0.4444444444444444,
              "#bd3786"
             ],
             [
              0.5555555555555556,
              "#d8576b"
             ],
             [
              0.6666666666666666,
              "#ed7953"
             ],
             [
              0.7777777777777778,
              "#fb9f3a"
             ],
             [
              0.8888888888888888,
              "#fdca26"
             ],
             [
              1,
              "#f0f921"
             ]
            ],
            "type": "surface"
           }
          ],
          "table": [
           {
            "cells": {
             "fill": {
              "color": "#EBF0F8"
             },
             "line": {
              "color": "white"
             }
            },
            "header": {
             "fill": {
              "color": "#C8D4E3"
             },
             "line": {
              "color": "white"
             }
            },
            "type": "table"
           }
          ]
         },
         "layout": {
          "annotationdefaults": {
           "arrowcolor": "#2a3f5f",
           "arrowhead": 0,
           "arrowwidth": 1
          },
          "autotypenumbers": "strict",
          "coloraxis": {
           "colorbar": {
            "outlinewidth": 0,
            "ticks": ""
           }
          },
          "colorscale": {
           "diverging": [
            [
             0,
             "#8e0152"
            ],
            [
             0.1,
             "#c51b7d"
            ],
            [
             0.2,
             "#de77ae"
            ],
            [
             0.3,
             "#f1b6da"
            ],
            [
             0.4,
             "#fde0ef"
            ],
            [
             0.5,
             "#f7f7f7"
            ],
            [
             0.6,
             "#e6f5d0"
            ],
            [
             0.7,
             "#b8e186"
            ],
            [
             0.8,
             "#7fbc41"
            ],
            [
             0.9,
             "#4d9221"
            ],
            [
             1,
             "#276419"
            ]
           ],
           "sequential": [
            [
             0,
             "#0d0887"
            ],
            [
             0.1111111111111111,
             "#46039f"
            ],
            [
             0.2222222222222222,
             "#7201a8"
            ],
            [
             0.3333333333333333,
             "#9c179e"
            ],
            [
             0.4444444444444444,
             "#bd3786"
            ],
            [
             0.5555555555555556,
             "#d8576b"
            ],
            [
             0.6666666666666666,
             "#ed7953"
            ],
            [
             0.7777777777777778,
             "#fb9f3a"
            ],
            [
             0.8888888888888888,
             "#fdca26"
            ],
            [
             1,
             "#f0f921"
            ]
           ],
           "sequentialminus": [
            [
             0,
             "#0d0887"
            ],
            [
             0.1111111111111111,
             "#46039f"
            ],
            [
             0.2222222222222222,
             "#7201a8"
            ],
            [
             0.3333333333333333,
             "#9c179e"
            ],
            [
             0.4444444444444444,
             "#bd3786"
            ],
            [
             0.5555555555555556,
             "#d8576b"
            ],
            [
             0.6666666666666666,
             "#ed7953"
            ],
            [
             0.7777777777777778,
             "#fb9f3a"
            ],
            [
             0.8888888888888888,
             "#fdca26"
            ],
            [
             1,
             "#f0f921"
            ]
           ]
          },
          "colorway": [
           "#636efa",
           "#EF553B",
           "#00cc96",
           "#ab63fa",
           "#FFA15A",
           "#19d3f3",
           "#FF6692",
           "#B6E880",
           "#FF97FF",
           "#FECB52"
          ],
          "font": {
           "color": "#2a3f5f"
          },
          "geo": {
           "bgcolor": "white",
           "lakecolor": "white",
           "landcolor": "#E5ECF6",
           "showlakes": true,
           "showland": true,
           "subunitcolor": "white"
          },
          "hoverlabel": {
           "align": "left"
          },
          "hovermode": "closest",
          "mapbox": {
           "style": "light"
          },
          "paper_bgcolor": "white",
          "plot_bgcolor": "#E5ECF6",
          "polar": {
           "angularaxis": {
            "gridcolor": "white",
            "linecolor": "white",
            "ticks": ""
           },
           "bgcolor": "#E5ECF6",
           "radialaxis": {
            "gridcolor": "white",
            "linecolor": "white",
            "ticks": ""
           }
          },
          "scene": {
           "xaxis": {
            "backgroundcolor": "#E5ECF6",
            "gridcolor": "white",
            "gridwidth": 2,
            "linecolor": "white",
            "showbackground": true,
            "ticks": "",
            "zerolinecolor": "white"
           },
           "yaxis": {
            "backgroundcolor": "#E5ECF6",
            "gridcolor": "white",
            "gridwidth": 2,
            "linecolor": "white",
            "showbackground": true,
            "ticks": "",
            "zerolinecolor": "white"
           },
           "zaxis": {
            "backgroundcolor": "#E5ECF6",
            "gridcolor": "white",
            "gridwidth": 2,
            "linecolor": "white",
            "showbackground": true,
            "ticks": "",
            "zerolinecolor": "white"
           }
          },
          "shapedefaults": {
           "line": {
            "color": "#2a3f5f"
           }
          },
          "ternary": {
           "aaxis": {
            "gridcolor": "white",
            "linecolor": "white",
            "ticks": ""
           },
           "baxis": {
            "gridcolor": "white",
            "linecolor": "white",
            "ticks": ""
           },
           "bgcolor": "#E5ECF6",
           "caxis": {
            "gridcolor": "white",
            "linecolor": "white",
            "ticks": ""
           }
          },
          "title": {
           "x": 0.05
          },
          "xaxis": {
           "automargin": true,
           "gridcolor": "white",
           "linecolor": "white",
           "ticks": "",
           "title": {
            "standoff": 15
           },
           "zerolinecolor": "white",
           "zerolinewidth": 2
          },
          "yaxis": {
           "automargin": true,
           "gridcolor": "white",
           "linecolor": "white",
           "ticks": "",
           "title": {
            "standoff": 15
           },
           "zerolinecolor": "white",
           "zerolinewidth": 2
          }
         }
        },
        "title": {
         "text": "Distribution of Heure de début and Heure de fin for Prestation AIDE MENAGERE"
        },
        "xaxis": {
         "anchor": "y",
         "domain": [
          0,
          0.45
         ],
         "tickangle": -90,
         "ticktext": [
          "0:00",
          "1:00",
          "2:00",
          "3:00",
          "4:00",
          "5:00",
          "6:00",
          "7:00",
          "8:00",
          "9:00",
          "10:00",
          "11:00",
          "12:00",
          "13:00",
          "14:00",
          "15:00",
          "16:00",
          "17:00",
          "18:00",
          "19:00",
          "20:00",
          "21:00",
          "22:00",
          "23:00"
         ],
         "tickvals": [
          0,
          1,
          2,
          3,
          4,
          5,
          6,
          7,
          8,
          9,
          10,
          11,
          12,
          13,
          14,
          15,
          16,
          17,
          18,
          19,
          20,
          21,
          22,
          23
         ],
         "title": {
          "text": "Heure"
         }
        },
        "xaxis2": {
         "anchor": "y2",
         "domain": [
          0.55,
          1
         ],
         "tickangle": -90,
         "ticktext": [
          "0:00",
          "1:00",
          "2:00",
          "3:00",
          "4:00",
          "5:00",
          "6:00",
          "7:00",
          "8:00",
          "9:00",
          "10:00",
          "11:00",
          "12:00",
          "13:00",
          "14:00",
          "15:00",
          "16:00",
          "17:00",
          "18:00",
          "19:00",
          "20:00",
          "21:00",
          "22:00",
          "23:00"
         ],
         "tickvals": [
          0,
          1,
          2,
          3,
          4,
          5,
          6,
          7,
          8,
          9,
          10,
          11,
          12,
          13,
          14,
          15,
          16,
          17,
          18,
          19,
          20,
          21,
          22,
          23
         ],
         "title": {
          "text": "Heure"
         }
        },
        "yaxis": {
         "anchor": "x",
         "domain": [
          0,
          1
         ],
         "title": {
          "text": "Frequency"
         }
        },
        "yaxis2": {
         "anchor": "x2",
         "domain": [
          0,
          1
         ]
        }
       }
      }
     },
     "metadata": {},
     "output_type": "display_data"
    },
    {
     "data": {
      "application/vnd.plotly.v1+json": {
       "config": {
        "plotlyServerURL": "https://plot.ly"
       },
       "data": [
        {
         "marker": {
          "color": "orchid"
         },
         "opacity": 0.7,
         "showlegend": false,
         "type": "histogram",
         "x": [
          15,
          16,
          10,
          11,
          14,
          15,
          14,
          16,
          9,
          10,
          11,
          11,
          14,
          14,
          14,
          15,
          17,
          10,
          14,
          14,
          14,
          15,
          15,
          10,
          10,
          9,
          9,
          9,
          10,
          10,
          11,
          11,
          11,
          14,
          15,
          10,
          13,
          14,
          14,
          8,
          15,
          15,
          11,
          14,
          15,
          16,
          8,
          16,
          16,
          9,
          10,
          10,
          10,
          10,
          10,
          11,
          16,
          13,
          13,
          15,
          10,
          14,
          14,
          14,
          16,
          16,
          9,
          10,
          10,
          11,
          14,
          14,
          11,
          13,
          14,
          14,
          15,
          15,
          10,
          14,
          15,
          16,
          17
         ],
         "xaxis": "x",
         "yaxis": "y"
        },
        {
         "marker": {
          "color": "mediumorchid"
         },
         "opacity": 0.7,
         "showlegend": false,
         "type": "histogram",
         "x": [
          16,
          18,
          12,
          12,
          16,
          17,
          16,
          17,
          11,
          11,
          13,
          12,
          15,
          16,
          15,
          17,
          18,
          11,
          15,
          15,
          15,
          17,
          17,
          11,
          11,
          10,
          12,
          10,
          10,
          11,
          12,
          13,
          13,
          16,
          17,
          11,
          16,
          15,
          15,
          12,
          17,
          16,
          12,
          16,
          16,
          17,
          10,
          18,
          16,
          10,
          12,
          11,
          11,
          11,
          11,
          13,
          17,
          16,
          15,
          16,
          11,
          15,
          16,
          17,
          18,
          17,
          11,
          12,
          12,
          12,
          15,
          16,
          12,
          15,
          15,
          16,
          17,
          16,
          11,
          16,
          16,
          16,
          18
         ],
         "xaxis": "x2",
         "yaxis": "y2"
        }
       ],
       "layout": {
        "annotations": [
         {
          "font": {
           "size": 16
          },
          "showarrow": false,
          "text": "Heure de début",
          "x": 0.225,
          "xanchor": "center",
          "xref": "paper",
          "y": 1,
          "yanchor": "bottom",
          "yref": "paper"
         },
         {
          "font": {
           "size": 16
          },
          "showarrow": false,
          "text": "Heure de fin",
          "x": 0.775,
          "xanchor": "center",
          "xref": "paper",
          "y": 1,
          "yanchor": "bottom",
          "yref": "paper"
         }
        ],
        "bargap": 0.1,
        "template": {
         "data": {
          "bar": [
           {
            "error_x": {
             "color": "#2a3f5f"
            },
            "error_y": {
             "color": "#2a3f5f"
            },
            "marker": {
             "line": {
              "color": "#E5ECF6",
              "width": 0.5
             },
             "pattern": {
              "fillmode": "overlay",
              "size": 10,
              "solidity": 0.2
             }
            },
            "type": "bar"
           }
          ],
          "barpolar": [
           {
            "marker": {
             "line": {
              "color": "#E5ECF6",
              "width": 0.5
             },
             "pattern": {
              "fillmode": "overlay",
              "size": 10,
              "solidity": 0.2
             }
            },
            "type": "barpolar"
           }
          ],
          "carpet": [
           {
            "aaxis": {
             "endlinecolor": "#2a3f5f",
             "gridcolor": "white",
             "linecolor": "white",
             "minorgridcolor": "white",
             "startlinecolor": "#2a3f5f"
            },
            "baxis": {
             "endlinecolor": "#2a3f5f",
             "gridcolor": "white",
             "linecolor": "white",
             "minorgridcolor": "white",
             "startlinecolor": "#2a3f5f"
            },
            "type": "carpet"
           }
          ],
          "choropleth": [
           {
            "colorbar": {
             "outlinewidth": 0,
             "ticks": ""
            },
            "type": "choropleth"
           }
          ],
          "contour": [
           {
            "colorbar": {
             "outlinewidth": 0,
             "ticks": ""
            },
            "colorscale": [
             [
              0,
              "#0d0887"
             ],
             [
              0.1111111111111111,
              "#46039f"
             ],
             [
              0.2222222222222222,
              "#7201a8"
             ],
             [
              0.3333333333333333,
              "#9c179e"
             ],
             [
              0.4444444444444444,
              "#bd3786"
             ],
             [
              0.5555555555555556,
              "#d8576b"
             ],
             [
              0.6666666666666666,
              "#ed7953"
             ],
             [
              0.7777777777777778,
              "#fb9f3a"
             ],
             [
              0.8888888888888888,
              "#fdca26"
             ],
             [
              1,
              "#f0f921"
             ]
            ],
            "type": "contour"
           }
          ],
          "contourcarpet": [
           {
            "colorbar": {
             "outlinewidth": 0,
             "ticks": ""
            },
            "type": "contourcarpet"
           }
          ],
          "heatmap": [
           {
            "colorbar": {
             "outlinewidth": 0,
             "ticks": ""
            },
            "colorscale": [
             [
              0,
              "#0d0887"
             ],
             [
              0.1111111111111111,
              "#46039f"
             ],
             [
              0.2222222222222222,
              "#7201a8"
             ],
             [
              0.3333333333333333,
              "#9c179e"
             ],
             [
              0.4444444444444444,
              "#bd3786"
             ],
             [
              0.5555555555555556,
              "#d8576b"
             ],
             [
              0.6666666666666666,
              "#ed7953"
             ],
             [
              0.7777777777777778,
              "#fb9f3a"
             ],
             [
              0.8888888888888888,
              "#fdca26"
             ],
             [
              1,
              "#f0f921"
             ]
            ],
            "type": "heatmap"
           }
          ],
          "heatmapgl": [
           {
            "colorbar": {
             "outlinewidth": 0,
             "ticks": ""
            },
            "colorscale": [
             [
              0,
              "#0d0887"
             ],
             [
              0.1111111111111111,
              "#46039f"
             ],
             [
              0.2222222222222222,
              "#7201a8"
             ],
             [
              0.3333333333333333,
              "#9c179e"
             ],
             [
              0.4444444444444444,
              "#bd3786"
             ],
             [
              0.5555555555555556,
              "#d8576b"
             ],
             [
              0.6666666666666666,
              "#ed7953"
             ],
             [
              0.7777777777777778,
              "#fb9f3a"
             ],
             [
              0.8888888888888888,
              "#fdca26"
             ],
             [
              1,
              "#f0f921"
             ]
            ],
            "type": "heatmapgl"
           }
          ],
          "histogram": [
           {
            "marker": {
             "pattern": {
              "fillmode": "overlay",
              "size": 10,
              "solidity": 0.2
             }
            },
            "type": "histogram"
           }
          ],
          "histogram2d": [
           {
            "colorbar": {
             "outlinewidth": 0,
             "ticks": ""
            },
            "colorscale": [
             [
              0,
              "#0d0887"
             ],
             [
              0.1111111111111111,
              "#46039f"
             ],
             [
              0.2222222222222222,
              "#7201a8"
             ],
             [
              0.3333333333333333,
              "#9c179e"
             ],
             [
              0.4444444444444444,
              "#bd3786"
             ],
             [
              0.5555555555555556,
              "#d8576b"
             ],
             [
              0.6666666666666666,
              "#ed7953"
             ],
             [
              0.7777777777777778,
              "#fb9f3a"
             ],
             [
              0.8888888888888888,
              "#fdca26"
             ],
             [
              1,
              "#f0f921"
             ]
            ],
            "type": "histogram2d"
           }
          ],
          "histogram2dcontour": [
           {
            "colorbar": {
             "outlinewidth": 0,
             "ticks": ""
            },
            "colorscale": [
             [
              0,
              "#0d0887"
             ],
             [
              0.1111111111111111,
              "#46039f"
             ],
             [
              0.2222222222222222,
              "#7201a8"
             ],
             [
              0.3333333333333333,
              "#9c179e"
             ],
             [
              0.4444444444444444,
              "#bd3786"
             ],
             [
              0.5555555555555556,
              "#d8576b"
             ],
             [
              0.6666666666666666,
              "#ed7953"
             ],
             [
              0.7777777777777778,
              "#fb9f3a"
             ],
             [
              0.8888888888888888,
              "#fdca26"
             ],
             [
              1,
              "#f0f921"
             ]
            ],
            "type": "histogram2dcontour"
           }
          ],
          "mesh3d": [
           {
            "colorbar": {
             "outlinewidth": 0,
             "ticks": ""
            },
            "type": "mesh3d"
           }
          ],
          "parcoords": [
           {
            "line": {
             "colorbar": {
              "outlinewidth": 0,
              "ticks": ""
             }
            },
            "type": "parcoords"
           }
          ],
          "pie": [
           {
            "automargin": true,
            "type": "pie"
           }
          ],
          "scatter": [
           {
            "fillpattern": {
             "fillmode": "overlay",
             "size": 10,
             "solidity": 0.2
            },
            "type": "scatter"
           }
          ],
          "scatter3d": [
           {
            "line": {
             "colorbar": {
              "outlinewidth": 0,
              "ticks": ""
             }
            },
            "marker": {
             "colorbar": {
              "outlinewidth": 0,
              "ticks": ""
             }
            },
            "type": "scatter3d"
           }
          ],
          "scattercarpet": [
           {
            "marker": {
             "colorbar": {
              "outlinewidth": 0,
              "ticks": ""
             }
            },
            "type": "scattercarpet"
           }
          ],
          "scattergeo": [
           {
            "marker": {
             "colorbar": {
              "outlinewidth": 0,
              "ticks": ""
             }
            },
            "type": "scattergeo"
           }
          ],
          "scattergl": [
           {
            "marker": {
             "colorbar": {
              "outlinewidth": 0,
              "ticks": ""
             }
            },
            "type": "scattergl"
           }
          ],
          "scattermapbox": [
           {
            "marker": {
             "colorbar": {
              "outlinewidth": 0,
              "ticks": ""
             }
            },
            "type": "scattermapbox"
           }
          ],
          "scatterpolar": [
           {
            "marker": {
             "colorbar": {
              "outlinewidth": 0,
              "ticks": ""
             }
            },
            "type": "scatterpolar"
           }
          ],
          "scatterpolargl": [
           {
            "marker": {
             "colorbar": {
              "outlinewidth": 0,
              "ticks": ""
             }
            },
            "type": "scatterpolargl"
           }
          ],
          "scatterternary": [
           {
            "marker": {
             "colorbar": {
              "outlinewidth": 0,
              "ticks": ""
             }
            },
            "type": "scatterternary"
           }
          ],
          "surface": [
           {
            "colorbar": {
             "outlinewidth": 0,
             "ticks": ""
            },
            "colorscale": [
             [
              0,
              "#0d0887"
             ],
             [
              0.1111111111111111,
              "#46039f"
             ],
             [
              0.2222222222222222,
              "#7201a8"
             ],
             [
              0.3333333333333333,
              "#9c179e"
             ],
             [
              0.4444444444444444,
              "#bd3786"
             ],
             [
              0.5555555555555556,
              "#d8576b"
             ],
             [
              0.6666666666666666,
              "#ed7953"
             ],
             [
              0.7777777777777778,
              "#fb9f3a"
             ],
             [
              0.8888888888888888,
              "#fdca26"
             ],
             [
              1,
              "#f0f921"
             ]
            ],
            "type": "surface"
           }
          ],
          "table": [
           {
            "cells": {
             "fill": {
              "color": "#EBF0F8"
             },
             "line": {
              "color": "white"
             }
            },
            "header": {
             "fill": {
              "color": "#C8D4E3"
             },
             "line": {
              "color": "white"
             }
            },
            "type": "table"
           }
          ]
         },
         "layout": {
          "annotationdefaults": {
           "arrowcolor": "#2a3f5f",
           "arrowhead": 0,
           "arrowwidth": 1
          },
          "autotypenumbers": "strict",
          "coloraxis": {
           "colorbar": {
            "outlinewidth": 0,
            "ticks": ""
           }
          },
          "colorscale": {
           "diverging": [
            [
             0,
             "#8e0152"
            ],
            [
             0.1,
             "#c51b7d"
            ],
            [
             0.2,
             "#de77ae"
            ],
            [
             0.3,
             "#f1b6da"
            ],
            [
             0.4,
             "#fde0ef"
            ],
            [
             0.5,
             "#f7f7f7"
            ],
            [
             0.6,
             "#e6f5d0"
            ],
            [
             0.7,
             "#b8e186"
            ],
            [
             0.8,
             "#7fbc41"
            ],
            [
             0.9,
             "#4d9221"
            ],
            [
             1,
             "#276419"
            ]
           ],
           "sequential": [
            [
             0,
             "#0d0887"
            ],
            [
             0.1111111111111111,
             "#46039f"
            ],
            [
             0.2222222222222222,
             "#7201a8"
            ],
            [
             0.3333333333333333,
             "#9c179e"
            ],
            [
             0.4444444444444444,
             "#bd3786"
            ],
            [
             0.5555555555555556,
             "#d8576b"
            ],
            [
             0.6666666666666666,
             "#ed7953"
            ],
            [
             0.7777777777777778,
             "#fb9f3a"
            ],
            [
             0.8888888888888888,
             "#fdca26"
            ],
            [
             1,
             "#f0f921"
            ]
           ],
           "sequentialminus": [
            [
             0,
             "#0d0887"
            ],
            [
             0.1111111111111111,
             "#46039f"
            ],
            [
             0.2222222222222222,
             "#7201a8"
            ],
            [
             0.3333333333333333,
             "#9c179e"
            ],
            [
             0.4444444444444444,
             "#bd3786"
            ],
            [
             0.5555555555555556,
             "#d8576b"
            ],
            [
             0.6666666666666666,
             "#ed7953"
            ],
            [
             0.7777777777777778,
             "#fb9f3a"
            ],
            [
             0.8888888888888888,
             "#fdca26"
            ],
            [
             1,
             "#f0f921"
            ]
           ]
          },
          "colorway": [
           "#636efa",
           "#EF553B",
           "#00cc96",
           "#ab63fa",
           "#FFA15A",
           "#19d3f3",
           "#FF6692",
           "#B6E880",
           "#FF97FF",
           "#FECB52"
          ],
          "font": {
           "color": "#2a3f5f"
          },
          "geo": {
           "bgcolor": "white",
           "lakecolor": "white",
           "landcolor": "#E5ECF6",
           "showlakes": true,
           "showland": true,
           "subunitcolor": "white"
          },
          "hoverlabel": {
           "align": "left"
          },
          "hovermode": "closest",
          "mapbox": {
           "style": "light"
          },
          "paper_bgcolor": "white",
          "plot_bgcolor": "#E5ECF6",
          "polar": {
           "angularaxis": {
            "gridcolor": "white",
            "linecolor": "white",
            "ticks": ""
           },
           "bgcolor": "#E5ECF6",
           "radialaxis": {
            "gridcolor": "white",
            "linecolor": "white",
            "ticks": ""
           }
          },
          "scene": {
           "xaxis": {
            "backgroundcolor": "#E5ECF6",
            "gridcolor": "white",
            "gridwidth": 2,
            "linecolor": "white",
            "showbackground": true,
            "ticks": "",
            "zerolinecolor": "white"
           },
           "yaxis": {
            "backgroundcolor": "#E5ECF6",
            "gridcolor": "white",
            "gridwidth": 2,
            "linecolor": "white",
            "showbackground": true,
            "ticks": "",
            "zerolinecolor": "white"
           },
           "zaxis": {
            "backgroundcolor": "#E5ECF6",
            "gridcolor": "white",
            "gridwidth": 2,
            "linecolor": "white",
            "showbackground": true,
            "ticks": "",
            "zerolinecolor": "white"
           }
          },
          "shapedefaults": {
           "line": {
            "color": "#2a3f5f"
           }
          },
          "ternary": {
           "aaxis": {
            "gridcolor": "white",
            "linecolor": "white",
            "ticks": ""
           },
           "baxis": {
            "gridcolor": "white",
            "linecolor": "white",
            "ticks": ""
           },
           "bgcolor": "#E5ECF6",
           "caxis": {
            "gridcolor": "white",
            "linecolor": "white",
            "ticks": ""
           }
          },
          "title": {
           "x": 0.05
          },
          "xaxis": {
           "automargin": true,
           "gridcolor": "white",
           "linecolor": "white",
           "ticks": "",
           "title": {
            "standoff": 15
           },
           "zerolinecolor": "white",
           "zerolinewidth": 2
          },
          "yaxis": {
           "automargin": true,
           "gridcolor": "white",
           "linecolor": "white",
           "ticks": "",
           "title": {
            "standoff": 15
           },
           "zerolinecolor": "white",
           "zerolinewidth": 2
          }
         }
        },
        "title": {
         "text": "Distribution of Heure de début and Heure de fin for Prestation ACCOMPAGNEMENTS COURSES"
        },
        "xaxis": {
         "anchor": "y",
         "domain": [
          0,
          0.45
         ],
         "tickangle": -90,
         "ticktext": [
          "0:00",
          "1:00",
          "2:00",
          "3:00",
          "4:00",
          "5:00",
          "6:00",
          "7:00",
          "8:00",
          "9:00",
          "10:00",
          "11:00",
          "12:00",
          "13:00",
          "14:00",
          "15:00",
          "16:00",
          "17:00",
          "18:00",
          "19:00",
          "20:00",
          "21:00",
          "22:00",
          "23:00"
         ],
         "tickvals": [
          0,
          1,
          2,
          3,
          4,
          5,
          6,
          7,
          8,
          9,
          10,
          11,
          12,
          13,
          14,
          15,
          16,
          17,
          18,
          19,
          20,
          21,
          22,
          23
         ],
         "title": {
          "text": "Heure"
         }
        },
        "xaxis2": {
         "anchor": "y2",
         "domain": [
          0.55,
          1
         ],
         "tickangle": -90,
         "ticktext": [
          "0:00",
          "1:00",
          "2:00",
          "3:00",
          "4:00",
          "5:00",
          "6:00",
          "7:00",
          "8:00",
          "9:00",
          "10:00",
          "11:00",
          "12:00",
          "13:00",
          "14:00",
          "15:00",
          "16:00",
          "17:00",
          "18:00",
          "19:00",
          "20:00",
          "21:00",
          "22:00",
          "23:00"
         ],
         "tickvals": [
          0,
          1,
          2,
          3,
          4,
          5,
          6,
          7,
          8,
          9,
          10,
          11,
          12,
          13,
          14,
          15,
          16,
          17,
          18,
          19,
          20,
          21,
          22,
          23
         ],
         "title": {
          "text": "Heure"
         }
        },
        "yaxis": {
         "anchor": "x",
         "domain": [
          0,
          1
         ],
         "title": {
          "text": "Frequency"
         }
        },
        "yaxis2": {
         "anchor": "x2",
         "domain": [
          0,
          1
         ]
        }
       }
      }
     },
     "metadata": {},
     "output_type": "display_data"
    },
    {
     "data": {
      "application/vnd.plotly.v1+json": {
       "config": {
        "plotlyServerURL": "https://plot.ly"
       },
       "data": [
        {
         "marker": {
          "color": "orchid"
         },
         "opacity": 0.7,
         "showlegend": false,
         "type": "histogram",
         "x": [
          9,
          9,
          9,
          9
         ],
         "xaxis": "x",
         "yaxis": "y"
        },
        {
         "marker": {
          "color": "mediumorchid"
         },
         "opacity": 0.7,
         "showlegend": false,
         "type": "histogram",
         "x": [
          12,
          12,
          12,
          12
         ],
         "xaxis": "x2",
         "yaxis": "y2"
        }
       ],
       "layout": {
        "annotations": [
         {
          "font": {
           "size": 16
          },
          "showarrow": false,
          "text": "Heure de début",
          "x": 0.225,
          "xanchor": "center",
          "xref": "paper",
          "y": 1,
          "yanchor": "bottom",
          "yref": "paper"
         },
         {
          "font": {
           "size": 16
          },
          "showarrow": false,
          "text": "Heure de fin",
          "x": 0.775,
          "xanchor": "center",
          "xref": "paper",
          "y": 1,
          "yanchor": "bottom",
          "yref": "paper"
         }
        ],
        "bargap": 0.1,
        "template": {
         "data": {
          "bar": [
           {
            "error_x": {
             "color": "#2a3f5f"
            },
            "error_y": {
             "color": "#2a3f5f"
            },
            "marker": {
             "line": {
              "color": "#E5ECF6",
              "width": 0.5
             },
             "pattern": {
              "fillmode": "overlay",
              "size": 10,
              "solidity": 0.2
             }
            },
            "type": "bar"
           }
          ],
          "barpolar": [
           {
            "marker": {
             "line": {
              "color": "#E5ECF6",
              "width": 0.5
             },
             "pattern": {
              "fillmode": "overlay",
              "size": 10,
              "solidity": 0.2
             }
            },
            "type": "barpolar"
           }
          ],
          "carpet": [
           {
            "aaxis": {
             "endlinecolor": "#2a3f5f",
             "gridcolor": "white",
             "linecolor": "white",
             "minorgridcolor": "white",
             "startlinecolor": "#2a3f5f"
            },
            "baxis": {
             "endlinecolor": "#2a3f5f",
             "gridcolor": "white",
             "linecolor": "white",
             "minorgridcolor": "white",
             "startlinecolor": "#2a3f5f"
            },
            "type": "carpet"
           }
          ],
          "choropleth": [
           {
            "colorbar": {
             "outlinewidth": 0,
             "ticks": ""
            },
            "type": "choropleth"
           }
          ],
          "contour": [
           {
            "colorbar": {
             "outlinewidth": 0,
             "ticks": ""
            },
            "colorscale": [
             [
              0,
              "#0d0887"
             ],
             [
              0.1111111111111111,
              "#46039f"
             ],
             [
              0.2222222222222222,
              "#7201a8"
             ],
             [
              0.3333333333333333,
              "#9c179e"
             ],
             [
              0.4444444444444444,
              "#bd3786"
             ],
             [
              0.5555555555555556,
              "#d8576b"
             ],
             [
              0.6666666666666666,
              "#ed7953"
             ],
             [
              0.7777777777777778,
              "#fb9f3a"
             ],
             [
              0.8888888888888888,
              "#fdca26"
             ],
             [
              1,
              "#f0f921"
             ]
            ],
            "type": "contour"
           }
          ],
          "contourcarpet": [
           {
            "colorbar": {
             "outlinewidth": 0,
             "ticks": ""
            },
            "type": "contourcarpet"
           }
          ],
          "heatmap": [
           {
            "colorbar": {
             "outlinewidth": 0,
             "ticks": ""
            },
            "colorscale": [
             [
              0,
              "#0d0887"
             ],
             [
              0.1111111111111111,
              "#46039f"
             ],
             [
              0.2222222222222222,
              "#7201a8"
             ],
             [
              0.3333333333333333,
              "#9c179e"
             ],
             [
              0.4444444444444444,
              "#bd3786"
             ],
             [
              0.5555555555555556,
              "#d8576b"
             ],
             [
              0.6666666666666666,
              "#ed7953"
             ],
             [
              0.7777777777777778,
              "#fb9f3a"
             ],
             [
              0.8888888888888888,
              "#fdca26"
             ],
             [
              1,
              "#f0f921"
             ]
            ],
            "type": "heatmap"
           }
          ],
          "heatmapgl": [
           {
            "colorbar": {
             "outlinewidth": 0,
             "ticks": ""
            },
            "colorscale": [
             [
              0,
              "#0d0887"
             ],
             [
              0.1111111111111111,
              "#46039f"
             ],
             [
              0.2222222222222222,
              "#7201a8"
             ],
             [
              0.3333333333333333,
              "#9c179e"
             ],
             [
              0.4444444444444444,
              "#bd3786"
             ],
             [
              0.5555555555555556,
              "#d8576b"
             ],
             [
              0.6666666666666666,
              "#ed7953"
             ],
             [
              0.7777777777777778,
              "#fb9f3a"
             ],
             [
              0.8888888888888888,
              "#fdca26"
             ],
             [
              1,
              "#f0f921"
             ]
            ],
            "type": "heatmapgl"
           }
          ],
          "histogram": [
           {
            "marker": {
             "pattern": {
              "fillmode": "overlay",
              "size": 10,
              "solidity": 0.2
             }
            },
            "type": "histogram"
           }
          ],
          "histogram2d": [
           {
            "colorbar": {
             "outlinewidth": 0,
             "ticks": ""
            },
            "colorscale": [
             [
              0,
              "#0d0887"
             ],
             [
              0.1111111111111111,
              "#46039f"
             ],
             [
              0.2222222222222222,
              "#7201a8"
             ],
             [
              0.3333333333333333,
              "#9c179e"
             ],
             [
              0.4444444444444444,
              "#bd3786"
             ],
             [
              0.5555555555555556,
              "#d8576b"
             ],
             [
              0.6666666666666666,
              "#ed7953"
             ],
             [
              0.7777777777777778,
              "#fb9f3a"
             ],
             [
              0.8888888888888888,
              "#fdca26"
             ],
             [
              1,
              "#f0f921"
             ]
            ],
            "type": "histogram2d"
           }
          ],
          "histogram2dcontour": [
           {
            "colorbar": {
             "outlinewidth": 0,
             "ticks": ""
            },
            "colorscale": [
             [
              0,
              "#0d0887"
             ],
             [
              0.1111111111111111,
              "#46039f"
             ],
             [
              0.2222222222222222,
              "#7201a8"
             ],
             [
              0.3333333333333333,
              "#9c179e"
             ],
             [
              0.4444444444444444,
              "#bd3786"
             ],
             [
              0.5555555555555556,
              "#d8576b"
             ],
             [
              0.6666666666666666,
              "#ed7953"
             ],
             [
              0.7777777777777778,
              "#fb9f3a"
             ],
             [
              0.8888888888888888,
              "#fdca26"
             ],
             [
              1,
              "#f0f921"
             ]
            ],
            "type": "histogram2dcontour"
           }
          ],
          "mesh3d": [
           {
            "colorbar": {
             "outlinewidth": 0,
             "ticks": ""
            },
            "type": "mesh3d"
           }
          ],
          "parcoords": [
           {
            "line": {
             "colorbar": {
              "outlinewidth": 0,
              "ticks": ""
             }
            },
            "type": "parcoords"
           }
          ],
          "pie": [
           {
            "automargin": true,
            "type": "pie"
           }
          ],
          "scatter": [
           {
            "fillpattern": {
             "fillmode": "overlay",
             "size": 10,
             "solidity": 0.2
            },
            "type": "scatter"
           }
          ],
          "scatter3d": [
           {
            "line": {
             "colorbar": {
              "outlinewidth": 0,
              "ticks": ""
             }
            },
            "marker": {
             "colorbar": {
              "outlinewidth": 0,
              "ticks": ""
             }
            },
            "type": "scatter3d"
           }
          ],
          "scattercarpet": [
           {
            "marker": {
             "colorbar": {
              "outlinewidth": 0,
              "ticks": ""
             }
            },
            "type": "scattercarpet"
           }
          ],
          "scattergeo": [
           {
            "marker": {
             "colorbar": {
              "outlinewidth": 0,
              "ticks": ""
             }
            },
            "type": "scattergeo"
           }
          ],
          "scattergl": [
           {
            "marker": {
             "colorbar": {
              "outlinewidth": 0,
              "ticks": ""
             }
            },
            "type": "scattergl"
           }
          ],
          "scattermapbox": [
           {
            "marker": {
             "colorbar": {
              "outlinewidth": 0,
              "ticks": ""
             }
            },
            "type": "scattermapbox"
           }
          ],
          "scatterpolar": [
           {
            "marker": {
             "colorbar": {
              "outlinewidth": 0,
              "ticks": ""
             }
            },
            "type": "scatterpolar"
           }
          ],
          "scatterpolargl": [
           {
            "marker": {
             "colorbar": {
              "outlinewidth": 0,
              "ticks": ""
             }
            },
            "type": "scatterpolargl"
           }
          ],
          "scatterternary": [
           {
            "marker": {
             "colorbar": {
              "outlinewidth": 0,
              "ticks": ""
             }
            },
            "type": "scatterternary"
           }
          ],
          "surface": [
           {
            "colorbar": {
             "outlinewidth": 0,
             "ticks": ""
            },
            "colorscale": [
             [
              0,
              "#0d0887"
             ],
             [
              0.1111111111111111,
              "#46039f"
             ],
             [
              0.2222222222222222,
              "#7201a8"
             ],
             [
              0.3333333333333333,
              "#9c179e"
             ],
             [
              0.4444444444444444,
              "#bd3786"
             ],
             [
              0.5555555555555556,
              "#d8576b"
             ],
             [
              0.6666666666666666,
              "#ed7953"
             ],
             [
              0.7777777777777778,
              "#fb9f3a"
             ],
             [
              0.8888888888888888,
              "#fdca26"
             ],
             [
              1,
              "#f0f921"
             ]
            ],
            "type": "surface"
           }
          ],
          "table": [
           {
            "cells": {
             "fill": {
              "color": "#EBF0F8"
             },
             "line": {
              "color": "white"
             }
            },
            "header": {
             "fill": {
              "color": "#C8D4E3"
             },
             "line": {
              "color": "white"
             }
            },
            "type": "table"
           }
          ]
         },
         "layout": {
          "annotationdefaults": {
           "arrowcolor": "#2a3f5f",
           "arrowhead": 0,
           "arrowwidth": 1
          },
          "autotypenumbers": "strict",
          "coloraxis": {
           "colorbar": {
            "outlinewidth": 0,
            "ticks": ""
           }
          },
          "colorscale": {
           "diverging": [
            [
             0,
             "#8e0152"
            ],
            [
             0.1,
             "#c51b7d"
            ],
            [
             0.2,
             "#de77ae"
            ],
            [
             0.3,
             "#f1b6da"
            ],
            [
             0.4,
             "#fde0ef"
            ],
            [
             0.5,
             "#f7f7f7"
            ],
            [
             0.6,
             "#e6f5d0"
            ],
            [
             0.7,
             "#b8e186"
            ],
            [
             0.8,
             "#7fbc41"
            ],
            [
             0.9,
             "#4d9221"
            ],
            [
             1,
             "#276419"
            ]
           ],
           "sequential": [
            [
             0,
             "#0d0887"
            ],
            [
             0.1111111111111111,
             "#46039f"
            ],
            [
             0.2222222222222222,
             "#7201a8"
            ],
            [
             0.3333333333333333,
             "#9c179e"
            ],
            [
             0.4444444444444444,
             "#bd3786"
            ],
            [
             0.5555555555555556,
             "#d8576b"
            ],
            [
             0.6666666666666666,
             "#ed7953"
            ],
            [
             0.7777777777777778,
             "#fb9f3a"
            ],
            [
             0.8888888888888888,
             "#fdca26"
            ],
            [
             1,
             "#f0f921"
            ]
           ],
           "sequentialminus": [
            [
             0,
             "#0d0887"
            ],
            [
             0.1111111111111111,
             "#46039f"
            ],
            [
             0.2222222222222222,
             "#7201a8"
            ],
            [
             0.3333333333333333,
             "#9c179e"
            ],
            [
             0.4444444444444444,
             "#bd3786"
            ],
            [
             0.5555555555555556,
             "#d8576b"
            ],
            [
             0.6666666666666666,
             "#ed7953"
            ],
            [
             0.7777777777777778,
             "#fb9f3a"
            ],
            [
             0.8888888888888888,
             "#fdca26"
            ],
            [
             1,
             "#f0f921"
            ]
           ]
          },
          "colorway": [
           "#636efa",
           "#EF553B",
           "#00cc96",
           "#ab63fa",
           "#FFA15A",
           "#19d3f3",
           "#FF6692",
           "#B6E880",
           "#FF97FF",
           "#FECB52"
          ],
          "font": {
           "color": "#2a3f5f"
          },
          "geo": {
           "bgcolor": "white",
           "lakecolor": "white",
           "landcolor": "#E5ECF6",
           "showlakes": true,
           "showland": true,
           "subunitcolor": "white"
          },
          "hoverlabel": {
           "align": "left"
          },
          "hovermode": "closest",
          "mapbox": {
           "style": "light"
          },
          "paper_bgcolor": "white",
          "plot_bgcolor": "#E5ECF6",
          "polar": {
           "angularaxis": {
            "gridcolor": "white",
            "linecolor": "white",
            "ticks": ""
           },
           "bgcolor": "#E5ECF6",
           "radialaxis": {
            "gridcolor": "white",
            "linecolor": "white",
            "ticks": ""
           }
          },
          "scene": {
           "xaxis": {
            "backgroundcolor": "#E5ECF6",
            "gridcolor": "white",
            "gridwidth": 2,
            "linecolor": "white",
            "showbackground": true,
            "ticks": "",
            "zerolinecolor": "white"
           },
           "yaxis": {
            "backgroundcolor": "#E5ECF6",
            "gridcolor": "white",
            "gridwidth": 2,
            "linecolor": "white",
            "showbackground": true,
            "ticks": "",
            "zerolinecolor": "white"
           },
           "zaxis": {
            "backgroundcolor": "#E5ECF6",
            "gridcolor": "white",
            "gridwidth": 2,
            "linecolor": "white",
            "showbackground": true,
            "ticks": "",
            "zerolinecolor": "white"
           }
          },
          "shapedefaults": {
           "line": {
            "color": "#2a3f5f"
           }
          },
          "ternary": {
           "aaxis": {
            "gridcolor": "white",
            "linecolor": "white",
            "ticks": ""
           },
           "baxis": {
            "gridcolor": "white",
            "linecolor": "white",
            "ticks": ""
           },
           "bgcolor": "#E5ECF6",
           "caxis": {
            "gridcolor": "white",
            "linecolor": "white",
            "ticks": ""
           }
          },
          "title": {
           "x": 0.05
          },
          "xaxis": {
           "automargin": true,
           "gridcolor": "white",
           "linecolor": "white",
           "ticks": "",
           "title": {
            "standoff": 15
           },
           "zerolinecolor": "white",
           "zerolinewidth": 2
          },
          "yaxis": {
           "automargin": true,
           "gridcolor": "white",
           "linecolor": "white",
           "ticks": "",
           "title": {
            "standoff": 15
           },
           "zerolinecolor": "white",
           "zerolinewidth": 2
          }
         }
        },
        "title": {
         "text": "Distribution of Heure de début and Heure de fin for Prestation FEMME DE MENAGE"
        },
        "xaxis": {
         "anchor": "y",
         "domain": [
          0,
          0.45
         ],
         "tickangle": -90,
         "ticktext": [
          "0:00",
          "1:00",
          "2:00",
          "3:00",
          "4:00",
          "5:00",
          "6:00",
          "7:00",
          "8:00",
          "9:00",
          "10:00",
          "11:00",
          "12:00",
          "13:00",
          "14:00",
          "15:00",
          "16:00",
          "17:00",
          "18:00",
          "19:00",
          "20:00",
          "21:00",
          "22:00",
          "23:00"
         ],
         "tickvals": [
          0,
          1,
          2,
          3,
          4,
          5,
          6,
          7,
          8,
          9,
          10,
          11,
          12,
          13,
          14,
          15,
          16,
          17,
          18,
          19,
          20,
          21,
          22,
          23
         ],
         "title": {
          "text": "Heure"
         }
        },
        "xaxis2": {
         "anchor": "y2",
         "domain": [
          0.55,
          1
         ],
         "tickangle": -90,
         "ticktext": [
          "0:00",
          "1:00",
          "2:00",
          "3:00",
          "4:00",
          "5:00",
          "6:00",
          "7:00",
          "8:00",
          "9:00",
          "10:00",
          "11:00",
          "12:00",
          "13:00",
          "14:00",
          "15:00",
          "16:00",
          "17:00",
          "18:00",
          "19:00",
          "20:00",
          "21:00",
          "22:00",
          "23:00"
         ],
         "tickvals": [
          0,
          1,
          2,
          3,
          4,
          5,
          6,
          7,
          8,
          9,
          10,
          11,
          12,
          13,
          14,
          15,
          16,
          17,
          18,
          19,
          20,
          21,
          22,
          23
         ],
         "title": {
          "text": "Heure"
         }
        },
        "yaxis": {
         "anchor": "x",
         "domain": [
          0,
          1
         ],
         "title": {
          "text": "Frequency"
         }
        },
        "yaxis2": {
         "anchor": "x2",
         "domain": [
          0,
          1
         ]
        }
       }
      }
     },
     "metadata": {},
     "output_type": "display_data"
    },
    {
     "data": {
      "application/vnd.plotly.v1+json": {
       "config": {
        "plotlyServerURL": "https://plot.ly"
       },
       "data": [
        {
         "marker": {
          "color": "orchid"
         },
         "opacity": 0.7,
         "showlegend": false,
         "type": "histogram",
         "x": [
          18,
          12,
          17,
          17,
          17,
          18,
          18,
          18,
          18,
          17
         ],
         "xaxis": "x",
         "yaxis": "y"
        },
        {
         "marker": {
          "color": "mediumorchid"
         },
         "opacity": 0.7,
         "showlegend": false,
         "type": "histogram",
         "x": [
          20,
          16,
          18,
          19,
          18,
          20,
          20,
          20,
          19,
          18
         ],
         "xaxis": "x2",
         "yaxis": "y2"
        }
       ],
       "layout": {
        "annotations": [
         {
          "font": {
           "size": 16
          },
          "showarrow": false,
          "text": "Heure de début",
          "x": 0.225,
          "xanchor": "center",
          "xref": "paper",
          "y": 1,
          "yanchor": "bottom",
          "yref": "paper"
         },
         {
          "font": {
           "size": 16
          },
          "showarrow": false,
          "text": "Heure de fin",
          "x": 0.775,
          "xanchor": "center",
          "xref": "paper",
          "y": 1,
          "yanchor": "bottom",
          "yref": "paper"
         }
        ],
        "bargap": 0.1,
        "template": {
         "data": {
          "bar": [
           {
            "error_x": {
             "color": "#2a3f5f"
            },
            "error_y": {
             "color": "#2a3f5f"
            },
            "marker": {
             "line": {
              "color": "#E5ECF6",
              "width": 0.5
             },
             "pattern": {
              "fillmode": "overlay",
              "size": 10,
              "solidity": 0.2
             }
            },
            "type": "bar"
           }
          ],
          "barpolar": [
           {
            "marker": {
             "line": {
              "color": "#E5ECF6",
              "width": 0.5
             },
             "pattern": {
              "fillmode": "overlay",
              "size": 10,
              "solidity": 0.2
             }
            },
            "type": "barpolar"
           }
          ],
          "carpet": [
           {
            "aaxis": {
             "endlinecolor": "#2a3f5f",
             "gridcolor": "white",
             "linecolor": "white",
             "minorgridcolor": "white",
             "startlinecolor": "#2a3f5f"
            },
            "baxis": {
             "endlinecolor": "#2a3f5f",
             "gridcolor": "white",
             "linecolor": "white",
             "minorgridcolor": "white",
             "startlinecolor": "#2a3f5f"
            },
            "type": "carpet"
           }
          ],
          "choropleth": [
           {
            "colorbar": {
             "outlinewidth": 0,
             "ticks": ""
            },
            "type": "choropleth"
           }
          ],
          "contour": [
           {
            "colorbar": {
             "outlinewidth": 0,
             "ticks": ""
            },
            "colorscale": [
             [
              0,
              "#0d0887"
             ],
             [
              0.1111111111111111,
              "#46039f"
             ],
             [
              0.2222222222222222,
              "#7201a8"
             ],
             [
              0.3333333333333333,
              "#9c179e"
             ],
             [
              0.4444444444444444,
              "#bd3786"
             ],
             [
              0.5555555555555556,
              "#d8576b"
             ],
             [
              0.6666666666666666,
              "#ed7953"
             ],
             [
              0.7777777777777778,
              "#fb9f3a"
             ],
             [
              0.8888888888888888,
              "#fdca26"
             ],
             [
              1,
              "#f0f921"
             ]
            ],
            "type": "contour"
           }
          ],
          "contourcarpet": [
           {
            "colorbar": {
             "outlinewidth": 0,
             "ticks": ""
            },
            "type": "contourcarpet"
           }
          ],
          "heatmap": [
           {
            "colorbar": {
             "outlinewidth": 0,
             "ticks": ""
            },
            "colorscale": [
             [
              0,
              "#0d0887"
             ],
             [
              0.1111111111111111,
              "#46039f"
             ],
             [
              0.2222222222222222,
              "#7201a8"
             ],
             [
              0.3333333333333333,
              "#9c179e"
             ],
             [
              0.4444444444444444,
              "#bd3786"
             ],
             [
              0.5555555555555556,
              "#d8576b"
             ],
             [
              0.6666666666666666,
              "#ed7953"
             ],
             [
              0.7777777777777778,
              "#fb9f3a"
             ],
             [
              0.8888888888888888,
              "#fdca26"
             ],
             [
              1,
              "#f0f921"
             ]
            ],
            "type": "heatmap"
           }
          ],
          "heatmapgl": [
           {
            "colorbar": {
             "outlinewidth": 0,
             "ticks": ""
            },
            "colorscale": [
             [
              0,
              "#0d0887"
             ],
             [
              0.1111111111111111,
              "#46039f"
             ],
             [
              0.2222222222222222,
              "#7201a8"
             ],
             [
              0.3333333333333333,
              "#9c179e"
             ],
             [
              0.4444444444444444,
              "#bd3786"
             ],
             [
              0.5555555555555556,
              "#d8576b"
             ],
             [
              0.6666666666666666,
              "#ed7953"
             ],
             [
              0.7777777777777778,
              "#fb9f3a"
             ],
             [
              0.8888888888888888,
              "#fdca26"
             ],
             [
              1,
              "#f0f921"
             ]
            ],
            "type": "heatmapgl"
           }
          ],
          "histogram": [
           {
            "marker": {
             "pattern": {
              "fillmode": "overlay",
              "size": 10,
              "solidity": 0.2
             }
            },
            "type": "histogram"
           }
          ],
          "histogram2d": [
           {
            "colorbar": {
             "outlinewidth": 0,
             "ticks": ""
            },
            "colorscale": [
             [
              0,
              "#0d0887"
             ],
             [
              0.1111111111111111,
              "#46039f"
             ],
             [
              0.2222222222222222,
              "#7201a8"
             ],
             [
              0.3333333333333333,
              "#9c179e"
             ],
             [
              0.4444444444444444,
              "#bd3786"
             ],
             [
              0.5555555555555556,
              "#d8576b"
             ],
             [
              0.6666666666666666,
              "#ed7953"
             ],
             [
              0.7777777777777778,
              "#fb9f3a"
             ],
             [
              0.8888888888888888,
              "#fdca26"
             ],
             [
              1,
              "#f0f921"
             ]
            ],
            "type": "histogram2d"
           }
          ],
          "histogram2dcontour": [
           {
            "colorbar": {
             "outlinewidth": 0,
             "ticks": ""
            },
            "colorscale": [
             [
              0,
              "#0d0887"
             ],
             [
              0.1111111111111111,
              "#46039f"
             ],
             [
              0.2222222222222222,
              "#7201a8"
             ],
             [
              0.3333333333333333,
              "#9c179e"
             ],
             [
              0.4444444444444444,
              "#bd3786"
             ],
             [
              0.5555555555555556,
              "#d8576b"
             ],
             [
              0.6666666666666666,
              "#ed7953"
             ],
             [
              0.7777777777777778,
              "#fb9f3a"
             ],
             [
              0.8888888888888888,
              "#fdca26"
             ],
             [
              1,
              "#f0f921"
             ]
            ],
            "type": "histogram2dcontour"
           }
          ],
          "mesh3d": [
           {
            "colorbar": {
             "outlinewidth": 0,
             "ticks": ""
            },
            "type": "mesh3d"
           }
          ],
          "parcoords": [
           {
            "line": {
             "colorbar": {
              "outlinewidth": 0,
              "ticks": ""
             }
            },
            "type": "parcoords"
           }
          ],
          "pie": [
           {
            "automargin": true,
            "type": "pie"
           }
          ],
          "scatter": [
           {
            "fillpattern": {
             "fillmode": "overlay",
             "size": 10,
             "solidity": 0.2
            },
            "type": "scatter"
           }
          ],
          "scatter3d": [
           {
            "line": {
             "colorbar": {
              "outlinewidth": 0,
              "ticks": ""
             }
            },
            "marker": {
             "colorbar": {
              "outlinewidth": 0,
              "ticks": ""
             }
            },
            "type": "scatter3d"
           }
          ],
          "scattercarpet": [
           {
            "marker": {
             "colorbar": {
              "outlinewidth": 0,
              "ticks": ""
             }
            },
            "type": "scattercarpet"
           }
          ],
          "scattergeo": [
           {
            "marker": {
             "colorbar": {
              "outlinewidth": 0,
              "ticks": ""
             }
            },
            "type": "scattergeo"
           }
          ],
          "scattergl": [
           {
            "marker": {
             "colorbar": {
              "outlinewidth": 0,
              "ticks": ""
             }
            },
            "type": "scattergl"
           }
          ],
          "scattermapbox": [
           {
            "marker": {
             "colorbar": {
              "outlinewidth": 0,
              "ticks": ""
             }
            },
            "type": "scattermapbox"
           }
          ],
          "scatterpolar": [
           {
            "marker": {
             "colorbar": {
              "outlinewidth": 0,
              "ticks": ""
             }
            },
            "type": "scatterpolar"
           }
          ],
          "scatterpolargl": [
           {
            "marker": {
             "colorbar": {
              "outlinewidth": 0,
              "ticks": ""
             }
            },
            "type": "scatterpolargl"
           }
          ],
          "scatterternary": [
           {
            "marker": {
             "colorbar": {
              "outlinewidth": 0,
              "ticks": ""
             }
            },
            "type": "scatterternary"
           }
          ],
          "surface": [
           {
            "colorbar": {
             "outlinewidth": 0,
             "ticks": ""
            },
            "colorscale": [
             [
              0,
              "#0d0887"
             ],
             [
              0.1111111111111111,
              "#46039f"
             ],
             [
              0.2222222222222222,
              "#7201a8"
             ],
             [
              0.3333333333333333,
              "#9c179e"
             ],
             [
              0.4444444444444444,
              "#bd3786"
             ],
             [
              0.5555555555555556,
              "#d8576b"
             ],
             [
              0.6666666666666666,
              "#ed7953"
             ],
             [
              0.7777777777777778,
              "#fb9f3a"
             ],
             [
              0.8888888888888888,
              "#fdca26"
             ],
             [
              1,
              "#f0f921"
             ]
            ],
            "type": "surface"
           }
          ],
          "table": [
           {
            "cells": {
             "fill": {
              "color": "#EBF0F8"
             },
             "line": {
              "color": "white"
             }
            },
            "header": {
             "fill": {
              "color": "#C8D4E3"
             },
             "line": {
              "color": "white"
             }
            },
            "type": "table"
           }
          ]
         },
         "layout": {
          "annotationdefaults": {
           "arrowcolor": "#2a3f5f",
           "arrowhead": 0,
           "arrowwidth": 1
          },
          "autotypenumbers": "strict",
          "coloraxis": {
           "colorbar": {
            "outlinewidth": 0,
            "ticks": ""
           }
          },
          "colorscale": {
           "diverging": [
            [
             0,
             "#8e0152"
            ],
            [
             0.1,
             "#c51b7d"
            ],
            [
             0.2,
             "#de77ae"
            ],
            [
             0.3,
             "#f1b6da"
            ],
            [
             0.4,
             "#fde0ef"
            ],
            [
             0.5,
             "#f7f7f7"
            ],
            [
             0.6,
             "#e6f5d0"
            ],
            [
             0.7,
             "#b8e186"
            ],
            [
             0.8,
             "#7fbc41"
            ],
            [
             0.9,
             "#4d9221"
            ],
            [
             1,
             "#276419"
            ]
           ],
           "sequential": [
            [
             0,
             "#0d0887"
            ],
            [
             0.1111111111111111,
             "#46039f"
            ],
            [
             0.2222222222222222,
             "#7201a8"
            ],
            [
             0.3333333333333333,
             "#9c179e"
            ],
            [
             0.4444444444444444,
             "#bd3786"
            ],
            [
             0.5555555555555556,
             "#d8576b"
            ],
            [
             0.6666666666666666,
             "#ed7953"
            ],
            [
             0.7777777777777778,
             "#fb9f3a"
            ],
            [
             0.8888888888888888,
             "#fdca26"
            ],
            [
             1,
             "#f0f921"
            ]
           ],
           "sequentialminus": [
            [
             0,
             "#0d0887"
            ],
            [
             0.1111111111111111,
             "#46039f"
            ],
            [
             0.2222222222222222,
             "#7201a8"
            ],
            [
             0.3333333333333333,
             "#9c179e"
            ],
            [
             0.4444444444444444,
             "#bd3786"
            ],
            [
             0.5555555555555556,
             "#d8576b"
            ],
            [
             0.6666666666666666,
             "#ed7953"
            ],
            [
             0.7777777777777778,
             "#fb9f3a"
            ],
            [
             0.8888888888888888,
             "#fdca26"
            ],
            [
             1,
             "#f0f921"
            ]
           ]
          },
          "colorway": [
           "#636efa",
           "#EF553B",
           "#00cc96",
           "#ab63fa",
           "#FFA15A",
           "#19d3f3",
           "#FF6692",
           "#B6E880",
           "#FF97FF",
           "#FECB52"
          ],
          "font": {
           "color": "#2a3f5f"
          },
          "geo": {
           "bgcolor": "white",
           "lakecolor": "white",
           "landcolor": "#E5ECF6",
           "showlakes": true,
           "showland": true,
           "subunitcolor": "white"
          },
          "hoverlabel": {
           "align": "left"
          },
          "hovermode": "closest",
          "mapbox": {
           "style": "light"
          },
          "paper_bgcolor": "white",
          "plot_bgcolor": "#E5ECF6",
          "polar": {
           "angularaxis": {
            "gridcolor": "white",
            "linecolor": "white",
            "ticks": ""
           },
           "bgcolor": "#E5ECF6",
           "radialaxis": {
            "gridcolor": "white",
            "linecolor": "white",
            "ticks": ""
           }
          },
          "scene": {
           "xaxis": {
            "backgroundcolor": "#E5ECF6",
            "gridcolor": "white",
            "gridwidth": 2,
            "linecolor": "white",
            "showbackground": true,
            "ticks": "",
            "zerolinecolor": "white"
           },
           "yaxis": {
            "backgroundcolor": "#E5ECF6",
            "gridcolor": "white",
            "gridwidth": 2,
            "linecolor": "white",
            "showbackground": true,
            "ticks": "",
            "zerolinecolor": "white"
           },
           "zaxis": {
            "backgroundcolor": "#E5ECF6",
            "gridcolor": "white",
            "gridwidth": 2,
            "linecolor": "white",
            "showbackground": true,
            "ticks": "",
            "zerolinecolor": "white"
           }
          },
          "shapedefaults": {
           "line": {
            "color": "#2a3f5f"
           }
          },
          "ternary": {
           "aaxis": {
            "gridcolor": "white",
            "linecolor": "white",
            "ticks": ""
           },
           "baxis": {
            "gridcolor": "white",
            "linecolor": "white",
            "ticks": ""
           },
           "bgcolor": "#E5ECF6",
           "caxis": {
            "gridcolor": "white",
            "linecolor": "white",
            "ticks": ""
           }
          },
          "title": {
           "x": 0.05
          },
          "xaxis": {
           "automargin": true,
           "gridcolor": "white",
           "linecolor": "white",
           "ticks": "",
           "title": {
            "standoff": 15
           },
           "zerolinecolor": "white",
           "zerolinewidth": 2
          },
          "yaxis": {
           "automargin": true,
           "gridcolor": "white",
           "linecolor": "white",
           "ticks": "",
           "title": {
            "standoff": 15
           },
           "zerolinecolor": "white",
           "zerolinewidth": 2
          }
         }
        },
        "title": {
         "text": "Distribution of Heure de début and Heure de fin for Prestation GARDE D'ENFANTS"
        },
        "xaxis": {
         "anchor": "y",
         "domain": [
          0,
          0.45
         ],
         "tickangle": -90,
         "ticktext": [
          "0:00",
          "1:00",
          "2:00",
          "3:00",
          "4:00",
          "5:00",
          "6:00",
          "7:00",
          "8:00",
          "9:00",
          "10:00",
          "11:00",
          "12:00",
          "13:00",
          "14:00",
          "15:00",
          "16:00",
          "17:00",
          "18:00",
          "19:00",
          "20:00",
          "21:00",
          "22:00",
          "23:00"
         ],
         "tickvals": [
          0,
          1,
          2,
          3,
          4,
          5,
          6,
          7,
          8,
          9,
          10,
          11,
          12,
          13,
          14,
          15,
          16,
          17,
          18,
          19,
          20,
          21,
          22,
          23
         ],
         "title": {
          "text": "Heure"
         }
        },
        "xaxis2": {
         "anchor": "y2",
         "domain": [
          0.55,
          1
         ],
         "tickangle": -90,
         "ticktext": [
          "0:00",
          "1:00",
          "2:00",
          "3:00",
          "4:00",
          "5:00",
          "6:00",
          "7:00",
          "8:00",
          "9:00",
          "10:00",
          "11:00",
          "12:00",
          "13:00",
          "14:00",
          "15:00",
          "16:00",
          "17:00",
          "18:00",
          "19:00",
          "20:00",
          "21:00",
          "22:00",
          "23:00"
         ],
         "tickvals": [
          0,
          1,
          2,
          3,
          4,
          5,
          6,
          7,
          8,
          9,
          10,
          11,
          12,
          13,
          14,
          15,
          16,
          17,
          18,
          19,
          20,
          21,
          22,
          23
         ],
         "title": {
          "text": "Heure"
         }
        },
        "yaxis": {
         "anchor": "x",
         "domain": [
          0,
          1
         ],
         "title": {
          "text": "Frequency"
         }
        },
        "yaxis2": {
         "anchor": "x2",
         "domain": [
          0,
          1
         ]
        }
       }
      }
     },
     "metadata": {},
     "output_type": "display_data"
    }
   ],
   "source": [
    "def time_to_hours(t):\n",
    "    return t.hour\n",
    "\n",
    "JAN24_df['Heure de fin'] = JAN24_df['Heure de fin'].apply(time_to_hours)\n",
    "JAN24_df['Heure de début'] = JAN24_df['Heure de début'].apply(time_to_hours)\n",
    "\n",
    "prestations = JAN24_df['Prestation'].unique()\n",
    "\n",
    "for prest in prestations:\n",
    "    prest_df = JAN24_df[JAN24_df['Prestation'] == prest]\n",
    "    \n",
    "    \n",
    "    fig = make_subplots(rows=1, cols=2, subplot_titles=(f'Heure de début',\n",
    "                                                       f'Heure de fin'))\n",
    "\n",
    "    \n",
    "    fig.add_trace(go.Histogram(x=prest_df['Heure de début'], marker_color='orchid', opacity=0.7, showlegend=False), row=1, col=1)\n",
    "\n",
    "    \n",
    "    fig.add_trace(go.Histogram(x=prest_df['Heure de fin'], marker_color='mediumorchid', opacity=0.7, showlegend=False), row=1, col=2)\n",
    "\n",
    "    \n",
    "    fig.update_layout(title=f'Distribution of Heure de début and Heure de fin for Prestation {prest}',\n",
    "                      xaxis=dict(title='Heure', tickvals=list(range(24)), ticktext=[f'{hour}:00' for hour in range(24)],tickangle=-90),\n",
    "                      yaxis=dict(title='Frequency'),\n",
    "                      bargap=0.1)\n",
    "\n",
    "    fig.update_xaxes(title_text='Heure', tickvals=list(range(24)), ticktext=[f'{hour}:00' for hour in range(24)],tickangle=-90, row=1, col=2)\n",
    "\n",
    "    fig.show()\n"
   ]
  },
  {
   "cell_type": "markdown",
   "metadata": {},
   "source": [
    "### Distribution of day type by prestation"
   ]
  },
  {
   "cell_type": "code",
   "execution_count": 47,
   "metadata": {},
   "outputs": [
    {
     "data": {
      "application/vnd.plotly.v1+json": {
       "config": {
        "plotlyServerURL": "https://plot.ly"
       },
       "data": [
        {
         "marker": {
          "color": "orchid"
         },
         "name": "Count",
         "type": "bar",
         "x": [
          "TOILETTE",
          "REPAS",
          "AIDE MENAGERE",
          "VIE SOCIALE",
          "ACCOMPAGNEMENTS COURSES",
          "GARDE D'ENFANTS",
          "FEMME DE MENAGE"
         ],
         "y": [
          1217,
          910,
          443,
          96,
          83,
          10,
          4
         ]
        }
       ],
       "layout": {
        "template": {
         "data": {
          "bar": [
           {
            "error_x": {
             "color": "#2a3f5f"
            },
            "error_y": {
             "color": "#2a3f5f"
            },
            "marker": {
             "line": {
              "color": "#E5ECF6",
              "width": 0.5
             },
             "pattern": {
              "fillmode": "overlay",
              "size": 10,
              "solidity": 0.2
             }
            },
            "type": "bar"
           }
          ],
          "barpolar": [
           {
            "marker": {
             "line": {
              "color": "#E5ECF6",
              "width": 0.5
             },
             "pattern": {
              "fillmode": "overlay",
              "size": 10,
              "solidity": 0.2
             }
            },
            "type": "barpolar"
           }
          ],
          "carpet": [
           {
            "aaxis": {
             "endlinecolor": "#2a3f5f",
             "gridcolor": "white",
             "linecolor": "white",
             "minorgridcolor": "white",
             "startlinecolor": "#2a3f5f"
            },
            "baxis": {
             "endlinecolor": "#2a3f5f",
             "gridcolor": "white",
             "linecolor": "white",
             "minorgridcolor": "white",
             "startlinecolor": "#2a3f5f"
            },
            "type": "carpet"
           }
          ],
          "choropleth": [
           {
            "colorbar": {
             "outlinewidth": 0,
             "ticks": ""
            },
            "type": "choropleth"
           }
          ],
          "contour": [
           {
            "colorbar": {
             "outlinewidth": 0,
             "ticks": ""
            },
            "colorscale": [
             [
              0,
              "#0d0887"
             ],
             [
              0.1111111111111111,
              "#46039f"
             ],
             [
              0.2222222222222222,
              "#7201a8"
             ],
             [
              0.3333333333333333,
              "#9c179e"
             ],
             [
              0.4444444444444444,
              "#bd3786"
             ],
             [
              0.5555555555555556,
              "#d8576b"
             ],
             [
              0.6666666666666666,
              "#ed7953"
             ],
             [
              0.7777777777777778,
              "#fb9f3a"
             ],
             [
              0.8888888888888888,
              "#fdca26"
             ],
             [
              1,
              "#f0f921"
             ]
            ],
            "type": "contour"
           }
          ],
          "contourcarpet": [
           {
            "colorbar": {
             "outlinewidth": 0,
             "ticks": ""
            },
            "type": "contourcarpet"
           }
          ],
          "heatmap": [
           {
            "colorbar": {
             "outlinewidth": 0,
             "ticks": ""
            },
            "colorscale": [
             [
              0,
              "#0d0887"
             ],
             [
              0.1111111111111111,
              "#46039f"
             ],
             [
              0.2222222222222222,
              "#7201a8"
             ],
             [
              0.3333333333333333,
              "#9c179e"
             ],
             [
              0.4444444444444444,
              "#bd3786"
             ],
             [
              0.5555555555555556,
              "#d8576b"
             ],
             [
              0.6666666666666666,
              "#ed7953"
             ],
             [
              0.7777777777777778,
              "#fb9f3a"
             ],
             [
              0.8888888888888888,
              "#fdca26"
             ],
             [
              1,
              "#f0f921"
             ]
            ],
            "type": "heatmap"
           }
          ],
          "heatmapgl": [
           {
            "colorbar": {
             "outlinewidth": 0,
             "ticks": ""
            },
            "colorscale": [
             [
              0,
              "#0d0887"
             ],
             [
              0.1111111111111111,
              "#46039f"
             ],
             [
              0.2222222222222222,
              "#7201a8"
             ],
             [
              0.3333333333333333,
              "#9c179e"
             ],
             [
              0.4444444444444444,
              "#bd3786"
             ],
             [
              0.5555555555555556,
              "#d8576b"
             ],
             [
              0.6666666666666666,
              "#ed7953"
             ],
             [
              0.7777777777777778,
              "#fb9f3a"
             ],
             [
              0.8888888888888888,
              "#fdca26"
             ],
             [
              1,
              "#f0f921"
             ]
            ],
            "type": "heatmapgl"
           }
          ],
          "histogram": [
           {
            "marker": {
             "pattern": {
              "fillmode": "overlay",
              "size": 10,
              "solidity": 0.2
             }
            },
            "type": "histogram"
           }
          ],
          "histogram2d": [
           {
            "colorbar": {
             "outlinewidth": 0,
             "ticks": ""
            },
            "colorscale": [
             [
              0,
              "#0d0887"
             ],
             [
              0.1111111111111111,
              "#46039f"
             ],
             [
              0.2222222222222222,
              "#7201a8"
             ],
             [
              0.3333333333333333,
              "#9c179e"
             ],
             [
              0.4444444444444444,
              "#bd3786"
             ],
             [
              0.5555555555555556,
              "#d8576b"
             ],
             [
              0.6666666666666666,
              "#ed7953"
             ],
             [
              0.7777777777777778,
              "#fb9f3a"
             ],
             [
              0.8888888888888888,
              "#fdca26"
             ],
             [
              1,
              "#f0f921"
             ]
            ],
            "type": "histogram2d"
           }
          ],
          "histogram2dcontour": [
           {
            "colorbar": {
             "outlinewidth": 0,
             "ticks": ""
            },
            "colorscale": [
             [
              0,
              "#0d0887"
             ],
             [
              0.1111111111111111,
              "#46039f"
             ],
             [
              0.2222222222222222,
              "#7201a8"
             ],
             [
              0.3333333333333333,
              "#9c179e"
             ],
             [
              0.4444444444444444,
              "#bd3786"
             ],
             [
              0.5555555555555556,
              "#d8576b"
             ],
             [
              0.6666666666666666,
              "#ed7953"
             ],
             [
              0.7777777777777778,
              "#fb9f3a"
             ],
             [
              0.8888888888888888,
              "#fdca26"
             ],
             [
              1,
              "#f0f921"
             ]
            ],
            "type": "histogram2dcontour"
           }
          ],
          "mesh3d": [
           {
            "colorbar": {
             "outlinewidth": 0,
             "ticks": ""
            },
            "type": "mesh3d"
           }
          ],
          "parcoords": [
           {
            "line": {
             "colorbar": {
              "outlinewidth": 0,
              "ticks": ""
             }
            },
            "type": "parcoords"
           }
          ],
          "pie": [
           {
            "automargin": true,
            "type": "pie"
           }
          ],
          "scatter": [
           {
            "fillpattern": {
             "fillmode": "overlay",
             "size": 10,
             "solidity": 0.2
            },
            "type": "scatter"
           }
          ],
          "scatter3d": [
           {
            "line": {
             "colorbar": {
              "outlinewidth": 0,
              "ticks": ""
             }
            },
            "marker": {
             "colorbar": {
              "outlinewidth": 0,
              "ticks": ""
             }
            },
            "type": "scatter3d"
           }
          ],
          "scattercarpet": [
           {
            "marker": {
             "colorbar": {
              "outlinewidth": 0,
              "ticks": ""
             }
            },
            "type": "scattercarpet"
           }
          ],
          "scattergeo": [
           {
            "marker": {
             "colorbar": {
              "outlinewidth": 0,
              "ticks": ""
             }
            },
            "type": "scattergeo"
           }
          ],
          "scattergl": [
           {
            "marker": {
             "colorbar": {
              "outlinewidth": 0,
              "ticks": ""
             }
            },
            "type": "scattergl"
           }
          ],
          "scattermapbox": [
           {
            "marker": {
             "colorbar": {
              "outlinewidth": 0,
              "ticks": ""
             }
            },
            "type": "scattermapbox"
           }
          ],
          "scatterpolar": [
           {
            "marker": {
             "colorbar": {
              "outlinewidth": 0,
              "ticks": ""
             }
            },
            "type": "scatterpolar"
           }
          ],
          "scatterpolargl": [
           {
            "marker": {
             "colorbar": {
              "outlinewidth": 0,
              "ticks": ""
             }
            },
            "type": "scatterpolargl"
           }
          ],
          "scatterternary": [
           {
            "marker": {
             "colorbar": {
              "outlinewidth": 0,
              "ticks": ""
             }
            },
            "type": "scatterternary"
           }
          ],
          "surface": [
           {
            "colorbar": {
             "outlinewidth": 0,
             "ticks": ""
            },
            "colorscale": [
             [
              0,
              "#0d0887"
             ],
             [
              0.1111111111111111,
              "#46039f"
             ],
             [
              0.2222222222222222,
              "#7201a8"
             ],
             [
              0.3333333333333333,
              "#9c179e"
             ],
             [
              0.4444444444444444,
              "#bd3786"
             ],
             [
              0.5555555555555556,
              "#d8576b"
             ],
             [
              0.6666666666666666,
              "#ed7953"
             ],
             [
              0.7777777777777778,
              "#fb9f3a"
             ],
             [
              0.8888888888888888,
              "#fdca26"
             ],
             [
              1,
              "#f0f921"
             ]
            ],
            "type": "surface"
           }
          ],
          "table": [
           {
            "cells": {
             "fill": {
              "color": "#EBF0F8"
             },
             "line": {
              "color": "white"
             }
            },
            "header": {
             "fill": {
              "color": "#C8D4E3"
             },
             "line": {
              "color": "white"
             }
            },
            "type": "table"
           }
          ]
         },
         "layout": {
          "annotationdefaults": {
           "arrowcolor": "#2a3f5f",
           "arrowhead": 0,
           "arrowwidth": 1
          },
          "autotypenumbers": "strict",
          "coloraxis": {
           "colorbar": {
            "outlinewidth": 0,
            "ticks": ""
           }
          },
          "colorscale": {
           "diverging": [
            [
             0,
             "#8e0152"
            ],
            [
             0.1,
             "#c51b7d"
            ],
            [
             0.2,
             "#de77ae"
            ],
            [
             0.3,
             "#f1b6da"
            ],
            [
             0.4,
             "#fde0ef"
            ],
            [
             0.5,
             "#f7f7f7"
            ],
            [
             0.6,
             "#e6f5d0"
            ],
            [
             0.7,
             "#b8e186"
            ],
            [
             0.8,
             "#7fbc41"
            ],
            [
             0.9,
             "#4d9221"
            ],
            [
             1,
             "#276419"
            ]
           ],
           "sequential": [
            [
             0,
             "#0d0887"
            ],
            [
             0.1111111111111111,
             "#46039f"
            ],
            [
             0.2222222222222222,
             "#7201a8"
            ],
            [
             0.3333333333333333,
             "#9c179e"
            ],
            [
             0.4444444444444444,
             "#bd3786"
            ],
            [
             0.5555555555555556,
             "#d8576b"
            ],
            [
             0.6666666666666666,
             "#ed7953"
            ],
            [
             0.7777777777777778,
             "#fb9f3a"
            ],
            [
             0.8888888888888888,
             "#fdca26"
            ],
            [
             1,
             "#f0f921"
            ]
           ],
           "sequentialminus": [
            [
             0,
             "#0d0887"
            ],
            [
             0.1111111111111111,
             "#46039f"
            ],
            [
             0.2222222222222222,
             "#7201a8"
            ],
            [
             0.3333333333333333,
             "#9c179e"
            ],
            [
             0.4444444444444444,
             "#bd3786"
            ],
            [
             0.5555555555555556,
             "#d8576b"
            ],
            [
             0.6666666666666666,
             "#ed7953"
            ],
            [
             0.7777777777777778,
             "#fb9f3a"
            ],
            [
             0.8888888888888888,
             "#fdca26"
            ],
            [
             1,
             "#f0f921"
            ]
           ]
          },
          "colorway": [
           "#636efa",
           "#EF553B",
           "#00cc96",
           "#ab63fa",
           "#FFA15A",
           "#19d3f3",
           "#FF6692",
           "#B6E880",
           "#FF97FF",
           "#FECB52"
          ],
          "font": {
           "color": "#2a3f5f"
          },
          "geo": {
           "bgcolor": "white",
           "lakecolor": "white",
           "landcolor": "#E5ECF6",
           "showlakes": true,
           "showland": true,
           "subunitcolor": "white"
          },
          "hoverlabel": {
           "align": "left"
          },
          "hovermode": "closest",
          "mapbox": {
           "style": "light"
          },
          "paper_bgcolor": "white",
          "plot_bgcolor": "#E5ECF6",
          "polar": {
           "angularaxis": {
            "gridcolor": "white",
            "linecolor": "white",
            "ticks": ""
           },
           "bgcolor": "#E5ECF6",
           "radialaxis": {
            "gridcolor": "white",
            "linecolor": "white",
            "ticks": ""
           }
          },
          "scene": {
           "xaxis": {
            "backgroundcolor": "#E5ECF6",
            "gridcolor": "white",
            "gridwidth": 2,
            "linecolor": "white",
            "showbackground": true,
            "ticks": "",
            "zerolinecolor": "white"
           },
           "yaxis": {
            "backgroundcolor": "#E5ECF6",
            "gridcolor": "white",
            "gridwidth": 2,
            "linecolor": "white",
            "showbackground": true,
            "ticks": "",
            "zerolinecolor": "white"
           },
           "zaxis": {
            "backgroundcolor": "#E5ECF6",
            "gridcolor": "white",
            "gridwidth": 2,
            "linecolor": "white",
            "showbackground": true,
            "ticks": "",
            "zerolinecolor": "white"
           }
          },
          "shapedefaults": {
           "line": {
            "color": "#2a3f5f"
           }
          },
          "ternary": {
           "aaxis": {
            "gridcolor": "white",
            "linecolor": "white",
            "ticks": ""
           },
           "baxis": {
            "gridcolor": "white",
            "linecolor": "white",
            "ticks": ""
           },
           "bgcolor": "#E5ECF6",
           "caxis": {
            "gridcolor": "white",
            "linecolor": "white",
            "ticks": ""
           }
          },
          "title": {
           "x": 0.05
          },
          "xaxis": {
           "automargin": true,
           "gridcolor": "white",
           "linecolor": "white",
           "ticks": "",
           "title": {
            "standoff": 15
           },
           "zerolinecolor": "white",
           "zerolinewidth": 2
          },
          "yaxis": {
           "automargin": true,
           "gridcolor": "white",
           "linecolor": "white",
           "ticks": "",
           "title": {
            "standoff": 15
           },
           "zerolinecolor": "white",
           "zerolinewidth": 2
          }
         }
        },
        "title": {
         "text": "Distribution of Prestation"
        },
        "xaxis": {
         "tickangle": -90,
         "tickfont": {
          "size": 10
         },
         "title": {
          "text": "Prestation"
         }
        },
        "yaxis": {
         "title": {
          "text": "Count"
         }
        }
       }
      }
     },
     "metadata": {},
     "output_type": "display_data"
    }
   ],
   "source": [
    "grouped = JAN24_df.groupby('Prestation').size().sort_values(ascending=False)\n",
    "\n",
    "prestation_trace = go.Bar(\n",
    "    x=grouped.index,\n",
    "    y=grouped.values,\n",
    "    name='Count',\n",
    "    marker=dict(color='orchid')\n",
    ")\n",
    "\n",
    "data = [prestation_trace]\n",
    "\n",
    "layout = go.Layout(\n",
    "    title='Distribution of Prestation',\n",
    "    xaxis=dict(\n",
    "        title='Prestation',\n",
    "        tickangle=-90,\n",
    "        tickfont=dict(\n",
    "            size=10\n",
    "        )\n",
    "    ),\n",
    "    yaxis=dict(\n",
    "        title='Count'\n",
    "    )\n",
    ")\n",
    "\n",
    "fig = go.Figure(data=data, layout=layout)\n",
    "\n",
    "pio.show(fig)\n"
   ]
  },
  {
   "cell_type": "code",
   "execution_count": 7,
   "metadata": {},
   "outputs": [
    {
     "data": {
      "application/vnd.plotly.v1+json": {
       "config": {
        "plotlyServerURL": "https://plot.ly"
       },
       "data": [
        {
         "marker": {
          "color": "orchid"
         },
         "name": "Week-day",
         "type": "bar",
         "x": [
          "ACCOMPAGNEMENTS COURSES",
          "AIDE MENAGERE",
          "FEMME DE MENAGE",
          "GARDE D'ENFANTS",
          "REPAS",
          "TOILETTE",
          "VIE SOCIALE"
         ],
         "y": [
          83,
          435,
          4,
          10,
          696,
          938,
          72
         ]
        },
        {
         "marker": {
          "color": "mediumorchid"
         },
         "name": "Week-end",
         "type": "bar",
         "x": [
          "ACCOMPAGNEMENTS COURSES",
          "AIDE MENAGERE",
          "FEMME DE MENAGE",
          "GARDE D'ENFANTS",
          "REPAS",
          "TOILETTE",
          "VIE SOCIALE"
         ],
         "y": [
          0,
          8,
          0,
          0,
          214,
          279,
          24
         ]
        }
       ],
       "layout": {
        "barmode": "group",
        "template": {
         "data": {
          "bar": [
           {
            "error_x": {
             "color": "#2a3f5f"
            },
            "error_y": {
             "color": "#2a3f5f"
            },
            "marker": {
             "line": {
              "color": "#E5ECF6",
              "width": 0.5
             },
             "pattern": {
              "fillmode": "overlay",
              "size": 10,
              "solidity": 0.2
             }
            },
            "type": "bar"
           }
          ],
          "barpolar": [
           {
            "marker": {
             "line": {
              "color": "#E5ECF6",
              "width": 0.5
             },
             "pattern": {
              "fillmode": "overlay",
              "size": 10,
              "solidity": 0.2
             }
            },
            "type": "barpolar"
           }
          ],
          "carpet": [
           {
            "aaxis": {
             "endlinecolor": "#2a3f5f",
             "gridcolor": "white",
             "linecolor": "white",
             "minorgridcolor": "white",
             "startlinecolor": "#2a3f5f"
            },
            "baxis": {
             "endlinecolor": "#2a3f5f",
             "gridcolor": "white",
             "linecolor": "white",
             "minorgridcolor": "white",
             "startlinecolor": "#2a3f5f"
            },
            "type": "carpet"
           }
          ],
          "choropleth": [
           {
            "colorbar": {
             "outlinewidth": 0,
             "ticks": ""
            },
            "type": "choropleth"
           }
          ],
          "contour": [
           {
            "colorbar": {
             "outlinewidth": 0,
             "ticks": ""
            },
            "colorscale": [
             [
              0,
              "#0d0887"
             ],
             [
              0.1111111111111111,
              "#46039f"
             ],
             [
              0.2222222222222222,
              "#7201a8"
             ],
             [
              0.3333333333333333,
              "#9c179e"
             ],
             [
              0.4444444444444444,
              "#bd3786"
             ],
             [
              0.5555555555555556,
              "#d8576b"
             ],
             [
              0.6666666666666666,
              "#ed7953"
             ],
             [
              0.7777777777777778,
              "#fb9f3a"
             ],
             [
              0.8888888888888888,
              "#fdca26"
             ],
             [
              1,
              "#f0f921"
             ]
            ],
            "type": "contour"
           }
          ],
          "contourcarpet": [
           {
            "colorbar": {
             "outlinewidth": 0,
             "ticks": ""
            },
            "type": "contourcarpet"
           }
          ],
          "heatmap": [
           {
            "colorbar": {
             "outlinewidth": 0,
             "ticks": ""
            },
            "colorscale": [
             [
              0,
              "#0d0887"
             ],
             [
              0.1111111111111111,
              "#46039f"
             ],
             [
              0.2222222222222222,
              "#7201a8"
             ],
             [
              0.3333333333333333,
              "#9c179e"
             ],
             [
              0.4444444444444444,
              "#bd3786"
             ],
             [
              0.5555555555555556,
              "#d8576b"
             ],
             [
              0.6666666666666666,
              "#ed7953"
             ],
             [
              0.7777777777777778,
              "#fb9f3a"
             ],
             [
              0.8888888888888888,
              "#fdca26"
             ],
             [
              1,
              "#f0f921"
             ]
            ],
            "type": "heatmap"
           }
          ],
          "heatmapgl": [
           {
            "colorbar": {
             "outlinewidth": 0,
             "ticks": ""
            },
            "colorscale": [
             [
              0,
              "#0d0887"
             ],
             [
              0.1111111111111111,
              "#46039f"
             ],
             [
              0.2222222222222222,
              "#7201a8"
             ],
             [
              0.3333333333333333,
              "#9c179e"
             ],
             [
              0.4444444444444444,
              "#bd3786"
             ],
             [
              0.5555555555555556,
              "#d8576b"
             ],
             [
              0.6666666666666666,
              "#ed7953"
             ],
             [
              0.7777777777777778,
              "#fb9f3a"
             ],
             [
              0.8888888888888888,
              "#fdca26"
             ],
             [
              1,
              "#f0f921"
             ]
            ],
            "type": "heatmapgl"
           }
          ],
          "histogram": [
           {
            "marker": {
             "pattern": {
              "fillmode": "overlay",
              "size": 10,
              "solidity": 0.2
             }
            },
            "type": "histogram"
           }
          ],
          "histogram2d": [
           {
            "colorbar": {
             "outlinewidth": 0,
             "ticks": ""
            },
            "colorscale": [
             [
              0,
              "#0d0887"
             ],
             [
              0.1111111111111111,
              "#46039f"
             ],
             [
              0.2222222222222222,
              "#7201a8"
             ],
             [
              0.3333333333333333,
              "#9c179e"
             ],
             [
              0.4444444444444444,
              "#bd3786"
             ],
             [
              0.5555555555555556,
              "#d8576b"
             ],
             [
              0.6666666666666666,
              "#ed7953"
             ],
             [
              0.7777777777777778,
              "#fb9f3a"
             ],
             [
              0.8888888888888888,
              "#fdca26"
             ],
             [
              1,
              "#f0f921"
             ]
            ],
            "type": "histogram2d"
           }
          ],
          "histogram2dcontour": [
           {
            "colorbar": {
             "outlinewidth": 0,
             "ticks": ""
            },
            "colorscale": [
             [
              0,
              "#0d0887"
             ],
             [
              0.1111111111111111,
              "#46039f"
             ],
             [
              0.2222222222222222,
              "#7201a8"
             ],
             [
              0.3333333333333333,
              "#9c179e"
             ],
             [
              0.4444444444444444,
              "#bd3786"
             ],
             [
              0.5555555555555556,
              "#d8576b"
             ],
             [
              0.6666666666666666,
              "#ed7953"
             ],
             [
              0.7777777777777778,
              "#fb9f3a"
             ],
             [
              0.8888888888888888,
              "#fdca26"
             ],
             [
              1,
              "#f0f921"
             ]
            ],
            "type": "histogram2dcontour"
           }
          ],
          "mesh3d": [
           {
            "colorbar": {
             "outlinewidth": 0,
             "ticks": ""
            },
            "type": "mesh3d"
           }
          ],
          "parcoords": [
           {
            "line": {
             "colorbar": {
              "outlinewidth": 0,
              "ticks": ""
             }
            },
            "type": "parcoords"
           }
          ],
          "pie": [
           {
            "automargin": true,
            "type": "pie"
           }
          ],
          "scatter": [
           {
            "fillpattern": {
             "fillmode": "overlay",
             "size": 10,
             "solidity": 0.2
            },
            "type": "scatter"
           }
          ],
          "scatter3d": [
           {
            "line": {
             "colorbar": {
              "outlinewidth": 0,
              "ticks": ""
             }
            },
            "marker": {
             "colorbar": {
              "outlinewidth": 0,
              "ticks": ""
             }
            },
            "type": "scatter3d"
           }
          ],
          "scattercarpet": [
           {
            "marker": {
             "colorbar": {
              "outlinewidth": 0,
              "ticks": ""
             }
            },
            "type": "scattercarpet"
           }
          ],
          "scattergeo": [
           {
            "marker": {
             "colorbar": {
              "outlinewidth": 0,
              "ticks": ""
             }
            },
            "type": "scattergeo"
           }
          ],
          "scattergl": [
           {
            "marker": {
             "colorbar": {
              "outlinewidth": 0,
              "ticks": ""
             }
            },
            "type": "scattergl"
           }
          ],
          "scattermapbox": [
           {
            "marker": {
             "colorbar": {
              "outlinewidth": 0,
              "ticks": ""
             }
            },
            "type": "scattermapbox"
           }
          ],
          "scatterpolar": [
           {
            "marker": {
             "colorbar": {
              "outlinewidth": 0,
              "ticks": ""
             }
            },
            "type": "scatterpolar"
           }
          ],
          "scatterpolargl": [
           {
            "marker": {
             "colorbar": {
              "outlinewidth": 0,
              "ticks": ""
             }
            },
            "type": "scatterpolargl"
           }
          ],
          "scatterternary": [
           {
            "marker": {
             "colorbar": {
              "outlinewidth": 0,
              "ticks": ""
             }
            },
            "type": "scatterternary"
           }
          ],
          "surface": [
           {
            "colorbar": {
             "outlinewidth": 0,
             "ticks": ""
            },
            "colorscale": [
             [
              0,
              "#0d0887"
             ],
             [
              0.1111111111111111,
              "#46039f"
             ],
             [
              0.2222222222222222,
              "#7201a8"
             ],
             [
              0.3333333333333333,
              "#9c179e"
             ],
             [
              0.4444444444444444,
              "#bd3786"
             ],
             [
              0.5555555555555556,
              "#d8576b"
             ],
             [
              0.6666666666666666,
              "#ed7953"
             ],
             [
              0.7777777777777778,
              "#fb9f3a"
             ],
             [
              0.8888888888888888,
              "#fdca26"
             ],
             [
              1,
              "#f0f921"
             ]
            ],
            "type": "surface"
           }
          ],
          "table": [
           {
            "cells": {
             "fill": {
              "color": "#EBF0F8"
             },
             "line": {
              "color": "white"
             }
            },
            "header": {
             "fill": {
              "color": "#C8D4E3"
             },
             "line": {
              "color": "white"
             }
            },
            "type": "table"
           }
          ]
         },
         "layout": {
          "annotationdefaults": {
           "arrowcolor": "#2a3f5f",
           "arrowhead": 0,
           "arrowwidth": 1
          },
          "autotypenumbers": "strict",
          "coloraxis": {
           "colorbar": {
            "outlinewidth": 0,
            "ticks": ""
           }
          },
          "colorscale": {
           "diverging": [
            [
             0,
             "#8e0152"
            ],
            [
             0.1,
             "#c51b7d"
            ],
            [
             0.2,
             "#de77ae"
            ],
            [
             0.3,
             "#f1b6da"
            ],
            [
             0.4,
             "#fde0ef"
            ],
            [
             0.5,
             "#f7f7f7"
            ],
            [
             0.6,
             "#e6f5d0"
            ],
            [
             0.7,
             "#b8e186"
            ],
            [
             0.8,
             "#7fbc41"
            ],
            [
             0.9,
             "#4d9221"
            ],
            [
             1,
             "#276419"
            ]
           ],
           "sequential": [
            [
             0,
             "#0d0887"
            ],
            [
             0.1111111111111111,
             "#46039f"
            ],
            [
             0.2222222222222222,
             "#7201a8"
            ],
            [
             0.3333333333333333,
             "#9c179e"
            ],
            [
             0.4444444444444444,
             "#bd3786"
            ],
            [
             0.5555555555555556,
             "#d8576b"
            ],
            [
             0.6666666666666666,
             "#ed7953"
            ],
            [
             0.7777777777777778,
             "#fb9f3a"
            ],
            [
             0.8888888888888888,
             "#fdca26"
            ],
            [
             1,
             "#f0f921"
            ]
           ],
           "sequentialminus": [
            [
             0,
             "#0d0887"
            ],
            [
             0.1111111111111111,
             "#46039f"
            ],
            [
             0.2222222222222222,
             "#7201a8"
            ],
            [
             0.3333333333333333,
             "#9c179e"
            ],
            [
             0.4444444444444444,
             "#bd3786"
            ],
            [
             0.5555555555555556,
             "#d8576b"
            ],
            [
             0.6666666666666666,
             "#ed7953"
            ],
            [
             0.7777777777777778,
             "#fb9f3a"
            ],
            [
             0.8888888888888888,
             "#fdca26"
            ],
            [
             1,
             "#f0f921"
            ]
           ]
          },
          "colorway": [
           "#636efa",
           "#EF553B",
           "#00cc96",
           "#ab63fa",
           "#FFA15A",
           "#19d3f3",
           "#FF6692",
           "#B6E880",
           "#FF97FF",
           "#FECB52"
          ],
          "font": {
           "color": "#2a3f5f"
          },
          "geo": {
           "bgcolor": "white",
           "lakecolor": "white",
           "landcolor": "#E5ECF6",
           "showlakes": true,
           "showland": true,
           "subunitcolor": "white"
          },
          "hoverlabel": {
           "align": "left"
          },
          "hovermode": "closest",
          "mapbox": {
           "style": "light"
          },
          "paper_bgcolor": "white",
          "plot_bgcolor": "#E5ECF6",
          "polar": {
           "angularaxis": {
            "gridcolor": "white",
            "linecolor": "white",
            "ticks": ""
           },
           "bgcolor": "#E5ECF6",
           "radialaxis": {
            "gridcolor": "white",
            "linecolor": "white",
            "ticks": ""
           }
          },
          "scene": {
           "xaxis": {
            "backgroundcolor": "#E5ECF6",
            "gridcolor": "white",
            "gridwidth": 2,
            "linecolor": "white",
            "showbackground": true,
            "ticks": "",
            "zerolinecolor": "white"
           },
           "yaxis": {
            "backgroundcolor": "#E5ECF6",
            "gridcolor": "white",
            "gridwidth": 2,
            "linecolor": "white",
            "showbackground": true,
            "ticks": "",
            "zerolinecolor": "white"
           },
           "zaxis": {
            "backgroundcolor": "#E5ECF6",
            "gridcolor": "white",
            "gridwidth": 2,
            "linecolor": "white",
            "showbackground": true,
            "ticks": "",
            "zerolinecolor": "white"
           }
          },
          "shapedefaults": {
           "line": {
            "color": "#2a3f5f"
           }
          },
          "ternary": {
           "aaxis": {
            "gridcolor": "white",
            "linecolor": "white",
            "ticks": ""
           },
           "baxis": {
            "gridcolor": "white",
            "linecolor": "white",
            "ticks": ""
           },
           "bgcolor": "#E5ECF6",
           "caxis": {
            "gridcolor": "white",
            "linecolor": "white",
            "ticks": ""
           }
          },
          "title": {
           "x": 0.05
          },
          "xaxis": {
           "automargin": true,
           "gridcolor": "white",
           "linecolor": "white",
           "ticks": "",
           "title": {
            "standoff": 15
           },
           "zerolinecolor": "white",
           "zerolinewidth": 2
          },
          "yaxis": {
           "automargin": true,
           "gridcolor": "white",
           "linecolor": "white",
           "ticks": "",
           "title": {
            "standoff": 15
           },
           "zerolinecolor": "white",
           "zerolinewidth": 2
          }
         }
        },
        "title": {
         "text": "Distribution of Day Type for each Prestation"
        },
        "xaxis": {
         "tickangle": -90,
         "tickfont": {
          "size": 10
         },
         "title": {
          "text": "Prestation"
         }
        },
        "yaxis": {
         "title": {
          "text": "Count"
         }
        }
       }
      }
     },
     "metadata": {},
     "output_type": "display_data"
    }
   ],
   "source": [
    "grouped = JAN24_df.groupby(['Prestation', 'Day type']).size().unstack(fill_value=0)\n",
    "\n",
    "weekday_trace = go.Bar(\n",
    "    x=grouped.index,\n",
    "    y=grouped['Week-day'],\n",
    "    name='Week-day',\n",
    "    marker=dict(color='orchid')\n",
    ")\n",
    "weekend_trace = go.Bar(\n",
    "    x=grouped.index,\n",
    "    y=grouped['Week-end'],\n",
    "    name='Week-end',\n",
    "    marker=dict(color='mediumorchid')\n",
    ")\n",
    "\n",
    "data = [weekday_trace, weekend_trace]\n",
    "\n",
    "layout = go.Layout(\n",
    "    title='Distribution of Day Type for each Prestation',\n",
    "    xaxis=dict(\n",
    "        title='Prestation',\n",
    "        tickangle=-90,\n",
    "        tickfont=dict(\n",
    "            size=10\n",
    "        )\n",
    "    ),\n",
    "    yaxis=dict(\n",
    "        title='Count'\n",
    "    ),\n",
    "    barmode='group'\n",
    ")\n",
    "\n",
    "fig = go.Figure(data=data, layout=layout)\n",
    "\n",
    "pio.show(fig)\n"
   ]
  },
  {
   "cell_type": "markdown",
   "metadata": {},
   "source": [
    "### Mean duration by prestation "
   ]
  },
  {
   "cell_type": "code",
   "execution_count": 8,
   "metadata": {},
   "outputs": [
    {
     "data": {
      "application/vnd.plotly.v1+json": {
       "config": {
        "plotlyServerURL": "https://plot.ly"
       },
       "data": [
        {
         "marker": {
          "color": "plum"
         },
         "text": [
          39,
          44,
          46,
          87,
          89,
          111,
          180
         ],
         "textposition": "auto",
         "type": "bar",
         "x": [
          "REPAS",
          "VIE SOCIALE",
          "TOILETTE",
          "AIDE MENAGERE",
          "ACCOMPAGNEMENTS COURSES",
          "GARDE D'ENFANTS",
          "FEMME DE MENAGE"
         ],
         "y": [
          38.64835164835165,
          43.90625,
          45.77649958915366,
          87.32505643340858,
          88.855421686747,
          111,
          180
         ]
        }
       ],
       "layout": {
        "bargap": 0.2,
        "showlegend": false,
        "template": {
         "data": {
          "bar": [
           {
            "error_x": {
             "color": "#2a3f5f"
            },
            "error_y": {
             "color": "#2a3f5f"
            },
            "marker": {
             "line": {
              "color": "#E5ECF6",
              "width": 0.5
             },
             "pattern": {
              "fillmode": "overlay",
              "size": 10,
              "solidity": 0.2
             }
            },
            "type": "bar"
           }
          ],
          "barpolar": [
           {
            "marker": {
             "line": {
              "color": "#E5ECF6",
              "width": 0.5
             },
             "pattern": {
              "fillmode": "overlay",
              "size": 10,
              "solidity": 0.2
             }
            },
            "type": "barpolar"
           }
          ],
          "carpet": [
           {
            "aaxis": {
             "endlinecolor": "#2a3f5f",
             "gridcolor": "white",
             "linecolor": "white",
             "minorgridcolor": "white",
             "startlinecolor": "#2a3f5f"
            },
            "baxis": {
             "endlinecolor": "#2a3f5f",
             "gridcolor": "white",
             "linecolor": "white",
             "minorgridcolor": "white",
             "startlinecolor": "#2a3f5f"
            },
            "type": "carpet"
           }
          ],
          "choropleth": [
           {
            "colorbar": {
             "outlinewidth": 0,
             "ticks": ""
            },
            "type": "choropleth"
           }
          ],
          "contour": [
           {
            "colorbar": {
             "outlinewidth": 0,
             "ticks": ""
            },
            "colorscale": [
             [
              0,
              "#0d0887"
             ],
             [
              0.1111111111111111,
              "#46039f"
             ],
             [
              0.2222222222222222,
              "#7201a8"
             ],
             [
              0.3333333333333333,
              "#9c179e"
             ],
             [
              0.4444444444444444,
              "#bd3786"
             ],
             [
              0.5555555555555556,
              "#d8576b"
             ],
             [
              0.6666666666666666,
              "#ed7953"
             ],
             [
              0.7777777777777778,
              "#fb9f3a"
             ],
             [
              0.8888888888888888,
              "#fdca26"
             ],
             [
              1,
              "#f0f921"
             ]
            ],
            "type": "contour"
           }
          ],
          "contourcarpet": [
           {
            "colorbar": {
             "outlinewidth": 0,
             "ticks": ""
            },
            "type": "contourcarpet"
           }
          ],
          "heatmap": [
           {
            "colorbar": {
             "outlinewidth": 0,
             "ticks": ""
            },
            "colorscale": [
             [
              0,
              "#0d0887"
             ],
             [
              0.1111111111111111,
              "#46039f"
             ],
             [
              0.2222222222222222,
              "#7201a8"
             ],
             [
              0.3333333333333333,
              "#9c179e"
             ],
             [
              0.4444444444444444,
              "#bd3786"
             ],
             [
              0.5555555555555556,
              "#d8576b"
             ],
             [
              0.6666666666666666,
              "#ed7953"
             ],
             [
              0.7777777777777778,
              "#fb9f3a"
             ],
             [
              0.8888888888888888,
              "#fdca26"
             ],
             [
              1,
              "#f0f921"
             ]
            ],
            "type": "heatmap"
           }
          ],
          "heatmapgl": [
           {
            "colorbar": {
             "outlinewidth": 0,
             "ticks": ""
            },
            "colorscale": [
             [
              0,
              "#0d0887"
             ],
             [
              0.1111111111111111,
              "#46039f"
             ],
             [
              0.2222222222222222,
              "#7201a8"
             ],
             [
              0.3333333333333333,
              "#9c179e"
             ],
             [
              0.4444444444444444,
              "#bd3786"
             ],
             [
              0.5555555555555556,
              "#d8576b"
             ],
             [
              0.6666666666666666,
              "#ed7953"
             ],
             [
              0.7777777777777778,
              "#fb9f3a"
             ],
             [
              0.8888888888888888,
              "#fdca26"
             ],
             [
              1,
              "#f0f921"
             ]
            ],
            "type": "heatmapgl"
           }
          ],
          "histogram": [
           {
            "marker": {
             "pattern": {
              "fillmode": "overlay",
              "size": 10,
              "solidity": 0.2
             }
            },
            "type": "histogram"
           }
          ],
          "histogram2d": [
           {
            "colorbar": {
             "outlinewidth": 0,
             "ticks": ""
            },
            "colorscale": [
             [
              0,
              "#0d0887"
             ],
             [
              0.1111111111111111,
              "#46039f"
             ],
             [
              0.2222222222222222,
              "#7201a8"
             ],
             [
              0.3333333333333333,
              "#9c179e"
             ],
             [
              0.4444444444444444,
              "#bd3786"
             ],
             [
              0.5555555555555556,
              "#d8576b"
             ],
             [
              0.6666666666666666,
              "#ed7953"
             ],
             [
              0.7777777777777778,
              "#fb9f3a"
             ],
             [
              0.8888888888888888,
              "#fdca26"
             ],
             [
              1,
              "#f0f921"
             ]
            ],
            "type": "histogram2d"
           }
          ],
          "histogram2dcontour": [
           {
            "colorbar": {
             "outlinewidth": 0,
             "ticks": ""
            },
            "colorscale": [
             [
              0,
              "#0d0887"
             ],
             [
              0.1111111111111111,
              "#46039f"
             ],
             [
              0.2222222222222222,
              "#7201a8"
             ],
             [
              0.3333333333333333,
              "#9c179e"
             ],
             [
              0.4444444444444444,
              "#bd3786"
             ],
             [
              0.5555555555555556,
              "#d8576b"
             ],
             [
              0.6666666666666666,
              "#ed7953"
             ],
             [
              0.7777777777777778,
              "#fb9f3a"
             ],
             [
              0.8888888888888888,
              "#fdca26"
             ],
             [
              1,
              "#f0f921"
             ]
            ],
            "type": "histogram2dcontour"
           }
          ],
          "mesh3d": [
           {
            "colorbar": {
             "outlinewidth": 0,
             "ticks": ""
            },
            "type": "mesh3d"
           }
          ],
          "parcoords": [
           {
            "line": {
             "colorbar": {
              "outlinewidth": 0,
              "ticks": ""
             }
            },
            "type": "parcoords"
           }
          ],
          "pie": [
           {
            "automargin": true,
            "type": "pie"
           }
          ],
          "scatter": [
           {
            "fillpattern": {
             "fillmode": "overlay",
             "size": 10,
             "solidity": 0.2
            },
            "type": "scatter"
           }
          ],
          "scatter3d": [
           {
            "line": {
             "colorbar": {
              "outlinewidth": 0,
              "ticks": ""
             }
            },
            "marker": {
             "colorbar": {
              "outlinewidth": 0,
              "ticks": ""
             }
            },
            "type": "scatter3d"
           }
          ],
          "scattercarpet": [
           {
            "marker": {
             "colorbar": {
              "outlinewidth": 0,
              "ticks": ""
             }
            },
            "type": "scattercarpet"
           }
          ],
          "scattergeo": [
           {
            "marker": {
             "colorbar": {
              "outlinewidth": 0,
              "ticks": ""
             }
            },
            "type": "scattergeo"
           }
          ],
          "scattergl": [
           {
            "marker": {
             "colorbar": {
              "outlinewidth": 0,
              "ticks": ""
             }
            },
            "type": "scattergl"
           }
          ],
          "scattermapbox": [
           {
            "marker": {
             "colorbar": {
              "outlinewidth": 0,
              "ticks": ""
             }
            },
            "type": "scattermapbox"
           }
          ],
          "scatterpolar": [
           {
            "marker": {
             "colorbar": {
              "outlinewidth": 0,
              "ticks": ""
             }
            },
            "type": "scatterpolar"
           }
          ],
          "scatterpolargl": [
           {
            "marker": {
             "colorbar": {
              "outlinewidth": 0,
              "ticks": ""
             }
            },
            "type": "scatterpolargl"
           }
          ],
          "scatterternary": [
           {
            "marker": {
             "colorbar": {
              "outlinewidth": 0,
              "ticks": ""
             }
            },
            "type": "scatterternary"
           }
          ],
          "surface": [
           {
            "colorbar": {
             "outlinewidth": 0,
             "ticks": ""
            },
            "colorscale": [
             [
              0,
              "#0d0887"
             ],
             [
              0.1111111111111111,
              "#46039f"
             ],
             [
              0.2222222222222222,
              "#7201a8"
             ],
             [
              0.3333333333333333,
              "#9c179e"
             ],
             [
              0.4444444444444444,
              "#bd3786"
             ],
             [
              0.5555555555555556,
              "#d8576b"
             ],
             [
              0.6666666666666666,
              "#ed7953"
             ],
             [
              0.7777777777777778,
              "#fb9f3a"
             ],
             [
              0.8888888888888888,
              "#fdca26"
             ],
             [
              1,
              "#f0f921"
             ]
            ],
            "type": "surface"
           }
          ],
          "table": [
           {
            "cells": {
             "fill": {
              "color": "#EBF0F8"
             },
             "line": {
              "color": "white"
             }
            },
            "header": {
             "fill": {
              "color": "#C8D4E3"
             },
             "line": {
              "color": "white"
             }
            },
            "type": "table"
           }
          ]
         },
         "layout": {
          "annotationdefaults": {
           "arrowcolor": "#2a3f5f",
           "arrowhead": 0,
           "arrowwidth": 1
          },
          "autotypenumbers": "strict",
          "coloraxis": {
           "colorbar": {
            "outlinewidth": 0,
            "ticks": ""
           }
          },
          "colorscale": {
           "diverging": [
            [
             0,
             "#8e0152"
            ],
            [
             0.1,
             "#c51b7d"
            ],
            [
             0.2,
             "#de77ae"
            ],
            [
             0.3,
             "#f1b6da"
            ],
            [
             0.4,
             "#fde0ef"
            ],
            [
             0.5,
             "#f7f7f7"
            ],
            [
             0.6,
             "#e6f5d0"
            ],
            [
             0.7,
             "#b8e186"
            ],
            [
             0.8,
             "#7fbc41"
            ],
            [
             0.9,
             "#4d9221"
            ],
            [
             1,
             "#276419"
            ]
           ],
           "sequential": [
            [
             0,
             "#0d0887"
            ],
            [
             0.1111111111111111,
             "#46039f"
            ],
            [
             0.2222222222222222,
             "#7201a8"
            ],
            [
             0.3333333333333333,
             "#9c179e"
            ],
            [
             0.4444444444444444,
             "#bd3786"
            ],
            [
             0.5555555555555556,
             "#d8576b"
            ],
            [
             0.6666666666666666,
             "#ed7953"
            ],
            [
             0.7777777777777778,
             "#fb9f3a"
            ],
            [
             0.8888888888888888,
             "#fdca26"
            ],
            [
             1,
             "#f0f921"
            ]
           ],
           "sequentialminus": [
            [
             0,
             "#0d0887"
            ],
            [
             0.1111111111111111,
             "#46039f"
            ],
            [
             0.2222222222222222,
             "#7201a8"
            ],
            [
             0.3333333333333333,
             "#9c179e"
            ],
            [
             0.4444444444444444,
             "#bd3786"
            ],
            [
             0.5555555555555556,
             "#d8576b"
            ],
            [
             0.6666666666666666,
             "#ed7953"
            ],
            [
             0.7777777777777778,
             "#fb9f3a"
            ],
            [
             0.8888888888888888,
             "#fdca26"
            ],
            [
             1,
             "#f0f921"
            ]
           ]
          },
          "colorway": [
           "#636efa",
           "#EF553B",
           "#00cc96",
           "#ab63fa",
           "#FFA15A",
           "#19d3f3",
           "#FF6692",
           "#B6E880",
           "#FF97FF",
           "#FECB52"
          ],
          "font": {
           "color": "#2a3f5f"
          },
          "geo": {
           "bgcolor": "white",
           "lakecolor": "white",
           "landcolor": "#E5ECF6",
           "showlakes": true,
           "showland": true,
           "subunitcolor": "white"
          },
          "hoverlabel": {
           "align": "left"
          },
          "hovermode": "closest",
          "mapbox": {
           "style": "light"
          },
          "paper_bgcolor": "white",
          "plot_bgcolor": "#E5ECF6",
          "polar": {
           "angularaxis": {
            "gridcolor": "white",
            "linecolor": "white",
            "ticks": ""
           },
           "bgcolor": "#E5ECF6",
           "radialaxis": {
            "gridcolor": "white",
            "linecolor": "white",
            "ticks": ""
           }
          },
          "scene": {
           "xaxis": {
            "backgroundcolor": "#E5ECF6",
            "gridcolor": "white",
            "gridwidth": 2,
            "linecolor": "white",
            "showbackground": true,
            "ticks": "",
            "zerolinecolor": "white"
           },
           "yaxis": {
            "backgroundcolor": "#E5ECF6",
            "gridcolor": "white",
            "gridwidth": 2,
            "linecolor": "white",
            "showbackground": true,
            "ticks": "",
            "zerolinecolor": "white"
           },
           "zaxis": {
            "backgroundcolor": "#E5ECF6",
            "gridcolor": "white",
            "gridwidth": 2,
            "linecolor": "white",
            "showbackground": true,
            "ticks": "",
            "zerolinecolor": "white"
           }
          },
          "shapedefaults": {
           "line": {
            "color": "#2a3f5f"
           }
          },
          "ternary": {
           "aaxis": {
            "gridcolor": "white",
            "linecolor": "white",
            "ticks": ""
           },
           "baxis": {
            "gridcolor": "white",
            "linecolor": "white",
            "ticks": ""
           },
           "bgcolor": "#E5ECF6",
           "caxis": {
            "gridcolor": "white",
            "linecolor": "white",
            "ticks": ""
           }
          },
          "title": {
           "x": 0.05
          },
          "xaxis": {
           "automargin": true,
           "gridcolor": "white",
           "linecolor": "white",
           "ticks": "",
           "title": {
            "standoff": 15
           },
           "zerolinecolor": "white",
           "zerolinewidth": 2
          },
          "yaxis": {
           "automargin": true,
           "gridcolor": "white",
           "linecolor": "white",
           "ticks": "",
           "title": {
            "standoff": 15
           },
           "zerolinecolor": "white",
           "zerolinewidth": 2
          }
         }
        },
        "title": {
         "text": "Mean Duration by Prestation"
        },
        "xaxis": {
         "title": {
          "text": "Prestation"
         }
        },
        "yaxis": {
         "title": {
          "text": "Mean Duration (minutes)"
         }
        }
       }
      }
     },
     "metadata": {},
     "output_type": "display_data"
    }
   ],
   "source": [
    "mean_duration = JAN24_df.groupby('Prestation')['Duration'].mean().sort_values()\n",
    "\n",
    "fig = go.Figure()\n",
    "\n",
    "fig.add_trace(go.Bar(\n",
    "    x=mean_duration.index,  # 'Prestation' as x-axis label\n",
    "    y=mean_duration.values,  # Mean duration as y-axis label\n",
    "    text=mean_duration.values.round(0),  # Display mean duration on top of the bars, rounded to 2 decimal places\n",
    "    textposition='auto',  # Automatically position the text on top of the bars\n",
    "    marker=dict(color='plum'),  # Set the color of the bars\n",
    "))\n",
    "\n",
    "fig.update_layout(\n",
    "    title='Mean Duration by Prestation',\n",
    "    xaxis=dict(title='Prestation'),  # Set x-axis label\n",
    "    yaxis=dict(title='Mean Duration (minutes)'),  # Set y-axis label\n",
    "    bargap=0.2,  # Set the gap between bars\n",
    "    showlegend=False  # Hide legend as we have only one trace\n",
    ")\n",
    "\n",
    "fig.show()"
   ]
  },
  {
   "cell_type": "markdown",
   "metadata": {},
   "source": [
    "# Clustering / segmenting clients"
   ]
  },
  {
   "cell_type": "code",
   "execution_count": 9,
   "metadata": {},
   "outputs": [
    {
     "name": "stderr",
     "output_type": "stream",
     "text": [
      "  File \"c:\\Users\\dell\\anaconda3\\Lib\\site-packages\\joblib\\externals\\loky\\backend\\context.py\", line 217, in _count_physical_cores\n",
      "    raise ValueError(\n"
     ]
    }
   ],
   "source": [
    "df = JAN24_df[['Day type', 'Day time', 'Prestation', 'Duration']]\n",
    "\n",
    "df = pd.get_dummies(df, columns=['Day type', 'Day time', 'Prestation'])\n",
    "\n",
    "scaler = StandardScaler()\n",
    "numerical_columns = ['Duration']  # Add other numerical columns if any\n",
    "df[numerical_columns] = scaler.fit_transform(df[numerical_columns])\n",
    "\n",
    "\n",
    "k = 5  # You can choose an appropriate number based on domain knowledge or clustering evaluation metrics\n",
    "\n",
    "kmeans = KMeans(n_clusters=k, random_state=42)\n",
    "df['cluster'] = kmeans.fit_predict(df)\n",
    "\n",
    "cluster_centers = pd.DataFrame(kmeans.cluster_centers_, columns=df.columns[:-1])  # Excluding 'cluster' column\n",
    "\n",
    "cluster_sizes = df['cluster'].value_counts()"
   ]
  },
  {
   "cell_type": "code",
   "execution_count": 10,
   "metadata": {},
   "outputs": [
    {
     "data": {
      "text/plain": [
       "cluster\n",
       "3    871\n",
       "2    745\n",
       "0    509\n",
       "1    394\n",
       "4    244\n",
       "Name: count, dtype: int64"
      ]
     },
     "execution_count": 10,
     "metadata": {},
     "output_type": "execute_result"
    }
   ],
   "source": [
    "cluster_sizes"
   ]
  },
  {
   "cell_type": "markdown",
   "metadata": {},
   "source": [
    "### Geographic distribution and density"
   ]
  },
  {
   "cell_type": "code",
   "execution_count": 11,
   "metadata": {},
   "outputs": [],
   "source": [
    "map_center = [clients_df['Latitude'].mean(), clients_df['Longitude'].mean()]\n",
    "mymap = folium.Map(location=map_center, zoom_start=10)\n",
    "\n",
    "for index, row in clients_df.iterrows():\n",
    "    folium.Marker(location=[row['Latitude'], row['Longitude']], popup=f\"Latitude: {row['Latitude']}, Longitude: {row['Longitude']}\").add_to(mymap)\n",
    "\n",
    "mymap.save(\"client_map.html\")\n"
   ]
  },
  {
   "cell_type": "code",
   "execution_count": 12,
   "metadata": {},
   "outputs": [],
   "source": [
    "import folium\n",
    "\n",
    "map_center = [clients_df['Latitude'].mean(), clients_df['Longitude'].mean()]\n",
    "mymap = folium.Map(location=map_center, zoom_start=10)\n",
    "\n",
    "for index, row in clients_df.iterrows():\n",
    "    folium.Marker(location=[row['Latitude'], row['Longitude']], popup=f\"Client Location: {row['Latitude']}, {row['Longitude']}\", icon=folium.Icon(color='blue')).add_to(mymap)\n",
    "\n",
    "for index, row in intervenants_df.iterrows():\n",
    "    folium.Marker(location=[row['Latitude'], row['Longitude']], popup=f\"Intervenant Location: {row['Latitude']}, {row['Longitude']}\", icon=folium.Icon(color='red')).add_to(mymap)\n",
    "\n",
    "#mymap.save(\"combined_map.html\")"
   ]
  },
  {
   "cell_type": "code",
   "execution_count": 13,
   "metadata": {},
   "outputs": [
    {
     "data": {
      "text/plain": [
       "<branca.element.Element at 0x163dc21a6d0>"
      ]
     },
     "execution_count": 13,
     "metadata": {},
     "output_type": "execute_result"
    }
   ],
   "source": [
    "\n",
    "# Adding legend\n",
    "legend_html = \"\"\"\n",
    "     <div style=\"position: fixed; \n",
    "                 bottom: 50px; left: 50px; width: 150px; height: 90px; \n",
    "                 border:2px solid grey; z-index:9999; font-size:14px;\n",
    "                 background-color:white;\n",
    "                 \">\n",
    "     <p><strong>Legend</strong></p>\n",
    "     <p><i class=\"fa fa-circle fa-1x\" style=\"color:blue\"></i> Client</p>\n",
    "     <p><i class=\"fa fa-circle fa-1x\" style=\"color:red\"></i> Intervenant</p>\n",
    "      </div>\n",
    "     \"\"\"\n",
    "mymap.get_root().html.add_child(folium.Element(legend_html))"
   ]
  },
  {
   "cell_type": "code",
   "execution_count": 14,
   "metadata": {},
   "outputs": [
    {
     "data": {
      "text/html": [
       "<div style=\"width:100%;\"><div style=\"position:relative;width:100%;height:0;padding-bottom:60%;\"><span style=\"color:#565656\">Make this Notebook Trusted to load map: File -> Trust Notebook</span><iframe srcdoc=\"&lt;!DOCTYPE html&gt;\n",
       "&lt;html&gt;\n",
       "&lt;head&gt;\n",
       "    \n",
       "    &lt;meta http-equiv=&quot;content-type&quot; content=&quot;text/html; charset=UTF-8&quot; /&gt;\n",
       "    \n",
       "        &lt;script&gt;\n",
       "            L_NO_TOUCH = false;\n",
       "            L_DISABLE_3D = false;\n",
       "        &lt;/script&gt;\n",
       "    \n",
       "    &lt;style&gt;html, body {width: 100%;height: 100%;margin: 0;padding: 0;}&lt;/style&gt;\n",
       "    &lt;style&gt;#map {position:absolute;top:0;bottom:0;right:0;left:0;}&lt;/style&gt;\n",
       "    &lt;script src=&quot;https://cdn.jsdelivr.net/npm/leaflet@1.9.3/dist/leaflet.js&quot;&gt;&lt;/script&gt;\n",
       "    &lt;script src=&quot;https://code.jquery.com/jquery-3.7.1.min.js&quot;&gt;&lt;/script&gt;\n",
       "    &lt;script src=&quot;https://cdn.jsdelivr.net/npm/bootstrap@5.2.2/dist/js/bootstrap.bundle.min.js&quot;&gt;&lt;/script&gt;\n",
       "    &lt;script src=&quot;https://cdnjs.cloudflare.com/ajax/libs/Leaflet.awesome-markers/2.0.2/leaflet.awesome-markers.js&quot;&gt;&lt;/script&gt;\n",
       "    &lt;link rel=&quot;stylesheet&quot; href=&quot;https://cdn.jsdelivr.net/npm/leaflet@1.9.3/dist/leaflet.css&quot;/&gt;\n",
       "    &lt;link rel=&quot;stylesheet&quot; href=&quot;https://cdn.jsdelivr.net/npm/bootstrap@5.2.2/dist/css/bootstrap.min.css&quot;/&gt;\n",
       "    &lt;link rel=&quot;stylesheet&quot; href=&quot;https://netdna.bootstrapcdn.com/bootstrap/3.0.0/css/bootstrap.min.css&quot;/&gt;\n",
       "    &lt;link rel=&quot;stylesheet&quot; href=&quot;https://cdn.jsdelivr.net/npm/@fortawesome/fontawesome-free@6.2.0/css/all.min.css&quot;/&gt;\n",
       "    &lt;link rel=&quot;stylesheet&quot; href=&quot;https://cdnjs.cloudflare.com/ajax/libs/Leaflet.awesome-markers/2.0.2/leaflet.awesome-markers.css&quot;/&gt;\n",
       "    &lt;link rel=&quot;stylesheet&quot; href=&quot;https://cdn.jsdelivr.net/gh/python-visualization/folium/folium/templates/leaflet.awesome.rotate.min.css&quot;/&gt;\n",
       "    \n",
       "            &lt;meta name=&quot;viewport&quot; content=&quot;width=device-width,\n",
       "                initial-scale=1.0, maximum-scale=1.0, user-scalable=no&quot; /&gt;\n",
       "            &lt;style&gt;\n",
       "                #map_9e1f10ac299527b8b81fbd3a89f1f998 {\n",
       "                    position: relative;\n",
       "                    width: 100.0%;\n",
       "                    height: 100.0%;\n",
       "                    left: 0.0%;\n",
       "                    top: 0.0%;\n",
       "                }\n",
       "                .leaflet-container { font-size: 1rem; }\n",
       "            &lt;/style&gt;\n",
       "        \n",
       "&lt;/head&gt;\n",
       "&lt;body&gt;\n",
       "    \n",
       "    \n",
       "     &lt;div style=&quot;position: fixed; \n",
       "                 bottom: 50px; left: 50px; width: 150px; height: 90px; \n",
       "                 border:2px solid grey; z-index:9999; font-size:14px;\n",
       "                 background-color:white;\n",
       "                 &quot;&gt;\n",
       "     &lt;p&gt;&lt;strong&gt;Legend&lt;/strong&gt;&lt;/p&gt;\n",
       "     &lt;p&gt;&lt;i class=&quot;fa fa-circle fa-1x&quot; style=&quot;color:blue&quot;&gt;&lt;/i&gt; Client&lt;/p&gt;\n",
       "     &lt;p&gt;&lt;i class=&quot;fa fa-circle fa-1x&quot; style=&quot;color:red&quot;&gt;&lt;/i&gt; Intervenant&lt;/p&gt;\n",
       "      &lt;/div&gt;\n",
       "     \n",
       "    \n",
       "            &lt;div class=&quot;folium-map&quot; id=&quot;map_9e1f10ac299527b8b81fbd3a89f1f998&quot; &gt;&lt;/div&gt;\n",
       "        \n",
       "&lt;/body&gt;\n",
       "&lt;script&gt;\n",
       "    \n",
       "    \n",
       "            var map_9e1f10ac299527b8b81fbd3a89f1f998 = L.map(\n",
       "                &quot;map_9e1f10ac299527b8b81fbd3a89f1f998&quot;,\n",
       "                {\n",
       "                    center: [48.733282639830506, 1.3618490338983054],\n",
       "                    crs: L.CRS.EPSG3857,\n",
       "                    zoom: 10,\n",
       "                    zoomControl: true,\n",
       "                    preferCanvas: false,\n",
       "                }\n",
       "            );\n",
       "\n",
       "            \n",
       "\n",
       "        \n",
       "    \n",
       "            var tile_layer_7e9c90aeda37372f4851697369eeaf44 = L.tileLayer(\n",
       "                &quot;https://tile.openstreetmap.org/{z}/{x}/{y}.png&quot;,\n",
       "                {&quot;attribution&quot;: &quot;\\u0026copy; \\u003ca href=\\&quot;https://www.openstreetmap.org/copyright\\&quot;\\u003eOpenStreetMap\\u003c/a\\u003e contributors&quot;, &quot;detectRetina&quot;: false, &quot;maxNativeZoom&quot;: 19, &quot;maxZoom&quot;: 19, &quot;minZoom&quot;: 0, &quot;noWrap&quot;: false, &quot;opacity&quot;: 1, &quot;subdomains&quot;: &quot;abc&quot;, &quot;tms&quot;: false}\n",
       "            );\n",
       "        \n",
       "    \n",
       "            tile_layer_7e9c90aeda37372f4851697369eeaf44.addTo(map_9e1f10ac299527b8b81fbd3a89f1f998);\n",
       "        \n",
       "    \n",
       "            var marker_92b26a452b5f3aeaabd323181228d6fd = L.marker(\n",
       "                [48.7210523, 1.3756893],\n",
       "                {}\n",
       "            ).addTo(map_9e1f10ac299527b8b81fbd3a89f1f998);\n",
       "        \n",
       "    \n",
       "            var icon_e80dc90029966ae29c89870a4f06b861 = L.AwesomeMarkers.icon(\n",
       "                {&quot;extraClasses&quot;: &quot;fa-rotate-0&quot;, &quot;icon&quot;: &quot;info-sign&quot;, &quot;iconColor&quot;: &quot;white&quot;, &quot;markerColor&quot;: &quot;blue&quot;, &quot;prefix&quot;: &quot;glyphicon&quot;}\n",
       "            );\n",
       "            marker_92b26a452b5f3aeaabd323181228d6fd.setIcon(icon_e80dc90029966ae29c89870a4f06b861);\n",
       "        \n",
       "    \n",
       "        var popup_c087d5ee32e6b950ee9420998df94266 = L.popup({&quot;maxWidth&quot;: &quot;100%&quot;});\n",
       "\n",
       "        \n",
       "            \n",
       "                var html_2d80fec08634f7d315b976d857bc6954 = $(`&lt;div id=&quot;html_2d80fec08634f7d315b976d857bc6954&quot; style=&quot;width: 100.0%; height: 100.0%;&quot;&gt;Client Location: 48.7210523, 1.3756893&lt;/div&gt;`)[0];\n",
       "                popup_c087d5ee32e6b950ee9420998df94266.setContent(html_2d80fec08634f7d315b976d857bc6954);\n",
       "            \n",
       "        \n",
       "\n",
       "        marker_92b26a452b5f3aeaabd323181228d6fd.bindPopup(popup_c087d5ee32e6b950ee9420998df94266)\n",
       "        ;\n",
       "\n",
       "        \n",
       "    \n",
       "    \n",
       "            var marker_3e8cddfa5b678efd97441b1a6fae6515 = L.marker(\n",
       "                [48.7210523, 1.3756893],\n",
       "                {}\n",
       "            ).addTo(map_9e1f10ac299527b8b81fbd3a89f1f998);\n",
       "        \n",
       "    \n",
       "            var icon_31a5f95a08dcc21e2a8c1ec8bae88ef5 = L.AwesomeMarkers.icon(\n",
       "                {&quot;extraClasses&quot;: &quot;fa-rotate-0&quot;, &quot;icon&quot;: &quot;info-sign&quot;, &quot;iconColor&quot;: &quot;white&quot;, &quot;markerColor&quot;: &quot;blue&quot;, &quot;prefix&quot;: &quot;glyphicon&quot;}\n",
       "            );\n",
       "            marker_3e8cddfa5b678efd97441b1a6fae6515.setIcon(icon_31a5f95a08dcc21e2a8c1ec8bae88ef5);\n",
       "        \n",
       "    \n",
       "        var popup_d763ee5d499046f5ee1fb8744fdd33c2 = L.popup({&quot;maxWidth&quot;: &quot;100%&quot;});\n",
       "\n",
       "        \n",
       "            \n",
       "                var html_26885c362bd8b14efeff3bdbe31e0e0d = $(`&lt;div id=&quot;html_26885c362bd8b14efeff3bdbe31e0e0d&quot; style=&quot;width: 100.0%; height: 100.0%;&quot;&gt;Client Location: 48.7210523, 1.3756893&lt;/div&gt;`)[0];\n",
       "                popup_d763ee5d499046f5ee1fb8744fdd33c2.setContent(html_26885c362bd8b14efeff3bdbe31e0e0d);\n",
       "            \n",
       "        \n",
       "\n",
       "        marker_3e8cddfa5b678efd97441b1a6fae6515.bindPopup(popup_d763ee5d499046f5ee1fb8744fdd33c2)\n",
       "        ;\n",
       "\n",
       "        \n",
       "    \n",
       "    \n",
       "            var marker_de3bbe87c67cc34bf3afcee94345c625 = L.marker(\n",
       "                [48.691944, 1.4987735],\n",
       "                {}\n",
       "            ).addTo(map_9e1f10ac299527b8b81fbd3a89f1f998);\n",
       "        \n",
       "    \n",
       "            var icon_735f37539c7bf7c3a14984c57e45aabb = L.AwesomeMarkers.icon(\n",
       "                {&quot;extraClasses&quot;: &quot;fa-rotate-0&quot;, &quot;icon&quot;: &quot;info-sign&quot;, &quot;iconColor&quot;: &quot;white&quot;, &quot;markerColor&quot;: &quot;blue&quot;, &quot;prefix&quot;: &quot;glyphicon&quot;}\n",
       "            );\n",
       "            marker_de3bbe87c67cc34bf3afcee94345c625.setIcon(icon_735f37539c7bf7c3a14984c57e45aabb);\n",
       "        \n",
       "    \n",
       "        var popup_3c316c31f2b42ae2839a00c7372dac98 = L.popup({&quot;maxWidth&quot;: &quot;100%&quot;});\n",
       "\n",
       "        \n",
       "            \n",
       "                var html_2c4834eedc7b745f5165f1e0cd6396c4 = $(`&lt;div id=&quot;html_2c4834eedc7b745f5165f1e0cd6396c4&quot; style=&quot;width: 100.0%; height: 100.0%;&quot;&gt;Client Location: 48.691944, 1.4987735&lt;/div&gt;`)[0];\n",
       "                popup_3c316c31f2b42ae2839a00c7372dac98.setContent(html_2c4834eedc7b745f5165f1e0cd6396c4);\n",
       "            \n",
       "        \n",
       "\n",
       "        marker_de3bbe87c67cc34bf3afcee94345c625.bindPopup(popup_3c316c31f2b42ae2839a00c7372dac98)\n",
       "        ;\n",
       "\n",
       "        \n",
       "    \n",
       "    \n",
       "            var marker_c48d45cb15b7002d70ab28dee2c401b6 = L.marker(\n",
       "                [48.726393, 1.332848],\n",
       "                {}\n",
       "            ).addTo(map_9e1f10ac299527b8b81fbd3a89f1f998);\n",
       "        \n",
       "    \n",
       "            var icon_ce8a4489353d4b03c79d29fb2c16a774 = L.AwesomeMarkers.icon(\n",
       "                {&quot;extraClasses&quot;: &quot;fa-rotate-0&quot;, &quot;icon&quot;: &quot;info-sign&quot;, &quot;iconColor&quot;: &quot;white&quot;, &quot;markerColor&quot;: &quot;blue&quot;, &quot;prefix&quot;: &quot;glyphicon&quot;}\n",
       "            );\n",
       "            marker_c48d45cb15b7002d70ab28dee2c401b6.setIcon(icon_ce8a4489353d4b03c79d29fb2c16a774);\n",
       "        \n",
       "    \n",
       "        var popup_b057b705e6709fab146184ebef7c8f25 = L.popup({&quot;maxWidth&quot;: &quot;100%&quot;});\n",
       "\n",
       "        \n",
       "            \n",
       "                var html_12a5c29bcc3c6bcd2e29254ef1c5ee56 = $(`&lt;div id=&quot;html_12a5c29bcc3c6bcd2e29254ef1c5ee56&quot; style=&quot;width: 100.0%; height: 100.0%;&quot;&gt;Client Location: 48.726393, 1.332848&lt;/div&gt;`)[0];\n",
       "                popup_b057b705e6709fab146184ebef7c8f25.setContent(html_12a5c29bcc3c6bcd2e29254ef1c5ee56);\n",
       "            \n",
       "        \n",
       "\n",
       "        marker_c48d45cb15b7002d70ab28dee2c401b6.bindPopup(popup_b057b705e6709fab146184ebef7c8f25)\n",
       "        ;\n",
       "\n",
       "        \n",
       "    \n",
       "    \n",
       "            var marker_918191537a2b3e2c3693ca2b779ef31f = L.marker(\n",
       "                [48.7331743, 1.3706892],\n",
       "                {}\n",
       "            ).addTo(map_9e1f10ac299527b8b81fbd3a89f1f998);\n",
       "        \n",
       "    \n",
       "            var icon_6ee96f6736aa2adcdbc20005877bf7cc = L.AwesomeMarkers.icon(\n",
       "                {&quot;extraClasses&quot;: &quot;fa-rotate-0&quot;, &quot;icon&quot;: &quot;info-sign&quot;, &quot;iconColor&quot;: &quot;white&quot;, &quot;markerColor&quot;: &quot;blue&quot;, &quot;prefix&quot;: &quot;glyphicon&quot;}\n",
       "            );\n",
       "            marker_918191537a2b3e2c3693ca2b779ef31f.setIcon(icon_6ee96f6736aa2adcdbc20005877bf7cc);\n",
       "        \n",
       "    \n",
       "        var popup_fab10717e76c79c6586d7d64860f619e = L.popup({&quot;maxWidth&quot;: &quot;100%&quot;});\n",
       "\n",
       "        \n",
       "            \n",
       "                var html_c05def028911480e82fe8441d90f6ed7 = $(`&lt;div id=&quot;html_c05def028911480e82fe8441d90f6ed7&quot; style=&quot;width: 100.0%; height: 100.0%;&quot;&gt;Client Location: 48.7331743, 1.3706892&lt;/div&gt;`)[0];\n",
       "                popup_fab10717e76c79c6586d7d64860f619e.setContent(html_c05def028911480e82fe8441d90f6ed7);\n",
       "            \n",
       "        \n",
       "\n",
       "        marker_918191537a2b3e2c3693ca2b779ef31f.bindPopup(popup_fab10717e76c79c6586d7d64860f619e)\n",
       "        ;\n",
       "\n",
       "        \n",
       "    \n",
       "    \n",
       "            var marker_fe9e50b36320c8448ec704caadad77a1 = L.marker(\n",
       "                [48.7664141, 1.1908904],\n",
       "                {}\n",
       "            ).addTo(map_9e1f10ac299527b8b81fbd3a89f1f998);\n",
       "        \n",
       "    \n",
       "            var icon_a4a6c6584414a8535a59ff0267e39b44 = L.AwesomeMarkers.icon(\n",
       "                {&quot;extraClasses&quot;: &quot;fa-rotate-0&quot;, &quot;icon&quot;: &quot;info-sign&quot;, &quot;iconColor&quot;: &quot;white&quot;, &quot;markerColor&quot;: &quot;blue&quot;, &quot;prefix&quot;: &quot;glyphicon&quot;}\n",
       "            );\n",
       "            marker_fe9e50b36320c8448ec704caadad77a1.setIcon(icon_a4a6c6584414a8535a59ff0267e39b44);\n",
       "        \n",
       "    \n",
       "        var popup_3821901412661a374e4bbf248ce512fb = L.popup({&quot;maxWidth&quot;: &quot;100%&quot;});\n",
       "\n",
       "        \n",
       "            \n",
       "                var html_1b9be93ebe684bd54ea09cdcba871d53 = $(`&lt;div id=&quot;html_1b9be93ebe684bd54ea09cdcba871d53&quot; style=&quot;width: 100.0%; height: 100.0%;&quot;&gt;Client Location: 48.7664141, 1.1908904&lt;/div&gt;`)[0];\n",
       "                popup_3821901412661a374e4bbf248ce512fb.setContent(html_1b9be93ebe684bd54ea09cdcba871d53);\n",
       "            \n",
       "        \n",
       "\n",
       "        marker_fe9e50b36320c8448ec704caadad77a1.bindPopup(popup_3821901412661a374e4bbf248ce512fb)\n",
       "        ;\n",
       "\n",
       "        \n",
       "    \n",
       "    \n",
       "            var marker_f8339bc105cba95cbead4317503833be = L.marker(\n",
       "                [48.7249427, 1.3833051],\n",
       "                {}\n",
       "            ).addTo(map_9e1f10ac299527b8b81fbd3a89f1f998);\n",
       "        \n",
       "    \n",
       "            var icon_8620ae444b38135325ea0bab84de6f53 = L.AwesomeMarkers.icon(\n",
       "                {&quot;extraClasses&quot;: &quot;fa-rotate-0&quot;, &quot;icon&quot;: &quot;info-sign&quot;, &quot;iconColor&quot;: &quot;white&quot;, &quot;markerColor&quot;: &quot;blue&quot;, &quot;prefix&quot;: &quot;glyphicon&quot;}\n",
       "            );\n",
       "            marker_f8339bc105cba95cbead4317503833be.setIcon(icon_8620ae444b38135325ea0bab84de6f53);\n",
       "        \n",
       "    \n",
       "        var popup_b41e8995ba412d83e2dcee3780c0535f = L.popup({&quot;maxWidth&quot;: &quot;100%&quot;});\n",
       "\n",
       "        \n",
       "            \n",
       "                var html_71c5c3c2efa74129be05e3d5035d2c2a = $(`&lt;div id=&quot;html_71c5c3c2efa74129be05e3d5035d2c2a&quot; style=&quot;width: 100.0%; height: 100.0%;&quot;&gt;Client Location: 48.7249427, 1.3833051&lt;/div&gt;`)[0];\n",
       "                popup_b41e8995ba412d83e2dcee3780c0535f.setContent(html_71c5c3c2efa74129be05e3d5035d2c2a);\n",
       "            \n",
       "        \n",
       "\n",
       "        marker_f8339bc105cba95cbead4317503833be.bindPopup(popup_b41e8995ba412d83e2dcee3780c0535f)\n",
       "        ;\n",
       "\n",
       "        \n",
       "    \n",
       "    \n",
       "            var marker_599f2ef1d007118e6970e7938ed55b18 = L.marker(\n",
       "                [48.7297346, 1.3390499],\n",
       "                {}\n",
       "            ).addTo(map_9e1f10ac299527b8b81fbd3a89f1f998);\n",
       "        \n",
       "    \n",
       "            var icon_b87f31b3f81aac58d1e59f0fbe51cb86 = L.AwesomeMarkers.icon(\n",
       "                {&quot;extraClasses&quot;: &quot;fa-rotate-0&quot;, &quot;icon&quot;: &quot;info-sign&quot;, &quot;iconColor&quot;: &quot;white&quot;, &quot;markerColor&quot;: &quot;blue&quot;, &quot;prefix&quot;: &quot;glyphicon&quot;}\n",
       "            );\n",
       "            marker_599f2ef1d007118e6970e7938ed55b18.setIcon(icon_b87f31b3f81aac58d1e59f0fbe51cb86);\n",
       "        \n",
       "    \n",
       "        var popup_535e69858a120c5e1e418b03cbd2dd81 = L.popup({&quot;maxWidth&quot;: &quot;100%&quot;});\n",
       "\n",
       "        \n",
       "            \n",
       "                var html_7d4295f9ba1b09910e60e693f677ae05 = $(`&lt;div id=&quot;html_7d4295f9ba1b09910e60e693f677ae05&quot; style=&quot;width: 100.0%; height: 100.0%;&quot;&gt;Client Location: 48.7297346, 1.3390499&lt;/div&gt;`)[0];\n",
       "                popup_535e69858a120c5e1e418b03cbd2dd81.setContent(html_7d4295f9ba1b09910e60e693f677ae05);\n",
       "            \n",
       "        \n",
       "\n",
       "        marker_599f2ef1d007118e6970e7938ed55b18.bindPopup(popup_535e69858a120c5e1e418b03cbd2dd81)\n",
       "        ;\n",
       "\n",
       "        \n",
       "    \n",
       "    \n",
       "            var marker_633f39800a99e2edf18d72fc0bb48c53 = L.marker(\n",
       "                [48.7664141, 1.1908904],\n",
       "                {}\n",
       "            ).addTo(map_9e1f10ac299527b8b81fbd3a89f1f998);\n",
       "        \n",
       "    \n",
       "            var icon_4673954a3bb28599f3de2e0adff75b01 = L.AwesomeMarkers.icon(\n",
       "                {&quot;extraClasses&quot;: &quot;fa-rotate-0&quot;, &quot;icon&quot;: &quot;info-sign&quot;, &quot;iconColor&quot;: &quot;white&quot;, &quot;markerColor&quot;: &quot;blue&quot;, &quot;prefix&quot;: &quot;glyphicon&quot;}\n",
       "            );\n",
       "            marker_633f39800a99e2edf18d72fc0bb48c53.setIcon(icon_4673954a3bb28599f3de2e0adff75b01);\n",
       "        \n",
       "    \n",
       "        var popup_415d1a6886a3c66be6b526b8b8664450 = L.popup({&quot;maxWidth&quot;: &quot;100%&quot;});\n",
       "\n",
       "        \n",
       "            \n",
       "                var html_041edba5a85e152251888e64046d6675 = $(`&lt;div id=&quot;html_041edba5a85e152251888e64046d6675&quot; style=&quot;width: 100.0%; height: 100.0%;&quot;&gt;Client Location: 48.7664141, 1.1908904&lt;/div&gt;`)[0];\n",
       "                popup_415d1a6886a3c66be6b526b8b8664450.setContent(html_041edba5a85e152251888e64046d6675);\n",
       "            \n",
       "        \n",
       "\n",
       "        marker_633f39800a99e2edf18d72fc0bb48c53.bindPopup(popup_415d1a6886a3c66be6b526b8b8664450)\n",
       "        ;\n",
       "\n",
       "        \n",
       "    \n",
       "    \n",
       "            var marker_1bd36f756ff90860de90c9c2c50416be = L.marker(\n",
       "                [48.6745197, 1.465217],\n",
       "                {}\n",
       "            ).addTo(map_9e1f10ac299527b8b81fbd3a89f1f998);\n",
       "        \n",
       "    \n",
       "            var icon_eca03bb11567b1992c15c078f80320eb = L.AwesomeMarkers.icon(\n",
       "                {&quot;extraClasses&quot;: &quot;fa-rotate-0&quot;, &quot;icon&quot;: &quot;info-sign&quot;, &quot;iconColor&quot;: &quot;white&quot;, &quot;markerColor&quot;: &quot;blue&quot;, &quot;prefix&quot;: &quot;glyphicon&quot;}\n",
       "            );\n",
       "            marker_1bd36f756ff90860de90c9c2c50416be.setIcon(icon_eca03bb11567b1992c15c078f80320eb);\n",
       "        \n",
       "    \n",
       "        var popup_e8438e2c9ceb2ed092c62696717868f5 = L.popup({&quot;maxWidth&quot;: &quot;100%&quot;});\n",
       "\n",
       "        \n",
       "            \n",
       "                var html_b6d828d6f239555a9617c269ac0af7eb = $(`&lt;div id=&quot;html_b6d828d6f239555a9617c269ac0af7eb&quot; style=&quot;width: 100.0%; height: 100.0%;&quot;&gt;Client Location: 48.6745197, 1.465217&lt;/div&gt;`)[0];\n",
       "                popup_e8438e2c9ceb2ed092c62696717868f5.setContent(html_b6d828d6f239555a9617c269ac0af7eb);\n",
       "            \n",
       "        \n",
       "\n",
       "        marker_1bd36f756ff90860de90c9c2c50416be.bindPopup(popup_e8438e2c9ceb2ed092c62696717868f5)\n",
       "        ;\n",
       "\n",
       "        \n",
       "    \n",
       "    \n",
       "            var marker_45f947176394df47417fc9b4cad19c88 = L.marker(\n",
       "                [48.732218, 1.3637436],\n",
       "                {}\n",
       "            ).addTo(map_9e1f10ac299527b8b81fbd3a89f1f998);\n",
       "        \n",
       "    \n",
       "            var icon_eddb2e56c6d405dd314c0c9912fea11d = L.AwesomeMarkers.icon(\n",
       "                {&quot;extraClasses&quot;: &quot;fa-rotate-0&quot;, &quot;icon&quot;: &quot;info-sign&quot;, &quot;iconColor&quot;: &quot;white&quot;, &quot;markerColor&quot;: &quot;blue&quot;, &quot;prefix&quot;: &quot;glyphicon&quot;}\n",
       "            );\n",
       "            marker_45f947176394df47417fc9b4cad19c88.setIcon(icon_eddb2e56c6d405dd314c0c9912fea11d);\n",
       "        \n",
       "    \n",
       "        var popup_4d16aaccc393ec00a40e8b7ccf537649 = L.popup({&quot;maxWidth&quot;: &quot;100%&quot;});\n",
       "\n",
       "        \n",
       "            \n",
       "                var html_1e0be577ce07f867e561acaee45e1e85 = $(`&lt;div id=&quot;html_1e0be577ce07f867e561acaee45e1e85&quot; style=&quot;width: 100.0%; height: 100.0%;&quot;&gt;Client Location: 48.732218, 1.3637436&lt;/div&gt;`)[0];\n",
       "                popup_4d16aaccc393ec00a40e8b7ccf537649.setContent(html_1e0be577ce07f867e561acaee45e1e85);\n",
       "            \n",
       "        \n",
       "\n",
       "        marker_45f947176394df47417fc9b4cad19c88.bindPopup(popup_4d16aaccc393ec00a40e8b7ccf537649)\n",
       "        ;\n",
       "\n",
       "        \n",
       "    \n",
       "    \n",
       "            var marker_f20ed82557d5ed39308a91ed0a6221dd = L.marker(\n",
       "                [48.771986, 1.2034312],\n",
       "                {}\n",
       "            ).addTo(map_9e1f10ac299527b8b81fbd3a89f1f998);\n",
       "        \n",
       "    \n",
       "            var icon_afe62e6aeb203894c9d24d5eef6ef3cd = L.AwesomeMarkers.icon(\n",
       "                {&quot;extraClasses&quot;: &quot;fa-rotate-0&quot;, &quot;icon&quot;: &quot;info-sign&quot;, &quot;iconColor&quot;: &quot;white&quot;, &quot;markerColor&quot;: &quot;blue&quot;, &quot;prefix&quot;: &quot;glyphicon&quot;}\n",
       "            );\n",
       "            marker_f20ed82557d5ed39308a91ed0a6221dd.setIcon(icon_afe62e6aeb203894c9d24d5eef6ef3cd);\n",
       "        \n",
       "    \n",
       "        var popup_4c6316459bbd2f43b3894f6ced858176 = L.popup({&quot;maxWidth&quot;: &quot;100%&quot;});\n",
       "\n",
       "        \n",
       "            \n",
       "                var html_9dcd8e01455818b4fd799d706173a2b8 = $(`&lt;div id=&quot;html_9dcd8e01455818b4fd799d706173a2b8&quot; style=&quot;width: 100.0%; height: 100.0%;&quot;&gt;Client Location: 48.771986, 1.2034312&lt;/div&gt;`)[0];\n",
       "                popup_4c6316459bbd2f43b3894f6ced858176.setContent(html_9dcd8e01455818b4fd799d706173a2b8);\n",
       "            \n",
       "        \n",
       "\n",
       "        marker_f20ed82557d5ed39308a91ed0a6221dd.bindPopup(popup_4c6316459bbd2f43b3894f6ced858176)\n",
       "        ;\n",
       "\n",
       "        \n",
       "    \n",
       "    \n",
       "            var marker_970873dba774456c5e6a4aba9f88c5f6 = L.marker(\n",
       "                [48.7290588, 1.3745039],\n",
       "                {}\n",
       "            ).addTo(map_9e1f10ac299527b8b81fbd3a89f1f998);\n",
       "        \n",
       "    \n",
       "            var icon_18cc18aa97fe732b503a4e867edba129 = L.AwesomeMarkers.icon(\n",
       "                {&quot;extraClasses&quot;: &quot;fa-rotate-0&quot;, &quot;icon&quot;: &quot;info-sign&quot;, &quot;iconColor&quot;: &quot;white&quot;, &quot;markerColor&quot;: &quot;blue&quot;, &quot;prefix&quot;: &quot;glyphicon&quot;}\n",
       "            );\n",
       "            marker_970873dba774456c5e6a4aba9f88c5f6.setIcon(icon_18cc18aa97fe732b503a4e867edba129);\n",
       "        \n",
       "    \n",
       "        var popup_ff5f4b78bb9ba08317037b6f3452acbb = L.popup({&quot;maxWidth&quot;: &quot;100%&quot;});\n",
       "\n",
       "        \n",
       "            \n",
       "                var html_ebdeb0260c903eb8bcff87066526ff3d = $(`&lt;div id=&quot;html_ebdeb0260c903eb8bcff87066526ff3d&quot; style=&quot;width: 100.0%; height: 100.0%;&quot;&gt;Client Location: 48.7290588, 1.3745039&lt;/div&gt;`)[0];\n",
       "                popup_ff5f4b78bb9ba08317037b6f3452acbb.setContent(html_ebdeb0260c903eb8bcff87066526ff3d);\n",
       "            \n",
       "        \n",
       "\n",
       "        marker_970873dba774456c5e6a4aba9f88c5f6.bindPopup(popup_ff5f4b78bb9ba08317037b6f3452acbb)\n",
       "        ;\n",
       "\n",
       "        \n",
       "    \n",
       "    \n",
       "            var marker_f20c56f76ad8a79d33aa1d4f2f05cbea = L.marker(\n",
       "                [48.7263435, 1.3327037],\n",
       "                {}\n",
       "            ).addTo(map_9e1f10ac299527b8b81fbd3a89f1f998);\n",
       "        \n",
       "    \n",
       "            var icon_ced4125436c5fbe84c2ddaadea654f23 = L.AwesomeMarkers.icon(\n",
       "                {&quot;extraClasses&quot;: &quot;fa-rotate-0&quot;, &quot;icon&quot;: &quot;info-sign&quot;, &quot;iconColor&quot;: &quot;white&quot;, &quot;markerColor&quot;: &quot;blue&quot;, &quot;prefix&quot;: &quot;glyphicon&quot;}\n",
       "            );\n",
       "            marker_f20c56f76ad8a79d33aa1d4f2f05cbea.setIcon(icon_ced4125436c5fbe84c2ddaadea654f23);\n",
       "        \n",
       "    \n",
       "        var popup_99dceb26421ffcd35bfd5f1f41f9f7d7 = L.popup({&quot;maxWidth&quot;: &quot;100%&quot;});\n",
       "\n",
       "        \n",
       "            \n",
       "                var html_793d3edfd57065b82379a147e0d940d3 = $(`&lt;div id=&quot;html_793d3edfd57065b82379a147e0d940d3&quot; style=&quot;width: 100.0%; height: 100.0%;&quot;&gt;Client Location: 48.7263435, 1.3327037&lt;/div&gt;`)[0];\n",
       "                popup_99dceb26421ffcd35bfd5f1f41f9f7d7.setContent(html_793d3edfd57065b82379a147e0d940d3);\n",
       "            \n",
       "        \n",
       "\n",
       "        marker_f20c56f76ad8a79d33aa1d4f2f05cbea.bindPopup(popup_99dceb26421ffcd35bfd5f1f41f9f7d7)\n",
       "        ;\n",
       "\n",
       "        \n",
       "    \n",
       "    \n",
       "            var marker_4217800674790e7c804be95249305393 = L.marker(\n",
       "                [48.7296135, 1.3748625],\n",
       "                {}\n",
       "            ).addTo(map_9e1f10ac299527b8b81fbd3a89f1f998);\n",
       "        \n",
       "    \n",
       "            var icon_d28264d871a26fec6975339f26bd6996 = L.AwesomeMarkers.icon(\n",
       "                {&quot;extraClasses&quot;: &quot;fa-rotate-0&quot;, &quot;icon&quot;: &quot;info-sign&quot;, &quot;iconColor&quot;: &quot;white&quot;, &quot;markerColor&quot;: &quot;blue&quot;, &quot;prefix&quot;: &quot;glyphicon&quot;}\n",
       "            );\n",
       "            marker_4217800674790e7c804be95249305393.setIcon(icon_d28264d871a26fec6975339f26bd6996);\n",
       "        \n",
       "    \n",
       "        var popup_59f2bfcc00dc610102de3e233dae4f01 = L.popup({&quot;maxWidth&quot;: &quot;100%&quot;});\n",
       "\n",
       "        \n",
       "            \n",
       "                var html_7d88935ee2dbfb0951fd0200118964e5 = $(`&lt;div id=&quot;html_7d88935ee2dbfb0951fd0200118964e5&quot; style=&quot;width: 100.0%; height: 100.0%;&quot;&gt;Client Location: 48.7296135, 1.3748625&lt;/div&gt;`)[0];\n",
       "                popup_59f2bfcc00dc610102de3e233dae4f01.setContent(html_7d88935ee2dbfb0951fd0200118964e5);\n",
       "            \n",
       "        \n",
       "\n",
       "        marker_4217800674790e7c804be95249305393.bindPopup(popup_59f2bfcc00dc610102de3e233dae4f01)\n",
       "        ;\n",
       "\n",
       "        \n",
       "    \n",
       "    \n",
       "            var marker_7e331e2f48be91af0522534ed48159c8 = L.marker(\n",
       "                [48.7648977, 1.2031853],\n",
       "                {}\n",
       "            ).addTo(map_9e1f10ac299527b8b81fbd3a89f1f998);\n",
       "        \n",
       "    \n",
       "            var icon_413e7d6e8017734a9cd15f4635d6a9df = L.AwesomeMarkers.icon(\n",
       "                {&quot;extraClasses&quot;: &quot;fa-rotate-0&quot;, &quot;icon&quot;: &quot;info-sign&quot;, &quot;iconColor&quot;: &quot;white&quot;, &quot;markerColor&quot;: &quot;blue&quot;, &quot;prefix&quot;: &quot;glyphicon&quot;}\n",
       "            );\n",
       "            marker_7e331e2f48be91af0522534ed48159c8.setIcon(icon_413e7d6e8017734a9cd15f4635d6a9df);\n",
       "        \n",
       "    \n",
       "        var popup_be2d08f2f4aa37be5ca371c6ce48eb08 = L.popup({&quot;maxWidth&quot;: &quot;100%&quot;});\n",
       "\n",
       "        \n",
       "            \n",
       "                var html_491724caafbb35bf17e2091bd4b52fcb = $(`&lt;div id=&quot;html_491724caafbb35bf17e2091bd4b52fcb&quot; style=&quot;width: 100.0%; height: 100.0%;&quot;&gt;Client Location: 48.7648977, 1.2031853&lt;/div&gt;`)[0];\n",
       "                popup_be2d08f2f4aa37be5ca371c6ce48eb08.setContent(html_491724caafbb35bf17e2091bd4b52fcb);\n",
       "            \n",
       "        \n",
       "\n",
       "        marker_7e331e2f48be91af0522534ed48159c8.bindPopup(popup_be2d08f2f4aa37be5ca371c6ce48eb08)\n",
       "        ;\n",
       "\n",
       "        \n",
       "    \n",
       "    \n",
       "            var marker_26a73645cd90754a4775230f37de63cf = L.marker(\n",
       "                [48.7401583, 1.3694258],\n",
       "                {}\n",
       "            ).addTo(map_9e1f10ac299527b8b81fbd3a89f1f998);\n",
       "        \n",
       "    \n",
       "            var icon_3eff0e55a2571c774efc1c663727fc09 = L.AwesomeMarkers.icon(\n",
       "                {&quot;extraClasses&quot;: &quot;fa-rotate-0&quot;, &quot;icon&quot;: &quot;info-sign&quot;, &quot;iconColor&quot;: &quot;white&quot;, &quot;markerColor&quot;: &quot;blue&quot;, &quot;prefix&quot;: &quot;glyphicon&quot;}\n",
       "            );\n",
       "            marker_26a73645cd90754a4775230f37de63cf.setIcon(icon_3eff0e55a2571c774efc1c663727fc09);\n",
       "        \n",
       "    \n",
       "        var popup_f1ff6787874ee09927acb4a3bdb49dc0 = L.popup({&quot;maxWidth&quot;: &quot;100%&quot;});\n",
       "\n",
       "        \n",
       "            \n",
       "                var html_3d22b1a9b4c2382134f3bc2309b615a2 = $(`&lt;div id=&quot;html_3d22b1a9b4c2382134f3bc2309b615a2&quot; style=&quot;width: 100.0%; height: 100.0%;&quot;&gt;Client Location: 48.7401583, 1.3694258&lt;/div&gt;`)[0];\n",
       "                popup_f1ff6787874ee09927acb4a3bdb49dc0.setContent(html_3d22b1a9b4c2382134f3bc2309b615a2);\n",
       "            \n",
       "        \n",
       "\n",
       "        marker_26a73645cd90754a4775230f37de63cf.bindPopup(popup_f1ff6787874ee09927acb4a3bdb49dc0)\n",
       "        ;\n",
       "\n",
       "        \n",
       "    \n",
       "    \n",
       "            var marker_b7489e9d59514d278bdb4aeb161fca45 = L.marker(\n",
       "                [48.736134, 1.370889],\n",
       "                {}\n",
       "            ).addTo(map_9e1f10ac299527b8b81fbd3a89f1f998);\n",
       "        \n",
       "    \n",
       "            var icon_bf1469dd7cc26976ab57c4d29f92b21a = L.AwesomeMarkers.icon(\n",
       "                {&quot;extraClasses&quot;: &quot;fa-rotate-0&quot;, &quot;icon&quot;: &quot;info-sign&quot;, &quot;iconColor&quot;: &quot;white&quot;, &quot;markerColor&quot;: &quot;blue&quot;, &quot;prefix&quot;: &quot;glyphicon&quot;}\n",
       "            );\n",
       "            marker_b7489e9d59514d278bdb4aeb161fca45.setIcon(icon_bf1469dd7cc26976ab57c4d29f92b21a);\n",
       "        \n",
       "    \n",
       "        var popup_f05ad0b7b3f8fb783a84db249ca26310 = L.popup({&quot;maxWidth&quot;: &quot;100%&quot;});\n",
       "\n",
       "        \n",
       "            \n",
       "                var html_3da56717b91fa2c500869726d4dabe6c = $(`&lt;div id=&quot;html_3da56717b91fa2c500869726d4dabe6c&quot; style=&quot;width: 100.0%; height: 100.0%;&quot;&gt;Client Location: 48.736134, 1.370889&lt;/div&gt;`)[0];\n",
       "                popup_f05ad0b7b3f8fb783a84db249ca26310.setContent(html_3da56717b91fa2c500869726d4dabe6c);\n",
       "            \n",
       "        \n",
       "\n",
       "        marker_b7489e9d59514d278bdb4aeb161fca45.bindPopup(popup_f05ad0b7b3f8fb783a84db249ca26310)\n",
       "        ;\n",
       "\n",
       "        \n",
       "    \n",
       "    \n",
       "            var marker_cb17c06355486a38d7b8a5415e582c02 = L.marker(\n",
       "                [48.7236, 1.3819999],\n",
       "                {}\n",
       "            ).addTo(map_9e1f10ac299527b8b81fbd3a89f1f998);\n",
       "        \n",
       "    \n",
       "            var icon_83a56a3f7a8d6d7b7eb86a3f6943b028 = L.AwesomeMarkers.icon(\n",
       "                {&quot;extraClasses&quot;: &quot;fa-rotate-0&quot;, &quot;icon&quot;: &quot;info-sign&quot;, &quot;iconColor&quot;: &quot;white&quot;, &quot;markerColor&quot;: &quot;blue&quot;, &quot;prefix&quot;: &quot;glyphicon&quot;}\n",
       "            );\n",
       "            marker_cb17c06355486a38d7b8a5415e582c02.setIcon(icon_83a56a3f7a8d6d7b7eb86a3f6943b028);\n",
       "        \n",
       "    \n",
       "        var popup_3f6f034bce236f4867b469a9392666aa = L.popup({&quot;maxWidth&quot;: &quot;100%&quot;});\n",
       "\n",
       "        \n",
       "            \n",
       "                var html_ae28f523f205d3ad5fdea122f1fc0e19 = $(`&lt;div id=&quot;html_ae28f523f205d3ad5fdea122f1fc0e19&quot; style=&quot;width: 100.0%; height: 100.0%;&quot;&gt;Client Location: 48.7236, 1.3819999&lt;/div&gt;`)[0];\n",
       "                popup_3f6f034bce236f4867b469a9392666aa.setContent(html_ae28f523f205d3ad5fdea122f1fc0e19);\n",
       "            \n",
       "        \n",
       "\n",
       "        marker_cb17c06355486a38d7b8a5415e582c02.bindPopup(popup_3f6f034bce236f4867b469a9392666aa)\n",
       "        ;\n",
       "\n",
       "        \n",
       "    \n",
       "    \n",
       "            var marker_ff49f5ddf82a6119ffe1c73ebd572cef = L.marker(\n",
       "                [48.7251381, 1.436412],\n",
       "                {}\n",
       "            ).addTo(map_9e1f10ac299527b8b81fbd3a89f1f998);\n",
       "        \n",
       "    \n",
       "            var icon_052c74a49b78d9a604aaaf88455d765e = L.AwesomeMarkers.icon(\n",
       "                {&quot;extraClasses&quot;: &quot;fa-rotate-0&quot;, &quot;icon&quot;: &quot;info-sign&quot;, &quot;iconColor&quot;: &quot;white&quot;, &quot;markerColor&quot;: &quot;blue&quot;, &quot;prefix&quot;: &quot;glyphicon&quot;}\n",
       "            );\n",
       "            marker_ff49f5ddf82a6119ffe1c73ebd572cef.setIcon(icon_052c74a49b78d9a604aaaf88455d765e);\n",
       "        \n",
       "    \n",
       "        var popup_46e5650ee09d90b662841207e8eed0c6 = L.popup({&quot;maxWidth&quot;: &quot;100%&quot;});\n",
       "\n",
       "        \n",
       "            \n",
       "                var html_fc1c636da9a7398792d43ec12ee75d14 = $(`&lt;div id=&quot;html_fc1c636da9a7398792d43ec12ee75d14&quot; style=&quot;width: 100.0%; height: 100.0%;&quot;&gt;Client Location: 48.7251381, 1.436412&lt;/div&gt;`)[0];\n",
       "                popup_46e5650ee09d90b662841207e8eed0c6.setContent(html_fc1c636da9a7398792d43ec12ee75d14);\n",
       "            \n",
       "        \n",
       "\n",
       "        marker_ff49f5ddf82a6119ffe1c73ebd572cef.bindPopup(popup_46e5650ee09d90b662841207e8eed0c6)\n",
       "        ;\n",
       "\n",
       "        \n",
       "    \n",
       "    \n",
       "            var marker_3252ff6dc7476aac46ca2499ce055e88 = L.marker(\n",
       "                [48.7627671, 1.2028697],\n",
       "                {}\n",
       "            ).addTo(map_9e1f10ac299527b8b81fbd3a89f1f998);\n",
       "        \n",
       "    \n",
       "            var icon_d4123653c00ea17ec3ce3b56a3ea177b = L.AwesomeMarkers.icon(\n",
       "                {&quot;extraClasses&quot;: &quot;fa-rotate-0&quot;, &quot;icon&quot;: &quot;info-sign&quot;, &quot;iconColor&quot;: &quot;white&quot;, &quot;markerColor&quot;: &quot;blue&quot;, &quot;prefix&quot;: &quot;glyphicon&quot;}\n",
       "            );\n",
       "            marker_3252ff6dc7476aac46ca2499ce055e88.setIcon(icon_d4123653c00ea17ec3ce3b56a3ea177b);\n",
       "        \n",
       "    \n",
       "        var popup_0daeed84f7e9058c84f73a3eec5e66da = L.popup({&quot;maxWidth&quot;: &quot;100%&quot;});\n",
       "\n",
       "        \n",
       "            \n",
       "                var html_dd9945290e0e09b499c0c380790d0b27 = $(`&lt;div id=&quot;html_dd9945290e0e09b499c0c380790d0b27&quot; style=&quot;width: 100.0%; height: 100.0%;&quot;&gt;Client Location: 48.7627671, 1.2028697&lt;/div&gt;`)[0];\n",
       "                popup_0daeed84f7e9058c84f73a3eec5e66da.setContent(html_dd9945290e0e09b499c0c380790d0b27);\n",
       "            \n",
       "        \n",
       "\n",
       "        marker_3252ff6dc7476aac46ca2499ce055e88.bindPopup(popup_0daeed84f7e9058c84f73a3eec5e66da)\n",
       "        ;\n",
       "\n",
       "        \n",
       "    \n",
       "    \n",
       "            var marker_8742109ff186d175faf68804db87e515 = L.marker(\n",
       "                [48.7286767, 1.3400246],\n",
       "                {}\n",
       "            ).addTo(map_9e1f10ac299527b8b81fbd3a89f1f998);\n",
       "        \n",
       "    \n",
       "            var icon_fc3c26fad8e55b7749976d4e7392b301 = L.AwesomeMarkers.icon(\n",
       "                {&quot;extraClasses&quot;: &quot;fa-rotate-0&quot;, &quot;icon&quot;: &quot;info-sign&quot;, &quot;iconColor&quot;: &quot;white&quot;, &quot;markerColor&quot;: &quot;blue&quot;, &quot;prefix&quot;: &quot;glyphicon&quot;}\n",
       "            );\n",
       "            marker_8742109ff186d175faf68804db87e515.setIcon(icon_fc3c26fad8e55b7749976d4e7392b301);\n",
       "        \n",
       "    \n",
       "        var popup_2a770f43e5fcef3cf7f4a3245574313b = L.popup({&quot;maxWidth&quot;: &quot;100%&quot;});\n",
       "\n",
       "        \n",
       "            \n",
       "                var html_faf5b1fdf4885aff5120eac30bc33a72 = $(`&lt;div id=&quot;html_faf5b1fdf4885aff5120eac30bc33a72&quot; style=&quot;width: 100.0%; height: 100.0%;&quot;&gt;Client Location: 48.7286767, 1.3400246&lt;/div&gt;`)[0];\n",
       "                popup_2a770f43e5fcef3cf7f4a3245574313b.setContent(html_faf5b1fdf4885aff5120eac30bc33a72);\n",
       "            \n",
       "        \n",
       "\n",
       "        marker_8742109ff186d175faf68804db87e515.bindPopup(popup_2a770f43e5fcef3cf7f4a3245574313b)\n",
       "        ;\n",
       "\n",
       "        \n",
       "    \n",
       "    \n",
       "            var marker_3fd44962ee8f266aed72b210b77d4e98 = L.marker(\n",
       "                [48.732218, 1.3637436],\n",
       "                {}\n",
       "            ).addTo(map_9e1f10ac299527b8b81fbd3a89f1f998);\n",
       "        \n",
       "    \n",
       "            var icon_3960a0f75b4cc9a2c3ef9d63dc3e33ee = L.AwesomeMarkers.icon(\n",
       "                {&quot;extraClasses&quot;: &quot;fa-rotate-0&quot;, &quot;icon&quot;: &quot;info-sign&quot;, &quot;iconColor&quot;: &quot;white&quot;, &quot;markerColor&quot;: &quot;blue&quot;, &quot;prefix&quot;: &quot;glyphicon&quot;}\n",
       "            );\n",
       "            marker_3fd44962ee8f266aed72b210b77d4e98.setIcon(icon_3960a0f75b4cc9a2c3ef9d63dc3e33ee);\n",
       "        \n",
       "    \n",
       "        var popup_70023428648adddd667126acb0e77a2c = L.popup({&quot;maxWidth&quot;: &quot;100%&quot;});\n",
       "\n",
       "        \n",
       "            \n",
       "                var html_f34322d482d071585118070d16361265 = $(`&lt;div id=&quot;html_f34322d482d071585118070d16361265&quot; style=&quot;width: 100.0%; height: 100.0%;&quot;&gt;Client Location: 48.732218, 1.3637436&lt;/div&gt;`)[0];\n",
       "                popup_70023428648adddd667126acb0e77a2c.setContent(html_f34322d482d071585118070d16361265);\n",
       "            \n",
       "        \n",
       "\n",
       "        marker_3fd44962ee8f266aed72b210b77d4e98.bindPopup(popup_70023428648adddd667126acb0e77a2c)\n",
       "        ;\n",
       "\n",
       "        \n",
       "    \n",
       "    \n",
       "            var marker_f1b1a07ab8cb2801bfeb40f8a2b68782 = L.marker(\n",
       "                [48.6692689, 1.2796346],\n",
       "                {}\n",
       "            ).addTo(map_9e1f10ac299527b8b81fbd3a89f1f998);\n",
       "        \n",
       "    \n",
       "            var icon_0cfda8d7dcb15bdfc2666c6ae2bf53e2 = L.AwesomeMarkers.icon(\n",
       "                {&quot;extraClasses&quot;: &quot;fa-rotate-0&quot;, &quot;icon&quot;: &quot;info-sign&quot;, &quot;iconColor&quot;: &quot;white&quot;, &quot;markerColor&quot;: &quot;blue&quot;, &quot;prefix&quot;: &quot;glyphicon&quot;}\n",
       "            );\n",
       "            marker_f1b1a07ab8cb2801bfeb40f8a2b68782.setIcon(icon_0cfda8d7dcb15bdfc2666c6ae2bf53e2);\n",
       "        \n",
       "    \n",
       "        var popup_aa466c87557784883130126a5dd7361d = L.popup({&quot;maxWidth&quot;: &quot;100%&quot;});\n",
       "\n",
       "        \n",
       "            \n",
       "                var html_f9ff975b0c5f78f1d2941eb053173b4a = $(`&lt;div id=&quot;html_f9ff975b0c5f78f1d2941eb053173b4a&quot; style=&quot;width: 100.0%; height: 100.0%;&quot;&gt;Client Location: 48.6692689, 1.2796346&lt;/div&gt;`)[0];\n",
       "                popup_aa466c87557784883130126a5dd7361d.setContent(html_f9ff975b0c5f78f1d2941eb053173b4a);\n",
       "            \n",
       "        \n",
       "\n",
       "        marker_f1b1a07ab8cb2801bfeb40f8a2b68782.bindPopup(popup_aa466c87557784883130126a5dd7361d)\n",
       "        ;\n",
       "\n",
       "        \n",
       "    \n",
       "    \n",
       "            var marker_7b0979fafa6f0625727970fa13a255dc = L.marker(\n",
       "                [48.7399113, 1.3825654],\n",
       "                {}\n",
       "            ).addTo(map_9e1f10ac299527b8b81fbd3a89f1f998);\n",
       "        \n",
       "    \n",
       "            var icon_9cda27f15112224adb8313240e6a9bb7 = L.AwesomeMarkers.icon(\n",
       "                {&quot;extraClasses&quot;: &quot;fa-rotate-0&quot;, &quot;icon&quot;: &quot;info-sign&quot;, &quot;iconColor&quot;: &quot;white&quot;, &quot;markerColor&quot;: &quot;blue&quot;, &quot;prefix&quot;: &quot;glyphicon&quot;}\n",
       "            );\n",
       "            marker_7b0979fafa6f0625727970fa13a255dc.setIcon(icon_9cda27f15112224adb8313240e6a9bb7);\n",
       "        \n",
       "    \n",
       "        var popup_de812125042b354f3b122e4360a07ce9 = L.popup({&quot;maxWidth&quot;: &quot;100%&quot;});\n",
       "\n",
       "        \n",
       "            \n",
       "                var html_104e7f367bf56b727e6c824edf40684a = $(`&lt;div id=&quot;html_104e7f367bf56b727e6c824edf40684a&quot; style=&quot;width: 100.0%; height: 100.0%;&quot;&gt;Client Location: 48.7399113, 1.3825654&lt;/div&gt;`)[0];\n",
       "                popup_de812125042b354f3b122e4360a07ce9.setContent(html_104e7f367bf56b727e6c824edf40684a);\n",
       "            \n",
       "        \n",
       "\n",
       "        marker_7b0979fafa6f0625727970fa13a255dc.bindPopup(popup_de812125042b354f3b122e4360a07ce9)\n",
       "        ;\n",
       "\n",
       "        \n",
       "    \n",
       "    \n",
       "            var marker_b3ab2868df889b3f3ad351fa61daa9f4 = L.marker(\n",
       "                [48.7188515, 1.3760534],\n",
       "                {}\n",
       "            ).addTo(map_9e1f10ac299527b8b81fbd3a89f1f998);\n",
       "        \n",
       "    \n",
       "            var icon_47f908d8d51fe6ffeecb4e4820d8087f = L.AwesomeMarkers.icon(\n",
       "                {&quot;extraClasses&quot;: &quot;fa-rotate-0&quot;, &quot;icon&quot;: &quot;info-sign&quot;, &quot;iconColor&quot;: &quot;white&quot;, &quot;markerColor&quot;: &quot;blue&quot;, &quot;prefix&quot;: &quot;glyphicon&quot;}\n",
       "            );\n",
       "            marker_b3ab2868df889b3f3ad351fa61daa9f4.setIcon(icon_47f908d8d51fe6ffeecb4e4820d8087f);\n",
       "        \n",
       "    \n",
       "        var popup_90ac8d99eda1faf6dfd8764628c4b4cc = L.popup({&quot;maxWidth&quot;: &quot;100%&quot;});\n",
       "\n",
       "        \n",
       "            \n",
       "                var html_fe94f451e51c6b14dd7586121b4ec0af = $(`&lt;div id=&quot;html_fe94f451e51c6b14dd7586121b4ec0af&quot; style=&quot;width: 100.0%; height: 100.0%;&quot;&gt;Client Location: 48.7188515, 1.3760534&lt;/div&gt;`)[0];\n",
       "                popup_90ac8d99eda1faf6dfd8764628c4b4cc.setContent(html_fe94f451e51c6b14dd7586121b4ec0af);\n",
       "            \n",
       "        \n",
       "\n",
       "        marker_b3ab2868df889b3f3ad351fa61daa9f4.bindPopup(popup_90ac8d99eda1faf6dfd8764628c4b4cc)\n",
       "        ;\n",
       "\n",
       "        \n",
       "    \n",
       "    \n",
       "            var marker_2f5068fc56f050dff3ff6800a1ae2a3c = L.marker(\n",
       "                [48.722238, 1.421508],\n",
       "                {}\n",
       "            ).addTo(map_9e1f10ac299527b8b81fbd3a89f1f998);\n",
       "        \n",
       "    \n",
       "            var icon_8d3efeff1dc1f824319f5f2d9b67a662 = L.AwesomeMarkers.icon(\n",
       "                {&quot;extraClasses&quot;: &quot;fa-rotate-0&quot;, &quot;icon&quot;: &quot;info-sign&quot;, &quot;iconColor&quot;: &quot;white&quot;, &quot;markerColor&quot;: &quot;blue&quot;, &quot;prefix&quot;: &quot;glyphicon&quot;}\n",
       "            );\n",
       "            marker_2f5068fc56f050dff3ff6800a1ae2a3c.setIcon(icon_8d3efeff1dc1f824319f5f2d9b67a662);\n",
       "        \n",
       "    \n",
       "        var popup_609dfd47d9412df9f9c77429b49f7611 = L.popup({&quot;maxWidth&quot;: &quot;100%&quot;});\n",
       "\n",
       "        \n",
       "            \n",
       "                var html_56f4238ff9d1b060e22d342cb73d9d22 = $(`&lt;div id=&quot;html_56f4238ff9d1b060e22d342cb73d9d22&quot; style=&quot;width: 100.0%; height: 100.0%;&quot;&gt;Client Location: 48.722238, 1.421508&lt;/div&gt;`)[0];\n",
       "                popup_609dfd47d9412df9f9c77429b49f7611.setContent(html_56f4238ff9d1b060e22d342cb73d9d22);\n",
       "            \n",
       "        \n",
       "\n",
       "        marker_2f5068fc56f050dff3ff6800a1ae2a3c.bindPopup(popup_609dfd47d9412df9f9c77429b49f7611)\n",
       "        ;\n",
       "\n",
       "        \n",
       "    \n",
       "    \n",
       "            var marker_c71f63ad4f24c4f9fb23002de47d7a7b = L.marker(\n",
       "                [48.7686248, 1.186807],\n",
       "                {}\n",
       "            ).addTo(map_9e1f10ac299527b8b81fbd3a89f1f998);\n",
       "        \n",
       "    \n",
       "            var icon_557878bb8d0c236f425f7e66ce6c187b = L.AwesomeMarkers.icon(\n",
       "                {&quot;extraClasses&quot;: &quot;fa-rotate-0&quot;, &quot;icon&quot;: &quot;info-sign&quot;, &quot;iconColor&quot;: &quot;white&quot;, &quot;markerColor&quot;: &quot;blue&quot;, &quot;prefix&quot;: &quot;glyphicon&quot;}\n",
       "            );\n",
       "            marker_c71f63ad4f24c4f9fb23002de47d7a7b.setIcon(icon_557878bb8d0c236f425f7e66ce6c187b);\n",
       "        \n",
       "    \n",
       "        var popup_cf4e7397d0c460f4744bb3f581d315e6 = L.popup({&quot;maxWidth&quot;: &quot;100%&quot;});\n",
       "\n",
       "        \n",
       "            \n",
       "                var html_c3741db8d4c959765b0cdb4821f65fc6 = $(`&lt;div id=&quot;html_c3741db8d4c959765b0cdb4821f65fc6&quot; style=&quot;width: 100.0%; height: 100.0%;&quot;&gt;Client Location: 48.7686248, 1.186807&lt;/div&gt;`)[0];\n",
       "                popup_cf4e7397d0c460f4744bb3f581d315e6.setContent(html_c3741db8d4c959765b0cdb4821f65fc6);\n",
       "            \n",
       "        \n",
       "\n",
       "        marker_c71f63ad4f24c4f9fb23002de47d7a7b.bindPopup(popup_cf4e7397d0c460f4744bb3f581d315e6)\n",
       "        ;\n",
       "\n",
       "        \n",
       "    \n",
       "    \n",
       "            var marker_3d1707816bcc63368df8a5eeb868214c = L.marker(\n",
       "                [48.7136486, 1.3616833],\n",
       "                {}\n",
       "            ).addTo(map_9e1f10ac299527b8b81fbd3a89f1f998);\n",
       "        \n",
       "    \n",
       "            var icon_4d67a64302dc781cbbcf457b7ac0eccb = L.AwesomeMarkers.icon(\n",
       "                {&quot;extraClasses&quot;: &quot;fa-rotate-0&quot;, &quot;icon&quot;: &quot;info-sign&quot;, &quot;iconColor&quot;: &quot;white&quot;, &quot;markerColor&quot;: &quot;blue&quot;, &quot;prefix&quot;: &quot;glyphicon&quot;}\n",
       "            );\n",
       "            marker_3d1707816bcc63368df8a5eeb868214c.setIcon(icon_4d67a64302dc781cbbcf457b7ac0eccb);\n",
       "        \n",
       "    \n",
       "        var popup_a11043c4416d62161e400b6ea6a97c31 = L.popup({&quot;maxWidth&quot;: &quot;100%&quot;});\n",
       "\n",
       "        \n",
       "            \n",
       "                var html_28aeb8be6e96db20d911d3170073028b = $(`&lt;div id=&quot;html_28aeb8be6e96db20d911d3170073028b&quot; style=&quot;width: 100.0%; height: 100.0%;&quot;&gt;Client Location: 48.7136486, 1.3616833&lt;/div&gt;`)[0];\n",
       "                popup_a11043c4416d62161e400b6ea6a97c31.setContent(html_28aeb8be6e96db20d911d3170073028b);\n",
       "            \n",
       "        \n",
       "\n",
       "        marker_3d1707816bcc63368df8a5eeb868214c.bindPopup(popup_a11043c4416d62161e400b6ea6a97c31)\n",
       "        ;\n",
       "\n",
       "        \n",
       "    \n",
       "    \n",
       "            var marker_18e085aa8ce1f7a8389584e6a46747ec = L.marker(\n",
       "                [48.7471879, 1.421348],\n",
       "                {}\n",
       "            ).addTo(map_9e1f10ac299527b8b81fbd3a89f1f998);\n",
       "        \n",
       "    \n",
       "            var icon_cb6a2b83c1cde56881f21002f3f72bf9 = L.AwesomeMarkers.icon(\n",
       "                {&quot;extraClasses&quot;: &quot;fa-rotate-0&quot;, &quot;icon&quot;: &quot;info-sign&quot;, &quot;iconColor&quot;: &quot;white&quot;, &quot;markerColor&quot;: &quot;blue&quot;, &quot;prefix&quot;: &quot;glyphicon&quot;}\n",
       "            );\n",
       "            marker_18e085aa8ce1f7a8389584e6a46747ec.setIcon(icon_cb6a2b83c1cde56881f21002f3f72bf9);\n",
       "        \n",
       "    \n",
       "        var popup_fa7ee6b222926028e60b97075d6a231b = L.popup({&quot;maxWidth&quot;: &quot;100%&quot;});\n",
       "\n",
       "        \n",
       "            \n",
       "                var html_c43f6a1a5b6598480f4d1ab1241438e9 = $(`&lt;div id=&quot;html_c43f6a1a5b6598480f4d1ab1241438e9&quot; style=&quot;width: 100.0%; height: 100.0%;&quot;&gt;Client Location: 48.7471879, 1.421348&lt;/div&gt;`)[0];\n",
       "                popup_fa7ee6b222926028e60b97075d6a231b.setContent(html_c43f6a1a5b6598480f4d1ab1241438e9);\n",
       "            \n",
       "        \n",
       "\n",
       "        marker_18e085aa8ce1f7a8389584e6a46747ec.bindPopup(popup_fa7ee6b222926028e60b97075d6a231b)\n",
       "        ;\n",
       "\n",
       "        \n",
       "    \n",
       "    \n",
       "            var marker_6d5356c10fb0856e1b734f6828f6db7c = L.marker(\n",
       "                [48.7258805, 1.3386537],\n",
       "                {}\n",
       "            ).addTo(map_9e1f10ac299527b8b81fbd3a89f1f998);\n",
       "        \n",
       "    \n",
       "            var icon_ad197c37e59386e0b65d65750d5a5742 = L.AwesomeMarkers.icon(\n",
       "                {&quot;extraClasses&quot;: &quot;fa-rotate-0&quot;, &quot;icon&quot;: &quot;info-sign&quot;, &quot;iconColor&quot;: &quot;white&quot;, &quot;markerColor&quot;: &quot;blue&quot;, &quot;prefix&quot;: &quot;glyphicon&quot;}\n",
       "            );\n",
       "            marker_6d5356c10fb0856e1b734f6828f6db7c.setIcon(icon_ad197c37e59386e0b65d65750d5a5742);\n",
       "        \n",
       "    \n",
       "        var popup_1231c655d1f30e632d1fe7ffc1bd3688 = L.popup({&quot;maxWidth&quot;: &quot;100%&quot;});\n",
       "\n",
       "        \n",
       "            \n",
       "                var html_32d77595d3368e24385aa91f9b07a8bc = $(`&lt;div id=&quot;html_32d77595d3368e24385aa91f9b07a8bc&quot; style=&quot;width: 100.0%; height: 100.0%;&quot;&gt;Client Location: 48.7258805, 1.3386537&lt;/div&gt;`)[0];\n",
       "                popup_1231c655d1f30e632d1fe7ffc1bd3688.setContent(html_32d77595d3368e24385aa91f9b07a8bc);\n",
       "            \n",
       "        \n",
       "\n",
       "        marker_6d5356c10fb0856e1b734f6828f6db7c.bindPopup(popup_1231c655d1f30e632d1fe7ffc1bd3688)\n",
       "        ;\n",
       "\n",
       "        \n",
       "    \n",
       "    \n",
       "            var marker_74b304629784b3695aec070973d715fb = L.marker(\n",
       "                [48.7386889, 1.3680115],\n",
       "                {}\n",
       "            ).addTo(map_9e1f10ac299527b8b81fbd3a89f1f998);\n",
       "        \n",
       "    \n",
       "            var icon_c788b8554586de38024ae27f5c4a75da = L.AwesomeMarkers.icon(\n",
       "                {&quot;extraClasses&quot;: &quot;fa-rotate-0&quot;, &quot;icon&quot;: &quot;info-sign&quot;, &quot;iconColor&quot;: &quot;white&quot;, &quot;markerColor&quot;: &quot;blue&quot;, &quot;prefix&quot;: &quot;glyphicon&quot;}\n",
       "            );\n",
       "            marker_74b304629784b3695aec070973d715fb.setIcon(icon_c788b8554586de38024ae27f5c4a75da);\n",
       "        \n",
       "    \n",
       "        var popup_5ba46b7b147d9c139fa57ee5444f779d = L.popup({&quot;maxWidth&quot;: &quot;100%&quot;});\n",
       "\n",
       "        \n",
       "            \n",
       "                var html_4d1a8ff179b4e5284cfcab42fc3b68a5 = $(`&lt;div id=&quot;html_4d1a8ff179b4e5284cfcab42fc3b68a5&quot; style=&quot;width: 100.0%; height: 100.0%;&quot;&gt;Client Location: 48.7386889, 1.3680115&lt;/div&gt;`)[0];\n",
       "                popup_5ba46b7b147d9c139fa57ee5444f779d.setContent(html_4d1a8ff179b4e5284cfcab42fc3b68a5);\n",
       "            \n",
       "        \n",
       "\n",
       "        marker_74b304629784b3695aec070973d715fb.bindPopup(popup_5ba46b7b147d9c139fa57ee5444f779d)\n",
       "        ;\n",
       "\n",
       "        \n",
       "    \n",
       "    \n",
       "            var marker_64d26136ddd18ee38f481ebef14aa283 = L.marker(\n",
       "                [48.7632131, 1.2313346],\n",
       "                {}\n",
       "            ).addTo(map_9e1f10ac299527b8b81fbd3a89f1f998);\n",
       "        \n",
       "    \n",
       "            var icon_222355614a11f42b518af17c38711713 = L.AwesomeMarkers.icon(\n",
       "                {&quot;extraClasses&quot;: &quot;fa-rotate-0&quot;, &quot;icon&quot;: &quot;info-sign&quot;, &quot;iconColor&quot;: &quot;white&quot;, &quot;markerColor&quot;: &quot;blue&quot;, &quot;prefix&quot;: &quot;glyphicon&quot;}\n",
       "            );\n",
       "            marker_64d26136ddd18ee38f481ebef14aa283.setIcon(icon_222355614a11f42b518af17c38711713);\n",
       "        \n",
       "    \n",
       "        var popup_d7e831d58f43ecf66f636a90c562465b = L.popup({&quot;maxWidth&quot;: &quot;100%&quot;});\n",
       "\n",
       "        \n",
       "            \n",
       "                var html_cda498dd3af77353eba0ccd0a94c0cd8 = $(`&lt;div id=&quot;html_cda498dd3af77353eba0ccd0a94c0cd8&quot; style=&quot;width: 100.0%; height: 100.0%;&quot;&gt;Client Location: 48.7632131, 1.2313346&lt;/div&gt;`)[0];\n",
       "                popup_d7e831d58f43ecf66f636a90c562465b.setContent(html_cda498dd3af77353eba0ccd0a94c0cd8);\n",
       "            \n",
       "        \n",
       "\n",
       "        marker_64d26136ddd18ee38f481ebef14aa283.bindPopup(popup_d7e831d58f43ecf66f636a90c562465b)\n",
       "        ;\n",
       "\n",
       "        \n",
       "    \n",
       "    \n",
       "            var marker_2c681ed1bad39ddbe4bf48ce8831609d = L.marker(\n",
       "                [48.7384591, 1.3463394],\n",
       "                {}\n",
       "            ).addTo(map_9e1f10ac299527b8b81fbd3a89f1f998);\n",
       "        \n",
       "    \n",
       "            var icon_79806f4c06b113fad31f4cb8e38724ff = L.AwesomeMarkers.icon(\n",
       "                {&quot;extraClasses&quot;: &quot;fa-rotate-0&quot;, &quot;icon&quot;: &quot;info-sign&quot;, &quot;iconColor&quot;: &quot;white&quot;, &quot;markerColor&quot;: &quot;blue&quot;, &quot;prefix&quot;: &quot;glyphicon&quot;}\n",
       "            );\n",
       "            marker_2c681ed1bad39ddbe4bf48ce8831609d.setIcon(icon_79806f4c06b113fad31f4cb8e38724ff);\n",
       "        \n",
       "    \n",
       "        var popup_471f08fb6d2dc82dadab56bed4a4222c = L.popup({&quot;maxWidth&quot;: &quot;100%&quot;});\n",
       "\n",
       "        \n",
       "            \n",
       "                var html_36f17c80cf126a68e6d3fd30237a7180 = $(`&lt;div id=&quot;html_36f17c80cf126a68e6d3fd30237a7180&quot; style=&quot;width: 100.0%; height: 100.0%;&quot;&gt;Client Location: 48.7384591, 1.3463394&lt;/div&gt;`)[0];\n",
       "                popup_471f08fb6d2dc82dadab56bed4a4222c.setContent(html_36f17c80cf126a68e6d3fd30237a7180);\n",
       "            \n",
       "        \n",
       "\n",
       "        marker_2c681ed1bad39ddbe4bf48ce8831609d.bindPopup(popup_471f08fb6d2dc82dadab56bed4a4222c)\n",
       "        ;\n",
       "\n",
       "        \n",
       "    \n",
       "    \n",
       "            var marker_c48bb04221fb50e8aae59cd428ccd28b = L.marker(\n",
       "                [48.7581344, 1.1992157],\n",
       "                {}\n",
       "            ).addTo(map_9e1f10ac299527b8b81fbd3a89f1f998);\n",
       "        \n",
       "    \n",
       "            var icon_4fc46e2d38dbba3eabb3fc3529fcdae3 = L.AwesomeMarkers.icon(\n",
       "                {&quot;extraClasses&quot;: &quot;fa-rotate-0&quot;, &quot;icon&quot;: &quot;info-sign&quot;, &quot;iconColor&quot;: &quot;white&quot;, &quot;markerColor&quot;: &quot;blue&quot;, &quot;prefix&quot;: &quot;glyphicon&quot;}\n",
       "            );\n",
       "            marker_c48bb04221fb50e8aae59cd428ccd28b.setIcon(icon_4fc46e2d38dbba3eabb3fc3529fcdae3);\n",
       "        \n",
       "    \n",
       "        var popup_dccbc97c7b8e09a8c4cc26a564f5b076 = L.popup({&quot;maxWidth&quot;: &quot;100%&quot;});\n",
       "\n",
       "        \n",
       "            \n",
       "                var html_5fadd2c516ba0794c8076e856d874138 = $(`&lt;div id=&quot;html_5fadd2c516ba0794c8076e856d874138&quot; style=&quot;width: 100.0%; height: 100.0%;&quot;&gt;Client Location: 48.7581344, 1.1992157&lt;/div&gt;`)[0];\n",
       "                popup_dccbc97c7b8e09a8c4cc26a564f5b076.setContent(html_5fadd2c516ba0794c8076e856d874138);\n",
       "            \n",
       "        \n",
       "\n",
       "        marker_c48bb04221fb50e8aae59cd428ccd28b.bindPopup(popup_dccbc97c7b8e09a8c4cc26a564f5b076)\n",
       "        ;\n",
       "\n",
       "        \n",
       "    \n",
       "    \n",
       "            var marker_45c7d42ef7c643305abdec3f58faee7c = L.marker(\n",
       "                [48.705077, 1.333307],\n",
       "                {}\n",
       "            ).addTo(map_9e1f10ac299527b8b81fbd3a89f1f998);\n",
       "        \n",
       "    \n",
       "            var icon_95c3659500aa716c946bac4b2b1579f1 = L.AwesomeMarkers.icon(\n",
       "                {&quot;extraClasses&quot;: &quot;fa-rotate-0&quot;, &quot;icon&quot;: &quot;info-sign&quot;, &quot;iconColor&quot;: &quot;white&quot;, &quot;markerColor&quot;: &quot;blue&quot;, &quot;prefix&quot;: &quot;glyphicon&quot;}\n",
       "            );\n",
       "            marker_45c7d42ef7c643305abdec3f58faee7c.setIcon(icon_95c3659500aa716c946bac4b2b1579f1);\n",
       "        \n",
       "    \n",
       "        var popup_f7ace42e3fe00f5e5dad8362b501a7ce = L.popup({&quot;maxWidth&quot;: &quot;100%&quot;});\n",
       "\n",
       "        \n",
       "            \n",
       "                var html_c60729bb7dc7a647cf3387fb23bc9431 = $(`&lt;div id=&quot;html_c60729bb7dc7a647cf3387fb23bc9431&quot; style=&quot;width: 100.0%; height: 100.0%;&quot;&gt;Client Location: 48.705077, 1.333307&lt;/div&gt;`)[0];\n",
       "                popup_f7ace42e3fe00f5e5dad8362b501a7ce.setContent(html_c60729bb7dc7a647cf3387fb23bc9431);\n",
       "            \n",
       "        \n",
       "\n",
       "        marker_45c7d42ef7c643305abdec3f58faee7c.bindPopup(popup_f7ace42e3fe00f5e5dad8362b501a7ce)\n",
       "        ;\n",
       "\n",
       "        \n",
       "    \n",
       "    \n",
       "            var marker_64d2bef997c7a479469a779b29e93a52 = L.marker(\n",
       "                [48.7253435, 1.3677647],\n",
       "                {}\n",
       "            ).addTo(map_9e1f10ac299527b8b81fbd3a89f1f998);\n",
       "        \n",
       "    \n",
       "            var icon_83c766007f0438383a9378416ac3507a = L.AwesomeMarkers.icon(\n",
       "                {&quot;extraClasses&quot;: &quot;fa-rotate-0&quot;, &quot;icon&quot;: &quot;info-sign&quot;, &quot;iconColor&quot;: &quot;white&quot;, &quot;markerColor&quot;: &quot;blue&quot;, &quot;prefix&quot;: &quot;glyphicon&quot;}\n",
       "            );\n",
       "            marker_64d2bef997c7a479469a779b29e93a52.setIcon(icon_83c766007f0438383a9378416ac3507a);\n",
       "        \n",
       "    \n",
       "        var popup_dcfd0dc9abd42feb921e8e638fc891a6 = L.popup({&quot;maxWidth&quot;: &quot;100%&quot;});\n",
       "\n",
       "        \n",
       "            \n",
       "                var html_a4f4c2c29f3b9ad8467372f1998cc00c = $(`&lt;div id=&quot;html_a4f4c2c29f3b9ad8467372f1998cc00c&quot; style=&quot;width: 100.0%; height: 100.0%;&quot;&gt;Client Location: 48.7253435, 1.3677647&lt;/div&gt;`)[0];\n",
       "                popup_dcfd0dc9abd42feb921e8e638fc891a6.setContent(html_a4f4c2c29f3b9ad8467372f1998cc00c);\n",
       "            \n",
       "        \n",
       "\n",
       "        marker_64d2bef997c7a479469a779b29e93a52.bindPopup(popup_dcfd0dc9abd42feb921e8e638fc891a6)\n",
       "        ;\n",
       "\n",
       "        \n",
       "    \n",
       "    \n",
       "            var marker_d94d9d3a5479e4064b99adb5796d8d5f = L.marker(\n",
       "                [48.7210831, 1.3750785],\n",
       "                {}\n",
       "            ).addTo(map_9e1f10ac299527b8b81fbd3a89f1f998);\n",
       "        \n",
       "    \n",
       "            var icon_c1665b8562177084d720ae402c4defff = L.AwesomeMarkers.icon(\n",
       "                {&quot;extraClasses&quot;: &quot;fa-rotate-0&quot;, &quot;icon&quot;: &quot;info-sign&quot;, &quot;iconColor&quot;: &quot;white&quot;, &quot;markerColor&quot;: &quot;blue&quot;, &quot;prefix&quot;: &quot;glyphicon&quot;}\n",
       "            );\n",
       "            marker_d94d9d3a5479e4064b99adb5796d8d5f.setIcon(icon_c1665b8562177084d720ae402c4defff);\n",
       "        \n",
       "    \n",
       "        var popup_61cd7ee7f345a8a93d3c2c6ca58e3613 = L.popup({&quot;maxWidth&quot;: &quot;100%&quot;});\n",
       "\n",
       "        \n",
       "            \n",
       "                var html_d1816b0acde7cd80463c25ed0091b5e5 = $(`&lt;div id=&quot;html_d1816b0acde7cd80463c25ed0091b5e5&quot; style=&quot;width: 100.0%; height: 100.0%;&quot;&gt;Client Location: 48.7210831, 1.3750785&lt;/div&gt;`)[0];\n",
       "                popup_61cd7ee7f345a8a93d3c2c6ca58e3613.setContent(html_d1816b0acde7cd80463c25ed0091b5e5);\n",
       "            \n",
       "        \n",
       "\n",
       "        marker_d94d9d3a5479e4064b99adb5796d8d5f.bindPopup(popup_61cd7ee7f345a8a93d3c2c6ca58e3613)\n",
       "        ;\n",
       "\n",
       "        \n",
       "    \n",
       "    \n",
       "            var marker_3e65e5e23acc9a253e379a385b60beae = L.marker(\n",
       "                [48.7697122, 1.4025034],\n",
       "                {}\n",
       "            ).addTo(map_9e1f10ac299527b8b81fbd3a89f1f998);\n",
       "        \n",
       "    \n",
       "            var icon_045e6496edbba4db66e4d545131b5160 = L.AwesomeMarkers.icon(\n",
       "                {&quot;extraClasses&quot;: &quot;fa-rotate-0&quot;, &quot;icon&quot;: &quot;info-sign&quot;, &quot;iconColor&quot;: &quot;white&quot;, &quot;markerColor&quot;: &quot;blue&quot;, &quot;prefix&quot;: &quot;glyphicon&quot;}\n",
       "            );\n",
       "            marker_3e65e5e23acc9a253e379a385b60beae.setIcon(icon_045e6496edbba4db66e4d545131b5160);\n",
       "        \n",
       "    \n",
       "        var popup_89866469e3a0cbf88a2905f51a6e75f2 = L.popup({&quot;maxWidth&quot;: &quot;100%&quot;});\n",
       "\n",
       "        \n",
       "            \n",
       "                var html_381199302ae52a14ad70816fc50d2df6 = $(`&lt;div id=&quot;html_381199302ae52a14ad70816fc50d2df6&quot; style=&quot;width: 100.0%; height: 100.0%;&quot;&gt;Client Location: 48.7697122, 1.4025034&lt;/div&gt;`)[0];\n",
       "                popup_89866469e3a0cbf88a2905f51a6e75f2.setContent(html_381199302ae52a14ad70816fc50d2df6);\n",
       "            \n",
       "        \n",
       "\n",
       "        marker_3e65e5e23acc9a253e379a385b60beae.bindPopup(popup_89866469e3a0cbf88a2905f51a6e75f2)\n",
       "        ;\n",
       "\n",
       "        \n",
       "    \n",
       "    \n",
       "            var marker_720b74cdefc6f647eab12c37694722e5 = L.marker(\n",
       "                [48.8507847, 1.4349048],\n",
       "                {}\n",
       "            ).addTo(map_9e1f10ac299527b8b81fbd3a89f1f998);\n",
       "        \n",
       "    \n",
       "            var icon_f18afa6ec38b4c174255e8a0600c4737 = L.AwesomeMarkers.icon(\n",
       "                {&quot;extraClasses&quot;: &quot;fa-rotate-0&quot;, &quot;icon&quot;: &quot;info-sign&quot;, &quot;iconColor&quot;: &quot;white&quot;, &quot;markerColor&quot;: &quot;blue&quot;, &quot;prefix&quot;: &quot;glyphicon&quot;}\n",
       "            );\n",
       "            marker_720b74cdefc6f647eab12c37694722e5.setIcon(icon_f18afa6ec38b4c174255e8a0600c4737);\n",
       "        \n",
       "    \n",
       "        var popup_90591040219a8f32cba5531aef39a180 = L.popup({&quot;maxWidth&quot;: &quot;100%&quot;});\n",
       "\n",
       "        \n",
       "            \n",
       "                var html_5f8cb80f7ca295aa57f339b8dead814a = $(`&lt;div id=&quot;html_5f8cb80f7ca295aa57f339b8dead814a&quot; style=&quot;width: 100.0%; height: 100.0%;&quot;&gt;Client Location: 48.8507847, 1.4349048&lt;/div&gt;`)[0];\n",
       "                popup_90591040219a8f32cba5531aef39a180.setContent(html_5f8cb80f7ca295aa57f339b8dead814a);\n",
       "            \n",
       "        \n",
       "\n",
       "        marker_720b74cdefc6f647eab12c37694722e5.bindPopup(popup_90591040219a8f32cba5531aef39a180)\n",
       "        ;\n",
       "\n",
       "        \n",
       "    \n",
       "    \n",
       "            var marker_260fa3987f0784ced76b7e213ef30770 = L.marker(\n",
       "                [48.7406099, 1.351789],\n",
       "                {}\n",
       "            ).addTo(map_9e1f10ac299527b8b81fbd3a89f1f998);\n",
       "        \n",
       "    \n",
       "            var icon_e97f6b37d2d33a322f1b5b72f1b80f91 = L.AwesomeMarkers.icon(\n",
       "                {&quot;extraClasses&quot;: &quot;fa-rotate-0&quot;, &quot;icon&quot;: &quot;info-sign&quot;, &quot;iconColor&quot;: &quot;white&quot;, &quot;markerColor&quot;: &quot;blue&quot;, &quot;prefix&quot;: &quot;glyphicon&quot;}\n",
       "            );\n",
       "            marker_260fa3987f0784ced76b7e213ef30770.setIcon(icon_e97f6b37d2d33a322f1b5b72f1b80f91);\n",
       "        \n",
       "    \n",
       "        var popup_bd71fb160a689274469ddefc659036ce = L.popup({&quot;maxWidth&quot;: &quot;100%&quot;});\n",
       "\n",
       "        \n",
       "            \n",
       "                var html_dfeefb5840dbfbd455727c606144868f = $(`&lt;div id=&quot;html_dfeefb5840dbfbd455727c606144868f&quot; style=&quot;width: 100.0%; height: 100.0%;&quot;&gt;Client Location: 48.7406099, 1.351789&lt;/div&gt;`)[0];\n",
       "                popup_bd71fb160a689274469ddefc659036ce.setContent(html_dfeefb5840dbfbd455727c606144868f);\n",
       "            \n",
       "        \n",
       "\n",
       "        marker_260fa3987f0784ced76b7e213ef30770.bindPopup(popup_bd71fb160a689274469ddefc659036ce)\n",
       "        ;\n",
       "\n",
       "        \n",
       "    \n",
       "    \n",
       "            var marker_2627f2999a88b7e62039f2e7a6d1aa51 = L.marker(\n",
       "                [48.7386408, 1.3501338],\n",
       "                {}\n",
       "            ).addTo(map_9e1f10ac299527b8b81fbd3a89f1f998);\n",
       "        \n",
       "    \n",
       "            var icon_4eba16fc1743a08eb3eef298b293074f = L.AwesomeMarkers.icon(\n",
       "                {&quot;extraClasses&quot;: &quot;fa-rotate-0&quot;, &quot;icon&quot;: &quot;info-sign&quot;, &quot;iconColor&quot;: &quot;white&quot;, &quot;markerColor&quot;: &quot;blue&quot;, &quot;prefix&quot;: &quot;glyphicon&quot;}\n",
       "            );\n",
       "            marker_2627f2999a88b7e62039f2e7a6d1aa51.setIcon(icon_4eba16fc1743a08eb3eef298b293074f);\n",
       "        \n",
       "    \n",
       "        var popup_4b0f6933db391756c70c9eef7fd8e78b = L.popup({&quot;maxWidth&quot;: &quot;100%&quot;});\n",
       "\n",
       "        \n",
       "            \n",
       "                var html_1b7dd50f53ba074d694513386bb925d0 = $(`&lt;div id=&quot;html_1b7dd50f53ba074d694513386bb925d0&quot; style=&quot;width: 100.0%; height: 100.0%;&quot;&gt;Client Location: 48.7386408, 1.3501338&lt;/div&gt;`)[0];\n",
       "                popup_4b0f6933db391756c70c9eef7fd8e78b.setContent(html_1b7dd50f53ba074d694513386bb925d0);\n",
       "            \n",
       "        \n",
       "\n",
       "        marker_2627f2999a88b7e62039f2e7a6d1aa51.bindPopup(popup_4b0f6933db391756c70c9eef7fd8e78b)\n",
       "        ;\n",
       "\n",
       "        \n",
       "    \n",
       "    \n",
       "            var marker_a33f44f3d0c0129111de417caf8be708 = L.marker(\n",
       "                [48.7488812, 1.4188566],\n",
       "                {}\n",
       "            ).addTo(map_9e1f10ac299527b8b81fbd3a89f1f998);\n",
       "        \n",
       "    \n",
       "            var icon_21b2452b80073450be5fb11ac54823e9 = L.AwesomeMarkers.icon(\n",
       "                {&quot;extraClasses&quot;: &quot;fa-rotate-0&quot;, &quot;icon&quot;: &quot;info-sign&quot;, &quot;iconColor&quot;: &quot;white&quot;, &quot;markerColor&quot;: &quot;blue&quot;, &quot;prefix&quot;: &quot;glyphicon&quot;}\n",
       "            );\n",
       "            marker_a33f44f3d0c0129111de417caf8be708.setIcon(icon_21b2452b80073450be5fb11ac54823e9);\n",
       "        \n",
       "    \n",
       "        var popup_7959598613dddcc8eedcec4f49620746 = L.popup({&quot;maxWidth&quot;: &quot;100%&quot;});\n",
       "\n",
       "        \n",
       "            \n",
       "                var html_aec23af496eb4c04e4778e628a2ff89f = $(`&lt;div id=&quot;html_aec23af496eb4c04e4778e628a2ff89f&quot; style=&quot;width: 100.0%; height: 100.0%;&quot;&gt;Client Location: 48.7488812, 1.4188566&lt;/div&gt;`)[0];\n",
       "                popup_7959598613dddcc8eedcec4f49620746.setContent(html_aec23af496eb4c04e4778e628a2ff89f);\n",
       "            \n",
       "        \n",
       "\n",
       "        marker_a33f44f3d0c0129111de417caf8be708.bindPopup(popup_7959598613dddcc8eedcec4f49620746)\n",
       "        ;\n",
       "\n",
       "        \n",
       "    \n",
       "    \n",
       "            var marker_8b57e928dfd48c2d5dcea8a91c936a96 = L.marker(\n",
       "                [48.7066591, 1.3321919],\n",
       "                {}\n",
       "            ).addTo(map_9e1f10ac299527b8b81fbd3a89f1f998);\n",
       "        \n",
       "    \n",
       "            var icon_1058585e959c34f78e81b68c25337e98 = L.AwesomeMarkers.icon(\n",
       "                {&quot;extraClasses&quot;: &quot;fa-rotate-0&quot;, &quot;icon&quot;: &quot;info-sign&quot;, &quot;iconColor&quot;: &quot;white&quot;, &quot;markerColor&quot;: &quot;blue&quot;, &quot;prefix&quot;: &quot;glyphicon&quot;}\n",
       "            );\n",
       "            marker_8b57e928dfd48c2d5dcea8a91c936a96.setIcon(icon_1058585e959c34f78e81b68c25337e98);\n",
       "        \n",
       "    \n",
       "        var popup_4e30381dc8baa213021752f25a521f8a = L.popup({&quot;maxWidth&quot;: &quot;100%&quot;});\n",
       "\n",
       "        \n",
       "            \n",
       "                var html_6ffb74dd2afd7ce3e507f167ee59eea5 = $(`&lt;div id=&quot;html_6ffb74dd2afd7ce3e507f167ee59eea5&quot; style=&quot;width: 100.0%; height: 100.0%;&quot;&gt;Client Location: 48.7066591, 1.3321919&lt;/div&gt;`)[0];\n",
       "                popup_4e30381dc8baa213021752f25a521f8a.setContent(html_6ffb74dd2afd7ce3e507f167ee59eea5);\n",
       "            \n",
       "        \n",
       "\n",
       "        marker_8b57e928dfd48c2d5dcea8a91c936a96.bindPopup(popup_4e30381dc8baa213021752f25a521f8a)\n",
       "        ;\n",
       "\n",
       "        \n",
       "    \n",
       "    \n",
       "            var marker_30df22ad1d24ed8aa9ab2b30baa20b74 = L.marker(\n",
       "                [48.7338212, 1.3672421],\n",
       "                {}\n",
       "            ).addTo(map_9e1f10ac299527b8b81fbd3a89f1f998);\n",
       "        \n",
       "    \n",
       "            var icon_67649948cec61d17898271710831dabf = L.AwesomeMarkers.icon(\n",
       "                {&quot;extraClasses&quot;: &quot;fa-rotate-0&quot;, &quot;icon&quot;: &quot;info-sign&quot;, &quot;iconColor&quot;: &quot;white&quot;, &quot;markerColor&quot;: &quot;blue&quot;, &quot;prefix&quot;: &quot;glyphicon&quot;}\n",
       "            );\n",
       "            marker_30df22ad1d24ed8aa9ab2b30baa20b74.setIcon(icon_67649948cec61d17898271710831dabf);\n",
       "        \n",
       "    \n",
       "        var popup_72f64f8119d65f60535730e130a4e6ef = L.popup({&quot;maxWidth&quot;: &quot;100%&quot;});\n",
       "\n",
       "        \n",
       "            \n",
       "                var html_aac0bc3de5f9867cef114c3e2267efa9 = $(`&lt;div id=&quot;html_aac0bc3de5f9867cef114c3e2267efa9&quot; style=&quot;width: 100.0%; height: 100.0%;&quot;&gt;Client Location: 48.7338212, 1.3672421&lt;/div&gt;`)[0];\n",
       "                popup_72f64f8119d65f60535730e130a4e6ef.setContent(html_aac0bc3de5f9867cef114c3e2267efa9);\n",
       "            \n",
       "        \n",
       "\n",
       "        marker_30df22ad1d24ed8aa9ab2b30baa20b74.bindPopup(popup_72f64f8119d65f60535730e130a4e6ef)\n",
       "        ;\n",
       "\n",
       "        \n",
       "    \n",
       "    \n",
       "            var marker_11eca8c9fbc546c500249b4c3b32bb8d = L.marker(\n",
       "                [48.7294692, 1.3320168],\n",
       "                {}\n",
       "            ).addTo(map_9e1f10ac299527b8b81fbd3a89f1f998);\n",
       "        \n",
       "    \n",
       "            var icon_ceb7fe095dd0d03273d4e131cc700eb9 = L.AwesomeMarkers.icon(\n",
       "                {&quot;extraClasses&quot;: &quot;fa-rotate-0&quot;, &quot;icon&quot;: &quot;info-sign&quot;, &quot;iconColor&quot;: &quot;white&quot;, &quot;markerColor&quot;: &quot;blue&quot;, &quot;prefix&quot;: &quot;glyphicon&quot;}\n",
       "            );\n",
       "            marker_11eca8c9fbc546c500249b4c3b32bb8d.setIcon(icon_ceb7fe095dd0d03273d4e131cc700eb9);\n",
       "        \n",
       "    \n",
       "        var popup_547297172c3e6f5f06bf3351a8f45be6 = L.popup({&quot;maxWidth&quot;: &quot;100%&quot;});\n",
       "\n",
       "        \n",
       "            \n",
       "                var html_91afd563d0cb0bf8ad7d0a94e250f9e6 = $(`&lt;div id=&quot;html_91afd563d0cb0bf8ad7d0a94e250f9e6&quot; style=&quot;width: 100.0%; height: 100.0%;&quot;&gt;Client Location: 48.7294692, 1.3320168&lt;/div&gt;`)[0];\n",
       "                popup_547297172c3e6f5f06bf3351a8f45be6.setContent(html_91afd563d0cb0bf8ad7d0a94e250f9e6);\n",
       "            \n",
       "        \n",
       "\n",
       "        marker_11eca8c9fbc546c500249b4c3b32bb8d.bindPopup(popup_547297172c3e6f5f06bf3351a8f45be6)\n",
       "        ;\n",
       "\n",
       "        \n",
       "    \n",
       "    \n",
       "            var marker_15a3879dc4fd0cca0100dff0ce719090 = L.marker(\n",
       "                [48.5868825, 1.2355952],\n",
       "                {}\n",
       "            ).addTo(map_9e1f10ac299527b8b81fbd3a89f1f998);\n",
       "        \n",
       "    \n",
       "            var icon_b6a6961caa8542ac5490a58ee0271f38 = L.AwesomeMarkers.icon(\n",
       "                {&quot;extraClasses&quot;: &quot;fa-rotate-0&quot;, &quot;icon&quot;: &quot;info-sign&quot;, &quot;iconColor&quot;: &quot;white&quot;, &quot;markerColor&quot;: &quot;blue&quot;, &quot;prefix&quot;: &quot;glyphicon&quot;}\n",
       "            );\n",
       "            marker_15a3879dc4fd0cca0100dff0ce719090.setIcon(icon_b6a6961caa8542ac5490a58ee0271f38);\n",
       "        \n",
       "    \n",
       "        var popup_5e94da00b365506078b5099366adb137 = L.popup({&quot;maxWidth&quot;: &quot;100%&quot;});\n",
       "\n",
       "        \n",
       "            \n",
       "                var html_8b90ce26b467c80018ed373a0628b1f2 = $(`&lt;div id=&quot;html_8b90ce26b467c80018ed373a0628b1f2&quot; style=&quot;width: 100.0%; height: 100.0%;&quot;&gt;Client Location: 48.5868825, 1.2355952&lt;/div&gt;`)[0];\n",
       "                popup_5e94da00b365506078b5099366adb137.setContent(html_8b90ce26b467c80018ed373a0628b1f2);\n",
       "            \n",
       "        \n",
       "\n",
       "        marker_15a3879dc4fd0cca0100dff0ce719090.bindPopup(popup_5e94da00b365506078b5099366adb137)\n",
       "        ;\n",
       "\n",
       "        \n",
       "    \n",
       "    \n",
       "            var marker_3ec147aa3413f59ac8d6444ded5e392d = L.marker(\n",
       "                [48.7417346, 1.3509254],\n",
       "                {}\n",
       "            ).addTo(map_9e1f10ac299527b8b81fbd3a89f1f998);\n",
       "        \n",
       "    \n",
       "            var icon_4502edd358d050d9072b37c48e8b0c14 = L.AwesomeMarkers.icon(\n",
       "                {&quot;extraClasses&quot;: &quot;fa-rotate-0&quot;, &quot;icon&quot;: &quot;info-sign&quot;, &quot;iconColor&quot;: &quot;white&quot;, &quot;markerColor&quot;: &quot;blue&quot;, &quot;prefix&quot;: &quot;glyphicon&quot;}\n",
       "            );\n",
       "            marker_3ec147aa3413f59ac8d6444ded5e392d.setIcon(icon_4502edd358d050d9072b37c48e8b0c14);\n",
       "        \n",
       "    \n",
       "        var popup_0545bea7cf136ea19f0a89f1214bb37e = L.popup({&quot;maxWidth&quot;: &quot;100%&quot;});\n",
       "\n",
       "        \n",
       "            \n",
       "                var html_36e1866cf82bb9b2b87d071a4823ad4f = $(`&lt;div id=&quot;html_36e1866cf82bb9b2b87d071a4823ad4f&quot; style=&quot;width: 100.0%; height: 100.0%;&quot;&gt;Client Location: 48.7417346, 1.3509254&lt;/div&gt;`)[0];\n",
       "                popup_0545bea7cf136ea19f0a89f1214bb37e.setContent(html_36e1866cf82bb9b2b87d071a4823ad4f);\n",
       "            \n",
       "        \n",
       "\n",
       "        marker_3ec147aa3413f59ac8d6444ded5e392d.bindPopup(popup_0545bea7cf136ea19f0a89f1214bb37e)\n",
       "        ;\n",
       "\n",
       "        \n",
       "    \n",
       "    \n",
       "            var marker_a60bc66e865881dc96d23a3f409dfe59 = L.marker(\n",
       "                [48.7447023, 1.3579211],\n",
       "                {}\n",
       "            ).addTo(map_9e1f10ac299527b8b81fbd3a89f1f998);\n",
       "        \n",
       "    \n",
       "            var icon_975e18409ceaa38174114350a20e0c26 = L.AwesomeMarkers.icon(\n",
       "                {&quot;extraClasses&quot;: &quot;fa-rotate-0&quot;, &quot;icon&quot;: &quot;info-sign&quot;, &quot;iconColor&quot;: &quot;white&quot;, &quot;markerColor&quot;: &quot;blue&quot;, &quot;prefix&quot;: &quot;glyphicon&quot;}\n",
       "            );\n",
       "            marker_a60bc66e865881dc96d23a3f409dfe59.setIcon(icon_975e18409ceaa38174114350a20e0c26);\n",
       "        \n",
       "    \n",
       "        var popup_a160d71fd1a1ede37d05842fb948a12d = L.popup({&quot;maxWidth&quot;: &quot;100%&quot;});\n",
       "\n",
       "        \n",
       "            \n",
       "                var html_3fe0b6fba38fc79962e522de6e7d7245 = $(`&lt;div id=&quot;html_3fe0b6fba38fc79962e522de6e7d7245&quot; style=&quot;width: 100.0%; height: 100.0%;&quot;&gt;Client Location: 48.7447023, 1.3579211&lt;/div&gt;`)[0];\n",
       "                popup_a160d71fd1a1ede37d05842fb948a12d.setContent(html_3fe0b6fba38fc79962e522de6e7d7245);\n",
       "            \n",
       "        \n",
       "\n",
       "        marker_a60bc66e865881dc96d23a3f409dfe59.bindPopup(popup_a160d71fd1a1ede37d05842fb948a12d)\n",
       "        ;\n",
       "\n",
       "        \n",
       "    \n",
       "    \n",
       "            var marker_16f884bb2edda1c7a2945fd2d29980e8 = L.marker(\n",
       "                [48.7296506, 1.3348961],\n",
       "                {}\n",
       "            ).addTo(map_9e1f10ac299527b8b81fbd3a89f1f998);\n",
       "        \n",
       "    \n",
       "            var icon_a257a6eb3f9e0bda4401db93ff46a4ee = L.AwesomeMarkers.icon(\n",
       "                {&quot;extraClasses&quot;: &quot;fa-rotate-0&quot;, &quot;icon&quot;: &quot;info-sign&quot;, &quot;iconColor&quot;: &quot;white&quot;, &quot;markerColor&quot;: &quot;blue&quot;, &quot;prefix&quot;: &quot;glyphicon&quot;}\n",
       "            );\n",
       "            marker_16f884bb2edda1c7a2945fd2d29980e8.setIcon(icon_a257a6eb3f9e0bda4401db93ff46a4ee);\n",
       "        \n",
       "    \n",
       "        var popup_5b0cdc3e15ed3a4e7188c51395b4b028 = L.popup({&quot;maxWidth&quot;: &quot;100%&quot;});\n",
       "\n",
       "        \n",
       "            \n",
       "                var html_436374c74d43488d804d4020a0722b22 = $(`&lt;div id=&quot;html_436374c74d43488d804d4020a0722b22&quot; style=&quot;width: 100.0%; height: 100.0%;&quot;&gt;Client Location: 48.7296506, 1.3348961&lt;/div&gt;`)[0];\n",
       "                popup_5b0cdc3e15ed3a4e7188c51395b4b028.setContent(html_436374c74d43488d804d4020a0722b22);\n",
       "            \n",
       "        \n",
       "\n",
       "        marker_16f884bb2edda1c7a2945fd2d29980e8.bindPopup(popup_5b0cdc3e15ed3a4e7188c51395b4b028)\n",
       "        ;\n",
       "\n",
       "        \n",
       "    \n",
       "    \n",
       "            var marker_fe91c854a219b589e6bfd16a292af1ce = L.marker(\n",
       "                [48.747275, 1.3990408],\n",
       "                {}\n",
       "            ).addTo(map_9e1f10ac299527b8b81fbd3a89f1f998);\n",
       "        \n",
       "    \n",
       "            var icon_88638444f2596c02b5e4293a813f33e6 = L.AwesomeMarkers.icon(\n",
       "                {&quot;extraClasses&quot;: &quot;fa-rotate-0&quot;, &quot;icon&quot;: &quot;info-sign&quot;, &quot;iconColor&quot;: &quot;white&quot;, &quot;markerColor&quot;: &quot;blue&quot;, &quot;prefix&quot;: &quot;glyphicon&quot;}\n",
       "            );\n",
       "            marker_fe91c854a219b589e6bfd16a292af1ce.setIcon(icon_88638444f2596c02b5e4293a813f33e6);\n",
       "        \n",
       "    \n",
       "        var popup_be2e2750f27f520a7f1725350dc1aaf1 = L.popup({&quot;maxWidth&quot;: &quot;100%&quot;});\n",
       "\n",
       "        \n",
       "            \n",
       "                var html_ee84f17d1da3570cd22ee5cf8285127c = $(`&lt;div id=&quot;html_ee84f17d1da3570cd22ee5cf8285127c&quot; style=&quot;width: 100.0%; height: 100.0%;&quot;&gt;Client Location: 48.747275, 1.3990408&lt;/div&gt;`)[0];\n",
       "                popup_be2e2750f27f520a7f1725350dc1aaf1.setContent(html_ee84f17d1da3570cd22ee5cf8285127c);\n",
       "            \n",
       "        \n",
       "\n",
       "        marker_fe91c854a219b589e6bfd16a292af1ce.bindPopup(popup_be2e2750f27f520a7f1725350dc1aaf1)\n",
       "        ;\n",
       "\n",
       "        \n",
       "    \n",
       "    \n",
       "            var marker_7995e8c170182e14c257b23cf7c46428 = L.marker(\n",
       "                [48.7296431, 1.363584],\n",
       "                {}\n",
       "            ).addTo(map_9e1f10ac299527b8b81fbd3a89f1f998);\n",
       "        \n",
       "    \n",
       "            var icon_82f599f2c2ee7a3dd5c119bdd95f93f1 = L.AwesomeMarkers.icon(\n",
       "                {&quot;extraClasses&quot;: &quot;fa-rotate-0&quot;, &quot;icon&quot;: &quot;info-sign&quot;, &quot;iconColor&quot;: &quot;white&quot;, &quot;markerColor&quot;: &quot;blue&quot;, &quot;prefix&quot;: &quot;glyphicon&quot;}\n",
       "            );\n",
       "            marker_7995e8c170182e14c257b23cf7c46428.setIcon(icon_82f599f2c2ee7a3dd5c119bdd95f93f1);\n",
       "        \n",
       "    \n",
       "        var popup_b89a732f11d0a5a3a39dfa917501ef3f = L.popup({&quot;maxWidth&quot;: &quot;100%&quot;});\n",
       "\n",
       "        \n",
       "            \n",
       "                var html_125a2355c136a5552339e695c5fe8684 = $(`&lt;div id=&quot;html_125a2355c136a5552339e695c5fe8684&quot; style=&quot;width: 100.0%; height: 100.0%;&quot;&gt;Client Location: 48.7296431, 1.363584&lt;/div&gt;`)[0];\n",
       "                popup_b89a732f11d0a5a3a39dfa917501ef3f.setContent(html_125a2355c136a5552339e695c5fe8684);\n",
       "            \n",
       "        \n",
       "\n",
       "        marker_7995e8c170182e14c257b23cf7c46428.bindPopup(popup_b89a732f11d0a5a3a39dfa917501ef3f)\n",
       "        ;\n",
       "\n",
       "        \n",
       "    \n",
       "    \n",
       "            var marker_dd2a5d51e513be7b852911f627e0ee7c = L.marker(\n",
       "                [48.7250933, 1.4273666],\n",
       "                {}\n",
       "            ).addTo(map_9e1f10ac299527b8b81fbd3a89f1f998);\n",
       "        \n",
       "    \n",
       "            var icon_6cc3c0d3aa1ff188fa9e9e4c3cb53ca9 = L.AwesomeMarkers.icon(\n",
       "                {&quot;extraClasses&quot;: &quot;fa-rotate-0&quot;, &quot;icon&quot;: &quot;info-sign&quot;, &quot;iconColor&quot;: &quot;white&quot;, &quot;markerColor&quot;: &quot;blue&quot;, &quot;prefix&quot;: &quot;glyphicon&quot;}\n",
       "            );\n",
       "            marker_dd2a5d51e513be7b852911f627e0ee7c.setIcon(icon_6cc3c0d3aa1ff188fa9e9e4c3cb53ca9);\n",
       "        \n",
       "    \n",
       "        var popup_779dd1d3fd566850ad9104ad8129db17 = L.popup({&quot;maxWidth&quot;: &quot;100%&quot;});\n",
       "\n",
       "        \n",
       "            \n",
       "                var html_59a8677e8035b11b8d2682f12ecbf44e = $(`&lt;div id=&quot;html_59a8677e8035b11b8d2682f12ecbf44e&quot; style=&quot;width: 100.0%; height: 100.0%;&quot;&gt;Client Location: 48.7250933, 1.4273666&lt;/div&gt;`)[0];\n",
       "                popup_779dd1d3fd566850ad9104ad8129db17.setContent(html_59a8677e8035b11b8d2682f12ecbf44e);\n",
       "            \n",
       "        \n",
       "\n",
       "        marker_dd2a5d51e513be7b852911f627e0ee7c.bindPopup(popup_779dd1d3fd566850ad9104ad8129db17)\n",
       "        ;\n",
       "\n",
       "        \n",
       "    \n",
       "    \n",
       "            var marker_adf80368983ec51f2b9098cb92dab09c = L.marker(\n",
       "                [48.7316474, 1.2833024],\n",
       "                {}\n",
       "            ).addTo(map_9e1f10ac299527b8b81fbd3a89f1f998);\n",
       "        \n",
       "    \n",
       "            var icon_0ac49045e9186c8bc38e719cd2cebb8b = L.AwesomeMarkers.icon(\n",
       "                {&quot;extraClasses&quot;: &quot;fa-rotate-0&quot;, &quot;icon&quot;: &quot;info-sign&quot;, &quot;iconColor&quot;: &quot;white&quot;, &quot;markerColor&quot;: &quot;blue&quot;, &quot;prefix&quot;: &quot;glyphicon&quot;}\n",
       "            );\n",
       "            marker_adf80368983ec51f2b9098cb92dab09c.setIcon(icon_0ac49045e9186c8bc38e719cd2cebb8b);\n",
       "        \n",
       "    \n",
       "        var popup_ac1d4e9326999e64536d08c9599ab34a = L.popup({&quot;maxWidth&quot;: &quot;100%&quot;});\n",
       "\n",
       "        \n",
       "            \n",
       "                var html_30e2a4822eda349a4c2716651ca8a629 = $(`&lt;div id=&quot;html_30e2a4822eda349a4c2716651ca8a629&quot; style=&quot;width: 100.0%; height: 100.0%;&quot;&gt;Client Location: 48.7316474, 1.2833024&lt;/div&gt;`)[0];\n",
       "                popup_ac1d4e9326999e64536d08c9599ab34a.setContent(html_30e2a4822eda349a4c2716651ca8a629);\n",
       "            \n",
       "        \n",
       "\n",
       "        marker_adf80368983ec51f2b9098cb92dab09c.bindPopup(popup_ac1d4e9326999e64536d08c9599ab34a)\n",
       "        ;\n",
       "\n",
       "        \n",
       "    \n",
       "    \n",
       "            var marker_6c0a218c352e4ea49e91c94e551ef88e = L.marker(\n",
       "                [48.7263435, 1.3327037],\n",
       "                {}\n",
       "            ).addTo(map_9e1f10ac299527b8b81fbd3a89f1f998);\n",
       "        \n",
       "    \n",
       "            var icon_f0dc3154917e54cf0f917cf08c05dc82 = L.AwesomeMarkers.icon(\n",
       "                {&quot;extraClasses&quot;: &quot;fa-rotate-0&quot;, &quot;icon&quot;: &quot;info-sign&quot;, &quot;iconColor&quot;: &quot;white&quot;, &quot;markerColor&quot;: &quot;blue&quot;, &quot;prefix&quot;: &quot;glyphicon&quot;}\n",
       "            );\n",
       "            marker_6c0a218c352e4ea49e91c94e551ef88e.setIcon(icon_f0dc3154917e54cf0f917cf08c05dc82);\n",
       "        \n",
       "    \n",
       "        var popup_0ed802eb6fc96b98a4be10e2f15d5691 = L.popup({&quot;maxWidth&quot;: &quot;100%&quot;});\n",
       "\n",
       "        \n",
       "            \n",
       "                var html_5a2c29df73e70ee5c8ade47fe25c12ff = $(`&lt;div id=&quot;html_5a2c29df73e70ee5c8ade47fe25c12ff&quot; style=&quot;width: 100.0%; height: 100.0%;&quot;&gt;Client Location: 48.7263435, 1.3327037&lt;/div&gt;`)[0];\n",
       "                popup_0ed802eb6fc96b98a4be10e2f15d5691.setContent(html_5a2c29df73e70ee5c8ade47fe25c12ff);\n",
       "            \n",
       "        \n",
       "\n",
       "        marker_6c0a218c352e4ea49e91c94e551ef88e.bindPopup(popup_0ed802eb6fc96b98a4be10e2f15d5691)\n",
       "        ;\n",
       "\n",
       "        \n",
       "    \n",
       "    \n",
       "            var marker_566e062d678469ba6209875828c751e6 = L.marker(\n",
       "                [48.719157, 1.376304],\n",
       "                {}\n",
       "            ).addTo(map_9e1f10ac299527b8b81fbd3a89f1f998);\n",
       "        \n",
       "    \n",
       "            var icon_38201d5083aa9a051c5f563bc646c2ac = L.AwesomeMarkers.icon(\n",
       "                {&quot;extraClasses&quot;: &quot;fa-rotate-0&quot;, &quot;icon&quot;: &quot;info-sign&quot;, &quot;iconColor&quot;: &quot;white&quot;, &quot;markerColor&quot;: &quot;blue&quot;, &quot;prefix&quot;: &quot;glyphicon&quot;}\n",
       "            );\n",
       "            marker_566e062d678469ba6209875828c751e6.setIcon(icon_38201d5083aa9a051c5f563bc646c2ac);\n",
       "        \n",
       "    \n",
       "        var popup_a353ba9aab189f89f4e7abc3e7aa0b97 = L.popup({&quot;maxWidth&quot;: &quot;100%&quot;});\n",
       "\n",
       "        \n",
       "            \n",
       "                var html_748ae8bb8af9befe234eb68f9145037d = $(`&lt;div id=&quot;html_748ae8bb8af9befe234eb68f9145037d&quot; style=&quot;width: 100.0%; height: 100.0%;&quot;&gt;Client Location: 48.719157, 1.376304&lt;/div&gt;`)[0];\n",
       "                popup_a353ba9aab189f89f4e7abc3e7aa0b97.setContent(html_748ae8bb8af9befe234eb68f9145037d);\n",
       "            \n",
       "        \n",
       "\n",
       "        marker_566e062d678469ba6209875828c751e6.bindPopup(popup_a353ba9aab189f89f4e7abc3e7aa0b97)\n",
       "        ;\n",
       "\n",
       "        \n",
       "    \n",
       "    \n",
       "            var marker_1e4d737149e5d570c16736ea1f03b18d = L.marker(\n",
       "                [48.729807, 1.363688],\n",
       "                {}\n",
       "            ).addTo(map_9e1f10ac299527b8b81fbd3a89f1f998);\n",
       "        \n",
       "    \n",
       "            var icon_f0796e17256437a7c628655a71409df6 = L.AwesomeMarkers.icon(\n",
       "                {&quot;extraClasses&quot;: &quot;fa-rotate-0&quot;, &quot;icon&quot;: &quot;info-sign&quot;, &quot;iconColor&quot;: &quot;white&quot;, &quot;markerColor&quot;: &quot;blue&quot;, &quot;prefix&quot;: &quot;glyphicon&quot;}\n",
       "            );\n",
       "            marker_1e4d737149e5d570c16736ea1f03b18d.setIcon(icon_f0796e17256437a7c628655a71409df6);\n",
       "        \n",
       "    \n",
       "        var popup_f1d4e586b24afb91386cbe22dbdb1683 = L.popup({&quot;maxWidth&quot;: &quot;100%&quot;});\n",
       "\n",
       "        \n",
       "            \n",
       "                var html_64a455b02c72c0c2db873ee3eee3544b = $(`&lt;div id=&quot;html_64a455b02c72c0c2db873ee3eee3544b&quot; style=&quot;width: 100.0%; height: 100.0%;&quot;&gt;Client Location: 48.729807, 1.363688&lt;/div&gt;`)[0];\n",
       "                popup_f1d4e586b24afb91386cbe22dbdb1683.setContent(html_64a455b02c72c0c2db873ee3eee3544b);\n",
       "            \n",
       "        \n",
       "\n",
       "        marker_1e4d737149e5d570c16736ea1f03b18d.bindPopup(popup_f1d4e586b24afb91386cbe22dbdb1683)\n",
       "        ;\n",
       "\n",
       "        \n",
       "    \n",
       "    \n",
       "            var marker_cc81bc78aa6f724ac59a94a6143d499e = L.marker(\n",
       "                [48.670992, 1.282323],\n",
       "                {}\n",
       "            ).addTo(map_9e1f10ac299527b8b81fbd3a89f1f998);\n",
       "        \n",
       "    \n",
       "            var icon_75aac419071b99ed5590e7bfca2a5daf = L.AwesomeMarkers.icon(\n",
       "                {&quot;extraClasses&quot;: &quot;fa-rotate-0&quot;, &quot;icon&quot;: &quot;info-sign&quot;, &quot;iconColor&quot;: &quot;white&quot;, &quot;markerColor&quot;: &quot;blue&quot;, &quot;prefix&quot;: &quot;glyphicon&quot;}\n",
       "            );\n",
       "            marker_cc81bc78aa6f724ac59a94a6143d499e.setIcon(icon_75aac419071b99ed5590e7bfca2a5daf);\n",
       "        \n",
       "    \n",
       "        var popup_fb66f90ba3a6a537b177752f5d36645c = L.popup({&quot;maxWidth&quot;: &quot;100%&quot;});\n",
       "\n",
       "        \n",
       "            \n",
       "                var html_33cb5b61d1dab030d93acd21a3321646 = $(`&lt;div id=&quot;html_33cb5b61d1dab030d93acd21a3321646&quot; style=&quot;width: 100.0%; height: 100.0%;&quot;&gt;Client Location: 48.670992, 1.282323&lt;/div&gt;`)[0];\n",
       "                popup_fb66f90ba3a6a537b177752f5d36645c.setContent(html_33cb5b61d1dab030d93acd21a3321646);\n",
       "            \n",
       "        \n",
       "\n",
       "        marker_cc81bc78aa6f724ac59a94a6143d499e.bindPopup(popup_fb66f90ba3a6a537b177752f5d36645c)\n",
       "        ;\n",
       "\n",
       "        \n",
       "    \n",
       "    \n",
       "            var marker_942922f2130e1da904a49bdbb48b53a1 = L.marker(\n",
       "                [48.7683067, 1.4034102],\n",
       "                {}\n",
       "            ).addTo(map_9e1f10ac299527b8b81fbd3a89f1f998);\n",
       "        \n",
       "    \n",
       "            var icon_39d3b73e27f7d7fdf759ffce74715e8e = L.AwesomeMarkers.icon(\n",
       "                {&quot;extraClasses&quot;: &quot;fa-rotate-0&quot;, &quot;icon&quot;: &quot;info-sign&quot;, &quot;iconColor&quot;: &quot;white&quot;, &quot;markerColor&quot;: &quot;blue&quot;, &quot;prefix&quot;: &quot;glyphicon&quot;}\n",
       "            );\n",
       "            marker_942922f2130e1da904a49bdbb48b53a1.setIcon(icon_39d3b73e27f7d7fdf759ffce74715e8e);\n",
       "        \n",
       "    \n",
       "        var popup_fbe7afaea5f3cf291068fc4c2264f179 = L.popup({&quot;maxWidth&quot;: &quot;100%&quot;});\n",
       "\n",
       "        \n",
       "            \n",
       "                var html_fa31ef59b549183ad273ac849af35f11 = $(`&lt;div id=&quot;html_fa31ef59b549183ad273ac849af35f11&quot; style=&quot;width: 100.0%; height: 100.0%;&quot;&gt;Client Location: 48.7683067, 1.4034102&lt;/div&gt;`)[0];\n",
       "                popup_fbe7afaea5f3cf291068fc4c2264f179.setContent(html_fa31ef59b549183ad273ac849af35f11);\n",
       "            \n",
       "        \n",
       "\n",
       "        marker_942922f2130e1da904a49bdbb48b53a1.bindPopup(popup_fbe7afaea5f3cf291068fc4c2264f179)\n",
       "        ;\n",
       "\n",
       "        \n",
       "    \n",
       "    \n",
       "            var marker_d1a7f92f5e46f65d854678c05f68cbef = L.marker(\n",
       "                [48.7317417, 1.3372616],\n",
       "                {}\n",
       "            ).addTo(map_9e1f10ac299527b8b81fbd3a89f1f998);\n",
       "        \n",
       "    \n",
       "            var icon_ccbb6b09be38b443fd606b1ff660bdfe = L.AwesomeMarkers.icon(\n",
       "                {&quot;extraClasses&quot;: &quot;fa-rotate-0&quot;, &quot;icon&quot;: &quot;info-sign&quot;, &quot;iconColor&quot;: &quot;white&quot;, &quot;markerColor&quot;: &quot;blue&quot;, &quot;prefix&quot;: &quot;glyphicon&quot;}\n",
       "            );\n",
       "            marker_d1a7f92f5e46f65d854678c05f68cbef.setIcon(icon_ccbb6b09be38b443fd606b1ff660bdfe);\n",
       "        \n",
       "    \n",
       "        var popup_7a1ee260c03f7eed9dad7ac5c24ffed2 = L.popup({&quot;maxWidth&quot;: &quot;100%&quot;});\n",
       "\n",
       "        \n",
       "            \n",
       "                var html_080007765b6fccccc025a1666b3e59aa = $(`&lt;div id=&quot;html_080007765b6fccccc025a1666b3e59aa&quot; style=&quot;width: 100.0%; height: 100.0%;&quot;&gt;Client Location: 48.7317417, 1.3372616&lt;/div&gt;`)[0];\n",
       "                popup_7a1ee260c03f7eed9dad7ac5c24ffed2.setContent(html_080007765b6fccccc025a1666b3e59aa);\n",
       "            \n",
       "        \n",
       "\n",
       "        marker_d1a7f92f5e46f65d854678c05f68cbef.bindPopup(popup_7a1ee260c03f7eed9dad7ac5c24ffed2)\n",
       "        ;\n",
       "\n",
       "        \n",
       "    \n",
       "    \n",
       "            var marker_19991b6dbe9b5f235f7a221027c1fd4c = L.marker(\n",
       "                [48.7380023, 1.3505018],\n",
       "                {}\n",
       "            ).addTo(map_9e1f10ac299527b8b81fbd3a89f1f998);\n",
       "        \n",
       "    \n",
       "            var icon_fbd0a323375cdfefc96ed86e758ca1a1 = L.AwesomeMarkers.icon(\n",
       "                {&quot;extraClasses&quot;: &quot;fa-rotate-0&quot;, &quot;icon&quot;: &quot;info-sign&quot;, &quot;iconColor&quot;: &quot;white&quot;, &quot;markerColor&quot;: &quot;blue&quot;, &quot;prefix&quot;: &quot;glyphicon&quot;}\n",
       "            );\n",
       "            marker_19991b6dbe9b5f235f7a221027c1fd4c.setIcon(icon_fbd0a323375cdfefc96ed86e758ca1a1);\n",
       "        \n",
       "    \n",
       "        var popup_f3328674d63a6f0a9887db94dbc3837d = L.popup({&quot;maxWidth&quot;: &quot;100%&quot;});\n",
       "\n",
       "        \n",
       "            \n",
       "                var html_1dfd00c0a0f38f953560a6deb378fbd5 = $(`&lt;div id=&quot;html_1dfd00c0a0f38f953560a6deb378fbd5&quot; style=&quot;width: 100.0%; height: 100.0%;&quot;&gt;Client Location: 48.7380023, 1.3505018&lt;/div&gt;`)[0];\n",
       "                popup_f3328674d63a6f0a9887db94dbc3837d.setContent(html_1dfd00c0a0f38f953560a6deb378fbd5);\n",
       "            \n",
       "        \n",
       "\n",
       "        marker_19991b6dbe9b5f235f7a221027c1fd4c.bindPopup(popup_f3328674d63a6f0a9887db94dbc3837d)\n",
       "        ;\n",
       "\n",
       "        \n",
       "    \n",
       "    \n",
       "            var marker_68480d3fec4f782a4d5f38366101e9d0 = L.marker(\n",
       "                [48.7393644, 1.3691916],\n",
       "                {}\n",
       "            ).addTo(map_9e1f10ac299527b8b81fbd3a89f1f998);\n",
       "        \n",
       "    \n",
       "            var icon_3b5e587b2c46e62499209e36aa1b7b3a = L.AwesomeMarkers.icon(\n",
       "                {&quot;extraClasses&quot;: &quot;fa-rotate-0&quot;, &quot;icon&quot;: &quot;info-sign&quot;, &quot;iconColor&quot;: &quot;white&quot;, &quot;markerColor&quot;: &quot;blue&quot;, &quot;prefix&quot;: &quot;glyphicon&quot;}\n",
       "            );\n",
       "            marker_68480d3fec4f782a4d5f38366101e9d0.setIcon(icon_3b5e587b2c46e62499209e36aa1b7b3a);\n",
       "        \n",
       "    \n",
       "        var popup_7462321f2b8cc72c1ef100a45c3b6bfe = L.popup({&quot;maxWidth&quot;: &quot;100%&quot;});\n",
       "\n",
       "        \n",
       "            \n",
       "                var html_5c46997a29438732e1a43b9e79229373 = $(`&lt;div id=&quot;html_5c46997a29438732e1a43b9e79229373&quot; style=&quot;width: 100.0%; height: 100.0%;&quot;&gt;Client Location: 48.7393644, 1.3691916&lt;/div&gt;`)[0];\n",
       "                popup_7462321f2b8cc72c1ef100a45c3b6bfe.setContent(html_5c46997a29438732e1a43b9e79229373);\n",
       "            \n",
       "        \n",
       "\n",
       "        marker_68480d3fec4f782a4d5f38366101e9d0.bindPopup(popup_7462321f2b8cc72c1ef100a45c3b6bfe)\n",
       "        ;\n",
       "\n",
       "        \n",
       "    \n",
       "    \n",
       "            var marker_b78c083d10d147f985c4619bade7368e = L.marker(\n",
       "                [48.6657225, 1.2762408],\n",
       "                {}\n",
       "            ).addTo(map_9e1f10ac299527b8b81fbd3a89f1f998);\n",
       "        \n",
       "    \n",
       "            var icon_162597d62566e20940471708d9150d1b = L.AwesomeMarkers.icon(\n",
       "                {&quot;extraClasses&quot;: &quot;fa-rotate-0&quot;, &quot;icon&quot;: &quot;info-sign&quot;, &quot;iconColor&quot;: &quot;white&quot;, &quot;markerColor&quot;: &quot;blue&quot;, &quot;prefix&quot;: &quot;glyphicon&quot;}\n",
       "            );\n",
       "            marker_b78c083d10d147f985c4619bade7368e.setIcon(icon_162597d62566e20940471708d9150d1b);\n",
       "        \n",
       "    \n",
       "        var popup_1d886c306b3de6c52f0fc3c125956803 = L.popup({&quot;maxWidth&quot;: &quot;100%&quot;});\n",
       "\n",
       "        \n",
       "            \n",
       "                var html_13e96ddd8bf92d9b2f44bfd4c0ca027a = $(`&lt;div id=&quot;html_13e96ddd8bf92d9b2f44bfd4c0ca027a&quot; style=&quot;width: 100.0%; height: 100.0%;&quot;&gt;Client Location: 48.6657225, 1.2762408&lt;/div&gt;`)[0];\n",
       "                popup_1d886c306b3de6c52f0fc3c125956803.setContent(html_13e96ddd8bf92d9b2f44bfd4c0ca027a);\n",
       "            \n",
       "        \n",
       "\n",
       "        marker_b78c083d10d147f985c4619bade7368e.bindPopup(popup_1d886c306b3de6c52f0fc3c125956803)\n",
       "        ;\n",
       "\n",
       "        \n",
       "    \n",
       "    \n",
       "            var marker_401382ae5c3d4122b9c5bdda4aac912e = L.marker(\n",
       "                [48.7259426, 1.3808813],\n",
       "                {}\n",
       "            ).addTo(map_9e1f10ac299527b8b81fbd3a89f1f998);\n",
       "        \n",
       "    \n",
       "            var icon_ab036d7a6ac20798ca642d524c959c8f = L.AwesomeMarkers.icon(\n",
       "                {&quot;extraClasses&quot;: &quot;fa-rotate-0&quot;, &quot;icon&quot;: &quot;info-sign&quot;, &quot;iconColor&quot;: &quot;white&quot;, &quot;markerColor&quot;: &quot;blue&quot;, &quot;prefix&quot;: &quot;glyphicon&quot;}\n",
       "            );\n",
       "            marker_401382ae5c3d4122b9c5bdda4aac912e.setIcon(icon_ab036d7a6ac20798ca642d524c959c8f);\n",
       "        \n",
       "    \n",
       "        var popup_1504964f1f473cc9ff1756a125f1ddd3 = L.popup({&quot;maxWidth&quot;: &quot;100%&quot;});\n",
       "\n",
       "        \n",
       "            \n",
       "                var html_d3167db1a549ebfb792f43466253f11e = $(`&lt;div id=&quot;html_d3167db1a549ebfb792f43466253f11e&quot; style=&quot;width: 100.0%; height: 100.0%;&quot;&gt;Client Location: 48.7259426, 1.3808813&lt;/div&gt;`)[0];\n",
       "                popup_1504964f1f473cc9ff1756a125f1ddd3.setContent(html_d3167db1a549ebfb792f43466253f11e);\n",
       "            \n",
       "        \n",
       "\n",
       "        marker_401382ae5c3d4122b9c5bdda4aac912e.bindPopup(popup_1504964f1f473cc9ff1756a125f1ddd3)\n",
       "        ;\n",
       "\n",
       "        \n",
       "    \n",
       "    \n",
       "            var marker_ae364bd1ec0c1e4b90efe45aad5fb67b = L.marker(\n",
       "                [48.76144, 1.235369],\n",
       "                {}\n",
       "            ).addTo(map_9e1f10ac299527b8b81fbd3a89f1f998);\n",
       "        \n",
       "    \n",
       "            var icon_c4c65be0b45c5494f5b3f0c48f3d9d24 = L.AwesomeMarkers.icon(\n",
       "                {&quot;extraClasses&quot;: &quot;fa-rotate-0&quot;, &quot;icon&quot;: &quot;info-sign&quot;, &quot;iconColor&quot;: &quot;white&quot;, &quot;markerColor&quot;: &quot;blue&quot;, &quot;prefix&quot;: &quot;glyphicon&quot;}\n",
       "            );\n",
       "            marker_ae364bd1ec0c1e4b90efe45aad5fb67b.setIcon(icon_c4c65be0b45c5494f5b3f0c48f3d9d24);\n",
       "        \n",
       "    \n",
       "        var popup_5e1e197be4e03de1de16a54b91a4fffd = L.popup({&quot;maxWidth&quot;: &quot;100%&quot;});\n",
       "\n",
       "        \n",
       "            \n",
       "                var html_058ba38e5b19e202a49b97ea7f68691e = $(`&lt;div id=&quot;html_058ba38e5b19e202a49b97ea7f68691e&quot; style=&quot;width: 100.0%; height: 100.0%;&quot;&gt;Client Location: 48.76144, 1.235369&lt;/div&gt;`)[0];\n",
       "                popup_5e1e197be4e03de1de16a54b91a4fffd.setContent(html_058ba38e5b19e202a49b97ea7f68691e);\n",
       "            \n",
       "        \n",
       "\n",
       "        marker_ae364bd1ec0c1e4b90efe45aad5fb67b.bindPopup(popup_5e1e197be4e03de1de16a54b91a4fffd)\n",
       "        ;\n",
       "\n",
       "        \n",
       "    \n",
       "    \n",
       "            var marker_662f8c5e35277d76c0b20ad006bae7e3 = L.marker(\n",
       "                [48.7169867, 1.5335032],\n",
       "                {}\n",
       "            ).addTo(map_9e1f10ac299527b8b81fbd3a89f1f998);\n",
       "        \n",
       "    \n",
       "            var icon_9736a227ab292cb6a170828a3051d82a = L.AwesomeMarkers.icon(\n",
       "                {&quot;extraClasses&quot;: &quot;fa-rotate-0&quot;, &quot;icon&quot;: &quot;info-sign&quot;, &quot;iconColor&quot;: &quot;white&quot;, &quot;markerColor&quot;: &quot;blue&quot;, &quot;prefix&quot;: &quot;glyphicon&quot;}\n",
       "            );\n",
       "            marker_662f8c5e35277d76c0b20ad006bae7e3.setIcon(icon_9736a227ab292cb6a170828a3051d82a);\n",
       "        \n",
       "    \n",
       "        var popup_e844e16c985070c07c0a8241a623064d = L.popup({&quot;maxWidth&quot;: &quot;100%&quot;});\n",
       "\n",
       "        \n",
       "            \n",
       "                var html_53cf2798df9d85866e23380fedccdea6 = $(`&lt;div id=&quot;html_53cf2798df9d85866e23380fedccdea6&quot; style=&quot;width: 100.0%; height: 100.0%;&quot;&gt;Client Location: 48.7169867, 1.5335032&lt;/div&gt;`)[0];\n",
       "                popup_e844e16c985070c07c0a8241a623064d.setContent(html_53cf2798df9d85866e23380fedccdea6);\n",
       "            \n",
       "        \n",
       "\n",
       "        marker_662f8c5e35277d76c0b20ad006bae7e3.bindPopup(popup_e844e16c985070c07c0a8241a623064d)\n",
       "        ;\n",
       "\n",
       "        \n",
       "    \n",
       "    \n",
       "            var marker_6dd753090c0c9f19334759c80276c83a = L.marker(\n",
       "                [48.725503, 1.360915],\n",
       "                {}\n",
       "            ).addTo(map_9e1f10ac299527b8b81fbd3a89f1f998);\n",
       "        \n",
       "    \n",
       "            var icon_85259023b02a28d5ba7770b7c0146f11 = L.AwesomeMarkers.icon(\n",
       "                {&quot;extraClasses&quot;: &quot;fa-rotate-0&quot;, &quot;icon&quot;: &quot;info-sign&quot;, &quot;iconColor&quot;: &quot;white&quot;, &quot;markerColor&quot;: &quot;blue&quot;, &quot;prefix&quot;: &quot;glyphicon&quot;}\n",
       "            );\n",
       "            marker_6dd753090c0c9f19334759c80276c83a.setIcon(icon_85259023b02a28d5ba7770b7c0146f11);\n",
       "        \n",
       "    \n",
       "        var popup_157a37fdd56f522918520c60b07b4c1b = L.popup({&quot;maxWidth&quot;: &quot;100%&quot;});\n",
       "\n",
       "        \n",
       "            \n",
       "                var html_b77683cf3794589662ee520a1b3514b4 = $(`&lt;div id=&quot;html_b77683cf3794589662ee520a1b3514b4&quot; style=&quot;width: 100.0%; height: 100.0%;&quot;&gt;Client Location: 48.725503, 1.360915&lt;/div&gt;`)[0];\n",
       "                popup_157a37fdd56f522918520c60b07b4c1b.setContent(html_b77683cf3794589662ee520a1b3514b4);\n",
       "            \n",
       "        \n",
       "\n",
       "        marker_6dd753090c0c9f19334759c80276c83a.bindPopup(popup_157a37fdd56f522918520c60b07b4c1b)\n",
       "        ;\n",
       "\n",
       "        \n",
       "    \n",
       "    \n",
       "            var marker_2865ace449ebcef5eb7ca0a6a99cfc11 = L.marker(\n",
       "                [48.7228766, 1.4226275],\n",
       "                {}\n",
       "            ).addTo(map_9e1f10ac299527b8b81fbd3a89f1f998);\n",
       "        \n",
       "    \n",
       "            var icon_3f0d6a50c5e77e5bb03763f80e24126d = L.AwesomeMarkers.icon(\n",
       "                {&quot;extraClasses&quot;: &quot;fa-rotate-0&quot;, &quot;icon&quot;: &quot;info-sign&quot;, &quot;iconColor&quot;: &quot;white&quot;, &quot;markerColor&quot;: &quot;blue&quot;, &quot;prefix&quot;: &quot;glyphicon&quot;}\n",
       "            );\n",
       "            marker_2865ace449ebcef5eb7ca0a6a99cfc11.setIcon(icon_3f0d6a50c5e77e5bb03763f80e24126d);\n",
       "        \n",
       "    \n",
       "        var popup_c3d799b48c433969a4bab3ba4c46f857 = L.popup({&quot;maxWidth&quot;: &quot;100%&quot;});\n",
       "\n",
       "        \n",
       "            \n",
       "                var html_943cfc882ddd474b736d8189296d4ecf = $(`&lt;div id=&quot;html_943cfc882ddd474b736d8189296d4ecf&quot; style=&quot;width: 100.0%; height: 100.0%;&quot;&gt;Client Location: 48.7228766, 1.4226275&lt;/div&gt;`)[0];\n",
       "                popup_c3d799b48c433969a4bab3ba4c46f857.setContent(html_943cfc882ddd474b736d8189296d4ecf);\n",
       "            \n",
       "        \n",
       "\n",
       "        marker_2865ace449ebcef5eb7ca0a6a99cfc11.bindPopup(popup_c3d799b48c433969a4bab3ba4c46f857)\n",
       "        ;\n",
       "\n",
       "        \n",
       "    \n",
       "    \n",
       "            var marker_a7512bf35ba781ef6e1db3117449dcd0 = L.marker(\n",
       "                [48.7243569, 1.4329865],\n",
       "                {}\n",
       "            ).addTo(map_9e1f10ac299527b8b81fbd3a89f1f998);\n",
       "        \n",
       "    \n",
       "            var icon_f4e28d39e28409322e1be288aa11644e = L.AwesomeMarkers.icon(\n",
       "                {&quot;extraClasses&quot;: &quot;fa-rotate-0&quot;, &quot;icon&quot;: &quot;info-sign&quot;, &quot;iconColor&quot;: &quot;white&quot;, &quot;markerColor&quot;: &quot;blue&quot;, &quot;prefix&quot;: &quot;glyphicon&quot;}\n",
       "            );\n",
       "            marker_a7512bf35ba781ef6e1db3117449dcd0.setIcon(icon_f4e28d39e28409322e1be288aa11644e);\n",
       "        \n",
       "    \n",
       "        var popup_0f0d96925a64d4cfd790e1d432b3cdfb = L.popup({&quot;maxWidth&quot;: &quot;100%&quot;});\n",
       "\n",
       "        \n",
       "            \n",
       "                var html_c2e319b9e9bb52ac4b9cf17f54378cac = $(`&lt;div id=&quot;html_c2e319b9e9bb52ac4b9cf17f54378cac&quot; style=&quot;width: 100.0%; height: 100.0%;&quot;&gt;Client Location: 48.7243569, 1.4329865&lt;/div&gt;`)[0];\n",
       "                popup_0f0d96925a64d4cfd790e1d432b3cdfb.setContent(html_c2e319b9e9bb52ac4b9cf17f54378cac);\n",
       "            \n",
       "        \n",
       "\n",
       "        marker_a7512bf35ba781ef6e1db3117449dcd0.bindPopup(popup_0f0d96925a64d4cfd790e1d432b3cdfb)\n",
       "        ;\n",
       "\n",
       "        \n",
       "    \n",
       "    \n",
       "            var marker_6ff54f4f680e729d09fe218c9494922c = L.marker(\n",
       "                [48.663093, 1.498339],\n",
       "                {}\n",
       "            ).addTo(map_9e1f10ac299527b8b81fbd3a89f1f998);\n",
       "        \n",
       "    \n",
       "            var icon_6e52453564f3055081fee5da5ca12a74 = L.AwesomeMarkers.icon(\n",
       "                {&quot;extraClasses&quot;: &quot;fa-rotate-0&quot;, &quot;icon&quot;: &quot;info-sign&quot;, &quot;iconColor&quot;: &quot;white&quot;, &quot;markerColor&quot;: &quot;blue&quot;, &quot;prefix&quot;: &quot;glyphicon&quot;}\n",
       "            );\n",
       "            marker_6ff54f4f680e729d09fe218c9494922c.setIcon(icon_6e52453564f3055081fee5da5ca12a74);\n",
       "        \n",
       "    \n",
       "        var popup_0b2fe3ffd9a59d39424e410f1826db9e = L.popup({&quot;maxWidth&quot;: &quot;100%&quot;});\n",
       "\n",
       "        \n",
       "            \n",
       "                var html_43907641a9f76b54d88e741c3cbd040d = $(`&lt;div id=&quot;html_43907641a9f76b54d88e741c3cbd040d&quot; style=&quot;width: 100.0%; height: 100.0%;&quot;&gt;Client Location: 48.663093, 1.498339&lt;/div&gt;`)[0];\n",
       "                popup_0b2fe3ffd9a59d39424e410f1826db9e.setContent(html_43907641a9f76b54d88e741c3cbd040d);\n",
       "            \n",
       "        \n",
       "\n",
       "        marker_6ff54f4f680e729d09fe218c9494922c.bindPopup(popup_0b2fe3ffd9a59d39424e410f1826db9e)\n",
       "        ;\n",
       "\n",
       "        \n",
       "    \n",
       "    \n",
       "            var marker_b52f5991b162491d17069d565739c696 = L.marker(\n",
       "                [48.7447023, 1.3579211],\n",
       "                {}\n",
       "            ).addTo(map_9e1f10ac299527b8b81fbd3a89f1f998);\n",
       "        \n",
       "    \n",
       "            var icon_fbdbe2fe0e8aafd4d55e616a3e8792b2 = L.AwesomeMarkers.icon(\n",
       "                {&quot;extraClasses&quot;: &quot;fa-rotate-0&quot;, &quot;icon&quot;: &quot;info-sign&quot;, &quot;iconColor&quot;: &quot;white&quot;, &quot;markerColor&quot;: &quot;blue&quot;, &quot;prefix&quot;: &quot;glyphicon&quot;}\n",
       "            );\n",
       "            marker_b52f5991b162491d17069d565739c696.setIcon(icon_fbdbe2fe0e8aafd4d55e616a3e8792b2);\n",
       "        \n",
       "    \n",
       "        var popup_80d53d6a1ef0a1c3c856bf2c10106488 = L.popup({&quot;maxWidth&quot;: &quot;100%&quot;});\n",
       "\n",
       "        \n",
       "            \n",
       "                var html_71cd8c9431f921859ff625785d277415 = $(`&lt;div id=&quot;html_71cd8c9431f921859ff625785d277415&quot; style=&quot;width: 100.0%; height: 100.0%;&quot;&gt;Client Location: 48.7447023, 1.3579211&lt;/div&gt;`)[0];\n",
       "                popup_80d53d6a1ef0a1c3c856bf2c10106488.setContent(html_71cd8c9431f921859ff625785d277415);\n",
       "            \n",
       "        \n",
       "\n",
       "        marker_b52f5991b162491d17069d565739c696.bindPopup(popup_80d53d6a1ef0a1c3c856bf2c10106488)\n",
       "        ;\n",
       "\n",
       "        \n",
       "    \n",
       "    \n",
       "            var marker_76590a9b58501f3bd5bcf03bf48490bf = L.marker(\n",
       "                [48.7049894, 1.3341649],\n",
       "                {}\n",
       "            ).addTo(map_9e1f10ac299527b8b81fbd3a89f1f998);\n",
       "        \n",
       "    \n",
       "            var icon_a40ea174586e82427cf57f025ec717d3 = L.AwesomeMarkers.icon(\n",
       "                {&quot;extraClasses&quot;: &quot;fa-rotate-0&quot;, &quot;icon&quot;: &quot;info-sign&quot;, &quot;iconColor&quot;: &quot;white&quot;, &quot;markerColor&quot;: &quot;blue&quot;, &quot;prefix&quot;: &quot;glyphicon&quot;}\n",
       "            );\n",
       "            marker_76590a9b58501f3bd5bcf03bf48490bf.setIcon(icon_a40ea174586e82427cf57f025ec717d3);\n",
       "        \n",
       "    \n",
       "        var popup_318762ae260563dedb9dc79faf275977 = L.popup({&quot;maxWidth&quot;: &quot;100%&quot;});\n",
       "\n",
       "        \n",
       "            \n",
       "                var html_85910a048f96433af07bb23fdbeaa97a = $(`&lt;div id=&quot;html_85910a048f96433af07bb23fdbeaa97a&quot; style=&quot;width: 100.0%; height: 100.0%;&quot;&gt;Client Location: 48.7049894, 1.3341649&lt;/div&gt;`)[0];\n",
       "                popup_318762ae260563dedb9dc79faf275977.setContent(html_85910a048f96433af07bb23fdbeaa97a);\n",
       "            \n",
       "        \n",
       "\n",
       "        marker_76590a9b58501f3bd5bcf03bf48490bf.bindPopup(popup_318762ae260563dedb9dc79faf275977)\n",
       "        ;\n",
       "\n",
       "        \n",
       "    \n",
       "    \n",
       "            var marker_eb3398adc336e96b97bd6eeb5196e3ae = L.marker(\n",
       "                [48.6631322, 1.4998347],\n",
       "                {}\n",
       "            ).addTo(map_9e1f10ac299527b8b81fbd3a89f1f998);\n",
       "        \n",
       "    \n",
       "            var icon_07e77ad07a6d2bcf223b61556e5f67b6 = L.AwesomeMarkers.icon(\n",
       "                {&quot;extraClasses&quot;: &quot;fa-rotate-0&quot;, &quot;icon&quot;: &quot;info-sign&quot;, &quot;iconColor&quot;: &quot;white&quot;, &quot;markerColor&quot;: &quot;blue&quot;, &quot;prefix&quot;: &quot;glyphicon&quot;}\n",
       "            );\n",
       "            marker_eb3398adc336e96b97bd6eeb5196e3ae.setIcon(icon_07e77ad07a6d2bcf223b61556e5f67b6);\n",
       "        \n",
       "    \n",
       "        var popup_bd599acfd1c758d27e298c683a6920ef = L.popup({&quot;maxWidth&quot;: &quot;100%&quot;});\n",
       "\n",
       "        \n",
       "            \n",
       "                var html_54d427d094834b6e6c19c44ea2fa5708 = $(`&lt;div id=&quot;html_54d427d094834b6e6c19c44ea2fa5708&quot; style=&quot;width: 100.0%; height: 100.0%;&quot;&gt;Client Location: 48.6631322, 1.4998347&lt;/div&gt;`)[0];\n",
       "                popup_bd599acfd1c758d27e298c683a6920ef.setContent(html_54d427d094834b6e6c19c44ea2fa5708);\n",
       "            \n",
       "        \n",
       "\n",
       "        marker_eb3398adc336e96b97bd6eeb5196e3ae.bindPopup(popup_bd599acfd1c758d27e298c683a6920ef)\n",
       "        ;\n",
       "\n",
       "        \n",
       "    \n",
       "    \n",
       "            var marker_22344e82ab78f9936940f44cd1e076e1 = L.marker(\n",
       "                [48.7428036, 1.3475838],\n",
       "                {}\n",
       "            ).addTo(map_9e1f10ac299527b8b81fbd3a89f1f998);\n",
       "        \n",
       "    \n",
       "            var icon_ac921c3ab38173bbd4abcfcd9d49e832 = L.AwesomeMarkers.icon(\n",
       "                {&quot;extraClasses&quot;: &quot;fa-rotate-0&quot;, &quot;icon&quot;: &quot;info-sign&quot;, &quot;iconColor&quot;: &quot;white&quot;, &quot;markerColor&quot;: &quot;blue&quot;, &quot;prefix&quot;: &quot;glyphicon&quot;}\n",
       "            );\n",
       "            marker_22344e82ab78f9936940f44cd1e076e1.setIcon(icon_ac921c3ab38173bbd4abcfcd9d49e832);\n",
       "        \n",
       "    \n",
       "        var popup_4a685828555dbe07d730d49ea8c04c84 = L.popup({&quot;maxWidth&quot;: &quot;100%&quot;});\n",
       "\n",
       "        \n",
       "            \n",
       "                var html_245123f7a22ecdb4538e944780e989f0 = $(`&lt;div id=&quot;html_245123f7a22ecdb4538e944780e989f0&quot; style=&quot;width: 100.0%; height: 100.0%;&quot;&gt;Client Location: 48.7428036, 1.3475838&lt;/div&gt;`)[0];\n",
       "                popup_4a685828555dbe07d730d49ea8c04c84.setContent(html_245123f7a22ecdb4538e944780e989f0);\n",
       "            \n",
       "        \n",
       "\n",
       "        marker_22344e82ab78f9936940f44cd1e076e1.bindPopup(popup_4a685828555dbe07d730d49ea8c04c84)\n",
       "        ;\n",
       "\n",
       "        \n",
       "    \n",
       "    \n",
       "            var marker_89ec293c2df49f506487ab4f9a63a4aa = L.marker(\n",
       "                [48.7388582, 1.3477604],\n",
       "                {}\n",
       "            ).addTo(map_9e1f10ac299527b8b81fbd3a89f1f998);\n",
       "        \n",
       "    \n",
       "            var icon_44da18fa79b5a56ceec6173f2535eab9 = L.AwesomeMarkers.icon(\n",
       "                {&quot;extraClasses&quot;: &quot;fa-rotate-0&quot;, &quot;icon&quot;: &quot;info-sign&quot;, &quot;iconColor&quot;: &quot;white&quot;, &quot;markerColor&quot;: &quot;blue&quot;, &quot;prefix&quot;: &quot;glyphicon&quot;}\n",
       "            );\n",
       "            marker_89ec293c2df49f506487ab4f9a63a4aa.setIcon(icon_44da18fa79b5a56ceec6173f2535eab9);\n",
       "        \n",
       "    \n",
       "        var popup_f0f35e58f9b212b86b45e65bb285ea79 = L.popup({&quot;maxWidth&quot;: &quot;100%&quot;});\n",
       "\n",
       "        \n",
       "            \n",
       "                var html_c34ca6201a2469a67876a4ae14008636 = $(`&lt;div id=&quot;html_c34ca6201a2469a67876a4ae14008636&quot; style=&quot;width: 100.0%; height: 100.0%;&quot;&gt;Client Location: 48.7388582, 1.3477604&lt;/div&gt;`)[0];\n",
       "                popup_f0f35e58f9b212b86b45e65bb285ea79.setContent(html_c34ca6201a2469a67876a4ae14008636);\n",
       "            \n",
       "        \n",
       "\n",
       "        marker_89ec293c2df49f506487ab4f9a63a4aa.bindPopup(popup_f0f35e58f9b212b86b45e65bb285ea79)\n",
       "        ;\n",
       "\n",
       "        \n",
       "    \n",
       "    \n",
       "            var marker_16ee7de9b6b83c25f0160a7037fbb6a5 = L.marker(\n",
       "                [48.6386578, 1.5170344],\n",
       "                {}\n",
       "            ).addTo(map_9e1f10ac299527b8b81fbd3a89f1f998);\n",
       "        \n",
       "    \n",
       "            var icon_d78435553901aac52b0276a2ed655f49 = L.AwesomeMarkers.icon(\n",
       "                {&quot;extraClasses&quot;: &quot;fa-rotate-0&quot;, &quot;icon&quot;: &quot;info-sign&quot;, &quot;iconColor&quot;: &quot;white&quot;, &quot;markerColor&quot;: &quot;blue&quot;, &quot;prefix&quot;: &quot;glyphicon&quot;}\n",
       "            );\n",
       "            marker_16ee7de9b6b83c25f0160a7037fbb6a5.setIcon(icon_d78435553901aac52b0276a2ed655f49);\n",
       "        \n",
       "    \n",
       "        var popup_acbae07acace4b4f6d83d8670878e049 = L.popup({&quot;maxWidth&quot;: &quot;100%&quot;});\n",
       "\n",
       "        \n",
       "            \n",
       "                var html_ce238bfa9c8fb331a763113936c1e929 = $(`&lt;div id=&quot;html_ce238bfa9c8fb331a763113936c1e929&quot; style=&quot;width: 100.0%; height: 100.0%;&quot;&gt;Client Location: 48.6386578, 1.5170344&lt;/div&gt;`)[0];\n",
       "                popup_acbae07acace4b4f6d83d8670878e049.setContent(html_ce238bfa9c8fb331a763113936c1e929);\n",
       "            \n",
       "        \n",
       "\n",
       "        marker_16ee7de9b6b83c25f0160a7037fbb6a5.bindPopup(popup_acbae07acace4b4f6d83d8670878e049)\n",
       "        ;\n",
       "\n",
       "        \n",
       "    \n",
       "    \n",
       "            var marker_38c905689052624001b239d4d39a3ec4 = L.marker(\n",
       "                [48.7350645, 1.3659508],\n",
       "                {}\n",
       "            ).addTo(map_9e1f10ac299527b8b81fbd3a89f1f998);\n",
       "        \n",
       "    \n",
       "            var icon_b520fbeb821f368430a7d96549261a21 = L.AwesomeMarkers.icon(\n",
       "                {&quot;extraClasses&quot;: &quot;fa-rotate-0&quot;, &quot;icon&quot;: &quot;info-sign&quot;, &quot;iconColor&quot;: &quot;white&quot;, &quot;markerColor&quot;: &quot;blue&quot;, &quot;prefix&quot;: &quot;glyphicon&quot;}\n",
       "            );\n",
       "            marker_38c905689052624001b239d4d39a3ec4.setIcon(icon_b520fbeb821f368430a7d96549261a21);\n",
       "        \n",
       "    \n",
       "        var popup_dfc8e1517ac4bb77851a70ae3a9943cf = L.popup({&quot;maxWidth&quot;: &quot;100%&quot;});\n",
       "\n",
       "        \n",
       "            \n",
       "                var html_a8d18f20d73d3c7916c7b495f3a6be59 = $(`&lt;div id=&quot;html_a8d18f20d73d3c7916c7b495f3a6be59&quot; style=&quot;width: 100.0%; height: 100.0%;&quot;&gt;Client Location: 48.7350645, 1.3659508&lt;/div&gt;`)[0];\n",
       "                popup_dfc8e1517ac4bb77851a70ae3a9943cf.setContent(html_a8d18f20d73d3c7916c7b495f3a6be59);\n",
       "            \n",
       "        \n",
       "\n",
       "        marker_38c905689052624001b239d4d39a3ec4.bindPopup(popup_dfc8e1517ac4bb77851a70ae3a9943cf)\n",
       "        ;\n",
       "\n",
       "        \n",
       "    \n",
       "    \n",
       "            var marker_54867a98bc903c2018565ce1da34c230 = L.marker(\n",
       "                [48.787278, 1.4412019],\n",
       "                {}\n",
       "            ).addTo(map_9e1f10ac299527b8b81fbd3a89f1f998);\n",
       "        \n",
       "    \n",
       "            var icon_b5fdfe9871b6bab7ec8a135b8cda09f6 = L.AwesomeMarkers.icon(\n",
       "                {&quot;extraClasses&quot;: &quot;fa-rotate-0&quot;, &quot;icon&quot;: &quot;info-sign&quot;, &quot;iconColor&quot;: &quot;white&quot;, &quot;markerColor&quot;: &quot;blue&quot;, &quot;prefix&quot;: &quot;glyphicon&quot;}\n",
       "            );\n",
       "            marker_54867a98bc903c2018565ce1da34c230.setIcon(icon_b5fdfe9871b6bab7ec8a135b8cda09f6);\n",
       "        \n",
       "    \n",
       "        var popup_a3a96fce2cc0ccd0bb87ac1317d70726 = L.popup({&quot;maxWidth&quot;: &quot;100%&quot;});\n",
       "\n",
       "        \n",
       "            \n",
       "                var html_79982a6d24203195b4bdd7bafe19c980 = $(`&lt;div id=&quot;html_79982a6d24203195b4bdd7bafe19c980&quot; style=&quot;width: 100.0%; height: 100.0%;&quot;&gt;Client Location: 48.787278, 1.4412019&lt;/div&gt;`)[0];\n",
       "                popup_a3a96fce2cc0ccd0bb87ac1317d70726.setContent(html_79982a6d24203195b4bdd7bafe19c980);\n",
       "            \n",
       "        \n",
       "\n",
       "        marker_54867a98bc903c2018565ce1da34c230.bindPopup(popup_a3a96fce2cc0ccd0bb87ac1317d70726)\n",
       "        ;\n",
       "\n",
       "        \n",
       "    \n",
       "    \n",
       "            var marker_d6dc1673a4308ce4dfe029982d1421bd = L.marker(\n",
       "                [48.7484748, 1.4212087],\n",
       "                {}\n",
       "            ).addTo(map_9e1f10ac299527b8b81fbd3a89f1f998);\n",
       "        \n",
       "    \n",
       "            var icon_92878a83fed5e0cecd23cabe69977787 = L.AwesomeMarkers.icon(\n",
       "                {&quot;extraClasses&quot;: &quot;fa-rotate-0&quot;, &quot;icon&quot;: &quot;info-sign&quot;, &quot;iconColor&quot;: &quot;white&quot;, &quot;markerColor&quot;: &quot;blue&quot;, &quot;prefix&quot;: &quot;glyphicon&quot;}\n",
       "            );\n",
       "            marker_d6dc1673a4308ce4dfe029982d1421bd.setIcon(icon_92878a83fed5e0cecd23cabe69977787);\n",
       "        \n",
       "    \n",
       "        var popup_996a3c60d0dfc694f2cbca9f0915c426 = L.popup({&quot;maxWidth&quot;: &quot;100%&quot;});\n",
       "\n",
       "        \n",
       "            \n",
       "                var html_d2b70afdc213902402a47ab76560a542 = $(`&lt;div id=&quot;html_d2b70afdc213902402a47ab76560a542&quot; style=&quot;width: 100.0%; height: 100.0%;&quot;&gt;Client Location: 48.7484748, 1.4212087&lt;/div&gt;`)[0];\n",
       "                popup_996a3c60d0dfc694f2cbca9f0915c426.setContent(html_d2b70afdc213902402a47ab76560a542);\n",
       "            \n",
       "        \n",
       "\n",
       "        marker_d6dc1673a4308ce4dfe029982d1421bd.bindPopup(popup_996a3c60d0dfc694f2cbca9f0915c426)\n",
       "        ;\n",
       "\n",
       "        \n",
       "    \n",
       "    \n",
       "            var marker_4718d39e520839265c4a70a05e21a318 = L.marker(\n",
       "                [48.7272967, 1.3671364],\n",
       "                {}\n",
       "            ).addTo(map_9e1f10ac299527b8b81fbd3a89f1f998);\n",
       "        \n",
       "    \n",
       "            var icon_28a4724a0a973fe819e1e34f17394977 = L.AwesomeMarkers.icon(\n",
       "                {&quot;extraClasses&quot;: &quot;fa-rotate-0&quot;, &quot;icon&quot;: &quot;info-sign&quot;, &quot;iconColor&quot;: &quot;white&quot;, &quot;markerColor&quot;: &quot;blue&quot;, &quot;prefix&quot;: &quot;glyphicon&quot;}\n",
       "            );\n",
       "            marker_4718d39e520839265c4a70a05e21a318.setIcon(icon_28a4724a0a973fe819e1e34f17394977);\n",
       "        \n",
       "    \n",
       "        var popup_eacbdfa364dddff1f92fd4fe803739d9 = L.popup({&quot;maxWidth&quot;: &quot;100%&quot;});\n",
       "\n",
       "        \n",
       "            \n",
       "                var html_c1f15dfba3b99d8889c4cd0d15adb359 = $(`&lt;div id=&quot;html_c1f15dfba3b99d8889c4cd0d15adb359&quot; style=&quot;width: 100.0%; height: 100.0%;&quot;&gt;Client Location: 48.7272967, 1.3671364&lt;/div&gt;`)[0];\n",
       "                popup_eacbdfa364dddff1f92fd4fe803739d9.setContent(html_c1f15dfba3b99d8889c4cd0d15adb359);\n",
       "            \n",
       "        \n",
       "\n",
       "        marker_4718d39e520839265c4a70a05e21a318.bindPopup(popup_eacbdfa364dddff1f92fd4fe803739d9)\n",
       "        ;\n",
       "\n",
       "        \n",
       "    \n",
       "    \n",
       "            var marker_c33d1c7f0d51c1e6f6742d0def80680e = L.marker(\n",
       "                [48.7147882, 1.364818],\n",
       "                {}\n",
       "            ).addTo(map_9e1f10ac299527b8b81fbd3a89f1f998);\n",
       "        \n",
       "    \n",
       "            var icon_c2f59d97cb9758e2b16c471eef06e00f = L.AwesomeMarkers.icon(\n",
       "                {&quot;extraClasses&quot;: &quot;fa-rotate-0&quot;, &quot;icon&quot;: &quot;info-sign&quot;, &quot;iconColor&quot;: &quot;white&quot;, &quot;markerColor&quot;: &quot;blue&quot;, &quot;prefix&quot;: &quot;glyphicon&quot;}\n",
       "            );\n",
       "            marker_c33d1c7f0d51c1e6f6742d0def80680e.setIcon(icon_c2f59d97cb9758e2b16c471eef06e00f);\n",
       "        \n",
       "    \n",
       "        var popup_6d9c2ec2d4a432dcb1a25f5ac32f1fff = L.popup({&quot;maxWidth&quot;: &quot;100%&quot;});\n",
       "\n",
       "        \n",
       "            \n",
       "                var html_51cd21a965573f3e4ceae0e3fa26115d = $(`&lt;div id=&quot;html_51cd21a965573f3e4ceae0e3fa26115d&quot; style=&quot;width: 100.0%; height: 100.0%;&quot;&gt;Client Location: 48.7147882, 1.364818&lt;/div&gt;`)[0];\n",
       "                popup_6d9c2ec2d4a432dcb1a25f5ac32f1fff.setContent(html_51cd21a965573f3e4ceae0e3fa26115d);\n",
       "            \n",
       "        \n",
       "\n",
       "        marker_c33d1c7f0d51c1e6f6742d0def80680e.bindPopup(popup_6d9c2ec2d4a432dcb1a25f5ac32f1fff)\n",
       "        ;\n",
       "\n",
       "        \n",
       "    \n",
       "    \n",
       "            var marker_df844113c3fadcb5d5988d7df2dd1108 = L.marker(\n",
       "                [48.6649744, 1.4167695],\n",
       "                {}\n",
       "            ).addTo(map_9e1f10ac299527b8b81fbd3a89f1f998);\n",
       "        \n",
       "    \n",
       "            var icon_51e5d009cbc777b3b03d81887146c07d = L.AwesomeMarkers.icon(\n",
       "                {&quot;extraClasses&quot;: &quot;fa-rotate-0&quot;, &quot;icon&quot;: &quot;info-sign&quot;, &quot;iconColor&quot;: &quot;white&quot;, &quot;markerColor&quot;: &quot;blue&quot;, &quot;prefix&quot;: &quot;glyphicon&quot;}\n",
       "            );\n",
       "            marker_df844113c3fadcb5d5988d7df2dd1108.setIcon(icon_51e5d009cbc777b3b03d81887146c07d);\n",
       "        \n",
       "    \n",
       "        var popup_82a7e5438485410e083495b2c948fe3a = L.popup({&quot;maxWidth&quot;: &quot;100%&quot;});\n",
       "\n",
       "        \n",
       "            \n",
       "                var html_c7dacc0b571e08fa040e38294b6fa866 = $(`&lt;div id=&quot;html_c7dacc0b571e08fa040e38294b6fa866&quot; style=&quot;width: 100.0%; height: 100.0%;&quot;&gt;Client Location: 48.6649744, 1.4167695&lt;/div&gt;`)[0];\n",
       "                popup_82a7e5438485410e083495b2c948fe3a.setContent(html_c7dacc0b571e08fa040e38294b6fa866);\n",
       "            \n",
       "        \n",
       "\n",
       "        marker_df844113c3fadcb5d5988d7df2dd1108.bindPopup(popup_82a7e5438485410e083495b2c948fe3a)\n",
       "        ;\n",
       "\n",
       "        \n",
       "    \n",
       "    \n",
       "            var marker_5cdaceb83d0002740486f4da7b78e84e = L.marker(\n",
       "                [48.7406315, 1.3708257],\n",
       "                {}\n",
       "            ).addTo(map_9e1f10ac299527b8b81fbd3a89f1f998);\n",
       "        \n",
       "    \n",
       "            var icon_68f61714779d5afa3977330aa94f2771 = L.AwesomeMarkers.icon(\n",
       "                {&quot;extraClasses&quot;: &quot;fa-rotate-0&quot;, &quot;icon&quot;: &quot;info-sign&quot;, &quot;iconColor&quot;: &quot;white&quot;, &quot;markerColor&quot;: &quot;blue&quot;, &quot;prefix&quot;: &quot;glyphicon&quot;}\n",
       "            );\n",
       "            marker_5cdaceb83d0002740486f4da7b78e84e.setIcon(icon_68f61714779d5afa3977330aa94f2771);\n",
       "        \n",
       "    \n",
       "        var popup_825f3d9e5f970630e06509f4cf0a2f25 = L.popup({&quot;maxWidth&quot;: &quot;100%&quot;});\n",
       "\n",
       "        \n",
       "            \n",
       "                var html_0e25ec0c647f164645fe7693b9a82684 = $(`&lt;div id=&quot;html_0e25ec0c647f164645fe7693b9a82684&quot; style=&quot;width: 100.0%; height: 100.0%;&quot;&gt;Client Location: 48.7406315, 1.3708257&lt;/div&gt;`)[0];\n",
       "                popup_825f3d9e5f970630e06509f4cf0a2f25.setContent(html_0e25ec0c647f164645fe7693b9a82684);\n",
       "            \n",
       "        \n",
       "\n",
       "        marker_5cdaceb83d0002740486f4da7b78e84e.bindPopup(popup_825f3d9e5f970630e06509f4cf0a2f25)\n",
       "        ;\n",
       "\n",
       "        \n",
       "    \n",
       "    \n",
       "            var marker_cf0cb73d5813fb8fffd5363216e2696a = L.marker(\n",
       "                [48.821772, 1.756772],\n",
       "                {}\n",
       "            ).addTo(map_9e1f10ac299527b8b81fbd3a89f1f998);\n",
       "        \n",
       "    \n",
       "            var icon_5ba18aa136bdd4bb6795aee7ec419380 = L.AwesomeMarkers.icon(\n",
       "                {&quot;extraClasses&quot;: &quot;fa-rotate-0&quot;, &quot;icon&quot;: &quot;info-sign&quot;, &quot;iconColor&quot;: &quot;white&quot;, &quot;markerColor&quot;: &quot;blue&quot;, &quot;prefix&quot;: &quot;glyphicon&quot;}\n",
       "            );\n",
       "            marker_cf0cb73d5813fb8fffd5363216e2696a.setIcon(icon_5ba18aa136bdd4bb6795aee7ec419380);\n",
       "        \n",
       "    \n",
       "        var popup_560f25f25947a1ab4148a4ed8dd3b311 = L.popup({&quot;maxWidth&quot;: &quot;100%&quot;});\n",
       "\n",
       "        \n",
       "            \n",
       "                var html_6ff7ef222d91cba4a36761a7c1ed8ec9 = $(`&lt;div id=&quot;html_6ff7ef222d91cba4a36761a7c1ed8ec9&quot; style=&quot;width: 100.0%; height: 100.0%;&quot;&gt;Client Location: 48.821772, 1.756772&lt;/div&gt;`)[0];\n",
       "                popup_560f25f25947a1ab4148a4ed8dd3b311.setContent(html_6ff7ef222d91cba4a36761a7c1ed8ec9);\n",
       "            \n",
       "        \n",
       "\n",
       "        marker_cf0cb73d5813fb8fffd5363216e2696a.bindPopup(popup_560f25f25947a1ab4148a4ed8dd3b311)\n",
       "        ;\n",
       "\n",
       "        \n",
       "    \n",
       "    \n",
       "            var marker_52d8d5022e6da28aa895c950bb188874 = L.marker(\n",
       "                [48.720632, 1.355859],\n",
       "                {}\n",
       "            ).addTo(map_9e1f10ac299527b8b81fbd3a89f1f998);\n",
       "        \n",
       "    \n",
       "            var icon_9b889bb76cbc5b95c4c8b080bd71106c = L.AwesomeMarkers.icon(\n",
       "                {&quot;extraClasses&quot;: &quot;fa-rotate-0&quot;, &quot;icon&quot;: &quot;info-sign&quot;, &quot;iconColor&quot;: &quot;white&quot;, &quot;markerColor&quot;: &quot;blue&quot;, &quot;prefix&quot;: &quot;glyphicon&quot;}\n",
       "            );\n",
       "            marker_52d8d5022e6da28aa895c950bb188874.setIcon(icon_9b889bb76cbc5b95c4c8b080bd71106c);\n",
       "        \n",
       "    \n",
       "        var popup_5aa089dbf4888497c8ccedc216452422 = L.popup({&quot;maxWidth&quot;: &quot;100%&quot;});\n",
       "\n",
       "        \n",
       "            \n",
       "                var html_99dd3914e66fbfb82d01abb4d0b0f16d = $(`&lt;div id=&quot;html_99dd3914e66fbfb82d01abb4d0b0f16d&quot; style=&quot;width: 100.0%; height: 100.0%;&quot;&gt;Client Location: 48.720632, 1.355859&lt;/div&gt;`)[0];\n",
       "                popup_5aa089dbf4888497c8ccedc216452422.setContent(html_99dd3914e66fbfb82d01abb4d0b0f16d);\n",
       "            \n",
       "        \n",
       "\n",
       "        marker_52d8d5022e6da28aa895c950bb188874.bindPopup(popup_5aa089dbf4888497c8ccedc216452422)\n",
       "        ;\n",
       "\n",
       "        \n",
       "    \n",
       "    \n",
       "            var marker_a39a18e3a033a4917f3046b09d7609ee = L.marker(\n",
       "                [48.7573959, 1.2023007],\n",
       "                {}\n",
       "            ).addTo(map_9e1f10ac299527b8b81fbd3a89f1f998);\n",
       "        \n",
       "    \n",
       "            var icon_f321e69d712acb7dea75439590ddb2c8 = L.AwesomeMarkers.icon(\n",
       "                {&quot;extraClasses&quot;: &quot;fa-rotate-0&quot;, &quot;icon&quot;: &quot;info-sign&quot;, &quot;iconColor&quot;: &quot;white&quot;, &quot;markerColor&quot;: &quot;blue&quot;, &quot;prefix&quot;: &quot;glyphicon&quot;}\n",
       "            );\n",
       "            marker_a39a18e3a033a4917f3046b09d7609ee.setIcon(icon_f321e69d712acb7dea75439590ddb2c8);\n",
       "        \n",
       "    \n",
       "        var popup_7d73fad5a496bdbc10e6591f537d4d9e = L.popup({&quot;maxWidth&quot;: &quot;100%&quot;});\n",
       "\n",
       "        \n",
       "            \n",
       "                var html_2f95f0681905045728cbb1a91658975f = $(`&lt;div id=&quot;html_2f95f0681905045728cbb1a91658975f&quot; style=&quot;width: 100.0%; height: 100.0%;&quot;&gt;Client Location: 48.7573959, 1.2023007&lt;/div&gt;`)[0];\n",
       "                popup_7d73fad5a496bdbc10e6591f537d4d9e.setContent(html_2f95f0681905045728cbb1a91658975f);\n",
       "            \n",
       "        \n",
       "\n",
       "        marker_a39a18e3a033a4917f3046b09d7609ee.bindPopup(popup_7d73fad5a496bdbc10e6591f537d4d9e)\n",
       "        ;\n",
       "\n",
       "        \n",
       "    \n",
       "    \n",
       "            var marker_94a6aebcbdf8d1e13694d9bc92e813c5 = L.marker(\n",
       "                [48.7796933, 1.3071376],\n",
       "                {}\n",
       "            ).addTo(map_9e1f10ac299527b8b81fbd3a89f1f998);\n",
       "        \n",
       "    \n",
       "            var icon_309a8eb2102c0f730ccefcde2df9d772 = L.AwesomeMarkers.icon(\n",
       "                {&quot;extraClasses&quot;: &quot;fa-rotate-0&quot;, &quot;icon&quot;: &quot;info-sign&quot;, &quot;iconColor&quot;: &quot;white&quot;, &quot;markerColor&quot;: &quot;blue&quot;, &quot;prefix&quot;: &quot;glyphicon&quot;}\n",
       "            );\n",
       "            marker_94a6aebcbdf8d1e13694d9bc92e813c5.setIcon(icon_309a8eb2102c0f730ccefcde2df9d772);\n",
       "        \n",
       "    \n",
       "        var popup_3add040b1fe1f0a8b314da1913bb2f4e = L.popup({&quot;maxWidth&quot;: &quot;100%&quot;});\n",
       "\n",
       "        \n",
       "            \n",
       "                var html_9409c79544b2b29a4267b1e5c9b6fe2b = $(`&lt;div id=&quot;html_9409c79544b2b29a4267b1e5c9b6fe2b&quot; style=&quot;width: 100.0%; height: 100.0%;&quot;&gt;Client Location: 48.7796933, 1.3071376&lt;/div&gt;`)[0];\n",
       "                popup_3add040b1fe1f0a8b314da1913bb2f4e.setContent(html_9409c79544b2b29a4267b1e5c9b6fe2b);\n",
       "            \n",
       "        \n",
       "\n",
       "        marker_94a6aebcbdf8d1e13694d9bc92e813c5.bindPopup(popup_3add040b1fe1f0a8b314da1913bb2f4e)\n",
       "        ;\n",
       "\n",
       "        \n",
       "    \n",
       "    \n",
       "            var marker_2fdbce38eb672bd82c2850ec5196e122 = L.marker(\n",
       "                [48.736134, 1.370889],\n",
       "                {}\n",
       "            ).addTo(map_9e1f10ac299527b8b81fbd3a89f1f998);\n",
       "        \n",
       "    \n",
       "            var icon_d1ffc7486fe59cd6078a074a95b7eca1 = L.AwesomeMarkers.icon(\n",
       "                {&quot;extraClasses&quot;: &quot;fa-rotate-0&quot;, &quot;icon&quot;: &quot;info-sign&quot;, &quot;iconColor&quot;: &quot;white&quot;, &quot;markerColor&quot;: &quot;blue&quot;, &quot;prefix&quot;: &quot;glyphicon&quot;}\n",
       "            );\n",
       "            marker_2fdbce38eb672bd82c2850ec5196e122.setIcon(icon_d1ffc7486fe59cd6078a074a95b7eca1);\n",
       "        \n",
       "    \n",
       "        var popup_de4052d689dfe163cdd952e2a23c7e79 = L.popup({&quot;maxWidth&quot;: &quot;100%&quot;});\n",
       "\n",
       "        \n",
       "            \n",
       "                var html_99f1f1ae002163ebc894ec3cea87d1d6 = $(`&lt;div id=&quot;html_99f1f1ae002163ebc894ec3cea87d1d6&quot; style=&quot;width: 100.0%; height: 100.0%;&quot;&gt;Client Location: 48.736134, 1.370889&lt;/div&gt;`)[0];\n",
       "                popup_de4052d689dfe163cdd952e2a23c7e79.setContent(html_99f1f1ae002163ebc894ec3cea87d1d6);\n",
       "            \n",
       "        \n",
       "\n",
       "        marker_2fdbce38eb672bd82c2850ec5196e122.bindPopup(popup_de4052d689dfe163cdd952e2a23c7e79)\n",
       "        ;\n",
       "\n",
       "        \n",
       "    \n",
       "    \n",
       "            var marker_6f7335f70634c98490cdcad38b2bd785 = L.marker(\n",
       "                [48.721939, 1.3740208],\n",
       "                {}\n",
       "            ).addTo(map_9e1f10ac299527b8b81fbd3a89f1f998);\n",
       "        \n",
       "    \n",
       "            var icon_068aeda3c3fc6954956aa1db5c20fda6 = L.AwesomeMarkers.icon(\n",
       "                {&quot;extraClasses&quot;: &quot;fa-rotate-0&quot;, &quot;icon&quot;: &quot;info-sign&quot;, &quot;iconColor&quot;: &quot;white&quot;, &quot;markerColor&quot;: &quot;blue&quot;, &quot;prefix&quot;: &quot;glyphicon&quot;}\n",
       "            );\n",
       "            marker_6f7335f70634c98490cdcad38b2bd785.setIcon(icon_068aeda3c3fc6954956aa1db5c20fda6);\n",
       "        \n",
       "    \n",
       "        var popup_96be61c53d7419732bf349eb476fe65c = L.popup({&quot;maxWidth&quot;: &quot;100%&quot;});\n",
       "\n",
       "        \n",
       "            \n",
       "                var html_0248838757a02b69c46bc49df79f24d3 = $(`&lt;div id=&quot;html_0248838757a02b69c46bc49df79f24d3&quot; style=&quot;width: 100.0%; height: 100.0%;&quot;&gt;Client Location: 48.721939, 1.3740208&lt;/div&gt;`)[0];\n",
       "                popup_96be61c53d7419732bf349eb476fe65c.setContent(html_0248838757a02b69c46bc49df79f24d3);\n",
       "            \n",
       "        \n",
       "\n",
       "        marker_6f7335f70634c98490cdcad38b2bd785.bindPopup(popup_96be61c53d7419732bf349eb476fe65c)\n",
       "        ;\n",
       "\n",
       "        \n",
       "    \n",
       "    \n",
       "            var marker_acde436a35c9109b39a69781ec020ebb = L.marker(\n",
       "                [48.7396695, 1.3404164],\n",
       "                {}\n",
       "            ).addTo(map_9e1f10ac299527b8b81fbd3a89f1f998);\n",
       "        \n",
       "    \n",
       "            var icon_405a02946f72e91b74c4d6f5f689fba3 = L.AwesomeMarkers.icon(\n",
       "                {&quot;extraClasses&quot;: &quot;fa-rotate-0&quot;, &quot;icon&quot;: &quot;info-sign&quot;, &quot;iconColor&quot;: &quot;white&quot;, &quot;markerColor&quot;: &quot;blue&quot;, &quot;prefix&quot;: &quot;glyphicon&quot;}\n",
       "            );\n",
       "            marker_acde436a35c9109b39a69781ec020ebb.setIcon(icon_405a02946f72e91b74c4d6f5f689fba3);\n",
       "        \n",
       "    \n",
       "        var popup_d3bb120b24f7d8135f75bc14415f172c = L.popup({&quot;maxWidth&quot;: &quot;100%&quot;});\n",
       "\n",
       "        \n",
       "            \n",
       "                var html_d984e106445fb5172062695093514be8 = $(`&lt;div id=&quot;html_d984e106445fb5172062695093514be8&quot; style=&quot;width: 100.0%; height: 100.0%;&quot;&gt;Client Location: 48.7396695, 1.3404164&lt;/div&gt;`)[0];\n",
       "                popup_d3bb120b24f7d8135f75bc14415f172c.setContent(html_d984e106445fb5172062695093514be8);\n",
       "            \n",
       "        \n",
       "\n",
       "        marker_acde436a35c9109b39a69781ec020ebb.bindPopup(popup_d3bb120b24f7d8135f75bc14415f172c)\n",
       "        ;\n",
       "\n",
       "        \n",
       "    \n",
       "    \n",
       "            var marker_bf5fad6fc0929744a060a863c9f0d25c = L.marker(\n",
       "                [48.7292713, 1.3235448],\n",
       "                {}\n",
       "            ).addTo(map_9e1f10ac299527b8b81fbd3a89f1f998);\n",
       "        \n",
       "    \n",
       "            var icon_1784863736136357e402cb96ef78979e = L.AwesomeMarkers.icon(\n",
       "                {&quot;extraClasses&quot;: &quot;fa-rotate-0&quot;, &quot;icon&quot;: &quot;info-sign&quot;, &quot;iconColor&quot;: &quot;white&quot;, &quot;markerColor&quot;: &quot;blue&quot;, &quot;prefix&quot;: &quot;glyphicon&quot;}\n",
       "            );\n",
       "            marker_bf5fad6fc0929744a060a863c9f0d25c.setIcon(icon_1784863736136357e402cb96ef78979e);\n",
       "        \n",
       "    \n",
       "        var popup_c91bed5350b76db12857c3022f4b138a = L.popup({&quot;maxWidth&quot;: &quot;100%&quot;});\n",
       "\n",
       "        \n",
       "            \n",
       "                var html_97bb2d71b345b1d144bfb9dd032b5529 = $(`&lt;div id=&quot;html_97bb2d71b345b1d144bfb9dd032b5529&quot; style=&quot;width: 100.0%; height: 100.0%;&quot;&gt;Client Location: 48.7292713, 1.3235448&lt;/div&gt;`)[0];\n",
       "                popup_c91bed5350b76db12857c3022f4b138a.setContent(html_97bb2d71b345b1d144bfb9dd032b5529);\n",
       "            \n",
       "        \n",
       "\n",
       "        marker_bf5fad6fc0929744a060a863c9f0d25c.bindPopup(popup_c91bed5350b76db12857c3022f4b138a)\n",
       "        ;\n",
       "\n",
       "        \n",
       "    \n",
       "    \n",
       "            var marker_fbfec2fb85f591957a65dff64b59da10 = L.marker(\n",
       "                [48.729537, 1.3345486],\n",
       "                {}\n",
       "            ).addTo(map_9e1f10ac299527b8b81fbd3a89f1f998);\n",
       "        \n",
       "    \n",
       "            var icon_e4845c1ece51347f1f10b6108499c8e2 = L.AwesomeMarkers.icon(\n",
       "                {&quot;extraClasses&quot;: &quot;fa-rotate-0&quot;, &quot;icon&quot;: &quot;info-sign&quot;, &quot;iconColor&quot;: &quot;white&quot;, &quot;markerColor&quot;: &quot;blue&quot;, &quot;prefix&quot;: &quot;glyphicon&quot;}\n",
       "            );\n",
       "            marker_fbfec2fb85f591957a65dff64b59da10.setIcon(icon_e4845c1ece51347f1f10b6108499c8e2);\n",
       "        \n",
       "    \n",
       "        var popup_f88b110c026a864f4f64481004c96f7d = L.popup({&quot;maxWidth&quot;: &quot;100%&quot;});\n",
       "\n",
       "        \n",
       "            \n",
       "                var html_4992098979c1784e89a3fd023d2af568 = $(`&lt;div id=&quot;html_4992098979c1784e89a3fd023d2af568&quot; style=&quot;width: 100.0%; height: 100.0%;&quot;&gt;Client Location: 48.729537, 1.3345486&lt;/div&gt;`)[0];\n",
       "                popup_f88b110c026a864f4f64481004c96f7d.setContent(html_4992098979c1784e89a3fd023d2af568);\n",
       "            \n",
       "        \n",
       "\n",
       "        marker_fbfec2fb85f591957a65dff64b59da10.bindPopup(popup_f88b110c026a864f4f64481004c96f7d)\n",
       "        ;\n",
       "\n",
       "        \n",
       "    \n",
       "    \n",
       "            var marker_fc3a81e1f5e390313ed280322c420e70 = L.marker(\n",
       "                [48.7249427, 1.3833051],\n",
       "                {}\n",
       "            ).addTo(map_9e1f10ac299527b8b81fbd3a89f1f998);\n",
       "        \n",
       "    \n",
       "            var icon_e51ab45d8a356ca68a2e5ca901289700 = L.AwesomeMarkers.icon(\n",
       "                {&quot;extraClasses&quot;: &quot;fa-rotate-0&quot;, &quot;icon&quot;: &quot;info-sign&quot;, &quot;iconColor&quot;: &quot;white&quot;, &quot;markerColor&quot;: &quot;blue&quot;, &quot;prefix&quot;: &quot;glyphicon&quot;}\n",
       "            );\n",
       "            marker_fc3a81e1f5e390313ed280322c420e70.setIcon(icon_e51ab45d8a356ca68a2e5ca901289700);\n",
       "        \n",
       "    \n",
       "        var popup_903ea5c60779e1e3cf62625b95785a36 = L.popup({&quot;maxWidth&quot;: &quot;100%&quot;});\n",
       "\n",
       "        \n",
       "            \n",
       "                var html_5f43ae7dd7b389b3bfecf79f7e9b2d5b = $(`&lt;div id=&quot;html_5f43ae7dd7b389b3bfecf79f7e9b2d5b&quot; style=&quot;width: 100.0%; height: 100.0%;&quot;&gt;Client Location: 48.7249427, 1.3833051&lt;/div&gt;`)[0];\n",
       "                popup_903ea5c60779e1e3cf62625b95785a36.setContent(html_5f43ae7dd7b389b3bfecf79f7e9b2d5b);\n",
       "            \n",
       "        \n",
       "\n",
       "        marker_fc3a81e1f5e390313ed280322c420e70.bindPopup(popup_903ea5c60779e1e3cf62625b95785a36)\n",
       "        ;\n",
       "\n",
       "        \n",
       "    \n",
       "    \n",
       "            var marker_c029c858f09615d70d17a2df00b4c101 = L.marker(\n",
       "                [48.728913, 1.337604],\n",
       "                {}\n",
       "            ).addTo(map_9e1f10ac299527b8b81fbd3a89f1f998);\n",
       "        \n",
       "    \n",
       "            var icon_648774b6ee462abed57330c154a4c9a5 = L.AwesomeMarkers.icon(\n",
       "                {&quot;extraClasses&quot;: &quot;fa-rotate-0&quot;, &quot;icon&quot;: &quot;info-sign&quot;, &quot;iconColor&quot;: &quot;white&quot;, &quot;markerColor&quot;: &quot;blue&quot;, &quot;prefix&quot;: &quot;glyphicon&quot;}\n",
       "            );\n",
       "            marker_c029c858f09615d70d17a2df00b4c101.setIcon(icon_648774b6ee462abed57330c154a4c9a5);\n",
       "        \n",
       "    \n",
       "        var popup_000d76c1494fd68e46d0238aec579e63 = L.popup({&quot;maxWidth&quot;: &quot;100%&quot;});\n",
       "\n",
       "        \n",
       "            \n",
       "                var html_e7c8895b33edb1ba43a5c75fec1ce2a6 = $(`&lt;div id=&quot;html_e7c8895b33edb1ba43a5c75fec1ce2a6&quot; style=&quot;width: 100.0%; height: 100.0%;&quot;&gt;Client Location: 48.728913, 1.337604&lt;/div&gt;`)[0];\n",
       "                popup_000d76c1494fd68e46d0238aec579e63.setContent(html_e7c8895b33edb1ba43a5c75fec1ce2a6);\n",
       "            \n",
       "        \n",
       "\n",
       "        marker_c029c858f09615d70d17a2df00b4c101.bindPopup(popup_000d76c1494fd68e46d0238aec579e63)\n",
       "        ;\n",
       "\n",
       "        \n",
       "    \n",
       "    \n",
       "            var marker_487b72b2d75f3b9217fabdffb8b83003 = L.marker(\n",
       "                [48.739895, 1.351702],\n",
       "                {}\n",
       "            ).addTo(map_9e1f10ac299527b8b81fbd3a89f1f998);\n",
       "        \n",
       "    \n",
       "            var icon_6553ccf495e94778349cb47435701ff9 = L.AwesomeMarkers.icon(\n",
       "                {&quot;extraClasses&quot;: &quot;fa-rotate-0&quot;, &quot;icon&quot;: &quot;info-sign&quot;, &quot;iconColor&quot;: &quot;white&quot;, &quot;markerColor&quot;: &quot;blue&quot;, &quot;prefix&quot;: &quot;glyphicon&quot;}\n",
       "            );\n",
       "            marker_487b72b2d75f3b9217fabdffb8b83003.setIcon(icon_6553ccf495e94778349cb47435701ff9);\n",
       "        \n",
       "    \n",
       "        var popup_efa30b07aecf325a2f10e0bfb60b2367 = L.popup({&quot;maxWidth&quot;: &quot;100%&quot;});\n",
       "\n",
       "        \n",
       "            \n",
       "                var html_894b48464304732986b08e47333ef329 = $(`&lt;div id=&quot;html_894b48464304732986b08e47333ef329&quot; style=&quot;width: 100.0%; height: 100.0%;&quot;&gt;Client Location: 48.739895, 1.351702&lt;/div&gt;`)[0];\n",
       "                popup_efa30b07aecf325a2f10e0bfb60b2367.setContent(html_894b48464304732986b08e47333ef329);\n",
       "            \n",
       "        \n",
       "\n",
       "        marker_487b72b2d75f3b9217fabdffb8b83003.bindPopup(popup_efa30b07aecf325a2f10e0bfb60b2367)\n",
       "        ;\n",
       "\n",
       "        \n",
       "    \n",
       "    \n",
       "            var marker_45f6165956bc8e34633398237faa4a6f = L.marker(\n",
       "                [48.7406195, 1.3706525],\n",
       "                {}\n",
       "            ).addTo(map_9e1f10ac299527b8b81fbd3a89f1f998);\n",
       "        \n",
       "    \n",
       "            var icon_c55896960a6dfc134ea9397db965f216 = L.AwesomeMarkers.icon(\n",
       "                {&quot;extraClasses&quot;: &quot;fa-rotate-0&quot;, &quot;icon&quot;: &quot;info-sign&quot;, &quot;iconColor&quot;: &quot;white&quot;, &quot;markerColor&quot;: &quot;blue&quot;, &quot;prefix&quot;: &quot;glyphicon&quot;}\n",
       "            );\n",
       "            marker_45f6165956bc8e34633398237faa4a6f.setIcon(icon_c55896960a6dfc134ea9397db965f216);\n",
       "        \n",
       "    \n",
       "        var popup_c6cff3d88b91d2d8afda8d448acab6e5 = L.popup({&quot;maxWidth&quot;: &quot;100%&quot;});\n",
       "\n",
       "        \n",
       "            \n",
       "                var html_74b0b262d351a31173943e0ec0a91622 = $(`&lt;div id=&quot;html_74b0b262d351a31173943e0ec0a91622&quot; style=&quot;width: 100.0%; height: 100.0%;&quot;&gt;Client Location: 48.7406195, 1.3706525&lt;/div&gt;`)[0];\n",
       "                popup_c6cff3d88b91d2d8afda8d448acab6e5.setContent(html_74b0b262d351a31173943e0ec0a91622);\n",
       "            \n",
       "        \n",
       "\n",
       "        marker_45f6165956bc8e34633398237faa4a6f.bindPopup(popup_c6cff3d88b91d2d8afda8d448acab6e5)\n",
       "        ;\n",
       "\n",
       "        \n",
       "    \n",
       "    \n",
       "            var marker_bf338b783e0f88f0ec4fc887e360b031 = L.marker(\n",
       "                [48.7302617, 1.3862834],\n",
       "                {}\n",
       "            ).addTo(map_9e1f10ac299527b8b81fbd3a89f1f998);\n",
       "        \n",
       "    \n",
       "            var icon_1222a0dbdddc70ac76f2f7fce7c8c3d7 = L.AwesomeMarkers.icon(\n",
       "                {&quot;extraClasses&quot;: &quot;fa-rotate-0&quot;, &quot;icon&quot;: &quot;info-sign&quot;, &quot;iconColor&quot;: &quot;white&quot;, &quot;markerColor&quot;: &quot;blue&quot;, &quot;prefix&quot;: &quot;glyphicon&quot;}\n",
       "            );\n",
       "            marker_bf338b783e0f88f0ec4fc887e360b031.setIcon(icon_1222a0dbdddc70ac76f2f7fce7c8c3d7);\n",
       "        \n",
       "    \n",
       "        var popup_ead6047292a24ffe0b2913566d57496b = L.popup({&quot;maxWidth&quot;: &quot;100%&quot;});\n",
       "\n",
       "        \n",
       "            \n",
       "                var html_945521dd86ecf09174038989821d2d18 = $(`&lt;div id=&quot;html_945521dd86ecf09174038989821d2d18&quot; style=&quot;width: 100.0%; height: 100.0%;&quot;&gt;Client Location: 48.7302617, 1.3862834&lt;/div&gt;`)[0];\n",
       "                popup_ead6047292a24ffe0b2913566d57496b.setContent(html_945521dd86ecf09174038989821d2d18);\n",
       "            \n",
       "        \n",
       "\n",
       "        marker_bf338b783e0f88f0ec4fc887e360b031.bindPopup(popup_ead6047292a24ffe0b2913566d57496b)\n",
       "        ;\n",
       "\n",
       "        \n",
       "    \n",
       "    \n",
       "            var marker_28d3c9469ad842a9447d59d6f73d36f4 = L.marker(\n",
       "                [48.7254143, 1.3815941],\n",
       "                {}\n",
       "            ).addTo(map_9e1f10ac299527b8b81fbd3a89f1f998);\n",
       "        \n",
       "    \n",
       "            var icon_3102a83e8d2687876f22cc693128b974 = L.AwesomeMarkers.icon(\n",
       "                {&quot;extraClasses&quot;: &quot;fa-rotate-0&quot;, &quot;icon&quot;: &quot;info-sign&quot;, &quot;iconColor&quot;: &quot;white&quot;, &quot;markerColor&quot;: &quot;blue&quot;, &quot;prefix&quot;: &quot;glyphicon&quot;}\n",
       "            );\n",
       "            marker_28d3c9469ad842a9447d59d6f73d36f4.setIcon(icon_3102a83e8d2687876f22cc693128b974);\n",
       "        \n",
       "    \n",
       "        var popup_0e2b0d8a418dd6810820c2a977ce7124 = L.popup({&quot;maxWidth&quot;: &quot;100%&quot;});\n",
       "\n",
       "        \n",
       "            \n",
       "                var html_76b05d990fa817df189285479428d5ec = $(`&lt;div id=&quot;html_76b05d990fa817df189285479428d5ec&quot; style=&quot;width: 100.0%; height: 100.0%;&quot;&gt;Client Location: 48.7254143, 1.3815941&lt;/div&gt;`)[0];\n",
       "                popup_0e2b0d8a418dd6810820c2a977ce7124.setContent(html_76b05d990fa817df189285479428d5ec);\n",
       "            \n",
       "        \n",
       "\n",
       "        marker_28d3c9469ad842a9447d59d6f73d36f4.bindPopup(popup_0e2b0d8a418dd6810820c2a977ce7124)\n",
       "        ;\n",
       "\n",
       "        \n",
       "    \n",
       "    \n",
       "            var marker_563b68aaf388bdb989d51707674991bf = L.marker(\n",
       "                [48.7249427, 1.3833051],\n",
       "                {}\n",
       "            ).addTo(map_9e1f10ac299527b8b81fbd3a89f1f998);\n",
       "        \n",
       "    \n",
       "            var icon_bc93aac0d66f6b2d33ca03f197cfa80a = L.AwesomeMarkers.icon(\n",
       "                {&quot;extraClasses&quot;: &quot;fa-rotate-0&quot;, &quot;icon&quot;: &quot;info-sign&quot;, &quot;iconColor&quot;: &quot;white&quot;, &quot;markerColor&quot;: &quot;blue&quot;, &quot;prefix&quot;: &quot;glyphicon&quot;}\n",
       "            );\n",
       "            marker_563b68aaf388bdb989d51707674991bf.setIcon(icon_bc93aac0d66f6b2d33ca03f197cfa80a);\n",
       "        \n",
       "    \n",
       "        var popup_2ebd719cb0e5acee4f1bd279fa64b1ce = L.popup({&quot;maxWidth&quot;: &quot;100%&quot;});\n",
       "\n",
       "        \n",
       "            \n",
       "                var html_8fd64f380e42ad8af1bf810ec399662b = $(`&lt;div id=&quot;html_8fd64f380e42ad8af1bf810ec399662b&quot; style=&quot;width: 100.0%; height: 100.0%;&quot;&gt;Client Location: 48.7249427, 1.3833051&lt;/div&gt;`)[0];\n",
       "                popup_2ebd719cb0e5acee4f1bd279fa64b1ce.setContent(html_8fd64f380e42ad8af1bf810ec399662b);\n",
       "            \n",
       "        \n",
       "\n",
       "        marker_563b68aaf388bdb989d51707674991bf.bindPopup(popup_2ebd719cb0e5acee4f1bd279fa64b1ce)\n",
       "        ;\n",
       "\n",
       "        \n",
       "    \n",
       "    \n",
       "            var marker_8c34b9a958a069cb47e71c032f92ce5a = L.marker(\n",
       "                [48.734728, 1.3818965],\n",
       "                {}\n",
       "            ).addTo(map_9e1f10ac299527b8b81fbd3a89f1f998);\n",
       "        \n",
       "    \n",
       "            var icon_d9a18cbe3cbb42f1380b00a6e6f6e855 = L.AwesomeMarkers.icon(\n",
       "                {&quot;extraClasses&quot;: &quot;fa-rotate-0&quot;, &quot;icon&quot;: &quot;info-sign&quot;, &quot;iconColor&quot;: &quot;white&quot;, &quot;markerColor&quot;: &quot;blue&quot;, &quot;prefix&quot;: &quot;glyphicon&quot;}\n",
       "            );\n",
       "            marker_8c34b9a958a069cb47e71c032f92ce5a.setIcon(icon_d9a18cbe3cbb42f1380b00a6e6f6e855);\n",
       "        \n",
       "    \n",
       "        var popup_93b0d710ac4060787b13a642179b4921 = L.popup({&quot;maxWidth&quot;: &quot;100%&quot;});\n",
       "\n",
       "        \n",
       "            \n",
       "                var html_76c7db40495d5b2201f37d55ff54406b = $(`&lt;div id=&quot;html_76c7db40495d5b2201f37d55ff54406b&quot; style=&quot;width: 100.0%; height: 100.0%;&quot;&gt;Client Location: 48.734728, 1.3818965&lt;/div&gt;`)[0];\n",
       "                popup_93b0d710ac4060787b13a642179b4921.setContent(html_76c7db40495d5b2201f37d55ff54406b);\n",
       "            \n",
       "        \n",
       "\n",
       "        marker_8c34b9a958a069cb47e71c032f92ce5a.bindPopup(popup_93b0d710ac4060787b13a642179b4921)\n",
       "        ;\n",
       "\n",
       "        \n",
       "    \n",
       "    \n",
       "            var marker_a64b5796485ab87646ccab6fc9dae214 = L.marker(\n",
       "                [48.7293302, 1.3388591],\n",
       "                {}\n",
       "            ).addTo(map_9e1f10ac299527b8b81fbd3a89f1f998);\n",
       "        \n",
       "    \n",
       "            var icon_7ba5470d7f7a0ca3f18b07f8e5d4d755 = L.AwesomeMarkers.icon(\n",
       "                {&quot;extraClasses&quot;: &quot;fa-rotate-0&quot;, &quot;icon&quot;: &quot;info-sign&quot;, &quot;iconColor&quot;: &quot;white&quot;, &quot;markerColor&quot;: &quot;blue&quot;, &quot;prefix&quot;: &quot;glyphicon&quot;}\n",
       "            );\n",
       "            marker_a64b5796485ab87646ccab6fc9dae214.setIcon(icon_7ba5470d7f7a0ca3f18b07f8e5d4d755);\n",
       "        \n",
       "    \n",
       "        var popup_cf0672093ecfaa07aa20cfbf53811981 = L.popup({&quot;maxWidth&quot;: &quot;100%&quot;});\n",
       "\n",
       "        \n",
       "            \n",
       "                var html_ede03128fc5ea3827018cb9d4053503f = $(`&lt;div id=&quot;html_ede03128fc5ea3827018cb9d4053503f&quot; style=&quot;width: 100.0%; height: 100.0%;&quot;&gt;Client Location: 48.7293302, 1.3388591&lt;/div&gt;`)[0];\n",
       "                popup_cf0672093ecfaa07aa20cfbf53811981.setContent(html_ede03128fc5ea3827018cb9d4053503f);\n",
       "            \n",
       "        \n",
       "\n",
       "        marker_a64b5796485ab87646ccab6fc9dae214.bindPopup(popup_cf0672093ecfaa07aa20cfbf53811981)\n",
       "        ;\n",
       "\n",
       "        \n",
       "    \n",
       "    \n",
       "            var marker_bdd56da5d3d3d93aa2a19d483c5565f2 = L.marker(\n",
       "                [48.7445388, 1.4221695],\n",
       "                {}\n",
       "            ).addTo(map_9e1f10ac299527b8b81fbd3a89f1f998);\n",
       "        \n",
       "    \n",
       "            var icon_45e8f826cf9a05d25be4dcea361716bc = L.AwesomeMarkers.icon(\n",
       "                {&quot;extraClasses&quot;: &quot;fa-rotate-0&quot;, &quot;icon&quot;: &quot;info-sign&quot;, &quot;iconColor&quot;: &quot;white&quot;, &quot;markerColor&quot;: &quot;blue&quot;, &quot;prefix&quot;: &quot;glyphicon&quot;}\n",
       "            );\n",
       "            marker_bdd56da5d3d3d93aa2a19d483c5565f2.setIcon(icon_45e8f826cf9a05d25be4dcea361716bc);\n",
       "        \n",
       "    \n",
       "        var popup_cd113edc4079583c2fae91ecc9391dd2 = L.popup({&quot;maxWidth&quot;: &quot;100%&quot;});\n",
       "\n",
       "        \n",
       "            \n",
       "                var html_4b54e3b5d30bb500dc3522be4976238e = $(`&lt;div id=&quot;html_4b54e3b5d30bb500dc3522be4976238e&quot; style=&quot;width: 100.0%; height: 100.0%;&quot;&gt;Client Location: 48.7445388, 1.4221695&lt;/div&gt;`)[0];\n",
       "                popup_cd113edc4079583c2fae91ecc9391dd2.setContent(html_4b54e3b5d30bb500dc3522be4976238e);\n",
       "            \n",
       "        \n",
       "\n",
       "        marker_bdd56da5d3d3d93aa2a19d483c5565f2.bindPopup(popup_cd113edc4079583c2fae91ecc9391dd2)\n",
       "        ;\n",
       "\n",
       "        \n",
       "    \n",
       "    \n",
       "            var marker_30cd3840ec26bf7d380c134bf998e561 = L.marker(\n",
       "                [48.7341923, 1.364231],\n",
       "                {}\n",
       "            ).addTo(map_9e1f10ac299527b8b81fbd3a89f1f998);\n",
       "        \n",
       "    \n",
       "            var icon_88e20f844bbd5dc82042498c87d714c9 = L.AwesomeMarkers.icon(\n",
       "                {&quot;extraClasses&quot;: &quot;fa-rotate-0&quot;, &quot;icon&quot;: &quot;info-sign&quot;, &quot;iconColor&quot;: &quot;white&quot;, &quot;markerColor&quot;: &quot;blue&quot;, &quot;prefix&quot;: &quot;glyphicon&quot;}\n",
       "            );\n",
       "            marker_30cd3840ec26bf7d380c134bf998e561.setIcon(icon_88e20f844bbd5dc82042498c87d714c9);\n",
       "        \n",
       "    \n",
       "        var popup_17fb6211d9d0e32e3b37327c4b281533 = L.popup({&quot;maxWidth&quot;: &quot;100%&quot;});\n",
       "\n",
       "        \n",
       "            \n",
       "                var html_a564734eeed4373dc718a7f784445d83 = $(`&lt;div id=&quot;html_a564734eeed4373dc718a7f784445d83&quot; style=&quot;width: 100.0%; height: 100.0%;&quot;&gt;Client Location: 48.7341923, 1.364231&lt;/div&gt;`)[0];\n",
       "                popup_17fb6211d9d0e32e3b37327c4b281533.setContent(html_a564734eeed4373dc718a7f784445d83);\n",
       "            \n",
       "        \n",
       "\n",
       "        marker_30cd3840ec26bf7d380c134bf998e561.bindPopup(popup_17fb6211d9d0e32e3b37327c4b281533)\n",
       "        ;\n",
       "\n",
       "        \n",
       "    \n",
       "    \n",
       "            var marker_a359c8bd6850a40c13d0a600aae8db2e = L.marker(\n",
       "                [48.7998438, 1.5381353],\n",
       "                {}\n",
       "            ).addTo(map_9e1f10ac299527b8b81fbd3a89f1f998);\n",
       "        \n",
       "    \n",
       "            var icon_23d4081e79073bda62ad847229505e7a = L.AwesomeMarkers.icon(\n",
       "                {&quot;extraClasses&quot;: &quot;fa-rotate-0&quot;, &quot;icon&quot;: &quot;info-sign&quot;, &quot;iconColor&quot;: &quot;white&quot;, &quot;markerColor&quot;: &quot;blue&quot;, &quot;prefix&quot;: &quot;glyphicon&quot;}\n",
       "            );\n",
       "            marker_a359c8bd6850a40c13d0a600aae8db2e.setIcon(icon_23d4081e79073bda62ad847229505e7a);\n",
       "        \n",
       "    \n",
       "        var popup_5686b01d81fdd1079115b0fd0ae7b818 = L.popup({&quot;maxWidth&quot;: &quot;100%&quot;});\n",
       "\n",
       "        \n",
       "            \n",
       "                var html_dcacd17ee8ecdda3d274d5bde5a347cf = $(`&lt;div id=&quot;html_dcacd17ee8ecdda3d274d5bde5a347cf&quot; style=&quot;width: 100.0%; height: 100.0%;&quot;&gt;Client Location: 48.7998438, 1.5381353&lt;/div&gt;`)[0];\n",
       "                popup_5686b01d81fdd1079115b0fd0ae7b818.setContent(html_dcacd17ee8ecdda3d274d5bde5a347cf);\n",
       "            \n",
       "        \n",
       "\n",
       "        marker_a359c8bd6850a40c13d0a600aae8db2e.bindPopup(popup_5686b01d81fdd1079115b0fd0ae7b818)\n",
       "        ;\n",
       "\n",
       "        \n",
       "    \n",
       "    \n",
       "            var marker_3ec16717a526a727b2cafe300c3d0a07 = L.marker(\n",
       "                [48.7192172, 1.3970573],\n",
       "                {}\n",
       "            ).addTo(map_9e1f10ac299527b8b81fbd3a89f1f998);\n",
       "        \n",
       "    \n",
       "            var icon_d81838efe7c28c522c1685143a38413f = L.AwesomeMarkers.icon(\n",
       "                {&quot;extraClasses&quot;: &quot;fa-rotate-0&quot;, &quot;icon&quot;: &quot;info-sign&quot;, &quot;iconColor&quot;: &quot;white&quot;, &quot;markerColor&quot;: &quot;blue&quot;, &quot;prefix&quot;: &quot;glyphicon&quot;}\n",
       "            );\n",
       "            marker_3ec16717a526a727b2cafe300c3d0a07.setIcon(icon_d81838efe7c28c522c1685143a38413f);\n",
       "        \n",
       "    \n",
       "        var popup_48f18c2050ece620ea6d05f7eb70ef08 = L.popup({&quot;maxWidth&quot;: &quot;100%&quot;});\n",
       "\n",
       "        \n",
       "            \n",
       "                var html_d3b50ddd8ca4da093902d36dafb06e9b = $(`&lt;div id=&quot;html_d3b50ddd8ca4da093902d36dafb06e9b&quot; style=&quot;width: 100.0%; height: 100.0%;&quot;&gt;Client Location: 48.7192172, 1.3970573&lt;/div&gt;`)[0];\n",
       "                popup_48f18c2050ece620ea6d05f7eb70ef08.setContent(html_d3b50ddd8ca4da093902d36dafb06e9b);\n",
       "            \n",
       "        \n",
       "\n",
       "        marker_3ec16717a526a727b2cafe300c3d0a07.bindPopup(popup_48f18c2050ece620ea6d05f7eb70ef08)\n",
       "        ;\n",
       "\n",
       "        \n",
       "    \n",
       "    \n",
       "            var marker_712ae00815e402e1f529647ab29cf74b = L.marker(\n",
       "                [48.7263435, 1.3327037],\n",
       "                {}\n",
       "            ).addTo(map_9e1f10ac299527b8b81fbd3a89f1f998);\n",
       "        \n",
       "    \n",
       "            var icon_109afa9de7e82676bfd7853140d1d5c9 = L.AwesomeMarkers.icon(\n",
       "                {&quot;extraClasses&quot;: &quot;fa-rotate-0&quot;, &quot;icon&quot;: &quot;info-sign&quot;, &quot;iconColor&quot;: &quot;white&quot;, &quot;markerColor&quot;: &quot;blue&quot;, &quot;prefix&quot;: &quot;glyphicon&quot;}\n",
       "            );\n",
       "            marker_712ae00815e402e1f529647ab29cf74b.setIcon(icon_109afa9de7e82676bfd7853140d1d5c9);\n",
       "        \n",
       "    \n",
       "        var popup_df4a4abef70e682973ecdfc826d9fcfd = L.popup({&quot;maxWidth&quot;: &quot;100%&quot;});\n",
       "\n",
       "        \n",
       "            \n",
       "                var html_117872d1ec147c3e0a7839110b72bcf3 = $(`&lt;div id=&quot;html_117872d1ec147c3e0a7839110b72bcf3&quot; style=&quot;width: 100.0%; height: 100.0%;&quot;&gt;Client Location: 48.7263435, 1.3327037&lt;/div&gt;`)[0];\n",
       "                popup_df4a4abef70e682973ecdfc826d9fcfd.setContent(html_117872d1ec147c3e0a7839110b72bcf3);\n",
       "            \n",
       "        \n",
       "\n",
       "        marker_712ae00815e402e1f529647ab29cf74b.bindPopup(popup_df4a4abef70e682973ecdfc826d9fcfd)\n",
       "        ;\n",
       "\n",
       "        \n",
       "    \n",
       "    \n",
       "            var marker_e361eb82d241c52b3aa0f1b3944611de = L.marker(\n",
       "                [48.717309, 1.418432],\n",
       "                {}\n",
       "            ).addTo(map_9e1f10ac299527b8b81fbd3a89f1f998);\n",
       "        \n",
       "    \n",
       "            var icon_db4451401525620dcccc29fd511a457f = L.AwesomeMarkers.icon(\n",
       "                {&quot;extraClasses&quot;: &quot;fa-rotate-0&quot;, &quot;icon&quot;: &quot;info-sign&quot;, &quot;iconColor&quot;: &quot;white&quot;, &quot;markerColor&quot;: &quot;blue&quot;, &quot;prefix&quot;: &quot;glyphicon&quot;}\n",
       "            );\n",
       "            marker_e361eb82d241c52b3aa0f1b3944611de.setIcon(icon_db4451401525620dcccc29fd511a457f);\n",
       "        \n",
       "    \n",
       "        var popup_3b353fbf13ff581c245e0d08152db4d5 = L.popup({&quot;maxWidth&quot;: &quot;100%&quot;});\n",
       "\n",
       "        \n",
       "            \n",
       "                var html_ffdf5fc9922e14a3173f9b10097a914e = $(`&lt;div id=&quot;html_ffdf5fc9922e14a3173f9b10097a914e&quot; style=&quot;width: 100.0%; height: 100.0%;&quot;&gt;Client Location: 48.717309, 1.418432&lt;/div&gt;`)[0];\n",
       "                popup_3b353fbf13ff581c245e0d08152db4d5.setContent(html_ffdf5fc9922e14a3173f9b10097a914e);\n",
       "            \n",
       "        \n",
       "\n",
       "        marker_e361eb82d241c52b3aa0f1b3944611de.bindPopup(popup_3b353fbf13ff581c245e0d08152db4d5)\n",
       "        ;\n",
       "\n",
       "        \n",
       "    \n",
       "    \n",
       "            var marker_1fd1fac808d4798d4d72bca1fd1b0849 = L.marker(\n",
       "                [48.7195382, 1.3776703],\n",
       "                {}\n",
       "            ).addTo(map_9e1f10ac299527b8b81fbd3a89f1f998);\n",
       "        \n",
       "    \n",
       "            var icon_683bd2cae953c12724f1865600230ecc = L.AwesomeMarkers.icon(\n",
       "                {&quot;extraClasses&quot;: &quot;fa-rotate-0&quot;, &quot;icon&quot;: &quot;info-sign&quot;, &quot;iconColor&quot;: &quot;white&quot;, &quot;markerColor&quot;: &quot;blue&quot;, &quot;prefix&quot;: &quot;glyphicon&quot;}\n",
       "            );\n",
       "            marker_1fd1fac808d4798d4d72bca1fd1b0849.setIcon(icon_683bd2cae953c12724f1865600230ecc);\n",
       "        \n",
       "    \n",
       "        var popup_613b5c4a85f00485921a6a8640011c3e = L.popup({&quot;maxWidth&quot;: &quot;100%&quot;});\n",
       "\n",
       "        \n",
       "            \n",
       "                var html_01fe5a3781c8ead2ac9bbd938aeadb58 = $(`&lt;div id=&quot;html_01fe5a3781c8ead2ac9bbd938aeadb58&quot; style=&quot;width: 100.0%; height: 100.0%;&quot;&gt;Client Location: 48.7195382, 1.3776703&lt;/div&gt;`)[0];\n",
       "                popup_613b5c4a85f00485921a6a8640011c3e.setContent(html_01fe5a3781c8ead2ac9bbd938aeadb58);\n",
       "            \n",
       "        \n",
       "\n",
       "        marker_1fd1fac808d4798d4d72bca1fd1b0849.bindPopup(popup_613b5c4a85f00485921a6a8640011c3e)\n",
       "        ;\n",
       "\n",
       "        \n",
       "    \n",
       "    \n",
       "            var marker_aceb766c4af7cf2ae122b92d78b6a800 = L.marker(\n",
       "                [48.7355841, 1.3829868],\n",
       "                {}\n",
       "            ).addTo(map_9e1f10ac299527b8b81fbd3a89f1f998);\n",
       "        \n",
       "    \n",
       "            var icon_6030e7156dcb0d52aa284cd96df33ddc = L.AwesomeMarkers.icon(\n",
       "                {&quot;extraClasses&quot;: &quot;fa-rotate-0&quot;, &quot;icon&quot;: &quot;info-sign&quot;, &quot;iconColor&quot;: &quot;white&quot;, &quot;markerColor&quot;: &quot;blue&quot;, &quot;prefix&quot;: &quot;glyphicon&quot;}\n",
       "            );\n",
       "            marker_aceb766c4af7cf2ae122b92d78b6a800.setIcon(icon_6030e7156dcb0d52aa284cd96df33ddc);\n",
       "        \n",
       "    \n",
       "        var popup_2e7806382416ae061c6d52eb1f890e2f = L.popup({&quot;maxWidth&quot;: &quot;100%&quot;});\n",
       "\n",
       "        \n",
       "            \n",
       "                var html_2b158cb7139049093b9210208e57a10a = $(`&lt;div id=&quot;html_2b158cb7139049093b9210208e57a10a&quot; style=&quot;width: 100.0%; height: 100.0%;&quot;&gt;Client Location: 48.7355841, 1.3829868&lt;/div&gt;`)[0];\n",
       "                popup_2e7806382416ae061c6d52eb1f890e2f.setContent(html_2b158cb7139049093b9210208e57a10a);\n",
       "            \n",
       "        \n",
       "\n",
       "        marker_aceb766c4af7cf2ae122b92d78b6a800.bindPopup(popup_2e7806382416ae061c6d52eb1f890e2f)\n",
       "        ;\n",
       "\n",
       "        \n",
       "    \n",
       "    \n",
       "            var marker_b7645a66c4f925606ebcf9adf91e428f = L.marker(\n",
       "                [48.8311226, 1.3831702],\n",
       "                {}\n",
       "            ).addTo(map_9e1f10ac299527b8b81fbd3a89f1f998);\n",
       "        \n",
       "    \n",
       "            var icon_7dc37263d487450e244574d66a8789c4 = L.AwesomeMarkers.icon(\n",
       "                {&quot;extraClasses&quot;: &quot;fa-rotate-0&quot;, &quot;icon&quot;: &quot;info-sign&quot;, &quot;iconColor&quot;: &quot;white&quot;, &quot;markerColor&quot;: &quot;blue&quot;, &quot;prefix&quot;: &quot;glyphicon&quot;}\n",
       "            );\n",
       "            marker_b7645a66c4f925606ebcf9adf91e428f.setIcon(icon_7dc37263d487450e244574d66a8789c4);\n",
       "        \n",
       "    \n",
       "        var popup_39bf91a0845adddc426fc9b584faac9f = L.popup({&quot;maxWidth&quot;: &quot;100%&quot;});\n",
       "\n",
       "        \n",
       "            \n",
       "                var html_e3150f34a4ab9a64440c1e79732b5e28 = $(`&lt;div id=&quot;html_e3150f34a4ab9a64440c1e79732b5e28&quot; style=&quot;width: 100.0%; height: 100.0%;&quot;&gt;Client Location: 48.8311226, 1.3831702&lt;/div&gt;`)[0];\n",
       "                popup_39bf91a0845adddc426fc9b584faac9f.setContent(html_e3150f34a4ab9a64440c1e79732b5e28);\n",
       "            \n",
       "        \n",
       "\n",
       "        marker_b7645a66c4f925606ebcf9adf91e428f.bindPopup(popup_39bf91a0845adddc426fc9b584faac9f)\n",
       "        ;\n",
       "\n",
       "        \n",
       "    \n",
       "    \n",
       "            var marker_46f617f2b148d812321f556b771a8d56 = L.marker(\n",
       "                [48.7769684, 1.3802555],\n",
       "                {}\n",
       "            ).addTo(map_9e1f10ac299527b8b81fbd3a89f1f998);\n",
       "        \n",
       "    \n",
       "            var icon_ad1e3f8fc2ccf001e40569d37671c08d = L.AwesomeMarkers.icon(\n",
       "                {&quot;extraClasses&quot;: &quot;fa-rotate-0&quot;, &quot;icon&quot;: &quot;info-sign&quot;, &quot;iconColor&quot;: &quot;white&quot;, &quot;markerColor&quot;: &quot;blue&quot;, &quot;prefix&quot;: &quot;glyphicon&quot;}\n",
       "            );\n",
       "            marker_46f617f2b148d812321f556b771a8d56.setIcon(icon_ad1e3f8fc2ccf001e40569d37671c08d);\n",
       "        \n",
       "    \n",
       "        var popup_33b3effd2aae05e350c3c76ca5dc798e = L.popup({&quot;maxWidth&quot;: &quot;100%&quot;});\n",
       "\n",
       "        \n",
       "            \n",
       "                var html_17de8c5310fcb19830bc5372c9a3ff23 = $(`&lt;div id=&quot;html_17de8c5310fcb19830bc5372c9a3ff23&quot; style=&quot;width: 100.0%; height: 100.0%;&quot;&gt;Client Location: 48.7769684, 1.3802555&lt;/div&gt;`)[0];\n",
       "                popup_33b3effd2aae05e350c3c76ca5dc798e.setContent(html_17de8c5310fcb19830bc5372c9a3ff23);\n",
       "            \n",
       "        \n",
       "\n",
       "        marker_46f617f2b148d812321f556b771a8d56.bindPopup(popup_33b3effd2aae05e350c3c76ca5dc798e)\n",
       "        ;\n",
       "\n",
       "        \n",
       "    \n",
       "    \n",
       "            var marker_4db104789b677ef8bfee9d74afc6a2e4 = L.marker(\n",
       "                [48.742378, 1.367416],\n",
       "                {}\n",
       "            ).addTo(map_9e1f10ac299527b8b81fbd3a89f1f998);\n",
       "        \n",
       "    \n",
       "            var icon_fbb7102366bb238a2d508b441b2b01a6 = L.AwesomeMarkers.icon(\n",
       "                {&quot;extraClasses&quot;: &quot;fa-rotate-0&quot;, &quot;icon&quot;: &quot;info-sign&quot;, &quot;iconColor&quot;: &quot;white&quot;, &quot;markerColor&quot;: &quot;blue&quot;, &quot;prefix&quot;: &quot;glyphicon&quot;}\n",
       "            );\n",
       "            marker_4db104789b677ef8bfee9d74afc6a2e4.setIcon(icon_fbb7102366bb238a2d508b441b2b01a6);\n",
       "        \n",
       "    \n",
       "        var popup_e8981a87500b333e5e6271ab5ab7a661 = L.popup({&quot;maxWidth&quot;: &quot;100%&quot;});\n",
       "\n",
       "        \n",
       "            \n",
       "                var html_7b44208fd4059b8ddd7454f34470820d = $(`&lt;div id=&quot;html_7b44208fd4059b8ddd7454f34470820d&quot; style=&quot;width: 100.0%; height: 100.0%;&quot;&gt;Client Location: 48.742378, 1.367416&lt;/div&gt;`)[0];\n",
       "                popup_e8981a87500b333e5e6271ab5ab7a661.setContent(html_7b44208fd4059b8ddd7454f34470820d);\n",
       "            \n",
       "        \n",
       "\n",
       "        marker_4db104789b677ef8bfee9d74afc6a2e4.bindPopup(popup_e8981a87500b333e5e6271ab5ab7a661)\n",
       "        ;\n",
       "\n",
       "        \n",
       "    \n",
       "    \n",
       "            var marker_188d1d356fd661e2ad96e94899df5bde = L.marker(\n",
       "                [48.7312702, 1.337325],\n",
       "                {}\n",
       "            ).addTo(map_9e1f10ac299527b8b81fbd3a89f1f998);\n",
       "        \n",
       "    \n",
       "            var icon_b343b9a3b0a332fd2f7e85a574150d45 = L.AwesomeMarkers.icon(\n",
       "                {&quot;extraClasses&quot;: &quot;fa-rotate-0&quot;, &quot;icon&quot;: &quot;info-sign&quot;, &quot;iconColor&quot;: &quot;white&quot;, &quot;markerColor&quot;: &quot;blue&quot;, &quot;prefix&quot;: &quot;glyphicon&quot;}\n",
       "            );\n",
       "            marker_188d1d356fd661e2ad96e94899df5bde.setIcon(icon_b343b9a3b0a332fd2f7e85a574150d45);\n",
       "        \n",
       "    \n",
       "        var popup_6f34ff897dec58029bedea67cb8e2f19 = L.popup({&quot;maxWidth&quot;: &quot;100%&quot;});\n",
       "\n",
       "        \n",
       "            \n",
       "                var html_2868a2c1252a4cd06dad53cd2773fe52 = $(`&lt;div id=&quot;html_2868a2c1252a4cd06dad53cd2773fe52&quot; style=&quot;width: 100.0%; height: 100.0%;&quot;&gt;Client Location: 48.7312702, 1.337325&lt;/div&gt;`)[0];\n",
       "                popup_6f34ff897dec58029bedea67cb8e2f19.setContent(html_2868a2c1252a4cd06dad53cd2773fe52);\n",
       "            \n",
       "        \n",
       "\n",
       "        marker_188d1d356fd661e2ad96e94899df5bde.bindPopup(popup_6f34ff897dec58029bedea67cb8e2f19)\n",
       "        ;\n",
       "\n",
       "        \n",
       "    \n",
       "    \n",
       "            var marker_8db1a7210224b0e7984136d384a920cf = L.marker(\n",
       "                [48.771381, 1.292168],\n",
       "                {}\n",
       "            ).addTo(map_9e1f10ac299527b8b81fbd3a89f1f998);\n",
       "        \n",
       "    \n",
       "            var icon_ddb66e8ef53b7de810d9a93ff7404134 = L.AwesomeMarkers.icon(\n",
       "                {&quot;extraClasses&quot;: &quot;fa-rotate-0&quot;, &quot;icon&quot;: &quot;info-sign&quot;, &quot;iconColor&quot;: &quot;white&quot;, &quot;markerColor&quot;: &quot;blue&quot;, &quot;prefix&quot;: &quot;glyphicon&quot;}\n",
       "            );\n",
       "            marker_8db1a7210224b0e7984136d384a920cf.setIcon(icon_ddb66e8ef53b7de810d9a93ff7404134);\n",
       "        \n",
       "    \n",
       "        var popup_b8c45a689ec5ecd93cfe1d74a656664e = L.popup({&quot;maxWidth&quot;: &quot;100%&quot;});\n",
       "\n",
       "        \n",
       "            \n",
       "                var html_256481691eb6cc6ebe31279aaf6704e7 = $(`&lt;div id=&quot;html_256481691eb6cc6ebe31279aaf6704e7&quot; style=&quot;width: 100.0%; height: 100.0%;&quot;&gt;Client Location: 48.771381, 1.292168&lt;/div&gt;`)[0];\n",
       "                popup_b8c45a689ec5ecd93cfe1d74a656664e.setContent(html_256481691eb6cc6ebe31279aaf6704e7);\n",
       "            \n",
       "        \n",
       "\n",
       "        marker_8db1a7210224b0e7984136d384a920cf.bindPopup(popup_b8c45a689ec5ecd93cfe1d74a656664e)\n",
       "        ;\n",
       "\n",
       "        \n",
       "    \n",
       "    \n",
       "            var marker_0c1639b2e2cb9c8f9de84f3609f222f7 = L.marker(\n",
       "                [48.7428046, 1.351704],\n",
       "                {}\n",
       "            ).addTo(map_9e1f10ac299527b8b81fbd3a89f1f998);\n",
       "        \n",
       "    \n",
       "            var icon_24b4ec876ae0deee616bd64429920b67 = L.AwesomeMarkers.icon(\n",
       "                {&quot;extraClasses&quot;: &quot;fa-rotate-0&quot;, &quot;icon&quot;: &quot;info-sign&quot;, &quot;iconColor&quot;: &quot;white&quot;, &quot;markerColor&quot;: &quot;blue&quot;, &quot;prefix&quot;: &quot;glyphicon&quot;}\n",
       "            );\n",
       "            marker_0c1639b2e2cb9c8f9de84f3609f222f7.setIcon(icon_24b4ec876ae0deee616bd64429920b67);\n",
       "        \n",
       "    \n",
       "        var popup_d0184a5b615be6222df2029f3f14d030 = L.popup({&quot;maxWidth&quot;: &quot;100%&quot;});\n",
       "\n",
       "        \n",
       "            \n",
       "                var html_4ab8b714b4ecdb7b5a343fd8dfdeb2dc = $(`&lt;div id=&quot;html_4ab8b714b4ecdb7b5a343fd8dfdeb2dc&quot; style=&quot;width: 100.0%; height: 100.0%;&quot;&gt;Client Location: 48.7428046, 1.351704&lt;/div&gt;`)[0];\n",
       "                popup_d0184a5b615be6222df2029f3f14d030.setContent(html_4ab8b714b4ecdb7b5a343fd8dfdeb2dc);\n",
       "            \n",
       "        \n",
       "\n",
       "        marker_0c1639b2e2cb9c8f9de84f3609f222f7.bindPopup(popup_d0184a5b615be6222df2029f3f14d030)\n",
       "        ;\n",
       "\n",
       "        \n",
       "    \n",
       "    \n",
       "            var marker_61118c4e6db71ec6ddd7557775e34b12 = L.marker(\n",
       "                [48.7768008, 1.3704169],\n",
       "                {}\n",
       "            ).addTo(map_9e1f10ac299527b8b81fbd3a89f1f998);\n",
       "        \n",
       "    \n",
       "            var icon_0a08215e1e423f3b5b6bc0da86bdcacc = L.AwesomeMarkers.icon(\n",
       "                {&quot;extraClasses&quot;: &quot;fa-rotate-0&quot;, &quot;icon&quot;: &quot;info-sign&quot;, &quot;iconColor&quot;: &quot;white&quot;, &quot;markerColor&quot;: &quot;blue&quot;, &quot;prefix&quot;: &quot;glyphicon&quot;}\n",
       "            );\n",
       "            marker_61118c4e6db71ec6ddd7557775e34b12.setIcon(icon_0a08215e1e423f3b5b6bc0da86bdcacc);\n",
       "        \n",
       "    \n",
       "        var popup_a5f208b3a055f4b4f8a8ea83c424bbd3 = L.popup({&quot;maxWidth&quot;: &quot;100%&quot;});\n",
       "\n",
       "        \n",
       "            \n",
       "                var html_184dfe77312dad1302cc7c9fed80796b = $(`&lt;div id=&quot;html_184dfe77312dad1302cc7c9fed80796b&quot; style=&quot;width: 100.0%; height: 100.0%;&quot;&gt;Client Location: 48.7768008, 1.3704169&lt;/div&gt;`)[0];\n",
       "                popup_a5f208b3a055f4b4f8a8ea83c424bbd3.setContent(html_184dfe77312dad1302cc7c9fed80796b);\n",
       "            \n",
       "        \n",
       "\n",
       "        marker_61118c4e6db71ec6ddd7557775e34b12.bindPopup(popup_a5f208b3a055f4b4f8a8ea83c424bbd3)\n",
       "        ;\n",
       "\n",
       "        \n",
       "    \n",
       "    \n",
       "            var marker_0f86cfd5d7d15d7485d3bc2f8a6bc63d = L.marker(\n",
       "                [48.7334839, 1.3710466],\n",
       "                {}\n",
       "            ).addTo(map_9e1f10ac299527b8b81fbd3a89f1f998);\n",
       "        \n",
       "    \n",
       "            var icon_4f6ca677de393c2d0e5e8f2238da1fdd = L.AwesomeMarkers.icon(\n",
       "                {&quot;extraClasses&quot;: &quot;fa-rotate-0&quot;, &quot;icon&quot;: &quot;info-sign&quot;, &quot;iconColor&quot;: &quot;white&quot;, &quot;markerColor&quot;: &quot;blue&quot;, &quot;prefix&quot;: &quot;glyphicon&quot;}\n",
       "            );\n",
       "            marker_0f86cfd5d7d15d7485d3bc2f8a6bc63d.setIcon(icon_4f6ca677de393c2d0e5e8f2238da1fdd);\n",
       "        \n",
       "    \n",
       "        var popup_5a568c22de5e2eec2b653784719d5569 = L.popup({&quot;maxWidth&quot;: &quot;100%&quot;});\n",
       "\n",
       "        \n",
       "            \n",
       "                var html_7ddc83c964884f37800b0c87097575fc = $(`&lt;div id=&quot;html_7ddc83c964884f37800b0c87097575fc&quot; style=&quot;width: 100.0%; height: 100.0%;&quot;&gt;Client Location: 48.7334839, 1.3710466&lt;/div&gt;`)[0];\n",
       "                popup_5a568c22de5e2eec2b653784719d5569.setContent(html_7ddc83c964884f37800b0c87097575fc);\n",
       "            \n",
       "        \n",
       "\n",
       "        marker_0f86cfd5d7d15d7485d3bc2f8a6bc63d.bindPopup(popup_5a568c22de5e2eec2b653784719d5569)\n",
       "        ;\n",
       "\n",
       "        \n",
       "    \n",
       "    \n",
       "            var marker_3f82a93fa3a137b239c05bf9b119a2ec = L.marker(\n",
       "                [48.758928, 1.249739],\n",
       "                {}\n",
       "            ).addTo(map_9e1f10ac299527b8b81fbd3a89f1f998);\n",
       "        \n",
       "    \n",
       "            var icon_4262dca72f4a566354591fee73dbcfa5 = L.AwesomeMarkers.icon(\n",
       "                {&quot;extraClasses&quot;: &quot;fa-rotate-0&quot;, &quot;icon&quot;: &quot;info-sign&quot;, &quot;iconColor&quot;: &quot;white&quot;, &quot;markerColor&quot;: &quot;blue&quot;, &quot;prefix&quot;: &quot;glyphicon&quot;}\n",
       "            );\n",
       "            marker_3f82a93fa3a137b239c05bf9b119a2ec.setIcon(icon_4262dca72f4a566354591fee73dbcfa5);\n",
       "        \n",
       "    \n",
       "        var popup_984bfd6f4434df3bea66f2923a23a7f1 = L.popup({&quot;maxWidth&quot;: &quot;100%&quot;});\n",
       "\n",
       "        \n",
       "            \n",
       "                var html_a14433d16a5d78027010c718e1f77b00 = $(`&lt;div id=&quot;html_a14433d16a5d78027010c718e1f77b00&quot; style=&quot;width: 100.0%; height: 100.0%;&quot;&gt;Client Location: 48.758928, 1.249739&lt;/div&gt;`)[0];\n",
       "                popup_984bfd6f4434df3bea66f2923a23a7f1.setContent(html_a14433d16a5d78027010c718e1f77b00);\n",
       "            \n",
       "        \n",
       "\n",
       "        marker_3f82a93fa3a137b239c05bf9b119a2ec.bindPopup(popup_984bfd6f4434df3bea66f2923a23a7f1)\n",
       "        ;\n",
       "\n",
       "        \n",
       "    \n",
       "    \n",
       "            var marker_ab42f1bbd078c53157671a42749f31f8 = L.marker(\n",
       "                [48.7385156, 1.3919715],\n",
       "                {}\n",
       "            ).addTo(map_9e1f10ac299527b8b81fbd3a89f1f998);\n",
       "        \n",
       "    \n",
       "            var icon_60af3dacfe38091584f21faf6c1f5529 = L.AwesomeMarkers.icon(\n",
       "                {&quot;extraClasses&quot;: &quot;fa-rotate-0&quot;, &quot;icon&quot;: &quot;info-sign&quot;, &quot;iconColor&quot;: &quot;white&quot;, &quot;markerColor&quot;: &quot;red&quot;, &quot;prefix&quot;: &quot;glyphicon&quot;}\n",
       "            );\n",
       "            marker_ab42f1bbd078c53157671a42749f31f8.setIcon(icon_60af3dacfe38091584f21faf6c1f5529);\n",
       "        \n",
       "    \n",
       "        var popup_86dbfa58be420c00f993a9f79b1dd80c = L.popup({&quot;maxWidth&quot;: &quot;100%&quot;});\n",
       "\n",
       "        \n",
       "            \n",
       "                var html_4fb7f4e62386ea8c5e4fa9057056936e = $(`&lt;div id=&quot;html_4fb7f4e62386ea8c5e4fa9057056936e&quot; style=&quot;width: 100.0%; height: 100.0%;&quot;&gt;Intervenant Location: 48.7385156, 1.3919715&lt;/div&gt;`)[0];\n",
       "                popup_86dbfa58be420c00f993a9f79b1dd80c.setContent(html_4fb7f4e62386ea8c5e4fa9057056936e);\n",
       "            \n",
       "        \n",
       "\n",
       "        marker_ab42f1bbd078c53157671a42749f31f8.bindPopup(popup_86dbfa58be420c00f993a9f79b1dd80c)\n",
       "        ;\n",
       "\n",
       "        \n",
       "    \n",
       "    \n",
       "            var marker_9d133854a5200b2da7294db5801de5be = L.marker(\n",
       "                [48.6405554, 1.2325806],\n",
       "                {}\n",
       "            ).addTo(map_9e1f10ac299527b8b81fbd3a89f1f998);\n",
       "        \n",
       "    \n",
       "            var icon_6af6895e3f69f677ea7d303cb87cf941 = L.AwesomeMarkers.icon(\n",
       "                {&quot;extraClasses&quot;: &quot;fa-rotate-0&quot;, &quot;icon&quot;: &quot;info-sign&quot;, &quot;iconColor&quot;: &quot;white&quot;, &quot;markerColor&quot;: &quot;red&quot;, &quot;prefix&quot;: &quot;glyphicon&quot;}\n",
       "            );\n",
       "            marker_9d133854a5200b2da7294db5801de5be.setIcon(icon_6af6895e3f69f677ea7d303cb87cf941);\n",
       "        \n",
       "    \n",
       "        var popup_4abb5f3383622ad498a4fb21fdff7e3a = L.popup({&quot;maxWidth&quot;: &quot;100%&quot;});\n",
       "\n",
       "        \n",
       "            \n",
       "                var html_d3d6a619b67ee7e451904cca9f21538e = $(`&lt;div id=&quot;html_d3d6a619b67ee7e451904cca9f21538e&quot; style=&quot;width: 100.0%; height: 100.0%;&quot;&gt;Intervenant Location: 48.6405554, 1.2325806&lt;/div&gt;`)[0];\n",
       "                popup_4abb5f3383622ad498a4fb21fdff7e3a.setContent(html_d3d6a619b67ee7e451904cca9f21538e);\n",
       "            \n",
       "        \n",
       "\n",
       "        marker_9d133854a5200b2da7294db5801de5be.bindPopup(popup_4abb5f3383622ad498a4fb21fdff7e3a)\n",
       "        ;\n",
       "\n",
       "        \n",
       "    \n",
       "    \n",
       "            var marker_9188396004392fca18cc1864392606ba = L.marker(\n",
       "                [48.7292064, 1.3719853],\n",
       "                {}\n",
       "            ).addTo(map_9e1f10ac299527b8b81fbd3a89f1f998);\n",
       "        \n",
       "    \n",
       "            var icon_eb8483527dd4cca5f18dda76c96d72a7 = L.AwesomeMarkers.icon(\n",
       "                {&quot;extraClasses&quot;: &quot;fa-rotate-0&quot;, &quot;icon&quot;: &quot;info-sign&quot;, &quot;iconColor&quot;: &quot;white&quot;, &quot;markerColor&quot;: &quot;red&quot;, &quot;prefix&quot;: &quot;glyphicon&quot;}\n",
       "            );\n",
       "            marker_9188396004392fca18cc1864392606ba.setIcon(icon_eb8483527dd4cca5f18dda76c96d72a7);\n",
       "        \n",
       "    \n",
       "        var popup_dc0c5770411e3d5d69c4336bb339f0d5 = L.popup({&quot;maxWidth&quot;: &quot;100%&quot;});\n",
       "\n",
       "        \n",
       "            \n",
       "                var html_77936e8218acfec3628f6b357c12e3cd = $(`&lt;div id=&quot;html_77936e8218acfec3628f6b357c12e3cd&quot; style=&quot;width: 100.0%; height: 100.0%;&quot;&gt;Intervenant Location: 48.7292064, 1.3719853&lt;/div&gt;`)[0];\n",
       "                popup_dc0c5770411e3d5d69c4336bb339f0d5.setContent(html_77936e8218acfec3628f6b357c12e3cd);\n",
       "            \n",
       "        \n",
       "\n",
       "        marker_9188396004392fca18cc1864392606ba.bindPopup(popup_dc0c5770411e3d5d69c4336bb339f0d5)\n",
       "        ;\n",
       "\n",
       "        \n",
       "    \n",
       "    \n",
       "            var marker_ca40e0053425d293d333e48c5246741a = L.marker(\n",
       "                [48.7447023, 1.3579211],\n",
       "                {}\n",
       "            ).addTo(map_9e1f10ac299527b8b81fbd3a89f1f998);\n",
       "        \n",
       "    \n",
       "            var icon_18df1508521231a71c47424702e99d92 = L.AwesomeMarkers.icon(\n",
       "                {&quot;extraClasses&quot;: &quot;fa-rotate-0&quot;, &quot;icon&quot;: &quot;info-sign&quot;, &quot;iconColor&quot;: &quot;white&quot;, &quot;markerColor&quot;: &quot;red&quot;, &quot;prefix&quot;: &quot;glyphicon&quot;}\n",
       "            );\n",
       "            marker_ca40e0053425d293d333e48c5246741a.setIcon(icon_18df1508521231a71c47424702e99d92);\n",
       "        \n",
       "    \n",
       "        var popup_1de0c905c3cafaf817255f61484dba29 = L.popup({&quot;maxWidth&quot;: &quot;100%&quot;});\n",
       "\n",
       "        \n",
       "            \n",
       "                var html_5d8d8b0fb07a2a14ccc5d9e76b23dbc4 = $(`&lt;div id=&quot;html_5d8d8b0fb07a2a14ccc5d9e76b23dbc4&quot; style=&quot;width: 100.0%; height: 100.0%;&quot;&gt;Intervenant Location: 48.7447023, 1.3579211&lt;/div&gt;`)[0];\n",
       "                popup_1de0c905c3cafaf817255f61484dba29.setContent(html_5d8d8b0fb07a2a14ccc5d9e76b23dbc4);\n",
       "            \n",
       "        \n",
       "\n",
       "        marker_ca40e0053425d293d333e48c5246741a.bindPopup(popup_1de0c905c3cafaf817255f61484dba29)\n",
       "        ;\n",
       "\n",
       "        \n",
       "    \n",
       "    \n",
       "            var marker_ff0e203890b8cac24a2c0d1b23d7b783 = L.marker(\n",
       "                [48.7694552, 1.1976441],\n",
       "                {}\n",
       "            ).addTo(map_9e1f10ac299527b8b81fbd3a89f1f998);\n",
       "        \n",
       "    \n",
       "            var icon_8c0ec088ba21ad45c89baad84f54117e = L.AwesomeMarkers.icon(\n",
       "                {&quot;extraClasses&quot;: &quot;fa-rotate-0&quot;, &quot;icon&quot;: &quot;info-sign&quot;, &quot;iconColor&quot;: &quot;white&quot;, &quot;markerColor&quot;: &quot;red&quot;, &quot;prefix&quot;: &quot;glyphicon&quot;}\n",
       "            );\n",
       "            marker_ff0e203890b8cac24a2c0d1b23d7b783.setIcon(icon_8c0ec088ba21ad45c89baad84f54117e);\n",
       "        \n",
       "    \n",
       "        var popup_f52b55b0a7ba549fcaa895027b3514ed = L.popup({&quot;maxWidth&quot;: &quot;100%&quot;});\n",
       "\n",
       "        \n",
       "            \n",
       "                var html_c17ef591e4f705c27710cc22afe405cc = $(`&lt;div id=&quot;html_c17ef591e4f705c27710cc22afe405cc&quot; style=&quot;width: 100.0%; height: 100.0%;&quot;&gt;Intervenant Location: 48.7694552, 1.1976441&lt;/div&gt;`)[0];\n",
       "                popup_f52b55b0a7ba549fcaa895027b3514ed.setContent(html_c17ef591e4f705c27710cc22afe405cc);\n",
       "            \n",
       "        \n",
       "\n",
       "        marker_ff0e203890b8cac24a2c0d1b23d7b783.bindPopup(popup_f52b55b0a7ba549fcaa895027b3514ed)\n",
       "        ;\n",
       "\n",
       "        \n",
       "    \n",
       "    \n",
       "            var marker_456502e6eb776a0ad7b2e5c58cd8acc6 = L.marker(\n",
       "                [48.712418, 1.3562779],\n",
       "                {}\n",
       "            ).addTo(map_9e1f10ac299527b8b81fbd3a89f1f998);\n",
       "        \n",
       "    \n",
       "            var icon_26f48329548d29356c8526e2d9fe50fb = L.AwesomeMarkers.icon(\n",
       "                {&quot;extraClasses&quot;: &quot;fa-rotate-0&quot;, &quot;icon&quot;: &quot;info-sign&quot;, &quot;iconColor&quot;: &quot;white&quot;, &quot;markerColor&quot;: &quot;red&quot;, &quot;prefix&quot;: &quot;glyphicon&quot;}\n",
       "            );\n",
       "            marker_456502e6eb776a0ad7b2e5c58cd8acc6.setIcon(icon_26f48329548d29356c8526e2d9fe50fb);\n",
       "        \n",
       "    \n",
       "        var popup_dd76e11b4942d4530e0c6814f2215e1c = L.popup({&quot;maxWidth&quot;: &quot;100%&quot;});\n",
       "\n",
       "        \n",
       "            \n",
       "                var html_23916c7d1cdba00ee49a7396dd2c22fd = $(`&lt;div id=&quot;html_23916c7d1cdba00ee49a7396dd2c22fd&quot; style=&quot;width: 100.0%; height: 100.0%;&quot;&gt;Intervenant Location: 48.712418, 1.3562779&lt;/div&gt;`)[0];\n",
       "                popup_dd76e11b4942d4530e0c6814f2215e1c.setContent(html_23916c7d1cdba00ee49a7396dd2c22fd);\n",
       "            \n",
       "        \n",
       "\n",
       "        marker_456502e6eb776a0ad7b2e5c58cd8acc6.bindPopup(popup_dd76e11b4942d4530e0c6814f2215e1c)\n",
       "        ;\n",
       "\n",
       "        \n",
       "    \n",
       "    \n",
       "            var marker_abaf55bed4b632dcfb9ff207825a7b8f = L.marker(\n",
       "                [48.7632262, 1.2411202],\n",
       "                {}\n",
       "            ).addTo(map_9e1f10ac299527b8b81fbd3a89f1f998);\n",
       "        \n",
       "    \n",
       "            var icon_d7a5702257e272fe41027272b76104a5 = L.AwesomeMarkers.icon(\n",
       "                {&quot;extraClasses&quot;: &quot;fa-rotate-0&quot;, &quot;icon&quot;: &quot;info-sign&quot;, &quot;iconColor&quot;: &quot;white&quot;, &quot;markerColor&quot;: &quot;red&quot;, &quot;prefix&quot;: &quot;glyphicon&quot;}\n",
       "            );\n",
       "            marker_abaf55bed4b632dcfb9ff207825a7b8f.setIcon(icon_d7a5702257e272fe41027272b76104a5);\n",
       "        \n",
       "    \n",
       "        var popup_65d9935ca84851368eb840bc863bbbae = L.popup({&quot;maxWidth&quot;: &quot;100%&quot;});\n",
       "\n",
       "        \n",
       "            \n",
       "                var html_8796459fc900107c694ca3bc2e38d87e = $(`&lt;div id=&quot;html_8796459fc900107c694ca3bc2e38d87e&quot; style=&quot;width: 100.0%; height: 100.0%;&quot;&gt;Intervenant Location: 48.7632262, 1.2411202&lt;/div&gt;`)[0];\n",
       "                popup_65d9935ca84851368eb840bc863bbbae.setContent(html_8796459fc900107c694ca3bc2e38d87e);\n",
       "            \n",
       "        \n",
       "\n",
       "        marker_abaf55bed4b632dcfb9ff207825a7b8f.bindPopup(popup_65d9935ca84851368eb840bc863bbbae)\n",
       "        ;\n",
       "\n",
       "        \n",
       "    \n",
       "    \n",
       "            var marker_b0db7decd4dcbe70e89391549bdd1784 = L.marker(\n",
       "                [48.6927148, 1.0731951],\n",
       "                {}\n",
       "            ).addTo(map_9e1f10ac299527b8b81fbd3a89f1f998);\n",
       "        \n",
       "    \n",
       "            var icon_b030eb28604961971e13035f6e69db05 = L.AwesomeMarkers.icon(\n",
       "                {&quot;extraClasses&quot;: &quot;fa-rotate-0&quot;, &quot;icon&quot;: &quot;info-sign&quot;, &quot;iconColor&quot;: &quot;white&quot;, &quot;markerColor&quot;: &quot;red&quot;, &quot;prefix&quot;: &quot;glyphicon&quot;}\n",
       "            );\n",
       "            marker_b0db7decd4dcbe70e89391549bdd1784.setIcon(icon_b030eb28604961971e13035f6e69db05);\n",
       "        \n",
       "    \n",
       "        var popup_d91dfba5f5edff0ebaccb0094a2bbde4 = L.popup({&quot;maxWidth&quot;: &quot;100%&quot;});\n",
       "\n",
       "        \n",
       "            \n",
       "                var html_ab6bac7bcbf88ee5a2b03a7631b257eb = $(`&lt;div id=&quot;html_ab6bac7bcbf88ee5a2b03a7631b257eb&quot; style=&quot;width: 100.0%; height: 100.0%;&quot;&gt;Intervenant Location: 48.6927148, 1.0731951&lt;/div&gt;`)[0];\n",
       "                popup_d91dfba5f5edff0ebaccb0094a2bbde4.setContent(html_ab6bac7bcbf88ee5a2b03a7631b257eb);\n",
       "            \n",
       "        \n",
       "\n",
       "        marker_b0db7decd4dcbe70e89391549bdd1784.bindPopup(popup_d91dfba5f5edff0ebaccb0094a2bbde4)\n",
       "        ;\n",
       "\n",
       "        \n",
       "    \n",
       "    \n",
       "            var marker_825a9d219d3cc5b263ec7392451270a0 = L.marker(\n",
       "                [48.6454179, 1.5230773],\n",
       "                {}\n",
       "            ).addTo(map_9e1f10ac299527b8b81fbd3a89f1f998);\n",
       "        \n",
       "    \n",
       "            var icon_5df7078bdfc9954829f745baf5b33d36 = L.AwesomeMarkers.icon(\n",
       "                {&quot;extraClasses&quot;: &quot;fa-rotate-0&quot;, &quot;icon&quot;: &quot;info-sign&quot;, &quot;iconColor&quot;: &quot;white&quot;, &quot;markerColor&quot;: &quot;red&quot;, &quot;prefix&quot;: &quot;glyphicon&quot;}\n",
       "            );\n",
       "            marker_825a9d219d3cc5b263ec7392451270a0.setIcon(icon_5df7078bdfc9954829f745baf5b33d36);\n",
       "        \n",
       "    \n",
       "        var popup_1a5b8a41154ecd7211803fe0bdb514d6 = L.popup({&quot;maxWidth&quot;: &quot;100%&quot;});\n",
       "\n",
       "        \n",
       "            \n",
       "                var html_dc0f18452a0cf60942025285419155df = $(`&lt;div id=&quot;html_dc0f18452a0cf60942025285419155df&quot; style=&quot;width: 100.0%; height: 100.0%;&quot;&gt;Intervenant Location: 48.6454179, 1.5230773&lt;/div&gt;`)[0];\n",
       "                popup_1a5b8a41154ecd7211803fe0bdb514d6.setContent(html_dc0f18452a0cf60942025285419155df);\n",
       "            \n",
       "        \n",
       "\n",
       "        marker_825a9d219d3cc5b263ec7392451270a0.bindPopup(popup_1a5b8a41154ecd7211803fe0bdb514d6)\n",
       "        ;\n",
       "\n",
       "        \n",
       "    \n",
       "    \n",
       "            var marker_eb5ab4253a9af52efe11b5756c8d91b9 = L.marker(\n",
       "                [48.7580989, 1.210611],\n",
       "                {}\n",
       "            ).addTo(map_9e1f10ac299527b8b81fbd3a89f1f998);\n",
       "        \n",
       "    \n",
       "            var icon_33d91c0d70005498fd1b9d1349fcef83 = L.AwesomeMarkers.icon(\n",
       "                {&quot;extraClasses&quot;: &quot;fa-rotate-0&quot;, &quot;icon&quot;: &quot;info-sign&quot;, &quot;iconColor&quot;: &quot;white&quot;, &quot;markerColor&quot;: &quot;red&quot;, &quot;prefix&quot;: &quot;glyphicon&quot;}\n",
       "            );\n",
       "            marker_eb5ab4253a9af52efe11b5756c8d91b9.setIcon(icon_33d91c0d70005498fd1b9d1349fcef83);\n",
       "        \n",
       "    \n",
       "        var popup_c609699e4f779c6cb9350ca0fda359da = L.popup({&quot;maxWidth&quot;: &quot;100%&quot;});\n",
       "\n",
       "        \n",
       "            \n",
       "                var html_39f7f40672b3765e578e0b6fef1fcb34 = $(`&lt;div id=&quot;html_39f7f40672b3765e578e0b6fef1fcb34&quot; style=&quot;width: 100.0%; height: 100.0%;&quot;&gt;Intervenant Location: 48.7580989, 1.210611&lt;/div&gt;`)[0];\n",
       "                popup_c609699e4f779c6cb9350ca0fda359da.setContent(html_39f7f40672b3765e578e0b6fef1fcb34);\n",
       "            \n",
       "        \n",
       "\n",
       "        marker_eb5ab4253a9af52efe11b5756c8d91b9.bindPopup(popup_c609699e4f779c6cb9350ca0fda359da)\n",
       "        ;\n",
       "\n",
       "        \n",
       "    \n",
       "    \n",
       "            var marker_16b36f7bb97b9843bfefed90631fa371 = L.marker(\n",
       "                [48.711115, 1.356134],\n",
       "                {}\n",
       "            ).addTo(map_9e1f10ac299527b8b81fbd3a89f1f998);\n",
       "        \n",
       "    \n",
       "            var icon_7c6d3816287f1f2a32b68f040165beed = L.AwesomeMarkers.icon(\n",
       "                {&quot;extraClasses&quot;: &quot;fa-rotate-0&quot;, &quot;icon&quot;: &quot;info-sign&quot;, &quot;iconColor&quot;: &quot;white&quot;, &quot;markerColor&quot;: &quot;red&quot;, &quot;prefix&quot;: &quot;glyphicon&quot;}\n",
       "            );\n",
       "            marker_16b36f7bb97b9843bfefed90631fa371.setIcon(icon_7c6d3816287f1f2a32b68f040165beed);\n",
       "        \n",
       "    \n",
       "        var popup_981e92dfd4eea7e35dffe926332ad860 = L.popup({&quot;maxWidth&quot;: &quot;100%&quot;});\n",
       "\n",
       "        \n",
       "            \n",
       "                var html_f7b789257c14c59bcd914b9686681e7f = $(`&lt;div id=&quot;html_f7b789257c14c59bcd914b9686681e7f&quot; style=&quot;width: 100.0%; height: 100.0%;&quot;&gt;Intervenant Location: 48.711115, 1.356134&lt;/div&gt;`)[0];\n",
       "                popup_981e92dfd4eea7e35dffe926332ad860.setContent(html_f7b789257c14c59bcd914b9686681e7f);\n",
       "            \n",
       "        \n",
       "\n",
       "        marker_16b36f7bb97b9843bfefed90631fa371.bindPopup(popup_981e92dfd4eea7e35dffe926332ad860)\n",
       "        ;\n",
       "\n",
       "        \n",
       "    \n",
       "    \n",
       "            var marker_400bcbe01fb1dc2958a7494929f033c0 = L.marker(\n",
       "                [48.689927, 1.351054],\n",
       "                {}\n",
       "            ).addTo(map_9e1f10ac299527b8b81fbd3a89f1f998);\n",
       "        \n",
       "    \n",
       "            var icon_29a9f97cb479629a7f76a70bea64f52d = L.AwesomeMarkers.icon(\n",
       "                {&quot;extraClasses&quot;: &quot;fa-rotate-0&quot;, &quot;icon&quot;: &quot;info-sign&quot;, &quot;iconColor&quot;: &quot;white&quot;, &quot;markerColor&quot;: &quot;red&quot;, &quot;prefix&quot;: &quot;glyphicon&quot;}\n",
       "            );\n",
       "            marker_400bcbe01fb1dc2958a7494929f033c0.setIcon(icon_29a9f97cb479629a7f76a70bea64f52d);\n",
       "        \n",
       "    \n",
       "        var popup_6796bb49b043a82511921ec9ba820554 = L.popup({&quot;maxWidth&quot;: &quot;100%&quot;});\n",
       "\n",
       "        \n",
       "            \n",
       "                var html_91966b1e41d91cfbb3c1ab4f2f8a6ec7 = $(`&lt;div id=&quot;html_91966b1e41d91cfbb3c1ab4f2f8a6ec7&quot; style=&quot;width: 100.0%; height: 100.0%;&quot;&gt;Intervenant Location: 48.689927, 1.351054&lt;/div&gt;`)[0];\n",
       "                popup_6796bb49b043a82511921ec9ba820554.setContent(html_91966b1e41d91cfbb3c1ab4f2f8a6ec7);\n",
       "            \n",
       "        \n",
       "\n",
       "        marker_400bcbe01fb1dc2958a7494929f033c0.bindPopup(popup_6796bb49b043a82511921ec9ba820554)\n",
       "        ;\n",
       "\n",
       "        \n",
       "    \n",
       "    \n",
       "            var marker_d03a291f5b6a46786597daf296004421 = L.marker(\n",
       "                [48.6603812, 1.5004603],\n",
       "                {}\n",
       "            ).addTo(map_9e1f10ac299527b8b81fbd3a89f1f998);\n",
       "        \n",
       "    \n",
       "            var icon_306bc03ec2a746d2b2fdb9f9b74ef715 = L.AwesomeMarkers.icon(\n",
       "                {&quot;extraClasses&quot;: &quot;fa-rotate-0&quot;, &quot;icon&quot;: &quot;info-sign&quot;, &quot;iconColor&quot;: &quot;white&quot;, &quot;markerColor&quot;: &quot;red&quot;, &quot;prefix&quot;: &quot;glyphicon&quot;}\n",
       "            );\n",
       "            marker_d03a291f5b6a46786597daf296004421.setIcon(icon_306bc03ec2a746d2b2fdb9f9b74ef715);\n",
       "        \n",
       "    \n",
       "        var popup_c622ebe6376b57847a5d96e56460affb = L.popup({&quot;maxWidth&quot;: &quot;100%&quot;});\n",
       "\n",
       "        \n",
       "            \n",
       "                var html_30db097128c06d780e388dd193950d1a = $(`&lt;div id=&quot;html_30db097128c06d780e388dd193950d1a&quot; style=&quot;width: 100.0%; height: 100.0%;&quot;&gt;Intervenant Location: 48.6603812, 1.5004603&lt;/div&gt;`)[0];\n",
       "                popup_c622ebe6376b57847a5d96e56460affb.setContent(html_30db097128c06d780e388dd193950d1a);\n",
       "            \n",
       "        \n",
       "\n",
       "        marker_d03a291f5b6a46786597daf296004421.bindPopup(popup_c622ebe6376b57847a5d96e56460affb)\n",
       "        ;\n",
       "\n",
       "        \n",
       "    \n",
       "    \n",
       "            var marker_11e62505a85efdf99c4401607c3f9db5 = L.marker(\n",
       "                [48.7209265, 1.3796637],\n",
       "                {}\n",
       "            ).addTo(map_9e1f10ac299527b8b81fbd3a89f1f998);\n",
       "        \n",
       "    \n",
       "            var icon_0f8cec4777eb6d4eac950ff735c62c2a = L.AwesomeMarkers.icon(\n",
       "                {&quot;extraClasses&quot;: &quot;fa-rotate-0&quot;, &quot;icon&quot;: &quot;info-sign&quot;, &quot;iconColor&quot;: &quot;white&quot;, &quot;markerColor&quot;: &quot;red&quot;, &quot;prefix&quot;: &quot;glyphicon&quot;}\n",
       "            );\n",
       "            marker_11e62505a85efdf99c4401607c3f9db5.setIcon(icon_0f8cec4777eb6d4eac950ff735c62c2a);\n",
       "        \n",
       "    \n",
       "        var popup_2cb34d590dc579506c6d7fcbd0362357 = L.popup({&quot;maxWidth&quot;: &quot;100%&quot;});\n",
       "\n",
       "        \n",
       "            \n",
       "                var html_78773089fc742d8f08eb5a714d0fd224 = $(`&lt;div id=&quot;html_78773089fc742d8f08eb5a714d0fd224&quot; style=&quot;width: 100.0%; height: 100.0%;&quot;&gt;Intervenant Location: 48.7209265, 1.3796637&lt;/div&gt;`)[0];\n",
       "                popup_2cb34d590dc579506c6d7fcbd0362357.setContent(html_78773089fc742d8f08eb5a714d0fd224);\n",
       "            \n",
       "        \n",
       "\n",
       "        marker_11e62505a85efdf99c4401607c3f9db5.bindPopup(popup_2cb34d590dc579506c6d7fcbd0362357)\n",
       "        ;\n",
       "\n",
       "        \n",
       "    \n",
       "    \n",
       "            var marker_0cc7c1cd08dbc2bd2363dc1c24eb8905 = L.marker(\n",
       "                [48.7447023, 1.3579211],\n",
       "                {}\n",
       "            ).addTo(map_9e1f10ac299527b8b81fbd3a89f1f998);\n",
       "        \n",
       "    \n",
       "            var icon_930bd71cb9015279855cd9c3061d262e = L.AwesomeMarkers.icon(\n",
       "                {&quot;extraClasses&quot;: &quot;fa-rotate-0&quot;, &quot;icon&quot;: &quot;info-sign&quot;, &quot;iconColor&quot;: &quot;white&quot;, &quot;markerColor&quot;: &quot;red&quot;, &quot;prefix&quot;: &quot;glyphicon&quot;}\n",
       "            );\n",
       "            marker_0cc7c1cd08dbc2bd2363dc1c24eb8905.setIcon(icon_930bd71cb9015279855cd9c3061d262e);\n",
       "        \n",
       "    \n",
       "        var popup_0f636f741c064687ea9363b755f61e9d = L.popup({&quot;maxWidth&quot;: &quot;100%&quot;});\n",
       "\n",
       "        \n",
       "            \n",
       "                var html_a7df42fdc1bacdd97fd7a4920c7e7a4d = $(`&lt;div id=&quot;html_a7df42fdc1bacdd97fd7a4920c7e7a4d&quot; style=&quot;width: 100.0%; height: 100.0%;&quot;&gt;Intervenant Location: 48.7447023, 1.3579211&lt;/div&gt;`)[0];\n",
       "                popup_0f636f741c064687ea9363b755f61e9d.setContent(html_a7df42fdc1bacdd97fd7a4920c7e7a4d);\n",
       "            \n",
       "        \n",
       "\n",
       "        marker_0cc7c1cd08dbc2bd2363dc1c24eb8905.bindPopup(popup_0f636f741c064687ea9363b755f61e9d)\n",
       "        ;\n",
       "\n",
       "        \n",
       "    \n",
       "    \n",
       "            var marker_4b0bd0cb08b605f8ddb7fabf4899b543 = L.marker(\n",
       "                [48.7302065, 1.3827051],\n",
       "                {}\n",
       "            ).addTo(map_9e1f10ac299527b8b81fbd3a89f1f998);\n",
       "        \n",
       "    \n",
       "            var icon_f20e6b318d6464b37de02526f5139389 = L.AwesomeMarkers.icon(\n",
       "                {&quot;extraClasses&quot;: &quot;fa-rotate-0&quot;, &quot;icon&quot;: &quot;info-sign&quot;, &quot;iconColor&quot;: &quot;white&quot;, &quot;markerColor&quot;: &quot;red&quot;, &quot;prefix&quot;: &quot;glyphicon&quot;}\n",
       "            );\n",
       "            marker_4b0bd0cb08b605f8ddb7fabf4899b543.setIcon(icon_f20e6b318d6464b37de02526f5139389);\n",
       "        \n",
       "    \n",
       "        var popup_ef313ffc76a043d17e4bcff9bcbeff83 = L.popup({&quot;maxWidth&quot;: &quot;100%&quot;});\n",
       "\n",
       "        \n",
       "            \n",
       "                var html_75fb851f06f8f85d7f093e1398b8e7ed = $(`&lt;div id=&quot;html_75fb851f06f8f85d7f093e1398b8e7ed&quot; style=&quot;width: 100.0%; height: 100.0%;&quot;&gt;Intervenant Location: 48.7302065, 1.3827051&lt;/div&gt;`)[0];\n",
       "                popup_ef313ffc76a043d17e4bcff9bcbeff83.setContent(html_75fb851f06f8f85d7f093e1398b8e7ed);\n",
       "            \n",
       "        \n",
       "\n",
       "        marker_4b0bd0cb08b605f8ddb7fabf4899b543.bindPopup(popup_ef313ffc76a043d17e4bcff9bcbeff83)\n",
       "        ;\n",
       "\n",
       "        \n",
       "    \n",
       "    \n",
       "            var marker_a6d8c897cad59fe39c240d45bb1f3a62 = L.marker(\n",
       "                [48.7389345, 1.3803568],\n",
       "                {}\n",
       "            ).addTo(map_9e1f10ac299527b8b81fbd3a89f1f998);\n",
       "        \n",
       "    \n",
       "            var icon_d3aa944e263b2b54a6f2291db91a8978 = L.AwesomeMarkers.icon(\n",
       "                {&quot;extraClasses&quot;: &quot;fa-rotate-0&quot;, &quot;icon&quot;: &quot;info-sign&quot;, &quot;iconColor&quot;: &quot;white&quot;, &quot;markerColor&quot;: &quot;red&quot;, &quot;prefix&quot;: &quot;glyphicon&quot;}\n",
       "            );\n",
       "            marker_a6d8c897cad59fe39c240d45bb1f3a62.setIcon(icon_d3aa944e263b2b54a6f2291db91a8978);\n",
       "        \n",
       "    \n",
       "        var popup_19bcd7989bdcf1d7db2e262fadfbb56c = L.popup({&quot;maxWidth&quot;: &quot;100%&quot;});\n",
       "\n",
       "        \n",
       "            \n",
       "                var html_81a1b19c9b188800a0f1a7ae0f5a0314 = $(`&lt;div id=&quot;html_81a1b19c9b188800a0f1a7ae0f5a0314&quot; style=&quot;width: 100.0%; height: 100.0%;&quot;&gt;Intervenant Location: 48.7389345, 1.3803568&lt;/div&gt;`)[0];\n",
       "                popup_19bcd7989bdcf1d7db2e262fadfbb56c.setContent(html_81a1b19c9b188800a0f1a7ae0f5a0314);\n",
       "            \n",
       "        \n",
       "\n",
       "        marker_a6d8c897cad59fe39c240d45bb1f3a62.bindPopup(popup_19bcd7989bdcf1d7db2e262fadfbb56c)\n",
       "        ;\n",
       "\n",
       "        \n",
       "    \n",
       "    \n",
       "            var marker_ab10a995031daedcd36a9d5c935742d1 = L.marker(\n",
       "                [48.728863, 1.3798422],\n",
       "                {}\n",
       "            ).addTo(map_9e1f10ac299527b8b81fbd3a89f1f998);\n",
       "        \n",
       "    \n",
       "            var icon_d03df84b539725687a5ea10b1a84144d = L.AwesomeMarkers.icon(\n",
       "                {&quot;extraClasses&quot;: &quot;fa-rotate-0&quot;, &quot;icon&quot;: &quot;info-sign&quot;, &quot;iconColor&quot;: &quot;white&quot;, &quot;markerColor&quot;: &quot;red&quot;, &quot;prefix&quot;: &quot;glyphicon&quot;}\n",
       "            );\n",
       "            marker_ab10a995031daedcd36a9d5c935742d1.setIcon(icon_d03df84b539725687a5ea10b1a84144d);\n",
       "        \n",
       "    \n",
       "        var popup_d326d13081796f7f80bcab58a8ab4b43 = L.popup({&quot;maxWidth&quot;: &quot;100%&quot;});\n",
       "\n",
       "        \n",
       "            \n",
       "                var html_237f13d24e363c1e126a1637555d5346 = $(`&lt;div id=&quot;html_237f13d24e363c1e126a1637555d5346&quot; style=&quot;width: 100.0%; height: 100.0%;&quot;&gt;Intervenant Location: 48.728863, 1.3798422&lt;/div&gt;`)[0];\n",
       "                popup_d326d13081796f7f80bcab58a8ab4b43.setContent(html_237f13d24e363c1e126a1637555d5346);\n",
       "            \n",
       "        \n",
       "\n",
       "        marker_ab10a995031daedcd36a9d5c935742d1.bindPopup(popup_d326d13081796f7f80bcab58a8ab4b43)\n",
       "        ;\n",
       "\n",
       "        \n",
       "    \n",
       "    \n",
       "            var marker_ccdc0cd82993d072bfcb9eeafe808db5 = L.marker(\n",
       "                [48.7325587, 1.374591],\n",
       "                {}\n",
       "            ).addTo(map_9e1f10ac299527b8b81fbd3a89f1f998);\n",
       "        \n",
       "    \n",
       "            var icon_4c98012e2a8c929f783fd619085ba028 = L.AwesomeMarkers.icon(\n",
       "                {&quot;extraClasses&quot;: &quot;fa-rotate-0&quot;, &quot;icon&quot;: &quot;info-sign&quot;, &quot;iconColor&quot;: &quot;white&quot;, &quot;markerColor&quot;: &quot;red&quot;, &quot;prefix&quot;: &quot;glyphicon&quot;}\n",
       "            );\n",
       "            marker_ccdc0cd82993d072bfcb9eeafe808db5.setIcon(icon_4c98012e2a8c929f783fd619085ba028);\n",
       "        \n",
       "    \n",
       "        var popup_cd2b01d44a5c83fab743d87eaa139c93 = L.popup({&quot;maxWidth&quot;: &quot;100%&quot;});\n",
       "\n",
       "        \n",
       "            \n",
       "                var html_1df35c0f0d34025470f11181ce1373e8 = $(`&lt;div id=&quot;html_1df35c0f0d34025470f11181ce1373e8&quot; style=&quot;width: 100.0%; height: 100.0%;&quot;&gt;Intervenant Location: 48.7325587, 1.374591&lt;/div&gt;`)[0];\n",
       "                popup_cd2b01d44a5c83fab743d87eaa139c93.setContent(html_1df35c0f0d34025470f11181ce1373e8);\n",
       "            \n",
       "        \n",
       "\n",
       "        marker_ccdc0cd82993d072bfcb9eeafe808db5.bindPopup(popup_cd2b01d44a5c83fab743d87eaa139c93)\n",
       "        ;\n",
       "\n",
       "        \n",
       "    \n",
       "    \n",
       "            var marker_35a98a3561e1de7b473eb8b434090484 = L.marker(\n",
       "                [48.8432071, 1.2531719],\n",
       "                {}\n",
       "            ).addTo(map_9e1f10ac299527b8b81fbd3a89f1f998);\n",
       "        \n",
       "    \n",
       "            var icon_6fb595f2eadb6a0a598f0c851c167400 = L.AwesomeMarkers.icon(\n",
       "                {&quot;extraClasses&quot;: &quot;fa-rotate-0&quot;, &quot;icon&quot;: &quot;info-sign&quot;, &quot;iconColor&quot;: &quot;white&quot;, &quot;markerColor&quot;: &quot;red&quot;, &quot;prefix&quot;: &quot;glyphicon&quot;}\n",
       "            );\n",
       "            marker_35a98a3561e1de7b473eb8b434090484.setIcon(icon_6fb595f2eadb6a0a598f0c851c167400);\n",
       "        \n",
       "    \n",
       "        var popup_3cdc9ef116128d88c53a29a888a40b1e = L.popup({&quot;maxWidth&quot;: &quot;100%&quot;});\n",
       "\n",
       "        \n",
       "            \n",
       "                var html_4dae5ada086cfcb4e6679599dc781af1 = $(`&lt;div id=&quot;html_4dae5ada086cfcb4e6679599dc781af1&quot; style=&quot;width: 100.0%; height: 100.0%;&quot;&gt;Intervenant Location: 48.8432071, 1.2531719&lt;/div&gt;`)[0];\n",
       "                popup_3cdc9ef116128d88c53a29a888a40b1e.setContent(html_4dae5ada086cfcb4e6679599dc781af1);\n",
       "            \n",
       "        \n",
       "\n",
       "        marker_35a98a3561e1de7b473eb8b434090484.bindPopup(popup_3cdc9ef116128d88c53a29a888a40b1e)\n",
       "        ;\n",
       "\n",
       "        \n",
       "    \n",
       "    \n",
       "            var marker_ff3c93d2ab9325fca7416e74aa0736e3 = L.marker(\n",
       "                [48.7222691, 1.3746477],\n",
       "                {}\n",
       "            ).addTo(map_9e1f10ac299527b8b81fbd3a89f1f998);\n",
       "        \n",
       "    \n",
       "            var icon_5bb18c68d6ff5c28d391c44d62eb6bf0 = L.AwesomeMarkers.icon(\n",
       "                {&quot;extraClasses&quot;: &quot;fa-rotate-0&quot;, &quot;icon&quot;: &quot;info-sign&quot;, &quot;iconColor&quot;: &quot;white&quot;, &quot;markerColor&quot;: &quot;red&quot;, &quot;prefix&quot;: &quot;glyphicon&quot;}\n",
       "            );\n",
       "            marker_ff3c93d2ab9325fca7416e74aa0736e3.setIcon(icon_5bb18c68d6ff5c28d391c44d62eb6bf0);\n",
       "        \n",
       "    \n",
       "        var popup_97f00f91e72241d7c0ef307344d63d56 = L.popup({&quot;maxWidth&quot;: &quot;100%&quot;});\n",
       "\n",
       "        \n",
       "            \n",
       "                var html_6567207feaa4b145f31c6df19994d765 = $(`&lt;div id=&quot;html_6567207feaa4b145f31c6df19994d765&quot; style=&quot;width: 100.0%; height: 100.0%;&quot;&gt;Intervenant Location: 48.7222691, 1.3746477&lt;/div&gt;`)[0];\n",
       "                popup_97f00f91e72241d7c0ef307344d63d56.setContent(html_6567207feaa4b145f31c6df19994d765);\n",
       "            \n",
       "        \n",
       "\n",
       "        marker_ff3c93d2ab9325fca7416e74aa0736e3.bindPopup(popup_97f00f91e72241d7c0ef307344d63d56)\n",
       "        ;\n",
       "\n",
       "        \n",
       "    \n",
       "    \n",
       "            var marker_e5e001b3c3ca5708b1d0ed28dd19f1ae = L.marker(\n",
       "                [48.75186, 1.303906],\n",
       "                {}\n",
       "            ).addTo(map_9e1f10ac299527b8b81fbd3a89f1f998);\n",
       "        \n",
       "    \n",
       "            var icon_cf18359ebe95d67b7db1ce68657b2d4f = L.AwesomeMarkers.icon(\n",
       "                {&quot;extraClasses&quot;: &quot;fa-rotate-0&quot;, &quot;icon&quot;: &quot;info-sign&quot;, &quot;iconColor&quot;: &quot;white&quot;, &quot;markerColor&quot;: &quot;red&quot;, &quot;prefix&quot;: &quot;glyphicon&quot;}\n",
       "            );\n",
       "            marker_e5e001b3c3ca5708b1d0ed28dd19f1ae.setIcon(icon_cf18359ebe95d67b7db1ce68657b2d4f);\n",
       "        \n",
       "    \n",
       "        var popup_3c60c878e009be51acb0d94a8e306a22 = L.popup({&quot;maxWidth&quot;: &quot;100%&quot;});\n",
       "\n",
       "        \n",
       "            \n",
       "                var html_ac090df06aab2d063a47d2f453585bfc = $(`&lt;div id=&quot;html_ac090df06aab2d063a47d2f453585bfc&quot; style=&quot;width: 100.0%; height: 100.0%;&quot;&gt;Intervenant Location: 48.75186, 1.303906&lt;/div&gt;`)[0];\n",
       "                popup_3c60c878e009be51acb0d94a8e306a22.setContent(html_ac090df06aab2d063a47d2f453585bfc);\n",
       "            \n",
       "        \n",
       "\n",
       "        marker_e5e001b3c3ca5708b1d0ed28dd19f1ae.bindPopup(popup_3c60c878e009be51acb0d94a8e306a22)\n",
       "        ;\n",
       "\n",
       "        \n",
       "    \n",
       "    \n",
       "            var marker_9ddf8315e05f7a10f186c62e93c68060 = L.marker(\n",
       "                [48.7613818, 1.2410824],\n",
       "                {}\n",
       "            ).addTo(map_9e1f10ac299527b8b81fbd3a89f1f998);\n",
       "        \n",
       "    \n",
       "            var icon_cf3c65bd31ed2697ba431e37307e7249 = L.AwesomeMarkers.icon(\n",
       "                {&quot;extraClasses&quot;: &quot;fa-rotate-0&quot;, &quot;icon&quot;: &quot;info-sign&quot;, &quot;iconColor&quot;: &quot;white&quot;, &quot;markerColor&quot;: &quot;red&quot;, &quot;prefix&quot;: &quot;glyphicon&quot;}\n",
       "            );\n",
       "            marker_9ddf8315e05f7a10f186c62e93c68060.setIcon(icon_cf3c65bd31ed2697ba431e37307e7249);\n",
       "        \n",
       "    \n",
       "        var popup_2e1209837b994e4f4553a851586bda29 = L.popup({&quot;maxWidth&quot;: &quot;100%&quot;});\n",
       "\n",
       "        \n",
       "            \n",
       "                var html_fc27045fe7783c9be1070b6fa0ece7d1 = $(`&lt;div id=&quot;html_fc27045fe7783c9be1070b6fa0ece7d1&quot; style=&quot;width: 100.0%; height: 100.0%;&quot;&gt;Intervenant Location: 48.7613818, 1.2410824&lt;/div&gt;`)[0];\n",
       "                popup_2e1209837b994e4f4553a851586bda29.setContent(html_fc27045fe7783c9be1070b6fa0ece7d1);\n",
       "            \n",
       "        \n",
       "\n",
       "        marker_9ddf8315e05f7a10f186c62e93c68060.bindPopup(popup_2e1209837b994e4f4553a851586bda29)\n",
       "        ;\n",
       "\n",
       "        \n",
       "    \n",
       "    \n",
       "            var marker_9d2625e64c96d2ccd41a9b0e6aa3a4fd = L.marker(\n",
       "                [48.7272205, 1.3414973],\n",
       "                {}\n",
       "            ).addTo(map_9e1f10ac299527b8b81fbd3a89f1f998);\n",
       "        \n",
       "    \n",
       "            var icon_191a97a71946227375f5f9cca085fae9 = L.AwesomeMarkers.icon(\n",
       "                {&quot;extraClasses&quot;: &quot;fa-rotate-0&quot;, &quot;icon&quot;: &quot;info-sign&quot;, &quot;iconColor&quot;: &quot;white&quot;, &quot;markerColor&quot;: &quot;red&quot;, &quot;prefix&quot;: &quot;glyphicon&quot;}\n",
       "            );\n",
       "            marker_9d2625e64c96d2ccd41a9b0e6aa3a4fd.setIcon(icon_191a97a71946227375f5f9cca085fae9);\n",
       "        \n",
       "    \n",
       "        var popup_cce584bbba36c90d2046e29c2603226a = L.popup({&quot;maxWidth&quot;: &quot;100%&quot;});\n",
       "\n",
       "        \n",
       "            \n",
       "                var html_48a920f6d99fb111a1f4e8cbca3e0b79 = $(`&lt;div id=&quot;html_48a920f6d99fb111a1f4e8cbca3e0b79&quot; style=&quot;width: 100.0%; height: 100.0%;&quot;&gt;Intervenant Location: 48.7272205, 1.3414973&lt;/div&gt;`)[0];\n",
       "                popup_cce584bbba36c90d2046e29c2603226a.setContent(html_48a920f6d99fb111a1f4e8cbca3e0b79);\n",
       "            \n",
       "        \n",
       "\n",
       "        marker_9d2625e64c96d2ccd41a9b0e6aa3a4fd.bindPopup(popup_cce584bbba36c90d2046e29c2603226a)\n",
       "        ;\n",
       "\n",
       "        \n",
       "    \n",
       "&lt;/script&gt;\n",
       "&lt;/html&gt;\" style=\"position:absolute;width:100%;height:100%;left:0;top:0;border:none !important;\" allowfullscreen webkitallowfullscreen mozallowfullscreen></iframe></div></div>"
      ],
      "text/plain": [
       "<folium.folium.Map at 0x163d9c9aa50>"
      ]
     },
     "execution_count": 14,
     "metadata": {},
     "output_type": "execute_result"
    }
   ],
   "source": [
    "mymap"
   ]
  },
  {
   "cell_type": "code",
   "execution_count": 15,
   "metadata": {},
   "outputs": [
    {
     "data": {
      "text/html": [
       "<div style=\"width:100%;\"><div style=\"position:relative;width:100%;height:0;padding-bottom:60%;\"><span style=\"color:#565656\">Make this Notebook Trusted to load map: File -> Trust Notebook</span><iframe srcdoc=\"&lt;!DOCTYPE html&gt;\n",
       "&lt;html&gt;\n",
       "&lt;head&gt;\n",
       "    \n",
       "    &lt;meta http-equiv=&quot;content-type&quot; content=&quot;text/html; charset=UTF-8&quot; /&gt;\n",
       "    \n",
       "        &lt;script&gt;\n",
       "            L_NO_TOUCH = false;\n",
       "            L_DISABLE_3D = false;\n",
       "        &lt;/script&gt;\n",
       "    \n",
       "    &lt;style&gt;html, body {width: 100%;height: 100%;margin: 0;padding: 0;}&lt;/style&gt;\n",
       "    &lt;style&gt;#map {position:absolute;top:0;bottom:0;right:0;left:0;}&lt;/style&gt;\n",
       "    &lt;script src=&quot;https://cdn.jsdelivr.net/npm/leaflet@1.9.3/dist/leaflet.js&quot;&gt;&lt;/script&gt;\n",
       "    &lt;script src=&quot;https://code.jquery.com/jquery-3.7.1.min.js&quot;&gt;&lt;/script&gt;\n",
       "    &lt;script src=&quot;https://cdn.jsdelivr.net/npm/bootstrap@5.2.2/dist/js/bootstrap.bundle.min.js&quot;&gt;&lt;/script&gt;\n",
       "    &lt;script src=&quot;https://cdnjs.cloudflare.com/ajax/libs/Leaflet.awesome-markers/2.0.2/leaflet.awesome-markers.js&quot;&gt;&lt;/script&gt;\n",
       "    &lt;link rel=&quot;stylesheet&quot; href=&quot;https://cdn.jsdelivr.net/npm/leaflet@1.9.3/dist/leaflet.css&quot;/&gt;\n",
       "    &lt;link rel=&quot;stylesheet&quot; href=&quot;https://cdn.jsdelivr.net/npm/bootstrap@5.2.2/dist/css/bootstrap.min.css&quot;/&gt;\n",
       "    &lt;link rel=&quot;stylesheet&quot; href=&quot;https://netdna.bootstrapcdn.com/bootstrap/3.0.0/css/bootstrap.min.css&quot;/&gt;\n",
       "    &lt;link rel=&quot;stylesheet&quot; href=&quot;https://cdn.jsdelivr.net/npm/@fortawesome/fontawesome-free@6.2.0/css/all.min.css&quot;/&gt;\n",
       "    &lt;link rel=&quot;stylesheet&quot; href=&quot;https://cdnjs.cloudflare.com/ajax/libs/Leaflet.awesome-markers/2.0.2/leaflet.awesome-markers.css&quot;/&gt;\n",
       "    &lt;link rel=&quot;stylesheet&quot; href=&quot;https://cdn.jsdelivr.net/gh/python-visualization/folium/folium/templates/leaflet.awesome.rotate.min.css&quot;/&gt;\n",
       "    \n",
       "            &lt;meta name=&quot;viewport&quot; content=&quot;width=device-width,\n",
       "                initial-scale=1.0, maximum-scale=1.0, user-scalable=no&quot; /&gt;\n",
       "            &lt;style&gt;\n",
       "                #map_f60f376bf0666e5eabad46fb502a9fa2 {\n",
       "                    position: relative;\n",
       "                    width: 100.0%;\n",
       "                    height: 100.0%;\n",
       "                    left: 0.0%;\n",
       "                    top: 0.0%;\n",
       "                }\n",
       "                .leaflet-container { font-size: 1rem; }\n",
       "            &lt;/style&gt;\n",
       "        \n",
       "    &lt;script src=&quot;https://cdn.jsdelivr.net/gh/python-visualization/folium@main/folium/templates/leaflet_heat.min.js&quot;&gt;&lt;/script&gt;\n",
       "&lt;/head&gt;\n",
       "&lt;body&gt;\n",
       "    \n",
       "    \n",
       "            &lt;div class=&quot;folium-map&quot; id=&quot;map_f60f376bf0666e5eabad46fb502a9fa2&quot; &gt;&lt;/div&gt;\n",
       "        \n",
       "&lt;/body&gt;\n",
       "&lt;script&gt;\n",
       "    \n",
       "    \n",
       "            var map_f60f376bf0666e5eabad46fb502a9fa2 = L.map(\n",
       "                &quot;map_f60f376bf0666e5eabad46fb502a9fa2&quot;,\n",
       "                {\n",
       "                    center: [48.8566, 2.3522],\n",
       "                    crs: L.CRS.EPSG3857,\n",
       "                    zoom: 12,\n",
       "                    zoomControl: true,\n",
       "                    preferCanvas: false,\n",
       "                }\n",
       "            );\n",
       "\n",
       "            \n",
       "\n",
       "        \n",
       "    \n",
       "            var tile_layer_72e9749adc71276edc31aa53498053cf = L.tileLayer(\n",
       "                &quot;https://tile.openstreetmap.org/{z}/{x}/{y}.png&quot;,\n",
       "                {&quot;attribution&quot;: &quot;\\u0026copy; \\u003ca href=\\&quot;https://www.openstreetmap.org/copyright\\&quot;\\u003eOpenStreetMap\\u003c/a\\u003e contributors&quot;, &quot;detectRetina&quot;: false, &quot;maxNativeZoom&quot;: 19, &quot;maxZoom&quot;: 19, &quot;minZoom&quot;: 0, &quot;noWrap&quot;: false, &quot;opacity&quot;: 1, &quot;subdomains&quot;: &quot;abc&quot;, &quot;tms&quot;: false}\n",
       "            );\n",
       "        \n",
       "    \n",
       "            tile_layer_72e9749adc71276edc31aa53498053cf.addTo(map_f60f376bf0666e5eabad46fb502a9fa2);\n",
       "        \n",
       "    \n",
       "            var heat_map_3ed90bfbd26159eeb076cafd4ff96072 = L.heatLayer(\n",
       "                [[48.7686248, 1.186807, 1.0], [48.7664141, 1.1908904, 2.0], [48.7581344, 1.1992157, 1.0], [48.7573959, 1.2023007, 1.0], [48.7627671, 1.2028697, 1.0], [48.7648977, 1.2031853, 1.0], [48.771986, 1.2034312, 1.0], [48.7632131, 1.2313346, 1.0], [48.76144, 1.235369, 1.0], [48.5868825, 1.2355952, 1.0], [48.758928, 1.249739, 1.0], [48.6657225, 1.2762408, 1.0], [48.6692689, 1.2796346, 1.0], [48.670992, 1.282323, 1.0], [48.7316474, 1.2833024, 1.0], [48.771381, 1.292168, 1.0], [48.7796933, 1.3071376, 1.0], [48.7292713, 1.3235448, 1.0], [48.7294692, 1.3320168, 1.0], [48.7066591, 1.3321919, 1.0], [48.7263435, 1.3327037, 3.0], [48.726393, 1.332848, 1.0], [48.705077, 1.333307, 1.0], [48.7049894, 1.3341649, 1.0], [48.729537, 1.3345486, 1.0], [48.7296506, 1.3348961, 1.0], [48.7317417, 1.3372616, 1.0], [48.7312702, 1.337325, 1.0], [48.728913, 1.337604, 1.0], [48.7258805, 1.3386537, 1.0], [48.7293302, 1.3388591, 1.0], [48.7297346, 1.3390499, 1.0], [48.7286767, 1.3400246, 1.0], [48.7396695, 1.3404164, 1.0], [48.7384591, 1.3463394, 1.0], [48.7428036, 1.3475838, 1.0], [48.7388582, 1.3477604, 1.0], [48.7386408, 1.3501338, 1.0], [48.7380023, 1.3505018, 1.0], [48.7417346, 1.3509254, 1.0], [48.739895, 1.351702, 1.0], [48.7428046, 1.351704, 1.0], [48.7406099, 1.351789, 1.0], [48.720632, 1.355859, 1.0], [48.7447023, 1.3579211, 2.0], [48.725503, 1.360915, 1.0], [48.7136486, 1.3616833, 1.0], [48.7296431, 1.363584, 1.0], [48.729807, 1.363688, 1.0], [48.732218, 1.3637436, 2.0], [48.7341923, 1.364231, 1.0], [48.7147882, 1.364818, 1.0], [48.7350645, 1.3659508, 1.0], [48.7272967, 1.3671364, 1.0], [48.7338212, 1.3672421, 1.0], [48.742378, 1.367416, 1.0], [48.7253435, 1.3677647, 1.0], [48.7386889, 1.3680115, 1.0], [48.7393644, 1.3691916, 1.0], [48.7401583, 1.3694258, 1.0], [48.7768008, 1.3704169, 1.0], [48.7406195, 1.3706525, 1.0], [48.7331743, 1.3706892, 1.0], [48.7406315, 1.3708257, 1.0], [48.736134, 1.370889, 2.0], [48.7334839, 1.3710466, 1.0], [48.721939, 1.3740208, 1.0], [48.7290588, 1.3745039, 1.0], [48.7296135, 1.3748625, 1.0], [48.7210831, 1.3750785, 1.0], [48.7210523, 1.3756893, 2.0], [48.7188515, 1.3760534, 1.0], [48.719157, 1.376304, 1.0], [48.7195382, 1.3776703, 1.0], [48.7769684, 1.3802555, 1.0], [48.7259426, 1.3808813, 1.0], [48.7254143, 1.3815941, 1.0], [48.734728, 1.3818965, 1.0], [48.7236, 1.3819999, 1.0], [48.7399113, 1.3825654, 1.0], [48.7355841, 1.3829868, 1.0], [48.8311226, 1.3831702, 1.0], [48.7249427, 1.3833051, 3.0], [48.7302617, 1.3862834, 1.0], [48.7192172, 1.3970573, 1.0], [48.747275, 1.3990408, 1.0], [48.7697122, 1.4025034, 1.0], [48.7683067, 1.4034102, 1.0], [48.6649744, 1.4167695, 1.0], [48.717309, 1.418432, 1.0], [48.7488812, 1.4188566, 1.0], [48.7484748, 1.4212087, 1.0], [48.7471879, 1.421348, 1.0], [48.722238, 1.421508, 1.0], [48.7445388, 1.4221695, 1.0], [48.7228766, 1.4226275, 1.0], [48.7250933, 1.4273666, 1.0], [48.7243569, 1.4329865, 1.0], [48.8507847, 1.4349048, 1.0], [48.7251381, 1.436412, 1.0], [48.787278, 1.4412019, 1.0], [48.6745197, 1.465217, 1.0], [48.663093, 1.498339, 1.0], [48.691944, 1.4987735, 1.0], [48.6631322, 1.4998347, 1.0], [48.6386578, 1.5170344, 1.0], [48.7169867, 1.5335032, 1.0], [48.7998438, 1.5381353, 1.0], [48.821772, 1.756772, 1.0]],\n",
       "                {&quot;blur&quot;: 15, &quot;maxZoom&quot;: 18, &quot;minOpacity&quot;: 0.5, &quot;radius&quot;: 15}\n",
       "            );\n",
       "        \n",
       "    \n",
       "            heat_map_3ed90bfbd26159eeb076cafd4ff96072.addTo(map_f60f376bf0666e5eabad46fb502a9fa2);\n",
       "        \n",
       "    \n",
       "            tile_layer_72e9749adc71276edc31aa53498053cf.addTo(map_f60f376bf0666e5eabad46fb502a9fa2);\n",
       "        \n",
       "    \n",
       "            heat_map_3ed90bfbd26159eeb076cafd4ff96072.addTo(map_f60f376bf0666e5eabad46fb502a9fa2);\n",
       "        \n",
       "&lt;/script&gt;\n",
       "&lt;/html&gt;\" style=\"position:absolute;width:100%;height:100%;left:0;top:0;border:none !important;\" allowfullscreen webkitallowfullscreen mozallowfullscreen></iframe></div></div>"
      ],
      "text/plain": [
       "<folium.folium.Map at 0x163dcabd5d0>"
      ]
     },
     "execution_count": 15,
     "metadata": {},
     "output_type": "execute_result"
    }
   ],
   "source": [
    "import pandas as pd\n",
    "import folium\n",
    "from folium.plugins import HeatMap\n",
    "\n",
    "# Load the DataFrame with client locations (assuming it's already loaded)\n",
    "\n",
    "# Calculate client density based on longitude and latitude\n",
    "density_df = clients_df.groupby(['Longitude', 'Latitude']).size().reset_index(name='Density')\n",
    "\n",
    "# Convert density data to list of [lat, lon, weight]\n",
    "density_data = [[row['Latitude'], row['Longitude'], row['Density']] for index, row in density_df.iterrows()]\n",
    "\n",
    "# Create a map centered around Paris\n",
    "map_paris = folium.Map(location=[48.8566, 2.3522], zoom_start=12)\n",
    "\n",
    "# Add heat map layer\n",
    "HeatMap(density_data, radius=15).add_to(map_paris)\n",
    "\n",
    "# Save the map as an HTML file\n",
    "map_paris.save('client_density_heatmap.html')\n",
    "\n",
    "# Display the map\n",
    "map_paris\n"
   ]
  },
  {
   "cell_type": "markdown",
   "metadata": {},
   "source": [
    "### Frequency analysis"
   ]
  },
  {
   "cell_type": "markdown",
   "metadata": {},
   "source": [
    "#### Global, including all prestations"
   ]
  },
  {
   "cell_type": "code",
   "execution_count": 16,
   "metadata": {},
   "outputs": [
    {
     "data": {
      "application/vnd.plotly.v1+json": {
       "config": {
        "plotlyServerURL": "https://plot.ly"
       },
       "data": [
        {
         "alignmentgroup": "True",
         "bingroup": "x",
         "hovertemplate": "Orders Count=%{x}<br>count=%{y}<extra></extra>",
         "legendgroup": "",
         "marker": {
          "color": "darkorchid",
          "pattern": {
           "shape": ""
          }
         },
         "name": "",
         "offsetgroup": "",
         "orientation": "v",
         "showlegend": false,
         "type": "histogram",
         "x": [
          28,
          17,
          5,
          62,
          7,
          47,
          24,
          4,
          66,
          13,
          3,
          4,
          5,
          35,
          9,
          125,
          22,
          1,
          4,
          4,
          4,
          2,
          103,
          40,
          5,
          5,
          28,
          32,
          3,
          4,
          89,
          1,
          5,
          4,
          13,
          3,
          5,
          109,
          3,
          4,
          68,
          9,
          69,
          2,
          4,
          7,
          1,
          38,
          4,
          101,
          38,
          9,
          89,
          5,
          97,
          62,
          97,
          92,
          12,
          41,
          4,
          14,
          3,
          4,
          20,
          7,
          11,
          3,
          4,
          4,
          18,
          16,
          1,
          41,
          68,
          4,
          18,
          35,
          62,
          5,
          4,
          5,
          6,
          2,
          36,
          4,
          4,
          9,
          23,
          3,
          5,
          4,
          94,
          66,
          43,
          65,
          2,
          9,
          4,
          8,
          7,
          1,
          5,
          31,
          6,
          17,
          4,
          12,
          62,
          62,
          1,
          3,
          17,
          3,
          2
         ],
         "xaxis": "x",
         "yaxis": "y"
        }
       ],
       "layout": {
        "barmode": "relative",
        "legend": {
         "tracegroupgap": 0
        },
        "template": {
         "data": {
          "bar": [
           {
            "error_x": {
             "color": "#2a3f5f"
            },
            "error_y": {
             "color": "#2a3f5f"
            },
            "marker": {
             "line": {
              "color": "#E5ECF6",
              "width": 0.5
             },
             "pattern": {
              "fillmode": "overlay",
              "size": 10,
              "solidity": 0.2
             }
            },
            "type": "bar"
           }
          ],
          "barpolar": [
           {
            "marker": {
             "line": {
              "color": "#E5ECF6",
              "width": 0.5
             },
             "pattern": {
              "fillmode": "overlay",
              "size": 10,
              "solidity": 0.2
             }
            },
            "type": "barpolar"
           }
          ],
          "carpet": [
           {
            "aaxis": {
             "endlinecolor": "#2a3f5f",
             "gridcolor": "white",
             "linecolor": "white",
             "minorgridcolor": "white",
             "startlinecolor": "#2a3f5f"
            },
            "baxis": {
             "endlinecolor": "#2a3f5f",
             "gridcolor": "white",
             "linecolor": "white",
             "minorgridcolor": "white",
             "startlinecolor": "#2a3f5f"
            },
            "type": "carpet"
           }
          ],
          "choropleth": [
           {
            "colorbar": {
             "outlinewidth": 0,
             "ticks": ""
            },
            "type": "choropleth"
           }
          ],
          "contour": [
           {
            "colorbar": {
             "outlinewidth": 0,
             "ticks": ""
            },
            "colorscale": [
             [
              0,
              "#0d0887"
             ],
             [
              0.1111111111111111,
              "#46039f"
             ],
             [
              0.2222222222222222,
              "#7201a8"
             ],
             [
              0.3333333333333333,
              "#9c179e"
             ],
             [
              0.4444444444444444,
              "#bd3786"
             ],
             [
              0.5555555555555556,
              "#d8576b"
             ],
             [
              0.6666666666666666,
              "#ed7953"
             ],
             [
              0.7777777777777778,
              "#fb9f3a"
             ],
             [
              0.8888888888888888,
              "#fdca26"
             ],
             [
              1,
              "#f0f921"
             ]
            ],
            "type": "contour"
           }
          ],
          "contourcarpet": [
           {
            "colorbar": {
             "outlinewidth": 0,
             "ticks": ""
            },
            "type": "contourcarpet"
           }
          ],
          "heatmap": [
           {
            "colorbar": {
             "outlinewidth": 0,
             "ticks": ""
            },
            "colorscale": [
             [
              0,
              "#0d0887"
             ],
             [
              0.1111111111111111,
              "#46039f"
             ],
             [
              0.2222222222222222,
              "#7201a8"
             ],
             [
              0.3333333333333333,
              "#9c179e"
             ],
             [
              0.4444444444444444,
              "#bd3786"
             ],
             [
              0.5555555555555556,
              "#d8576b"
             ],
             [
              0.6666666666666666,
              "#ed7953"
             ],
             [
              0.7777777777777778,
              "#fb9f3a"
             ],
             [
              0.8888888888888888,
              "#fdca26"
             ],
             [
              1,
              "#f0f921"
             ]
            ],
            "type": "heatmap"
           }
          ],
          "heatmapgl": [
           {
            "colorbar": {
             "outlinewidth": 0,
             "ticks": ""
            },
            "colorscale": [
             [
              0,
              "#0d0887"
             ],
             [
              0.1111111111111111,
              "#46039f"
             ],
             [
              0.2222222222222222,
              "#7201a8"
             ],
             [
              0.3333333333333333,
              "#9c179e"
             ],
             [
              0.4444444444444444,
              "#bd3786"
             ],
             [
              0.5555555555555556,
              "#d8576b"
             ],
             [
              0.6666666666666666,
              "#ed7953"
             ],
             [
              0.7777777777777778,
              "#fb9f3a"
             ],
             [
              0.8888888888888888,
              "#fdca26"
             ],
             [
              1,
              "#f0f921"
             ]
            ],
            "type": "heatmapgl"
           }
          ],
          "histogram": [
           {
            "marker": {
             "pattern": {
              "fillmode": "overlay",
              "size": 10,
              "solidity": 0.2
             }
            },
            "type": "histogram"
           }
          ],
          "histogram2d": [
           {
            "colorbar": {
             "outlinewidth": 0,
             "ticks": ""
            },
            "colorscale": [
             [
              0,
              "#0d0887"
             ],
             [
              0.1111111111111111,
              "#46039f"
             ],
             [
              0.2222222222222222,
              "#7201a8"
             ],
             [
              0.3333333333333333,
              "#9c179e"
             ],
             [
              0.4444444444444444,
              "#bd3786"
             ],
             [
              0.5555555555555556,
              "#d8576b"
             ],
             [
              0.6666666666666666,
              "#ed7953"
             ],
             [
              0.7777777777777778,
              "#fb9f3a"
             ],
             [
              0.8888888888888888,
              "#fdca26"
             ],
             [
              1,
              "#f0f921"
             ]
            ],
            "type": "histogram2d"
           }
          ],
          "histogram2dcontour": [
           {
            "colorbar": {
             "outlinewidth": 0,
             "ticks": ""
            },
            "colorscale": [
             [
              0,
              "#0d0887"
             ],
             [
              0.1111111111111111,
              "#46039f"
             ],
             [
              0.2222222222222222,
              "#7201a8"
             ],
             [
              0.3333333333333333,
              "#9c179e"
             ],
             [
              0.4444444444444444,
              "#bd3786"
             ],
             [
              0.5555555555555556,
              "#d8576b"
             ],
             [
              0.6666666666666666,
              "#ed7953"
             ],
             [
              0.7777777777777778,
              "#fb9f3a"
             ],
             [
              0.8888888888888888,
              "#fdca26"
             ],
             [
              1,
              "#f0f921"
             ]
            ],
            "type": "histogram2dcontour"
           }
          ],
          "mesh3d": [
           {
            "colorbar": {
             "outlinewidth": 0,
             "ticks": ""
            },
            "type": "mesh3d"
           }
          ],
          "parcoords": [
           {
            "line": {
             "colorbar": {
              "outlinewidth": 0,
              "ticks": ""
             }
            },
            "type": "parcoords"
           }
          ],
          "pie": [
           {
            "automargin": true,
            "type": "pie"
           }
          ],
          "scatter": [
           {
            "fillpattern": {
             "fillmode": "overlay",
             "size": 10,
             "solidity": 0.2
            },
            "type": "scatter"
           }
          ],
          "scatter3d": [
           {
            "line": {
             "colorbar": {
              "outlinewidth": 0,
              "ticks": ""
             }
            },
            "marker": {
             "colorbar": {
              "outlinewidth": 0,
              "ticks": ""
             }
            },
            "type": "scatter3d"
           }
          ],
          "scattercarpet": [
           {
            "marker": {
             "colorbar": {
              "outlinewidth": 0,
              "ticks": ""
             }
            },
            "type": "scattercarpet"
           }
          ],
          "scattergeo": [
           {
            "marker": {
             "colorbar": {
              "outlinewidth": 0,
              "ticks": ""
             }
            },
            "type": "scattergeo"
           }
          ],
          "scattergl": [
           {
            "marker": {
             "colorbar": {
              "outlinewidth": 0,
              "ticks": ""
             }
            },
            "type": "scattergl"
           }
          ],
          "scattermapbox": [
           {
            "marker": {
             "colorbar": {
              "outlinewidth": 0,
              "ticks": ""
             }
            },
            "type": "scattermapbox"
           }
          ],
          "scatterpolar": [
           {
            "marker": {
             "colorbar": {
              "outlinewidth": 0,
              "ticks": ""
             }
            },
            "type": "scatterpolar"
           }
          ],
          "scatterpolargl": [
           {
            "marker": {
             "colorbar": {
              "outlinewidth": 0,
              "ticks": ""
             }
            },
            "type": "scatterpolargl"
           }
          ],
          "scatterternary": [
           {
            "marker": {
             "colorbar": {
              "outlinewidth": 0,
              "ticks": ""
             }
            },
            "type": "scatterternary"
           }
          ],
          "surface": [
           {
            "colorbar": {
             "outlinewidth": 0,
             "ticks": ""
            },
            "colorscale": [
             [
              0,
              "#0d0887"
             ],
             [
              0.1111111111111111,
              "#46039f"
             ],
             [
              0.2222222222222222,
              "#7201a8"
             ],
             [
              0.3333333333333333,
              "#9c179e"
             ],
             [
              0.4444444444444444,
              "#bd3786"
             ],
             [
              0.5555555555555556,
              "#d8576b"
             ],
             [
              0.6666666666666666,
              "#ed7953"
             ],
             [
              0.7777777777777778,
              "#fb9f3a"
             ],
             [
              0.8888888888888888,
              "#fdca26"
             ],
             [
              1,
              "#f0f921"
             ]
            ],
            "type": "surface"
           }
          ],
          "table": [
           {
            "cells": {
             "fill": {
              "color": "#EBF0F8"
             },
             "line": {
              "color": "white"
             }
            },
            "header": {
             "fill": {
              "color": "#C8D4E3"
             },
             "line": {
              "color": "white"
             }
            },
            "type": "table"
           }
          ]
         },
         "layout": {
          "annotationdefaults": {
           "arrowcolor": "#2a3f5f",
           "arrowhead": 0,
           "arrowwidth": 1
          },
          "autotypenumbers": "strict",
          "coloraxis": {
           "colorbar": {
            "outlinewidth": 0,
            "ticks": ""
           }
          },
          "colorscale": {
           "diverging": [
            [
             0,
             "#8e0152"
            ],
            [
             0.1,
             "#c51b7d"
            ],
            [
             0.2,
             "#de77ae"
            ],
            [
             0.3,
             "#f1b6da"
            ],
            [
             0.4,
             "#fde0ef"
            ],
            [
             0.5,
             "#f7f7f7"
            ],
            [
             0.6,
             "#e6f5d0"
            ],
            [
             0.7,
             "#b8e186"
            ],
            [
             0.8,
             "#7fbc41"
            ],
            [
             0.9,
             "#4d9221"
            ],
            [
             1,
             "#276419"
            ]
           ],
           "sequential": [
            [
             0,
             "#0d0887"
            ],
            [
             0.1111111111111111,
             "#46039f"
            ],
            [
             0.2222222222222222,
             "#7201a8"
            ],
            [
             0.3333333333333333,
             "#9c179e"
            ],
            [
             0.4444444444444444,
             "#bd3786"
            ],
            [
             0.5555555555555556,
             "#d8576b"
            ],
            [
             0.6666666666666666,
             "#ed7953"
            ],
            [
             0.7777777777777778,
             "#fb9f3a"
            ],
            [
             0.8888888888888888,
             "#fdca26"
            ],
            [
             1,
             "#f0f921"
            ]
           ],
           "sequentialminus": [
            [
             0,
             "#0d0887"
            ],
            [
             0.1111111111111111,
             "#46039f"
            ],
            [
             0.2222222222222222,
             "#7201a8"
            ],
            [
             0.3333333333333333,
             "#9c179e"
            ],
            [
             0.4444444444444444,
             "#bd3786"
            ],
            [
             0.5555555555555556,
             "#d8576b"
            ],
            [
             0.6666666666666666,
             "#ed7953"
            ],
            [
             0.7777777777777778,
             "#fb9f3a"
            ],
            [
             0.8888888888888888,
             "#fdca26"
            ],
            [
             1,
             "#f0f921"
            ]
           ]
          },
          "colorway": [
           "#636efa",
           "#EF553B",
           "#00cc96",
           "#ab63fa",
           "#FFA15A",
           "#19d3f3",
           "#FF6692",
           "#B6E880",
           "#FF97FF",
           "#FECB52"
          ],
          "font": {
           "color": "#2a3f5f"
          },
          "geo": {
           "bgcolor": "white",
           "lakecolor": "white",
           "landcolor": "#E5ECF6",
           "showlakes": true,
           "showland": true,
           "subunitcolor": "white"
          },
          "hoverlabel": {
           "align": "left"
          },
          "hovermode": "closest",
          "mapbox": {
           "style": "light"
          },
          "paper_bgcolor": "white",
          "plot_bgcolor": "#E5ECF6",
          "polar": {
           "angularaxis": {
            "gridcolor": "white",
            "linecolor": "white",
            "ticks": ""
           },
           "bgcolor": "#E5ECF6",
           "radialaxis": {
            "gridcolor": "white",
            "linecolor": "white",
            "ticks": ""
           }
          },
          "scene": {
           "xaxis": {
            "backgroundcolor": "#E5ECF6",
            "gridcolor": "white",
            "gridwidth": 2,
            "linecolor": "white",
            "showbackground": true,
            "ticks": "",
            "zerolinecolor": "white"
           },
           "yaxis": {
            "backgroundcolor": "#E5ECF6",
            "gridcolor": "white",
            "gridwidth": 2,
            "linecolor": "white",
            "showbackground": true,
            "ticks": "",
            "zerolinecolor": "white"
           },
           "zaxis": {
            "backgroundcolor": "#E5ECF6",
            "gridcolor": "white",
            "gridwidth": 2,
            "linecolor": "white",
            "showbackground": true,
            "ticks": "",
            "zerolinecolor": "white"
           }
          },
          "shapedefaults": {
           "line": {
            "color": "#2a3f5f"
           }
          },
          "ternary": {
           "aaxis": {
            "gridcolor": "white",
            "linecolor": "white",
            "ticks": ""
           },
           "baxis": {
            "gridcolor": "white",
            "linecolor": "white",
            "ticks": ""
           },
           "bgcolor": "#E5ECF6",
           "caxis": {
            "gridcolor": "white",
            "linecolor": "white",
            "ticks": ""
           }
          },
          "title": {
           "x": 0.05
          },
          "xaxis": {
           "automargin": true,
           "gridcolor": "white",
           "linecolor": "white",
           "ticks": "",
           "title": {
            "standoff": 15
           },
           "zerolinecolor": "white",
           "zerolinewidth": 2
          },
          "yaxis": {
           "automargin": true,
           "gridcolor": "white",
           "linecolor": "white",
           "ticks": "",
           "title": {
            "standoff": 15
           },
           "zerolinecolor": "white",
           "zerolinewidth": 2
          }
         }
        },
        "title": {
         "text": "Distribution of Orders Count Across Clients - all prestations"
        },
        "xaxis": {
         "anchor": "y",
         "domain": [
          0,
          1
         ],
         "title": {
          "text": "Orders Count"
         }
        },
        "yaxis": {
         "anchor": "x",
         "domain": [
          0,
          1
         ],
         "title": {
          "text": "count"
         }
        }
       }
      }
     },
     "metadata": {},
     "output_type": "display_data"
    }
   ],
   "source": [
    "JAN24_df['Date'] = pd.to_datetime(JAN24_df['Date'])\n",
    "\n",
    "orders_count = JAN24_df.groupby('ID Client')['Prestation'].count().reset_index()\n",
    "orders_count = orders_count.rename(columns={'Prestation': 'Orders Count'})\n",
    "\n",
    "fig = px.histogram(orders_count, x='Orders Count', title='Distribution of Orders Count Across Clients - all prestations',color_discrete_sequence=['darkorchid'])\n",
    "fig.show()\n"
   ]
  },
  {
   "cell_type": "markdown",
   "metadata": {},
   "source": [
    "#### Zoom on smaller frequencies to identify sporadic needs"
   ]
  },
  {
   "cell_type": "code",
   "execution_count": 17,
   "metadata": {},
   "outputs": [
    {
     "data": {
      "application/vnd.plotly.v1+json": {
       "config": {
        "plotlyServerURL": "https://plot.ly"
       },
       "data": [
        {
         "alignmentgroup": "True",
         "bingroup": "x",
         "hovertemplate": "Orders Count=%{x}<br>count=%{y}<extra></extra>",
         "legendgroup": "",
         "marker": {
          "color": "darkorchid",
          "pattern": {
           "shape": ""
          }
         },
         "name": "",
         "offsetgroup": "",
         "orientation": "v",
         "showlegend": false,
         "type": "histogram",
         "x": [
          5,
          7,
          4,
          3,
          4,
          5,
          9,
          1,
          4,
          4,
          4,
          2,
          5,
          5,
          3,
          4,
          1,
          5,
          4,
          3,
          5,
          3,
          4,
          9,
          2,
          4,
          7,
          1,
          4,
          9,
          5,
          4,
          3,
          4,
          7,
          3,
          4,
          4,
          1,
          4,
          5,
          4,
          5,
          6,
          2,
          4,
          4,
          9,
          3,
          5,
          4,
          2,
          9,
          4,
          8,
          7,
          1,
          5,
          6,
          4,
          1,
          3,
          3,
          2
         ],
         "xaxis": "x",
         "yaxis": "y"
        }
       ],
       "layout": {
        "barmode": "relative",
        "legend": {
         "tracegroupgap": 0
        },
        "template": {
         "data": {
          "bar": [
           {
            "error_x": {
             "color": "#2a3f5f"
            },
            "error_y": {
             "color": "#2a3f5f"
            },
            "marker": {
             "line": {
              "color": "#E5ECF6",
              "width": 0.5
             },
             "pattern": {
              "fillmode": "overlay",
              "size": 10,
              "solidity": 0.2
             }
            },
            "type": "bar"
           }
          ],
          "barpolar": [
           {
            "marker": {
             "line": {
              "color": "#E5ECF6",
              "width": 0.5
             },
             "pattern": {
              "fillmode": "overlay",
              "size": 10,
              "solidity": 0.2
             }
            },
            "type": "barpolar"
           }
          ],
          "carpet": [
           {
            "aaxis": {
             "endlinecolor": "#2a3f5f",
             "gridcolor": "white",
             "linecolor": "white",
             "minorgridcolor": "white",
             "startlinecolor": "#2a3f5f"
            },
            "baxis": {
             "endlinecolor": "#2a3f5f",
             "gridcolor": "white",
             "linecolor": "white",
             "minorgridcolor": "white",
             "startlinecolor": "#2a3f5f"
            },
            "type": "carpet"
           }
          ],
          "choropleth": [
           {
            "colorbar": {
             "outlinewidth": 0,
             "ticks": ""
            },
            "type": "choropleth"
           }
          ],
          "contour": [
           {
            "colorbar": {
             "outlinewidth": 0,
             "ticks": ""
            },
            "colorscale": [
             [
              0,
              "#0d0887"
             ],
             [
              0.1111111111111111,
              "#46039f"
             ],
             [
              0.2222222222222222,
              "#7201a8"
             ],
             [
              0.3333333333333333,
              "#9c179e"
             ],
             [
              0.4444444444444444,
              "#bd3786"
             ],
             [
              0.5555555555555556,
              "#d8576b"
             ],
             [
              0.6666666666666666,
              "#ed7953"
             ],
             [
              0.7777777777777778,
              "#fb9f3a"
             ],
             [
              0.8888888888888888,
              "#fdca26"
             ],
             [
              1,
              "#f0f921"
             ]
            ],
            "type": "contour"
           }
          ],
          "contourcarpet": [
           {
            "colorbar": {
             "outlinewidth": 0,
             "ticks": ""
            },
            "type": "contourcarpet"
           }
          ],
          "heatmap": [
           {
            "colorbar": {
             "outlinewidth": 0,
             "ticks": ""
            },
            "colorscale": [
             [
              0,
              "#0d0887"
             ],
             [
              0.1111111111111111,
              "#46039f"
             ],
             [
              0.2222222222222222,
              "#7201a8"
             ],
             [
              0.3333333333333333,
              "#9c179e"
             ],
             [
              0.4444444444444444,
              "#bd3786"
             ],
             [
              0.5555555555555556,
              "#d8576b"
             ],
             [
              0.6666666666666666,
              "#ed7953"
             ],
             [
              0.7777777777777778,
              "#fb9f3a"
             ],
             [
              0.8888888888888888,
              "#fdca26"
             ],
             [
              1,
              "#f0f921"
             ]
            ],
            "type": "heatmap"
           }
          ],
          "heatmapgl": [
           {
            "colorbar": {
             "outlinewidth": 0,
             "ticks": ""
            },
            "colorscale": [
             [
              0,
              "#0d0887"
             ],
             [
              0.1111111111111111,
              "#46039f"
             ],
             [
              0.2222222222222222,
              "#7201a8"
             ],
             [
              0.3333333333333333,
              "#9c179e"
             ],
             [
              0.4444444444444444,
              "#bd3786"
             ],
             [
              0.5555555555555556,
              "#d8576b"
             ],
             [
              0.6666666666666666,
              "#ed7953"
             ],
             [
              0.7777777777777778,
              "#fb9f3a"
             ],
             [
              0.8888888888888888,
              "#fdca26"
             ],
             [
              1,
              "#f0f921"
             ]
            ],
            "type": "heatmapgl"
           }
          ],
          "histogram": [
           {
            "marker": {
             "pattern": {
              "fillmode": "overlay",
              "size": 10,
              "solidity": 0.2
             }
            },
            "type": "histogram"
           }
          ],
          "histogram2d": [
           {
            "colorbar": {
             "outlinewidth": 0,
             "ticks": ""
            },
            "colorscale": [
             [
              0,
              "#0d0887"
             ],
             [
              0.1111111111111111,
              "#46039f"
             ],
             [
              0.2222222222222222,
              "#7201a8"
             ],
             [
              0.3333333333333333,
              "#9c179e"
             ],
             [
              0.4444444444444444,
              "#bd3786"
             ],
             [
              0.5555555555555556,
              "#d8576b"
             ],
             [
              0.6666666666666666,
              "#ed7953"
             ],
             [
              0.7777777777777778,
              "#fb9f3a"
             ],
             [
              0.8888888888888888,
              "#fdca26"
             ],
             [
              1,
              "#f0f921"
             ]
            ],
            "type": "histogram2d"
           }
          ],
          "histogram2dcontour": [
           {
            "colorbar": {
             "outlinewidth": 0,
             "ticks": ""
            },
            "colorscale": [
             [
              0,
              "#0d0887"
             ],
             [
              0.1111111111111111,
              "#46039f"
             ],
             [
              0.2222222222222222,
              "#7201a8"
             ],
             [
              0.3333333333333333,
              "#9c179e"
             ],
             [
              0.4444444444444444,
              "#bd3786"
             ],
             [
              0.5555555555555556,
              "#d8576b"
             ],
             [
              0.6666666666666666,
              "#ed7953"
             ],
             [
              0.7777777777777778,
              "#fb9f3a"
             ],
             [
              0.8888888888888888,
              "#fdca26"
             ],
             [
              1,
              "#f0f921"
             ]
            ],
            "type": "histogram2dcontour"
           }
          ],
          "mesh3d": [
           {
            "colorbar": {
             "outlinewidth": 0,
             "ticks": ""
            },
            "type": "mesh3d"
           }
          ],
          "parcoords": [
           {
            "line": {
             "colorbar": {
              "outlinewidth": 0,
              "ticks": ""
             }
            },
            "type": "parcoords"
           }
          ],
          "pie": [
           {
            "automargin": true,
            "type": "pie"
           }
          ],
          "scatter": [
           {
            "fillpattern": {
             "fillmode": "overlay",
             "size": 10,
             "solidity": 0.2
            },
            "type": "scatter"
           }
          ],
          "scatter3d": [
           {
            "line": {
             "colorbar": {
              "outlinewidth": 0,
              "ticks": ""
             }
            },
            "marker": {
             "colorbar": {
              "outlinewidth": 0,
              "ticks": ""
             }
            },
            "type": "scatter3d"
           }
          ],
          "scattercarpet": [
           {
            "marker": {
             "colorbar": {
              "outlinewidth": 0,
              "ticks": ""
             }
            },
            "type": "scattercarpet"
           }
          ],
          "scattergeo": [
           {
            "marker": {
             "colorbar": {
              "outlinewidth": 0,
              "ticks": ""
             }
            },
            "type": "scattergeo"
           }
          ],
          "scattergl": [
           {
            "marker": {
             "colorbar": {
              "outlinewidth": 0,
              "ticks": ""
             }
            },
            "type": "scattergl"
           }
          ],
          "scattermapbox": [
           {
            "marker": {
             "colorbar": {
              "outlinewidth": 0,
              "ticks": ""
             }
            },
            "type": "scattermapbox"
           }
          ],
          "scatterpolar": [
           {
            "marker": {
             "colorbar": {
              "outlinewidth": 0,
              "ticks": ""
             }
            },
            "type": "scatterpolar"
           }
          ],
          "scatterpolargl": [
           {
            "marker": {
             "colorbar": {
              "outlinewidth": 0,
              "ticks": ""
             }
            },
            "type": "scatterpolargl"
           }
          ],
          "scatterternary": [
           {
            "marker": {
             "colorbar": {
              "outlinewidth": 0,
              "ticks": ""
             }
            },
            "type": "scatterternary"
           }
          ],
          "surface": [
           {
            "colorbar": {
             "outlinewidth": 0,
             "ticks": ""
            },
            "colorscale": [
             [
              0,
              "#0d0887"
             ],
             [
              0.1111111111111111,
              "#46039f"
             ],
             [
              0.2222222222222222,
              "#7201a8"
             ],
             [
              0.3333333333333333,
              "#9c179e"
             ],
             [
              0.4444444444444444,
              "#bd3786"
             ],
             [
              0.5555555555555556,
              "#d8576b"
             ],
             [
              0.6666666666666666,
              "#ed7953"
             ],
             [
              0.7777777777777778,
              "#fb9f3a"
             ],
             [
              0.8888888888888888,
              "#fdca26"
             ],
             [
              1,
              "#f0f921"
             ]
            ],
            "type": "surface"
           }
          ],
          "table": [
           {
            "cells": {
             "fill": {
              "color": "#EBF0F8"
             },
             "line": {
              "color": "white"
             }
            },
            "header": {
             "fill": {
              "color": "#C8D4E3"
             },
             "line": {
              "color": "white"
             }
            },
            "type": "table"
           }
          ]
         },
         "layout": {
          "annotationdefaults": {
           "arrowcolor": "#2a3f5f",
           "arrowhead": 0,
           "arrowwidth": 1
          },
          "autotypenumbers": "strict",
          "coloraxis": {
           "colorbar": {
            "outlinewidth": 0,
            "ticks": ""
           }
          },
          "colorscale": {
           "diverging": [
            [
             0,
             "#8e0152"
            ],
            [
             0.1,
             "#c51b7d"
            ],
            [
             0.2,
             "#de77ae"
            ],
            [
             0.3,
             "#f1b6da"
            ],
            [
             0.4,
             "#fde0ef"
            ],
            [
             0.5,
             "#f7f7f7"
            ],
            [
             0.6,
             "#e6f5d0"
            ],
            [
             0.7,
             "#b8e186"
            ],
            [
             0.8,
             "#7fbc41"
            ],
            [
             0.9,
             "#4d9221"
            ],
            [
             1,
             "#276419"
            ]
           ],
           "sequential": [
            [
             0,
             "#0d0887"
            ],
            [
             0.1111111111111111,
             "#46039f"
            ],
            [
             0.2222222222222222,
             "#7201a8"
            ],
            [
             0.3333333333333333,
             "#9c179e"
            ],
            [
             0.4444444444444444,
             "#bd3786"
            ],
            [
             0.5555555555555556,
             "#d8576b"
            ],
            [
             0.6666666666666666,
             "#ed7953"
            ],
            [
             0.7777777777777778,
             "#fb9f3a"
            ],
            [
             0.8888888888888888,
             "#fdca26"
            ],
            [
             1,
             "#f0f921"
            ]
           ],
           "sequentialminus": [
            [
             0,
             "#0d0887"
            ],
            [
             0.1111111111111111,
             "#46039f"
            ],
            [
             0.2222222222222222,
             "#7201a8"
            ],
            [
             0.3333333333333333,
             "#9c179e"
            ],
            [
             0.4444444444444444,
             "#bd3786"
            ],
            [
             0.5555555555555556,
             "#d8576b"
            ],
            [
             0.6666666666666666,
             "#ed7953"
            ],
            [
             0.7777777777777778,
             "#fb9f3a"
            ],
            [
             0.8888888888888888,
             "#fdca26"
            ],
            [
             1,
             "#f0f921"
            ]
           ]
          },
          "colorway": [
           "#636efa",
           "#EF553B",
           "#00cc96",
           "#ab63fa",
           "#FFA15A",
           "#19d3f3",
           "#FF6692",
           "#B6E880",
           "#FF97FF",
           "#FECB52"
          ],
          "font": {
           "color": "#2a3f5f"
          },
          "geo": {
           "bgcolor": "white",
           "lakecolor": "white",
           "landcolor": "#E5ECF6",
           "showlakes": true,
           "showland": true,
           "subunitcolor": "white"
          },
          "hoverlabel": {
           "align": "left"
          },
          "hovermode": "closest",
          "mapbox": {
           "style": "light"
          },
          "paper_bgcolor": "white",
          "plot_bgcolor": "#E5ECF6",
          "polar": {
           "angularaxis": {
            "gridcolor": "white",
            "linecolor": "white",
            "ticks": ""
           },
           "bgcolor": "#E5ECF6",
           "radialaxis": {
            "gridcolor": "white",
            "linecolor": "white",
            "ticks": ""
           }
          },
          "scene": {
           "xaxis": {
            "backgroundcolor": "#E5ECF6",
            "gridcolor": "white",
            "gridwidth": 2,
            "linecolor": "white",
            "showbackground": true,
            "ticks": "",
            "zerolinecolor": "white"
           },
           "yaxis": {
            "backgroundcolor": "#E5ECF6",
            "gridcolor": "white",
            "gridwidth": 2,
            "linecolor": "white",
            "showbackground": true,
            "ticks": "",
            "zerolinecolor": "white"
           },
           "zaxis": {
            "backgroundcolor": "#E5ECF6",
            "gridcolor": "white",
            "gridwidth": 2,
            "linecolor": "white",
            "showbackground": true,
            "ticks": "",
            "zerolinecolor": "white"
           }
          },
          "shapedefaults": {
           "line": {
            "color": "#2a3f5f"
           }
          },
          "ternary": {
           "aaxis": {
            "gridcolor": "white",
            "linecolor": "white",
            "ticks": ""
           },
           "baxis": {
            "gridcolor": "white",
            "linecolor": "white",
            "ticks": ""
           },
           "bgcolor": "#E5ECF6",
           "caxis": {
            "gridcolor": "white",
            "linecolor": "white",
            "ticks": ""
           }
          },
          "title": {
           "x": 0.05
          },
          "xaxis": {
           "automargin": true,
           "gridcolor": "white",
           "linecolor": "white",
           "ticks": "",
           "title": {
            "standoff": 15
           },
           "zerolinecolor": "white",
           "zerolinewidth": 2
          },
          "yaxis": {
           "automargin": true,
           "gridcolor": "white",
           "linecolor": "white",
           "ticks": "",
           "title": {
            "standoff": 15
           },
           "zerolinecolor": "white",
           "zerolinewidth": 2
          }
         }
        },
        "title": {
         "text": "Distribution of Orders Count Across Clients (Count between 0 and 9)"
        },
        "xaxis": {
         "anchor": "y",
         "domain": [
          0,
          1
         ],
         "title": {
          "text": "Orders Count"
         }
        },
        "yaxis": {
         "anchor": "x",
         "domain": [
          0,
          1
         ],
         "title": {
          "text": "count"
         }
        }
       }
      }
     },
     "metadata": {},
     "output_type": "display_data"
    }
   ],
   "source": [
    "JAN24_df['Date'] = pd.to_datetime(JAN24_df['Date'])\n",
    "\n",
    "orders_count = JAN24_df.groupby('ID Client')['Prestation'].count().reset_index()\n",
    "orders_count = orders_count.rename(columns={'Prestation': 'Orders Count'})\n",
    "\n",
    "filtered_orders_count = orders_count[(orders_count['Orders Count'] >= 0) & (orders_count['Orders Count'] <= 9)]\n",
    "\n",
    "fig = px.histogram(filtered_orders_count, x='Orders Count', title='Distribution of Orders Count Across Clients (Count between 0 and 9)', color_discrete_sequence=['darkorchid'])\n",
    "fig.show()"
   ]
  },
  {
   "cell_type": "markdown",
   "metadata": {},
   "source": [
    "#### Frequency by prestation"
   ]
  },
  {
   "cell_type": "code",
   "execution_count": 18,
   "metadata": {},
   "outputs": [
    {
     "data": {
      "application/vnd.plotly.v1+json": {
       "config": {
        "plotlyServerURL": "https://plot.ly"
       },
       "data": [
        {
         "alignmentgroup": "True",
         "bingroup": "x",
         "hovertemplate": "Prestation=AIDE MENAGERE<br>Orders Count=%{x}<br>count=%{y}<extra></extra>",
         "legendgroup": "",
         "marker": {
          "color": "darkorchid",
          "pattern": {
           "shape": ""
          }
         },
         "name": "",
         "offsetgroup": "",
         "orientation": "v",
         "showlegend": false,
         "type": "histogram",
         "x": [
          28,
          13,
          5,
          4,
          5,
          3,
          15,
          4,
          9,
          3,
          4,
          5,
          6,
          9,
          1,
          4,
          4,
          4,
          5,
          9,
          5,
          5,
          4,
          3,
          4,
          5,
          1,
          5,
          4,
          13,
          3,
          5,
          6,
          2,
          4,
          5,
          2,
          4,
          1,
          4,
          8,
          4,
          5,
          5,
          4,
          4,
          9,
          7,
          4,
          5,
          3,
          4,
          5,
          9,
          3,
          4,
          4,
          9,
          8,
          23,
          4,
          4,
          8,
          4,
          5,
          4,
          5,
          6,
          2,
          9,
          4,
          4,
          4,
          4,
          2,
          1,
          4,
          4,
          1,
          5,
          2,
          3,
          2
         ],
         "xaxis": "x7",
         "yaxis": "y7"
        },
        {
         "alignmentgroup": "True",
         "bingroup": "x",
         "hovertemplate": "Prestation=ACCOMPAGNEMENTS COURSES<br>Orders Count=%{x}<br>count=%{y}<extra></extra>",
         "legendgroup": "",
         "marker": {
          "color": "darkorchid",
          "pattern": {
           "shape": ""
          }
         },
         "name": "",
         "offsetgroup": "",
         "orientation": "v",
         "showlegend": false,
         "type": "histogram",
         "x": [
          4,
          2,
          4,
          4,
          2,
          5,
          9,
          1,
          4,
          4,
          3,
          3,
          2,
          2,
          4,
          15,
          5,
          4,
          4,
          1,
          1
         ],
         "xaxis": "x8",
         "yaxis": "y8"
        },
        {
         "alignmentgroup": "True",
         "bingroup": "x",
         "hovertemplate": "Prestation=REPAS<br>Orders Count=%{x}<br>count=%{y}<extra></extra>",
         "legendgroup": "",
         "marker": {
          "color": "darkorchid",
          "pattern": {
           "shape": ""
          }
         },
         "name": "",
         "offsetgroup": "",
         "orientation": "v",
         "showlegend": false,
         "type": "histogram",
         "x": [
          49,
          26,
          62,
          11,
          22,
          58,
          21,
          8,
          37,
          25,
          62,
          62,
          62,
          62,
          61,
          27,
          1,
          10,
          31,
          31,
          13,
          94,
          14,
          61
         ],
         "xaxis": "x9",
         "yaxis": "y9"
        },
        {
         "alignmentgroup": "True",
         "bingroup": "x",
         "hovertemplate": "Prestation=TOILETTE<br>Orders Count=%{x}<br>count=%{y}<extra></extra>",
         "legendgroup": "",
         "marker": {
          "color": "darkorchid",
          "pattern": {
           "shape": ""
          }
         },
         "name": "",
         "offsetgroup": "",
         "orientation": "v",
         "showlegend": false,
         "type": "histogram",
         "x": [
          9,
          14,
          9,
          66,
          28,
          62,
          22,
          31,
          31,
          24,
          21,
          62,
          31,
          47,
          1,
          23,
          7,
          13,
          31,
          30,
          4,
          14,
          31,
          54,
          31,
          31,
          7,
          9,
          12,
          7,
          9,
          8,
          8,
          31,
          31,
          31,
          14,
          9,
          8,
          62,
          29,
          4,
          31,
          6,
          17,
          1,
          12,
          62,
          62,
          17,
          3
         ],
         "xaxis": "x4",
         "yaxis": "y4"
        },
        {
         "alignmentgroup": "True",
         "bingroup": "x",
         "hovertemplate": "Prestation=VIE SOCIALE<br>Orders Count=%{x}<br>count=%{y}<extra></extra>",
         "legendgroup": "",
         "marker": {
          "color": "darkorchid",
          "pattern": {
           "shape": ""
          }
         },
         "name": "",
         "offsetgroup": "",
         "orientation": "v",
         "showlegend": false,
         "type": "histogram",
         "x": [
          1,
          59,
          5,
          4,
          9,
          8,
          6,
          4
         ],
         "xaxis": "x5",
         "yaxis": "y5"
        },
        {
         "alignmentgroup": "True",
         "bingroup": "x",
         "hovertemplate": "Prestation=FEMME DE MENAGE<br>Orders Count=%{x}<br>count=%{y}<extra></extra>",
         "legendgroup": "",
         "marker": {
          "color": "darkorchid",
          "pattern": {
           "shape": ""
          }
         },
         "name": "",
         "offsetgroup": "",
         "orientation": "v",
         "showlegend": false,
         "type": "histogram",
         "x": [
          4
         ],
         "xaxis": "x6",
         "yaxis": "y6"
        },
        {
         "alignmentgroup": "True",
         "bingroup": "x",
         "hovertemplate": "Prestation=GARDE D'ENFANTS<br>Orders Count=%{x}<br>count=%{y}<extra></extra>",
         "legendgroup": "",
         "marker": {
          "color": "darkorchid",
          "pattern": {
           "shape": ""
          }
         },
         "name": "",
         "offsetgroup": "",
         "orientation": "v",
         "showlegend": false,
         "type": "histogram",
         "x": [
          3,
          7
         ],
         "xaxis": "x",
         "yaxis": "y"
        }
       ],
       "layout": {
        "annotations": [
         {
          "font": {},
          "showarrow": false,
          "text": "Prestation=GARDE D'ENFANTS",
          "x": 0.15999999999999998,
          "xanchor": "center",
          "xref": "paper",
          "y": 0.2866666666666666,
          "yanchor": "bottom",
          "yref": "paper"
         },
         {
          "font": {},
          "showarrow": false,
          "text": "Prestation=TOILETTE",
          "x": 0.15999999999999998,
          "xanchor": "center",
          "xref": "paper",
          "y": 0.6433333333333333,
          "yanchor": "bottom",
          "yref": "paper"
         },
         {
          "font": {},
          "showarrow": false,
          "text": "Prestation=VIE SOCIALE",
          "x": 0.49999999999999994,
          "xanchor": "center",
          "xref": "paper",
          "y": 0.6433333333333333,
          "yanchor": "bottom",
          "yref": "paper"
         },
         {
          "font": {},
          "showarrow": false,
          "text": "Prestation=FEMME DE MENAGE",
          "x": 0.8399999999999999,
          "xanchor": "center",
          "xref": "paper",
          "y": 0.6433333333333333,
          "yanchor": "bottom",
          "yref": "paper"
         },
         {
          "font": {},
          "showarrow": false,
          "text": "Prestation=AIDE MENAGERE",
          "x": 0.15999999999999998,
          "xanchor": "center",
          "xref": "paper",
          "y": 0.9999999999999999,
          "yanchor": "bottom",
          "yref": "paper"
         },
         {
          "font": {},
          "showarrow": false,
          "text": "Prestation=ACCOMPAGNEMENTS COURSES",
          "x": 0.49999999999999994,
          "xanchor": "center",
          "xref": "paper",
          "y": 0.9999999999999999,
          "yanchor": "bottom",
          "yref": "paper"
         },
         {
          "font": {},
          "showarrow": false,
          "text": "Prestation=REPAS",
          "x": 0.8399999999999999,
          "xanchor": "center",
          "xref": "paper",
          "y": 0.9999999999999999,
          "yanchor": "bottom",
          "yref": "paper"
         }
        ],
        "barmode": "relative",
        "legend": {
         "tracegroupgap": 0
        },
        "template": {
         "data": {
          "bar": [
           {
            "error_x": {
             "color": "#2a3f5f"
            },
            "error_y": {
             "color": "#2a3f5f"
            },
            "marker": {
             "line": {
              "color": "#E5ECF6",
              "width": 0.5
             },
             "pattern": {
              "fillmode": "overlay",
              "size": 10,
              "solidity": 0.2
             }
            },
            "type": "bar"
           }
          ],
          "barpolar": [
           {
            "marker": {
             "line": {
              "color": "#E5ECF6",
              "width": 0.5
             },
             "pattern": {
              "fillmode": "overlay",
              "size": 10,
              "solidity": 0.2
             }
            },
            "type": "barpolar"
           }
          ],
          "carpet": [
           {
            "aaxis": {
             "endlinecolor": "#2a3f5f",
             "gridcolor": "white",
             "linecolor": "white",
             "minorgridcolor": "white",
             "startlinecolor": "#2a3f5f"
            },
            "baxis": {
             "endlinecolor": "#2a3f5f",
             "gridcolor": "white",
             "linecolor": "white",
             "minorgridcolor": "white",
             "startlinecolor": "#2a3f5f"
            },
            "type": "carpet"
           }
          ],
          "choropleth": [
           {
            "colorbar": {
             "outlinewidth": 0,
             "ticks": ""
            },
            "type": "choropleth"
           }
          ],
          "contour": [
           {
            "colorbar": {
             "outlinewidth": 0,
             "ticks": ""
            },
            "colorscale": [
             [
              0,
              "#0d0887"
             ],
             [
              0.1111111111111111,
              "#46039f"
             ],
             [
              0.2222222222222222,
              "#7201a8"
             ],
             [
              0.3333333333333333,
              "#9c179e"
             ],
             [
              0.4444444444444444,
              "#bd3786"
             ],
             [
              0.5555555555555556,
              "#d8576b"
             ],
             [
              0.6666666666666666,
              "#ed7953"
             ],
             [
              0.7777777777777778,
              "#fb9f3a"
             ],
             [
              0.8888888888888888,
              "#fdca26"
             ],
             [
              1,
              "#f0f921"
             ]
            ],
            "type": "contour"
           }
          ],
          "contourcarpet": [
           {
            "colorbar": {
             "outlinewidth": 0,
             "ticks": ""
            },
            "type": "contourcarpet"
           }
          ],
          "heatmap": [
           {
            "colorbar": {
             "outlinewidth": 0,
             "ticks": ""
            },
            "colorscale": [
             [
              0,
              "#0d0887"
             ],
             [
              0.1111111111111111,
              "#46039f"
             ],
             [
              0.2222222222222222,
              "#7201a8"
             ],
             [
              0.3333333333333333,
              "#9c179e"
             ],
             [
              0.4444444444444444,
              "#bd3786"
             ],
             [
              0.5555555555555556,
              "#d8576b"
             ],
             [
              0.6666666666666666,
              "#ed7953"
             ],
             [
              0.7777777777777778,
              "#fb9f3a"
             ],
             [
              0.8888888888888888,
              "#fdca26"
             ],
             [
              1,
              "#f0f921"
             ]
            ],
            "type": "heatmap"
           }
          ],
          "heatmapgl": [
           {
            "colorbar": {
             "outlinewidth": 0,
             "ticks": ""
            },
            "colorscale": [
             [
              0,
              "#0d0887"
             ],
             [
              0.1111111111111111,
              "#46039f"
             ],
             [
              0.2222222222222222,
              "#7201a8"
             ],
             [
              0.3333333333333333,
              "#9c179e"
             ],
             [
              0.4444444444444444,
              "#bd3786"
             ],
             [
              0.5555555555555556,
              "#d8576b"
             ],
             [
              0.6666666666666666,
              "#ed7953"
             ],
             [
              0.7777777777777778,
              "#fb9f3a"
             ],
             [
              0.8888888888888888,
              "#fdca26"
             ],
             [
              1,
              "#f0f921"
             ]
            ],
            "type": "heatmapgl"
           }
          ],
          "histogram": [
           {
            "marker": {
             "pattern": {
              "fillmode": "overlay",
              "size": 10,
              "solidity": 0.2
             }
            },
            "type": "histogram"
           }
          ],
          "histogram2d": [
           {
            "colorbar": {
             "outlinewidth": 0,
             "ticks": ""
            },
            "colorscale": [
             [
              0,
              "#0d0887"
             ],
             [
              0.1111111111111111,
              "#46039f"
             ],
             [
              0.2222222222222222,
              "#7201a8"
             ],
             [
              0.3333333333333333,
              "#9c179e"
             ],
             [
              0.4444444444444444,
              "#bd3786"
             ],
             [
              0.5555555555555556,
              "#d8576b"
             ],
             [
              0.6666666666666666,
              "#ed7953"
             ],
             [
              0.7777777777777778,
              "#fb9f3a"
             ],
             [
              0.8888888888888888,
              "#fdca26"
             ],
             [
              1,
              "#f0f921"
             ]
            ],
            "type": "histogram2d"
           }
          ],
          "histogram2dcontour": [
           {
            "colorbar": {
             "outlinewidth": 0,
             "ticks": ""
            },
            "colorscale": [
             [
              0,
              "#0d0887"
             ],
             [
              0.1111111111111111,
              "#46039f"
             ],
             [
              0.2222222222222222,
              "#7201a8"
             ],
             [
              0.3333333333333333,
              "#9c179e"
             ],
             [
              0.4444444444444444,
              "#bd3786"
             ],
             [
              0.5555555555555556,
              "#d8576b"
             ],
             [
              0.6666666666666666,
              "#ed7953"
             ],
             [
              0.7777777777777778,
              "#fb9f3a"
             ],
             [
              0.8888888888888888,
              "#fdca26"
             ],
             [
              1,
              "#f0f921"
             ]
            ],
            "type": "histogram2dcontour"
           }
          ],
          "mesh3d": [
           {
            "colorbar": {
             "outlinewidth": 0,
             "ticks": ""
            },
            "type": "mesh3d"
           }
          ],
          "parcoords": [
           {
            "line": {
             "colorbar": {
              "outlinewidth": 0,
              "ticks": ""
             }
            },
            "type": "parcoords"
           }
          ],
          "pie": [
           {
            "automargin": true,
            "type": "pie"
           }
          ],
          "scatter": [
           {
            "fillpattern": {
             "fillmode": "overlay",
             "size": 10,
             "solidity": 0.2
            },
            "type": "scatter"
           }
          ],
          "scatter3d": [
           {
            "line": {
             "colorbar": {
              "outlinewidth": 0,
              "ticks": ""
             }
            },
            "marker": {
             "colorbar": {
              "outlinewidth": 0,
              "ticks": ""
             }
            },
            "type": "scatter3d"
           }
          ],
          "scattercarpet": [
           {
            "marker": {
             "colorbar": {
              "outlinewidth": 0,
              "ticks": ""
             }
            },
            "type": "scattercarpet"
           }
          ],
          "scattergeo": [
           {
            "marker": {
             "colorbar": {
              "outlinewidth": 0,
              "ticks": ""
             }
            },
            "type": "scattergeo"
           }
          ],
          "scattergl": [
           {
            "marker": {
             "colorbar": {
              "outlinewidth": 0,
              "ticks": ""
             }
            },
            "type": "scattergl"
           }
          ],
          "scattermapbox": [
           {
            "marker": {
             "colorbar": {
              "outlinewidth": 0,
              "ticks": ""
             }
            },
            "type": "scattermapbox"
           }
          ],
          "scatterpolar": [
           {
            "marker": {
             "colorbar": {
              "outlinewidth": 0,
              "ticks": ""
             }
            },
            "type": "scatterpolar"
           }
          ],
          "scatterpolargl": [
           {
            "marker": {
             "colorbar": {
              "outlinewidth": 0,
              "ticks": ""
             }
            },
            "type": "scatterpolargl"
           }
          ],
          "scatterternary": [
           {
            "marker": {
             "colorbar": {
              "outlinewidth": 0,
              "ticks": ""
             }
            },
            "type": "scatterternary"
           }
          ],
          "surface": [
           {
            "colorbar": {
             "outlinewidth": 0,
             "ticks": ""
            },
            "colorscale": [
             [
              0,
              "#0d0887"
             ],
             [
              0.1111111111111111,
              "#46039f"
             ],
             [
              0.2222222222222222,
              "#7201a8"
             ],
             [
              0.3333333333333333,
              "#9c179e"
             ],
             [
              0.4444444444444444,
              "#bd3786"
             ],
             [
              0.5555555555555556,
              "#d8576b"
             ],
             [
              0.6666666666666666,
              "#ed7953"
             ],
             [
              0.7777777777777778,
              "#fb9f3a"
             ],
             [
              0.8888888888888888,
              "#fdca26"
             ],
             [
              1,
              "#f0f921"
             ]
            ],
            "type": "surface"
           }
          ],
          "table": [
           {
            "cells": {
             "fill": {
              "color": "#EBF0F8"
             },
             "line": {
              "color": "white"
             }
            },
            "header": {
             "fill": {
              "color": "#C8D4E3"
             },
             "line": {
              "color": "white"
             }
            },
            "type": "table"
           }
          ]
         },
         "layout": {
          "annotationdefaults": {
           "arrowcolor": "#2a3f5f",
           "arrowhead": 0,
           "arrowwidth": 1
          },
          "autotypenumbers": "strict",
          "coloraxis": {
           "colorbar": {
            "outlinewidth": 0,
            "ticks": ""
           }
          },
          "colorscale": {
           "diverging": [
            [
             0,
             "#8e0152"
            ],
            [
             0.1,
             "#c51b7d"
            ],
            [
             0.2,
             "#de77ae"
            ],
            [
             0.3,
             "#f1b6da"
            ],
            [
             0.4,
             "#fde0ef"
            ],
            [
             0.5,
             "#f7f7f7"
            ],
            [
             0.6,
             "#e6f5d0"
            ],
            [
             0.7,
             "#b8e186"
            ],
            [
             0.8,
             "#7fbc41"
            ],
            [
             0.9,
             "#4d9221"
            ],
            [
             1,
             "#276419"
            ]
           ],
           "sequential": [
            [
             0,
             "#0d0887"
            ],
            [
             0.1111111111111111,
             "#46039f"
            ],
            [
             0.2222222222222222,
             "#7201a8"
            ],
            [
             0.3333333333333333,
             "#9c179e"
            ],
            [
             0.4444444444444444,
             "#bd3786"
            ],
            [
             0.5555555555555556,
             "#d8576b"
            ],
            [
             0.6666666666666666,
             "#ed7953"
            ],
            [
             0.7777777777777778,
             "#fb9f3a"
            ],
            [
             0.8888888888888888,
             "#fdca26"
            ],
            [
             1,
             "#f0f921"
            ]
           ],
           "sequentialminus": [
            [
             0,
             "#0d0887"
            ],
            [
             0.1111111111111111,
             "#46039f"
            ],
            [
             0.2222222222222222,
             "#7201a8"
            ],
            [
             0.3333333333333333,
             "#9c179e"
            ],
            [
             0.4444444444444444,
             "#bd3786"
            ],
            [
             0.5555555555555556,
             "#d8576b"
            ],
            [
             0.6666666666666666,
             "#ed7953"
            ],
            [
             0.7777777777777778,
             "#fb9f3a"
            ],
            [
             0.8888888888888888,
             "#fdca26"
            ],
            [
             1,
             "#f0f921"
            ]
           ]
          },
          "colorway": [
           "#636efa",
           "#EF553B",
           "#00cc96",
           "#ab63fa",
           "#FFA15A",
           "#19d3f3",
           "#FF6692",
           "#B6E880",
           "#FF97FF",
           "#FECB52"
          ],
          "font": {
           "color": "#2a3f5f"
          },
          "geo": {
           "bgcolor": "white",
           "lakecolor": "white",
           "landcolor": "#E5ECF6",
           "showlakes": true,
           "showland": true,
           "subunitcolor": "white"
          },
          "hoverlabel": {
           "align": "left"
          },
          "hovermode": "closest",
          "mapbox": {
           "style": "light"
          },
          "paper_bgcolor": "white",
          "plot_bgcolor": "#E5ECF6",
          "polar": {
           "angularaxis": {
            "gridcolor": "white",
            "linecolor": "white",
            "ticks": ""
           },
           "bgcolor": "#E5ECF6",
           "radialaxis": {
            "gridcolor": "white",
            "linecolor": "white",
            "ticks": ""
           }
          },
          "scene": {
           "xaxis": {
            "backgroundcolor": "#E5ECF6",
            "gridcolor": "white",
            "gridwidth": 2,
            "linecolor": "white",
            "showbackground": true,
            "ticks": "",
            "zerolinecolor": "white"
           },
           "yaxis": {
            "backgroundcolor": "#E5ECF6",
            "gridcolor": "white",
            "gridwidth": 2,
            "linecolor": "white",
            "showbackground": true,
            "ticks": "",
            "zerolinecolor": "white"
           },
           "zaxis": {
            "backgroundcolor": "#E5ECF6",
            "gridcolor": "white",
            "gridwidth": 2,
            "linecolor": "white",
            "showbackground": true,
            "ticks": "",
            "zerolinecolor": "white"
           }
          },
          "shapedefaults": {
           "line": {
            "color": "#2a3f5f"
           }
          },
          "ternary": {
           "aaxis": {
            "gridcolor": "white",
            "linecolor": "white",
            "ticks": ""
           },
           "baxis": {
            "gridcolor": "white",
            "linecolor": "white",
            "ticks": ""
           },
           "bgcolor": "#E5ECF6",
           "caxis": {
            "gridcolor": "white",
            "linecolor": "white",
            "ticks": ""
           }
          },
          "title": {
           "x": 0.05
          },
          "xaxis": {
           "automargin": true,
           "gridcolor": "white",
           "linecolor": "white",
           "ticks": "",
           "title": {
            "standoff": 15
           },
           "zerolinecolor": "white",
           "zerolinewidth": 2
          },
          "yaxis": {
           "automargin": true,
           "gridcolor": "white",
           "linecolor": "white",
           "ticks": "",
           "title": {
            "standoff": 15
           },
           "zerolinecolor": "white",
           "zerolinewidth": 2
          }
         }
        },
        "title": {
         "text": "Distribution of Orders Count Across Clients for Each Prestation"
        },
        "xaxis": {
         "anchor": "y",
         "domain": [
          0,
          0.31999999999999995
         ],
         "title": {
          "text": "Orders Count"
         }
        },
        "xaxis2": {
         "anchor": "y2",
         "domain": [
          0.33999999999999997,
          0.6599999999999999
         ],
         "matches": "x",
         "title": {
          "text": "Orders Count"
         }
        },
        "xaxis3": {
         "anchor": "y3",
         "domain": [
          0.6799999999999999,
          0.9999999999999999
         ],
         "matches": "x",
         "title": {
          "text": "Orders Count"
         }
        },
        "xaxis4": {
         "anchor": "y4",
         "domain": [
          0,
          0.31999999999999995
         ],
         "matches": "x",
         "showticklabels": false
        },
        "xaxis5": {
         "anchor": "y5",
         "domain": [
          0.33999999999999997,
          0.6599999999999999
         ],
         "matches": "x",
         "showticklabels": false
        },
        "xaxis6": {
         "anchor": "y6",
         "domain": [
          0.6799999999999999,
          0.9999999999999999
         ],
         "matches": "x",
         "showticklabels": false
        },
        "xaxis7": {
         "anchor": "y7",
         "domain": [
          0,
          0.31999999999999995
         ],
         "matches": "x",
         "showticklabels": false
        },
        "xaxis8": {
         "anchor": "y8",
         "domain": [
          0.33999999999999997,
          0.6599999999999999
         ],
         "matches": "x",
         "showticklabels": false
        },
        "xaxis9": {
         "anchor": "y9",
         "domain": [
          0.6799999999999999,
          0.9999999999999999
         ],
         "matches": "x",
         "showticklabels": false
        },
        "yaxis": {
         "anchor": "x",
         "domain": [
          0,
          0.2866666666666666
         ],
         "title": {
          "text": "count"
         }
        },
        "yaxis2": {
         "anchor": "x2",
         "domain": [
          0,
          0.2866666666666666
         ],
         "matches": "y",
         "showticklabels": false
        },
        "yaxis3": {
         "anchor": "x3",
         "domain": [
          0,
          0.2866666666666666
         ],
         "matches": "y",
         "showticklabels": false
        },
        "yaxis4": {
         "anchor": "x4",
         "domain": [
          0.35666666666666663,
          0.6433333333333333
         ],
         "matches": "y",
         "title": {
          "text": "count"
         }
        },
        "yaxis5": {
         "anchor": "x5",
         "domain": [
          0.35666666666666663,
          0.6433333333333333
         ],
         "matches": "y",
         "showticklabels": false
        },
        "yaxis6": {
         "anchor": "x6",
         "domain": [
          0.35666666666666663,
          0.6433333333333333
         ],
         "matches": "y",
         "showticklabels": false
        },
        "yaxis7": {
         "anchor": "x7",
         "domain": [
          0.7133333333333333,
          0.9999999999999999
         ],
         "matches": "y",
         "title": {
          "text": "count"
         }
        },
        "yaxis8": {
         "anchor": "x8",
         "domain": [
          0.7133333333333333,
          0.9999999999999999
         ],
         "matches": "y",
         "showticklabels": false
        },
        "yaxis9": {
         "anchor": "x9",
         "domain": [
          0.7133333333333333,
          0.9999999999999999
         ],
         "matches": "y",
         "showticklabels": false
        }
       }
      }
     },
     "metadata": {},
     "output_type": "display_data"
    }
   ],
   "source": [
    "JAN24_df['Date'] = pd.to_datetime(JAN24_df['Date'])\n",
    "\n",
    "# Group by 'ID Client' and count the number of orders for each 'Prestation'\n",
    "orders_count = JAN24_df.groupby(['ID Client', 'Prestation']).size().reset_index(name='Orders Count')\n",
    "\n",
    "# Plot distribution of orders count across clients for each specified 'Prestation' using Plotly with darkorchid color\n",
    "fig = px.histogram(orders_count, x='Orders Count', facet_col='Prestation', title='Distribution of Orders Count Across Clients for Each Prestation', color_discrete_sequence=['darkorchid'], facet_col_wrap=3)\n",
    "fig.show()"
   ]
  },
  {
   "cell_type": "code",
   "execution_count": 19,
   "metadata": {},
   "outputs": [
    {
     "name": "stdout",
     "output_type": "stream",
     "text": [
      "Percentage of clients who placed only one order in the month: 5.22%\n"
     ]
    }
   ],
   "source": [
    "orders_per_client = JAN24_df.groupby('ID Client').size().reset_index(name='Orders Count')\n",
    "\n",
    "clients_with_single_order = orders_per_client[orders_per_client['Orders Count'] == 1]\n",
    "\n",
    "percentage_single_order_clients = (len(clients_with_single_order) / len(orders_per_client)) * 100\n",
    "\n",
    "print(f\"Percentage of clients who placed only one order in the month: {percentage_single_order_clients:.2f}%\")"
   ]
  },
  {
   "cell_type": "code",
   "execution_count": 20,
   "metadata": {},
   "outputs": [],
   "source": [
    "JAN24_df['Date'] = pd.to_datetime(JAN24_df['Date'])\n",
    "\n",
    "JAN24_df['Week'] = JAN24_df['Date'].dt.isocalendar().week\n",
    "JAN24_df['Month'] = JAN24_df['Date'].dt.month\n",
    "\n",
    "weekly_counts_per_month = JAN24_df.groupby(['Month', 'ID Client'])['Week'].nunique()\n"
   ]
  },
  {
   "cell_type": "code",
   "execution_count": 21,
   "metadata": {},
   "outputs": [
    {
     "name": "stdout",
     "output_type": "stream",
     "text": [
      "Percentage of clients who placed at least one order every week: 73.91%\n"
     ]
    }
   ],
   "source": [
    "percentage_reg = weekly_counts_per_month[weekly_counts_per_month >= 4].size / weekly_counts_per_month.size\n",
    "\n",
    "print(f\"Percentage of clients who placed at least one order every week: {percentage_reg*100:.2f}%\")"
   ]
  },
  {
   "cell_type": "markdown",
   "metadata": {},
   "source": [
    "### Regular clients"
   ]
  },
  {
   "cell_type": "code",
   "execution_count": 22,
   "metadata": {},
   "outputs": [
    {
     "name": "stdout",
     "output_type": "stream",
     "text": [
      "Clients with the same number of orders every week:\n",
      "[  78691389   78873790   79598982   79600570   82135699   88672872\n",
      "   97922195  167937489  188178602  197278699  205495806  297413132\n",
      "  298597763  334442311  334811042  352744112  433149947  438309694\n",
      "  452687307  452919640  474721965  476321344  477580072  479391393\n",
      "  481413999  531956083  565078696  569981306  570590313  599471591\n",
      "  607763952  609495444  657893693  662280369  727679560  728081901\n",
      "  740412946  751167409  755498685  756396600  764206151  793803218\n",
      "  817947464  826666511  827142453  855391156  858147751  860937824\n",
      "  863374497 1452740690 1452763176 1453084257]\n"
     ]
    }
   ],
   "source": [
    "JAN24_df['Date'] = pd.to_datetime(JAN24_df['Date'])\n",
    "\n",
    "orders_per_week = JAN24_df.groupby(['ID Client', JAN24_df['Date'].dt.isocalendar().week])['Prestation'].count().reset_index()\n",
    "\n",
    "clients_with_same_orders_per_week = orders_per_week.groupby('ID Client').filter(lambda x: len(x['Prestation'].unique()) == 1)\n",
    "\n",
    "clients_list = clients_with_same_orders_per_week['ID Client'].unique()\n",
    "\n",
    "print(\"Clients with the same number of orders every week:\")\n",
    "print(clients_list)"
   ]
  },
  {
   "cell_type": "code",
   "execution_count": 23,
   "metadata": {},
   "outputs": [
    {
     "name": "stdout",
     "output_type": "stream",
     "text": [
      "Percentage of clients with the same number of orders every week: 45.21739130434783\n"
     ]
    }
   ],
   "source": [
    "JAN24_df['Date'] = pd.to_datetime(JAN24_df['Date'])\n",
    "\n",
    "orders_per_week = JAN24_df.groupby(['ID Client', JAN24_df['Date'].dt.isocalendar().week])['Prestation'].count().reset_index()\n",
    "\n",
    "clients_with_same_orders_per_week = orders_per_week.groupby('ID Client').filter(lambda x: len(x['Prestation'].unique()) == 1)\n",
    "\n",
    "num_clients_same_orders = len(clients_with_same_orders_per_week['ID Client'].unique())\n",
    "\n",
    "total_unique_clients = JAN24_df['ID Client'].nunique()\n",
    "\n",
    "percentage_clients_same_orders = (num_clients_same_orders / total_unique_clients) * 100\n",
    "\n",
    "print(\"Percentage of clients with the same number of orders every week:\", percentage_clients_same_orders)"
   ]
  },
  {
   "cell_type": "code",
   "execution_count": 24,
   "metadata": {},
   "outputs": [],
   "source": [
    "reg_client1 = JAN24_df[JAN24_df['ID Client'] == 78691389]"
   ]
  },
  {
   "cell_type": "code",
   "execution_count": 25,
   "metadata": {},
   "outputs": [],
   "source": [
    "reg_client2 = JAN24_df[JAN24_df['ID Client'] == 662280369]"
   ]
  },
  {
   "cell_type": "code",
   "execution_count": 26,
   "metadata": {},
   "outputs": [
    {
     "data": {
      "application/vnd.plotly.v1+json": {
       "config": {
        "plotlyServerURL": "https://plot.ly"
       },
       "data": [
        {
         "marker": {
          "color": "plum",
          "size": 10
         },
         "mode": "markers",
         "type": "scatter",
         "x": [
          "2024-01-03T00:00:00",
          "2024-01-10T00:00:00",
          "2024-01-17T00:00:00",
          "2024-01-24T00:00:00",
          "2024-01-31T00:00:00"
         ],
         "y": [
          1,
          1,
          1,
          1,
          1
         ]
        }
       ],
       "layout": {
        "height": 200,
        "margin": {
         "b": 0,
         "l": 0,
         "r": 0,
         "t": 50
        },
        "template": {
         "data": {
          "bar": [
           {
            "error_x": {
             "color": "#2a3f5f"
            },
            "error_y": {
             "color": "#2a3f5f"
            },
            "marker": {
             "line": {
              "color": "#E5ECF6",
              "width": 0.5
             },
             "pattern": {
              "fillmode": "overlay",
              "size": 10,
              "solidity": 0.2
             }
            },
            "type": "bar"
           }
          ],
          "barpolar": [
           {
            "marker": {
             "line": {
              "color": "#E5ECF6",
              "width": 0.5
             },
             "pattern": {
              "fillmode": "overlay",
              "size": 10,
              "solidity": 0.2
             }
            },
            "type": "barpolar"
           }
          ],
          "carpet": [
           {
            "aaxis": {
             "endlinecolor": "#2a3f5f",
             "gridcolor": "white",
             "linecolor": "white",
             "minorgridcolor": "white",
             "startlinecolor": "#2a3f5f"
            },
            "baxis": {
             "endlinecolor": "#2a3f5f",
             "gridcolor": "white",
             "linecolor": "white",
             "minorgridcolor": "white",
             "startlinecolor": "#2a3f5f"
            },
            "type": "carpet"
           }
          ],
          "choropleth": [
           {
            "colorbar": {
             "outlinewidth": 0,
             "ticks": ""
            },
            "type": "choropleth"
           }
          ],
          "contour": [
           {
            "colorbar": {
             "outlinewidth": 0,
             "ticks": ""
            },
            "colorscale": [
             [
              0,
              "#0d0887"
             ],
             [
              0.1111111111111111,
              "#46039f"
             ],
             [
              0.2222222222222222,
              "#7201a8"
             ],
             [
              0.3333333333333333,
              "#9c179e"
             ],
             [
              0.4444444444444444,
              "#bd3786"
             ],
             [
              0.5555555555555556,
              "#d8576b"
             ],
             [
              0.6666666666666666,
              "#ed7953"
             ],
             [
              0.7777777777777778,
              "#fb9f3a"
             ],
             [
              0.8888888888888888,
              "#fdca26"
             ],
             [
              1,
              "#f0f921"
             ]
            ],
            "type": "contour"
           }
          ],
          "contourcarpet": [
           {
            "colorbar": {
             "outlinewidth": 0,
             "ticks": ""
            },
            "type": "contourcarpet"
           }
          ],
          "heatmap": [
           {
            "colorbar": {
             "outlinewidth": 0,
             "ticks": ""
            },
            "colorscale": [
             [
              0,
              "#0d0887"
             ],
             [
              0.1111111111111111,
              "#46039f"
             ],
             [
              0.2222222222222222,
              "#7201a8"
             ],
             [
              0.3333333333333333,
              "#9c179e"
             ],
             [
              0.4444444444444444,
              "#bd3786"
             ],
             [
              0.5555555555555556,
              "#d8576b"
             ],
             [
              0.6666666666666666,
              "#ed7953"
             ],
             [
              0.7777777777777778,
              "#fb9f3a"
             ],
             [
              0.8888888888888888,
              "#fdca26"
             ],
             [
              1,
              "#f0f921"
             ]
            ],
            "type": "heatmap"
           }
          ],
          "heatmapgl": [
           {
            "colorbar": {
             "outlinewidth": 0,
             "ticks": ""
            },
            "colorscale": [
             [
              0,
              "#0d0887"
             ],
             [
              0.1111111111111111,
              "#46039f"
             ],
             [
              0.2222222222222222,
              "#7201a8"
             ],
             [
              0.3333333333333333,
              "#9c179e"
             ],
             [
              0.4444444444444444,
              "#bd3786"
             ],
             [
              0.5555555555555556,
              "#d8576b"
             ],
             [
              0.6666666666666666,
              "#ed7953"
             ],
             [
              0.7777777777777778,
              "#fb9f3a"
             ],
             [
              0.8888888888888888,
              "#fdca26"
             ],
             [
              1,
              "#f0f921"
             ]
            ],
            "type": "heatmapgl"
           }
          ],
          "histogram": [
           {
            "marker": {
             "pattern": {
              "fillmode": "overlay",
              "size": 10,
              "solidity": 0.2
             }
            },
            "type": "histogram"
           }
          ],
          "histogram2d": [
           {
            "colorbar": {
             "outlinewidth": 0,
             "ticks": ""
            },
            "colorscale": [
             [
              0,
              "#0d0887"
             ],
             [
              0.1111111111111111,
              "#46039f"
             ],
             [
              0.2222222222222222,
              "#7201a8"
             ],
             [
              0.3333333333333333,
              "#9c179e"
             ],
             [
              0.4444444444444444,
              "#bd3786"
             ],
             [
              0.5555555555555556,
              "#d8576b"
             ],
             [
              0.6666666666666666,
              "#ed7953"
             ],
             [
              0.7777777777777778,
              "#fb9f3a"
             ],
             [
              0.8888888888888888,
              "#fdca26"
             ],
             [
              1,
              "#f0f921"
             ]
            ],
            "type": "histogram2d"
           }
          ],
          "histogram2dcontour": [
           {
            "colorbar": {
             "outlinewidth": 0,
             "ticks": ""
            },
            "colorscale": [
             [
              0,
              "#0d0887"
             ],
             [
              0.1111111111111111,
              "#46039f"
             ],
             [
              0.2222222222222222,
              "#7201a8"
             ],
             [
              0.3333333333333333,
              "#9c179e"
             ],
             [
              0.4444444444444444,
              "#bd3786"
             ],
             [
              0.5555555555555556,
              "#d8576b"
             ],
             [
              0.6666666666666666,
              "#ed7953"
             ],
             [
              0.7777777777777778,
              "#fb9f3a"
             ],
             [
              0.8888888888888888,
              "#fdca26"
             ],
             [
              1,
              "#f0f921"
             ]
            ],
            "type": "histogram2dcontour"
           }
          ],
          "mesh3d": [
           {
            "colorbar": {
             "outlinewidth": 0,
             "ticks": ""
            },
            "type": "mesh3d"
           }
          ],
          "parcoords": [
           {
            "line": {
             "colorbar": {
              "outlinewidth": 0,
              "ticks": ""
             }
            },
            "type": "parcoords"
           }
          ],
          "pie": [
           {
            "automargin": true,
            "type": "pie"
           }
          ],
          "scatter": [
           {
            "fillpattern": {
             "fillmode": "overlay",
             "size": 10,
             "solidity": 0.2
            },
            "type": "scatter"
           }
          ],
          "scatter3d": [
           {
            "line": {
             "colorbar": {
              "outlinewidth": 0,
              "ticks": ""
             }
            },
            "marker": {
             "colorbar": {
              "outlinewidth": 0,
              "ticks": ""
             }
            },
            "type": "scatter3d"
           }
          ],
          "scattercarpet": [
           {
            "marker": {
             "colorbar": {
              "outlinewidth": 0,
              "ticks": ""
             }
            },
            "type": "scattercarpet"
           }
          ],
          "scattergeo": [
           {
            "marker": {
             "colorbar": {
              "outlinewidth": 0,
              "ticks": ""
             }
            },
            "type": "scattergeo"
           }
          ],
          "scattergl": [
           {
            "marker": {
             "colorbar": {
              "outlinewidth": 0,
              "ticks": ""
             }
            },
            "type": "scattergl"
           }
          ],
          "scattermapbox": [
           {
            "marker": {
             "colorbar": {
              "outlinewidth": 0,
              "ticks": ""
             }
            },
            "type": "scattermapbox"
           }
          ],
          "scatterpolar": [
           {
            "marker": {
             "colorbar": {
              "outlinewidth": 0,
              "ticks": ""
             }
            },
            "type": "scatterpolar"
           }
          ],
          "scatterpolargl": [
           {
            "marker": {
             "colorbar": {
              "outlinewidth": 0,
              "ticks": ""
             }
            },
            "type": "scatterpolargl"
           }
          ],
          "scatterternary": [
           {
            "marker": {
             "colorbar": {
              "outlinewidth": 0,
              "ticks": ""
             }
            },
            "type": "scatterternary"
           }
          ],
          "surface": [
           {
            "colorbar": {
             "outlinewidth": 0,
             "ticks": ""
            },
            "colorscale": [
             [
              0,
              "#0d0887"
             ],
             [
              0.1111111111111111,
              "#46039f"
             ],
             [
              0.2222222222222222,
              "#7201a8"
             ],
             [
              0.3333333333333333,
              "#9c179e"
             ],
             [
              0.4444444444444444,
              "#bd3786"
             ],
             [
              0.5555555555555556,
              "#d8576b"
             ],
             [
              0.6666666666666666,
              "#ed7953"
             ],
             [
              0.7777777777777778,
              "#fb9f3a"
             ],
             [
              0.8888888888888888,
              "#fdca26"
             ],
             [
              1,
              "#f0f921"
             ]
            ],
            "type": "surface"
           }
          ],
          "table": [
           {
            "cells": {
             "fill": {
              "color": "#EBF0F8"
             },
             "line": {
              "color": "white"
             }
            },
            "header": {
             "fill": {
              "color": "#C8D4E3"
             },
             "line": {
              "color": "white"
             }
            },
            "type": "table"
           }
          ]
         },
         "layout": {
          "annotationdefaults": {
           "arrowcolor": "#2a3f5f",
           "arrowhead": 0,
           "arrowwidth": 1
          },
          "autotypenumbers": "strict",
          "coloraxis": {
           "colorbar": {
            "outlinewidth": 0,
            "ticks": ""
           }
          },
          "colorscale": {
           "diverging": [
            [
             0,
             "#8e0152"
            ],
            [
             0.1,
             "#c51b7d"
            ],
            [
             0.2,
             "#de77ae"
            ],
            [
             0.3,
             "#f1b6da"
            ],
            [
             0.4,
             "#fde0ef"
            ],
            [
             0.5,
             "#f7f7f7"
            ],
            [
             0.6,
             "#e6f5d0"
            ],
            [
             0.7,
             "#b8e186"
            ],
            [
             0.8,
             "#7fbc41"
            ],
            [
             0.9,
             "#4d9221"
            ],
            [
             1,
             "#276419"
            ]
           ],
           "sequential": [
            [
             0,
             "#0d0887"
            ],
            [
             0.1111111111111111,
             "#46039f"
            ],
            [
             0.2222222222222222,
             "#7201a8"
            ],
            [
             0.3333333333333333,
             "#9c179e"
            ],
            [
             0.4444444444444444,
             "#bd3786"
            ],
            [
             0.5555555555555556,
             "#d8576b"
            ],
            [
             0.6666666666666666,
             "#ed7953"
            ],
            [
             0.7777777777777778,
             "#fb9f3a"
            ],
            [
             0.8888888888888888,
             "#fdca26"
            ],
            [
             1,
             "#f0f921"
            ]
           ],
           "sequentialminus": [
            [
             0,
             "#0d0887"
            ],
            [
             0.1111111111111111,
             "#46039f"
            ],
            [
             0.2222222222222222,
             "#7201a8"
            ],
            [
             0.3333333333333333,
             "#9c179e"
            ],
            [
             0.4444444444444444,
             "#bd3786"
            ],
            [
             0.5555555555555556,
             "#d8576b"
            ],
            [
             0.6666666666666666,
             "#ed7953"
            ],
            [
             0.7777777777777778,
             "#fb9f3a"
            ],
            [
             0.8888888888888888,
             "#fdca26"
            ],
            [
             1,
             "#f0f921"
            ]
           ]
          },
          "colorway": [
           "#636efa",
           "#EF553B",
           "#00cc96",
           "#ab63fa",
           "#FFA15A",
           "#19d3f3",
           "#FF6692",
           "#B6E880",
           "#FF97FF",
           "#FECB52"
          ],
          "font": {
           "color": "#2a3f5f"
          },
          "geo": {
           "bgcolor": "white",
           "lakecolor": "white",
           "landcolor": "#E5ECF6",
           "showlakes": true,
           "showland": true,
           "subunitcolor": "white"
          },
          "hoverlabel": {
           "align": "left"
          },
          "hovermode": "closest",
          "mapbox": {
           "style": "light"
          },
          "paper_bgcolor": "white",
          "plot_bgcolor": "#E5ECF6",
          "polar": {
           "angularaxis": {
            "gridcolor": "white",
            "linecolor": "white",
            "ticks": ""
           },
           "bgcolor": "#E5ECF6",
           "radialaxis": {
            "gridcolor": "white",
            "linecolor": "white",
            "ticks": ""
           }
          },
          "scene": {
           "xaxis": {
            "backgroundcolor": "#E5ECF6",
            "gridcolor": "white",
            "gridwidth": 2,
            "linecolor": "white",
            "showbackground": true,
            "ticks": "",
            "zerolinecolor": "white"
           },
           "yaxis": {
            "backgroundcolor": "#E5ECF6",
            "gridcolor": "white",
            "gridwidth": 2,
            "linecolor": "white",
            "showbackground": true,
            "ticks": "",
            "zerolinecolor": "white"
           },
           "zaxis": {
            "backgroundcolor": "#E5ECF6",
            "gridcolor": "white",
            "gridwidth": 2,
            "linecolor": "white",
            "showbackground": true,
            "ticks": "",
            "zerolinecolor": "white"
           }
          },
          "shapedefaults": {
           "line": {
            "color": "#2a3f5f"
           }
          },
          "ternary": {
           "aaxis": {
            "gridcolor": "white",
            "linecolor": "white",
            "ticks": ""
           },
           "baxis": {
            "gridcolor": "white",
            "linecolor": "white",
            "ticks": ""
           },
           "bgcolor": "#E5ECF6",
           "caxis": {
            "gridcolor": "white",
            "linecolor": "white",
            "ticks": ""
           }
          },
          "title": {
           "x": 0.05
          },
          "xaxis": {
           "automargin": true,
           "gridcolor": "white",
           "linecolor": "white",
           "ticks": "",
           "title": {
            "standoff": 15
           },
           "zerolinecolor": "white",
           "zerolinewidth": 2
          },
          "yaxis": {
           "automargin": true,
           "gridcolor": "white",
           "linecolor": "white",
           "ticks": "",
           "title": {
            "standoff": 15
           },
           "zerolinecolor": "white",
           "zerolinewidth": 2
          }
         }
        },
        "title": {
         "text": "Prestation orders for regular client (id = 78691389)"
        },
        "width": 600,
        "xaxis": {
         "tickangle": 45,
         "title": {
          "text": "Date"
         }
        },
        "yaxis": {
         "visible": false
        }
       }
      }
     },
     "metadata": {},
     "output_type": "display_data"
    }
   ],
   "source": [
    "fig = go.Figure()\n",
    "\n",
    "fig.add_trace(go.Scatter(x=reg_client1['Date'], y=[1] * len(reg_client1), mode='markers', marker=dict(color='plum', size=10)))\n",
    "\n",
    "# Update layout\n",
    "fig.update_layout(\n",
    "    title='Prestation orders for regular client (id = 78691389)',\n",
    "    xaxis_title='Date',\n",
    "    yaxis=dict(visible=False),  # Hide y-axis labels\n",
    "    xaxis=dict(tickangle=45),  # Rotate x-axis labels\n",
    "    margin=dict(l=0, r=0, t=50, b=0),  # Adjust margins\n",
    "    height=200,  # Adjust height\n",
    "    width=600  # Adjust width\n",
    ")\n",
    "\n",
    "fig.show()\n"
   ]
  },
  {
   "cell_type": "code",
   "execution_count": 27,
   "metadata": {},
   "outputs": [
    {
     "data": {
      "application/vnd.plotly.v1+json": {
       "config": {
        "plotlyServerURL": "https://plot.ly"
       },
       "data": [
        {
         "marker": {
          "color": "plum",
          "size": 10
         },
         "mode": "markers",
         "type": "scatter",
         "x": [
          "2024-01-03T00:00:00",
          "2024-01-10T00:00:00",
          "2024-01-16T00:00:00",
          "2024-01-25T00:00:00"
         ],
         "y": [
          1,
          1,
          1,
          1
         ]
        }
       ],
       "layout": {
        "height": 200,
        "margin": {
         "b": 0,
         "l": 0,
         "r": 0,
         "t": 50
        },
        "template": {
         "data": {
          "bar": [
           {
            "error_x": {
             "color": "#2a3f5f"
            },
            "error_y": {
             "color": "#2a3f5f"
            },
            "marker": {
             "line": {
              "color": "#E5ECF6",
              "width": 0.5
             },
             "pattern": {
              "fillmode": "overlay",
              "size": 10,
              "solidity": 0.2
             }
            },
            "type": "bar"
           }
          ],
          "barpolar": [
           {
            "marker": {
             "line": {
              "color": "#E5ECF6",
              "width": 0.5
             },
             "pattern": {
              "fillmode": "overlay",
              "size": 10,
              "solidity": 0.2
             }
            },
            "type": "barpolar"
           }
          ],
          "carpet": [
           {
            "aaxis": {
             "endlinecolor": "#2a3f5f",
             "gridcolor": "white",
             "linecolor": "white",
             "minorgridcolor": "white",
             "startlinecolor": "#2a3f5f"
            },
            "baxis": {
             "endlinecolor": "#2a3f5f",
             "gridcolor": "white",
             "linecolor": "white",
             "minorgridcolor": "white",
             "startlinecolor": "#2a3f5f"
            },
            "type": "carpet"
           }
          ],
          "choropleth": [
           {
            "colorbar": {
             "outlinewidth": 0,
             "ticks": ""
            },
            "type": "choropleth"
           }
          ],
          "contour": [
           {
            "colorbar": {
             "outlinewidth": 0,
             "ticks": ""
            },
            "colorscale": [
             [
              0,
              "#0d0887"
             ],
             [
              0.1111111111111111,
              "#46039f"
             ],
             [
              0.2222222222222222,
              "#7201a8"
             ],
             [
              0.3333333333333333,
              "#9c179e"
             ],
             [
              0.4444444444444444,
              "#bd3786"
             ],
             [
              0.5555555555555556,
              "#d8576b"
             ],
             [
              0.6666666666666666,
              "#ed7953"
             ],
             [
              0.7777777777777778,
              "#fb9f3a"
             ],
             [
              0.8888888888888888,
              "#fdca26"
             ],
             [
              1,
              "#f0f921"
             ]
            ],
            "type": "contour"
           }
          ],
          "contourcarpet": [
           {
            "colorbar": {
             "outlinewidth": 0,
             "ticks": ""
            },
            "type": "contourcarpet"
           }
          ],
          "heatmap": [
           {
            "colorbar": {
             "outlinewidth": 0,
             "ticks": ""
            },
            "colorscale": [
             [
              0,
              "#0d0887"
             ],
             [
              0.1111111111111111,
              "#46039f"
             ],
             [
              0.2222222222222222,
              "#7201a8"
             ],
             [
              0.3333333333333333,
              "#9c179e"
             ],
             [
              0.4444444444444444,
              "#bd3786"
             ],
             [
              0.5555555555555556,
              "#d8576b"
             ],
             [
              0.6666666666666666,
              "#ed7953"
             ],
             [
              0.7777777777777778,
              "#fb9f3a"
             ],
             [
              0.8888888888888888,
              "#fdca26"
             ],
             [
              1,
              "#f0f921"
             ]
            ],
            "type": "heatmap"
           }
          ],
          "heatmapgl": [
           {
            "colorbar": {
             "outlinewidth": 0,
             "ticks": ""
            },
            "colorscale": [
             [
              0,
              "#0d0887"
             ],
             [
              0.1111111111111111,
              "#46039f"
             ],
             [
              0.2222222222222222,
              "#7201a8"
             ],
             [
              0.3333333333333333,
              "#9c179e"
             ],
             [
              0.4444444444444444,
              "#bd3786"
             ],
             [
              0.5555555555555556,
              "#d8576b"
             ],
             [
              0.6666666666666666,
              "#ed7953"
             ],
             [
              0.7777777777777778,
              "#fb9f3a"
             ],
             [
              0.8888888888888888,
              "#fdca26"
             ],
             [
              1,
              "#f0f921"
             ]
            ],
            "type": "heatmapgl"
           }
          ],
          "histogram": [
           {
            "marker": {
             "pattern": {
              "fillmode": "overlay",
              "size": 10,
              "solidity": 0.2
             }
            },
            "type": "histogram"
           }
          ],
          "histogram2d": [
           {
            "colorbar": {
             "outlinewidth": 0,
             "ticks": ""
            },
            "colorscale": [
             [
              0,
              "#0d0887"
             ],
             [
              0.1111111111111111,
              "#46039f"
             ],
             [
              0.2222222222222222,
              "#7201a8"
             ],
             [
              0.3333333333333333,
              "#9c179e"
             ],
             [
              0.4444444444444444,
              "#bd3786"
             ],
             [
              0.5555555555555556,
              "#d8576b"
             ],
             [
              0.6666666666666666,
              "#ed7953"
             ],
             [
              0.7777777777777778,
              "#fb9f3a"
             ],
             [
              0.8888888888888888,
              "#fdca26"
             ],
             [
              1,
              "#f0f921"
             ]
            ],
            "type": "histogram2d"
           }
          ],
          "histogram2dcontour": [
           {
            "colorbar": {
             "outlinewidth": 0,
             "ticks": ""
            },
            "colorscale": [
             [
              0,
              "#0d0887"
             ],
             [
              0.1111111111111111,
              "#46039f"
             ],
             [
              0.2222222222222222,
              "#7201a8"
             ],
             [
              0.3333333333333333,
              "#9c179e"
             ],
             [
              0.4444444444444444,
              "#bd3786"
             ],
             [
              0.5555555555555556,
              "#d8576b"
             ],
             [
              0.6666666666666666,
              "#ed7953"
             ],
             [
              0.7777777777777778,
              "#fb9f3a"
             ],
             [
              0.8888888888888888,
              "#fdca26"
             ],
             [
              1,
              "#f0f921"
             ]
            ],
            "type": "histogram2dcontour"
           }
          ],
          "mesh3d": [
           {
            "colorbar": {
             "outlinewidth": 0,
             "ticks": ""
            },
            "type": "mesh3d"
           }
          ],
          "parcoords": [
           {
            "line": {
             "colorbar": {
              "outlinewidth": 0,
              "ticks": ""
             }
            },
            "type": "parcoords"
           }
          ],
          "pie": [
           {
            "automargin": true,
            "type": "pie"
           }
          ],
          "scatter": [
           {
            "fillpattern": {
             "fillmode": "overlay",
             "size": 10,
             "solidity": 0.2
            },
            "type": "scatter"
           }
          ],
          "scatter3d": [
           {
            "line": {
             "colorbar": {
              "outlinewidth": 0,
              "ticks": ""
             }
            },
            "marker": {
             "colorbar": {
              "outlinewidth": 0,
              "ticks": ""
             }
            },
            "type": "scatter3d"
           }
          ],
          "scattercarpet": [
           {
            "marker": {
             "colorbar": {
              "outlinewidth": 0,
              "ticks": ""
             }
            },
            "type": "scattercarpet"
           }
          ],
          "scattergeo": [
           {
            "marker": {
             "colorbar": {
              "outlinewidth": 0,
              "ticks": ""
             }
            },
            "type": "scattergeo"
           }
          ],
          "scattergl": [
           {
            "marker": {
             "colorbar": {
              "outlinewidth": 0,
              "ticks": ""
             }
            },
            "type": "scattergl"
           }
          ],
          "scattermapbox": [
           {
            "marker": {
             "colorbar": {
              "outlinewidth": 0,
              "ticks": ""
             }
            },
            "type": "scattermapbox"
           }
          ],
          "scatterpolar": [
           {
            "marker": {
             "colorbar": {
              "outlinewidth": 0,
              "ticks": ""
             }
            },
            "type": "scatterpolar"
           }
          ],
          "scatterpolargl": [
           {
            "marker": {
             "colorbar": {
              "outlinewidth": 0,
              "ticks": ""
             }
            },
            "type": "scatterpolargl"
           }
          ],
          "scatterternary": [
           {
            "marker": {
             "colorbar": {
              "outlinewidth": 0,
              "ticks": ""
             }
            },
            "type": "scatterternary"
           }
          ],
          "surface": [
           {
            "colorbar": {
             "outlinewidth": 0,
             "ticks": ""
            },
            "colorscale": [
             [
              0,
              "#0d0887"
             ],
             [
              0.1111111111111111,
              "#46039f"
             ],
             [
              0.2222222222222222,
              "#7201a8"
             ],
             [
              0.3333333333333333,
              "#9c179e"
             ],
             [
              0.4444444444444444,
              "#bd3786"
             ],
             [
              0.5555555555555556,
              "#d8576b"
             ],
             [
              0.6666666666666666,
              "#ed7953"
             ],
             [
              0.7777777777777778,
              "#fb9f3a"
             ],
             [
              0.8888888888888888,
              "#fdca26"
             ],
             [
              1,
              "#f0f921"
             ]
            ],
            "type": "surface"
           }
          ],
          "table": [
           {
            "cells": {
             "fill": {
              "color": "#EBF0F8"
             },
             "line": {
              "color": "white"
             }
            },
            "header": {
             "fill": {
              "color": "#C8D4E3"
             },
             "line": {
              "color": "white"
             }
            },
            "type": "table"
           }
          ]
         },
         "layout": {
          "annotationdefaults": {
           "arrowcolor": "#2a3f5f",
           "arrowhead": 0,
           "arrowwidth": 1
          },
          "autotypenumbers": "strict",
          "coloraxis": {
           "colorbar": {
            "outlinewidth": 0,
            "ticks": ""
           }
          },
          "colorscale": {
           "diverging": [
            [
             0,
             "#8e0152"
            ],
            [
             0.1,
             "#c51b7d"
            ],
            [
             0.2,
             "#de77ae"
            ],
            [
             0.3,
             "#f1b6da"
            ],
            [
             0.4,
             "#fde0ef"
            ],
            [
             0.5,
             "#f7f7f7"
            ],
            [
             0.6,
             "#e6f5d0"
            ],
            [
             0.7,
             "#b8e186"
            ],
            [
             0.8,
             "#7fbc41"
            ],
            [
             0.9,
             "#4d9221"
            ],
            [
             1,
             "#276419"
            ]
           ],
           "sequential": [
            [
             0,
             "#0d0887"
            ],
            [
             0.1111111111111111,
             "#46039f"
            ],
            [
             0.2222222222222222,
             "#7201a8"
            ],
            [
             0.3333333333333333,
             "#9c179e"
            ],
            [
             0.4444444444444444,
             "#bd3786"
            ],
            [
             0.5555555555555556,
             "#d8576b"
            ],
            [
             0.6666666666666666,
             "#ed7953"
            ],
            [
             0.7777777777777778,
             "#fb9f3a"
            ],
            [
             0.8888888888888888,
             "#fdca26"
            ],
            [
             1,
             "#f0f921"
            ]
           ],
           "sequentialminus": [
            [
             0,
             "#0d0887"
            ],
            [
             0.1111111111111111,
             "#46039f"
            ],
            [
             0.2222222222222222,
             "#7201a8"
            ],
            [
             0.3333333333333333,
             "#9c179e"
            ],
            [
             0.4444444444444444,
             "#bd3786"
            ],
            [
             0.5555555555555556,
             "#d8576b"
            ],
            [
             0.6666666666666666,
             "#ed7953"
            ],
            [
             0.7777777777777778,
             "#fb9f3a"
            ],
            [
             0.8888888888888888,
             "#fdca26"
            ],
            [
             1,
             "#f0f921"
            ]
           ]
          },
          "colorway": [
           "#636efa",
           "#EF553B",
           "#00cc96",
           "#ab63fa",
           "#FFA15A",
           "#19d3f3",
           "#FF6692",
           "#B6E880",
           "#FF97FF",
           "#FECB52"
          ],
          "font": {
           "color": "#2a3f5f"
          },
          "geo": {
           "bgcolor": "white",
           "lakecolor": "white",
           "landcolor": "#E5ECF6",
           "showlakes": true,
           "showland": true,
           "subunitcolor": "white"
          },
          "hoverlabel": {
           "align": "left"
          },
          "hovermode": "closest",
          "mapbox": {
           "style": "light"
          },
          "paper_bgcolor": "white",
          "plot_bgcolor": "#E5ECF6",
          "polar": {
           "angularaxis": {
            "gridcolor": "white",
            "linecolor": "white",
            "ticks": ""
           },
           "bgcolor": "#E5ECF6",
           "radialaxis": {
            "gridcolor": "white",
            "linecolor": "white",
            "ticks": ""
           }
          },
          "scene": {
           "xaxis": {
            "backgroundcolor": "#E5ECF6",
            "gridcolor": "white",
            "gridwidth": 2,
            "linecolor": "white",
            "showbackground": true,
            "ticks": "",
            "zerolinecolor": "white"
           },
           "yaxis": {
            "backgroundcolor": "#E5ECF6",
            "gridcolor": "white",
            "gridwidth": 2,
            "linecolor": "white",
            "showbackground": true,
            "ticks": "",
            "zerolinecolor": "white"
           },
           "zaxis": {
            "backgroundcolor": "#E5ECF6",
            "gridcolor": "white",
            "gridwidth": 2,
            "linecolor": "white",
            "showbackground": true,
            "ticks": "",
            "zerolinecolor": "white"
           }
          },
          "shapedefaults": {
           "line": {
            "color": "#2a3f5f"
           }
          },
          "ternary": {
           "aaxis": {
            "gridcolor": "white",
            "linecolor": "white",
            "ticks": ""
           },
           "baxis": {
            "gridcolor": "white",
            "linecolor": "white",
            "ticks": ""
           },
           "bgcolor": "#E5ECF6",
           "caxis": {
            "gridcolor": "white",
            "linecolor": "white",
            "ticks": ""
           }
          },
          "title": {
           "x": 0.05
          },
          "xaxis": {
           "automargin": true,
           "gridcolor": "white",
           "linecolor": "white",
           "ticks": "",
           "title": {
            "standoff": 15
           },
           "zerolinecolor": "white",
           "zerolinewidth": 2
          },
          "yaxis": {
           "automargin": true,
           "gridcolor": "white",
           "linecolor": "white",
           "ticks": "",
           "title": {
            "standoff": 15
           },
           "zerolinecolor": "white",
           "zerolinewidth": 2
          }
         }
        },
        "title": {
         "text": "Prestation orders for regular clients (id = 662280369)"
        },
        "width": 600,
        "xaxis": {
         "tickangle": 45,
         "title": {
          "text": "Date"
         }
        },
        "yaxis": {
         "visible": false
        }
       }
      }
     },
     "metadata": {},
     "output_type": "display_data"
    }
   ],
   "source": [
    "fig = go.Figure()\n",
    "\n",
    "fig.add_trace(go.Scatter(x=reg_client2['Date'], y=[1] * len(reg_client2), mode='markers', marker=dict(color='plum', size=10)))\n",
    "\n",
    "# Update layout\n",
    "fig.update_layout(\n",
    "    title='Prestation orders for regular clients (id = 662280369)',\n",
    "    xaxis_title='Date',\n",
    "    yaxis=dict(visible=False),  # Hide y-axis labels\n",
    "    xaxis=dict(tickangle=45),  # Rotate x-axis labels\n",
    "    margin=dict(l=0, r=0, t=50, b=0),  # Adjust margins\n",
    "    height=200,  # Adjust height\n",
    "    width=600  # Adjust width\n",
    ")\n",
    "\n",
    "fig.show()"
   ]
  },
  {
   "cell_type": "code",
   "execution_count": 28,
   "metadata": {},
   "outputs": [
    {
     "data": {
      "application/vnd.plotly.v1+json": {
       "config": {
        "plotlyServerURL": "https://plot.ly"
       },
       "data": [
        {
         "alignmentgroup": "True",
         "hovertemplate": "Prestation=%{x}<br>y=%{y}<extra></extra>",
         "legendgroup": "",
         "marker": {
          "color": "darkorchid",
          "pattern": {
           "shape": ""
          }
         },
         "name": "",
         "offsetgroup": "",
         "orientation": "v",
         "showlegend": false,
         "textposition": "auto",
         "type": "bar",
         "x": [
          "AIDE MENAGERE",
          "TOILETTE",
          "ACCOMPAGNEMENTS COURSES",
          "GARDE D'ENFANTS",
          "REPAS"
         ],
         "xaxis": "x",
         "y": [
          158,
          29,
          8,
          3,
          1
         ],
         "yaxis": "y"
        }
       ],
       "layout": {
        "barmode": "relative",
        "legend": {
         "tracegroupgap": 0
        },
        "margin": {
         "t": 60
        },
        "template": {
         "data": {
          "bar": [
           {
            "error_x": {
             "color": "#2a3f5f"
            },
            "error_y": {
             "color": "#2a3f5f"
            },
            "marker": {
             "line": {
              "color": "#E5ECF6",
              "width": 0.5
             },
             "pattern": {
              "fillmode": "overlay",
              "size": 10,
              "solidity": 0.2
             }
            },
            "type": "bar"
           }
          ],
          "barpolar": [
           {
            "marker": {
             "line": {
              "color": "#E5ECF6",
              "width": 0.5
             },
             "pattern": {
              "fillmode": "overlay",
              "size": 10,
              "solidity": 0.2
             }
            },
            "type": "barpolar"
           }
          ],
          "carpet": [
           {
            "aaxis": {
             "endlinecolor": "#2a3f5f",
             "gridcolor": "white",
             "linecolor": "white",
             "minorgridcolor": "white",
             "startlinecolor": "#2a3f5f"
            },
            "baxis": {
             "endlinecolor": "#2a3f5f",
             "gridcolor": "white",
             "linecolor": "white",
             "minorgridcolor": "white",
             "startlinecolor": "#2a3f5f"
            },
            "type": "carpet"
           }
          ],
          "choropleth": [
           {
            "colorbar": {
             "outlinewidth": 0,
             "ticks": ""
            },
            "type": "choropleth"
           }
          ],
          "contour": [
           {
            "colorbar": {
             "outlinewidth": 0,
             "ticks": ""
            },
            "colorscale": [
             [
              0,
              "#0d0887"
             ],
             [
              0.1111111111111111,
              "#46039f"
             ],
             [
              0.2222222222222222,
              "#7201a8"
             ],
             [
              0.3333333333333333,
              "#9c179e"
             ],
             [
              0.4444444444444444,
              "#bd3786"
             ],
             [
              0.5555555555555556,
              "#d8576b"
             ],
             [
              0.6666666666666666,
              "#ed7953"
             ],
             [
              0.7777777777777778,
              "#fb9f3a"
             ],
             [
              0.8888888888888888,
              "#fdca26"
             ],
             [
              1,
              "#f0f921"
             ]
            ],
            "type": "contour"
           }
          ],
          "contourcarpet": [
           {
            "colorbar": {
             "outlinewidth": 0,
             "ticks": ""
            },
            "type": "contourcarpet"
           }
          ],
          "heatmap": [
           {
            "colorbar": {
             "outlinewidth": 0,
             "ticks": ""
            },
            "colorscale": [
             [
              0,
              "#0d0887"
             ],
             [
              0.1111111111111111,
              "#46039f"
             ],
             [
              0.2222222222222222,
              "#7201a8"
             ],
             [
              0.3333333333333333,
              "#9c179e"
             ],
             [
              0.4444444444444444,
              "#bd3786"
             ],
             [
              0.5555555555555556,
              "#d8576b"
             ],
             [
              0.6666666666666666,
              "#ed7953"
             ],
             [
              0.7777777777777778,
              "#fb9f3a"
             ],
             [
              0.8888888888888888,
              "#fdca26"
             ],
             [
              1,
              "#f0f921"
             ]
            ],
            "type": "heatmap"
           }
          ],
          "heatmapgl": [
           {
            "colorbar": {
             "outlinewidth": 0,
             "ticks": ""
            },
            "colorscale": [
             [
              0,
              "#0d0887"
             ],
             [
              0.1111111111111111,
              "#46039f"
             ],
             [
              0.2222222222222222,
              "#7201a8"
             ],
             [
              0.3333333333333333,
              "#9c179e"
             ],
             [
              0.4444444444444444,
              "#bd3786"
             ],
             [
              0.5555555555555556,
              "#d8576b"
             ],
             [
              0.6666666666666666,
              "#ed7953"
             ],
             [
              0.7777777777777778,
              "#fb9f3a"
             ],
             [
              0.8888888888888888,
              "#fdca26"
             ],
             [
              1,
              "#f0f921"
             ]
            ],
            "type": "heatmapgl"
           }
          ],
          "histogram": [
           {
            "marker": {
             "pattern": {
              "fillmode": "overlay",
              "size": 10,
              "solidity": 0.2
             }
            },
            "type": "histogram"
           }
          ],
          "histogram2d": [
           {
            "colorbar": {
             "outlinewidth": 0,
             "ticks": ""
            },
            "colorscale": [
             [
              0,
              "#0d0887"
             ],
             [
              0.1111111111111111,
              "#46039f"
             ],
             [
              0.2222222222222222,
              "#7201a8"
             ],
             [
              0.3333333333333333,
              "#9c179e"
             ],
             [
              0.4444444444444444,
              "#bd3786"
             ],
             [
              0.5555555555555556,
              "#d8576b"
             ],
             [
              0.6666666666666666,
              "#ed7953"
             ],
             [
              0.7777777777777778,
              "#fb9f3a"
             ],
             [
              0.8888888888888888,
              "#fdca26"
             ],
             [
              1,
              "#f0f921"
             ]
            ],
            "type": "histogram2d"
           }
          ],
          "histogram2dcontour": [
           {
            "colorbar": {
             "outlinewidth": 0,
             "ticks": ""
            },
            "colorscale": [
             [
              0,
              "#0d0887"
             ],
             [
              0.1111111111111111,
              "#46039f"
             ],
             [
              0.2222222222222222,
              "#7201a8"
             ],
             [
              0.3333333333333333,
              "#9c179e"
             ],
             [
              0.4444444444444444,
              "#bd3786"
             ],
             [
              0.5555555555555556,
              "#d8576b"
             ],
             [
              0.6666666666666666,
              "#ed7953"
             ],
             [
              0.7777777777777778,
              "#fb9f3a"
             ],
             [
              0.8888888888888888,
              "#fdca26"
             ],
             [
              1,
              "#f0f921"
             ]
            ],
            "type": "histogram2dcontour"
           }
          ],
          "mesh3d": [
           {
            "colorbar": {
             "outlinewidth": 0,
             "ticks": ""
            },
            "type": "mesh3d"
           }
          ],
          "parcoords": [
           {
            "line": {
             "colorbar": {
              "outlinewidth": 0,
              "ticks": ""
             }
            },
            "type": "parcoords"
           }
          ],
          "pie": [
           {
            "automargin": true,
            "type": "pie"
           }
          ],
          "scatter": [
           {
            "fillpattern": {
             "fillmode": "overlay",
             "size": 10,
             "solidity": 0.2
            },
            "type": "scatter"
           }
          ],
          "scatter3d": [
           {
            "line": {
             "colorbar": {
              "outlinewidth": 0,
              "ticks": ""
             }
            },
            "marker": {
             "colorbar": {
              "outlinewidth": 0,
              "ticks": ""
             }
            },
            "type": "scatter3d"
           }
          ],
          "scattercarpet": [
           {
            "marker": {
             "colorbar": {
              "outlinewidth": 0,
              "ticks": ""
             }
            },
            "type": "scattercarpet"
           }
          ],
          "scattergeo": [
           {
            "marker": {
             "colorbar": {
              "outlinewidth": 0,
              "ticks": ""
             }
            },
            "type": "scattergeo"
           }
          ],
          "scattergl": [
           {
            "marker": {
             "colorbar": {
              "outlinewidth": 0,
              "ticks": ""
             }
            },
            "type": "scattergl"
           }
          ],
          "scattermapbox": [
           {
            "marker": {
             "colorbar": {
              "outlinewidth": 0,
              "ticks": ""
             }
            },
            "type": "scattermapbox"
           }
          ],
          "scatterpolar": [
           {
            "marker": {
             "colorbar": {
              "outlinewidth": 0,
              "ticks": ""
             }
            },
            "type": "scatterpolar"
           }
          ],
          "scatterpolargl": [
           {
            "marker": {
             "colorbar": {
              "outlinewidth": 0,
              "ticks": ""
             }
            },
            "type": "scatterpolargl"
           }
          ],
          "scatterternary": [
           {
            "marker": {
             "colorbar": {
              "outlinewidth": 0,
              "ticks": ""
             }
            },
            "type": "scatterternary"
           }
          ],
          "surface": [
           {
            "colorbar": {
             "outlinewidth": 0,
             "ticks": ""
            },
            "colorscale": [
             [
              0,
              "#0d0887"
             ],
             [
              0.1111111111111111,
              "#46039f"
             ],
             [
              0.2222222222222222,
              "#7201a8"
             ],
             [
              0.3333333333333333,
              "#9c179e"
             ],
             [
              0.4444444444444444,
              "#bd3786"
             ],
             [
              0.5555555555555556,
              "#d8576b"
             ],
             [
              0.6666666666666666,
              "#ed7953"
             ],
             [
              0.7777777777777778,
              "#fb9f3a"
             ],
             [
              0.8888888888888888,
              "#fdca26"
             ],
             [
              1,
              "#f0f921"
             ]
            ],
            "type": "surface"
           }
          ],
          "table": [
           {
            "cells": {
             "fill": {
              "color": "#EBF0F8"
             },
             "line": {
              "color": "white"
             }
            },
            "header": {
             "fill": {
              "color": "#C8D4E3"
             },
             "line": {
              "color": "white"
             }
            },
            "type": "table"
           }
          ]
         },
         "layout": {
          "annotationdefaults": {
           "arrowcolor": "#2a3f5f",
           "arrowhead": 0,
           "arrowwidth": 1
          },
          "autotypenumbers": "strict",
          "coloraxis": {
           "colorbar": {
            "outlinewidth": 0,
            "ticks": ""
           }
          },
          "colorscale": {
           "diverging": [
            [
             0,
             "#8e0152"
            ],
            [
             0.1,
             "#c51b7d"
            ],
            [
             0.2,
             "#de77ae"
            ],
            [
             0.3,
             "#f1b6da"
            ],
            [
             0.4,
             "#fde0ef"
            ],
            [
             0.5,
             "#f7f7f7"
            ],
            [
             0.6,
             "#e6f5d0"
            ],
            [
             0.7,
             "#b8e186"
            ],
            [
             0.8,
             "#7fbc41"
            ],
            [
             0.9,
             "#4d9221"
            ],
            [
             1,
             "#276419"
            ]
           ],
           "sequential": [
            [
             0,
             "#0d0887"
            ],
            [
             0.1111111111111111,
             "#46039f"
            ],
            [
             0.2222222222222222,
             "#7201a8"
            ],
            [
             0.3333333333333333,
             "#9c179e"
            ],
            [
             0.4444444444444444,
             "#bd3786"
            ],
            [
             0.5555555555555556,
             "#d8576b"
            ],
            [
             0.6666666666666666,
             "#ed7953"
            ],
            [
             0.7777777777777778,
             "#fb9f3a"
            ],
            [
             0.8888888888888888,
             "#fdca26"
            ],
            [
             1,
             "#f0f921"
            ]
           ],
           "sequentialminus": [
            [
             0,
             "#0d0887"
            ],
            [
             0.1111111111111111,
             "#46039f"
            ],
            [
             0.2222222222222222,
             "#7201a8"
            ],
            [
             0.3333333333333333,
             "#9c179e"
            ],
            [
             0.4444444444444444,
             "#bd3786"
            ],
            [
             0.5555555555555556,
             "#d8576b"
            ],
            [
             0.6666666666666666,
             "#ed7953"
            ],
            [
             0.7777777777777778,
             "#fb9f3a"
            ],
            [
             0.8888888888888888,
             "#fdca26"
            ],
            [
             1,
             "#f0f921"
            ]
           ]
          },
          "colorway": [
           "#636efa",
           "#EF553B",
           "#00cc96",
           "#ab63fa",
           "#FFA15A",
           "#19d3f3",
           "#FF6692",
           "#B6E880",
           "#FF97FF",
           "#FECB52"
          ],
          "font": {
           "color": "#2a3f5f"
          },
          "geo": {
           "bgcolor": "white",
           "lakecolor": "white",
           "landcolor": "#E5ECF6",
           "showlakes": true,
           "showland": true,
           "subunitcolor": "white"
          },
          "hoverlabel": {
           "align": "left"
          },
          "hovermode": "closest",
          "mapbox": {
           "style": "light"
          },
          "paper_bgcolor": "white",
          "plot_bgcolor": "#E5ECF6",
          "polar": {
           "angularaxis": {
            "gridcolor": "white",
            "linecolor": "white",
            "ticks": ""
           },
           "bgcolor": "#E5ECF6",
           "radialaxis": {
            "gridcolor": "white",
            "linecolor": "white",
            "ticks": ""
           }
          },
          "scene": {
           "xaxis": {
            "backgroundcolor": "#E5ECF6",
            "gridcolor": "white",
            "gridwidth": 2,
            "linecolor": "white",
            "showbackground": true,
            "ticks": "",
            "zerolinecolor": "white"
           },
           "yaxis": {
            "backgroundcolor": "#E5ECF6",
            "gridcolor": "white",
            "gridwidth": 2,
            "linecolor": "white",
            "showbackground": true,
            "ticks": "",
            "zerolinecolor": "white"
           },
           "zaxis": {
            "backgroundcolor": "#E5ECF6",
            "gridcolor": "white",
            "gridwidth": 2,
            "linecolor": "white",
            "showbackground": true,
            "ticks": "",
            "zerolinecolor": "white"
           }
          },
          "shapedefaults": {
           "line": {
            "color": "#2a3f5f"
           }
          },
          "ternary": {
           "aaxis": {
            "gridcolor": "white",
            "linecolor": "white",
            "ticks": ""
           },
           "baxis": {
            "gridcolor": "white",
            "linecolor": "white",
            "ticks": ""
           },
           "bgcolor": "#E5ECF6",
           "caxis": {
            "gridcolor": "white",
            "linecolor": "white",
            "ticks": ""
           }
          },
          "title": {
           "x": 0.05
          },
          "xaxis": {
           "automargin": true,
           "gridcolor": "white",
           "linecolor": "white",
           "ticks": "",
           "title": {
            "standoff": 15
           },
           "zerolinecolor": "white",
           "zerolinewidth": 2
          },
          "yaxis": {
           "automargin": true,
           "gridcolor": "white",
           "linecolor": "white",
           "ticks": "",
           "title": {
            "standoff": 15
           },
           "zerolinecolor": "white",
           "zerolinewidth": 2
          }
         }
        },
        "title": {
         "text": "Distribution of Prestation for Regular Clients"
        },
        "xaxis": {
         "anchor": "y",
         "categoryorder": "total descending",
         "domain": [
          0,
          1
         ],
         "tickangle": 0,
         "title": {
          "text": "Prestation"
         }
        },
        "yaxis": {
         "anchor": "x",
         "domain": [
          0,
          1
         ],
         "title": {
          "text": "Frequency"
         }
        }
       }
      }
     },
     "metadata": {},
     "output_type": "display_data"
    }
   ],
   "source": [
    "\n",
    "filtered_df = JAN24_df[JAN24_df['ID Client'].isin(clients_list)]\n",
    "\n",
    "prestation_counts = filtered_df['Prestation'].value_counts()\n",
    "\n",
    "fig = px.bar(prestation_counts, x=prestation_counts.index, y=prestation_counts.values, color_discrete_sequence=['darkorchid'])\n",
    "\n",
    "fig.update_layout(\n",
    "    title='Distribution of Prestation for Regular Clients',\n",
    "    xaxis_title='Prestation',\n",
    "    yaxis_title='Frequency',\n",
    "    xaxis={'categoryorder':'total descending'},  # Sort x-axis labels by frequency\n",
    "    xaxis_tickangle=0  # Rotate x-axis labels for better readability\n",
    ")\n",
    "\n",
    "fig.show()\n"
   ]
  },
  {
   "cell_type": "markdown",
   "metadata": {},
   "source": [
    "## Nurse profiling"
   ]
  },
  {
   "cell_type": "code",
   "execution_count": 29,
   "metadata": {},
   "outputs": [
    {
     "name": "stdout",
     "output_type": "stream",
     "text": [
      "Percentage of intervenants with a car: 79.17%\n"
     ]
    }
   ],
   "source": [
    "total_intervenants = intervenants_df.shape[0]\n",
    "\n",
    "# Calculate the number of intervenants with a car ('Oui' in 'Véhicule Personnel' column)\n",
    "intervenants_with_car = intervenants_df[intervenants_df['Véhicule personnel'] == 'Oui'].shape[0]\n",
    "\n",
    "# Calculate the percentage of intervenants with a car\n",
    "percentage_with_car = (intervenants_with_car / total_intervenants) * 100\n",
    "\n",
    "print(\"Percentage of intervenants with a car: {:.2f}%\".format(percentage_with_car))\n"
   ]
  },
  {
   "cell_type": "code",
   "execution_count": 30,
   "metadata": {},
   "outputs": [
    {
     "name": "stdout",
     "output_type": "stream",
     "text": [
      "Percentage of intervenants with permis: 79.17%\n"
     ]
    }
   ],
   "source": [
    "total_intervenants = intervenants_df.shape[0]\n",
    "\n",
    "# Calculate the number of intervenants with a car ('Oui' in 'Véhicule Personnel' column)\n",
    "intervenants_with_permis = intervenants_df[intervenants_df['Permis'] == 'Oui'].shape[0]\n",
    "\n",
    "# Calculate the percentage of intervenants with a car\n",
    "percentage_with_permis = (intervenants_with_permis / total_intervenants) * 100\n",
    "\n",
    "print(\"Percentage of intervenants with permis: {:.2f}%\".format(percentage_with_permis))"
   ]
  },
  {
   "cell_type": "code",
   "execution_count": 31,
   "metadata": {},
   "outputs": [
    {
     "name": "stdout",
     "output_type": "stream",
     "text": [
      "Average monthly availability in days: 18.00\n"
     ]
    }
   ],
   "source": [
    "mean_available = intervenants_df['Total available days '].mean()\n",
    "print(\"Average monthly availability in days: {:.2f}\".format(mean_available))"
   ]
  },
  {
   "cell_type": "code",
   "execution_count": 32,
   "metadata": {},
   "outputs": [],
   "source": [
    "intervenants_df_trimmed = intervenants_df.iloc[:, 8:]\n",
    "\n",
    "transposed_df = intervenants_df_trimmed.T"
   ]
  },
  {
   "cell_type": "code",
   "execution_count": 33,
   "metadata": {},
   "outputs": [
    {
     "data": {
      "application/vnd.plotly.v1+json": {
       "config": {
        "plotlyServerURL": "https://plot.ly"
       },
       "data": [
        {
         "marker": {
          "color": "orchid"
         },
         "type": "bar",
         "x": [
          "2024-01-01T00:00:00",
          "2024-01-02T00:00:00",
          "2024-01-03T00:00:00",
          "2024-01-04T00:00:00",
          "2024-01-05T00:00:00",
          "2024-01-06T00:00:00",
          "2024-01-07T00:00:00",
          "2024-01-08T00:00:00",
          "2024-01-09T00:00:00",
          "2024-01-10T00:00:00",
          "2024-01-11T00:00:00",
          "2024-01-12T00:00:00",
          "2024-01-13T00:00:00",
          "2024-01-14T00:00:00",
          "2024-01-15T00:00:00",
          "2024-01-16T00:00:00",
          "2024-01-17T00:00:00",
          "2024-01-18T00:00:00",
          "2024-01-19T00:00:00",
          "2024-01-20T00:00:00",
          "2024-01-21T00:00:00",
          "2024-01-22T00:00:00",
          "2024-01-23T00:00:00",
          "2024-01-24T00:00:00",
          "2024-01-25T00:00:00",
          "2024-01-26T00:00:00",
          "2024-01-27T00:00:00",
          "2024-01-28T00:00:00",
          "2024-01-29T00:00:00",
          "2024-01-30T00:00:00",
          "2024-01-31T00:00:00"
         ],
         "y": [
          13,
          17,
          13,
          19,
          13,
          8,
          8,
          16,
          19,
          14,
          19,
          18,
          8,
          8,
          17,
          18,
          15,
          18,
          15,
          8,
          8,
          14,
          19,
          14,
          18,
          15,
          8,
          8,
          15,
          17,
          12
         ]
        }
       ],
       "layout": {
        "template": {
         "data": {
          "bar": [
           {
            "error_x": {
             "color": "#2a3f5f"
            },
            "error_y": {
             "color": "#2a3f5f"
            },
            "marker": {
             "line": {
              "color": "white",
              "width": 0.5
             },
             "pattern": {
              "fillmode": "overlay",
              "size": 10,
              "solidity": 0.2
             }
            },
            "type": "bar"
           }
          ],
          "barpolar": [
           {
            "marker": {
             "line": {
              "color": "white",
              "width": 0.5
             },
             "pattern": {
              "fillmode": "overlay",
              "size": 10,
              "solidity": 0.2
             }
            },
            "type": "barpolar"
           }
          ],
          "carpet": [
           {
            "aaxis": {
             "endlinecolor": "#2a3f5f",
             "gridcolor": "#C8D4E3",
             "linecolor": "#C8D4E3",
             "minorgridcolor": "#C8D4E3",
             "startlinecolor": "#2a3f5f"
            },
            "baxis": {
             "endlinecolor": "#2a3f5f",
             "gridcolor": "#C8D4E3",
             "linecolor": "#C8D4E3",
             "minorgridcolor": "#C8D4E3",
             "startlinecolor": "#2a3f5f"
            },
            "type": "carpet"
           }
          ],
          "choropleth": [
           {
            "colorbar": {
             "outlinewidth": 0,
             "ticks": ""
            },
            "type": "choropleth"
           }
          ],
          "contour": [
           {
            "colorbar": {
             "outlinewidth": 0,
             "ticks": ""
            },
            "colorscale": [
             [
              0,
              "#0d0887"
             ],
             [
              0.1111111111111111,
              "#46039f"
             ],
             [
              0.2222222222222222,
              "#7201a8"
             ],
             [
              0.3333333333333333,
              "#9c179e"
             ],
             [
              0.4444444444444444,
              "#bd3786"
             ],
             [
              0.5555555555555556,
              "#d8576b"
             ],
             [
              0.6666666666666666,
              "#ed7953"
             ],
             [
              0.7777777777777778,
              "#fb9f3a"
             ],
             [
              0.8888888888888888,
              "#fdca26"
             ],
             [
              1,
              "#f0f921"
             ]
            ],
            "type": "contour"
           }
          ],
          "contourcarpet": [
           {
            "colorbar": {
             "outlinewidth": 0,
             "ticks": ""
            },
            "type": "contourcarpet"
           }
          ],
          "heatmap": [
           {
            "colorbar": {
             "outlinewidth": 0,
             "ticks": ""
            },
            "colorscale": [
             [
              0,
              "#0d0887"
             ],
             [
              0.1111111111111111,
              "#46039f"
             ],
             [
              0.2222222222222222,
              "#7201a8"
             ],
             [
              0.3333333333333333,
              "#9c179e"
             ],
             [
              0.4444444444444444,
              "#bd3786"
             ],
             [
              0.5555555555555556,
              "#d8576b"
             ],
             [
              0.6666666666666666,
              "#ed7953"
             ],
             [
              0.7777777777777778,
              "#fb9f3a"
             ],
             [
              0.8888888888888888,
              "#fdca26"
             ],
             [
              1,
              "#f0f921"
             ]
            ],
            "type": "heatmap"
           }
          ],
          "heatmapgl": [
           {
            "colorbar": {
             "outlinewidth": 0,
             "ticks": ""
            },
            "colorscale": [
             [
              0,
              "#0d0887"
             ],
             [
              0.1111111111111111,
              "#46039f"
             ],
             [
              0.2222222222222222,
              "#7201a8"
             ],
             [
              0.3333333333333333,
              "#9c179e"
             ],
             [
              0.4444444444444444,
              "#bd3786"
             ],
             [
              0.5555555555555556,
              "#d8576b"
             ],
             [
              0.6666666666666666,
              "#ed7953"
             ],
             [
              0.7777777777777778,
              "#fb9f3a"
             ],
             [
              0.8888888888888888,
              "#fdca26"
             ],
             [
              1,
              "#f0f921"
             ]
            ],
            "type": "heatmapgl"
           }
          ],
          "histogram": [
           {
            "marker": {
             "pattern": {
              "fillmode": "overlay",
              "size": 10,
              "solidity": 0.2
             }
            },
            "type": "histogram"
           }
          ],
          "histogram2d": [
           {
            "colorbar": {
             "outlinewidth": 0,
             "ticks": ""
            },
            "colorscale": [
             [
              0,
              "#0d0887"
             ],
             [
              0.1111111111111111,
              "#46039f"
             ],
             [
              0.2222222222222222,
              "#7201a8"
             ],
             [
              0.3333333333333333,
              "#9c179e"
             ],
             [
              0.4444444444444444,
              "#bd3786"
             ],
             [
              0.5555555555555556,
              "#d8576b"
             ],
             [
              0.6666666666666666,
              "#ed7953"
             ],
             [
              0.7777777777777778,
              "#fb9f3a"
             ],
             [
              0.8888888888888888,
              "#fdca26"
             ],
             [
              1,
              "#f0f921"
             ]
            ],
            "type": "histogram2d"
           }
          ],
          "histogram2dcontour": [
           {
            "colorbar": {
             "outlinewidth": 0,
             "ticks": ""
            },
            "colorscale": [
             [
              0,
              "#0d0887"
             ],
             [
              0.1111111111111111,
              "#46039f"
             ],
             [
              0.2222222222222222,
              "#7201a8"
             ],
             [
              0.3333333333333333,
              "#9c179e"
             ],
             [
              0.4444444444444444,
              "#bd3786"
             ],
             [
              0.5555555555555556,
              "#d8576b"
             ],
             [
              0.6666666666666666,
              "#ed7953"
             ],
             [
              0.7777777777777778,
              "#fb9f3a"
             ],
             [
              0.8888888888888888,
              "#fdca26"
             ],
             [
              1,
              "#f0f921"
             ]
            ],
            "type": "histogram2dcontour"
           }
          ],
          "mesh3d": [
           {
            "colorbar": {
             "outlinewidth": 0,
             "ticks": ""
            },
            "type": "mesh3d"
           }
          ],
          "parcoords": [
           {
            "line": {
             "colorbar": {
              "outlinewidth": 0,
              "ticks": ""
             }
            },
            "type": "parcoords"
           }
          ],
          "pie": [
           {
            "automargin": true,
            "type": "pie"
           }
          ],
          "scatter": [
           {
            "fillpattern": {
             "fillmode": "overlay",
             "size": 10,
             "solidity": 0.2
            },
            "type": "scatter"
           }
          ],
          "scatter3d": [
           {
            "line": {
             "colorbar": {
              "outlinewidth": 0,
              "ticks": ""
             }
            },
            "marker": {
             "colorbar": {
              "outlinewidth": 0,
              "ticks": ""
             }
            },
            "type": "scatter3d"
           }
          ],
          "scattercarpet": [
           {
            "marker": {
             "colorbar": {
              "outlinewidth": 0,
              "ticks": ""
             }
            },
            "type": "scattercarpet"
           }
          ],
          "scattergeo": [
           {
            "marker": {
             "colorbar": {
              "outlinewidth": 0,
              "ticks": ""
             }
            },
            "type": "scattergeo"
           }
          ],
          "scattergl": [
           {
            "marker": {
             "colorbar": {
              "outlinewidth": 0,
              "ticks": ""
             }
            },
            "type": "scattergl"
           }
          ],
          "scattermapbox": [
           {
            "marker": {
             "colorbar": {
              "outlinewidth": 0,
              "ticks": ""
             }
            },
            "type": "scattermapbox"
           }
          ],
          "scatterpolar": [
           {
            "marker": {
             "colorbar": {
              "outlinewidth": 0,
              "ticks": ""
             }
            },
            "type": "scatterpolar"
           }
          ],
          "scatterpolargl": [
           {
            "marker": {
             "colorbar": {
              "outlinewidth": 0,
              "ticks": ""
             }
            },
            "type": "scatterpolargl"
           }
          ],
          "scatterternary": [
           {
            "marker": {
             "colorbar": {
              "outlinewidth": 0,
              "ticks": ""
             }
            },
            "type": "scatterternary"
           }
          ],
          "surface": [
           {
            "colorbar": {
             "outlinewidth": 0,
             "ticks": ""
            },
            "colorscale": [
             [
              0,
              "#0d0887"
             ],
             [
              0.1111111111111111,
              "#46039f"
             ],
             [
              0.2222222222222222,
              "#7201a8"
             ],
             [
              0.3333333333333333,
              "#9c179e"
             ],
             [
              0.4444444444444444,
              "#bd3786"
             ],
             [
              0.5555555555555556,
              "#d8576b"
             ],
             [
              0.6666666666666666,
              "#ed7953"
             ],
             [
              0.7777777777777778,
              "#fb9f3a"
             ],
             [
              0.8888888888888888,
              "#fdca26"
             ],
             [
              1,
              "#f0f921"
             ]
            ],
            "type": "surface"
           }
          ],
          "table": [
           {
            "cells": {
             "fill": {
              "color": "#EBF0F8"
             },
             "line": {
              "color": "white"
             }
            },
            "header": {
             "fill": {
              "color": "#C8D4E3"
             },
             "line": {
              "color": "white"
             }
            },
            "type": "table"
           }
          ]
         },
         "layout": {
          "annotationdefaults": {
           "arrowcolor": "#2a3f5f",
           "arrowhead": 0,
           "arrowwidth": 1
          },
          "autotypenumbers": "strict",
          "coloraxis": {
           "colorbar": {
            "outlinewidth": 0,
            "ticks": ""
           }
          },
          "colorscale": {
           "diverging": [
            [
             0,
             "#8e0152"
            ],
            [
             0.1,
             "#c51b7d"
            ],
            [
             0.2,
             "#de77ae"
            ],
            [
             0.3,
             "#f1b6da"
            ],
            [
             0.4,
             "#fde0ef"
            ],
            [
             0.5,
             "#f7f7f7"
            ],
            [
             0.6,
             "#e6f5d0"
            ],
            [
             0.7,
             "#b8e186"
            ],
            [
             0.8,
             "#7fbc41"
            ],
            [
             0.9,
             "#4d9221"
            ],
            [
             1,
             "#276419"
            ]
           ],
           "sequential": [
            [
             0,
             "#0d0887"
            ],
            [
             0.1111111111111111,
             "#46039f"
            ],
            [
             0.2222222222222222,
             "#7201a8"
            ],
            [
             0.3333333333333333,
             "#9c179e"
            ],
            [
             0.4444444444444444,
             "#bd3786"
            ],
            [
             0.5555555555555556,
             "#d8576b"
            ],
            [
             0.6666666666666666,
             "#ed7953"
            ],
            [
             0.7777777777777778,
             "#fb9f3a"
            ],
            [
             0.8888888888888888,
             "#fdca26"
            ],
            [
             1,
             "#f0f921"
            ]
           ],
           "sequentialminus": [
            [
             0,
             "#0d0887"
            ],
            [
             0.1111111111111111,
             "#46039f"
            ],
            [
             0.2222222222222222,
             "#7201a8"
            ],
            [
             0.3333333333333333,
             "#9c179e"
            ],
            [
             0.4444444444444444,
             "#bd3786"
            ],
            [
             0.5555555555555556,
             "#d8576b"
            ],
            [
             0.6666666666666666,
             "#ed7953"
            ],
            [
             0.7777777777777778,
             "#fb9f3a"
            ],
            [
             0.8888888888888888,
             "#fdca26"
            ],
            [
             1,
             "#f0f921"
            ]
           ]
          },
          "colorway": [
           "#636efa",
           "#EF553B",
           "#00cc96",
           "#ab63fa",
           "#FFA15A",
           "#19d3f3",
           "#FF6692",
           "#B6E880",
           "#FF97FF",
           "#FECB52"
          ],
          "font": {
           "color": "#2a3f5f"
          },
          "geo": {
           "bgcolor": "white",
           "lakecolor": "white",
           "landcolor": "white",
           "showlakes": true,
           "showland": true,
           "subunitcolor": "#C8D4E3"
          },
          "hoverlabel": {
           "align": "left"
          },
          "hovermode": "closest",
          "mapbox": {
           "style": "light"
          },
          "paper_bgcolor": "white",
          "plot_bgcolor": "white",
          "polar": {
           "angularaxis": {
            "gridcolor": "#EBF0F8",
            "linecolor": "#EBF0F8",
            "ticks": ""
           },
           "bgcolor": "white",
           "radialaxis": {
            "gridcolor": "#EBF0F8",
            "linecolor": "#EBF0F8",
            "ticks": ""
           }
          },
          "scene": {
           "xaxis": {
            "backgroundcolor": "white",
            "gridcolor": "#DFE8F3",
            "gridwidth": 2,
            "linecolor": "#EBF0F8",
            "showbackground": true,
            "ticks": "",
            "zerolinecolor": "#EBF0F8"
           },
           "yaxis": {
            "backgroundcolor": "white",
            "gridcolor": "#DFE8F3",
            "gridwidth": 2,
            "linecolor": "#EBF0F8",
            "showbackground": true,
            "ticks": "",
            "zerolinecolor": "#EBF0F8"
           },
           "zaxis": {
            "backgroundcolor": "white",
            "gridcolor": "#DFE8F3",
            "gridwidth": 2,
            "linecolor": "#EBF0F8",
            "showbackground": true,
            "ticks": "",
            "zerolinecolor": "#EBF0F8"
           }
          },
          "shapedefaults": {
           "line": {
            "color": "#2a3f5f"
           }
          },
          "ternary": {
           "aaxis": {
            "gridcolor": "#DFE8F3",
            "linecolor": "#A2B1C6",
            "ticks": ""
           },
           "baxis": {
            "gridcolor": "#DFE8F3",
            "linecolor": "#A2B1C6",
            "ticks": ""
           },
           "bgcolor": "white",
           "caxis": {
            "gridcolor": "#DFE8F3",
            "linecolor": "#A2B1C6",
            "ticks": ""
           }
          },
          "title": {
           "x": 0.05
          },
          "xaxis": {
           "automargin": true,
           "gridcolor": "#EBF0F8",
           "linecolor": "#EBF0F8",
           "ticks": "",
           "title": {
            "standoff": 15
           },
           "zerolinecolor": "#EBF0F8",
           "zerolinewidth": 2
          },
          "yaxis": {
           "automargin": true,
           "gridcolor": "#EBF0F8",
           "linecolor": "#EBF0F8",
           "ticks": "",
           "title": {
            "standoff": 15
           },
           "zerolinecolor": "#EBF0F8",
           "zerolinewidth": 2
          }
         }
        },
        "title": {
         "text": "Available service providers in the month"
        },
        "xaxis": {
         "title": {
          "text": ""
         }
        },
        "yaxis": {
         "title": {
          "text": "Number of intervenants"
         }
        }
       }
      }
     },
     "metadata": {},
     "output_type": "display_data"
    }
   ],
   "source": [
    "# Calculate the sum along the rows (axis=1) and create a bar plot\n",
    "fig = go.Figure(go.Bar(\n",
    "    x=transposed_df.index,  # Index of transposed DataFrame\n",
    "    y=transposed_df.sum(axis=1),  # Sum along rows\n",
    "    marker_color='orchid'  # Color of bars\n",
    "))\n",
    "\n",
    "# Customize layout\n",
    "fig.update_layout(\n",
    "    title='Available service providers in the month',\n",
    "    xaxis_title='',\n",
    "    yaxis_title='Number of intervenants',\n",
    "    template='plotly_white'  # Theme\n",
    ")\n",
    "\n",
    "# Show the plot\n",
    "fig.show()\n"
   ]
  },
  {
   "cell_type": "code",
   "execution_count": 34,
   "metadata": {},
   "outputs": [],
   "source": [
    "client_dist = pd.read_csv('client_client_distance_v1.csv')"
   ]
  },
  {
   "cell_type": "code",
   "execution_count": 35,
   "metadata": {},
   "outputs": [],
   "source": [
    "JAN24_df = JAN24_df.sort_values(by=['ID Intervenant', 'Date'])\n",
    "JAN24_df['Previous Client'] = JAN24_df.groupby('ID Intervenant')['ID Client'].shift(1)"
   ]
  },
  {
   "cell_type": "code",
   "execution_count": 36,
   "metadata": {},
   "outputs": [],
   "source": [
    "merged_df = JAN24_df.merge(client_dist, how='left', left_on=['ID Client', 'Previous Client'], right_on=['ID Client 1', 'ID Client 2'])\n",
    "merged_df.drop(['ID Client 1', 'ID Client 2'], axis=1, inplace=True)\n",
    "merged_df.rename(columns={'Duration_Car': 'Duration_Car_Previous', 'Duration_Bike': 'Duration_Bike_Previous'}, inplace=True)"
   ]
  },
  {
   "cell_type": "code",
   "execution_count": 37,
   "metadata": {},
   "outputs": [],
   "source": [
    "merged_df = merged_df.merge(intervenants_df[['ID Intervenant', 'Permis']], how='left', on='ID Intervenant')"
   ]
  },
  {
   "cell_type": "code",
   "execution_count": 38,
   "metadata": {},
   "outputs": [],
   "source": [
    "def convert_duration(duration_str):\n",
    "    parts = duration_str.split()\n",
    "    hours = 0\n",
    "    mins = 0\n",
    "    for i in range(len(parts)):\n",
    "        if 'hour' in parts[i]:\n",
    "            hours = int(parts[i-1])\n",
    "        elif 'min' in parts[i]:\n",
    "            mins = int(parts[i-1])\n",
    "    return hours * 60 + mins"
   ]
  },
  {
   "cell_type": "code",
   "execution_count": 39,
   "metadata": {},
   "outputs": [],
   "source": [
    "merged_df['Duration_Car_Previous'] = merged_df['Duration_Car_Previous'].astype(str)\n",
    "merged_df['Duration_Bike_Previous'] = merged_df['Duration_Bike_Previous'].astype(str)"
   ]
  },
  {
   "cell_type": "code",
   "execution_count": 40,
   "metadata": {},
   "outputs": [],
   "source": [
    "merged_df['Duration_Car_Previous'] = merged_df['Duration_Car_Previous'].apply(convert_duration)\n",
    "merged_df['Duration_Bike_Previous'] = merged_df['Duration_Bike_Previous'].apply(convert_duration)"
   ]
  },
  {
   "cell_type": "code",
   "execution_count": 41,
   "metadata": {},
   "outputs": [],
   "source": [
    "summed_df = merged_df.groupby(['Date', 'ID Intervenant'])[['Duration_Car_Previous', 'Duration_Bike_Previous']].sum().reset_index()"
   ]
  },
  {
   "cell_type": "code",
   "execution_count": 42,
   "metadata": {},
   "outputs": [],
   "source": [
    "summed_df = summed_df.merge(intervenants_df[['ID Intervenant', 'Permis']], how='left', on='ID Intervenant')"
   ]
  },
  {
   "cell_type": "code",
   "execution_count": 43,
   "metadata": {},
   "outputs": [],
   "source": [
    "summed_df_bike = summed_df[summed_df['Permis']=='Non']\n",
    "summed_df_car = summed_df[summed_df['Permis']=='Oui']"
   ]
  },
  {
   "cell_type": "code",
   "execution_count": 44,
   "metadata": {},
   "outputs": [
    {
     "data": {
      "application/vnd.plotly.v1+json": {
       "config": {
        "plotlyServerURL": "https://plot.ly"
       },
       "data": [
        {
         "marker": {
          "color": "rebeccapurple"
         },
         "opacity": 0.75,
         "type": "histogram",
         "x": [
          111,
          39,
          108,
          120,
          78,
          79,
          59,
          33,
          88,
          68,
          30,
          134,
          103,
          146,
          119,
          150,
          111,
          109,
          82,
          75,
          82,
          72,
          56,
          79,
          62,
          134,
          72,
          134,
          59,
          38,
          71,
          89,
          121,
          130,
          66,
          121,
          107,
          56,
          206,
          72,
          62,
          118,
          156,
          33,
          61,
          122,
          89,
          68,
          87,
          101,
          140,
          116,
          107,
          107,
          97,
          81
         ],
         "xbins": {
          "end": 206,
          "size": 15,
          "start": 0
         }
        }
       ],
       "layout": {
        "shapes": [
         {
          "line": {
           "color": "darkmagenta",
           "dash": "dash",
           "width": 2
          },
          "type": "line",
          "x0": 64.01488833746899,
          "x1": 64.01488833746899,
          "xref": "x",
          "y0": 0,
          "y1": 1,
          "yref": "y domain"
         }
        ],
        "template": {
         "data": {
          "bar": [
           {
            "error_x": {
             "color": "#2a3f5f"
            },
            "error_y": {
             "color": "#2a3f5f"
            },
            "marker": {
             "line": {
              "color": "#E5ECF6",
              "width": 0.5
             },
             "pattern": {
              "fillmode": "overlay",
              "size": 10,
              "solidity": 0.2
             }
            },
            "type": "bar"
           }
          ],
          "barpolar": [
           {
            "marker": {
             "line": {
              "color": "#E5ECF6",
              "width": 0.5
             },
             "pattern": {
              "fillmode": "overlay",
              "size": 10,
              "solidity": 0.2
             }
            },
            "type": "barpolar"
           }
          ],
          "carpet": [
           {
            "aaxis": {
             "endlinecolor": "#2a3f5f",
             "gridcolor": "white",
             "linecolor": "white",
             "minorgridcolor": "white",
             "startlinecolor": "#2a3f5f"
            },
            "baxis": {
             "endlinecolor": "#2a3f5f",
             "gridcolor": "white",
             "linecolor": "white",
             "minorgridcolor": "white",
             "startlinecolor": "#2a3f5f"
            },
            "type": "carpet"
           }
          ],
          "choropleth": [
           {
            "colorbar": {
             "outlinewidth": 0,
             "ticks": ""
            },
            "type": "choropleth"
           }
          ],
          "contour": [
           {
            "colorbar": {
             "outlinewidth": 0,
             "ticks": ""
            },
            "colorscale": [
             [
              0,
              "#0d0887"
             ],
             [
              0.1111111111111111,
              "#46039f"
             ],
             [
              0.2222222222222222,
              "#7201a8"
             ],
             [
              0.3333333333333333,
              "#9c179e"
             ],
             [
              0.4444444444444444,
              "#bd3786"
             ],
             [
              0.5555555555555556,
              "#d8576b"
             ],
             [
              0.6666666666666666,
              "#ed7953"
             ],
             [
              0.7777777777777778,
              "#fb9f3a"
             ],
             [
              0.8888888888888888,
              "#fdca26"
             ],
             [
              1,
              "#f0f921"
             ]
            ],
            "type": "contour"
           }
          ],
          "contourcarpet": [
           {
            "colorbar": {
             "outlinewidth": 0,
             "ticks": ""
            },
            "type": "contourcarpet"
           }
          ],
          "heatmap": [
           {
            "colorbar": {
             "outlinewidth": 0,
             "ticks": ""
            },
            "colorscale": [
             [
              0,
              "#0d0887"
             ],
             [
              0.1111111111111111,
              "#46039f"
             ],
             [
              0.2222222222222222,
              "#7201a8"
             ],
             [
              0.3333333333333333,
              "#9c179e"
             ],
             [
              0.4444444444444444,
              "#bd3786"
             ],
             [
              0.5555555555555556,
              "#d8576b"
             ],
             [
              0.6666666666666666,
              "#ed7953"
             ],
             [
              0.7777777777777778,
              "#fb9f3a"
             ],
             [
              0.8888888888888888,
              "#fdca26"
             ],
             [
              1,
              "#f0f921"
             ]
            ],
            "type": "heatmap"
           }
          ],
          "heatmapgl": [
           {
            "colorbar": {
             "outlinewidth": 0,
             "ticks": ""
            },
            "colorscale": [
             [
              0,
              "#0d0887"
             ],
             [
              0.1111111111111111,
              "#46039f"
             ],
             [
              0.2222222222222222,
              "#7201a8"
             ],
             [
              0.3333333333333333,
              "#9c179e"
             ],
             [
              0.4444444444444444,
              "#bd3786"
             ],
             [
              0.5555555555555556,
              "#d8576b"
             ],
             [
              0.6666666666666666,
              "#ed7953"
             ],
             [
              0.7777777777777778,
              "#fb9f3a"
             ],
             [
              0.8888888888888888,
              "#fdca26"
             ],
             [
              1,
              "#f0f921"
             ]
            ],
            "type": "heatmapgl"
           }
          ],
          "histogram": [
           {
            "marker": {
             "pattern": {
              "fillmode": "overlay",
              "size": 10,
              "solidity": 0.2
             }
            },
            "type": "histogram"
           }
          ],
          "histogram2d": [
           {
            "colorbar": {
             "outlinewidth": 0,
             "ticks": ""
            },
            "colorscale": [
             [
              0,
              "#0d0887"
             ],
             [
              0.1111111111111111,
              "#46039f"
             ],
             [
              0.2222222222222222,
              "#7201a8"
             ],
             [
              0.3333333333333333,
              "#9c179e"
             ],
             [
              0.4444444444444444,
              "#bd3786"
             ],
             [
              0.5555555555555556,
              "#d8576b"
             ],
             [
              0.6666666666666666,
              "#ed7953"
             ],
             [
              0.7777777777777778,
              "#fb9f3a"
             ],
             [
              0.8888888888888888,
              "#fdca26"
             ],
             [
              1,
              "#f0f921"
             ]
            ],
            "type": "histogram2d"
           }
          ],
          "histogram2dcontour": [
           {
            "colorbar": {
             "outlinewidth": 0,
             "ticks": ""
            },
            "colorscale": [
             [
              0,
              "#0d0887"
             ],
             [
              0.1111111111111111,
              "#46039f"
             ],
             [
              0.2222222222222222,
              "#7201a8"
             ],
             [
              0.3333333333333333,
              "#9c179e"
             ],
             [
              0.4444444444444444,
              "#bd3786"
             ],
             [
              0.5555555555555556,
              "#d8576b"
             ],
             [
              0.6666666666666666,
              "#ed7953"
             ],
             [
              0.7777777777777778,
              "#fb9f3a"
             ],
             [
              0.8888888888888888,
              "#fdca26"
             ],
             [
              1,
              "#f0f921"
             ]
            ],
            "type": "histogram2dcontour"
           }
          ],
          "mesh3d": [
           {
            "colorbar": {
             "outlinewidth": 0,
             "ticks": ""
            },
            "type": "mesh3d"
           }
          ],
          "parcoords": [
           {
            "line": {
             "colorbar": {
              "outlinewidth": 0,
              "ticks": ""
             }
            },
            "type": "parcoords"
           }
          ],
          "pie": [
           {
            "automargin": true,
            "type": "pie"
           }
          ],
          "scatter": [
           {
            "fillpattern": {
             "fillmode": "overlay",
             "size": 10,
             "solidity": 0.2
            },
            "type": "scatter"
           }
          ],
          "scatter3d": [
           {
            "line": {
             "colorbar": {
              "outlinewidth": 0,
              "ticks": ""
             }
            },
            "marker": {
             "colorbar": {
              "outlinewidth": 0,
              "ticks": ""
             }
            },
            "type": "scatter3d"
           }
          ],
          "scattercarpet": [
           {
            "marker": {
             "colorbar": {
              "outlinewidth": 0,
              "ticks": ""
             }
            },
            "type": "scattercarpet"
           }
          ],
          "scattergeo": [
           {
            "marker": {
             "colorbar": {
              "outlinewidth": 0,
              "ticks": ""
             }
            },
            "type": "scattergeo"
           }
          ],
          "scattergl": [
           {
            "marker": {
             "colorbar": {
              "outlinewidth": 0,
              "ticks": ""
             }
            },
            "type": "scattergl"
           }
          ],
          "scattermapbox": [
           {
            "marker": {
             "colorbar": {
              "outlinewidth": 0,
              "ticks": ""
             }
            },
            "type": "scattermapbox"
           }
          ],
          "scatterpolar": [
           {
            "marker": {
             "colorbar": {
              "outlinewidth": 0,
              "ticks": ""
             }
            },
            "type": "scatterpolar"
           }
          ],
          "scatterpolargl": [
           {
            "marker": {
             "colorbar": {
              "outlinewidth": 0,
              "ticks": ""
             }
            },
            "type": "scatterpolargl"
           }
          ],
          "scatterternary": [
           {
            "marker": {
             "colorbar": {
              "outlinewidth": 0,
              "ticks": ""
             }
            },
            "type": "scatterternary"
           }
          ],
          "surface": [
           {
            "colorbar": {
             "outlinewidth": 0,
             "ticks": ""
            },
            "colorscale": [
             [
              0,
              "#0d0887"
             ],
             [
              0.1111111111111111,
              "#46039f"
             ],
             [
              0.2222222222222222,
              "#7201a8"
             ],
             [
              0.3333333333333333,
              "#9c179e"
             ],
             [
              0.4444444444444444,
              "#bd3786"
             ],
             [
              0.5555555555555556,
              "#d8576b"
             ],
             [
              0.6666666666666666,
              "#ed7953"
             ],
             [
              0.7777777777777778,
              "#fb9f3a"
             ],
             [
              0.8888888888888888,
              "#fdca26"
             ],
             [
              1,
              "#f0f921"
             ]
            ],
            "type": "surface"
           }
          ],
          "table": [
           {
            "cells": {
             "fill": {
              "color": "#EBF0F8"
             },
             "line": {
              "color": "white"
             }
            },
            "header": {
             "fill": {
              "color": "#C8D4E3"
             },
             "line": {
              "color": "white"
             }
            },
            "type": "table"
           }
          ]
         },
         "layout": {
          "annotationdefaults": {
           "arrowcolor": "#2a3f5f",
           "arrowhead": 0,
           "arrowwidth": 1
          },
          "autotypenumbers": "strict",
          "coloraxis": {
           "colorbar": {
            "outlinewidth": 0,
            "ticks": ""
           }
          },
          "colorscale": {
           "diverging": [
            [
             0,
             "#8e0152"
            ],
            [
             0.1,
             "#c51b7d"
            ],
            [
             0.2,
             "#de77ae"
            ],
            [
             0.3,
             "#f1b6da"
            ],
            [
             0.4,
             "#fde0ef"
            ],
            [
             0.5,
             "#f7f7f7"
            ],
            [
             0.6,
             "#e6f5d0"
            ],
            [
             0.7,
             "#b8e186"
            ],
            [
             0.8,
             "#7fbc41"
            ],
            [
             0.9,
             "#4d9221"
            ],
            [
             1,
             "#276419"
            ]
           ],
           "sequential": [
            [
             0,
             "#0d0887"
            ],
            [
             0.1111111111111111,
             "#46039f"
            ],
            [
             0.2222222222222222,
             "#7201a8"
            ],
            [
             0.3333333333333333,
             "#9c179e"
            ],
            [
             0.4444444444444444,
             "#bd3786"
            ],
            [
             0.5555555555555556,
             "#d8576b"
            ],
            [
             0.6666666666666666,
             "#ed7953"
            ],
            [
             0.7777777777777778,
             "#fb9f3a"
            ],
            [
             0.8888888888888888,
             "#fdca26"
            ],
            [
             1,
             "#f0f921"
            ]
           ],
           "sequentialminus": [
            [
             0,
             "#0d0887"
            ],
            [
             0.1111111111111111,
             "#46039f"
            ],
            [
             0.2222222222222222,
             "#7201a8"
            ],
            [
             0.3333333333333333,
             "#9c179e"
            ],
            [
             0.4444444444444444,
             "#bd3786"
            ],
            [
             0.5555555555555556,
             "#d8576b"
            ],
            [
             0.6666666666666666,
             "#ed7953"
            ],
            [
             0.7777777777777778,
             "#fb9f3a"
            ],
            [
             0.8888888888888888,
             "#fdca26"
            ],
            [
             1,
             "#f0f921"
            ]
           ]
          },
          "colorway": [
           "#636efa",
           "#EF553B",
           "#00cc96",
           "#ab63fa",
           "#FFA15A",
           "#19d3f3",
           "#FF6692",
           "#B6E880",
           "#FF97FF",
           "#FECB52"
          ],
          "font": {
           "color": "#2a3f5f"
          },
          "geo": {
           "bgcolor": "white",
           "lakecolor": "white",
           "landcolor": "#E5ECF6",
           "showlakes": true,
           "showland": true,
           "subunitcolor": "white"
          },
          "hoverlabel": {
           "align": "left"
          },
          "hovermode": "closest",
          "mapbox": {
           "style": "light"
          },
          "paper_bgcolor": "white",
          "plot_bgcolor": "#E5ECF6",
          "polar": {
           "angularaxis": {
            "gridcolor": "white",
            "linecolor": "white",
            "ticks": ""
           },
           "bgcolor": "#E5ECF6",
           "radialaxis": {
            "gridcolor": "white",
            "linecolor": "white",
            "ticks": ""
           }
          },
          "scene": {
           "xaxis": {
            "backgroundcolor": "#E5ECF6",
            "gridcolor": "white",
            "gridwidth": 2,
            "linecolor": "white",
            "showbackground": true,
            "ticks": "",
            "zerolinecolor": "white"
           },
           "yaxis": {
            "backgroundcolor": "#E5ECF6",
            "gridcolor": "white",
            "gridwidth": 2,
            "linecolor": "white",
            "showbackground": true,
            "ticks": "",
            "zerolinecolor": "white"
           },
           "zaxis": {
            "backgroundcolor": "#E5ECF6",
            "gridcolor": "white",
            "gridwidth": 2,
            "linecolor": "white",
            "showbackground": true,
            "ticks": "",
            "zerolinecolor": "white"
           }
          },
          "shapedefaults": {
           "line": {
            "color": "#2a3f5f"
           }
          },
          "ternary": {
           "aaxis": {
            "gridcolor": "white",
            "linecolor": "white",
            "ticks": ""
           },
           "baxis": {
            "gridcolor": "white",
            "linecolor": "white",
            "ticks": ""
           },
           "bgcolor": "#E5ECF6",
           "caxis": {
            "gridcolor": "white",
            "linecolor": "white",
            "ticks": ""
           }
          },
          "title": {
           "x": 0.05
          },
          "xaxis": {
           "automargin": true,
           "gridcolor": "white",
           "linecolor": "white",
           "ticks": "",
           "title": {
            "standoff": 15
           },
           "zerolinecolor": "white",
           "zerolinewidth": 2
          },
          "yaxis": {
           "automargin": true,
           "gridcolor": "white",
           "linecolor": "white",
           "ticks": "",
           "title": {
            "standoff": 15
           },
           "zerolinecolor": "white",
           "zerolinewidth": 2
          }
         }
        },
        "title": {
         "text": "Daily commuting time by bike distribution (all time all intervenants)"
        },
        "xaxis": {
         "title": {
          "text": "Daily commuting time (mins)"
         }
        },
        "yaxis": {
         "title": {
          "text": "Frequency"
         }
        }
       }
      }
     },
     "metadata": {},
     "output_type": "display_data"
    }
   ],
   "source": [
    "fig = go.Figure()\n",
    "\n",
    "fig.add_trace(go.Histogram(x=summed_df_bike['Duration_Car_Previous'],\n",
    "                            xbins=dict(\n",
    "                                start=summed_df['Duration_Car_Previous'].min(),\n",
    "                                end=summed_df['Duration_Car_Previous'].max(),\n",
    "                                size=15),\n",
    "                            marker_color='rebeccapurple',\n",
    "                            opacity=0.75))\n",
    "\n",
    "mean_duration = np.mean(summed_df['Duration_Car_Previous'])\n",
    "\n",
    "fig.add_vline(x=mean_duration, line=dict(color='darkmagenta', width=2, dash='dash'))\n",
    "\n",
    "fig.update_layout(title_text='Daily commuting time by bike distribution (all time all intervenants)',\n",
    "                  xaxis_title='Daily commuting time (mins)',\n",
    "                  yaxis_title='Frequency')\n",
    "\n",
    "fig.show()"
   ]
  },
  {
   "cell_type": "code",
   "execution_count": 45,
   "metadata": {},
   "outputs": [
    {
     "data": {
      "application/vnd.plotly.v1+json": {
       "config": {
        "plotlyServerURL": "https://plot.ly"
       },
       "data": [
        {
         "marker": {
          "color": "rebeccapurple"
         },
         "opacity": 0.75,
         "type": "histogram",
         "x": [
          34,
          68,
          43,
          159,
          9,
          22,
          45,
          60,
          9,
          35,
          78,
          92,
          88,
          19,
          55,
          40,
          21,
          63,
          45,
          25,
          34,
          27,
          48,
          127,
          112,
          52,
          58,
          18,
          57,
          47,
          45,
          12,
          67,
          114,
          50,
          49,
          95,
          14,
          57,
          67,
          55,
          26,
          45,
          54,
          52,
          48,
          78,
          88,
          92,
          154,
          69,
          69,
          110,
          39,
          102,
          38,
          47,
          127,
          126,
          88,
          24,
          28,
          28,
          52,
          148,
          65,
          24,
          13,
          69,
          48,
          84,
          37,
          30,
          23,
          53,
          52,
          79,
          8,
          59,
          27,
          27,
          62,
          25,
          56,
          13,
          75,
          66,
          12,
          58,
          46,
          74,
          27,
          28,
          35,
          99,
          28,
          42,
          57,
          49,
          31,
          85,
          64,
          18,
          32,
          52,
          33,
          75,
          116,
          44,
          59,
          93,
          13,
          77,
          51,
          48,
          22,
          59,
          33,
          99,
          24,
          52,
          39,
          32,
          100,
          74,
          141,
          47,
          62,
          69,
          69,
          26,
          64,
          52,
          103,
          51,
          24,
          162,
          159,
          107,
          25,
          62,
          24,
          96,
          32,
          48,
          65,
          78,
          47,
          27,
          67,
          64,
          44,
          70,
          14,
          36,
          27,
          27,
          106,
          97,
          48,
          61,
          56,
          48,
          75,
          43,
          37,
          59,
          82,
          40,
          74,
          43,
          51,
          64,
          169,
          23,
          7,
          32,
          65,
          32,
          72,
          98,
          56,
          4,
          106,
          11,
          61,
          78,
          67,
          45,
          50,
          28,
          110,
          33,
          20,
          52,
          38,
          78,
          51,
          79,
          75,
          48,
          99,
          38,
          34,
          47,
          58,
          50,
          82,
          113,
          90,
          94,
          24,
          152,
          24,
          81,
          157,
          68,
          52,
          24,
          116,
          84,
          34,
          48,
          96,
          40,
          8,
          81,
          193,
          51,
          85,
          33,
          53,
          27,
          48,
          17,
          108,
          136,
          44,
          39,
          46,
          27,
          49,
          91,
          25,
          64,
          37,
          90,
          44,
          3,
          32,
          112,
          35,
          48,
          90,
          107,
          72,
          24,
          27,
          95,
          94,
          108,
          77,
          46,
          133,
          13,
          36,
          63,
          35,
          76,
          32,
          102,
          24,
          76,
          44,
          11,
          49,
          138,
          46,
          39,
          150,
          60,
          112,
          32,
          83,
          124,
          91,
          133,
          52,
          130,
          22,
          24,
          109,
          80,
          122,
          54,
          73,
          16,
          24,
          10,
          19,
          48,
          125,
          33,
          90,
          82,
          133,
          52,
          47,
          71,
          30,
          41,
          27,
          30,
          7,
          31,
          69,
          128,
          95,
          33,
          0,
          29,
          101,
          39,
          37,
          61,
          96,
          66,
          40,
          66,
          27,
          101,
          56,
          13,
          169,
          82,
          104
         ],
         "xbins": {
          "end": 206,
          "size": 15,
          "start": 0
         }
        }
       ],
       "layout": {
        "shapes": [
         {
          "line": {
           "color": "darkmagenta",
           "dash": "dash",
           "width": 2
          },
          "type": "line",
          "x0": 64.01488833746899,
          "x1": 64.01488833746899,
          "xref": "x",
          "y0": 0,
          "y1": 1,
          "yref": "y domain"
         }
        ],
        "template": {
         "data": {
          "bar": [
           {
            "error_x": {
             "color": "#2a3f5f"
            },
            "error_y": {
             "color": "#2a3f5f"
            },
            "marker": {
             "line": {
              "color": "#E5ECF6",
              "width": 0.5
             },
             "pattern": {
              "fillmode": "overlay",
              "size": 10,
              "solidity": 0.2
             }
            },
            "type": "bar"
           }
          ],
          "barpolar": [
           {
            "marker": {
             "line": {
              "color": "#E5ECF6",
              "width": 0.5
             },
             "pattern": {
              "fillmode": "overlay",
              "size": 10,
              "solidity": 0.2
             }
            },
            "type": "barpolar"
           }
          ],
          "carpet": [
           {
            "aaxis": {
             "endlinecolor": "#2a3f5f",
             "gridcolor": "white",
             "linecolor": "white",
             "minorgridcolor": "white",
             "startlinecolor": "#2a3f5f"
            },
            "baxis": {
             "endlinecolor": "#2a3f5f",
             "gridcolor": "white",
             "linecolor": "white",
             "minorgridcolor": "white",
             "startlinecolor": "#2a3f5f"
            },
            "type": "carpet"
           }
          ],
          "choropleth": [
           {
            "colorbar": {
             "outlinewidth": 0,
             "ticks": ""
            },
            "type": "choropleth"
           }
          ],
          "contour": [
           {
            "colorbar": {
             "outlinewidth": 0,
             "ticks": ""
            },
            "colorscale": [
             [
              0,
              "#0d0887"
             ],
             [
              0.1111111111111111,
              "#46039f"
             ],
             [
              0.2222222222222222,
              "#7201a8"
             ],
             [
              0.3333333333333333,
              "#9c179e"
             ],
             [
              0.4444444444444444,
              "#bd3786"
             ],
             [
              0.5555555555555556,
              "#d8576b"
             ],
             [
              0.6666666666666666,
              "#ed7953"
             ],
             [
              0.7777777777777778,
              "#fb9f3a"
             ],
             [
              0.8888888888888888,
              "#fdca26"
             ],
             [
              1,
              "#f0f921"
             ]
            ],
            "type": "contour"
           }
          ],
          "contourcarpet": [
           {
            "colorbar": {
             "outlinewidth": 0,
             "ticks": ""
            },
            "type": "contourcarpet"
           }
          ],
          "heatmap": [
           {
            "colorbar": {
             "outlinewidth": 0,
             "ticks": ""
            },
            "colorscale": [
             [
              0,
              "#0d0887"
             ],
             [
              0.1111111111111111,
              "#46039f"
             ],
             [
              0.2222222222222222,
              "#7201a8"
             ],
             [
              0.3333333333333333,
              "#9c179e"
             ],
             [
              0.4444444444444444,
              "#bd3786"
             ],
             [
              0.5555555555555556,
              "#d8576b"
             ],
             [
              0.6666666666666666,
              "#ed7953"
             ],
             [
              0.7777777777777778,
              "#fb9f3a"
             ],
             [
              0.8888888888888888,
              "#fdca26"
             ],
             [
              1,
              "#f0f921"
             ]
            ],
            "type": "heatmap"
           }
          ],
          "heatmapgl": [
           {
            "colorbar": {
             "outlinewidth": 0,
             "ticks": ""
            },
            "colorscale": [
             [
              0,
              "#0d0887"
             ],
             [
              0.1111111111111111,
              "#46039f"
             ],
             [
              0.2222222222222222,
              "#7201a8"
             ],
             [
              0.3333333333333333,
              "#9c179e"
             ],
             [
              0.4444444444444444,
              "#bd3786"
             ],
             [
              0.5555555555555556,
              "#d8576b"
             ],
             [
              0.6666666666666666,
              "#ed7953"
             ],
             [
              0.7777777777777778,
              "#fb9f3a"
             ],
             [
              0.8888888888888888,
              "#fdca26"
             ],
             [
              1,
              "#f0f921"
             ]
            ],
            "type": "heatmapgl"
           }
          ],
          "histogram": [
           {
            "marker": {
             "pattern": {
              "fillmode": "overlay",
              "size": 10,
              "solidity": 0.2
             }
            },
            "type": "histogram"
           }
          ],
          "histogram2d": [
           {
            "colorbar": {
             "outlinewidth": 0,
             "ticks": ""
            },
            "colorscale": [
             [
              0,
              "#0d0887"
             ],
             [
              0.1111111111111111,
              "#46039f"
             ],
             [
              0.2222222222222222,
              "#7201a8"
             ],
             [
              0.3333333333333333,
              "#9c179e"
             ],
             [
              0.4444444444444444,
              "#bd3786"
             ],
             [
              0.5555555555555556,
              "#d8576b"
             ],
             [
              0.6666666666666666,
              "#ed7953"
             ],
             [
              0.7777777777777778,
              "#fb9f3a"
             ],
             [
              0.8888888888888888,
              "#fdca26"
             ],
             [
              1,
              "#f0f921"
             ]
            ],
            "type": "histogram2d"
           }
          ],
          "histogram2dcontour": [
           {
            "colorbar": {
             "outlinewidth": 0,
             "ticks": ""
            },
            "colorscale": [
             [
              0,
              "#0d0887"
             ],
             [
              0.1111111111111111,
              "#46039f"
             ],
             [
              0.2222222222222222,
              "#7201a8"
             ],
             [
              0.3333333333333333,
              "#9c179e"
             ],
             [
              0.4444444444444444,
              "#bd3786"
             ],
             [
              0.5555555555555556,
              "#d8576b"
             ],
             [
              0.6666666666666666,
              "#ed7953"
             ],
             [
              0.7777777777777778,
              "#fb9f3a"
             ],
             [
              0.8888888888888888,
              "#fdca26"
             ],
             [
              1,
              "#f0f921"
             ]
            ],
            "type": "histogram2dcontour"
           }
          ],
          "mesh3d": [
           {
            "colorbar": {
             "outlinewidth": 0,
             "ticks": ""
            },
            "type": "mesh3d"
           }
          ],
          "parcoords": [
           {
            "line": {
             "colorbar": {
              "outlinewidth": 0,
              "ticks": ""
             }
            },
            "type": "parcoords"
           }
          ],
          "pie": [
           {
            "automargin": true,
            "type": "pie"
           }
          ],
          "scatter": [
           {
            "fillpattern": {
             "fillmode": "overlay",
             "size": 10,
             "solidity": 0.2
            },
            "type": "scatter"
           }
          ],
          "scatter3d": [
           {
            "line": {
             "colorbar": {
              "outlinewidth": 0,
              "ticks": ""
             }
            },
            "marker": {
             "colorbar": {
              "outlinewidth": 0,
              "ticks": ""
             }
            },
            "type": "scatter3d"
           }
          ],
          "scattercarpet": [
           {
            "marker": {
             "colorbar": {
              "outlinewidth": 0,
              "ticks": ""
             }
            },
            "type": "scattercarpet"
           }
          ],
          "scattergeo": [
           {
            "marker": {
             "colorbar": {
              "outlinewidth": 0,
              "ticks": ""
             }
            },
            "type": "scattergeo"
           }
          ],
          "scattergl": [
           {
            "marker": {
             "colorbar": {
              "outlinewidth": 0,
              "ticks": ""
             }
            },
            "type": "scattergl"
           }
          ],
          "scattermapbox": [
           {
            "marker": {
             "colorbar": {
              "outlinewidth": 0,
              "ticks": ""
             }
            },
            "type": "scattermapbox"
           }
          ],
          "scatterpolar": [
           {
            "marker": {
             "colorbar": {
              "outlinewidth": 0,
              "ticks": ""
             }
            },
            "type": "scatterpolar"
           }
          ],
          "scatterpolargl": [
           {
            "marker": {
             "colorbar": {
              "outlinewidth": 0,
              "ticks": ""
             }
            },
            "type": "scatterpolargl"
           }
          ],
          "scatterternary": [
           {
            "marker": {
             "colorbar": {
              "outlinewidth": 0,
              "ticks": ""
             }
            },
            "type": "scatterternary"
           }
          ],
          "surface": [
           {
            "colorbar": {
             "outlinewidth": 0,
             "ticks": ""
            },
            "colorscale": [
             [
              0,
              "#0d0887"
             ],
             [
              0.1111111111111111,
              "#46039f"
             ],
             [
              0.2222222222222222,
              "#7201a8"
             ],
             [
              0.3333333333333333,
              "#9c179e"
             ],
             [
              0.4444444444444444,
              "#bd3786"
             ],
             [
              0.5555555555555556,
              "#d8576b"
             ],
             [
              0.6666666666666666,
              "#ed7953"
             ],
             [
              0.7777777777777778,
              "#fb9f3a"
             ],
             [
              0.8888888888888888,
              "#fdca26"
             ],
             [
              1,
              "#f0f921"
             ]
            ],
            "type": "surface"
           }
          ],
          "table": [
           {
            "cells": {
             "fill": {
              "color": "#EBF0F8"
             },
             "line": {
              "color": "white"
             }
            },
            "header": {
             "fill": {
              "color": "#C8D4E3"
             },
             "line": {
              "color": "white"
             }
            },
            "type": "table"
           }
          ]
         },
         "layout": {
          "annotationdefaults": {
           "arrowcolor": "#2a3f5f",
           "arrowhead": 0,
           "arrowwidth": 1
          },
          "autotypenumbers": "strict",
          "coloraxis": {
           "colorbar": {
            "outlinewidth": 0,
            "ticks": ""
           }
          },
          "colorscale": {
           "diverging": [
            [
             0,
             "#8e0152"
            ],
            [
             0.1,
             "#c51b7d"
            ],
            [
             0.2,
             "#de77ae"
            ],
            [
             0.3,
             "#f1b6da"
            ],
            [
             0.4,
             "#fde0ef"
            ],
            [
             0.5,
             "#f7f7f7"
            ],
            [
             0.6,
             "#e6f5d0"
            ],
            [
             0.7,
             "#b8e186"
            ],
            [
             0.8,
             "#7fbc41"
            ],
            [
             0.9,
             "#4d9221"
            ],
            [
             1,
             "#276419"
            ]
           ],
           "sequential": [
            [
             0,
             "#0d0887"
            ],
            [
             0.1111111111111111,
             "#46039f"
            ],
            [
             0.2222222222222222,
             "#7201a8"
            ],
            [
             0.3333333333333333,
             "#9c179e"
            ],
            [
             0.4444444444444444,
             "#bd3786"
            ],
            [
             0.5555555555555556,
             "#d8576b"
            ],
            [
             0.6666666666666666,
             "#ed7953"
            ],
            [
             0.7777777777777778,
             "#fb9f3a"
            ],
            [
             0.8888888888888888,
             "#fdca26"
            ],
            [
             1,
             "#f0f921"
            ]
           ],
           "sequentialminus": [
            [
             0,
             "#0d0887"
            ],
            [
             0.1111111111111111,
             "#46039f"
            ],
            [
             0.2222222222222222,
             "#7201a8"
            ],
            [
             0.3333333333333333,
             "#9c179e"
            ],
            [
             0.4444444444444444,
             "#bd3786"
            ],
            [
             0.5555555555555556,
             "#d8576b"
            ],
            [
             0.6666666666666666,
             "#ed7953"
            ],
            [
             0.7777777777777778,
             "#fb9f3a"
            ],
            [
             0.8888888888888888,
             "#fdca26"
            ],
            [
             1,
             "#f0f921"
            ]
           ]
          },
          "colorway": [
           "#636efa",
           "#EF553B",
           "#00cc96",
           "#ab63fa",
           "#FFA15A",
           "#19d3f3",
           "#FF6692",
           "#B6E880",
           "#FF97FF",
           "#FECB52"
          ],
          "font": {
           "color": "#2a3f5f"
          },
          "geo": {
           "bgcolor": "white",
           "lakecolor": "white",
           "landcolor": "#E5ECF6",
           "showlakes": true,
           "showland": true,
           "subunitcolor": "white"
          },
          "hoverlabel": {
           "align": "left"
          },
          "hovermode": "closest",
          "mapbox": {
           "style": "light"
          },
          "paper_bgcolor": "white",
          "plot_bgcolor": "#E5ECF6",
          "polar": {
           "angularaxis": {
            "gridcolor": "white",
            "linecolor": "white",
            "ticks": ""
           },
           "bgcolor": "#E5ECF6",
           "radialaxis": {
            "gridcolor": "white",
            "linecolor": "white",
            "ticks": ""
           }
          },
          "scene": {
           "xaxis": {
            "backgroundcolor": "#E5ECF6",
            "gridcolor": "white",
            "gridwidth": 2,
            "linecolor": "white",
            "showbackground": true,
            "ticks": "",
            "zerolinecolor": "white"
           },
           "yaxis": {
            "backgroundcolor": "#E5ECF6",
            "gridcolor": "white",
            "gridwidth": 2,
            "linecolor": "white",
            "showbackground": true,
            "ticks": "",
            "zerolinecolor": "white"
           },
           "zaxis": {
            "backgroundcolor": "#E5ECF6",
            "gridcolor": "white",
            "gridwidth": 2,
            "linecolor": "white",
            "showbackground": true,
            "ticks": "",
            "zerolinecolor": "white"
           }
          },
          "shapedefaults": {
           "line": {
            "color": "#2a3f5f"
           }
          },
          "ternary": {
           "aaxis": {
            "gridcolor": "white",
            "linecolor": "white",
            "ticks": ""
           },
           "baxis": {
            "gridcolor": "white",
            "linecolor": "white",
            "ticks": ""
           },
           "bgcolor": "#E5ECF6",
           "caxis": {
            "gridcolor": "white",
            "linecolor": "white",
            "ticks": ""
           }
          },
          "title": {
           "x": 0.05
          },
          "xaxis": {
           "automargin": true,
           "gridcolor": "white",
           "linecolor": "white",
           "ticks": "",
           "title": {
            "standoff": 15
           },
           "zerolinecolor": "white",
           "zerolinewidth": 2
          },
          "yaxis": {
           "automargin": true,
           "gridcolor": "white",
           "linecolor": "white",
           "ticks": "",
           "title": {
            "standoff": 15
           },
           "zerolinecolor": "white",
           "zerolinewidth": 2
          }
         }
        },
        "title": {
         "text": "Daily commuting time by car distribution (all time all intervenants)"
        },
        "xaxis": {
         "title": {
          "text": "Daily commuting time (mins)"
         }
        },
        "yaxis": {
         "title": {
          "text": "Frequency"
         }
        }
       }
      }
     },
     "metadata": {},
     "output_type": "display_data"
    }
   ],
   "source": [
    "fig = go.Figure()\n",
    "\n",
    "fig.add_trace(go.Histogram(x=summed_df_car['Duration_Car_Previous'],\n",
    "                            xbins=dict(\n",
    "                                start=summed_df['Duration_Car_Previous'].min(),\n",
    "                                end=summed_df['Duration_Car_Previous'].max(),\n",
    "                                size=15),\n",
    "                            marker_color='rebeccapurple',\n",
    "                            opacity=0.75))\n",
    "\n",
    "mean_duration = np.mean(summed_df['Duration_Car_Previous'])\n",
    "\n",
    "fig.add_vline(x=mean_duration, line=dict(color='darkmagenta', width=2, dash='dash'))\n",
    "\n",
    "fig.update_layout(title_text='Daily commuting time by car distribution (all time all intervenants)',\n",
    "                  xaxis_title='Daily commuting time (mins)',\n",
    "                  yaxis_title='Frequency')\n",
    "\n",
    "fig.show()"
   ]
  }
 ],
 "metadata": {
  "kernelspec": {
   "display_name": "Python 3",
   "language": "python",
   "name": "python3"
  },
  "language_info": {
   "codemirror_mode": {
    "name": "ipython",
    "version": 3
   },
   "file_extension": ".py",
   "mimetype": "text/x-python",
   "name": "python",
   "nbconvert_exporter": "python",
   "pygments_lexer": "ipython3",
   "version": "3.8.5"
  }
 },
 "nbformat": 4,
 "nbformat_minor": 2
}

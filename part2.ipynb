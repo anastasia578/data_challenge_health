{
 "cells": [
  {
   "cell_type": "markdown",
   "metadata": {},
   "source": [
    "## Region: Normandie"
   ]
  },
  {
   "cell_type": "markdown",
   "metadata": {},
   "source": [
    "- look at competition: profit/nonprofit, ratings, size (# of employees)\n",
    "- possible to poach nurses from other homecare services\n",
    "- study the population of elderly and the population of nurses"
   ]
  },
  {
   "cell_type": "code",
   "execution_count": 70,
   "metadata": {},
   "outputs": [],
   "source": [
    "import pandas as pd\n",
    "import matplotlib.pyplot as plt\n",
    "import os"
   ]
  },
  {
   "cell_type": "code",
   "execution_count": 71,
   "metadata": {},
   "outputs": [],
   "source": [
    "# constants\n",
    "filename = 'dossier_complet.csv'\n",
    "meta_filename = 'meta_dossier_complet.csv'\n",
    "filepath = os.path.join('data', 'dossier_complet', filename)\n",
    "filepath_meta = os.path.join('data', 'dossier_complet', meta_filename)"
   ]
  },
  {
   "cell_type": "code",
   "execution_count": 72,
   "metadata": {},
   "outputs": [
    {
     "name": "stderr",
     "output_type": "stream",
     "text": [
      "/var/folders/gf/krd86t8n5cqdjlrv032x5d_h0000gn/T/ipykernel_78956/557334823.py:1: DtypeWarning:\n",
      "\n",
      "Columns (0) have mixed types. Specify dtype option on import or set low_memory=False.\n",
      "\n",
      "/var/folders/gf/krd86t8n5cqdjlrv032x5d_h0000gn/T/ipykernel_78956/557334823.py:2: DtypeWarning:\n",
      "\n",
      "Columns (3,7) have mixed types. Specify dtype option on import or set low_memory=False.\n",
      "\n"
     ]
    }
   ],
   "source": [
    "df = pd.read_csv(filepath, delimiter=';')\n",
    "df_meta = pd.read_csv(filepath_meta, delimiter=';')"
   ]
  },
  {
   "cell_type": "code",
   "execution_count": 73,
   "metadata": {},
   "outputs": [
    {
     "data": {
      "text/html": [
       "<div>\n",
       "<style scoped>\n",
       "    .dataframe tbody tr th:only-of-type {\n",
       "        vertical-align: middle;\n",
       "    }\n",
       "\n",
       "    .dataframe tbody tr th {\n",
       "        vertical-align: top;\n",
       "    }\n",
       "\n",
       "    .dataframe thead th {\n",
       "        text-align: right;\n",
       "    }\n",
       "</style>\n",
       "<table border=\"1\" class=\"dataframe\">\n",
       "  <thead>\n",
       "    <tr style=\"text-align: right;\">\n",
       "      <th></th>\n",
       "      <th>COD_VAR</th>\n",
       "      <th>LIB_VAR</th>\n",
       "      <th>LIB_VAR_LONG</th>\n",
       "      <th>COD_MOD</th>\n",
       "      <th>LIB_MOD</th>\n",
       "      <th>TYPE_VAR</th>\n",
       "      <th>LONG_VAR</th>\n",
       "      <th>THEME</th>\n",
       "      <th>SOURCE</th>\n",
       "    </tr>\n",
       "  </thead>\n",
       "  <tbody>\n",
       "    <tr>\n",
       "      <th>0</th>\n",
       "      <td>P20_POP</td>\n",
       "      <td>Population en 2020 (princ)</td>\n",
       "      <td>Population en 2020</td>\n",
       "      <td>NaN</td>\n",
       "      <td>NaN</td>\n",
       "      <td>NUM</td>\n",
       "      <td>7</td>\n",
       "      <td>Évolution et structure de la population</td>\n",
       "      <td>Insee, RP2009, RP2014 et RP2020, géographie au...</td>\n",
       "    </tr>\n",
       "    <tr>\n",
       "      <th>1</th>\n",
       "      <td>P20_POP0014</td>\n",
       "      <td>Pop 0-14 ans en 2020 (princ)</td>\n",
       "      <td>Nombre de personnes de 0 à 14 ans en 2020</td>\n",
       "      <td>NaN</td>\n",
       "      <td>NaN</td>\n",
       "      <td>NUM</td>\n",
       "      <td>17</td>\n",
       "      <td>Évolution et structure de la population</td>\n",
       "      <td>Insee, RP2009, RP2014 et RP2020, géographie au...</td>\n",
       "    </tr>\n",
       "    <tr>\n",
       "      <th>2</th>\n",
       "      <td>P20_POP1529</td>\n",
       "      <td>Pop 15-29 ans en 2020 (princ)</td>\n",
       "      <td>Nombre de personnes de 15 à 29 ans en 2020</td>\n",
       "      <td>NaN</td>\n",
       "      <td>NaN</td>\n",
       "      <td>NUM</td>\n",
       "      <td>17</td>\n",
       "      <td>Évolution et structure de la population</td>\n",
       "      <td>Insee, RP2009, RP2014 et RP2020, géographie au...</td>\n",
       "    </tr>\n",
       "    <tr>\n",
       "      <th>3</th>\n",
       "      <td>P20_POP3044</td>\n",
       "      <td>Pop 30-44 ans en 2020 (princ)</td>\n",
       "      <td>Nombre de personnes de 30 à 44 ans en 2020</td>\n",
       "      <td>NaN</td>\n",
       "      <td>NaN</td>\n",
       "      <td>NUM</td>\n",
       "      <td>17</td>\n",
       "      <td>Évolution et structure de la population</td>\n",
       "      <td>Insee, RP2009, RP2014 et RP2020, géographie au...</td>\n",
       "    </tr>\n",
       "    <tr>\n",
       "      <th>4</th>\n",
       "      <td>P20_POP4559</td>\n",
       "      <td>Pop 45-59 ans en 2020 (princ)</td>\n",
       "      <td>Nombre de personnes de 45 à 59 ans en 2020</td>\n",
       "      <td>NaN</td>\n",
       "      <td>NaN</td>\n",
       "      <td>NUM</td>\n",
       "      <td>17</td>\n",
       "      <td>Évolution et structure de la population</td>\n",
       "      <td>Insee, RP2009, RP2014 et RP2020, géographie au...</td>\n",
       "    </tr>\n",
       "  </tbody>\n",
       "</table>\n",
       "</div>"
      ],
      "text/plain": [
       "       COD_VAR                        LIB_VAR  \\\n",
       "0      P20_POP     Population en 2020 (princ)   \n",
       "1  P20_POP0014   Pop 0-14 ans en 2020 (princ)   \n",
       "2  P20_POP1529  Pop 15-29 ans en 2020 (princ)   \n",
       "3  P20_POP3044  Pop 30-44 ans en 2020 (princ)   \n",
       "4  P20_POP4559  Pop 45-59 ans en 2020 (princ)   \n",
       "\n",
       "                                 LIB_VAR_LONG COD_MOD LIB_MOD TYPE_VAR  \\\n",
       "0                          Population en 2020     NaN     NaN      NUM   \n",
       "1   Nombre de personnes de 0 à 14 ans en 2020     NaN     NaN      NUM   \n",
       "2  Nombre de personnes de 15 à 29 ans en 2020     NaN     NaN      NUM   \n",
       "3  Nombre de personnes de 30 à 44 ans en 2020     NaN     NaN      NUM   \n",
       "4  Nombre de personnes de 45 à 59 ans en 2020     NaN     NaN      NUM   \n",
       "\n",
       "   LONG_VAR                                    THEME  \\\n",
       "0         7  Évolution et structure de la population   \n",
       "1        17  Évolution et structure de la population   \n",
       "2        17  Évolution et structure de la population   \n",
       "3        17  Évolution et structure de la population   \n",
       "4        17  Évolution et structure de la population   \n",
       "\n",
       "                                              SOURCE  \n",
       "0  Insee, RP2009, RP2014 et RP2020, géographie au...  \n",
       "1  Insee, RP2009, RP2014 et RP2020, géographie au...  \n",
       "2  Insee, RP2009, RP2014 et RP2020, géographie au...  \n",
       "3  Insee, RP2009, RP2014 et RP2020, géographie au...  \n",
       "4  Insee, RP2009, RP2014 et RP2020, géographie au...  "
      ]
     },
     "execution_count": 73,
     "metadata": {},
     "output_type": "execute_result"
    }
   ],
   "source": [
    "df_meta.head()"
   ]
  },
  {
   "cell_type": "code",
   "execution_count": 76,
   "metadata": {},
   "outputs": [],
   "source": [
    "df['CODGEO'] = df['CODGEO'].astype(str)\n",
    "filtered_data_normandy = df[df['CODGEO'].str.startswith(('14', '27', '50', '61', '76'))]"
   ]
  },
  {
   "cell_type": "code",
   "execution_count": 77,
   "metadata": {},
   "outputs": [],
   "source": [
    "age_groups = ['P20_POP0014', 'P20_POP1529', 'P20_POP3044', 'P20_POP4559', 'P20_POP6074', 'P20_POP7589', 'P20_POP90P']\n",
    "custom_labels = ['Ages 0-14', 'Ages 15-29', 'Ages 30-44', 'Ages 45-59', 'Ages 60-74', 'Ages 75-89', 'Ages 90+']\n",
    "\n",
    "\n",
    "# function to generate population density for different age groups\n",
    "def generate_density_df(df, age_groups):\n",
    "    for age_group in age_groups:\n",
    "        fraction_column = f'fraction_{age_group}'\n",
    "        df[fraction_column] = df[age_group] / df['P20_POP']\n",
    "\n",
    "    # Create a new DF with just the fractions\n",
    "    fractions_df = df[[f'fraction_{age_group}' for age_group in age_groups]]\n",
    "\n",
    "    return fractions_df\n",
    "\n",
    "\n",
    "# function to generate pie chart for population density\n",
    "def plot_density_df(fractions_df, age_groups, custom_labels):\n",
    "    labels = custom_labels\n",
    "    colors = plt.cm.Paired(range(len(age_groups)))\n",
    "\n",
    "    fractions_df.mean().plot(kind='pie', labels=labels, colors=colors, autopct='%1.1f%%', startangle=90)\n",
    "    plt.title('Population Distribution by Age Group')\n",
    "    plt.axis('equal')  # Equal aspect ratio ensures that the pie chart is circular.\n",
    "    plt.show()"
   ]
  },
  {
   "cell_type": "code",
   "execution_count": 78,
   "metadata": {},
   "outputs": [
    {
     "name": "stderr",
     "output_type": "stream",
     "text": [
      "/var/folders/gf/krd86t8n5cqdjlrv032x5d_h0000gn/T/ipykernel_78956/1208702318.py:9: SettingWithCopyWarning:\n",
      "\n",
      "\n",
      "A value is trying to be set on a copy of a slice from a DataFrame.\n",
      "Try using .loc[row_indexer,col_indexer] = value instead\n",
      "\n",
      "See the caveats in the documentation: https://pandas.pydata.org/pandas-docs/stable/user_guide/indexing.html#returning-a-view-versus-a-copy\n",
      "\n",
      "/var/folders/gf/krd86t8n5cqdjlrv032x5d_h0000gn/T/ipykernel_78956/1208702318.py:9: SettingWithCopyWarning:\n",
      "\n",
      "\n",
      "A value is trying to be set on a copy of a slice from a DataFrame.\n",
      "Try using .loc[row_indexer,col_indexer] = value instead\n",
      "\n",
      "See the caveats in the documentation: https://pandas.pydata.org/pandas-docs/stable/user_guide/indexing.html#returning-a-view-versus-a-copy\n",
      "\n",
      "/var/folders/gf/krd86t8n5cqdjlrv032x5d_h0000gn/T/ipykernel_78956/1208702318.py:9: SettingWithCopyWarning:\n",
      "\n",
      "\n",
      "A value is trying to be set on a copy of a slice from a DataFrame.\n",
      "Try using .loc[row_indexer,col_indexer] = value instead\n",
      "\n",
      "See the caveats in the documentation: https://pandas.pydata.org/pandas-docs/stable/user_guide/indexing.html#returning-a-view-versus-a-copy\n",
      "\n",
      "/var/folders/gf/krd86t8n5cqdjlrv032x5d_h0000gn/T/ipykernel_78956/1208702318.py:9: SettingWithCopyWarning:\n",
      "\n",
      "\n",
      "A value is trying to be set on a copy of a slice from a DataFrame.\n",
      "Try using .loc[row_indexer,col_indexer] = value instead\n",
      "\n",
      "See the caveats in the documentation: https://pandas.pydata.org/pandas-docs/stable/user_guide/indexing.html#returning-a-view-versus-a-copy\n",
      "\n",
      "/var/folders/gf/krd86t8n5cqdjlrv032x5d_h0000gn/T/ipykernel_78956/1208702318.py:9: SettingWithCopyWarning:\n",
      "\n",
      "\n",
      "A value is trying to be set on a copy of a slice from a DataFrame.\n",
      "Try using .loc[row_indexer,col_indexer] = value instead\n",
      "\n",
      "See the caveats in the documentation: https://pandas.pydata.org/pandas-docs/stable/user_guide/indexing.html#returning-a-view-versus-a-copy\n",
      "\n",
      "/var/folders/gf/krd86t8n5cqdjlrv032x5d_h0000gn/T/ipykernel_78956/1208702318.py:9: SettingWithCopyWarning:\n",
      "\n",
      "\n",
      "A value is trying to be set on a copy of a slice from a DataFrame.\n",
      "Try using .loc[row_indexer,col_indexer] = value instead\n",
      "\n",
      "See the caveats in the documentation: https://pandas.pydata.org/pandas-docs/stable/user_guide/indexing.html#returning-a-view-versus-a-copy\n",
      "\n",
      "/var/folders/gf/krd86t8n5cqdjlrv032x5d_h0000gn/T/ipykernel_78956/1208702318.py:9: SettingWithCopyWarning:\n",
      "\n",
      "\n",
      "A value is trying to be set on a copy of a slice from a DataFrame.\n",
      "Try using .loc[row_indexer,col_indexer] = value instead\n",
      "\n",
      "See the caveats in the documentation: https://pandas.pydata.org/pandas-docs/stable/user_guide/indexing.html#returning-a-view-versus-a-copy\n",
      "\n"
     ]
    }
   ],
   "source": [
    "fractions_df = generate_density_df(filtered_data_normandy, age_groups)"
   ]
  },
  {
   "cell_type": "code",
   "execution_count": 79,
   "metadata": {},
   "outputs": [
    {
     "data": {
      "image/png": "[encoded data removed]",
      "text/plain": [
       "<Figure size 640x480 with 1 Axes>"
      ]
     },
     "metadata": {},
     "output_type": "display_data"
    }
   ],
   "source": [
    "plot_density_df(fractions_df, age_groups, custom_labels)"
   ]
  },
  {
   "cell_type": "markdown",
   "metadata": {},
   "source": [
    "* calculate density of ages 60+ per department (14, 50, 61)\n",
    "* calculate density for select groups depending on the labels"
   ]
  },
  {
   "cell_type": "code",
   "execution_count": 80,
   "metadata": {},
   "outputs": [],
   "source": [
    "df['CODGEO'] = df['CODGEO'].astype(str)\n",
    "filtered_data_calvados = df[df['CODGEO'].str.startswith(('14'))]\n",
    "filtered_data_manche = df[df['CODGEO'].str.startswith(('50'))]\n",
    "filtered_data_orne = df[df['CODGEO'].str.startswith(('61'))]"
   ]
  },
  {
   "cell_type": "code",
   "execution_count": 81,
   "metadata": {},
   "outputs": [
    {
     "name": "stderr",
     "output_type": "stream",
     "text": [
      "/var/folders/gf/krd86t8n5cqdjlrv032x5d_h0000gn/T/ipykernel_78956/1208702318.py:9: SettingWithCopyWarning:\n",
      "\n",
      "\n",
      "A value is trying to be set on a copy of a slice from a DataFrame.\n",
      "Try using .loc[row_indexer,col_indexer] = value instead\n",
      "\n",
      "See the caveats in the documentation: https://pandas.pydata.org/pandas-docs/stable/user_guide/indexing.html#returning-a-view-versus-a-copy\n",
      "\n",
      "/var/folders/gf/krd86t8n5cqdjlrv032x5d_h0000gn/T/ipykernel_78956/1208702318.py:9: SettingWithCopyWarning:\n",
      "\n",
      "\n",
      "A value is trying to be set on a copy of a slice from a DataFrame.\n",
      "Try using .loc[row_indexer,col_indexer] = value instead\n",
      "\n",
      "See the caveats in the documentation: https://pandas.pydata.org/pandas-docs/stable/user_guide/indexing.html#returning-a-view-versus-a-copy\n",
      "\n",
      "/var/folders/gf/krd86t8n5cqdjlrv032x5d_h0000gn/T/ipykernel_78956/1208702318.py:9: SettingWithCopyWarning:\n",
      "\n",
      "\n",
      "A value is trying to be set on a copy of a slice from a DataFrame.\n",
      "Try using .loc[row_indexer,col_indexer] = value instead\n",
      "\n",
      "See the caveats in the documentation: https://pandas.pydata.org/pandas-docs/stable/user_guide/indexing.html#returning-a-view-versus-a-copy\n",
      "\n",
      "/var/folders/gf/krd86t8n5cqdjlrv032x5d_h0000gn/T/ipykernel_78956/1208702318.py:9: SettingWithCopyWarning:\n",
      "\n",
      "\n",
      "A value is trying to be set on a copy of a slice from a DataFrame.\n",
      "Try using .loc[row_indexer,col_indexer] = value instead\n",
      "\n",
      "See the caveats in the documentation: https://pandas.pydata.org/pandas-docs/stable/user_guide/indexing.html#returning-a-view-versus-a-copy\n",
      "\n",
      "/var/folders/gf/krd86t8n5cqdjlrv032x5d_h0000gn/T/ipykernel_78956/1208702318.py:9: SettingWithCopyWarning:\n",
      "\n",
      "\n",
      "A value is trying to be set on a copy of a slice from a DataFrame.\n",
      "Try using .loc[row_indexer,col_indexer] = value instead\n",
      "\n",
      "See the caveats in the documentation: https://pandas.pydata.org/pandas-docs/stable/user_guide/indexing.html#returning-a-view-versus-a-copy\n",
      "\n",
      "/var/folders/gf/krd86t8n5cqdjlrv032x5d_h0000gn/T/ipykernel_78956/1208702318.py:9: SettingWithCopyWarning:\n",
      "\n",
      "\n",
      "A value is trying to be set on a copy of a slice from a DataFrame.\n",
      "Try using .loc[row_indexer,col_indexer] = value instead\n",
      "\n",
      "See the caveats in the documentation: https://pandas.pydata.org/pandas-docs/stable/user_guide/indexing.html#returning-a-view-versus-a-copy\n",
      "\n",
      "/var/folders/gf/krd86t8n5cqdjlrv032x5d_h0000gn/T/ipykernel_78956/1208702318.py:9: SettingWithCopyWarning:\n",
      "\n",
      "\n",
      "A value is trying to be set on a copy of a slice from a DataFrame.\n",
      "Try using .loc[row_indexer,col_indexer] = value instead\n",
      "\n",
      "See the caveats in the documentation: https://pandas.pydata.org/pandas-docs/stable/user_guide/indexing.html#returning-a-view-versus-a-copy\n",
      "\n",
      "/var/folders/gf/krd86t8n5cqdjlrv032x5d_h0000gn/T/ipykernel_78956/1208702318.py:9: SettingWithCopyWarning:\n",
      "\n",
      "\n",
      "A value is trying to be set on a copy of a slice from a DataFrame.\n",
      "Try using .loc[row_indexer,col_indexer] = value instead\n",
      "\n",
      "See the caveats in the documentation: https://pandas.pydata.org/pandas-docs/stable/user_guide/indexing.html#returning-a-view-versus-a-copy\n",
      "\n",
      "/var/folders/gf/krd86t8n5cqdjlrv032x5d_h0000gn/T/ipykernel_78956/1208702318.py:9: SettingWithCopyWarning:\n",
      "\n",
      "\n",
      "A value is trying to be set on a copy of a slice from a DataFrame.\n",
      "Try using .loc[row_indexer,col_indexer] = value instead\n",
      "\n",
      "See the caveats in the documentation: https://pandas.pydata.org/pandas-docs/stable/user_guide/indexing.html#returning-a-view-versus-a-copy\n",
      "\n",
      "/var/folders/gf/krd86t8n5cqdjlrv032x5d_h0000gn/T/ipykernel_78956/1208702318.py:9: SettingWithCopyWarning:\n",
      "\n",
      "\n",
      "A value is trying to be set on a copy of a slice from a DataFrame.\n",
      "Try using .loc[row_indexer,col_indexer] = value instead\n",
      "\n",
      "See the caveats in the documentation: https://pandas.pydata.org/pandas-docs/stable/user_guide/indexing.html#returning-a-view-versus-a-copy\n",
      "\n",
      "/var/folders/gf/krd86t8n5cqdjlrv032x5d_h0000gn/T/ipykernel_78956/1208702318.py:9: SettingWithCopyWarning:\n",
      "\n",
      "\n",
      "A value is trying to be set on a copy of a slice from a DataFrame.\n",
      "Try using .loc[row_indexer,col_indexer] = value instead\n",
      "\n",
      "See the caveats in the documentation: https://pandas.pydata.org/pandas-docs/stable/user_guide/indexing.html#returning-a-view-versus-a-copy\n",
      "\n",
      "/var/folders/gf/krd86t8n5cqdjlrv032x5d_h0000gn/T/ipykernel_78956/1208702318.py:9: SettingWithCopyWarning:\n",
      "\n",
      "\n",
      "A value is trying to be set on a copy of a slice from a DataFrame.\n",
      "Try using .loc[row_indexer,col_indexer] = value instead\n",
      "\n",
      "See the caveats in the documentation: https://pandas.pydata.org/pandas-docs/stable/user_guide/indexing.html#returning-a-view-versus-a-copy\n",
      "\n",
      "/var/folders/gf/krd86t8n5cqdjlrv032x5d_h0000gn/T/ipykernel_78956/1208702318.py:9: SettingWithCopyWarning:\n",
      "\n",
      "\n",
      "A value is trying to be set on a copy of a slice from a DataFrame.\n",
      "Try using .loc[row_indexer,col_indexer] = value instead\n",
      "\n",
      "See the caveats in the documentation: https://pandas.pydata.org/pandas-docs/stable/user_guide/indexing.html#returning-a-view-versus-a-copy\n",
      "\n",
      "/var/folders/gf/krd86t8n5cqdjlrv032x5d_h0000gn/T/ipykernel_78956/1208702318.py:9: SettingWithCopyWarning:\n",
      "\n",
      "\n",
      "A value is trying to be set on a copy of a slice from a DataFrame.\n",
      "Try using .loc[row_indexer,col_indexer] = value instead\n",
      "\n",
      "See the caveats in the documentation: https://pandas.pydata.org/pandas-docs/stable/user_guide/indexing.html#returning-a-view-versus-a-copy\n",
      "\n",
      "/var/folders/gf/krd86t8n5cqdjlrv032x5d_h0000gn/T/ipykernel_78956/1208702318.py:9: SettingWithCopyWarning:\n",
      "\n",
      "\n",
      "A value is trying to be set on a copy of a slice from a DataFrame.\n",
      "Try using .loc[row_indexer,col_indexer] = value instead\n",
      "\n",
      "See the caveats in the documentation: https://pandas.pydata.org/pandas-docs/stable/user_guide/indexing.html#returning-a-view-versus-a-copy\n",
      "\n",
      "/var/folders/gf/krd86t8n5cqdjlrv032x5d_h0000gn/T/ipykernel_78956/1208702318.py:9: SettingWithCopyWarning:\n",
      "\n",
      "\n",
      "A value is trying to be set on a copy of a slice from a DataFrame.\n",
      "Try using .loc[row_indexer,col_indexer] = value instead\n",
      "\n",
      "See the caveats in the documentation: https://pandas.pydata.org/pandas-docs/stable/user_guide/indexing.html#returning-a-view-versus-a-copy\n",
      "\n",
      "/var/folders/gf/krd86t8n5cqdjlrv032x5d_h0000gn/T/ipykernel_78956/1208702318.py:9: SettingWithCopyWarning:\n",
      "\n",
      "\n",
      "A value is trying to be set on a copy of a slice from a DataFrame.\n",
      "Try using .loc[row_indexer,col_indexer] = value instead\n",
      "\n",
      "See the caveats in the documentation: https://pandas.pydata.org/pandas-docs/stable/user_guide/indexing.html#returning-a-view-versus-a-copy\n",
      "\n",
      "/var/folders/gf/krd86t8n5cqdjlrv032x5d_h0000gn/T/ipykernel_78956/1208702318.py:9: SettingWithCopyWarning:\n",
      "\n",
      "\n",
      "A value is trying to be set on a copy of a slice from a DataFrame.\n",
      "Try using .loc[row_indexer,col_indexer] = value instead\n",
      "\n",
      "See the caveats in the documentation: https://pandas.pydata.org/pandas-docs/stable/user_guide/indexing.html#returning-a-view-versus-a-copy\n",
      "\n",
      "/var/folders/gf/krd86t8n5cqdjlrv032x5d_h0000gn/T/ipykernel_78956/1208702318.py:9: SettingWithCopyWarning:\n",
      "\n",
      "\n",
      "A value is trying to be set on a copy of a slice from a DataFrame.\n",
      "Try using .loc[row_indexer,col_indexer] = value instead\n",
      "\n",
      "See the caveats in the documentation: https://pandas.pydata.org/pandas-docs/stable/user_guide/indexing.html#returning-a-view-versus-a-copy\n",
      "\n",
      "/var/folders/gf/krd86t8n5cqdjlrv032x5d_h0000gn/T/ipykernel_78956/1208702318.py:9: SettingWithCopyWarning:\n",
      "\n",
      "\n",
      "A value is trying to be set on a copy of a slice from a DataFrame.\n",
      "Try using .loc[row_indexer,col_indexer] = value instead\n",
      "\n",
      "See the caveats in the documentation: https://pandas.pydata.org/pandas-docs/stable/user_guide/indexing.html#returning-a-view-versus-a-copy\n",
      "\n",
      "/var/folders/gf/krd86t8n5cqdjlrv032x5d_h0000gn/T/ipykernel_78956/1208702318.py:9: SettingWithCopyWarning:\n",
      "\n",
      "\n",
      "A value is trying to be set on a copy of a slice from a DataFrame.\n",
      "Try using .loc[row_indexer,col_indexer] = value instead\n",
      "\n",
      "See the caveats in the documentation: https://pandas.pydata.org/pandas-docs/stable/user_guide/indexing.html#returning-a-view-versus-a-copy\n",
      "\n"
     ]
    }
   ],
   "source": [
    "fractions_df_calvados = generate_density_df(filtered_data_calvados, age_groups)\n",
    "fractions_df_manche = generate_density_df(filtered_data_manche, age_groups)\n",
    "fractions_df_orne = generate_density_df(filtered_data_orne, age_groups)"
   ]
  },
  {
   "cell_type": "code",
   "execution_count": 82,
   "metadata": {},
   "outputs": [
    {
     "data": {
      "image/png": "[encoded data removed]",
      "text/plain": [
       "<Figure size 640x480 with 1 Axes>"
      ]
     },
     "metadata": {},
     "output_type": "display_data"
    }
   ],
   "source": [
    "plot_density_df(fractions_df_calvados, age_groups, custom_labels)"
   ]
  },
  {
   "cell_type": "code",
   "execution_count": 83,
   "metadata": {},
   "outputs": [
    {
     "data": {
      "image/png": "[encoded data removed]",
      "text/plain": [
       "<Figure size 640x480 with 1 Axes>"
      ]
     },
     "metadata": {},
     "output_type": "display_data"
    }
   ],
   "source": [
    "plot_density_df(fractions_df_manche, age_groups, custom_labels)"
   ]
  },
  {
   "cell_type": "code",
   "execution_count": 84,
   "metadata": {},
   "outputs": [
    {
     "data": {
      "image/png": "[encoded data removed]",
      "text/plain": [
       "<Figure size 640x480 with 1 Axes>"
      ]
     },
     "metadata": {},
     "output_type": "display_data"
    }
   ],
   "source": [
    "plot_density_df(fractions_df_orne, age_groups, custom_labels)"
   ]
  },
  {
   "cell_type": "code",
   "execution_count": 88,
   "metadata": {},
   "outputs": [
    {
     "name": "stderr",
     "output_type": "stream",
     "text": [
      "/var/folders/gf/krd86t8n5cqdjlrv032x5d_h0000gn/T/ipykernel_78956/1208702318.py:9: SettingWithCopyWarning:\n",
      "\n",
      "\n",
      "A value is trying to be set on a copy of a slice from a DataFrame.\n",
      "Try using .loc[row_indexer,col_indexer] = value instead\n",
      "\n",
      "See the caveats in the documentation: https://pandas.pydata.org/pandas-docs/stable/user_guide/indexing.html#returning-a-view-versus-a-copy\n",
      "\n",
      "/var/folders/gf/krd86t8n5cqdjlrv032x5d_h0000gn/T/ipykernel_78956/1208702318.py:9: SettingWithCopyWarning:\n",
      "\n",
      "\n",
      "A value is trying to be set on a copy of a slice from a DataFrame.\n",
      "Try using .loc[row_indexer,col_indexer] = value instead\n",
      "\n",
      "See the caveats in the documentation: https://pandas.pydata.org/pandas-docs/stable/user_guide/indexing.html#returning-a-view-versus-a-copy\n",
      "\n",
      "/var/folders/gf/krd86t8n5cqdjlrv032x5d_h0000gn/T/ipykernel_78956/1208702318.py:9: SettingWithCopyWarning:\n",
      "\n",
      "\n",
      "A value is trying to be set on a copy of a slice from a DataFrame.\n",
      "Try using .loc[row_indexer,col_indexer] = value instead\n",
      "\n",
      "See the caveats in the documentation: https://pandas.pydata.org/pandas-docs/stable/user_guide/indexing.html#returning-a-view-versus-a-copy\n",
      "\n",
      "/var/folders/gf/krd86t8n5cqdjlrv032x5d_h0000gn/T/ipykernel_78956/1208702318.py:9: SettingWithCopyWarning:\n",
      "\n",
      "\n",
      "A value is trying to be set on a copy of a slice from a DataFrame.\n",
      "Try using .loc[row_indexer,col_indexer] = value instead\n",
      "\n",
      "See the caveats in the documentation: https://pandas.pydata.org/pandas-docs/stable/user_guide/indexing.html#returning-a-view-versus-a-copy\n",
      "\n",
      "/var/folders/gf/krd86t8n5cqdjlrv032x5d_h0000gn/T/ipykernel_78956/1208702318.py:9: SettingWithCopyWarning:\n",
      "\n",
      "\n",
      "A value is trying to be set on a copy of a slice from a DataFrame.\n",
      "Try using .loc[row_indexer,col_indexer] = value instead\n",
      "\n",
      "See the caveats in the documentation: https://pandas.pydata.org/pandas-docs/stable/user_guide/indexing.html#returning-a-view-versus-a-copy\n",
      "\n",
      "/var/folders/gf/krd86t8n5cqdjlrv032x5d_h0000gn/T/ipykernel_78956/1208702318.py:9: SettingWithCopyWarning:\n",
      "\n",
      "\n",
      "A value is trying to be set on a copy of a slice from a DataFrame.\n",
      "Try using .loc[row_indexer,col_indexer] = value instead\n",
      "\n",
      "See the caveats in the documentation: https://pandas.pydata.org/pandas-docs/stable/user_guide/indexing.html#returning-a-view-versus-a-copy\n",
      "\n",
      "/var/folders/gf/krd86t8n5cqdjlrv032x5d_h0000gn/T/ipykernel_78956/1208702318.py:9: SettingWithCopyWarning:\n",
      "\n",
      "\n",
      "A value is trying to be set on a copy of a slice from a DataFrame.\n",
      "Try using .loc[row_indexer,col_indexer] = value instead\n",
      "\n",
      "See the caveats in the documentation: https://pandas.pydata.org/pandas-docs/stable/user_guide/indexing.html#returning-a-view-versus-a-copy\n",
      "\n"
     ]
    }
   ],
   "source": [
    "caen_codes = ['1405', '1406', '1407', '1408', '1409']\n",
    "rouen_codes = ['7628', '7629', '7630']\n",
    "havre_codes = ['7614', '7615', '7616', '7617', '7618', '7619']\n",
    "\n",
    "# Filtering the DataFrame\n",
    "filtered_df_caen = df[df['CODGEO'].isin(caen_codes)]\n",
    "fractions_df_caen = generate_density_df(filtered_df_caen, age_groups)\n",
    "\n",
    "filtered_df_rouen = df[df['CODGEO'].isin(rouen_codes)]\n",
    "fractions_df_rouen = generate_density_df(filtered_df_rouen, age_groups)\n",
    "\n",
    "filtered_df_havre = df[df['CODGEO'].isin(havre_codes)]\n",
    "fractions_df_havre = generate_density_df(filtered_df_havre, age_groups)"
   ]
  },
  {
   "cell_type": "code",
   "execution_count": 89,
   "metadata": {},
   "outputs": [
    {
     "data": {
      "image/png": "[encoded data removed]",
      "text/plain": [
       "<Figure size 640x480 with 1 Axes>"
      ]
     },
     "metadata": {},
     "output_type": "display_data"
    }
   ],
   "source": [
    "plot_density_df(fractions_df_caen, age_groups, custom_labels)"
   ]
  },
  {
   "cell_type": "code",
   "execution_count": 90,
   "metadata": {},
   "outputs": [],
   "source": [
    "# create a plot by grouping the calvados, manche, orne arrondissments\n",
    "# 4 arrondissements dans le département du Calvados\n",
    "# Bayeux (141)\n",
    "# Caen (142)\n",
    "# Lisieux (143)\n",
    "# Vire (144)\n",
    "\n",
    "# 4 arrondissements dans le département de la Manche\n",
    "# Avranches (501)\n",
    "# Cherbourg (502)\n",
    "# Coutances (503)\n",
    "# Saint-Lô (504)\n",
    "\n",
    "# 3 arrondissements dans le département de l'Orne\n",
    "# Alençon (611)\n",
    "# Argentan (612)\n",
    "# Mortagne-au-Perche (613)"
   ]
  },
  {
   "cell_type": "code",
   "execution_count": 91,
   "metadata": {},
   "outputs": [],
   "source": [
    "# create a plot that shows old people density for calvados, manche, and orne\n",
    "# create subplot for each of the 3 departments (by arrondissement)\n",
    "# optimization to find canton(s) with the most old people (let's try top 15 and bottom 5) for comparison sake"
   ]
  },
  {
   "cell_type": "code",
   "execution_count": 92,
   "metadata": {},
   "outputs": [
    {
     "data": {
      "application/vnd.plotly.v1+json": {
       "config": {
        "plotlyServerURL": "https://plot.ly"
       },
       "data": [
        {
         "alignmentgroup": "True",
         "hovertemplate": "Region=Calvados<br>Arrondissement Code=%{x}<br>Density (%)=%{y}<extra></extra>",
         "legendgroup": "Calvados",
         "marker": {
          "color": "#636efa",
          "pattern": {
           "shape": ""
          }
         },
         "name": "Calvados",
         "offsetgroup": "Calvados",
         "orientation": "v",
         "showlegend": true,
         "textposition": "auto",
         "type": "bar",
         "x": [
          "141",
          "142",
          "143",
          "144"
         ],
         "xaxis": "x",
         "y": [
          8.544585859731233,
          8.058410592048913,
          8.466755514851098,
          7.986639100401407
         ],
         "yaxis": "y"
        },
        {
         "alignmentgroup": "True",
         "hovertemplate": "Region=Eure<br>Arrondissement Code=%{x}<br>Density (%)=%{y}<extra></extra>",
         "legendgroup": "Eure",
         "marker": {
          "color": "#EF553B",
          "pattern": {
           "shape": ""
          }
         },
         "name": "Eure",
         "offsetgroup": "Eure",
         "orientation": "v",
         "showlegend": true,
         "textposition": "auto",
         "type": "bar",
         "x": [
          "271",
          "272",
          "273"
         ],
         "xaxis": "x",
         "y": [
          7.466264900566568,
          7.090604955502496,
          7.495853061947592
         ],
         "yaxis": "y"
        },
        {
         "alignmentgroup": "True",
         "hovertemplate": "Region=La Manche<br>Arrondissement Code=%{x}<br>Density (%)=%{y}<extra></extra>",
         "legendgroup": "La Manche",
         "marker": {
          "color": "#00cc96",
          "pattern": {
           "shape": ""
          }
         },
         "name": "La Manche",
         "offsetgroup": "La Manche",
         "orientation": "v",
         "showlegend": true,
         "textposition": "auto",
         "type": "bar",
         "x": [
          "501",
          "502",
          "503",
          "504"
         ],
         "xaxis": "x",
         "y": [
          10.713912622734526,
          10.418462767937672,
          10.70962101466029,
          10.78938816853531
         ],
         "yaxis": "y"
        },
        {
         "alignmentgroup": "True",
         "hovertemplate": "Region=Orne<br>Arrondissement Code=%{x}<br>Density (%)=%{y}<extra></extra>",
         "legendgroup": "Orne",
         "marker": {
          "color": "#ab63fa",
          "pattern": {
           "shape": ""
          }
         },
         "name": "Orne",
         "offsetgroup": "Orne",
         "orientation": "v",
         "showlegend": true,
         "textposition": "auto",
         "type": "bar",
         "x": [
          "611",
          "612",
          "613"
         ],
         "xaxis": "x",
         "y": [
          10.517255282204918,
          10.207307323515296,
          11.165851074434755
         ],
         "yaxis": "y"
        },
        {
         "alignmentgroup": "True",
         "hovertemplate": "Region=Seine-Maritime<br>Arrondissement Code=%{x}<br>Density (%)=%{y}<extra></extra>",
         "legendgroup": "Seine-Maritime",
         "marker": {
          "color": "#FFA15A",
          "pattern": {
           "shape": ""
          }
         },
         "name": "Seine-Maritime",
         "offsetgroup": "Seine-Maritime",
         "orientation": "v",
         "showlegend": true,
         "textposition": "auto",
         "type": "bar",
         "x": [
          "761",
          "762",
          "763"
         ],
         "xaxis": "x",
         "y": [
          7.367438328091326,
          7.994569124158536,
          8.138318574371326
         ],
         "yaxis": "y"
        }
       ],
       "layout": {
        "barmode": "relative",
        "legend": {
         "title": {
          "text": "Regions"
         },
         "tracegroupgap": 0
        },
        "showlegend": true,
        "template": {
         "data": {
          "bar": [
           {
            "error_x": {
             "color": "#2a3f5f"
            },
            "error_y": {
             "color": "#2a3f5f"
            },
            "marker": {
             "line": {
              "color": "#E5ECF6",
              "width": 0.5
             },
             "pattern": {
              "fillmode": "overlay",
              "size": 10,
              "solidity": 0.2
             }
            },
            "type": "bar"
           }
          ],
          "barpolar": [
           {
            "marker": {
             "line": {
              "color": "#E5ECF6",
              "width": 0.5
             },
             "pattern": {
              "fillmode": "overlay",
              "size": 10,
              "solidity": 0.2
             }
            },
            "type": "barpolar"
           }
          ],
          "carpet": [
           {
            "aaxis": {
             "endlinecolor": "#2a3f5f",
             "gridcolor": "white",
             "linecolor": "white",
             "minorgridcolor": "white",
             "startlinecolor": "#2a3f5f"
            },
            "baxis": {
             "endlinecolor": "#2a3f5f",
             "gridcolor": "white",
             "linecolor": "white",
             "minorgridcolor": "white",
             "startlinecolor": "#2a3f5f"
            },
            "type": "carpet"
           }
          ],
          "choropleth": [
           {
            "colorbar": {
             "outlinewidth": 0,
             "ticks": ""
            },
            "type": "choropleth"
           }
          ],
          "contour": [
           {
            "colorbar": {
             "outlinewidth": 0,
             "ticks": ""
            },
            "colorscale": [
             [
              0,
              "#0d0887"
             ],
             [
              0.1111111111111111,
              "#46039f"
             ],
             [
              0.2222222222222222,
              "#7201a8"
             ],
             [
              0.3333333333333333,
              "#9c179e"
             ],
             [
              0.4444444444444444,
              "#bd3786"
             ],
             [
              0.5555555555555556,
              "#d8576b"
             ],
             [
              0.6666666666666666,
              "#ed7953"
             ],
             [
              0.7777777777777778,
              "#fb9f3a"
             ],
             [
              0.8888888888888888,
              "#fdca26"
             ],
             [
              1,
              "#f0f921"
             ]
            ],
            "type": "contour"
           }
          ],
          "contourcarpet": [
           {
            "colorbar": {
             "outlinewidth": 0,
             "ticks": ""
            },
            "type": "contourcarpet"
           }
          ],
          "heatmap": [
           {
            "colorbar": {
             "outlinewidth": 0,
             "ticks": ""
            },
            "colorscale": [
             [
              0,
              "#0d0887"
             ],
             [
              0.1111111111111111,
              "#46039f"
             ],
             [
              0.2222222222222222,
              "#7201a8"
             ],
             [
              0.3333333333333333,
              "#9c179e"
             ],
             [
              0.4444444444444444,
              "#bd3786"
             ],
             [
              0.5555555555555556,
              "#d8576b"
             ],
             [
              0.6666666666666666,
              "#ed7953"
             ],
             [
              0.7777777777777778,
              "#fb9f3a"
             ],
             [
              0.8888888888888888,
              "#fdca26"
             ],
             [
              1,
              "#f0f921"
             ]
            ],
            "type": "heatmap"
           }
          ],
          "heatmapgl": [
           {
            "colorbar": {
             "outlinewidth": 0,
             "ticks": ""
            },
            "colorscale": [
             [
              0,
              "#0d0887"
             ],
             [
              0.1111111111111111,
              "#46039f"
             ],
             [
              0.2222222222222222,
              "#7201a8"
             ],
             [
              0.3333333333333333,
              "#9c179e"
             ],
             [
              0.4444444444444444,
              "#bd3786"
             ],
             [
              0.5555555555555556,
              "#d8576b"
             ],
             [
              0.6666666666666666,
              "#ed7953"
             ],
             [
              0.7777777777777778,
              "#fb9f3a"
             ],
             [
              0.8888888888888888,
              "#fdca26"
             ],
             [
              1,
              "#f0f921"
             ]
            ],
            "type": "heatmapgl"
           }
          ],
          "histogram": [
           {
            "marker": {
             "pattern": {
              "fillmode": "overlay",
              "size": 10,
              "solidity": 0.2
             }
            },
            "type": "histogram"
           }
          ],
          "histogram2d": [
           {
            "colorbar": {
             "outlinewidth": 0,
             "ticks": ""
            },
            "colorscale": [
             [
              0,
              "#0d0887"
             ],
             [
              0.1111111111111111,
              "#46039f"
             ],
             [
              0.2222222222222222,
              "#7201a8"
             ],
             [
              0.3333333333333333,
              "#9c179e"
             ],
             [
              0.4444444444444444,
              "#bd3786"
             ],
             [
              0.5555555555555556,
              "#d8576b"
             ],
             [
              0.6666666666666666,
              "#ed7953"
             ],
             [
              0.7777777777777778,
              "#fb9f3a"
             ],
             [
              0.8888888888888888,
              "#fdca26"
             ],
             [
              1,
              "#f0f921"
             ]
            ],
            "type": "histogram2d"
           }
          ],
          "histogram2dcontour": [
           {
            "colorbar": {
             "outlinewidth": 0,
             "ticks": ""
            },
            "colorscale": [
             [
              0,
              "#0d0887"
             ],
             [
              0.1111111111111111,
              "#46039f"
             ],
             [
              0.2222222222222222,
              "#7201a8"
             ],
             [
              0.3333333333333333,
              "#9c179e"
             ],
             [
              0.4444444444444444,
              "#bd3786"
             ],
             [
              0.5555555555555556,
              "#d8576b"
             ],
             [
              0.6666666666666666,
              "#ed7953"
             ],
             [
              0.7777777777777778,
              "#fb9f3a"
             ],
             [
              0.8888888888888888,
              "#fdca26"
             ],
             [
              1,
              "#f0f921"
             ]
            ],
            "type": "histogram2dcontour"
           }
          ],
          "mesh3d": [
           {
            "colorbar": {
             "outlinewidth": 0,
             "ticks": ""
            },
            "type": "mesh3d"
           }
          ],
          "parcoords": [
           {
            "line": {
             "colorbar": {
              "outlinewidth": 0,
              "ticks": ""
             }
            },
            "type": "parcoords"
           }
          ],
          "pie": [
           {
            "automargin": true,
            "type": "pie"
           }
          ],
          "scatter": [
           {
            "fillpattern": {
             "fillmode": "overlay",
             "size": 10,
             "solidity": 0.2
            },
            "type": "scatter"
           }
          ],
          "scatter3d": [
           {
            "line": {
             "colorbar": {
              "outlinewidth": 0,
              "ticks": ""
             }
            },
            "marker": {
             "colorbar": {
              "outlinewidth": 0,
              "ticks": ""
             }
            },
            "type": "scatter3d"
           }
          ],
          "scattercarpet": [
           {
            "marker": {
             "colorbar": {
              "outlinewidth": 0,
              "ticks": ""
             }
            },
            "type": "scattercarpet"
           }
          ],
          "scattergeo": [
           {
            "marker": {
             "colorbar": {
              "outlinewidth": 0,
              "ticks": ""
             }
            },
            "type": "scattergeo"
           }
          ],
          "scattergl": [
           {
            "marker": {
             "colorbar": {
              "outlinewidth": 0,
              "ticks": ""
             }
            },
            "type": "scattergl"
           }
          ],
          "scattermapbox": [
           {
            "marker": {
             "colorbar": {
              "outlinewidth": 0,
              "ticks": ""
             }
            },
            "type": "scattermapbox"
           }
          ],
          "scatterpolar": [
           {
            "marker": {
             "colorbar": {
              "outlinewidth": 0,
              "ticks": ""
             }
            },
            "type": "scatterpolar"
           }
          ],
          "scatterpolargl": [
           {
            "marker": {
             "colorbar": {
              "outlinewidth": 0,
              "ticks": ""
             }
            },
            "type": "scatterpolargl"
           }
          ],
          "scatterternary": [
           {
            "marker": {
             "colorbar": {
              "outlinewidth": 0,
              "ticks": ""
             }
            },
            "type": "scatterternary"
           }
          ],
          "surface": [
           {
            "colorbar": {
             "outlinewidth": 0,
             "ticks": ""
            },
            "colorscale": [
             [
              0,
              "#0d0887"
             ],
             [
              0.1111111111111111,
              "#46039f"
             ],
             [
              0.2222222222222222,
              "#7201a8"
             ],
             [
              0.3333333333333333,
              "#9c179e"
             ],
             [
              0.4444444444444444,
              "#bd3786"
             ],
             [
              0.5555555555555556,
              "#d8576b"
             ],
             [
              0.6666666666666666,
              "#ed7953"
             ],
             [
              0.7777777777777778,
              "#fb9f3a"
             ],
             [
              0.8888888888888888,
              "#fdca26"
             ],
             [
              1,
              "#f0f921"
             ]
            ],
            "type": "surface"
           }
          ],
          "table": [
           {
            "cells": {
             "fill": {
              "color": "#EBF0F8"
             },
             "line": {
              "color": "white"
             }
            },
            "header": {
             "fill": {
              "color": "#C8D4E3"
             },
             "line": {
              "color": "white"
             }
            },
            "type": "table"
           }
          ]
         },
         "layout": {
          "annotationdefaults": {
           "arrowcolor": "#2a3f5f",
           "arrowhead": 0,
           "arrowwidth": 1
          },
          "autotypenumbers": "strict",
          "coloraxis": {
           "colorbar": {
            "outlinewidth": 0,
            "ticks": ""
           }
          },
          "colorscale": {
           "diverging": [
            [
             0,
             "#8e0152"
            ],
            [
             0.1,
             "#c51b7d"
            ],
            [
             0.2,
             "#de77ae"
            ],
            [
             0.3,
             "#f1b6da"
            ],
            [
             0.4,
             "#fde0ef"
            ],
            [
             0.5,
             "#f7f7f7"
            ],
            [
             0.6,
             "#e6f5d0"
            ],
            [
             0.7,
             "#b8e186"
            ],
            [
             0.8,
             "#7fbc41"
            ],
            [
             0.9,
             "#4d9221"
            ],
            [
             1,
             "#276419"
            ]
           ],
           "sequential": [
            [
             0,
             "#0d0887"
            ],
            [
             0.1111111111111111,
             "#46039f"
            ],
            [
             0.2222222222222222,
             "#7201a8"
            ],
            [
             0.3333333333333333,
             "#9c179e"
            ],
            [
             0.4444444444444444,
             "#bd3786"
            ],
            [
             0.5555555555555556,
             "#d8576b"
            ],
            [
             0.6666666666666666,
             "#ed7953"
            ],
            [
             0.7777777777777778,
             "#fb9f3a"
            ],
            [
             0.8888888888888888,
             "#fdca26"
            ],
            [
             1,
             "#f0f921"
            ]
           ],
           "sequentialminus": [
            [
             0,
             "#0d0887"
            ],
            [
             0.1111111111111111,
             "#46039f"
            ],
            [
             0.2222222222222222,
             "#7201a8"
            ],
            [
             0.3333333333333333,
             "#9c179e"
            ],
            [
             0.4444444444444444,
             "#bd3786"
            ],
            [
             0.5555555555555556,
             "#d8576b"
            ],
            [
             0.6666666666666666,
             "#ed7953"
            ],
            [
             0.7777777777777778,
             "#fb9f3a"
            ],
            [
             0.8888888888888888,
             "#fdca26"
            ],
            [
             1,
             "#f0f921"
            ]
           ]
          },
          "colorway": [
           "#636efa",
           "#EF553B",
           "#00cc96",
           "#ab63fa",
           "#FFA15A",
           "#19d3f3",
           "#FF6692",
           "#B6E880",
           "#FF97FF",
           "#FECB52"
          ],
          "font": {
           "color": "#2a3f5f"
          },
          "geo": {
           "bgcolor": "white",
           "lakecolor": "white",
           "landcolor": "#E5ECF6",
           "showlakes": true,
           "showland": true,
           "subunitcolor": "white"
          },
          "hoverlabel": {
           "align": "left"
          },
          "hovermode": "closest",
          "mapbox": {
           "style": "light"
          },
          "paper_bgcolor": "white",
          "plot_bgcolor": "#E5ECF6",
          "polar": {
           "angularaxis": {
            "gridcolor": "white",
            "linecolor": "white",
            "ticks": ""
           },
           "bgcolor": "#E5ECF6",
           "radialaxis": {
            "gridcolor": "white",
            "linecolor": "white",
            "ticks": ""
           }
          },
          "scene": {
           "xaxis": {
            "backgroundcolor": "#E5ECF6",
            "gridcolor": "white",
            "gridwidth": 2,
            "linecolor": "white",
            "showbackground": true,
            "ticks": "",
            "zerolinecolor": "white"
           },
           "yaxis": {
            "backgroundcolor": "#E5ECF6",
            "gridcolor": "white",
            "gridwidth": 2,
            "linecolor": "white",
            "showbackground": true,
            "ticks": "",
            "zerolinecolor": "white"
           },
           "zaxis": {
            "backgroundcolor": "#E5ECF6",
            "gridcolor": "white",
            "gridwidth": 2,
            "linecolor": "white",
            "showbackground": true,
            "ticks": "",
            "zerolinecolor": "white"
           }
          },
          "shapedefaults": {
           "line": {
            "color": "#2a3f5f"
           }
          },
          "ternary": {
           "aaxis": {
            "gridcolor": "white",
            "linecolor": "white",
            "ticks": ""
           },
           "baxis": {
            "gridcolor": "white",
            "linecolor": "white",
            "ticks": ""
           },
           "bgcolor": "#E5ECF6",
           "caxis": {
            "gridcolor": "white",
            "linecolor": "white",
            "ticks": ""
           }
          },
          "title": {
           "x": 0.05
          },
          "xaxis": {
           "automargin": true,
           "gridcolor": "white",
           "linecolor": "white",
           "ticks": "",
           "title": {
            "standoff": 15
           },
           "zerolinecolor": "white",
           "zerolinewidth": 2
          },
          "yaxis": {
           "automargin": true,
           "gridcolor": "white",
           "linecolor": "white",
           "ticks": "",
           "title": {
            "standoff": 15
           },
           "zerolinecolor": "white",
           "zerolinewidth": 2
          }
         }
        },
        "title": {
         "text": "Density of People Ages 75+ in Different Arrondissements"
        },
        "xaxis": {
         "anchor": "y",
         "domain": [
          0,
          1
         ],
         "tickangle": -45,
         "title": {
          "text": "Area Codes"
         }
        },
        "yaxis": {
         "anchor": "x",
         "domain": [
          0,
          1
         ],
         "title": {
          "text": "Density (%)"
         }
        }
       }
      },
      "text/html": [
       "<div>                            <div id=\"2908bb5d-6ba8-4c41-8b00-0716c303a629\" class=\"plotly-graph-div\" style=\"height:525px; width:100%;\"></div>            <script type=\"text/javascript\">                require([\"plotly\"], function(Plotly) {                    window.PLOTLYENV=window.PLOTLYENV || {};                                    if (document.getElementById(\"2908bb5d-6ba8-4c41-8b00-0716c303a629\")) {                    Plotly.newPlot(                        \"2908bb5d-6ba8-4c41-8b00-0716c303a629\",                        [{\"alignmentgroup\":\"True\",\"hovertemplate\":\"Region=Calvados<br>Arrondissement Code=%{x}<br>Density (%)=%{y}<extra></extra>\",\"legendgroup\":\"Calvados\",\"marker\":{\"color\":\"#636efa\",\"pattern\":{\"shape\":\"\"}},\"name\":\"Calvados\",\"offsetgroup\":\"Calvados\",\"orientation\":\"v\",\"showlegend\":true,\"textposition\":\"auto\",\"x\":[\"141\",\"142\",\"143\",\"144\"],\"xaxis\":\"x\",\"y\":[8.544585859731233,8.058410592048913,8.466755514851098,7.986639100401407],\"yaxis\":\"y\",\"type\":\"bar\"},{\"alignmentgroup\":\"True\",\"hovertemplate\":\"Region=Eure<br>Arrondissement Code=%{x}<br>Density (%)=%{y}<extra></extra>\",\"legendgroup\":\"Eure\",\"marker\":{\"color\":\"#EF553B\",\"pattern\":{\"shape\":\"\"}},\"name\":\"Eure\",\"offsetgroup\":\"Eure\",\"orientation\":\"v\",\"showlegend\":true,\"textposition\":\"auto\",\"x\":[\"271\",\"272\",\"273\"],\"xaxis\":\"x\",\"y\":[7.466264900566568,7.090604955502496,7.495853061947592],\"yaxis\":\"y\",\"type\":\"bar\"},{\"alignmentgroup\":\"True\",\"hovertemplate\":\"Region=La Manche<br>Arrondissement Code=%{x}<br>Density (%)=%{y}<extra></extra>\",\"legendgroup\":\"La Manche\",\"marker\":{\"color\":\"#00cc96\",\"pattern\":{\"shape\":\"\"}},\"name\":\"La Manche\",\"offsetgroup\":\"La Manche\",\"orientation\":\"v\",\"showlegend\":true,\"textposition\":\"auto\",\"x\":[\"501\",\"502\",\"503\",\"504\"],\"xaxis\":\"x\",\"y\":[10.713912622734526,10.418462767937672,10.70962101466029,10.78938816853531],\"yaxis\":\"y\",\"type\":\"bar\"},{\"alignmentgroup\":\"True\",\"hovertemplate\":\"Region=Orne<br>Arrondissement Code=%{x}<br>Density (%)=%{y}<extra></extra>\",\"legendgroup\":\"Orne\",\"marker\":{\"color\":\"#ab63fa\",\"pattern\":{\"shape\":\"\"}},\"name\":\"Orne\",\"offsetgroup\":\"Orne\",\"orientation\":\"v\",\"showlegend\":true,\"textposition\":\"auto\",\"x\":[\"611\",\"612\",\"613\"],\"xaxis\":\"x\",\"y\":[10.517255282204918,10.207307323515296,11.165851074434755],\"yaxis\":\"y\",\"type\":\"bar\"},{\"alignmentgroup\":\"True\",\"hovertemplate\":\"Region=Seine-Maritime<br>Arrondissement Code=%{x}<br>Density (%)=%{y}<extra></extra>\",\"legendgroup\":\"Seine-Maritime\",\"marker\":{\"color\":\"#FFA15A\",\"pattern\":{\"shape\":\"\"}},\"name\":\"Seine-Maritime\",\"offsetgroup\":\"Seine-Maritime\",\"orientation\":\"v\",\"showlegend\":true,\"textposition\":\"auto\",\"x\":[\"761\",\"762\",\"763\"],\"xaxis\":\"x\",\"y\":[7.367438328091326,7.994569124158536,8.138318574371326],\"yaxis\":\"y\",\"type\":\"bar\"}],                        {\"template\":{\"data\":{\"histogram2dcontour\":[{\"type\":\"histogram2dcontour\",\"colorbar\":{\"outlinewidth\":0,\"ticks\":\"\"},\"colorscale\":[[0.0,\"#0d0887\"],[0.1111111111111111,\"#46039f\"],[0.2222222222222222,\"#7201a8\"],[0.3333333333333333,\"#9c179e\"],[0.4444444444444444,\"#bd3786\"],[0.5555555555555556,\"#d8576b\"],[0.6666666666666666,\"#ed7953\"],[0.7777777777777778,\"#fb9f3a\"],[0.8888888888888888,\"#fdca26\"],[1.0,\"#f0f921\"]]}],\"choropleth\":[{\"type\":\"choropleth\",\"colorbar\":{\"outlinewidth\":0,\"ticks\":\"\"}}],\"histogram2d\":[{\"type\":\"histogram2d\",\"colorbar\":{\"outlinewidth\":0,\"ticks\":\"\"},\"colorscale\":[[0.0,\"#0d0887\"],[0.1111111111111111,\"#46039f\"],[0.2222222222222222,\"#7201a8\"],[0.3333333333333333,\"#9c179e\"],[0.4444444444444444,\"#bd3786\"],[0.5555555555555556,\"#d8576b\"],[0.6666666666666666,\"#ed7953\"],[0.7777777777777778,\"#fb9f3a\"],[0.8888888888888888,\"#fdca26\"],[1.0,\"#f0f921\"]]}],\"heatmap\":[{\"type\":\"heatmap\",\"colorbar\":{\"outlinewidth\":0,\"ticks\":\"\"},\"colorscale\":[[0.0,\"#0d0887\"],[0.1111111111111111,\"#46039f\"],[0.2222222222222222,\"#7201a8\"],[0.3333333333333333,\"#9c179e\"],[0.4444444444444444,\"#bd3786\"],[0.5555555555555556,\"#d8576b\"],[0.6666666666666666,\"#ed7953\"],[0.7777777777777778,\"#fb9f3a\"],[0.8888888888888888,\"#fdca26\"],[1.0,\"#f0f921\"]]}],\"heatmapgl\":[{\"type\":\"heatmapgl\",\"colorbar\":{\"outlinewidth\":0,\"ticks\":\"\"},\"colorscale\":[[0.0,\"#0d0887\"],[0.1111111111111111,\"#46039f\"],[0.2222222222222222,\"#7201a8\"],[0.3333333333333333,\"#9c179e\"],[0.4444444444444444,\"#bd3786\"],[0.5555555555555556,\"#d8576b\"],[0.6666666666666666,\"#ed7953\"],[0.7777777777777778,\"#fb9f3a\"],[0.8888888888888888,\"#fdca26\"],[1.0,\"#f0f921\"]]}],\"contourcarpet\":[{\"type\":\"contourcarpet\",\"colorbar\":{\"outlinewidth\":0,\"ticks\":\"\"}}],\"contour\":[{\"type\":\"contour\",\"colorbar\":{\"outlinewidth\":0,\"ticks\":\"\"},\"colorscale\":[[0.0,\"#0d0887\"],[0.1111111111111111,\"#46039f\"],[0.2222222222222222,\"#7201a8\"],[0.3333333333333333,\"#9c179e\"],[0.4444444444444444,\"#bd3786\"],[0.5555555555555556,\"#d8576b\"],[0.6666666666666666,\"#ed7953\"],[0.7777777777777778,\"#fb9f3a\"],[0.8888888888888888,\"#fdca26\"],[1.0,\"#f0f921\"]]}],\"surface\":[{\"type\":\"surface\",\"colorbar\":{\"outlinewidth\":0,\"ticks\":\"\"},\"colorscale\":[[0.0,\"#0d0887\"],[0.1111111111111111,\"#46039f\"],[0.2222222222222222,\"#7201a8\"],[0.3333333333333333,\"#9c179e\"],[0.4444444444444444,\"#bd3786\"],[0.5555555555555556,\"#d8576b\"],[0.6666666666666666,\"#ed7953\"],[0.7777777777777778,\"#fb9f3a\"],[0.8888888888888888,\"#fdca26\"],[1.0,\"#f0f921\"]]}],\"mesh3d\":[{\"type\":\"mesh3d\",\"colorbar\":{\"outlinewidth\":0,\"ticks\":\"\"}}],\"scatter\":[{\"fillpattern\":{\"fillmode\":\"overlay\",\"size\":10,\"solidity\":0.2},\"type\":\"scatter\"}],\"parcoords\":[{\"type\":\"parcoords\",\"line\":{\"colorbar\":{\"outlinewidth\":0,\"ticks\":\"\"}}}],\"scatterpolargl\":[{\"type\":\"scatterpolargl\",\"marker\":{\"colorbar\":{\"outlinewidth\":0,\"ticks\":\"\"}}}],\"bar\":[{\"error_x\":{\"color\":\"#2a3f5f\"},\"error_y\":{\"color\":\"#2a3f5f\"},\"marker\":{\"line\":{\"color\":\"#E5ECF6\",\"width\":0.5},\"pattern\":{\"fillmode\":\"overlay\",\"size\":10,\"solidity\":0.2}},\"type\":\"bar\"}],\"scattergeo\":[{\"type\":\"scattergeo\",\"marker\":{\"colorbar\":{\"outlinewidth\":0,\"ticks\":\"\"}}}],\"scatterpolar\":[{\"type\":\"scatterpolar\",\"marker\":{\"colorbar\":{\"outlinewidth\":0,\"ticks\":\"\"}}}],\"histogram\":[{\"marker\":{\"pattern\":{\"fillmode\":\"overlay\",\"size\":10,\"solidity\":0.2}},\"type\":\"histogram\"}],\"scattergl\":[{\"type\":\"scattergl\",\"marker\":{\"colorbar\":{\"outlinewidth\":0,\"ticks\":\"\"}}}],\"scatter3d\":[{\"type\":\"scatter3d\",\"line\":{\"colorbar\":{\"outlinewidth\":0,\"ticks\":\"\"}},\"marker\":{\"colorbar\":{\"outlinewidth\":0,\"ticks\":\"\"}}}],\"scattermapbox\":[{\"type\":\"scattermapbox\",\"marker\":{\"colorbar\":{\"outlinewidth\":0,\"ticks\":\"\"}}}],\"scatterternary\":[{\"type\":\"scatterternary\",\"marker\":{\"colorbar\":{\"outlinewidth\":0,\"ticks\":\"\"}}}],\"scattercarpet\":[{\"type\":\"scattercarpet\",\"marker\":{\"colorbar\":{\"outlinewidth\":0,\"ticks\":\"\"}}}],\"carpet\":[{\"aaxis\":{\"endlinecolor\":\"#2a3f5f\",\"gridcolor\":\"white\",\"linecolor\":\"white\",\"minorgridcolor\":\"white\",\"startlinecolor\":\"#2a3f5f\"},\"baxis\":{\"endlinecolor\":\"#2a3f5f\",\"gridcolor\":\"white\",\"linecolor\":\"white\",\"minorgridcolor\":\"white\",\"startlinecolor\":\"#2a3f5f\"},\"type\":\"carpet\"}],\"table\":[{\"cells\":{\"fill\":{\"color\":\"#EBF0F8\"},\"line\":{\"color\":\"white\"}},\"header\":{\"fill\":{\"color\":\"#C8D4E3\"},\"line\":{\"color\":\"white\"}},\"type\":\"table\"}],\"barpolar\":[{\"marker\":{\"line\":{\"color\":\"#E5ECF6\",\"width\":0.5},\"pattern\":{\"fillmode\":\"overlay\",\"size\":10,\"solidity\":0.2}},\"type\":\"barpolar\"}],\"pie\":[{\"automargin\":true,\"type\":\"pie\"}]},\"layout\":{\"autotypenumbers\":\"strict\",\"colorway\":[\"#636efa\",\"#EF553B\",\"#00cc96\",\"#ab63fa\",\"#FFA15A\",\"#19d3f3\",\"#FF6692\",\"#B6E880\",\"#FF97FF\",\"#FECB52\"],\"font\":{\"color\":\"#2a3f5f\"},\"hovermode\":\"closest\",\"hoverlabel\":{\"align\":\"left\"},\"paper_bgcolor\":\"white\",\"plot_bgcolor\":\"#E5ECF6\",\"polar\":{\"bgcolor\":\"#E5ECF6\",\"angularaxis\":{\"gridcolor\":\"white\",\"linecolor\":\"white\",\"ticks\":\"\"},\"radialaxis\":{\"gridcolor\":\"white\",\"linecolor\":\"white\",\"ticks\":\"\"}},\"ternary\":{\"bgcolor\":\"#E5ECF6\",\"aaxis\":{\"gridcolor\":\"white\",\"linecolor\":\"white\",\"ticks\":\"\"},\"baxis\":{\"gridcolor\":\"white\",\"linecolor\":\"white\",\"ticks\":\"\"},\"caxis\":{\"gridcolor\":\"white\",\"linecolor\":\"white\",\"ticks\":\"\"}},\"coloraxis\":{\"colorbar\":{\"outlinewidth\":0,\"ticks\":\"\"}},\"colorscale\":{\"sequential\":[[0.0,\"#0d0887\"],[0.1111111111111111,\"#46039f\"],[0.2222222222222222,\"#7201a8\"],[0.3333333333333333,\"#9c179e\"],[0.4444444444444444,\"#bd3786\"],[0.5555555555555556,\"#d8576b\"],[0.6666666666666666,\"#ed7953\"],[0.7777777777777778,\"#fb9f3a\"],[0.8888888888888888,\"#fdca26\"],[1.0,\"#f0f921\"]],\"sequentialminus\":[[0.0,\"#0d0887\"],[0.1111111111111111,\"#46039f\"],[0.2222222222222222,\"#7201a8\"],[0.3333333333333333,\"#9c179e\"],[0.4444444444444444,\"#bd3786\"],[0.5555555555555556,\"#d8576b\"],[0.6666666666666666,\"#ed7953\"],[0.7777777777777778,\"#fb9f3a\"],[0.8888888888888888,\"#fdca26\"],[1.0,\"#f0f921\"]],\"diverging\":[[0,\"#8e0152\"],[0.1,\"#c51b7d\"],[0.2,\"#de77ae\"],[0.3,\"#f1b6da\"],[0.4,\"#fde0ef\"],[0.5,\"#f7f7f7\"],[0.6,\"#e6f5d0\"],[0.7,\"#b8e186\"],[0.8,\"#7fbc41\"],[0.9,\"#4d9221\"],[1,\"#276419\"]]},\"xaxis\":{\"gridcolor\":\"white\",\"linecolor\":\"white\",\"ticks\":\"\",\"title\":{\"standoff\":15},\"zerolinecolor\":\"white\",\"automargin\":true,\"zerolinewidth\":2},\"yaxis\":{\"gridcolor\":\"white\",\"linecolor\":\"white\",\"ticks\":\"\",\"title\":{\"standoff\":15},\"zerolinecolor\":\"white\",\"automargin\":true,\"zerolinewidth\":2},\"scene\":{\"xaxis\":{\"backgroundcolor\":\"#E5ECF6\",\"gridcolor\":\"white\",\"linecolor\":\"white\",\"showbackground\":true,\"ticks\":\"\",\"zerolinecolor\":\"white\",\"gridwidth\":2},\"yaxis\":{\"backgroundcolor\":\"#E5ECF6\",\"gridcolor\":\"white\",\"linecolor\":\"white\",\"showbackground\":true,\"ticks\":\"\",\"zerolinecolor\":\"white\",\"gridwidth\":2},\"zaxis\":{\"backgroundcolor\":\"#E5ECF6\",\"gridcolor\":\"white\",\"linecolor\":\"white\",\"showbackground\":true,\"ticks\":\"\",\"zerolinecolor\":\"white\",\"gridwidth\":2}},\"shapedefaults\":{\"line\":{\"color\":\"#2a3f5f\"}},\"annotationdefaults\":{\"arrowcolor\":\"#2a3f5f\",\"arrowhead\":0,\"arrowwidth\":1},\"geo\":{\"bgcolor\":\"white\",\"landcolor\":\"#E5ECF6\",\"subunitcolor\":\"white\",\"showland\":true,\"showlakes\":true,\"lakecolor\":\"white\"},\"title\":{\"x\":0.05},\"mapbox\":{\"style\":\"light\"}}},\"xaxis\":{\"anchor\":\"y\",\"domain\":[0.0,1.0],\"title\":{\"text\":\"Area Codes\"},\"tickangle\":-45},\"yaxis\":{\"anchor\":\"x\",\"domain\":[0.0,1.0],\"title\":{\"text\":\"Density (%)\"}},\"legend\":{\"title\":{\"text\":\"Regions\"},\"tracegroupgap\":0},\"title\":{\"text\":\"Density of People Ages 75+ in Different Arrondissements\"},\"barmode\":\"relative\",\"showlegend\":true},                        {\"responsive\": true}                    ).then(function(){\n",
       "                            \n",
       "var gd = document.getElementById('2908bb5d-6ba8-4c41-8b00-0716c303a629');\n",
       "var x = new MutationObserver(function (mutations, observer) {{\n",
       "        var display = window.getComputedStyle(gd).display;\n",
       "        if (!display || display === 'none') {{\n",
       "            console.log([gd, 'removed!']);\n",
       "            Plotly.purge(gd);\n",
       "            observer.disconnect();\n",
       "        }}\n",
       "}});\n",
       "\n",
       "// Listen for the removal of the full notebook cells\n",
       "var notebookContainer = gd.closest('#notebook-container');\n",
       "if (notebookContainer) {{\n",
       "    x.observe(notebookContainer, {childList: true});\n",
       "}}\n",
       "\n",
       "// Listen for the clearing of the current output cell\n",
       "var outputEl = gd.closest('.output');\n",
       "if (outputEl) {{\n",
       "    x.observe(outputEl, {childList: true});\n",
       "}}\n",
       "\n",
       "                        })                };                });            </script>        </div>"
      ]
     },
     "metadata": {},
     "output_type": "display_data"
    }
   ],
   "source": [
    "import pandas as pd\n",
    "import plotly.express as px\n",
    "\n",
    "# Define area code groups for arrondissments\n",
    "calvados_area_codes = ['141', '142', '143', '144']\n",
    "eure_area_codes = ['271', '272', '273']\n",
    "la_manche_area_codes = ['501', '502', '503', '504']\n",
    "orne_area_codes = ['611', '612', '613']\n",
    "seine_maritime_area_codes = ['761', '762', '763']\n",
    "\n",
    "selected_age_group='75+'\n",
    "\n",
    "# Function to calculate density for a given DataFrame and area codes\n",
    "def calculate_density(data_df, age_group='75+'):\n",
    "    if age_group == '60+':\n",
    "        columns = ['P20_POP6074', 'P20_POP7589', 'P20_POP90P']\n",
    "    elif age_group == '75+':\n",
    "        columns = ['P20_POP7589', 'P20_POP90P']\n",
    "    elif age_group == '90+':\n",
    "        columns = ['P20_POP90P']\n",
    "    else:\n",
    "        raise ValueError(\"Invalid age group selection\")\n",
    "\n",
    "    return data_df[columns].sum(axis=1) / data_df['P20_POP'] * 100\n",
    "\n",
    "# Mapping area codes to names\n",
    "area_code_names = {\n",
    "    '141': 'Bayeux',\n",
    "    '142': 'Caen',\n",
    "    '143': 'Lisieux',\n",
    "    '144': 'Vire',\n",
    "    '271': 'Les Andelys',\n",
    "    '272': 'Bernay',\n",
    "    '273': 'Evreux',\n",
    "    '501': 'Avranches',\n",
    "    '502': 'Cherbourg',\n",
    "    '503': 'Coutances',\n",
    "    '504': 'Saint-Lô',\n",
    "    '611': 'Alençon',\n",
    "    '612': 'Argentan',\n",
    "    '613': 'Mortagne-au-Perche',\n",
    "    '761': 'Dieppe',\n",
    "    '762': 'Le Havre',\n",
    "    '763': 'Rouen'\n",
    "}\n",
    "\n",
    "# Create a DataFrame for the area codes and their densities\n",
    "data = {\n",
    "    'Area Code': calvados_area_codes + eure_area_codes + la_manche_area_codes + orne_area_codes + seine_maritime_area_codes,\n",
    "    'Region': ['Calvados'] * len(calvados_area_codes) + ['Eure'] * len(eure_area_codes) + ['La Manche'] * len(la_manche_area_codes) + ['Orne'] * len(orne_area_codes) + ['Seine-Maritime'] * len(seine_maritime_area_codes),\n",
    "    'Density (%)': []\n",
    "}\n",
    "\n",
    "# Calculate density for each area code and append to the DataFrame\n",
    "for area_code in data['Area Code']:\n",
    "    area_df = df[df['CODGEO'].astype(str).str.startswith(area_code)]\n",
    "    area_density = calculate_density(area_df, selected_age_group)\n",
    "    data['Density (%)'].append(area_density.mean())\n",
    "\n",
    "# Create a DataFrame from the data dictionary\n",
    "df_density = pd.DataFrame(data)\n",
    "\n",
    "# Plot the density using Plotly Express\n",
    "fig = px.bar(df_density, x='Area Code', y='Density (%)', color='Region', title=f'Density of People Ages {selected_age_group} in Different Arrondissements',\n",
    "             labels={'Area Code': 'Arrondissement Code', 'Density (%)': 'Density (%)'})\n",
    "\n",
    "# Update layout\n",
    "fig.update_layout(\n",
    "    xaxis=dict(tickangle=-45),\n",
    "    xaxis_title='Area Codes',\n",
    "    yaxis_title='Density (%)',\n",
    "    legend_title='Regions',\n",
    "    showlegend=True\n",
    ")\n",
    "\n",
    "# Show the figure\n",
    "fig.show()\n"
   ]
  },
  {
   "cell_type": "code",
   "execution_count": 93,
   "metadata": {},
   "outputs": [
    {
     "name": "stdout",
     "output_type": "stream",
     "text": [
      "Top 1: Communes ['50029', '50030', '50031', '50032', '50033'] with density 19.85%\n",
      "Top 2: Communes ['50027', '50028', '50029', '50030', '50031'] with density 19.55%\n",
      "Top 3: Communes ['5062', '5063', '5064', '5065', '5066'] with density 18.71%\n",
      "Top 4: Communes ['50028', '50029', '50030', '50031', '50032'] with density 18.60%\n",
      "Top 5: Communes ['5064', '5065', '5066', '5068', '5070'] with density 17.95%\n",
      "Top 6: Communes ['6159', '6160', '6161', '6162', '6163'] with density 17.89%\n",
      "Top 7: Communes ['6156', '6157', '6158', '6159', '6160'] with density 17.88%\n",
      "Top 8: Communes ['50030', '50031', '50032', '50033', '50034'] with density 17.12%\n",
      "Top 9: Communes ['50196', '50197', '50198', '50199', '50200'] with density 16.89%\n",
      "Top 10: Communes ['50026', '50027', '50028', '50029', '50030'] with density 16.73%\n"
     ]
    }
   ],
   "source": [
    "import pandas as pd\n",
    "\n",
    "# Sample DataFrame (replace this with your actual data)\n",
    "df = filtered_data_normandy.copy()\n",
    "\n",
    "# Function to calculate density for a given DataFrame and area codes\n",
    "def calculate_density(data_df):\n",
    "    population_columns = ['P20_POP7589', 'P20_POP90P']\n",
    "    \n",
    "    # Check if the total population is zero or missing\n",
    "    if data_df['P20_POP'].sum() == 0:\n",
    "        return 0.0\n",
    "    \n",
    "    # Calculate density only if the total population is non-zero\n",
    "    density = data_df[population_columns].sum(axis=1) / data_df['P20_POP'] * 100\n",
    "    return density.mean()\n",
    "\n",
    "# Function to find top 10 combinations of 5 consecutive communes with the greatest density of old people\n",
    "def top_density_combinations(df):\n",
    "    top_combinations = []\n",
    "    top_densities = []\n",
    "\n",
    "    for i in range(len(df) - 4):\n",
    "        window_df = df.iloc[i:i+5]\n",
    "        total_density = calculate_density(window_df).mean()\n",
    "        combination = window_df['CODGEO'].tolist()\n",
    "\n",
    "        # Insert the combination in sorted order\n",
    "        insert_index = 0\n",
    "        while insert_index < len(top_combinations) and total_density < top_densities[insert_index]:\n",
    "            insert_index += 1\n",
    "\n",
    "        top_combinations.insert(insert_index, combination)\n",
    "        top_densities.insert(insert_index, total_density)\n",
    "\n",
    "        # Keep only the top 10 combinations\n",
    "        top_combinations = top_combinations[:10]\n",
    "        top_densities = top_densities[:10]\n",
    "\n",
    "    return top_combinations, top_densities\n",
    "\n",
    "# Find the top 10 combinations\n",
    "top_combinations, top_densities = top_density_combinations(df)\n",
    "\n",
    "# Print the results\n",
    "for i, (combination, density) in enumerate(zip(top_combinations, top_densities), 1):\n",
    "    print(f\"Top {i}: Communes {combination} with density {density:.2f}%\")\n"
   ]
  },
  {
   "cell_type": "code",
   "execution_count": 108,
   "metadata": {},
   "outputs": [],
   "source": [
    "## the optimization algorithm above needs to be redone\n",
    "## need to calculate based on geographic distance between points\n",
    "df_codes = pd.read_csv('data/code_postal_code_insee_2015public.csv', sep=\";\")"
   ]
  },
  {
   "cell_type": "code",
   "execution_count": 109,
   "metadata": {},
   "outputs": [
    {
     "data": {
      "text/html": [
       "<div>\n",
       "<style scoped>\n",
       "    .dataframe tbody tr th:only-of-type {\n",
       "        vertical-align: middle;\n",
       "    }\n",
       "\n",
       "    .dataframe tbody tr th {\n",
       "        vertical-align: top;\n",
       "    }\n",
       "\n",
       "    .dataframe thead th {\n",
       "        text-align: right;\n",
       "    }\n",
       "</style>\n",
       "<table border=\"1\" class=\"dataframe\">\n",
       "  <thead>\n",
       "    <tr style=\"text-align: right;\">\n",
       "      <th></th>\n",
       "      <th>Geo Point</th>\n",
       "      <th>Geo Shape</th>\n",
       "      <th>ID_GEOFLA</th>\n",
       "      <th>CODE_COM</th>\n",
       "      <th>INSEE_COM</th>\n",
       "      <th>NOM_COM</th>\n",
       "      <th>STATUT</th>\n",
       "      <th>X_CHF_LIEU</th>\n",
       "      <th>Y_CHF_LIEU</th>\n",
       "      <th>X_CENTROID</th>\n",
       "      <th>...</th>\n",
       "      <th>CODE_ARR</th>\n",
       "      <th>CODE_DEPT</th>\n",
       "      <th>NOM_DEPT</th>\n",
       "      <th>CODE_REG</th>\n",
       "      <th>NOM_REG</th>\n",
       "      <th>Nom_commune</th>\n",
       "      <th>Code_postal</th>\n",
       "      <th>Ligne_5</th>\n",
       "      <th>Libellé_d_acheminement</th>\n",
       "      <th>coordonnees_gps</th>\n",
       "    </tr>\n",
       "  </thead>\n",
       "  <tbody>\n",
       "    <tr>\n",
       "      <th>0</th>\n",
       "      <td>47.01437195152717, 0.3157041445234718</td>\n",
       "      <td>{\"coordinates\": [[[0.308170023146216, 46.99992...</td>\n",
       "      <td>COMMUNE00000000000007635</td>\n",
       "      <td>196</td>\n",
       "      <td>37196</td>\n",
       "      <td>RICHELIEU</td>\n",
       "      <td>Commune simple</td>\n",
       "      <td>496727</td>\n",
       "      <td>6660564</td>\n",
       "      <td>496008</td>\n",
       "      <td>...</td>\n",
       "      <td>1.0</td>\n",
       "      <td>37</td>\n",
       "      <td>INDRE-ET-LOIRE</td>\n",
       "      <td>24</td>\n",
       "      <td>CENTRE-VAL DE LOIRE</td>\n",
       "      <td>RICHELIEU</td>\n",
       "      <td>37120.0</td>\n",
       "      <td>NaN</td>\n",
       "      <td>RICHELIEU</td>\n",
       "      <td>47.014204963, 0.315762618</td>\n",
       "    </tr>\n",
       "    <tr>\n",
       "      <th>1</th>\n",
       "      <td>45.70528766721012, -0.7948440956985009</td>\n",
       "      <td>{\"coordinates\": [[[-0.775148681528635, 45.6928...</td>\n",
       "      <td>COMMUNE00000000000007656</td>\n",
       "      <td>278</td>\n",
       "      <td>17278</td>\n",
       "      <td>PISANY</td>\n",
       "      <td>Commune simple</td>\n",
       "      <td>405884</td>\n",
       "      <td>6518380</td>\n",
       "      <td>404830</td>\n",
       "      <td>...</td>\n",
       "      <td>4.0</td>\n",
       "      <td>17</td>\n",
       "      <td>CHARENTE-MARITIME</td>\n",
       "      <td>75</td>\n",
       "      <td>AQUITAINE-LIMOUSIN-POITOU-CHARENTES</td>\n",
       "      <td>PISANY</td>\n",
       "      <td>17600.0</td>\n",
       "      <td>NaN</td>\n",
       "      <td>PISANY</td>\n",
       "      <td>45.705135232, -0.7947836140000001</td>\n",
       "    </tr>\n",
       "    <tr>\n",
       "      <th>2</th>\n",
       "      <td>45.172604816927425, 5.21545397586177</td>\n",
       "      <td>{\"coordinates\": [[[5.225640565558654, 45.14621...</td>\n",
       "      <td>COMMUNE00000000000007839</td>\n",
       "      <td>359</td>\n",
       "      <td>38359</td>\n",
       "      <td>SAINT-ANTOINE-L'ABBAYE</td>\n",
       "      <td>Commune simple</td>\n",
       "      <td>874094</td>\n",
       "      <td>6455291</td>\n",
       "      <td>874041</td>\n",
       "      <td>...</td>\n",
       "      <td>1.0</td>\n",
       "      <td>38</td>\n",
       "      <td>ISERE</td>\n",
       "      <td>84</td>\n",
       "      <td>AUVERGNE-RHONE-ALPES</td>\n",
       "      <td>ST ANTOINE L ABBAYE</td>\n",
       "      <td>38160.0</td>\n",
       "      <td>NaN</td>\n",
       "      <td>ST ANTOINE L ABBAYE</td>\n",
       "      <td>45.184624049, 5.212445683</td>\n",
       "    </tr>\n",
       "    <tr>\n",
       "      <th>3</th>\n",
       "      <td>48.89029057636954, 6.362501677178978</td>\n",
       "      <td>{\"coordinates\": [[[6.355297806937861, 48.87526...</td>\n",
       "      <td>COMMUNE00000000000024101</td>\n",
       "      <td>559</td>\n",
       "      <td>57559</td>\n",
       "      <td>PUZIEUX</td>\n",
       "      <td>Commune simple</td>\n",
       "      <td>946921</td>\n",
       "      <td>6871102</td>\n",
       "      <td>946511</td>\n",
       "      <td>...</td>\n",
       "      <td>2.0</td>\n",
       "      <td>57</td>\n",
       "      <td>MOSELLE</td>\n",
       "      <td>44</td>\n",
       "      <td>ALSACE-CHAMPAGNE-ARDENNE-LORRAINE</td>\n",
       "      <td>PUZIEUX</td>\n",
       "      <td>57590.0</td>\n",
       "      <td>NaN</td>\n",
       "      <td>PUZIEUX</td>\n",
       "      <td>48.8904713, 6.362597363</td>\n",
       "    </tr>\n",
       "    <tr>\n",
       "      <th>4</th>\n",
       "      <td>42.57697453656143, 2.2215799461228958</td>\n",
       "      <td>{\"coordinates\": [[[2.188124670352984, 42.58754...</td>\n",
       "      <td>COMMUNE00000000000007703</td>\n",
       "      <td>128</td>\n",
       "      <td>66128</td>\n",
       "      <td>OREILLA</td>\n",
       "      <td>Commune simple</td>\n",
       "      <td>638645</td>\n",
       "      <td>6162454</td>\n",
       "      <td>636412</td>\n",
       "      <td>...</td>\n",
       "      <td>3.0</td>\n",
       "      <td>66</td>\n",
       "      <td>PYRENEES-ORIENTALES</td>\n",
       "      <td>76</td>\n",
       "      <td>LANGUEDOC-ROUSSILLON-MIDI-PYRENEES</td>\n",
       "      <td>OREILLA</td>\n",
       "      <td>66360.0</td>\n",
       "      <td>NaN</td>\n",
       "      <td>OREILLA</td>\n",
       "      <td>42.576225276, 2.2224258470000002</td>\n",
       "    </tr>\n",
       "  </tbody>\n",
       "</table>\n",
       "<p>5 rows × 25 columns</p>\n",
       "</div>"
      ],
      "text/plain": [
       "                                Geo Point  \\\n",
       "0   47.01437195152717, 0.3157041445234718   \n",
       "1  45.70528766721012, -0.7948440956985009   \n",
       "2    45.172604816927425, 5.21545397586177   \n",
       "3    48.89029057636954, 6.362501677178978   \n",
       "4   42.57697453656143, 2.2215799461228958   \n",
       "\n",
       "                                           Geo Shape  \\\n",
       "0  {\"coordinates\": [[[0.308170023146216, 46.99992...   \n",
       "1  {\"coordinates\": [[[-0.775148681528635, 45.6928...   \n",
       "2  {\"coordinates\": [[[5.225640565558654, 45.14621...   \n",
       "3  {\"coordinates\": [[[6.355297806937861, 48.87526...   \n",
       "4  {\"coordinates\": [[[2.188124670352984, 42.58754...   \n",
       "\n",
       "                  ID_GEOFLA  CODE_COM INSEE_COM                 NOM_COM  \\\n",
       "0  COMMUNE00000000000007635       196     37196               RICHELIEU   \n",
       "1  COMMUNE00000000000007656       278     17278                  PISANY   \n",
       "2  COMMUNE00000000000007839       359     38359  SAINT-ANTOINE-L'ABBAYE   \n",
       "3  COMMUNE00000000000024101       559     57559                 PUZIEUX   \n",
       "4  COMMUNE00000000000007703       128     66128                 OREILLA   \n",
       "\n",
       "           STATUT  X_CHF_LIEU  Y_CHF_LIEU  X_CENTROID  ...  CODE_ARR  \\\n",
       "0  Commune simple      496727     6660564      496008  ...       1.0   \n",
       "1  Commune simple      405884     6518380      404830  ...       4.0   \n",
       "2  Commune simple      874094     6455291      874041  ...       1.0   \n",
       "3  Commune simple      946921     6871102      946511  ...       2.0   \n",
       "4  Commune simple      638645     6162454      636412  ...       3.0   \n",
       "\n",
       "   CODE_DEPT             NOM_DEPT  CODE_REG  \\\n",
       "0         37       INDRE-ET-LOIRE        24   \n",
       "1         17    CHARENTE-MARITIME        75   \n",
       "2         38                ISERE        84   \n",
       "3         57              MOSELLE        44   \n",
       "4         66  PYRENEES-ORIENTALES        76   \n",
       "\n",
       "                               NOM_REG          Nom_commune Code_postal  \\\n",
       "0                  CENTRE-VAL DE LOIRE            RICHELIEU     37120.0   \n",
       "1  AQUITAINE-LIMOUSIN-POITOU-CHARENTES               PISANY     17600.0   \n",
       "2                 AUVERGNE-RHONE-ALPES  ST ANTOINE L ABBAYE     38160.0   \n",
       "3    ALSACE-CHAMPAGNE-ARDENNE-LORRAINE              PUZIEUX     57590.0   \n",
       "4   LANGUEDOC-ROUSSILLON-MIDI-PYRENEES              OREILLA     66360.0   \n",
       "\n",
       "  Ligne_5  Libellé_d_acheminement                    coordonnees_gps  \n",
       "0     NaN               RICHELIEU          47.014204963, 0.315762618  \n",
       "1     NaN                  PISANY  45.705135232, -0.7947836140000001  \n",
       "2     NaN     ST ANTOINE L ABBAYE          45.184624049, 5.212445683  \n",
       "3     NaN                 PUZIEUX            48.8904713, 6.362597363  \n",
       "4     NaN                 OREILLA   42.576225276, 2.2224258470000002  \n",
       "\n",
       "[5 rows x 25 columns]"
      ]
     },
     "execution_count": 109,
     "metadata": {},
     "output_type": "execute_result"
    }
   ],
   "source": [
    "df_codes.head()"
   ]
  },
  {
   "cell_type": "code",
   "execution_count": 94,
   "metadata": {},
   "outputs": [
    {
     "data": {
      "text/plain": [
       "([['50029', '50030', '50031', '50032', '50033'],\n",
       "  ['50027', '50028', '50029', '50030', '50031'],\n",
       "  ['5062', '5063', '5064', '5065', '5066'],\n",
       "  ['50028', '50029', '50030', '50031', '50032'],\n",
       "  ['5064', '5065', '5066', '5068', '5070'],\n",
       "  ['6159', '6160', '6161', '6162', '6163'],\n",
       "  ['6156', '6157', '6158', '6159', '6160'],\n",
       "  ['50030', '50031', '50032', '50033', '50034'],\n",
       "  ['50196', '50197', '50198', '50199', '50200'],\n",
       "  ['50026', '50027', '50028', '50029', '50030']],\n",
       " [19.851270369092013,\n",
       "  19.54704024763838,\n",
       "  18.709109677628824,\n",
       "  18.603734463713245,\n",
       "  17.95150418899967,\n",
       "  17.89176975139147,\n",
       "  17.877210362791118,\n",
       "  17.12309273427205,\n",
       "  16.89319666534732,\n",
       "  16.726017844354477])"
      ]
     },
     "execution_count": 94,
     "metadata": {},
     "output_type": "execute_result"
    }
   ],
   "source": [
    "top_combinations, top_densities"
   ]
  },
  {
   "cell_type": "code",
   "execution_count": 95,
   "metadata": {},
   "outputs": [
    {
     "data": {
      "image/png": "[encoded data removed]",
      "text/plain": [
       "<Figure size 1000x600 with 1 Axes>"
      ]
     },
     "metadata": {},
     "output_type": "display_data"
    }
   ],
   "source": [
    "import matplotlib.pyplot as plt\n",
    "\n",
    "# Top communes and their densities\n",
    "top_communes = top_combinations\n",
    "densities = top_densities\n",
    "\n",
    "# Plotting\n",
    "plt.figure(figsize=(10, 6))\n",
    "plt.barh(range(len(top_communes)), densities, color='skyblue')\n",
    "plt.yticks(range(len(top_communes)), [f\"{'-'.join(commune)}: {density}%\" for commune, density in zip(top_communes, densities)])\n",
    "plt.xlabel('Density of Elderly People (%)')\n",
    "plt.title('Top Communes with Highest Density of Elderly People in Normandy')\n",
    "plt.gca().invert_yaxis()  # Invert y-axis to have the highest density at the top\n",
    "plt.grid(axis='x', linestyle='--', alpha=0.7)\n",
    "\n",
    "# Display the plot\n",
    "plt.tight_layout()\n",
    "plt.show()\n"
   ]
  },
  {
   "cell_type": "code",
   "execution_count": 105,
   "metadata": {},
   "outputs": [],
   "source": [
    "# Flatten the list of lists and convert to set to get unique values\n",
    "unique_area_codes = set(code for sublist in top_communes for code in sublist)\n",
    "\n",
    "# Convert the set back to a list if necessary\n",
    "unique_area_codes_list = list(unique_area_codes)"
   ]
  },
  {
   "cell_type": "code",
   "execution_count": 106,
   "metadata": {},
   "outputs": [],
   "source": [
    "df_codes = pd.read_csv('data/code_postal_code_insee_2015public.csv', sep=\";\")"
   ]
  },
  {
   "cell_type": "code",
   "execution_count": 107,
   "metadata": {},
   "outputs": [
    {
     "name": "stderr",
     "output_type": "stream",
     "text": [
      "/var/folders/gf/krd86t8n5cqdjlrv032x5d_h0000gn/T/ipykernel_78956/2190508749.py:17: SettingWithCopyWarning:\n",
      "\n",
      "\n",
      "A value is trying to be set on a copy of a slice from a DataFrame.\n",
      "Try using .loc[row_indexer,col_indexer] = value instead\n",
      "\n",
      "See the caveats in the documentation: https://pandas.pydata.org/pandas-docs/stable/user_guide/indexing.html#returning-a-view-versus-a-copy\n",
      "\n",
      "/var/folders/gf/krd86t8n5cqdjlrv032x5d_h0000gn/T/ipykernel_78956/2190508749.py:17: SettingWithCopyWarning:\n",
      "\n",
      "\n",
      "A value is trying to be set on a copy of a slice from a DataFrame.\n",
      "Try using .loc[row_indexer,col_indexer] = value instead\n",
      "\n",
      "See the caveats in the documentation: https://pandas.pydata.org/pandas-docs/stable/user_guide/indexing.html#returning-a-view-versus-a-copy\n",
      "\n"
     ]
    },
    {
     "data": {
      "application/vnd.plotly.v1+json": {
       "config": {
        "plotlyServerURL": "https://plot.ly"
       },
       "data": [
        {
         "customdata": [
          [
           199
          ],
          [
           29
          ],
          [
           27
          ],
          [
           197
          ],
          [
           197
          ],
          [
           28
          ],
          [
           31
          ],
          [
           197
          ],
          [
           200
          ],
          [
           32
          ],
          [
           197
          ],
          [
           26
          ],
          [
           30
          ],
          [
           196
          ],
          [
           34
          ],
          [
           197
          ],
          [
           197
          ],
          [
           33
          ],
          [
           198
          ]
         ],
         "hovertemplate": "<b>%{hovertext}</b><br><br>latitude=%{lat}<br>longitude=%{lon}<br>CODE_COM=%{customdata[0]}<extra></extra>",
         "hovertext": [
          "GENETS",
          "BARENTON",
          "BACILLY",
          "GAVRAY",
          "GAVRAY",
          "LA BALEINE",
          "BARNEVILLE-CARTERET",
          "GAVRAY",
          "GER",
          "LA BARRE-DE-SEMILLY",
          "GAVRAY",
          "AZEVILLE",
          "BARFLEUR",
          "GATTEVILLE-LE-PHARE",
          "BAUDRE",
          "GAVRAY",
          "GAVRAY",
          "BAUBIGNY",
          "GEFFOSSES"
         ],
         "lat": [
          48.6891863489789,
          48.608131168760764,
          48.704824299257574,
          48.902394124373444,
          48.902394124373444,
          48.92419679022953,
          49.38075285872612,
          48.902394124373444,
          48.671714530453485,
          49.10603710109793,
          48.902394124373444,
          49.45727894479482,
          49.66837718467875,
          49.68019319412698,
          49.08749715861777,
          48.902394124373444,
          48.902394124373444,
          49.427878713347695,
          49.12954058048648
         ],
         "legendgroup": "",
         "lon": [
          -1.4734313676491115,
          -0.8305211994220818,
          -1.4329643996778123,
          -1.3303482441097905,
          -1.3303482441097905,
          -1.3015237258666243,
          -1.7702761690799542,
          -1.3303482441097905,
          -0.8037164923133999,
          -1.0172870064700896,
          -1.3303482441097905,
          -1.3127725951000841,
          -1.264792604286769,
          -1.2901275967235497,
          -1.070769249242964,
          -1.3303482441097905,
          -1.3303482441097905,
          -1.8066691305826492,
          -1.5508358306338679
         ],
         "marker": {
          "color": "#636efa"
         },
         "mode": "markers",
         "name": "",
         "showlegend": false,
         "subplot": "mapbox",
         "type": "scattermapbox"
        }
       ],
       "layout": {
        "height": 600,
        "legend": {
         "tracegroupgap": 0
        },
        "mapbox": {
         "center": {
          "lat": 49.049998611568284,
          "lon": -1.310935622721458
         },
         "domain": {
          "x": [
           0,
           1
          ],
          "y": [
           0,
           1
          ]
         },
         "style": "carto-positron",
         "zoom": 8
        },
        "margin": {
         "b": 0,
         "l": 0,
         "r": 0,
         "t": 0
        },
        "template": {
         "data": {
          "bar": [
           {
            "error_x": {
             "color": "#2a3f5f"
            },
            "error_y": {
             "color": "#2a3f5f"
            },
            "marker": {
             "line": {
              "color": "#E5ECF6",
              "width": 0.5
             },
             "pattern": {
              "fillmode": "overlay",
              "size": 10,
              "solidity": 0.2
             }
            },
            "type": "bar"
           }
          ],
          "barpolar": [
           {
            "marker": {
             "line": {
              "color": "#E5ECF6",
              "width": 0.5
             },
             "pattern": {
              "fillmode": "overlay",
              "size": 10,
              "solidity": 0.2
             }
            },
            "type": "barpolar"
           }
          ],
          "carpet": [
           {
            "aaxis": {
             "endlinecolor": "#2a3f5f",
             "gridcolor": "white",
             "linecolor": "white",
             "minorgridcolor": "white",
             "startlinecolor": "#2a3f5f"
            },
            "baxis": {
             "endlinecolor": "#2a3f5f",
             "gridcolor": "white",
             "linecolor": "white",
             "minorgridcolor": "white",
             "startlinecolor": "#2a3f5f"
            },
            "type": "carpet"
           }
          ],
          "choropleth": [
           {
            "colorbar": {
             "outlinewidth": 0,
             "ticks": ""
            },
            "type": "choropleth"
           }
          ],
          "contour": [
           {
            "colorbar": {
             "outlinewidth": 0,
             "ticks": ""
            },
            "colorscale": [
             [
              0,
              "#0d0887"
             ],
             [
              0.1111111111111111,
              "#46039f"
             ],
             [
              0.2222222222222222,
              "#7201a8"
             ],
             [
              0.3333333333333333,
              "#9c179e"
             ],
             [
              0.4444444444444444,
              "#bd3786"
             ],
             [
              0.5555555555555556,
              "#d8576b"
             ],
             [
              0.6666666666666666,
              "#ed7953"
             ],
             [
              0.7777777777777778,
              "#fb9f3a"
             ],
             [
              0.8888888888888888,
              "#fdca26"
             ],
             [
              1,
              "#f0f921"
             ]
            ],
            "type": "contour"
           }
          ],
          "contourcarpet": [
           {
            "colorbar": {
             "outlinewidth": 0,
             "ticks": ""
            },
            "type": "contourcarpet"
           }
          ],
          "heatmap": [
           {
            "colorbar": {
             "outlinewidth": 0,
             "ticks": ""
            },
            "colorscale": [
             [
              0,
              "#0d0887"
             ],
             [
              0.1111111111111111,
              "#46039f"
             ],
             [
              0.2222222222222222,
              "#7201a8"
             ],
             [
              0.3333333333333333,
              "#9c179e"
             ],
             [
              0.4444444444444444,
              "#bd3786"
             ],
             [
              0.5555555555555556,
              "#d8576b"
             ],
             [
              0.6666666666666666,
              "#ed7953"
             ],
             [
              0.7777777777777778,
              "#fb9f3a"
             ],
             [
              0.8888888888888888,
              "#fdca26"
             ],
             [
              1,
              "#f0f921"
             ]
            ],
            "type": "heatmap"
           }
          ],
          "heatmapgl": [
           {
            "colorbar": {
             "outlinewidth": 0,
             "ticks": ""
            },
            "colorscale": [
             [
              0,
              "#0d0887"
             ],
             [
              0.1111111111111111,
              "#46039f"
             ],
             [
              0.2222222222222222,
              "#7201a8"
             ],
             [
              0.3333333333333333,
              "#9c179e"
             ],
             [
              0.4444444444444444,
              "#bd3786"
             ],
             [
              0.5555555555555556,
              "#d8576b"
             ],
             [
              0.6666666666666666,
              "#ed7953"
             ],
             [
              0.7777777777777778,
              "#fb9f3a"
             ],
             [
              0.8888888888888888,
              "#fdca26"
             ],
             [
              1,
              "#f0f921"
             ]
            ],
            "type": "heatmapgl"
           }
          ],
          "histogram": [
           {
            "marker": {
             "pattern": {
              "fillmode": "overlay",
              "size": 10,
              "solidity": 0.2
             }
            },
            "type": "histogram"
           }
          ],
          "histogram2d": [
           {
            "colorbar": {
             "outlinewidth": 0,
             "ticks": ""
            },
            "colorscale": [
             [
              0,
              "#0d0887"
             ],
             [
              0.1111111111111111,
              "#46039f"
             ],
             [
              0.2222222222222222,
              "#7201a8"
             ],
             [
              0.3333333333333333,
              "#9c179e"
             ],
             [
              0.4444444444444444,
              "#bd3786"
             ],
             [
              0.5555555555555556,
              "#d8576b"
             ],
             [
              0.6666666666666666,
              "#ed7953"
             ],
             [
              0.7777777777777778,
              "#fb9f3a"
             ],
             [
              0.8888888888888888,
              "#fdca26"
             ],
             [
              1,
              "#f0f921"
             ]
            ],
            "type": "histogram2d"
           }
          ],
          "histogram2dcontour": [
           {
            "colorbar": {
             "outlinewidth": 0,
             "ticks": ""
            },
            "colorscale": [
             [
              0,
              "#0d0887"
             ],
             [
              0.1111111111111111,
              "#46039f"
             ],
             [
              0.2222222222222222,
              "#7201a8"
             ],
             [
              0.3333333333333333,
              "#9c179e"
             ],
             [
              0.4444444444444444,
              "#bd3786"
             ],
             [
              0.5555555555555556,
              "#d8576b"
             ],
             [
              0.6666666666666666,
              "#ed7953"
             ],
             [
              0.7777777777777778,
              "#fb9f3a"
             ],
             [
              0.8888888888888888,
              "#fdca26"
             ],
             [
              1,
              "#f0f921"
             ]
            ],
            "type": "histogram2dcontour"
           }
          ],
          "mesh3d": [
           {
            "colorbar": {
             "outlinewidth": 0,
             "ticks": ""
            },
            "type": "mesh3d"
           }
          ],
          "parcoords": [
           {
            "line": {
             "colorbar": {
              "outlinewidth": 0,
              "ticks": ""
             }
            },
            "type": "parcoords"
           }
          ],
          "pie": [
           {
            "automargin": true,
            "type": "pie"
           }
          ],
          "scatter": [
           {
            "fillpattern": {
             "fillmode": "overlay",
             "size": 10,
             "solidity": 0.2
            },
            "type": "scatter"
           }
          ],
          "scatter3d": [
           {
            "line": {
             "colorbar": {
              "outlinewidth": 0,
              "ticks": ""
             }
            },
            "marker": {
             "colorbar": {
              "outlinewidth": 0,
              "ticks": ""
             }
            },
            "type": "scatter3d"
           }
          ],
          "scattercarpet": [
           {
            "marker": {
             "colorbar": {
              "outlinewidth": 0,
              "ticks": ""
             }
            },
            "type": "scattercarpet"
           }
          ],
          "scattergeo": [
           {
            "marker": {
             "colorbar": {
              "outlinewidth": 0,
              "ticks": ""
             }
            },
            "type": "scattergeo"
           }
          ],
          "scattergl": [
           {
            "marker": {
             "colorbar": {
              "outlinewidth": 0,
              "ticks": ""
             }
            },
            "type": "scattergl"
           }
          ],
          "scattermapbox": [
           {
            "marker": {
             "colorbar": {
              "outlinewidth": 0,
              "ticks": ""
             }
            },
            "type": "scattermapbox"
           }
          ],
          "scatterpolar": [
           {
            "marker": {
             "colorbar": {
              "outlinewidth": 0,
              "ticks": ""
             }
            },
            "type": "scatterpolar"
           }
          ],
          "scatterpolargl": [
           {
            "marker": {
             "colorbar": {
              "outlinewidth": 0,
              "ticks": ""
             }
            },
            "type": "scatterpolargl"
           }
          ],
          "scatterternary": [
           {
            "marker": {
             "colorbar": {
              "outlinewidth": 0,
              "ticks": ""
             }
            },
            "type": "scatterternary"
           }
          ],
          "surface": [
           {
            "colorbar": {
             "outlinewidth": 0,
             "ticks": ""
            },
            "colorscale": [
             [
              0,
              "#0d0887"
             ],
             [
              0.1111111111111111,
              "#46039f"
             ],
             [
              0.2222222222222222,
              "#7201a8"
             ],
             [
              0.3333333333333333,
              "#9c179e"
             ],
             [
              0.4444444444444444,
              "#bd3786"
             ],
             [
              0.5555555555555556,
              "#d8576b"
             ],
             [
              0.6666666666666666,
              "#ed7953"
             ],
             [
              0.7777777777777778,
              "#fb9f3a"
             ],
             [
              0.8888888888888888,
              "#fdca26"
             ],
             [
              1,
              "#f0f921"
             ]
            ],
            "type": "surface"
           }
          ],
          "table": [
           {
            "cells": {
             "fill": {
              "color": "#EBF0F8"
             },
             "line": {
              "color": "white"
             }
            },
            "header": {
             "fill": {
              "color": "#C8D4E3"
             },
             "line": {
              "color": "white"
             }
            },
            "type": "table"
           }
          ]
         },
         "layout": {
          "annotationdefaults": {
           "arrowcolor": "#2a3f5f",
           "arrowhead": 0,
           "arrowwidth": 1
          },
          "autotypenumbers": "strict",
          "coloraxis": {
           "colorbar": {
            "outlinewidth": 0,
            "ticks": ""
           }
          },
          "colorscale": {
           "diverging": [
            [
             0,
             "#8e0152"
            ],
            [
             0.1,
             "#c51b7d"
            ],
            [
             0.2,
             "#de77ae"
            ],
            [
             0.3,
             "#f1b6da"
            ],
            [
             0.4,
             "#fde0ef"
            ],
            [
             0.5,
             "#f7f7f7"
            ],
            [
             0.6,
             "#e6f5d0"
            ],
            [
             0.7,
             "#b8e186"
            ],
            [
             0.8,
             "#7fbc41"
            ],
            [
             0.9,
             "#4d9221"
            ],
            [
             1,
             "#276419"
            ]
           ],
           "sequential": [
            [
             0,
             "#0d0887"
            ],
            [
             0.1111111111111111,
             "#46039f"
            ],
            [
             0.2222222222222222,
             "#7201a8"
            ],
            [
             0.3333333333333333,
             "#9c179e"
            ],
            [
             0.4444444444444444,
             "#bd3786"
            ],
            [
             0.5555555555555556,
             "#d8576b"
            ],
            [
             0.6666666666666666,
             "#ed7953"
            ],
            [
             0.7777777777777778,
             "#fb9f3a"
            ],
            [
             0.8888888888888888,
             "#fdca26"
            ],
            [
             1,
             "#f0f921"
            ]
           ],
           "sequentialminus": [
            [
             0,
             "#0d0887"
            ],
            [
             0.1111111111111111,
             "#46039f"
            ],
            [
             0.2222222222222222,
             "#7201a8"
            ],
            [
             0.3333333333333333,
             "#9c179e"
            ],
            [
             0.4444444444444444,
             "#bd3786"
            ],
            [
             0.5555555555555556,
             "#d8576b"
            ],
            [
             0.6666666666666666,
             "#ed7953"
            ],
            [
             0.7777777777777778,
             "#fb9f3a"
            ],
            [
             0.8888888888888888,
             "#fdca26"
            ],
            [
             1,
             "#f0f921"
            ]
           ]
          },
          "colorway": [
           "#636efa",
           "#EF553B",
           "#00cc96",
           "#ab63fa",
           "#FFA15A",
           "#19d3f3",
           "#FF6692",
           "#B6E880",
           "#FF97FF",
           "#FECB52"
          ],
          "font": {
           "color": "#2a3f5f"
          },
          "geo": {
           "bgcolor": "white",
           "lakecolor": "white",
           "landcolor": "#E5ECF6",
           "showlakes": true,
           "showland": true,
           "subunitcolor": "white"
          },
          "hoverlabel": {
           "align": "left"
          },
          "hovermode": "closest",
          "mapbox": {
           "style": "light"
          },
          "paper_bgcolor": "white",
          "plot_bgcolor": "#E5ECF6",
          "polar": {
           "angularaxis": {
            "gridcolor": "white",
            "linecolor": "white",
            "ticks": ""
           },
           "bgcolor": "#E5ECF6",
           "radialaxis": {
            "gridcolor": "white",
            "linecolor": "white",
            "ticks": ""
           }
          },
          "scene": {
           "xaxis": {
            "backgroundcolor": "#E5ECF6",
            "gridcolor": "white",
            "gridwidth": 2,
            "linecolor": "white",
            "showbackground": true,
            "ticks": "",
            "zerolinecolor": "white"
           },
           "yaxis": {
            "backgroundcolor": "#E5ECF6",
            "gridcolor": "white",
            "gridwidth": 2,
            "linecolor": "white",
            "showbackground": true,
            "ticks": "",
            "zerolinecolor": "white"
           },
           "zaxis": {
            "backgroundcolor": "#E5ECF6",
            "gridcolor": "white",
            "gridwidth": 2,
            "linecolor": "white",
            "showbackground": true,
            "ticks": "",
            "zerolinecolor": "white"
           }
          },
          "shapedefaults": {
           "line": {
            "color": "#2a3f5f"
           }
          },
          "ternary": {
           "aaxis": {
            "gridcolor": "white",
            "linecolor": "white",
            "ticks": ""
           },
           "baxis": {
            "gridcolor": "white",
            "linecolor": "white",
            "ticks": ""
           },
           "bgcolor": "#E5ECF6",
           "caxis": {
            "gridcolor": "white",
            "linecolor": "white",
            "ticks": ""
           }
          },
          "title": {
           "x": 0.05
          },
          "xaxis": {
           "automargin": true,
           "gridcolor": "white",
           "linecolor": "white",
           "ticks": "",
           "title": {
            "standoff": 15
           },
           "zerolinecolor": "white",
           "zerolinewidth": 2
          },
          "yaxis": {
           "automargin": true,
           "gridcolor": "white",
           "linecolor": "white",
           "ticks": "",
           "title": {
            "standoff": 15
           },
           "zerolinecolor": "white",
           "zerolinewidth": 2
          }
         }
        }
       }
      },
      "text/html": [
       "<div>                            <div id=\"3f30f4e5-304b-4730-ba0f-6146f6f42060\" class=\"plotly-graph-div\" style=\"height:600px; width:100%;\"></div>            <script type=\"text/javascript\">                require([\"plotly\"], function(Plotly) {                    window.PLOTLYENV=window.PLOTLYENV || {};                                    if (document.getElementById(\"3f30f4e5-304b-4730-ba0f-6146f6f42060\")) {                    Plotly.newPlot(                        \"3f30f4e5-304b-4730-ba0f-6146f6f42060\",                        [{\"customdata\":[[199],[29],[27],[197],[197],[28],[31],[197],[200],[32],[197],[26],[30],[196],[34],[197],[197],[33],[198]],\"hovertemplate\":\"<b>%{hovertext}</b><br><br>latitude=%{lat}<br>longitude=%{lon}<br>CODE_COM=%{customdata[0]}<extra></extra>\",\"hovertext\":[\"GENETS\",\"BARENTON\",\"BACILLY\",\"GAVRAY\",\"GAVRAY\",\"LA BALEINE\",\"BARNEVILLE-CARTERET\",\"GAVRAY\",\"GER\",\"LA BARRE-DE-SEMILLY\",\"GAVRAY\",\"AZEVILLE\",\"BARFLEUR\",\"GATTEVILLE-LE-PHARE\",\"BAUDRE\",\"GAVRAY\",\"GAVRAY\",\"BAUBIGNY\",\"GEFFOSSES\"],\"lat\":[48.6891863489789,48.608131168760764,48.704824299257574,48.902394124373444,48.902394124373444,48.92419679022953,49.38075285872612,48.902394124373444,48.671714530453485,49.10603710109793,48.902394124373444,49.45727894479482,49.66837718467875,49.68019319412698,49.08749715861777,48.902394124373444,48.902394124373444,49.427878713347695,49.12954058048648],\"legendgroup\":\"\",\"lon\":[-1.4734313676491115,-0.8305211994220818,-1.4329643996778123,-1.3303482441097905,-1.3303482441097905,-1.3015237258666243,-1.7702761690799542,-1.3303482441097905,-0.8037164923133999,-1.0172870064700896,-1.3303482441097905,-1.3127725951000841,-1.264792604286769,-1.2901275967235497,-1.070769249242964,-1.3303482441097905,-1.3303482441097905,-1.8066691305826492,-1.5508358306338679],\"marker\":{\"color\":\"#636efa\"},\"mode\":\"markers\",\"name\":\"\",\"showlegend\":false,\"subplot\":\"mapbox\",\"type\":\"scattermapbox\"}],                        {\"template\":{\"data\":{\"histogram2dcontour\":[{\"type\":\"histogram2dcontour\",\"colorbar\":{\"outlinewidth\":0,\"ticks\":\"\"},\"colorscale\":[[0.0,\"#0d0887\"],[0.1111111111111111,\"#46039f\"],[0.2222222222222222,\"#7201a8\"],[0.3333333333333333,\"#9c179e\"],[0.4444444444444444,\"#bd3786\"],[0.5555555555555556,\"#d8576b\"],[0.6666666666666666,\"#ed7953\"],[0.7777777777777778,\"#fb9f3a\"],[0.8888888888888888,\"#fdca26\"],[1.0,\"#f0f921\"]]}],\"choropleth\":[{\"type\":\"choropleth\",\"colorbar\":{\"outlinewidth\":0,\"ticks\":\"\"}}],\"histogram2d\":[{\"type\":\"histogram2d\",\"colorbar\":{\"outlinewidth\":0,\"ticks\":\"\"},\"colorscale\":[[0.0,\"#0d0887\"],[0.1111111111111111,\"#46039f\"],[0.2222222222222222,\"#7201a8\"],[0.3333333333333333,\"#9c179e\"],[0.4444444444444444,\"#bd3786\"],[0.5555555555555556,\"#d8576b\"],[0.6666666666666666,\"#ed7953\"],[0.7777777777777778,\"#fb9f3a\"],[0.8888888888888888,\"#fdca26\"],[1.0,\"#f0f921\"]]}],\"heatmap\":[{\"type\":\"heatmap\",\"colorbar\":{\"outlinewidth\":0,\"ticks\":\"\"},\"colorscale\":[[0.0,\"#0d0887\"],[0.1111111111111111,\"#46039f\"],[0.2222222222222222,\"#7201a8\"],[0.3333333333333333,\"#9c179e\"],[0.4444444444444444,\"#bd3786\"],[0.5555555555555556,\"#d8576b\"],[0.6666666666666666,\"#ed7953\"],[0.7777777777777778,\"#fb9f3a\"],[0.8888888888888888,\"#fdca26\"],[1.0,\"#f0f921\"]]}],\"heatmapgl\":[{\"type\":\"heatmapgl\",\"colorbar\":{\"outlinewidth\":0,\"ticks\":\"\"},\"colorscale\":[[0.0,\"#0d0887\"],[0.1111111111111111,\"#46039f\"],[0.2222222222222222,\"#7201a8\"],[0.3333333333333333,\"#9c179e\"],[0.4444444444444444,\"#bd3786\"],[0.5555555555555556,\"#d8576b\"],[0.6666666666666666,\"#ed7953\"],[0.7777777777777778,\"#fb9f3a\"],[0.8888888888888888,\"#fdca26\"],[1.0,\"#f0f921\"]]}],\"contourcarpet\":[{\"type\":\"contourcarpet\",\"colorbar\":{\"outlinewidth\":0,\"ticks\":\"\"}}],\"contour\":[{\"type\":\"contour\",\"colorbar\":{\"outlinewidth\":0,\"ticks\":\"\"},\"colorscale\":[[0.0,\"#0d0887\"],[0.1111111111111111,\"#46039f\"],[0.2222222222222222,\"#7201a8\"],[0.3333333333333333,\"#9c179e\"],[0.4444444444444444,\"#bd3786\"],[0.5555555555555556,\"#d8576b\"],[0.6666666666666666,\"#ed7953\"],[0.7777777777777778,\"#fb9f3a\"],[0.8888888888888888,\"#fdca26\"],[1.0,\"#f0f921\"]]}],\"surface\":[{\"type\":\"surface\",\"colorbar\":{\"outlinewidth\":0,\"ticks\":\"\"},\"colorscale\":[[0.0,\"#0d0887\"],[0.1111111111111111,\"#46039f\"],[0.2222222222222222,\"#7201a8\"],[0.3333333333333333,\"#9c179e\"],[0.4444444444444444,\"#bd3786\"],[0.5555555555555556,\"#d8576b\"],[0.6666666666666666,\"#ed7953\"],[0.7777777777777778,\"#fb9f3a\"],[0.8888888888888888,\"#fdca26\"],[1.0,\"#f0f921\"]]}],\"mesh3d\":[{\"type\":\"mesh3d\",\"colorbar\":{\"outlinewidth\":0,\"ticks\":\"\"}}],\"scatter\":[{\"fillpattern\":{\"fillmode\":\"overlay\",\"size\":10,\"solidity\":0.2},\"type\":\"scatter\"}],\"parcoords\":[{\"type\":\"parcoords\",\"line\":{\"colorbar\":{\"outlinewidth\":0,\"ticks\":\"\"}}}],\"scatterpolargl\":[{\"type\":\"scatterpolargl\",\"marker\":{\"colorbar\":{\"outlinewidth\":0,\"ticks\":\"\"}}}],\"bar\":[{\"error_x\":{\"color\":\"#2a3f5f\"},\"error_y\":{\"color\":\"#2a3f5f\"},\"marker\":{\"line\":{\"color\":\"#E5ECF6\",\"width\":0.5},\"pattern\":{\"fillmode\":\"overlay\",\"size\":10,\"solidity\":0.2}},\"type\":\"bar\"}],\"scattergeo\":[{\"type\":\"scattergeo\",\"marker\":{\"colorbar\":{\"outlinewidth\":0,\"ticks\":\"\"}}}],\"scatterpolar\":[{\"type\":\"scatterpolar\",\"marker\":{\"colorbar\":{\"outlinewidth\":0,\"ticks\":\"\"}}}],\"histogram\":[{\"marker\":{\"pattern\":{\"fillmode\":\"overlay\",\"size\":10,\"solidity\":0.2}},\"type\":\"histogram\"}],\"scattergl\":[{\"type\":\"scattergl\",\"marker\":{\"colorbar\":{\"outlinewidth\":0,\"ticks\":\"\"}}}],\"scatter3d\":[{\"type\":\"scatter3d\",\"line\":{\"colorbar\":{\"outlinewidth\":0,\"ticks\":\"\"}},\"marker\":{\"colorbar\":{\"outlinewidth\":0,\"ticks\":\"\"}}}],\"scattermapbox\":[{\"type\":\"scattermapbox\",\"marker\":{\"colorbar\":{\"outlinewidth\":0,\"ticks\":\"\"}}}],\"scatterternary\":[{\"type\":\"scatterternary\",\"marker\":{\"colorbar\":{\"outlinewidth\":0,\"ticks\":\"\"}}}],\"scattercarpet\":[{\"type\":\"scattercarpet\",\"marker\":{\"colorbar\":{\"outlinewidth\":0,\"ticks\":\"\"}}}],\"carpet\":[{\"aaxis\":{\"endlinecolor\":\"#2a3f5f\",\"gridcolor\":\"white\",\"linecolor\":\"white\",\"minorgridcolor\":\"white\",\"startlinecolor\":\"#2a3f5f\"},\"baxis\":{\"endlinecolor\":\"#2a3f5f\",\"gridcolor\":\"white\",\"linecolor\":\"white\",\"minorgridcolor\":\"white\",\"startlinecolor\":\"#2a3f5f\"},\"type\":\"carpet\"}],\"table\":[{\"cells\":{\"fill\":{\"color\":\"#EBF0F8\"},\"line\":{\"color\":\"white\"}},\"header\":{\"fill\":{\"color\":\"#C8D4E3\"},\"line\":{\"color\":\"white\"}},\"type\":\"table\"}],\"barpolar\":[{\"marker\":{\"line\":{\"color\":\"#E5ECF6\",\"width\":0.5},\"pattern\":{\"fillmode\":\"overlay\",\"size\":10,\"solidity\":0.2}},\"type\":\"barpolar\"}],\"pie\":[{\"automargin\":true,\"type\":\"pie\"}]},\"layout\":{\"autotypenumbers\":\"strict\",\"colorway\":[\"#636efa\",\"#EF553B\",\"#00cc96\",\"#ab63fa\",\"#FFA15A\",\"#19d3f3\",\"#FF6692\",\"#B6E880\",\"#FF97FF\",\"#FECB52\"],\"font\":{\"color\":\"#2a3f5f\"},\"hovermode\":\"closest\",\"hoverlabel\":{\"align\":\"left\"},\"paper_bgcolor\":\"white\",\"plot_bgcolor\":\"#E5ECF6\",\"polar\":{\"bgcolor\":\"#E5ECF6\",\"angularaxis\":{\"gridcolor\":\"white\",\"linecolor\":\"white\",\"ticks\":\"\"},\"radialaxis\":{\"gridcolor\":\"white\",\"linecolor\":\"white\",\"ticks\":\"\"}},\"ternary\":{\"bgcolor\":\"#E5ECF6\",\"aaxis\":{\"gridcolor\":\"white\",\"linecolor\":\"white\",\"ticks\":\"\"},\"baxis\":{\"gridcolor\":\"white\",\"linecolor\":\"white\",\"ticks\":\"\"},\"caxis\":{\"gridcolor\":\"white\",\"linecolor\":\"white\",\"ticks\":\"\"}},\"coloraxis\":{\"colorbar\":{\"outlinewidth\":0,\"ticks\":\"\"}},\"colorscale\":{\"sequential\":[[0.0,\"#0d0887\"],[0.1111111111111111,\"#46039f\"],[0.2222222222222222,\"#7201a8\"],[0.3333333333333333,\"#9c179e\"],[0.4444444444444444,\"#bd3786\"],[0.5555555555555556,\"#d8576b\"],[0.6666666666666666,\"#ed7953\"],[0.7777777777777778,\"#fb9f3a\"],[0.8888888888888888,\"#fdca26\"],[1.0,\"#f0f921\"]],\"sequentialminus\":[[0.0,\"#0d0887\"],[0.1111111111111111,\"#46039f\"],[0.2222222222222222,\"#7201a8\"],[0.3333333333333333,\"#9c179e\"],[0.4444444444444444,\"#bd3786\"],[0.5555555555555556,\"#d8576b\"],[0.6666666666666666,\"#ed7953\"],[0.7777777777777778,\"#fb9f3a\"],[0.8888888888888888,\"#fdca26\"],[1.0,\"#f0f921\"]],\"diverging\":[[0,\"#8e0152\"],[0.1,\"#c51b7d\"],[0.2,\"#de77ae\"],[0.3,\"#f1b6da\"],[0.4,\"#fde0ef\"],[0.5,\"#f7f7f7\"],[0.6,\"#e6f5d0\"],[0.7,\"#b8e186\"],[0.8,\"#7fbc41\"],[0.9,\"#4d9221\"],[1,\"#276419\"]]},\"xaxis\":{\"gridcolor\":\"white\",\"linecolor\":\"white\",\"ticks\":\"\",\"title\":{\"standoff\":15},\"zerolinecolor\":\"white\",\"automargin\":true,\"zerolinewidth\":2},\"yaxis\":{\"gridcolor\":\"white\",\"linecolor\":\"white\",\"ticks\":\"\",\"title\":{\"standoff\":15},\"zerolinecolor\":\"white\",\"automargin\":true,\"zerolinewidth\":2},\"scene\":{\"xaxis\":{\"backgroundcolor\":\"#E5ECF6\",\"gridcolor\":\"white\",\"linecolor\":\"white\",\"showbackground\":true,\"ticks\":\"\",\"zerolinecolor\":\"white\",\"gridwidth\":2},\"yaxis\":{\"backgroundcolor\":\"#E5ECF6\",\"gridcolor\":\"white\",\"linecolor\":\"white\",\"showbackground\":true,\"ticks\":\"\",\"zerolinecolor\":\"white\",\"gridwidth\":2},\"zaxis\":{\"backgroundcolor\":\"#E5ECF6\",\"gridcolor\":\"white\",\"linecolor\":\"white\",\"showbackground\":true,\"ticks\":\"\",\"zerolinecolor\":\"white\",\"gridwidth\":2}},\"shapedefaults\":{\"line\":{\"color\":\"#2a3f5f\"}},\"annotationdefaults\":{\"arrowcolor\":\"#2a3f5f\",\"arrowhead\":0,\"arrowwidth\":1},\"geo\":{\"bgcolor\":\"white\",\"landcolor\":\"#E5ECF6\",\"subunitcolor\":\"white\",\"showland\":true,\"showlakes\":true,\"lakecolor\":\"white\"},\"title\":{\"x\":0.05},\"mapbox\":{\"style\":\"light\"}}},\"mapbox\":{\"domain\":{\"x\":[0.0,1.0],\"y\":[0.0,1.0]},\"center\":{\"lat\":49.049998611568284,\"lon\":-1.310935622721458},\"zoom\":8,\"style\":\"carto-positron\"},\"legend\":{\"tracegroupgap\":0},\"margin\":{\"t\":0,\"r\":0,\"l\":0,\"b\":0},\"height\":600},                        {\"responsive\": true}                    ).then(function(){\n",
       "                            \n",
       "var gd = document.getElementById('3f30f4e5-304b-4730-ba0f-6146f6f42060');\n",
       "var x = new MutationObserver(function (mutations, observer) {{\n",
       "        var display = window.getComputedStyle(gd).display;\n",
       "        if (!display || display === 'none') {{\n",
       "            console.log([gd, 'removed!']);\n",
       "            Plotly.purge(gd);\n",
       "            observer.disconnect();\n",
       "        }}\n",
       "}});\n",
       "\n",
       "// Listen for the removal of the full notebook cells\n",
       "var notebookContainer = gd.closest('#notebook-container');\n",
       "if (notebookContainer) {{\n",
       "    x.observe(notebookContainer, {childList: true});\n",
       "}}\n",
       "\n",
       "// Listen for the clearing of the current output cell\n",
       "var outputEl = gd.closest('.output');\n",
       "if (outputEl) {{\n",
       "    x.observe(outputEl, {childList: true});\n",
       "}}\n",
       "\n",
       "                        })                };                });            </script>        </div>"
      ]
     },
     "metadata": {},
     "output_type": "display_data"
    }
   ],
   "source": [
    "import pandas as pd\n",
    "import plotly.express as px\n",
    "\n",
    "# Flatten the list of lists and convert to set to get unique values\n",
    "unique_area_codes = set(code for sublist in top_communes for code in sublist)\n",
    "\n",
    "# Convert the set back to a list if necessary\n",
    "unique_area_codes_list = list(unique_area_codes)\n",
    "\n",
    "# Load the dataset containing the coordinates\n",
    "df_codes = pd.read_csv('data/code_postal_code_insee_2015public.csv', sep=\";\")\n",
    "\n",
    "# Filter the dataset to include only the selected area codes\n",
    "df_codes_top = df_codes[df_codes['INSEE_COM'].isin(unique_area_codes_list)]\n",
    "\n",
    "# Split 'Geo Point' column into separate latitude and longitude columns\n",
    "df_codes_top[['latitude', 'longitude']] = df_codes_top['Geo Point'].str.split(', ', expand=True).astype(float)\n",
    "\n",
    "# Create a scatter map plot using Plotly Express\n",
    "fig = px.scatter_mapbox(df_codes_top, lat=\"latitude\", lon=\"longitude\", \n",
    "                        hover_name=\"NOM_COM\", hover_data=[\"CODE_COM\"],\n",
    "                        zoom=8, height=600)\n",
    "\n",
    "# Customize the map layout\n",
    "fig.update_layout(mapbox_style=\"carto-positron\",\n",
    "                  margin={\"r\":0,\"t\":0,\"l\":0,\"b\":0})\n",
    "\n",
    "# Show the map\n",
    "fig.show()\n"
   ]
  },
  {
   "cell_type": "code",
   "execution_count": null,
   "metadata": {},
   "outputs": [],
   "source": []
  },
  {
   "cell_type": "code",
   "execution_count": null,
   "metadata": {},
   "outputs": [],
   "source": []
  },
  {
   "cell_type": "code",
   "execution_count": null,
   "metadata": {},
   "outputs": [],
   "source": []
  },
  {
   "cell_type": "code",
   "execution_count": null,
   "metadata": {},
   "outputs": [],
   "source": []
  },
  {
   "cell_type": "code",
   "execution_count": null,
   "metadata": {},
   "outputs": [],
   "source": []
  },
  {
   "cell_type": "code",
   "execution_count": null,
   "metadata": {},
   "outputs": [],
   "source": []
  }
 ],
 "metadata": {
  "kernelspec": {
   "display_name": "Python 3 (ipykernel)",
   "language": "python",
   "name": "python3"
  },
  "language_info": {
   "codemirror_mode": {
    "name": "ipython",
    "version": 3
   },
   "file_extension": ".py",
   "mimetype": "text/x-python",
   "name": "python",
   "nbconvert_exporter": "python",
   "pygments_lexer": "ipython3",
   "version": "3.11.5"
  }
 },
 "nbformat": 4,
 "nbformat_minor": 2
}
